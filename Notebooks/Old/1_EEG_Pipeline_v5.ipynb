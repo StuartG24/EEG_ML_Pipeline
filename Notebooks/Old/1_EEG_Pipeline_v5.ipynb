{
 "cells": [
  {
   "cell_type": "markdown",
   "id": "688d7221",
   "metadata": {},
   "source": [
    "# EEG Dataset Processing Pipeline\n",
    "\n",
    "Scope:\n",
    "- Process a raw EEG dataset \n",
    "- Dataset containing the results of an EEG study on multiple subjects\n",
    "- Dataset that has been downloaded from OpenNeuro, and structured as per the BIDS standard, and in EEGLab '.set' format\n",
    "\n",
    "Parameters:\n",
    "- Defined as part of the Study Class\n",
    "\n",
    "The Pipeline Stages (For each subject in an EEG study dataset):\n",
    "- EEG Dataset Load - Get the raw source EEG signal data\n",
    "- EEG Preprocessing - Execute filtering etc of the raw EEG time series data\n",
    "- Power Spectra (PSD) Calculate - Calculate the power spectra, for all channels recorded\n",
    "- Spectral Parameterisation - Determine the best fitting Aperiodic and Periodic components\n",
    "- Features Set - Collate & save the study, subject and EEG data into a features set, Pandas Dataframe\n"
   ]
  },
  {
   "cell_type": "markdown",
   "id": "70e0ff23",
   "metadata": {},
   "source": [
    "## TO DO - To Review\n",
    "\n",
    "Projects:\n",
    "- Perplexity project: https://www.perplexity.ai/search/i-am-building-a-pipeline-in-py-sVmw70rHQXa0VKkIT_p5tg?0=r\n",
    "- Python Handbook: https://github.com/ZitongLu1996/Python-EEG-Handbook/tree/master"
   ]
  },
  {
   "cell_type": "markdown",
   "id": "f709683a",
   "metadata": {},
   "source": [
    "## Dependencies\n",
    "\n",
    "General dependencies:\n",
    "- python = 3.11.13\n",
    "- numpy = 2.0.2\n",
    "- scipy = 1.15.3\n",
    "- pandas = 2.2.3\n",
    "- matplotlib = 3.10.3\n",
    "\n",
    "ML dependencies:\n",
    "- scikit-learn = 1.6.1\n",
    "\n",
    "EEG specific dependencies:\n",
    "- mne = 1.9.0\n",
    "- mne-icalabel = 0.7.0\n",
    "- specparam = 2.0.0rc3"
   ]
  },
  {
   "cell_type": "markdown",
   "id": "ac45d163",
   "metadata": {},
   "source": [
    "## Python-MNE\n",
    "\n",
    "Used for Import:\n",
    "- MNE-Python: https://mne.tools/stable/index.html\n",
    "- The Brain Imaging Data Structure (BIDS): https://bids.neuroimaging.io\n",
    "\n",
    "EEG Data Format for Processing:\n",
    "- In FIF format (Functional Image File Format): https://www.perplexity.ai/search/having-read-some-eeg-data-usin-70hxIA1KSZu6VdV.MfLY_A\n",
    "\n",
    "Used for Power Spectrum Calculate\n",
    "- MNE vs NeuroDSP: https://www.perplexity.ai/search/using-python-which-package-is-zOoiPqUvTnKbO.QfgmPsJQ\n",
    "\n",
    "Formats:\n",
    "- Assumes OpenNeuro, BIDS compliant datasets manually downloaded into the defined folders structure\n",
    "- Assumes EEGLab '.set' format\n"
   ]
  },
  {
   "cell_type": "markdown",
   "id": "715ca81d",
   "metadata": {},
   "source": [
    "## Spectral Parameterisation\n",
    "\n",
    "Spectral Parameterisation:\n",
    "- The Aperiodic Methods project - Documentation: https://aperiodicmethods.github.io/docs/index.html and Repo: in https://github.com/AperiodicMethods/AperiodicMethods\n",
    "- And cite: https://www.biorxiv.org/content/10.1101/2024.09.15.613114v1\n",
    "\n",
    "Documentation:\n",
    "- SpecParam: https://specparam-tools.github.io and https://github.com/fooof-tools\n",
    "- FOOOF: https://fooof-tools.github.io/fooof/ and https://github.com/fooof-tools/fooof\n",
    "\n",
    "FOOOF vs SpecPram:\n",
    "- FOOOF: More stable and used but deprecated\n",
    "- SpecParam: Release candidate but some improved model/fit selection: https://pmc.ncbi.nlm.nih.gov/articles/PMC11326208/\n",
    "- Summary: https://www.perplexity.ai/search/using-python-which-package-is-M7kzhERoTLuCrIKbXxN9sQ\n"
   ]
  },
  {
   "cell_type": "markdown",
   "id": "5c5fffee",
   "metadata": {},
   "source": [
    "# Imports & Utilities"
   ]
  },
  {
   "cell_type": "code",
   "execution_count": 1,
   "id": "2d3b2cf2",
   "metadata": {},
   "outputs": [],
   "source": [
    "# Not availble through a Conda install/environment - PIP Install may be required\n",
    "# %pip install specparam\n"
   ]
  },
  {
   "cell_type": "code",
   "execution_count": 2,
   "id": "e08bef27",
   "metadata": {},
   "outputs": [
    {
     "name": "stdout",
     "output_type": "stream",
     "text": [
      "Current SpecParam version: 2.0.0rc3\n"
     ]
    }
   ],
   "source": [
    "# General imports\n",
    "import os\n",
    "import gc\n",
    "from datetime import datetime\n",
    "from pprint import pprint\n",
    "import time\n",
    "import pickle\n",
    "import random\n",
    "\n",
    "import math\n",
    "import numpy as np\n",
    "import pandas as pd\n",
    "import scipy as sci\n",
    "\n",
    "# Plots\n",
    "import matplotlib.pyplot as plt\n",
    "plt.style.use('ggplot')\n",
    "\n",
    "# MNE-Python\n",
    "import mne\n",
    "from mne.preprocessing import ICA\n",
    "from mne_icalabel import label_components\n",
    "\n",
    "# SpecParam\n",
    "from specparam import SpectralGroupModel\n",
    "from specparam.plts.spectra import plot_spectra\n",
    "\n",
    "# Check the version of SpecParam\n",
    "from specparam import __version__ as specparam_version\n",
    "print('Current SpecParam version:', specparam_version)\n"
   ]
  },
  {
   "cell_type": "code",
   "execution_count": 3,
   "id": "7cee2643",
   "metadata": {},
   "outputs": [],
   "source": [
    "# Utility function to establish relative paths for a given folder\n",
    "def get_folder_path(folder_name, data_folder='Data'):\n",
    "    project_root = os.path.dirname(os.getcwd())\n",
    "    folder_path = os.path.join(project_root, data_folder, folder_name)\n",
    "    if not os.path.isdir(folder_path):\n",
    "        raise FileNotFoundError(f'Directory not found: {folder_path}')  \n",
    "    return folder_path\n",
    "\n",
    "# Utility function to create a new folder path, if not exists\n",
    "def make_folder_path(folder_name, data_folder='Data', exists_ok=True):\n",
    "    project_root = os.path.dirname(os.getcwd())\n",
    "    folder_path = os.path.join(project_root, data_folder, folder_name)\n",
    "    if os.path.exists(folder_path):\n",
    "        if not exists_ok:\n",
    "            raise FileExistsError(f\"Directory already exists: {folder_path}\")\n",
    "    else:\n",
    "        os.makedirs(folder_path)\n",
    "    return folder_path\n",
    "\n",
    " # Utility function to extend an existing folder path with a subfolder\n",
    "def extend_folder_path(base_folder, subfolder, exists_ok=True):\n",
    "    if not os.path.isdir(base_folder):\n",
    "        raise FileNotFoundError(f'Parent directory not found: {base_folder}')\n",
    "    extended_path = os.path.join(base_folder, subfolder)\n",
    "    if os.path.exists(extended_path):\n",
    "        if not exists_ok:\n",
    "            raise FileExistsError(f\"Directory already exists: {extended_path}\")\n",
    "    else:\n",
    "        os.makedirs(extended_path)\n",
    "    return extended_path\n",
    "\n",
    "# Utility function to check for the existence of a file in a given folder\n",
    "def get_file_path(folder, file_name):\n",
    "    file_path = os.path.join(folder, file_name)\n",
    "    if not os.path.isfile(file_path):\n",
    "        raise FileNotFoundError(f'File not found: {file_path}')\n",
    "    return file_path\n"
   ]
  },
  {
   "cell_type": "markdown",
   "id": "9730c713",
   "metadata": {},
   "source": [
    "# Classes & Functions"
   ]
  },
  {
   "cell_type": "markdown",
   "id": "69e96ddc",
   "metadata": {},
   "source": [
    "## Get Raw EEG data"
   ]
  },
  {
   "cell_type": "code",
   "execution_count": 4,
   "id": "6f02c6d2",
   "metadata": {},
   "outputs": [],
   "source": [
    "# Function to get the raw EEG signal data\n",
    "def get_EEG_raw(dataset_path, subject_id):\n",
    "    \"\"\"\n",
    "    Get raw EEG data.\n",
    "\n",
    "    Parameters\n",
    "    ----------\n",
    "    dataset_path : str\n",
    "    subject_id : str\n",
    "\n",
    "    Returns\n",
    "    -------\n",
    "    EEG_raw : FIF\n",
    "    \"\"\"\n",
    "\n",
    "    flag_verbose = (True if 'VERBOSE' in globals() and VERBOSE else False)\n",
    "\n",
    "    # BIDS File Structure\n",
    "    # dataset_root = \n",
    "    # dataset_name = \n",
    "    subject = subject_id\n",
    "    session = ''\n",
    "    task = 'Rest'\n",
    "    datatype='eeg'\n",
    "\n",
    "    # Cater for none or multiple sessions, eg 'ses-01', 'ses-02'\n",
    "    temp_path = os.path.join(dataset_path, subject)\n",
    "    subfolders = [f for f in os.listdir(temp_path) if os.path.isdir(os.path.join(temp_path, f))]\n",
    "    if 'eeg' in subfolders:\n",
    "        session = ''\n",
    "    elif any(f.startswith('ses-') for f in subfolders):\n",
    "        session = sorted([f for f in subfolders if f.startswith('ses-')])\n",
    "    else:\n",
    "        raise FileNotFoundError(f\"No 'eeg' or session folder found in {temp_path}\")\n",
    "    \n",
    "    # Cater for 0 or multiple sessions\n",
    "    # print(f'Test Found: {session}')\n",
    "    sessions_eeg_raw = []\n",
    "    if session == '':\n",
    "        temp_path = os.path.join(dataset_path, subject, datatype)\n",
    "        temp_file_name = subject + '_task-' + task + '_' + datatype + '.set'\n",
    "        eeg_lab_file_path = get_file_path(temp_path, temp_file_name)\n",
    "        try:\n",
    "            eeg_dataset_raw = mne.io.read_raw_eeglab(eeg_lab_file_path, preload=True, verbose=flag_verbose)\n",
    "            sessions_eeg_raw.append(eeg_dataset_raw)\n",
    "        except Exception as e:\n",
    "            raise ValueError(f\"Failed to load EEG data for subject {subject}: {e}\")\n",
    "    else:\n",
    "        for next_session in session:\n",
    "            temp_path = os.path.join(dataset_path, subject, next_session, datatype)\n",
    "            temp_file_name = subject + '_' + next_session + '_task-' + task + '_' + datatype + '.set'\n",
    "            eeg_lab_file_path = get_file_path(temp_path, temp_file_name)\n",
    "            # print(f'Test session path: {eeg_lab_file_path}')\n",
    "            try:\n",
    "                eeg_dataset_raw = mne.io.read_raw_eeglab(eeg_lab_file_path, preload=True, verbose=flag_verbose)\n",
    "                sessions_eeg_raw.append(eeg_dataset_raw)\n",
    "            except Exception as e:\n",
    "                raise ValueError(f\"Failed to load EEG data for subject {subject}: {e}\")\n",
    "    \n",
    "    return sessions_eeg_raw"
   ]
  },
  {
   "cell_type": "code",
   "execution_count": 5,
   "id": "57e509a1",
   "metadata": {},
   "outputs": [],
   "source": [
    "# Function to plot EEG Time Series\n",
    "def plot_EEG_TD(eeg_FIF, channels, time_range_s=[]):\n",
    "    \"\"\"\n",
    "    EEG Time Domain Plot.\n",
    "\n",
    "    Parameters\n",
    "    ----------\n",
    "    eeg_FIF : FIF\n",
    "    channels : [str] eg ['P5', 'Pz']\n",
    "    time_range_s : [nn,nn]\n",
    "    \"\"\"\n",
    "\n",
    "    # Channels Limit\n",
    "    max_plots = 5\n",
    "    if len(channels) > max_plots:\n",
    "        channels = channels[:max_plots]\n",
    "\n",
    "    start = (time_range_s[0] * 500) if time_range_s else 0\n",
    "    stop = (time_range_s[1] * 500) if time_range_s else 999999\n",
    "\n",
    "\n",
    "    # Get signal and times for the elected channel(s)\n",
    "    signal, times = eeg_FIF.get_data(picks=channels, \n",
    "                                     start=start, stop=stop,\n",
    "                                     return_times=True)\n",
    "    # signal = np.squeeze(signal)\n",
    "\n",
    "    plt.figure(figsize=(12, 8))\n",
    "    for i, ch_name in enumerate(channels):\n",
    "        plt.plot(times, signal[i] * 1e6, label=ch_name, alpha=0.7, linewidth=0.6)\n",
    "    plt.title('EEG Time Series - Channels: ' + ', '.join(channels))\n",
    "    plt.xlabel('Time (s)')\n",
    "    plt.ylabel('Amplitude (µV)')\n",
    "    plt.legend()\n",
    "    plt.tight_layout()\n",
    "    plt.show()"
   ]
  },
  {
   "cell_type": "markdown",
   "id": "bfb7ab7f",
   "metadata": {},
   "source": [
    "## EEG Preprocessing"
   ]
  },
  {
   "cell_type": "code",
   "execution_count": 6,
   "id": "2a36aa57",
   "metadata": {},
   "outputs": [],
   "source": [
    "# Function to preprocess the raw EEG signal data\n",
    "def perform_EEG_preprocessing(preprocess_params, EEG_raw):\n",
    "    \"\"\"\n",
    "    Preprocessing of the EEG raw data\n",
    "\n",
    "    Parameters\n",
    "    ----------\n",
    "    preprocess_params : dic\n",
    "    EEG_raw : raw\n",
    "\n",
    "    Returns\n",
    "    -------\n",
    "    EEG_clean : clean\n",
    "    \"\"\"\n",
    "\n",
    "    flag_verbose = (True if 'VERBOSE' in globals() and VERBOSE else False)\n",
    "\n",
    "    EEG_filtered = EEG_raw.copy()\n",
    "\n",
    "    # Bandpass filtering\n",
    "    # EEG_filtered = EEG_filtered.pick(picks='eeg')\n",
    "    EEG_filtered = EEG_filtered.filter(picks='eeg', \n",
    "                                       l_freq=preprocess_params['band_pass_lf'], \n",
    "                                       h_freq=preprocess_params['band_pass_hf'], \n",
    "                                       method=preprocess_params['band_pass_method'], \n",
    "                                       phase='zero', \n",
    "                                       verbose=flag_verbose)\n",
    "\n",
    "    # Montage Set - Attempt to use standard-1020 channels, but remove any channels not in it\n",
    "    #\n",
    "    std_1020_montage = mne.channels.make_standard_montage(\"standard_1020\")\n",
    "    std_1020_montage.plot()\n",
    "    # Identify missing channels & drop them\n",
    "    raw_set = set(EEG_raw.ch_names)\n",
    "    montage_set = set(std_1020_montage.ch_names)\n",
    "    missing_in_raw = montage_set - raw_set\n",
    "    print(f\"Channels in montage but not in EEG_raw: {sorted(missing_in_raw)}\")\n",
    "    missing_in_montage = raw_set - montage_set  \n",
    "    print(f\"Channels in EEG_raw but not in montage: {sorted(missing_in_montage)}\")\n",
    "    EEG_filtered.drop_channels(missing_in_montage)\n",
    "    # Set to standard montage and plot\n",
    "    EEG_filtered.set_montage(std_1020_montage)\n",
    "    print(f\"Number of channels before: {len(EEG_raw.ch_names)} and after montage set: {len(EEG_filtered.ch_names)}\")\n",
    "    fig = EEG_filtered.plot_sensors(show_names=True)\n",
    "    plt.show()\n",
    "\n",
    "    # Remove linear trends from each channel signal\n",
    "    if preprocess_params['linear_detrend']:\n",
    "        EEG_filtered.apply_function(sci.signal.detrend, n_jobs=-1, channel_wise=True, type='linear', verbose=flag_verbose)\n",
    "\n",
    "    # Execute average referencing\n",
    "    EEG_filtered.set_eeg_reference(ref_channels=preprocess_params['channel_referencing'], verbose=flag_verbose)\n",
    "\n",
    "    return EEG_filtered\n"
   ]
  },
  {
   "cell_type": "markdown",
   "id": "827d783f",
   "metadata": {},
   "source": [
    "## Artifact Removal - ICA"
   ]
  },
  {
   "cell_type": "code",
   "execution_count": 7,
   "id": "be50a4f4",
   "metadata": {},
   "outputs": [],
   "source": [
    "# Function to perform artifact removal using ICS\n",
    "def perform_artifact_removal(preprocess_params, EEG_raw):\n",
    "    \"\"\"\n",
    "    Artifact removal on the EEG raw data, using ICA\n",
    "\n",
    "    Parameters\n",
    "    ----------\n",
    "    preprocess_params : dic\n",
    "    EEG_raw : raw\n",
    "\n",
    "    Returns\n",
    "    -------\n",
    "    EEG_clean : clean\n",
    "    \"\"\"\n",
    "\n",
    "    flag_verbose = (True if 'VERBOSE' in globals() and VERBOSE else False)\n",
    "\n",
    "    EEG_cleaned = EEG_raw.copy()\n",
    "\n",
    "    # Determine ICA components\n",
    "    ica = ICA(n_components=len(EEG_cleaned.ch_names) - 1, \n",
    "              max_iter=\"auto\", \n",
    "              method=preprocess_params['ica_method'], \n",
    "              random_state=42, \n",
    "              fit_params=dict(extended=True))\n",
    "    ica.fit(EEG_cleaned, verbose=flag_verbose)\n",
    "\n",
    "    if flag_verbose:\n",
    "        # Look at the results\n",
    "        explained_var_ratio = ica.get_explained_variance_ratio(EEG_cleaned)\n",
    "        for channel_type, ratio in explained_var_ratio.items():\n",
    "            print(f\"Fraction of {channel_type} variance explained by all components: {ratio}\")\n",
    "\n",
    "        explained_var_ratio = ica.get_explained_variance_ratio(EEG_cleaned, components=[0], ch_type=\"eeg\")\n",
    "        ratio_percent = round(100 * explained_var_ratio[\"eeg\"])\n",
    "        print(f\"Fraction of variance in EEG signal explained by first component: \"\n",
    "            f\"{ratio_percent}%\")\n",
    "\n",
    "        ica.plot_overlay(EEG_cleaned, exclude=[0], picks=\"eeg\")\n",
    " \n",
    "    # Label and identify ICA components for exclusion\n",
    "    ica_labels = label_components(EEG_cleaned, ica, method='iclabel')\n",
    "    labels = ica_labels[\"labels\"]\n",
    "    brain_components = [i for i, label in enumerate(labels) if label == \"brain\"]\n",
    "    other_coponents = [i for i, label in enumerate(labels) if label != \"brain\"]\n",
    "    print(f'ICA Components: {ica.n_components_}. Brain: {len(brain_components)} and other: {len(other_coponents)} ')\n",
    "\n",
    "    print(other_coponents)\n",
    "    \n",
    "    # TODO: Subject 68 had 66 channels but max should be 63? Check during preprocessing, before FOOOFING\n",
    "    return EEG_cleaned\n"
   ]
  },
  {
   "cell_type": "markdown",
   "id": "d3e4b130",
   "metadata": {},
   "source": [
    "## Get the Power Spectra"
   ]
  },
  {
   "cell_type": "code",
   "execution_count": 8,
   "id": "5bfc7111",
   "metadata": {},
   "outputs": [],
   "source": [
    "# Function to get the power spectra from the cleaned/preprocessed EEG signal data\n",
    "def get_spectra(psd_params, EEG_clean):\n",
    "    \"\"\"\n",
    "    Obtain the Power Spectra for all channels\n",
    "\n",
    "    Parameters\n",
    "    ----------\n",
    "    psd_params : dic\n",
    "    EEG_clean : clean\n",
    "\n",
    "    Returns\n",
    "    -------\n",
    "    Spectra : frequencies and powers for each channel\n",
    "    \"\"\"\n",
    "    try:\n",
    "        spectra_result = EEG_clean.compute_psd(method=psd_params['method'],\n",
    "                                               fmin=psd_params['fmin'],\n",
    "                                               fmax=psd_params['fmax'],\n",
    "                                               exclude=psd_params['exclude'])\n",
    "    except Exception as e:\n",
    "        raise Exception(f\"Error calculating spectra: {e}\")\n",
    "\n",
    "    return spectra_result\n"
   ]
  },
  {
   "cell_type": "code",
   "execution_count": 9,
   "id": "ed76b718",
   "metadata": {},
   "outputs": [],
   "source": [
    "# Function to plot EEG Frequncy Domain / PSD\n",
    "def plot_EEG_PSD(spectra, channel):\n",
    "    \"\"\"\n",
    "    EEG Frequency Domain / PSD Plot.\n",
    "\n",
    "    Parameters\n",
    "    ----------\n",
    "    spectra : mne.Spectrum\n",
    "    channel : str eg 'P5'\n",
    "    \"\"\"\n",
    "\n",
    "    freqs = spectra.freqs\n",
    "    powers = spectra.get_data(return_freqs=False)\n",
    "\n",
    "    print('Quick PSD')\n",
    "    spectra.plot()\n",
    "    plt.show()\n",
    "\n",
    "    # Log-log plot for all channels\n",
    "    plt.figure(figsize=(12, 6))\n",
    "    for idx, ch in enumerate(spectra.ch_names):\n",
    "        plt.loglog(freqs, powers[idx], alpha=0.5, label=ch if idx < 10 else None)  # label only first 10 for clarity\n",
    "    plt.title(f\"Power Spectrum (Log-Log) - All Channels ({spectra.method} method)\")\n",
    "    plt.xlabel(\"Frequency (Hz)\")\n",
    "    plt.ylabel(\"Power ($V^2/Hz$)\")\n",
    "    plt.tight_layout()\n",
    "    plt.show()\n",
    "\n",
    "    # Log-lin plot for all channels\n",
    "    plt.figure(figsize=(12, 6))\n",
    "    for idx, ch in enumerate(spectra.ch_names):\n",
    "         plt.semilogy(freqs, powers[idx], alpha=0.5, label=ch if idx < 10 else None)  # label only first 10 for clarity\n",
    "    plt.title(f\"Power Spectrum (Log-Lin) - All Channels ({spectra.method} method)\")\n",
    "    plt.xlabel(\"Frequency (Hz)\")\n",
    "    plt.ylabel(\"Power ($V^2/Hz$)\")\n",
    "    plt.tight_layout()\n",
    "    plt.show()\n",
    "\n",
    "    # A selected channel\n",
    "    ch_label = channel\n",
    "    fig, (ax0, ax1) = plt.subplots(nrows=1, ncols=2, figsize=(15, 5))\n",
    "    fig.suptitle(f'Power Spectrum - Channel {ch_label} ({spectra.method} method)', fontsize=20)\n",
    "    ax0.set_title('Log/Log')\n",
    "    ax1.set_title('Log/Lin')\n",
    "    plot_spectra(freqs, powers[spectra.ch_names.index(ch_label)], log_freqs=True, log_powers=True, ax=ax0, colors='blue')\n",
    "    plot_spectra(freqs, powers[spectra.ch_names.index(ch_label)], log_powers=True, ax=ax1, colors='blue')\n",
    "    plt.show()\n"
   ]
  },
  {
   "cell_type": "markdown",
   "id": "00d74c25",
   "metadata": {},
   "source": [
    "## Spectral Parameterisation"
   ]
  },
  {
   "cell_type": "code",
   "execution_count": 10,
   "id": "38713035",
   "metadata": {},
   "outputs": [],
   "source": [
    "# Function to perform Spectral Parameterisation and dtermine the aperiodic and periodic components\n",
    "def perform_SpecParam(specparam_params, spectra):\n",
    "    \"\"\"\n",
    "    Spectral Parameterisation to determine the aperiodic and periodic components for all channels\n",
    "\n",
    "    Parameters\n",
    "    ----------\n",
    "    specparam_params : dic\n",
    "    spectra : spectra\n",
    "\n",
    "    Returns\n",
    "    -------\n",
    "    specparam_df : dataframe of components for each channel\n",
    "    fg : SpectralGroup Model\n",
    "\n",
    "    \"\"\"\n",
    "\n",
    "    # Initialise SpecParam Group Model & fit it\n",
    "    freqs = spectra.freqs\n",
    "    powers = spectra.get_data(return_freqs=False)\n",
    "\n",
    "    spm_fit_freq_range = [1, 75]\n",
    "\n",
    "    try:\n",
    "        fg = SpectralGroupModel(peak_width_limits=specparam_params['peak_width_limits'], \n",
    "                                max_n_peaks=specparam_params['max_n_peaks'], \n",
    "                                min_peak_height=specparam_params['min_peak_height'],\n",
    "                                peak_threshold=specparam_params['peak_threshold'],\n",
    "                                aperiodic_mode=specparam_params['aperiodic_mode'])\n",
    "        fg.fit(freqs, powers, specparam_params['fit_freq_range'], progress='tqdm.notebook')\n",
    "    except Exception as e:\n",
    "        raise Exception(f\"Error performing SpecParam: {e}\")\n",
    "\n",
    "    specparam_df = fg.to_df(specparam_params['max_n_peaks'])    \n",
    "\n",
    "    # TODO: Validity checks?\n",
    "    # TODO: Eg some subjects have 66 channels .. trim to 64 or reject the subject ... warning message?    \n",
    "    \n",
    "    return specparam_df, fg\n"
   ]
  },
  {
   "cell_type": "code",
   "execution_count": 11,
   "id": "9b21c07b",
   "metadata": {},
   "outputs": [],
   "source": [
    "# Function to plot SpecParam Results\n",
    "def plot_SpecParam(fg, channel_indx, channel_name):\n",
    "    \"\"\"\n",
    "    EEG SpecParam Results Plot\n",
    "\n",
    "    Parameters\n",
    "    ----------\n",
    "    fg : SpecParamGroupModel\n",
    "    \"\"\"\n",
    "    fm = fg.get_model(ind=channel_indx, regenerate=True)\n",
    "    fm.print_results()\n",
    "\n",
    "    # fm.plot()\n",
    "    fig, (ax0, ax1) = plt.subplots(nrows=1, ncols=2, figsize=(12, 8))\n",
    "    fig.suptitle(f'Spec Param for Channel: {channel_name}', fontsize=20)\n",
    "    ax0.set_title('Components - Log/Lin')\n",
    "    ax1.set_title('Components - Log/Log')\n",
    "    fm.plot(plot_peaks='shade', peak_kwargs={'color' : 'green'}, ax=ax0)\n",
    "    fm.plot(plot_peaks='shade', peak_kwargs={'color' : 'green'}, plt_log=True, ax=ax1)\n",
    "    plt.show()\n"
   ]
  },
  {
   "cell_type": "markdown",
   "id": "b2980086",
   "metadata": {},
   "source": [
    "## Features Collate"
   ]
  },
  {
   "cell_type": "code",
   "execution_count": 12,
   "id": "6b153d4c",
   "metadata": {},
   "outputs": [],
   "source": [
    "# Collate Results for a subject\n",
    "def subject_features_collate(subject_details, specparam_results_df):\n",
    "    \"\"\"\n",
    "    Results features collate for an indvidual subject\n",
    "\n",
    "    Parameters\n",
    "    ----------\n",
    "    subject_details : pd series\n",
    "    specparam_results_df : df\n",
    "    Returns\n",
    "    -------\n",
    "    subject_features_df: df (single row)\n",
    "    \"\"\"\n",
    "\n",
    "    # TODO: Combine results eg total average, by region etc .... ??\n",
    "\n",
    "    subject_features_df = pd.DataFrame()\n",
    "    # Subject Details Add\n",
    "    subject_features_df = pd.concat([subject_features_df, pd.DataFrame([subject_details])], ignore_index=True)\n",
    "\n",
    "    # Results Add\n",
    "    rows = [subject_features_df]\n",
    "    for idx, row in specparam_results_df.iterrows():\n",
    "        row_df = pd.DataFrame([row.values], columns=[f'chn_{idx}_{col}' for col in row.index])\n",
    "        rows.append(row_df)\n",
    "    subject_features_df = pd.concat(rows, axis=1, ignore_index=False)\n",
    "\n",
    "    return subject_features_df"
   ]
  },
  {
   "cell_type": "markdown",
   "id": "ef71b0b6",
   "metadata": {},
   "source": [
    "# Execute Full EEG Pipeline - Single Dataset"
   ]
  },
  {
   "cell_type": "markdown",
   "id": "bef45219",
   "metadata": {},
   "source": [
    "## Run Setup"
   ]
  },
  {
   "cell_type": "code",
   "execution_count": null,
   "id": "417f247c",
   "metadata": {},
   "outputs": [],
   "source": [
    "# EEG Pipeline Run Define & Setup\n",
    "#\n",
    "\n",
    "# -----------------------------------------------------------------------\n",
    "# Study Details\n",
    "study_name = 'IOWA_Rest'\n",
    "dataset_ref = 'ds004584-1.0.0'\n",
    "# study_name = 'UNM_Oddball'\n",
    "# dataset_ref = 'ds003490-1.1.0'\n",
    "\n",
    "# Run/Test Mode\n",
    "test_mode = False\n",
    "\n",
    "# Execution Parameters\n",
    "run_summary = 'no_preprocess'\n",
    "preprocess_params = {'band_pass_lf': 1, 'band_pass_hf': 100, 'band_pass_method': 'iir',\n",
    "                     'linear_detrend': True,\n",
    "                     'channel_referencing': 'average',\n",
    "                     'ica_method': 'infomax'\n",
    "                     }\n",
    "psd_params = {'method': 'welch', \n",
    "              'fmin': 1, 'fmax': 250,       \n",
    "              'exclude': []  # Includes all, even bad channels\n",
    "              }\n",
    "specparam_params = {'peak_width_limits': [1, 12],\n",
    "                    'max_n_peaks': 10,\n",
    "                    'min_peak_height': 0.1,\n",
    "                    'peak_threshold': 2.0,\n",
    "                    'aperiodic_mode': 'fixed',\n",
    "                    'fit_freq_range' : [1, 75]\n",
    "                     }\n",
    "# -----------------------------------------------------------------------\n",
    "\n",
    "# Get existing study details, if exists\n",
    "study_folder_path = get_folder_path('Study_' + study_name)\n",
    "study_info_df = pd.read_pickle(study_folder_path + '/study_inf_df.pkl', compression='zip')\n",
    "study_subjects_df = pd.read_pickle(study_folder_path + '/study_subjects_df.pkl', compression='zip')\n",
    "\n",
    "# Get all folder paths from study_info_df\n",
    "dataset_path = study_info_df.loc[0, 'dataset_path']\n",
    "eeg_processing_results_path = study_info_df.loc[0, 'eeg_processing_results_path']\n",
    "ml_training_results_path = study_info_df.loc[0, 'ml_training_results_path']\n",
    "\n",
    "# Establish a new EEG Processing Run\n",
    "current_date = datetime.now().strftime('%Y%m%d')\n",
    "# rand_suffix = ''.join(random.choices('ABCDEFGHIJKLMNOPQRSTUVWXYZ', k=2))\n",
    "# eeg_run_id = f'EEG_Processing_{dataset_ref}_{current_date}_{rand_suffix}'\n",
    "eeg_run_id = f'EEG_Processing_{dataset_ref}_{current_date}_{run_summary}'\n",
    "eeg_processing_run_path = extend_folder_path(eeg_processing_results_path, eeg_run_id, exists_ok=False)\n",
    "\n",
    "# Create run df and save\n",
    "eeg_run_params_df = pd.DataFrame({\n",
    "    'eeg_run_id': [eeg_run_id],\n",
    "    'study_name': [study_name],\n",
    "    'dataset_ref': [dataset_ref],\n",
    "    'preprocess_params': [preprocess_params],\n",
    "    'psd_params': [psd_params],\n",
    "    'specparam_params': [specparam_params],\n",
    "})\n",
    "eeg_run_params_df.to_pickle(eeg_processing_run_path + '/eeg_run_params_df.pkl', compression='zip')\n",
    "\n",
    "# # Create empty study features\n",
    "eeg_results_features_superset_df = pd.DataFrame()\n",
    "# eeg_results_features_superset_df.to_pickle(eeg_processing_run_path + '/study_eeg_features_superset_df.pkl', compression='zip')\n",
    "\n",
    "# Set progress messages, testing\n",
    "if test_mode:\n",
    "    VERBOSE = True\n",
    "    max_subjects_run = 2\n",
    "    test_channels = ['P5', 'C4', 'Cz']\n",
    "else:\n",
    "    VERBOSE = False\n",
    "    max_subjects_run = np.inf\n",
    "    test_channels = []\n",
    "\n",
    "del current_date, eeg_processing_results_path"
   ]
  },
  {
   "cell_type": "markdown",
   "id": "b7fda869",
   "metadata": {},
   "source": [
    "## Execute EEG Pipeline for Run"
   ]
  },
  {
   "cell_type": "code",
   "execution_count": 14,
   "id": "4883987c",
   "metadata": {},
   "outputs": [
    {
     "name": "stdout",
     "output_type": "stream",
     "text": [
      "\n",
      "-----------------------------------------------------------------------------------------------\n",
      "Processing subject: sub-001\n",
      "Effective window size : 4.096 (s)\n"
     ]
    },
    {
     "name": "stderr",
     "output_type": "stream",
     "text": [
      "/var/folders/_3/08zshp4n3z1_glk6l5vgyqz40000gn/T/ipykernel_90052/2394794606.py:44: RuntimeWarning: The data contains 'boundary' events, indicating data discontinuities. Be cautious of filtering and epoching around these events.\n",
      "  eeg_dataset_raw = mne.io.read_raw_eeglab(eeg_lab_file_path, preload=True, verbose=flag_verbose)\n"
     ]
    },
    {
     "data": {
      "application/vnd.jupyter.widget-view+json": {
       "model_id": "245f9534852c41fa9c47d2b1fb9b7b6d",
       "version_major": 2,
       "version_minor": 0
      },
      "text/plain": [
       "Running group fits.:   0%|          | 0/63 [00:00<?, ?it/s]"
      ]
     },
     "metadata": {},
     "output_type": "display_data"
    },
    {
     "name": "stdout",
     "output_type": "stream",
     "text": [
      "\n",
      "-----------------------------------------------------------------------------------------------\n",
      "Processing subject: sub-002\n",
      "Effective window size : 4.096 (s)\n"
     ]
    },
    {
     "name": "stderr",
     "output_type": "stream",
     "text": [
      "/var/folders/_3/08zshp4n3z1_glk6l5vgyqz40000gn/T/ipykernel_90052/2394794606.py:44: RuntimeWarning: The data contains 'boundary' events, indicating data discontinuities. Be cautious of filtering and epoching around these events.\n",
      "  eeg_dataset_raw = mne.io.read_raw_eeglab(eeg_lab_file_path, preload=True, verbose=flag_verbose)\n"
     ]
    },
    {
     "data": {
      "application/vnd.jupyter.widget-view+json": {
       "model_id": "b041d060e99f49a0bbbc672af1c707b5",
       "version_major": 2,
       "version_minor": 0
      },
      "text/plain": [
       "Running group fits.:   0%|          | 0/63 [00:00<?, ?it/s]"
      ]
     },
     "metadata": {},
     "output_type": "display_data"
    },
    {
     "name": "stdout",
     "output_type": "stream",
     "text": [
      "\n",
      "-----------------------------------------------------------------------------------------------\n",
      "Processing subject: sub-003\n",
      "Effective window size : 4.096 (s)\n"
     ]
    },
    {
     "name": "stderr",
     "output_type": "stream",
     "text": [
      "/var/folders/_3/08zshp4n3z1_glk6l5vgyqz40000gn/T/ipykernel_90052/2394794606.py:44: RuntimeWarning: The data contains 'boundary' events, indicating data discontinuities. Be cautious of filtering and epoching around these events.\n",
      "  eeg_dataset_raw = mne.io.read_raw_eeglab(eeg_lab_file_path, preload=True, verbose=flag_verbose)\n"
     ]
    },
    {
     "data": {
      "application/vnd.jupyter.widget-view+json": {
       "model_id": "01b4193675534c1abdb85e426a118aa8",
       "version_major": 2,
       "version_minor": 0
      },
      "text/plain": [
       "Running group fits.:   0%|          | 0/63 [00:00<?, ?it/s]"
      ]
     },
     "metadata": {},
     "output_type": "display_data"
    },
    {
     "name": "stdout",
     "output_type": "stream",
     "text": [
      "\n",
      "-----------------------------------------------------------------------------------------------\n",
      "Processing subject: sub-004\n",
      "Effective window size : 4.096 (s)\n"
     ]
    },
    {
     "name": "stderr",
     "output_type": "stream",
     "text": [
      "/var/folders/_3/08zshp4n3z1_glk6l5vgyqz40000gn/T/ipykernel_90052/2394794606.py:44: RuntimeWarning: The data contains 'boundary' events, indicating data discontinuities. Be cautious of filtering and epoching around these events.\n",
      "  eeg_dataset_raw = mne.io.read_raw_eeglab(eeg_lab_file_path, preload=True, verbose=flag_verbose)\n"
     ]
    },
    {
     "data": {
      "application/vnd.jupyter.widget-view+json": {
       "model_id": "e6f6b60e9ddc4674a6204667e4f3e205",
       "version_major": 2,
       "version_minor": 0
      },
      "text/plain": [
       "Running group fits.:   0%|          | 0/63 [00:00<?, ?it/s]"
      ]
     },
     "metadata": {},
     "output_type": "display_data"
    },
    {
     "name": "stdout",
     "output_type": "stream",
     "text": [
      "\n",
      "-----------------------------------------------------------------------------------------------\n",
      "Processing subject: sub-005\n",
      "Effective window size : 4.096 (s)\n"
     ]
    },
    {
     "name": "stderr",
     "output_type": "stream",
     "text": [
      "/var/folders/_3/08zshp4n3z1_glk6l5vgyqz40000gn/T/ipykernel_90052/2394794606.py:44: RuntimeWarning: The data contains 'boundary' events, indicating data discontinuities. Be cautious of filtering and epoching around these events.\n",
      "  eeg_dataset_raw = mne.io.read_raw_eeglab(eeg_lab_file_path, preload=True, verbose=flag_verbose)\n"
     ]
    },
    {
     "data": {
      "application/vnd.jupyter.widget-view+json": {
       "model_id": "31d041ce23364a4382ba3f12a635e3ee",
       "version_major": 2,
       "version_minor": 0
      },
      "text/plain": [
       "Running group fits.:   0%|          | 0/63 [00:00<?, ?it/s]"
      ]
     },
     "metadata": {},
     "output_type": "display_data"
    },
    {
     "name": "stdout",
     "output_type": "stream",
     "text": [
      "\n",
      "-----------------------------------------------------------------------------------------------\n",
      "Processing subject: sub-006\n",
      "Effective window size : 4.096 (s)\n"
     ]
    },
    {
     "name": "stderr",
     "output_type": "stream",
     "text": [
      "/var/folders/_3/08zshp4n3z1_glk6l5vgyqz40000gn/T/ipykernel_90052/2394794606.py:44: RuntimeWarning: The data contains 'boundary' events, indicating data discontinuities. Be cautious of filtering and epoching around these events.\n",
      "  eeg_dataset_raw = mne.io.read_raw_eeglab(eeg_lab_file_path, preload=True, verbose=flag_verbose)\n"
     ]
    },
    {
     "data": {
      "application/vnd.jupyter.widget-view+json": {
       "model_id": "ed374a6a2a054cac8f60f3c27158eb92",
       "version_major": 2,
       "version_minor": 0
      },
      "text/plain": [
       "Running group fits.:   0%|          | 0/63 [00:00<?, ?it/s]"
      ]
     },
     "metadata": {},
     "output_type": "display_data"
    },
    {
     "name": "stdout",
     "output_type": "stream",
     "text": [
      "\n",
      "-----------------------------------------------------------------------------------------------\n",
      "Processing subject: sub-007\n",
      "Effective window size : 4.096 (s)\n"
     ]
    },
    {
     "name": "stderr",
     "output_type": "stream",
     "text": [
      "/var/folders/_3/08zshp4n3z1_glk6l5vgyqz40000gn/T/ipykernel_90052/2394794606.py:44: RuntimeWarning: The data contains 'boundary' events, indicating data discontinuities. Be cautious of filtering and epoching around these events.\n",
      "  eeg_dataset_raw = mne.io.read_raw_eeglab(eeg_lab_file_path, preload=True, verbose=flag_verbose)\n"
     ]
    },
    {
     "data": {
      "application/vnd.jupyter.widget-view+json": {
       "model_id": "a30f90f0b43d4e028ec1ed477ca409a9",
       "version_major": 2,
       "version_minor": 0
      },
      "text/plain": [
       "Running group fits.:   0%|          | 0/63 [00:00<?, ?it/s]"
      ]
     },
     "metadata": {},
     "output_type": "display_data"
    },
    {
     "name": "stdout",
     "output_type": "stream",
     "text": [
      "\n",
      "-----------------------------------------------------------------------------------------------\n",
      "Processing subject: sub-008\n",
      "Effective window size : 4.096 (s)\n"
     ]
    },
    {
     "name": "stderr",
     "output_type": "stream",
     "text": [
      "/var/folders/_3/08zshp4n3z1_glk6l5vgyqz40000gn/T/ipykernel_90052/2394794606.py:44: RuntimeWarning: The data contains 'boundary' events, indicating data discontinuities. Be cautious of filtering and epoching around these events.\n",
      "  eeg_dataset_raw = mne.io.read_raw_eeglab(eeg_lab_file_path, preload=True, verbose=flag_verbose)\n"
     ]
    },
    {
     "data": {
      "application/vnd.jupyter.widget-view+json": {
       "model_id": "f2888989395f4f2e84489fd757ab0d6a",
       "version_major": 2,
       "version_minor": 0
      },
      "text/plain": [
       "Running group fits.:   0%|          | 0/63 [00:00<?, ?it/s]"
      ]
     },
     "metadata": {},
     "output_type": "display_data"
    },
    {
     "name": "stdout",
     "output_type": "stream",
     "text": [
      "\n",
      "-----------------------------------------------------------------------------------------------\n",
      "Processing subject: sub-009\n",
      "Effective window size : 4.096 (s)\n"
     ]
    },
    {
     "name": "stderr",
     "output_type": "stream",
     "text": [
      "/var/folders/_3/08zshp4n3z1_glk6l5vgyqz40000gn/T/ipykernel_90052/2394794606.py:44: RuntimeWarning: The data contains 'boundary' events, indicating data discontinuities. Be cautious of filtering and epoching around these events.\n",
      "  eeg_dataset_raw = mne.io.read_raw_eeglab(eeg_lab_file_path, preload=True, verbose=flag_verbose)\n"
     ]
    },
    {
     "data": {
      "application/vnd.jupyter.widget-view+json": {
       "model_id": "11dc837a912c43fcb0a356c27b23a9e0",
       "version_major": 2,
       "version_minor": 0
      },
      "text/plain": [
       "Running group fits.:   0%|          | 0/63 [00:00<?, ?it/s]"
      ]
     },
     "metadata": {},
     "output_type": "display_data"
    },
    {
     "name": "stdout",
     "output_type": "stream",
     "text": [
      "\n",
      "-----------------------------------------------------------------------------------------------\n",
      "Processing subject: sub-010\n",
      "Effective window size : 4.096 (s)\n"
     ]
    },
    {
     "name": "stderr",
     "output_type": "stream",
     "text": [
      "/var/folders/_3/08zshp4n3z1_glk6l5vgyqz40000gn/T/ipykernel_90052/2394794606.py:44: RuntimeWarning: The data contains 'boundary' events, indicating data discontinuities. Be cautious of filtering and epoching around these events.\n",
      "  eeg_dataset_raw = mne.io.read_raw_eeglab(eeg_lab_file_path, preload=True, verbose=flag_verbose)\n"
     ]
    },
    {
     "data": {
      "application/vnd.jupyter.widget-view+json": {
       "model_id": "a856647da50a4a928bc71eb3fb6070e2",
       "version_major": 2,
       "version_minor": 0
      },
      "text/plain": [
       "Running group fits.:   0%|          | 0/63 [00:00<?, ?it/s]"
      ]
     },
     "metadata": {},
     "output_type": "display_data"
    },
    {
     "name": "stdout",
     "output_type": "stream",
     "text": [
      "\n",
      "-----------------------------------------------------------------------------------------------\n",
      "Processing subject: sub-011\n",
      "Effective window size : 4.096 (s)\n"
     ]
    },
    {
     "name": "stderr",
     "output_type": "stream",
     "text": [
      "/var/folders/_3/08zshp4n3z1_glk6l5vgyqz40000gn/T/ipykernel_90052/2394794606.py:44: RuntimeWarning: The data contains 'boundary' events, indicating data discontinuities. Be cautious of filtering and epoching around these events.\n",
      "  eeg_dataset_raw = mne.io.read_raw_eeglab(eeg_lab_file_path, preload=True, verbose=flag_verbose)\n"
     ]
    },
    {
     "data": {
      "application/vnd.jupyter.widget-view+json": {
       "model_id": "84ce094993124db6b7db7c222d0c15c2",
       "version_major": 2,
       "version_minor": 0
      },
      "text/plain": [
       "Running group fits.:   0%|          | 0/63 [00:00<?, ?it/s]"
      ]
     },
     "metadata": {},
     "output_type": "display_data"
    },
    {
     "name": "stdout",
     "output_type": "stream",
     "text": [
      "\n",
      "-----------------------------------------------------------------------------------------------\n",
      "Processing subject: sub-012\n",
      "Effective window size : 4.096 (s)\n"
     ]
    },
    {
     "name": "stderr",
     "output_type": "stream",
     "text": [
      "/var/folders/_3/08zshp4n3z1_glk6l5vgyqz40000gn/T/ipykernel_90052/2394794606.py:44: RuntimeWarning: The data contains 'boundary' events, indicating data discontinuities. Be cautious of filtering and epoching around these events.\n",
      "  eeg_dataset_raw = mne.io.read_raw_eeglab(eeg_lab_file_path, preload=True, verbose=flag_verbose)\n"
     ]
    },
    {
     "data": {
      "application/vnd.jupyter.widget-view+json": {
       "model_id": "1e8ac497c8a04f6592fbc0b8b04f8ac5",
       "version_major": 2,
       "version_minor": 0
      },
      "text/plain": [
       "Running group fits.:   0%|          | 0/63 [00:00<?, ?it/s]"
      ]
     },
     "metadata": {},
     "output_type": "display_data"
    },
    {
     "name": "stdout",
     "output_type": "stream",
     "text": [
      "\n",
      "-----------------------------------------------------------------------------------------------\n",
      "Processing subject: sub-013\n",
      "Effective window size : 4.096 (s)\n"
     ]
    },
    {
     "name": "stderr",
     "output_type": "stream",
     "text": [
      "/var/folders/_3/08zshp4n3z1_glk6l5vgyqz40000gn/T/ipykernel_90052/2394794606.py:44: RuntimeWarning: The data contains 'boundary' events, indicating data discontinuities. Be cautious of filtering and epoching around these events.\n",
      "  eeg_dataset_raw = mne.io.read_raw_eeglab(eeg_lab_file_path, preload=True, verbose=flag_verbose)\n"
     ]
    },
    {
     "data": {
      "application/vnd.jupyter.widget-view+json": {
       "model_id": "50ed8356d0c7454a86736136e0ee11d0",
       "version_major": 2,
       "version_minor": 0
      },
      "text/plain": [
       "Running group fits.:   0%|          | 0/63 [00:00<?, ?it/s]"
      ]
     },
     "metadata": {},
     "output_type": "display_data"
    },
    {
     "name": "stdout",
     "output_type": "stream",
     "text": [
      "\n",
      "-----------------------------------------------------------------------------------------------\n",
      "Processing subject: sub-014\n",
      "Effective window size : 4.096 (s)\n"
     ]
    },
    {
     "name": "stderr",
     "output_type": "stream",
     "text": [
      "/var/folders/_3/08zshp4n3z1_glk6l5vgyqz40000gn/T/ipykernel_90052/2394794606.py:44: RuntimeWarning: The data contains 'boundary' events, indicating data discontinuities. Be cautious of filtering and epoching around these events.\n",
      "  eeg_dataset_raw = mne.io.read_raw_eeglab(eeg_lab_file_path, preload=True, verbose=flag_verbose)\n"
     ]
    },
    {
     "data": {
      "application/vnd.jupyter.widget-view+json": {
       "model_id": "b816e41e9b9c4b34921c41d5f31d74f6",
       "version_major": 2,
       "version_minor": 0
      },
      "text/plain": [
       "Running group fits.:   0%|          | 0/63 [00:00<?, ?it/s]"
      ]
     },
     "metadata": {},
     "output_type": "display_data"
    },
    {
     "name": "stdout",
     "output_type": "stream",
     "text": [
      "\n",
      "-----------------------------------------------------------------------------------------------\n",
      "Processing subject: sub-015\n",
      "Effective window size : 4.096 (s)\n"
     ]
    },
    {
     "name": "stderr",
     "output_type": "stream",
     "text": [
      "/var/folders/_3/08zshp4n3z1_glk6l5vgyqz40000gn/T/ipykernel_90052/2394794606.py:44: RuntimeWarning: The data contains 'boundary' events, indicating data discontinuities. Be cautious of filtering and epoching around these events.\n",
      "  eeg_dataset_raw = mne.io.read_raw_eeglab(eeg_lab_file_path, preload=True, verbose=flag_verbose)\n"
     ]
    },
    {
     "data": {
      "application/vnd.jupyter.widget-view+json": {
       "model_id": "e353cfef4c2c4da0b7c6bff7293635fe",
       "version_major": 2,
       "version_minor": 0
      },
      "text/plain": [
       "Running group fits.:   0%|          | 0/63 [00:00<?, ?it/s]"
      ]
     },
     "metadata": {},
     "output_type": "display_data"
    },
    {
     "name": "stdout",
     "output_type": "stream",
     "text": [
      "\n",
      "-----------------------------------------------------------------------------------------------\n",
      "Processing subject: sub-016\n",
      "Effective window size : 4.096 (s)\n"
     ]
    },
    {
     "name": "stderr",
     "output_type": "stream",
     "text": [
      "/var/folders/_3/08zshp4n3z1_glk6l5vgyqz40000gn/T/ipykernel_90052/2394794606.py:44: RuntimeWarning: The data contains 'boundary' events, indicating data discontinuities. Be cautious of filtering and epoching around these events.\n",
      "  eeg_dataset_raw = mne.io.read_raw_eeglab(eeg_lab_file_path, preload=True, verbose=flag_verbose)\n"
     ]
    },
    {
     "data": {
      "application/vnd.jupyter.widget-view+json": {
       "model_id": "b5d678a4d43142d6bf5826ffacb0e199",
       "version_major": 2,
       "version_minor": 0
      },
      "text/plain": [
       "Running group fits.:   0%|          | 0/63 [00:00<?, ?it/s]"
      ]
     },
     "metadata": {},
     "output_type": "display_data"
    },
    {
     "name": "stdout",
     "output_type": "stream",
     "text": [
      "\n",
      "-----------------------------------------------------------------------------------------------\n",
      "Processing subject: sub-017\n",
      "Effective window size : 4.096 (s)\n"
     ]
    },
    {
     "name": "stderr",
     "output_type": "stream",
     "text": [
      "/var/folders/_3/08zshp4n3z1_glk6l5vgyqz40000gn/T/ipykernel_90052/2394794606.py:44: RuntimeWarning: The data contains 'boundary' events, indicating data discontinuities. Be cautious of filtering and epoching around these events.\n",
      "  eeg_dataset_raw = mne.io.read_raw_eeglab(eeg_lab_file_path, preload=True, verbose=flag_verbose)\n"
     ]
    },
    {
     "data": {
      "application/vnd.jupyter.widget-view+json": {
       "model_id": "e4cff4e5f2d3446c9f59b83bf9ffccda",
       "version_major": 2,
       "version_minor": 0
      },
      "text/plain": [
       "Running group fits.:   0%|          | 0/63 [00:00<?, ?it/s]"
      ]
     },
     "metadata": {},
     "output_type": "display_data"
    },
    {
     "name": "stdout",
     "output_type": "stream",
     "text": [
      "\n",
      "-----------------------------------------------------------------------------------------------\n",
      "Processing subject: sub-018\n",
      "Effective window size : 4.096 (s)\n"
     ]
    },
    {
     "name": "stderr",
     "output_type": "stream",
     "text": [
      "/var/folders/_3/08zshp4n3z1_glk6l5vgyqz40000gn/T/ipykernel_90052/2394794606.py:44: RuntimeWarning: The data contains 'boundary' events, indicating data discontinuities. Be cautious of filtering and epoching around these events.\n",
      "  eeg_dataset_raw = mne.io.read_raw_eeglab(eeg_lab_file_path, preload=True, verbose=flag_verbose)\n"
     ]
    },
    {
     "data": {
      "application/vnd.jupyter.widget-view+json": {
       "model_id": "a88f5e5933de49729b22cbb81aee1828",
       "version_major": 2,
       "version_minor": 0
      },
      "text/plain": [
       "Running group fits.:   0%|          | 0/63 [00:00<?, ?it/s]"
      ]
     },
     "metadata": {},
     "output_type": "display_data"
    },
    {
     "name": "stdout",
     "output_type": "stream",
     "text": [
      "\n",
      "-----------------------------------------------------------------------------------------------\n",
      "Processing subject: sub-019\n",
      "Effective window size : 4.096 (s)\n"
     ]
    },
    {
     "name": "stderr",
     "output_type": "stream",
     "text": [
      "/var/folders/_3/08zshp4n3z1_glk6l5vgyqz40000gn/T/ipykernel_90052/2394794606.py:44: RuntimeWarning: The data contains 'boundary' events, indicating data discontinuities. Be cautious of filtering and epoching around these events.\n",
      "  eeg_dataset_raw = mne.io.read_raw_eeglab(eeg_lab_file_path, preload=True, verbose=flag_verbose)\n"
     ]
    },
    {
     "data": {
      "application/vnd.jupyter.widget-view+json": {
       "model_id": "bdb47237ce104219bb46a269d786a740",
       "version_major": 2,
       "version_minor": 0
      },
      "text/plain": [
       "Running group fits.:   0%|          | 0/63 [00:00<?, ?it/s]"
      ]
     },
     "metadata": {},
     "output_type": "display_data"
    },
    {
     "name": "stdout",
     "output_type": "stream",
     "text": [
      "\n",
      "-----------------------------------------------------------------------------------------------\n",
      "Processing subject: sub-020\n",
      "Effective window size : 4.096 (s)\n"
     ]
    },
    {
     "name": "stderr",
     "output_type": "stream",
     "text": [
      "/var/folders/_3/08zshp4n3z1_glk6l5vgyqz40000gn/T/ipykernel_90052/2394794606.py:44: RuntimeWarning: The data contains 'boundary' events, indicating data discontinuities. Be cautious of filtering and epoching around these events.\n",
      "  eeg_dataset_raw = mne.io.read_raw_eeglab(eeg_lab_file_path, preload=True, verbose=flag_verbose)\n"
     ]
    },
    {
     "data": {
      "application/vnd.jupyter.widget-view+json": {
       "model_id": "cc57c5ebc98d4ffeb4faa4c3ac79d095",
       "version_major": 2,
       "version_minor": 0
      },
      "text/plain": [
       "Running group fits.:   0%|          | 0/63 [00:00<?, ?it/s]"
      ]
     },
     "metadata": {},
     "output_type": "display_data"
    },
    {
     "name": "stdout",
     "output_type": "stream",
     "text": [
      "\n",
      "-----------------------------------------------------------------------------------------------\n",
      "Processing subject: sub-021\n",
      "Effective window size : 4.096 (s)\n"
     ]
    },
    {
     "name": "stderr",
     "output_type": "stream",
     "text": [
      "/var/folders/_3/08zshp4n3z1_glk6l5vgyqz40000gn/T/ipykernel_90052/2394794606.py:44: RuntimeWarning: The data contains 'boundary' events, indicating data discontinuities. Be cautious of filtering and epoching around these events.\n",
      "  eeg_dataset_raw = mne.io.read_raw_eeglab(eeg_lab_file_path, preload=True, verbose=flag_verbose)\n"
     ]
    },
    {
     "data": {
      "application/vnd.jupyter.widget-view+json": {
       "model_id": "d0fe90754d77452d8e6648a0a7984ea5",
       "version_major": 2,
       "version_minor": 0
      },
      "text/plain": [
       "Running group fits.:   0%|          | 0/63 [00:00<?, ?it/s]"
      ]
     },
     "metadata": {},
     "output_type": "display_data"
    },
    {
     "name": "stdout",
     "output_type": "stream",
     "text": [
      "\n",
      "-----------------------------------------------------------------------------------------------\n",
      "Processing subject: sub-022\n",
      "Effective window size : 4.096 (s)\n"
     ]
    },
    {
     "name": "stderr",
     "output_type": "stream",
     "text": [
      "/var/folders/_3/08zshp4n3z1_glk6l5vgyqz40000gn/T/ipykernel_90052/2394794606.py:44: RuntimeWarning: The data contains 'boundary' events, indicating data discontinuities. Be cautious of filtering and epoching around these events.\n",
      "  eeg_dataset_raw = mne.io.read_raw_eeglab(eeg_lab_file_path, preload=True, verbose=flag_verbose)\n"
     ]
    },
    {
     "data": {
      "application/vnd.jupyter.widget-view+json": {
       "model_id": "82ab24de4b464df7b4c596ba286b8f3e",
       "version_major": 2,
       "version_minor": 0
      },
      "text/plain": [
       "Running group fits.:   0%|          | 0/63 [00:00<?, ?it/s]"
      ]
     },
     "metadata": {},
     "output_type": "display_data"
    },
    {
     "name": "stdout",
     "output_type": "stream",
     "text": [
      "\n",
      "-----------------------------------------------------------------------------------------------\n",
      "Processing subject: sub-023\n",
      "Effective window size : 4.096 (s)\n"
     ]
    },
    {
     "name": "stderr",
     "output_type": "stream",
     "text": [
      "/var/folders/_3/08zshp4n3z1_glk6l5vgyqz40000gn/T/ipykernel_90052/2394794606.py:44: RuntimeWarning: The data contains 'boundary' events, indicating data discontinuities. Be cautious of filtering and epoching around these events.\n",
      "  eeg_dataset_raw = mne.io.read_raw_eeglab(eeg_lab_file_path, preload=True, verbose=flag_verbose)\n"
     ]
    },
    {
     "data": {
      "application/vnd.jupyter.widget-view+json": {
       "model_id": "2c9fdba7498542ee81ed8ca9d8825629",
       "version_major": 2,
       "version_minor": 0
      },
      "text/plain": [
       "Running group fits.:   0%|          | 0/63 [00:00<?, ?it/s]"
      ]
     },
     "metadata": {},
     "output_type": "display_data"
    },
    {
     "name": "stdout",
     "output_type": "stream",
     "text": [
      "\n",
      "-----------------------------------------------------------------------------------------------\n",
      "Processing subject: sub-024\n",
      "Effective window size : 4.096 (s)\n"
     ]
    },
    {
     "name": "stderr",
     "output_type": "stream",
     "text": [
      "/var/folders/_3/08zshp4n3z1_glk6l5vgyqz40000gn/T/ipykernel_90052/2394794606.py:44: RuntimeWarning: The data contains 'boundary' events, indicating data discontinuities. Be cautious of filtering and epoching around these events.\n",
      "  eeg_dataset_raw = mne.io.read_raw_eeglab(eeg_lab_file_path, preload=True, verbose=flag_verbose)\n"
     ]
    },
    {
     "data": {
      "application/vnd.jupyter.widget-view+json": {
       "model_id": "0dcd4b02e0e944c1b2abe43981924ab1",
       "version_major": 2,
       "version_minor": 0
      },
      "text/plain": [
       "Running group fits.:   0%|          | 0/63 [00:00<?, ?it/s]"
      ]
     },
     "metadata": {},
     "output_type": "display_data"
    },
    {
     "name": "stdout",
     "output_type": "stream",
     "text": [
      "\n",
      "-----------------------------------------------------------------------------------------------\n",
      "Processing subject: sub-025\n",
      "Effective window size : 4.096 (s)\n"
     ]
    },
    {
     "name": "stderr",
     "output_type": "stream",
     "text": [
      "/var/folders/_3/08zshp4n3z1_glk6l5vgyqz40000gn/T/ipykernel_90052/2394794606.py:44: RuntimeWarning: The data contains 'boundary' events, indicating data discontinuities. Be cautious of filtering and epoching around these events.\n",
      "  eeg_dataset_raw = mne.io.read_raw_eeglab(eeg_lab_file_path, preload=True, verbose=flag_verbose)\n"
     ]
    },
    {
     "data": {
      "application/vnd.jupyter.widget-view+json": {
       "model_id": "8dfa15f0248f46b39f6bb4d7d12486c0",
       "version_major": 2,
       "version_minor": 0
      },
      "text/plain": [
       "Running group fits.:   0%|          | 0/63 [00:00<?, ?it/s]"
      ]
     },
     "metadata": {},
     "output_type": "display_data"
    },
    {
     "name": "stdout",
     "output_type": "stream",
     "text": [
      "\n",
      "-----------------------------------------------------------------------------------------------\n",
      "Processing subject: sub-026\n",
      "Effective window size : 4.096 (s)\n"
     ]
    },
    {
     "name": "stderr",
     "output_type": "stream",
     "text": [
      "/var/folders/_3/08zshp4n3z1_glk6l5vgyqz40000gn/T/ipykernel_90052/2394794606.py:44: RuntimeWarning: The data contains 'boundary' events, indicating data discontinuities. Be cautious of filtering and epoching around these events.\n",
      "  eeg_dataset_raw = mne.io.read_raw_eeglab(eeg_lab_file_path, preload=True, verbose=flag_verbose)\n"
     ]
    },
    {
     "data": {
      "application/vnd.jupyter.widget-view+json": {
       "model_id": "cda90ec6ede1423a9102514010169bb1",
       "version_major": 2,
       "version_minor": 0
      },
      "text/plain": [
       "Running group fits.:   0%|          | 0/63 [00:00<?, ?it/s]"
      ]
     },
     "metadata": {},
     "output_type": "display_data"
    },
    {
     "name": "stdout",
     "output_type": "stream",
     "text": [
      "\n",
      "-----------------------------------------------------------------------------------------------\n",
      "Processing subject: sub-027\n",
      "Effective window size : 4.096 (s)\n"
     ]
    },
    {
     "name": "stderr",
     "output_type": "stream",
     "text": [
      "/var/folders/_3/08zshp4n3z1_glk6l5vgyqz40000gn/T/ipykernel_90052/2394794606.py:44: RuntimeWarning: The data contains 'boundary' events, indicating data discontinuities. Be cautious of filtering and epoching around these events.\n",
      "  eeg_dataset_raw = mne.io.read_raw_eeglab(eeg_lab_file_path, preload=True, verbose=flag_verbose)\n"
     ]
    },
    {
     "data": {
      "application/vnd.jupyter.widget-view+json": {
       "model_id": "cda732fd9c104c129861e51a21f8d4e8",
       "version_major": 2,
       "version_minor": 0
      },
      "text/plain": [
       "Running group fits.:   0%|          | 0/63 [00:00<?, ?it/s]"
      ]
     },
     "metadata": {},
     "output_type": "display_data"
    },
    {
     "name": "stdout",
     "output_type": "stream",
     "text": [
      "\n",
      "-----------------------------------------------------------------------------------------------\n",
      "Processing subject: sub-028\n",
      "Effective window size : 4.096 (s)\n"
     ]
    },
    {
     "name": "stderr",
     "output_type": "stream",
     "text": [
      "/var/folders/_3/08zshp4n3z1_glk6l5vgyqz40000gn/T/ipykernel_90052/2394794606.py:44: RuntimeWarning: The data contains 'boundary' events, indicating data discontinuities. Be cautious of filtering and epoching around these events.\n",
      "  eeg_dataset_raw = mne.io.read_raw_eeglab(eeg_lab_file_path, preload=True, verbose=flag_verbose)\n"
     ]
    },
    {
     "data": {
      "application/vnd.jupyter.widget-view+json": {
       "model_id": "6da7c5bb84894423963648a285701fc7",
       "version_major": 2,
       "version_minor": 0
      },
      "text/plain": [
       "Running group fits.:   0%|          | 0/63 [00:00<?, ?it/s]"
      ]
     },
     "metadata": {},
     "output_type": "display_data"
    },
    {
     "name": "stdout",
     "output_type": "stream",
     "text": [
      "\n",
      "-----------------------------------------------------------------------------------------------\n",
      "Processing subject: sub-029\n",
      "Effective window size : 4.096 (s)\n"
     ]
    },
    {
     "name": "stderr",
     "output_type": "stream",
     "text": [
      "/var/folders/_3/08zshp4n3z1_glk6l5vgyqz40000gn/T/ipykernel_90052/2394794606.py:44: RuntimeWarning: The data contains 'boundary' events, indicating data discontinuities. Be cautious of filtering and epoching around these events.\n",
      "  eeg_dataset_raw = mne.io.read_raw_eeglab(eeg_lab_file_path, preload=True, verbose=flag_verbose)\n"
     ]
    },
    {
     "data": {
      "application/vnd.jupyter.widget-view+json": {
       "model_id": "0b2b2114355948aba46f2245d4fef49e",
       "version_major": 2,
       "version_minor": 0
      },
      "text/plain": [
       "Running group fits.:   0%|          | 0/63 [00:00<?, ?it/s]"
      ]
     },
     "metadata": {},
     "output_type": "display_data"
    },
    {
     "name": "stdout",
     "output_type": "stream",
     "text": [
      "\n",
      "-----------------------------------------------------------------------------------------------\n",
      "Processing subject: sub-030\n",
      "Effective window size : 4.096 (s)\n"
     ]
    },
    {
     "name": "stderr",
     "output_type": "stream",
     "text": [
      "/var/folders/_3/08zshp4n3z1_glk6l5vgyqz40000gn/T/ipykernel_90052/2394794606.py:44: RuntimeWarning: The data contains 'boundary' events, indicating data discontinuities. Be cautious of filtering and epoching around these events.\n",
      "  eeg_dataset_raw = mne.io.read_raw_eeglab(eeg_lab_file_path, preload=True, verbose=flag_verbose)\n"
     ]
    },
    {
     "data": {
      "application/vnd.jupyter.widget-view+json": {
       "model_id": "48879520c6ce4807a024b88fedd82eb3",
       "version_major": 2,
       "version_minor": 0
      },
      "text/plain": [
       "Running group fits.:   0%|          | 0/63 [00:00<?, ?it/s]"
      ]
     },
     "metadata": {},
     "output_type": "display_data"
    },
    {
     "name": "stdout",
     "output_type": "stream",
     "text": [
      "\n",
      "-----------------------------------------------------------------------------------------------\n",
      "Processing subject: sub-031\n",
      "Effective window size : 4.096 (s)\n"
     ]
    },
    {
     "name": "stderr",
     "output_type": "stream",
     "text": [
      "/var/folders/_3/08zshp4n3z1_glk6l5vgyqz40000gn/T/ipykernel_90052/2394794606.py:44: RuntimeWarning: The data contains 'boundary' events, indicating data discontinuities. Be cautious of filtering and epoching around these events.\n",
      "  eeg_dataset_raw = mne.io.read_raw_eeglab(eeg_lab_file_path, preload=True, verbose=flag_verbose)\n"
     ]
    },
    {
     "data": {
      "application/vnd.jupyter.widget-view+json": {
       "model_id": "39515a751769416196e3093adafd41b8",
       "version_major": 2,
       "version_minor": 0
      },
      "text/plain": [
       "Running group fits.:   0%|          | 0/63 [00:00<?, ?it/s]"
      ]
     },
     "metadata": {},
     "output_type": "display_data"
    },
    {
     "name": "stdout",
     "output_type": "stream",
     "text": [
      "\n",
      "-----------------------------------------------------------------------------------------------\n",
      "Processing subject: sub-032\n",
      "Effective window size : 4.096 (s)\n"
     ]
    },
    {
     "name": "stderr",
     "output_type": "stream",
     "text": [
      "/var/folders/_3/08zshp4n3z1_glk6l5vgyqz40000gn/T/ipykernel_90052/2394794606.py:44: RuntimeWarning: The data contains 'boundary' events, indicating data discontinuities. Be cautious of filtering and epoching around these events.\n",
      "  eeg_dataset_raw = mne.io.read_raw_eeglab(eeg_lab_file_path, preload=True, verbose=flag_verbose)\n"
     ]
    },
    {
     "data": {
      "application/vnd.jupyter.widget-view+json": {
       "model_id": "e19dff506cf548c7b33644b795902d45",
       "version_major": 2,
       "version_minor": 0
      },
      "text/plain": [
       "Running group fits.:   0%|          | 0/63 [00:00<?, ?it/s]"
      ]
     },
     "metadata": {},
     "output_type": "display_data"
    },
    {
     "name": "stdout",
     "output_type": "stream",
     "text": [
      "\n",
      "-----------------------------------------------------------------------------------------------\n",
      "Processing subject: sub-033\n",
      "Effective window size : 4.096 (s)\n"
     ]
    },
    {
     "name": "stderr",
     "output_type": "stream",
     "text": [
      "/var/folders/_3/08zshp4n3z1_glk6l5vgyqz40000gn/T/ipykernel_90052/2394794606.py:44: RuntimeWarning: The data contains 'boundary' events, indicating data discontinuities. Be cautious of filtering and epoching around these events.\n",
      "  eeg_dataset_raw = mne.io.read_raw_eeglab(eeg_lab_file_path, preload=True, verbose=flag_verbose)\n"
     ]
    },
    {
     "data": {
      "application/vnd.jupyter.widget-view+json": {
       "model_id": "430aa788ff5246a4b91d2845e0c1a091",
       "version_major": 2,
       "version_minor": 0
      },
      "text/plain": [
       "Running group fits.:   0%|          | 0/63 [00:00<?, ?it/s]"
      ]
     },
     "metadata": {},
     "output_type": "display_data"
    },
    {
     "name": "stdout",
     "output_type": "stream",
     "text": [
      "\n",
      "-----------------------------------------------------------------------------------------------\n",
      "Processing subject: sub-034\n",
      "Effective window size : 4.096 (s)\n"
     ]
    },
    {
     "name": "stderr",
     "output_type": "stream",
     "text": [
      "/var/folders/_3/08zshp4n3z1_glk6l5vgyqz40000gn/T/ipykernel_90052/2394794606.py:44: RuntimeWarning: The data contains 'boundary' events, indicating data discontinuities. Be cautious of filtering and epoching around these events.\n",
      "  eeg_dataset_raw = mne.io.read_raw_eeglab(eeg_lab_file_path, preload=True, verbose=flag_verbose)\n"
     ]
    },
    {
     "data": {
      "application/vnd.jupyter.widget-view+json": {
       "model_id": "3176b252cc1f4a11b3cd986389c2ebb9",
       "version_major": 2,
       "version_minor": 0
      },
      "text/plain": [
       "Running group fits.:   0%|          | 0/63 [00:00<?, ?it/s]"
      ]
     },
     "metadata": {},
     "output_type": "display_data"
    },
    {
     "name": "stdout",
     "output_type": "stream",
     "text": [
      "\n",
      "-----------------------------------------------------------------------------------------------\n",
      "Processing subject: sub-035\n",
      "Effective window size : 4.096 (s)\n"
     ]
    },
    {
     "name": "stderr",
     "output_type": "stream",
     "text": [
      "/var/folders/_3/08zshp4n3z1_glk6l5vgyqz40000gn/T/ipykernel_90052/2394794606.py:44: RuntimeWarning: The data contains 'boundary' events, indicating data discontinuities. Be cautious of filtering and epoching around these events.\n",
      "  eeg_dataset_raw = mne.io.read_raw_eeglab(eeg_lab_file_path, preload=True, verbose=flag_verbose)\n"
     ]
    },
    {
     "data": {
      "application/vnd.jupyter.widget-view+json": {
       "model_id": "30a70c740ead4992af170fc54974b446",
       "version_major": 2,
       "version_minor": 0
      },
      "text/plain": [
       "Running group fits.:   0%|          | 0/63 [00:00<?, ?it/s]"
      ]
     },
     "metadata": {},
     "output_type": "display_data"
    },
    {
     "name": "stdout",
     "output_type": "stream",
     "text": [
      "\n",
      "-----------------------------------------------------------------------------------------------\n",
      "Processing subject: sub-036\n",
      "Effective window size : 4.096 (s)\n"
     ]
    },
    {
     "name": "stderr",
     "output_type": "stream",
     "text": [
      "/var/folders/_3/08zshp4n3z1_glk6l5vgyqz40000gn/T/ipykernel_90052/2394794606.py:44: RuntimeWarning: The data contains 'boundary' events, indicating data discontinuities. Be cautious of filtering and epoching around these events.\n",
      "  eeg_dataset_raw = mne.io.read_raw_eeglab(eeg_lab_file_path, preload=True, verbose=flag_verbose)\n"
     ]
    },
    {
     "data": {
      "application/vnd.jupyter.widget-view+json": {
       "model_id": "d6efccd63cc14266a6e39341fb4a8ef7",
       "version_major": 2,
       "version_minor": 0
      },
      "text/plain": [
       "Running group fits.:   0%|          | 0/63 [00:00<?, ?it/s]"
      ]
     },
     "metadata": {},
     "output_type": "display_data"
    },
    {
     "name": "stdout",
     "output_type": "stream",
     "text": [
      "\n",
      "-----------------------------------------------------------------------------------------------\n",
      "Processing subject: sub-037\n",
      "Effective window size : 4.096 (s)\n"
     ]
    },
    {
     "name": "stderr",
     "output_type": "stream",
     "text": [
      "/var/folders/_3/08zshp4n3z1_glk6l5vgyqz40000gn/T/ipykernel_90052/2394794606.py:44: RuntimeWarning: The data contains 'boundary' events, indicating data discontinuities. Be cautious of filtering and epoching around these events.\n",
      "  eeg_dataset_raw = mne.io.read_raw_eeglab(eeg_lab_file_path, preload=True, verbose=flag_verbose)\n"
     ]
    },
    {
     "data": {
      "application/vnd.jupyter.widget-view+json": {
       "model_id": "58d8ac9c8dc74403bc76581ea3f720f4",
       "version_major": 2,
       "version_minor": 0
      },
      "text/plain": [
       "Running group fits.:   0%|          | 0/63 [00:00<?, ?it/s]"
      ]
     },
     "metadata": {},
     "output_type": "display_data"
    },
    {
     "name": "stdout",
     "output_type": "stream",
     "text": [
      "\n",
      "-----------------------------------------------------------------------------------------------\n",
      "Processing subject: sub-038\n",
      "Effective window size : 4.096 (s)\n"
     ]
    },
    {
     "name": "stderr",
     "output_type": "stream",
     "text": [
      "/var/folders/_3/08zshp4n3z1_glk6l5vgyqz40000gn/T/ipykernel_90052/2394794606.py:44: RuntimeWarning: The data contains 'boundary' events, indicating data discontinuities. Be cautious of filtering and epoching around these events.\n",
      "  eeg_dataset_raw = mne.io.read_raw_eeglab(eeg_lab_file_path, preload=True, verbose=flag_verbose)\n"
     ]
    },
    {
     "data": {
      "application/vnd.jupyter.widget-view+json": {
       "model_id": "1c43813c0dd34f908716f6b8bef4d4cd",
       "version_major": 2,
       "version_minor": 0
      },
      "text/plain": [
       "Running group fits.:   0%|          | 0/63 [00:00<?, ?it/s]"
      ]
     },
     "metadata": {},
     "output_type": "display_data"
    },
    {
     "name": "stdout",
     "output_type": "stream",
     "text": [
      "\n",
      "-----------------------------------------------------------------------------------------------\n",
      "Processing subject: sub-039\n",
      "Effective window size : 4.096 (s)\n"
     ]
    },
    {
     "name": "stderr",
     "output_type": "stream",
     "text": [
      "/var/folders/_3/08zshp4n3z1_glk6l5vgyqz40000gn/T/ipykernel_90052/2394794606.py:44: RuntimeWarning: The data contains 'boundary' events, indicating data discontinuities. Be cautious of filtering and epoching around these events.\n",
      "  eeg_dataset_raw = mne.io.read_raw_eeglab(eeg_lab_file_path, preload=True, verbose=flag_verbose)\n"
     ]
    },
    {
     "data": {
      "application/vnd.jupyter.widget-view+json": {
       "model_id": "13392430799b466e9613f1b46f3e9542",
       "version_major": 2,
       "version_minor": 0
      },
      "text/plain": [
       "Running group fits.:   0%|          | 0/63 [00:00<?, ?it/s]"
      ]
     },
     "metadata": {},
     "output_type": "display_data"
    },
    {
     "name": "stdout",
     "output_type": "stream",
     "text": [
      "\n",
      "-----------------------------------------------------------------------------------------------\n",
      "Processing subject: sub-040\n",
      "Effective window size : 4.096 (s)\n"
     ]
    },
    {
     "name": "stderr",
     "output_type": "stream",
     "text": [
      "/var/folders/_3/08zshp4n3z1_glk6l5vgyqz40000gn/T/ipykernel_90052/2394794606.py:44: RuntimeWarning: The data contains 'boundary' events, indicating data discontinuities. Be cautious of filtering and epoching around these events.\n",
      "  eeg_dataset_raw = mne.io.read_raw_eeglab(eeg_lab_file_path, preload=True, verbose=flag_verbose)\n"
     ]
    },
    {
     "data": {
      "application/vnd.jupyter.widget-view+json": {
       "model_id": "552b731c65ea487a94f782442b0c9a8a",
       "version_major": 2,
       "version_minor": 0
      },
      "text/plain": [
       "Running group fits.:   0%|          | 0/63 [00:00<?, ?it/s]"
      ]
     },
     "metadata": {},
     "output_type": "display_data"
    },
    {
     "name": "stdout",
     "output_type": "stream",
     "text": [
      "\n",
      "-----------------------------------------------------------------------------------------------\n",
      "Processing subject: sub-041\n",
      "Effective window size : 4.096 (s)\n"
     ]
    },
    {
     "name": "stderr",
     "output_type": "stream",
     "text": [
      "/var/folders/_3/08zshp4n3z1_glk6l5vgyqz40000gn/T/ipykernel_90052/2394794606.py:44: RuntimeWarning: The data contains 'boundary' events, indicating data discontinuities. Be cautious of filtering and epoching around these events.\n",
      "  eeg_dataset_raw = mne.io.read_raw_eeglab(eeg_lab_file_path, preload=True, verbose=flag_verbose)\n"
     ]
    },
    {
     "data": {
      "application/vnd.jupyter.widget-view+json": {
       "model_id": "baedf44fc5404ae0afd5a0226e16a684",
       "version_major": 2,
       "version_minor": 0
      },
      "text/plain": [
       "Running group fits.:   0%|          | 0/63 [00:00<?, ?it/s]"
      ]
     },
     "metadata": {},
     "output_type": "display_data"
    },
    {
     "name": "stdout",
     "output_type": "stream",
     "text": [
      "\n",
      "-----------------------------------------------------------------------------------------------\n",
      "Processing subject: sub-042\n",
      "Effective window size : 4.096 (s)\n"
     ]
    },
    {
     "name": "stderr",
     "output_type": "stream",
     "text": [
      "/var/folders/_3/08zshp4n3z1_glk6l5vgyqz40000gn/T/ipykernel_90052/2394794606.py:44: RuntimeWarning: The data contains 'boundary' events, indicating data discontinuities. Be cautious of filtering and epoching around these events.\n",
      "  eeg_dataset_raw = mne.io.read_raw_eeglab(eeg_lab_file_path, preload=True, verbose=flag_verbose)\n"
     ]
    },
    {
     "data": {
      "application/vnd.jupyter.widget-view+json": {
       "model_id": "8fb8196337044d7eb70b2ddcd24d2090",
       "version_major": 2,
       "version_minor": 0
      },
      "text/plain": [
       "Running group fits.:   0%|          | 0/63 [00:00<?, ?it/s]"
      ]
     },
     "metadata": {},
     "output_type": "display_data"
    },
    {
     "name": "stdout",
     "output_type": "stream",
     "text": [
      "\n",
      "-----------------------------------------------------------------------------------------------\n",
      "Processing subject: sub-043\n",
      "Effective window size : 4.096 (s)\n"
     ]
    },
    {
     "name": "stderr",
     "output_type": "stream",
     "text": [
      "/var/folders/_3/08zshp4n3z1_glk6l5vgyqz40000gn/T/ipykernel_90052/2394794606.py:44: RuntimeWarning: The data contains 'boundary' events, indicating data discontinuities. Be cautious of filtering and epoching around these events.\n",
      "  eeg_dataset_raw = mne.io.read_raw_eeglab(eeg_lab_file_path, preload=True, verbose=flag_verbose)\n"
     ]
    },
    {
     "data": {
      "application/vnd.jupyter.widget-view+json": {
       "model_id": "bc8dc46e187c44cca0fa3d99e8d1c482",
       "version_major": 2,
       "version_minor": 0
      },
      "text/plain": [
       "Running group fits.:   0%|          | 0/63 [00:00<?, ?it/s]"
      ]
     },
     "metadata": {},
     "output_type": "display_data"
    },
    {
     "name": "stdout",
     "output_type": "stream",
     "text": [
      "\n",
      "-----------------------------------------------------------------------------------------------\n",
      "Processing subject: sub-044\n",
      "Effective window size : 4.096 (s)\n"
     ]
    },
    {
     "name": "stderr",
     "output_type": "stream",
     "text": [
      "/var/folders/_3/08zshp4n3z1_glk6l5vgyqz40000gn/T/ipykernel_90052/2394794606.py:44: RuntimeWarning: The data contains 'boundary' events, indicating data discontinuities. Be cautious of filtering and epoching around these events.\n",
      "  eeg_dataset_raw = mne.io.read_raw_eeglab(eeg_lab_file_path, preload=True, verbose=flag_verbose)\n"
     ]
    },
    {
     "data": {
      "application/vnd.jupyter.widget-view+json": {
       "model_id": "f3be53ea9a3d4037b4d4ca22e4e6ef97",
       "version_major": 2,
       "version_minor": 0
      },
      "text/plain": [
       "Running group fits.:   0%|          | 0/63 [00:00<?, ?it/s]"
      ]
     },
     "metadata": {},
     "output_type": "display_data"
    },
    {
     "name": "stdout",
     "output_type": "stream",
     "text": [
      "\n",
      "-----------------------------------------------------------------------------------------------\n",
      "Processing subject: sub-045\n",
      "Effective window size : 4.096 (s)\n"
     ]
    },
    {
     "name": "stderr",
     "output_type": "stream",
     "text": [
      "/var/folders/_3/08zshp4n3z1_glk6l5vgyqz40000gn/T/ipykernel_90052/2394794606.py:44: RuntimeWarning: The data contains 'boundary' events, indicating data discontinuities. Be cautious of filtering and epoching around these events.\n",
      "  eeg_dataset_raw = mne.io.read_raw_eeglab(eeg_lab_file_path, preload=True, verbose=flag_verbose)\n"
     ]
    },
    {
     "data": {
      "application/vnd.jupyter.widget-view+json": {
       "model_id": "ec862db1f6ea43d7bd233aadb3b0d3b9",
       "version_major": 2,
       "version_minor": 0
      },
      "text/plain": [
       "Running group fits.:   0%|          | 0/63 [00:00<?, ?it/s]"
      ]
     },
     "metadata": {},
     "output_type": "display_data"
    },
    {
     "name": "stdout",
     "output_type": "stream",
     "text": [
      "\n",
      "-----------------------------------------------------------------------------------------------\n",
      "Processing subject: sub-046\n",
      "Effective window size : 4.096 (s)\n"
     ]
    },
    {
     "name": "stderr",
     "output_type": "stream",
     "text": [
      "/var/folders/_3/08zshp4n3z1_glk6l5vgyqz40000gn/T/ipykernel_90052/2394794606.py:44: RuntimeWarning: The data contains 'boundary' events, indicating data discontinuities. Be cautious of filtering and epoching around these events.\n",
      "  eeg_dataset_raw = mne.io.read_raw_eeglab(eeg_lab_file_path, preload=True, verbose=flag_verbose)\n"
     ]
    },
    {
     "data": {
      "application/vnd.jupyter.widget-view+json": {
       "model_id": "7deae0cc46bd478da9ee25914bf8d8e5",
       "version_major": 2,
       "version_minor": 0
      },
      "text/plain": [
       "Running group fits.:   0%|          | 0/63 [00:00<?, ?it/s]"
      ]
     },
     "metadata": {},
     "output_type": "display_data"
    },
    {
     "name": "stdout",
     "output_type": "stream",
     "text": [
      "\n",
      "-----------------------------------------------------------------------------------------------\n",
      "Processing subject: sub-047\n",
      "Effective window size : 4.096 (s)\n"
     ]
    },
    {
     "name": "stderr",
     "output_type": "stream",
     "text": [
      "/var/folders/_3/08zshp4n3z1_glk6l5vgyqz40000gn/T/ipykernel_90052/2394794606.py:44: RuntimeWarning: The data contains 'boundary' events, indicating data discontinuities. Be cautious of filtering and epoching around these events.\n",
      "  eeg_dataset_raw = mne.io.read_raw_eeglab(eeg_lab_file_path, preload=True, verbose=flag_verbose)\n"
     ]
    },
    {
     "data": {
      "application/vnd.jupyter.widget-view+json": {
       "model_id": "8055f728d83346d1944772a4ddb3b185",
       "version_major": 2,
       "version_minor": 0
      },
      "text/plain": [
       "Running group fits.:   0%|          | 0/63 [00:00<?, ?it/s]"
      ]
     },
     "metadata": {},
     "output_type": "display_data"
    },
    {
     "name": "stdout",
     "output_type": "stream",
     "text": [
      "\n",
      "-----------------------------------------------------------------------------------------------\n",
      "Processing subject: sub-048\n",
      "Effective window size : 4.096 (s)\n"
     ]
    },
    {
     "name": "stderr",
     "output_type": "stream",
     "text": [
      "/var/folders/_3/08zshp4n3z1_glk6l5vgyqz40000gn/T/ipykernel_90052/2394794606.py:44: RuntimeWarning: The data contains 'boundary' events, indicating data discontinuities. Be cautious of filtering and epoching around these events.\n",
      "  eeg_dataset_raw = mne.io.read_raw_eeglab(eeg_lab_file_path, preload=True, verbose=flag_verbose)\n"
     ]
    },
    {
     "data": {
      "application/vnd.jupyter.widget-view+json": {
       "model_id": "c8991fd5bafe44eaaffbe1192f3b5760",
       "version_major": 2,
       "version_minor": 0
      },
      "text/plain": [
       "Running group fits.:   0%|          | 0/63 [00:00<?, ?it/s]"
      ]
     },
     "metadata": {},
     "output_type": "display_data"
    },
    {
     "name": "stdout",
     "output_type": "stream",
     "text": [
      "\n",
      "-----------------------------------------------------------------------------------------------\n",
      "Processing subject: sub-049\n",
      "Effective window size : 4.096 (s)\n"
     ]
    },
    {
     "name": "stderr",
     "output_type": "stream",
     "text": [
      "/var/folders/_3/08zshp4n3z1_glk6l5vgyqz40000gn/T/ipykernel_90052/2394794606.py:44: RuntimeWarning: The data contains 'boundary' events, indicating data discontinuities. Be cautious of filtering and epoching around these events.\n",
      "  eeg_dataset_raw = mne.io.read_raw_eeglab(eeg_lab_file_path, preload=True, verbose=flag_verbose)\n"
     ]
    },
    {
     "data": {
      "application/vnd.jupyter.widget-view+json": {
       "model_id": "288284ed7b4c4e15a7d3dae272573c78",
       "version_major": 2,
       "version_minor": 0
      },
      "text/plain": [
       "Running group fits.:   0%|          | 0/64 [00:00<?, ?it/s]"
      ]
     },
     "metadata": {},
     "output_type": "display_data"
    },
    {
     "name": "stdout",
     "output_type": "stream",
     "text": [
      "\n",
      "-----------------------------------------------------------------------------------------------\n",
      "Processing subject: sub-050\n",
      "Effective window size : 4.096 (s)\n"
     ]
    },
    {
     "name": "stderr",
     "output_type": "stream",
     "text": [
      "/var/folders/_3/08zshp4n3z1_glk6l5vgyqz40000gn/T/ipykernel_90052/2394794606.py:44: RuntimeWarning: The data contains 'boundary' events, indicating data discontinuities. Be cautious of filtering and epoching around these events.\n",
      "  eeg_dataset_raw = mne.io.read_raw_eeglab(eeg_lab_file_path, preload=True, verbose=flag_verbose)\n"
     ]
    },
    {
     "data": {
      "application/vnd.jupyter.widget-view+json": {
       "model_id": "f2af4556583d4143a00c36877b3f52cf",
       "version_major": 2,
       "version_minor": 0
      },
      "text/plain": [
       "Running group fits.:   0%|          | 0/64 [00:00<?, ?it/s]"
      ]
     },
     "metadata": {},
     "output_type": "display_data"
    },
    {
     "name": "stdout",
     "output_type": "stream",
     "text": [
      "\n",
      "-----------------------------------------------------------------------------------------------\n",
      "Processing subject: sub-051\n",
      "Effective window size : 4.096 (s)\n"
     ]
    },
    {
     "name": "stderr",
     "output_type": "stream",
     "text": [
      "/var/folders/_3/08zshp4n3z1_glk6l5vgyqz40000gn/T/ipykernel_90052/2394794606.py:44: RuntimeWarning: The data contains 'boundary' events, indicating data discontinuities. Be cautious of filtering and epoching around these events.\n",
      "  eeg_dataset_raw = mne.io.read_raw_eeglab(eeg_lab_file_path, preload=True, verbose=flag_verbose)\n"
     ]
    },
    {
     "data": {
      "application/vnd.jupyter.widget-view+json": {
       "model_id": "d23ee55c98b94b84988d90f49a427764",
       "version_major": 2,
       "version_minor": 0
      },
      "text/plain": [
       "Running group fits.:   0%|          | 0/63 [00:00<?, ?it/s]"
      ]
     },
     "metadata": {},
     "output_type": "display_data"
    },
    {
     "name": "stdout",
     "output_type": "stream",
     "text": [
      "\n",
      "-----------------------------------------------------------------------------------------------\n",
      "Processing subject: sub-052\n",
      "Effective window size : 4.096 (s)\n"
     ]
    },
    {
     "name": "stderr",
     "output_type": "stream",
     "text": [
      "/var/folders/_3/08zshp4n3z1_glk6l5vgyqz40000gn/T/ipykernel_90052/2394794606.py:44: RuntimeWarning: The data contains 'boundary' events, indicating data discontinuities. Be cautious of filtering and epoching around these events.\n",
      "  eeg_dataset_raw = mne.io.read_raw_eeglab(eeg_lab_file_path, preload=True, verbose=flag_verbose)\n"
     ]
    },
    {
     "data": {
      "application/vnd.jupyter.widget-view+json": {
       "model_id": "a036c8cc084747ee8c3ba485e49ed61c",
       "version_major": 2,
       "version_minor": 0
      },
      "text/plain": [
       "Running group fits.:   0%|          | 0/63 [00:00<?, ?it/s]"
      ]
     },
     "metadata": {},
     "output_type": "display_data"
    },
    {
     "name": "stdout",
     "output_type": "stream",
     "text": [
      "\n",
      "-----------------------------------------------------------------------------------------------\n",
      "Processing subject: sub-053\n",
      "Effective window size : 4.096 (s)\n"
     ]
    },
    {
     "name": "stderr",
     "output_type": "stream",
     "text": [
      "/var/folders/_3/08zshp4n3z1_glk6l5vgyqz40000gn/T/ipykernel_90052/2394794606.py:44: RuntimeWarning: The data contains 'boundary' events, indicating data discontinuities. Be cautious of filtering and epoching around these events.\n",
      "  eeg_dataset_raw = mne.io.read_raw_eeglab(eeg_lab_file_path, preload=True, verbose=flag_verbose)\n"
     ]
    },
    {
     "data": {
      "application/vnd.jupyter.widget-view+json": {
       "model_id": "eead6e5963bf48b2844f1e6dd0756c9f",
       "version_major": 2,
       "version_minor": 0
      },
      "text/plain": [
       "Running group fits.:   0%|          | 0/63 [00:00<?, ?it/s]"
      ]
     },
     "metadata": {},
     "output_type": "display_data"
    },
    {
     "name": "stdout",
     "output_type": "stream",
     "text": [
      "\n",
      "-----------------------------------------------------------------------------------------------\n",
      "Processing subject: sub-054\n",
      "Effective window size : 4.096 (s)\n"
     ]
    },
    {
     "name": "stderr",
     "output_type": "stream",
     "text": [
      "/var/folders/_3/08zshp4n3z1_glk6l5vgyqz40000gn/T/ipykernel_90052/2394794606.py:44: RuntimeWarning: The data contains 'boundary' events, indicating data discontinuities. Be cautious of filtering and epoching around these events.\n",
      "  eeg_dataset_raw = mne.io.read_raw_eeglab(eeg_lab_file_path, preload=True, verbose=flag_verbose)\n"
     ]
    },
    {
     "data": {
      "application/vnd.jupyter.widget-view+json": {
       "model_id": "cfce4f5f1cd24ce7b6e3c09f48751df3",
       "version_major": 2,
       "version_minor": 0
      },
      "text/plain": [
       "Running group fits.:   0%|          | 0/63 [00:00<?, ?it/s]"
      ]
     },
     "metadata": {},
     "output_type": "display_data"
    },
    {
     "name": "stdout",
     "output_type": "stream",
     "text": [
      "\n",
      "-----------------------------------------------------------------------------------------------\n",
      "Processing subject: sub-055\n",
      "Effective window size : 4.096 (s)\n"
     ]
    },
    {
     "name": "stderr",
     "output_type": "stream",
     "text": [
      "/var/folders/_3/08zshp4n3z1_glk6l5vgyqz40000gn/T/ipykernel_90052/2394794606.py:44: RuntimeWarning: The data contains 'boundary' events, indicating data discontinuities. Be cautious of filtering and epoching around these events.\n",
      "  eeg_dataset_raw = mne.io.read_raw_eeglab(eeg_lab_file_path, preload=True, verbose=flag_verbose)\n"
     ]
    },
    {
     "data": {
      "application/vnd.jupyter.widget-view+json": {
       "model_id": "efb23a9a9133408fbd2fb71771065008",
       "version_major": 2,
       "version_minor": 0
      },
      "text/plain": [
       "Running group fits.:   0%|          | 0/63 [00:00<?, ?it/s]"
      ]
     },
     "metadata": {},
     "output_type": "display_data"
    },
    {
     "name": "stdout",
     "output_type": "stream",
     "text": [
      "\n",
      "-----------------------------------------------------------------------------------------------\n",
      "Processing subject: sub-056\n",
      "Effective window size : 4.096 (s)\n"
     ]
    },
    {
     "name": "stderr",
     "output_type": "stream",
     "text": [
      "/var/folders/_3/08zshp4n3z1_glk6l5vgyqz40000gn/T/ipykernel_90052/2394794606.py:44: RuntimeWarning: The data contains 'boundary' events, indicating data discontinuities. Be cautious of filtering and epoching around these events.\n",
      "  eeg_dataset_raw = mne.io.read_raw_eeglab(eeg_lab_file_path, preload=True, verbose=flag_verbose)\n"
     ]
    },
    {
     "data": {
      "application/vnd.jupyter.widget-view+json": {
       "model_id": "af8dc73f90424646afb80e461be0895b",
       "version_major": 2,
       "version_minor": 0
      },
      "text/plain": [
       "Running group fits.:   0%|          | 0/63 [00:00<?, ?it/s]"
      ]
     },
     "metadata": {},
     "output_type": "display_data"
    },
    {
     "name": "stdout",
     "output_type": "stream",
     "text": [
      "\n",
      "-----------------------------------------------------------------------------------------------\n",
      "Processing subject: sub-057\n",
      "Effective window size : 4.096 (s)\n"
     ]
    },
    {
     "name": "stderr",
     "output_type": "stream",
     "text": [
      "/var/folders/_3/08zshp4n3z1_glk6l5vgyqz40000gn/T/ipykernel_90052/2394794606.py:44: RuntimeWarning: The data contains 'boundary' events, indicating data discontinuities. Be cautious of filtering and epoching around these events.\n",
      "  eeg_dataset_raw = mne.io.read_raw_eeglab(eeg_lab_file_path, preload=True, verbose=flag_verbose)\n"
     ]
    },
    {
     "data": {
      "application/vnd.jupyter.widget-view+json": {
       "model_id": "06dcff85c3ef4c2c896124df0f34a845",
       "version_major": 2,
       "version_minor": 0
      },
      "text/plain": [
       "Running group fits.:   0%|          | 0/63 [00:00<?, ?it/s]"
      ]
     },
     "metadata": {},
     "output_type": "display_data"
    },
    {
     "name": "stdout",
     "output_type": "stream",
     "text": [
      "\n",
      "-----------------------------------------------------------------------------------------------\n",
      "Processing subject: sub-058\n",
      "Effective window size : 4.096 (s)\n"
     ]
    },
    {
     "name": "stderr",
     "output_type": "stream",
     "text": [
      "/var/folders/_3/08zshp4n3z1_glk6l5vgyqz40000gn/T/ipykernel_90052/2394794606.py:44: RuntimeWarning: The data contains 'boundary' events, indicating data discontinuities. Be cautious of filtering and epoching around these events.\n",
      "  eeg_dataset_raw = mne.io.read_raw_eeglab(eeg_lab_file_path, preload=True, verbose=flag_verbose)\n"
     ]
    },
    {
     "data": {
      "application/vnd.jupyter.widget-view+json": {
       "model_id": "e9b87929dfc2406f85edb73ce1186ef3",
       "version_major": 2,
       "version_minor": 0
      },
      "text/plain": [
       "Running group fits.:   0%|          | 0/63 [00:00<?, ?it/s]"
      ]
     },
     "metadata": {},
     "output_type": "display_data"
    },
    {
     "name": "stdout",
     "output_type": "stream",
     "text": [
      "\n",
      "-----------------------------------------------------------------------------------------------\n",
      "Processing subject: sub-059\n",
      "Effective window size : 4.096 (s)\n"
     ]
    },
    {
     "name": "stderr",
     "output_type": "stream",
     "text": [
      "/var/folders/_3/08zshp4n3z1_glk6l5vgyqz40000gn/T/ipykernel_90052/2394794606.py:44: RuntimeWarning: The data contains 'boundary' events, indicating data discontinuities. Be cautious of filtering and epoching around these events.\n",
      "  eeg_dataset_raw = mne.io.read_raw_eeglab(eeg_lab_file_path, preload=True, verbose=flag_verbose)\n"
     ]
    },
    {
     "data": {
      "application/vnd.jupyter.widget-view+json": {
       "model_id": "c2c33fcb371c43f0b21032cf0613f1c4",
       "version_major": 2,
       "version_minor": 0
      },
      "text/plain": [
       "Running group fits.:   0%|          | 0/63 [00:00<?, ?it/s]"
      ]
     },
     "metadata": {},
     "output_type": "display_data"
    },
    {
     "name": "stdout",
     "output_type": "stream",
     "text": [
      "\n",
      "-----------------------------------------------------------------------------------------------\n",
      "Processing subject: sub-060\n",
      "Effective window size : 4.096 (s)\n"
     ]
    },
    {
     "name": "stderr",
     "output_type": "stream",
     "text": [
      "/var/folders/_3/08zshp4n3z1_glk6l5vgyqz40000gn/T/ipykernel_90052/2394794606.py:44: RuntimeWarning: The data contains 'boundary' events, indicating data discontinuities. Be cautious of filtering and epoching around these events.\n",
      "  eeg_dataset_raw = mne.io.read_raw_eeglab(eeg_lab_file_path, preload=True, verbose=flag_verbose)\n"
     ]
    },
    {
     "data": {
      "application/vnd.jupyter.widget-view+json": {
       "model_id": "8a9c726e93e64c9fb0d86a9f621c384a",
       "version_major": 2,
       "version_minor": 0
      },
      "text/plain": [
       "Running group fits.:   0%|          | 0/63 [00:00<?, ?it/s]"
      ]
     },
     "metadata": {},
     "output_type": "display_data"
    },
    {
     "name": "stdout",
     "output_type": "stream",
     "text": [
      "\n",
      "-----------------------------------------------------------------------------------------------\n",
      "Processing subject: sub-061\n",
      "Effective window size : 4.096 (s)\n"
     ]
    },
    {
     "name": "stderr",
     "output_type": "stream",
     "text": [
      "/var/folders/_3/08zshp4n3z1_glk6l5vgyqz40000gn/T/ipykernel_90052/2394794606.py:44: RuntimeWarning: The data contains 'boundary' events, indicating data discontinuities. Be cautious of filtering and epoching around these events.\n",
      "  eeg_dataset_raw = mne.io.read_raw_eeglab(eeg_lab_file_path, preload=True, verbose=flag_verbose)\n"
     ]
    },
    {
     "data": {
      "application/vnd.jupyter.widget-view+json": {
       "model_id": "196d1610143f4de08928dca09e891328",
       "version_major": 2,
       "version_minor": 0
      },
      "text/plain": [
       "Running group fits.:   0%|          | 0/63 [00:00<?, ?it/s]"
      ]
     },
     "metadata": {},
     "output_type": "display_data"
    },
    {
     "name": "stdout",
     "output_type": "stream",
     "text": [
      "\n",
      "-----------------------------------------------------------------------------------------------\n",
      "Processing subject: sub-062\n",
      "Effective window size : 4.096 (s)\n"
     ]
    },
    {
     "name": "stderr",
     "output_type": "stream",
     "text": [
      "/var/folders/_3/08zshp4n3z1_glk6l5vgyqz40000gn/T/ipykernel_90052/2394794606.py:44: RuntimeWarning: The data contains 'boundary' events, indicating data discontinuities. Be cautious of filtering and epoching around these events.\n",
      "  eeg_dataset_raw = mne.io.read_raw_eeglab(eeg_lab_file_path, preload=True, verbose=flag_verbose)\n"
     ]
    },
    {
     "data": {
      "application/vnd.jupyter.widget-view+json": {
       "model_id": "3045578a0ba9432ebfee6a60d632ea0c",
       "version_major": 2,
       "version_minor": 0
      },
      "text/plain": [
       "Running group fits.:   0%|          | 0/63 [00:00<?, ?it/s]"
      ]
     },
     "metadata": {},
     "output_type": "display_data"
    },
    {
     "name": "stdout",
     "output_type": "stream",
     "text": [
      "\n",
      "-----------------------------------------------------------------------------------------------\n",
      "Processing subject: sub-063\n",
      "Effective window size : 4.096 (s)\n"
     ]
    },
    {
     "name": "stderr",
     "output_type": "stream",
     "text": [
      "/var/folders/_3/08zshp4n3z1_glk6l5vgyqz40000gn/T/ipykernel_90052/2394794606.py:44: RuntimeWarning: The data contains 'boundary' events, indicating data discontinuities. Be cautious of filtering and epoching around these events.\n",
      "  eeg_dataset_raw = mne.io.read_raw_eeglab(eeg_lab_file_path, preload=True, verbose=flag_verbose)\n"
     ]
    },
    {
     "data": {
      "application/vnd.jupyter.widget-view+json": {
       "model_id": "9f5fb9788ec647f49114004b855e9bc2",
       "version_major": 2,
       "version_minor": 0
      },
      "text/plain": [
       "Running group fits.:   0%|          | 0/63 [00:00<?, ?it/s]"
      ]
     },
     "metadata": {},
     "output_type": "display_data"
    },
    {
     "name": "stdout",
     "output_type": "stream",
     "text": [
      "\n",
      "-----------------------------------------------------------------------------------------------\n",
      "Processing subject: sub-064\n",
      "Effective window size : 4.096 (s)\n"
     ]
    },
    {
     "name": "stderr",
     "output_type": "stream",
     "text": [
      "/var/folders/_3/08zshp4n3z1_glk6l5vgyqz40000gn/T/ipykernel_90052/2394794606.py:44: RuntimeWarning: The data contains 'boundary' events, indicating data discontinuities. Be cautious of filtering and epoching around these events.\n",
      "  eeg_dataset_raw = mne.io.read_raw_eeglab(eeg_lab_file_path, preload=True, verbose=flag_verbose)\n"
     ]
    },
    {
     "data": {
      "application/vnd.jupyter.widget-view+json": {
       "model_id": "a9f3f4cb701f471b96e57f1783e0299d",
       "version_major": 2,
       "version_minor": 0
      },
      "text/plain": [
       "Running group fits.:   0%|          | 0/63 [00:00<?, ?it/s]"
      ]
     },
     "metadata": {},
     "output_type": "display_data"
    },
    {
     "name": "stdout",
     "output_type": "stream",
     "text": [
      "\n",
      "-----------------------------------------------------------------------------------------------\n",
      "Processing subject: sub-065\n",
      "Effective window size : 4.096 (s)\n"
     ]
    },
    {
     "name": "stderr",
     "output_type": "stream",
     "text": [
      "/var/folders/_3/08zshp4n3z1_glk6l5vgyqz40000gn/T/ipykernel_90052/2394794606.py:44: RuntimeWarning: The data contains 'boundary' events, indicating data discontinuities. Be cautious of filtering and epoching around these events.\n",
      "  eeg_dataset_raw = mne.io.read_raw_eeglab(eeg_lab_file_path, preload=True, verbose=flag_verbose)\n"
     ]
    },
    {
     "data": {
      "application/vnd.jupyter.widget-view+json": {
       "model_id": "b95ab956d62f47a6a925ae0e40d03bc8",
       "version_major": 2,
       "version_minor": 0
      },
      "text/plain": [
       "Running group fits.:   0%|          | 0/64 [00:00<?, ?it/s]"
      ]
     },
     "metadata": {},
     "output_type": "display_data"
    },
    {
     "name": "stdout",
     "output_type": "stream",
     "text": [
      "\n",
      "-----------------------------------------------------------------------------------------------\n",
      "Processing subject: sub-066\n",
      "Effective window size : 4.096 (s)\n"
     ]
    },
    {
     "name": "stderr",
     "output_type": "stream",
     "text": [
      "/var/folders/_3/08zshp4n3z1_glk6l5vgyqz40000gn/T/ipykernel_90052/2394794606.py:44: RuntimeWarning: The data contains 'boundary' events, indicating data discontinuities. Be cautious of filtering and epoching around these events.\n",
      "  eeg_dataset_raw = mne.io.read_raw_eeglab(eeg_lab_file_path, preload=True, verbose=flag_verbose)\n"
     ]
    },
    {
     "data": {
      "application/vnd.jupyter.widget-view+json": {
       "model_id": "c654f264d595400bbb8573daf37bc149",
       "version_major": 2,
       "version_minor": 0
      },
      "text/plain": [
       "Running group fits.:   0%|          | 0/64 [00:00<?, ?it/s]"
      ]
     },
     "metadata": {},
     "output_type": "display_data"
    },
    {
     "name": "stdout",
     "output_type": "stream",
     "text": [
      "\n",
      "-----------------------------------------------------------------------------------------------\n",
      "Processing subject: sub-067\n",
      "Effective window size : 4.096 (s)\n"
     ]
    },
    {
     "name": "stderr",
     "output_type": "stream",
     "text": [
      "/var/folders/_3/08zshp4n3z1_glk6l5vgyqz40000gn/T/ipykernel_90052/2394794606.py:44: RuntimeWarning: The data contains 'boundary' events, indicating data discontinuities. Be cautious of filtering and epoching around these events.\n",
      "  eeg_dataset_raw = mne.io.read_raw_eeglab(eeg_lab_file_path, preload=True, verbose=flag_verbose)\n"
     ]
    },
    {
     "data": {
      "application/vnd.jupyter.widget-view+json": {
       "model_id": "f6c7314d2bc14deeaf4a640839671f43",
       "version_major": 2,
       "version_minor": 0
      },
      "text/plain": [
       "Running group fits.:   0%|          | 0/63 [00:00<?, ?it/s]"
      ]
     },
     "metadata": {},
     "output_type": "display_data"
    },
    {
     "name": "stdout",
     "output_type": "stream",
     "text": [
      "\n",
      "-----------------------------------------------------------------------------------------------\n",
      "Processing subject: sub-068\n",
      "Effective window size : 4.096 (s)\n"
     ]
    },
    {
     "name": "stderr",
     "output_type": "stream",
     "text": [
      "/var/folders/_3/08zshp4n3z1_glk6l5vgyqz40000gn/T/ipykernel_90052/2394794606.py:44: RuntimeWarning: The data contains 'boundary' events, indicating data discontinuities. Be cautious of filtering and epoching around these events.\n",
      "  eeg_dataset_raw = mne.io.read_raw_eeglab(eeg_lab_file_path, preload=True, verbose=flag_verbose)\n"
     ]
    },
    {
     "data": {
      "application/vnd.jupyter.widget-view+json": {
       "model_id": "c14fcab97ed14fc182219362452160c3",
       "version_major": 2,
       "version_minor": 0
      },
      "text/plain": [
       "Running group fits.:   0%|          | 0/66 [00:00<?, ?it/s]"
      ]
     },
     "metadata": {},
     "output_type": "display_data"
    },
    {
     "name": "stdout",
     "output_type": "stream",
     "text": [
      "\n",
      "-----------------------------------------------------------------------------------------------\n",
      "Processing subject: sub-069\n",
      "Effective window size : 4.096 (s)\n"
     ]
    },
    {
     "name": "stderr",
     "output_type": "stream",
     "text": [
      "/var/folders/_3/08zshp4n3z1_glk6l5vgyqz40000gn/T/ipykernel_90052/2394794606.py:44: RuntimeWarning: The data contains 'boundary' events, indicating data discontinuities. Be cautious of filtering and epoching around these events.\n",
      "  eeg_dataset_raw = mne.io.read_raw_eeglab(eeg_lab_file_path, preload=True, verbose=flag_verbose)\n"
     ]
    },
    {
     "data": {
      "application/vnd.jupyter.widget-view+json": {
       "model_id": "cd1ddb6067104855911b3706d98d3ce9",
       "version_major": 2,
       "version_minor": 0
      },
      "text/plain": [
       "Running group fits.:   0%|          | 0/64 [00:00<?, ?it/s]"
      ]
     },
     "metadata": {},
     "output_type": "display_data"
    },
    {
     "name": "stdout",
     "output_type": "stream",
     "text": [
      "\n",
      "-----------------------------------------------------------------------------------------------\n",
      "Processing subject: sub-070\n",
      "Effective window size : 4.096 (s)\n"
     ]
    },
    {
     "name": "stderr",
     "output_type": "stream",
     "text": [
      "/var/folders/_3/08zshp4n3z1_glk6l5vgyqz40000gn/T/ipykernel_90052/2394794606.py:44: RuntimeWarning: The data contains 'boundary' events, indicating data discontinuities. Be cautious of filtering and epoching around these events.\n",
      "  eeg_dataset_raw = mne.io.read_raw_eeglab(eeg_lab_file_path, preload=True, verbose=flag_verbose)\n"
     ]
    },
    {
     "data": {
      "application/vnd.jupyter.widget-view+json": {
       "model_id": "57a3788648734cec8b0f2b6384081c49",
       "version_major": 2,
       "version_minor": 0
      },
      "text/plain": [
       "Running group fits.:   0%|          | 0/63 [00:00<?, ?it/s]"
      ]
     },
     "metadata": {},
     "output_type": "display_data"
    },
    {
     "name": "stdout",
     "output_type": "stream",
     "text": [
      "\n",
      "-----------------------------------------------------------------------------------------------\n",
      "Processing subject: sub-071\n",
      "Effective window size : 4.096 (s)\n"
     ]
    },
    {
     "name": "stderr",
     "output_type": "stream",
     "text": [
      "/var/folders/_3/08zshp4n3z1_glk6l5vgyqz40000gn/T/ipykernel_90052/2394794606.py:44: RuntimeWarning: The data contains 'boundary' events, indicating data discontinuities. Be cautious of filtering and epoching around these events.\n",
      "  eeg_dataset_raw = mne.io.read_raw_eeglab(eeg_lab_file_path, preload=True, verbose=flag_verbose)\n"
     ]
    },
    {
     "data": {
      "application/vnd.jupyter.widget-view+json": {
       "model_id": "bd11b8ebf61e443093c4c7b4f427b85c",
       "version_major": 2,
       "version_minor": 0
      },
      "text/plain": [
       "Running group fits.:   0%|          | 0/63 [00:00<?, ?it/s]"
      ]
     },
     "metadata": {},
     "output_type": "display_data"
    },
    {
     "name": "stdout",
     "output_type": "stream",
     "text": [
      "\n",
      "-----------------------------------------------------------------------------------------------\n",
      "Processing subject: sub-072\n",
      "Effective window size : 4.096 (s)\n"
     ]
    },
    {
     "name": "stderr",
     "output_type": "stream",
     "text": [
      "/var/folders/_3/08zshp4n3z1_glk6l5vgyqz40000gn/T/ipykernel_90052/2394794606.py:44: RuntimeWarning: The data contains 'boundary' events, indicating data discontinuities. Be cautious of filtering and epoching around these events.\n",
      "  eeg_dataset_raw = mne.io.read_raw_eeglab(eeg_lab_file_path, preload=True, verbose=flag_verbose)\n"
     ]
    },
    {
     "data": {
      "application/vnd.jupyter.widget-view+json": {
       "model_id": "837dd4c118f644dd8ecebbf01943734c",
       "version_major": 2,
       "version_minor": 0
      },
      "text/plain": [
       "Running group fits.:   0%|          | 0/63 [00:00<?, ?it/s]"
      ]
     },
     "metadata": {},
     "output_type": "display_data"
    },
    {
     "name": "stdout",
     "output_type": "stream",
     "text": [
      "\n",
      "-----------------------------------------------------------------------------------------------\n",
      "Processing subject: sub-073\n",
      "Effective window size : 4.096 (s)\n"
     ]
    },
    {
     "name": "stderr",
     "output_type": "stream",
     "text": [
      "/var/folders/_3/08zshp4n3z1_glk6l5vgyqz40000gn/T/ipykernel_90052/2394794606.py:44: RuntimeWarning: The data contains 'boundary' events, indicating data discontinuities. Be cautious of filtering and epoching around these events.\n",
      "  eeg_dataset_raw = mne.io.read_raw_eeglab(eeg_lab_file_path, preload=True, verbose=flag_verbose)\n"
     ]
    },
    {
     "data": {
      "application/vnd.jupyter.widget-view+json": {
       "model_id": "4fbc0f43af674c6da463d77f4596815d",
       "version_major": 2,
       "version_minor": 0
      },
      "text/plain": [
       "Running group fits.:   0%|          | 0/63 [00:00<?, ?it/s]"
      ]
     },
     "metadata": {},
     "output_type": "display_data"
    },
    {
     "name": "stdout",
     "output_type": "stream",
     "text": [
      "\n",
      "-----------------------------------------------------------------------------------------------\n",
      "Processing subject: sub-074\n",
      "Effective window size : 4.096 (s)\n"
     ]
    },
    {
     "name": "stderr",
     "output_type": "stream",
     "text": [
      "/var/folders/_3/08zshp4n3z1_glk6l5vgyqz40000gn/T/ipykernel_90052/2394794606.py:44: RuntimeWarning: The data contains 'boundary' events, indicating data discontinuities. Be cautious of filtering and epoching around these events.\n",
      "  eeg_dataset_raw = mne.io.read_raw_eeglab(eeg_lab_file_path, preload=True, verbose=flag_verbose)\n"
     ]
    },
    {
     "data": {
      "application/vnd.jupyter.widget-view+json": {
       "model_id": "a6492556b7a74c2f8df5b2458f87459b",
       "version_major": 2,
       "version_minor": 0
      },
      "text/plain": [
       "Running group fits.:   0%|          | 0/63 [00:00<?, ?it/s]"
      ]
     },
     "metadata": {},
     "output_type": "display_data"
    },
    {
     "name": "stdout",
     "output_type": "stream",
     "text": [
      "\n",
      "-----------------------------------------------------------------------------------------------\n",
      "Processing subject: sub-075\n",
      "Effective window size : 4.096 (s)\n"
     ]
    },
    {
     "name": "stderr",
     "output_type": "stream",
     "text": [
      "/var/folders/_3/08zshp4n3z1_glk6l5vgyqz40000gn/T/ipykernel_90052/2394794606.py:44: RuntimeWarning: The data contains 'boundary' events, indicating data discontinuities. Be cautious of filtering and epoching around these events.\n",
      "  eeg_dataset_raw = mne.io.read_raw_eeglab(eeg_lab_file_path, preload=True, verbose=flag_verbose)\n"
     ]
    },
    {
     "data": {
      "application/vnd.jupyter.widget-view+json": {
       "model_id": "45184668827b41a399662660cbd35883",
       "version_major": 2,
       "version_minor": 0
      },
      "text/plain": [
       "Running group fits.:   0%|          | 0/63 [00:00<?, ?it/s]"
      ]
     },
     "metadata": {},
     "output_type": "display_data"
    },
    {
     "name": "stdout",
     "output_type": "stream",
     "text": [
      "\n",
      "-----------------------------------------------------------------------------------------------\n",
      "Processing subject: sub-076\n",
      "Effective window size : 4.096 (s)\n"
     ]
    },
    {
     "name": "stderr",
     "output_type": "stream",
     "text": [
      "/var/folders/_3/08zshp4n3z1_glk6l5vgyqz40000gn/T/ipykernel_90052/2394794606.py:44: RuntimeWarning: The data contains 'boundary' events, indicating data discontinuities. Be cautious of filtering and epoching around these events.\n",
      "  eeg_dataset_raw = mne.io.read_raw_eeglab(eeg_lab_file_path, preload=True, verbose=flag_verbose)\n"
     ]
    },
    {
     "data": {
      "application/vnd.jupyter.widget-view+json": {
       "model_id": "2dfaa7d81caa4faeafc64f32da19fd26",
       "version_major": 2,
       "version_minor": 0
      },
      "text/plain": [
       "Running group fits.:   0%|          | 0/63 [00:00<?, ?it/s]"
      ]
     },
     "metadata": {},
     "output_type": "display_data"
    },
    {
     "name": "stdout",
     "output_type": "stream",
     "text": [
      "\n",
      "-----------------------------------------------------------------------------------------------\n",
      "Processing subject: sub-077\n",
      "Effective window size : 4.096 (s)\n"
     ]
    },
    {
     "name": "stderr",
     "output_type": "stream",
     "text": [
      "/var/folders/_3/08zshp4n3z1_glk6l5vgyqz40000gn/T/ipykernel_90052/2394794606.py:44: RuntimeWarning: The data contains 'boundary' events, indicating data discontinuities. Be cautious of filtering and epoching around these events.\n",
      "  eeg_dataset_raw = mne.io.read_raw_eeglab(eeg_lab_file_path, preload=True, verbose=flag_verbose)\n"
     ]
    },
    {
     "data": {
      "application/vnd.jupyter.widget-view+json": {
       "model_id": "173bd4eb171d4ca4a9a738f8a9023815",
       "version_major": 2,
       "version_minor": 0
      },
      "text/plain": [
       "Running group fits.:   0%|          | 0/64 [00:00<?, ?it/s]"
      ]
     },
     "metadata": {},
     "output_type": "display_data"
    },
    {
     "name": "stdout",
     "output_type": "stream",
     "text": [
      "\n",
      "-----------------------------------------------------------------------------------------------\n",
      "Processing subject: sub-078\n",
      "Effective window size : 4.096 (s)\n"
     ]
    },
    {
     "name": "stderr",
     "output_type": "stream",
     "text": [
      "/var/folders/_3/08zshp4n3z1_glk6l5vgyqz40000gn/T/ipykernel_90052/2394794606.py:44: RuntimeWarning: The data contains 'boundary' events, indicating data discontinuities. Be cautious of filtering and epoching around these events.\n",
      "  eeg_dataset_raw = mne.io.read_raw_eeglab(eeg_lab_file_path, preload=True, verbose=flag_verbose)\n"
     ]
    },
    {
     "data": {
      "application/vnd.jupyter.widget-view+json": {
       "model_id": "39b4f1a3e2a34ba49660e58b14171270",
       "version_major": 2,
       "version_minor": 0
      },
      "text/plain": [
       "Running group fits.:   0%|          | 0/64 [00:00<?, ?it/s]"
      ]
     },
     "metadata": {},
     "output_type": "display_data"
    },
    {
     "name": "stdout",
     "output_type": "stream",
     "text": [
      "\n",
      "-----------------------------------------------------------------------------------------------\n",
      "Processing subject: sub-079\n",
      "Effective window size : 4.096 (s)\n"
     ]
    },
    {
     "name": "stderr",
     "output_type": "stream",
     "text": [
      "/var/folders/_3/08zshp4n3z1_glk6l5vgyqz40000gn/T/ipykernel_90052/2394794606.py:44: RuntimeWarning: The data contains 'boundary' events, indicating data discontinuities. Be cautious of filtering and epoching around these events.\n",
      "  eeg_dataset_raw = mne.io.read_raw_eeglab(eeg_lab_file_path, preload=True, verbose=flag_verbose)\n"
     ]
    },
    {
     "data": {
      "application/vnd.jupyter.widget-view+json": {
       "model_id": "17664a5dd12243cf91f48e558d12ab29",
       "version_major": 2,
       "version_minor": 0
      },
      "text/plain": [
       "Running group fits.:   0%|          | 0/64 [00:00<?, ?it/s]"
      ]
     },
     "metadata": {},
     "output_type": "display_data"
    },
    {
     "name": "stdout",
     "output_type": "stream",
     "text": [
      "\n",
      "-----------------------------------------------------------------------------------------------\n",
      "Processing subject: sub-080\n",
      "Effective window size : 4.096 (s)\n"
     ]
    },
    {
     "name": "stderr",
     "output_type": "stream",
     "text": [
      "/var/folders/_3/08zshp4n3z1_glk6l5vgyqz40000gn/T/ipykernel_90052/2394794606.py:44: RuntimeWarning: The data contains 'boundary' events, indicating data discontinuities. Be cautious of filtering and epoching around these events.\n",
      "  eeg_dataset_raw = mne.io.read_raw_eeglab(eeg_lab_file_path, preload=True, verbose=flag_verbose)\n"
     ]
    },
    {
     "data": {
      "application/vnd.jupyter.widget-view+json": {
       "model_id": "dc1162f8fc6942a384e542558e952b95",
       "version_major": 2,
       "version_minor": 0
      },
      "text/plain": [
       "Running group fits.:   0%|          | 0/63 [00:00<?, ?it/s]"
      ]
     },
     "metadata": {},
     "output_type": "display_data"
    },
    {
     "name": "stdout",
     "output_type": "stream",
     "text": [
      "\n",
      "-----------------------------------------------------------------------------------------------\n",
      "Processing subject: sub-081\n",
      "Effective window size : 4.096 (s)\n"
     ]
    },
    {
     "name": "stderr",
     "output_type": "stream",
     "text": [
      "/var/folders/_3/08zshp4n3z1_glk6l5vgyqz40000gn/T/ipykernel_90052/2394794606.py:44: RuntimeWarning: The data contains 'boundary' events, indicating data discontinuities. Be cautious of filtering and epoching around these events.\n",
      "  eeg_dataset_raw = mne.io.read_raw_eeglab(eeg_lab_file_path, preload=True, verbose=flag_verbose)\n"
     ]
    },
    {
     "data": {
      "application/vnd.jupyter.widget-view+json": {
       "model_id": "51536833099c479387286ef9d5089dc5",
       "version_major": 2,
       "version_minor": 0
      },
      "text/plain": [
       "Running group fits.:   0%|          | 0/63 [00:00<?, ?it/s]"
      ]
     },
     "metadata": {},
     "output_type": "display_data"
    },
    {
     "name": "stdout",
     "output_type": "stream",
     "text": [
      "\n",
      "-----------------------------------------------------------------------------------------------\n",
      "Processing subject: sub-082\n",
      "Effective window size : 4.096 (s)\n"
     ]
    },
    {
     "name": "stderr",
     "output_type": "stream",
     "text": [
      "/var/folders/_3/08zshp4n3z1_glk6l5vgyqz40000gn/T/ipykernel_90052/2394794606.py:44: RuntimeWarning: The data contains 'boundary' events, indicating data discontinuities. Be cautious of filtering and epoching around these events.\n",
      "  eeg_dataset_raw = mne.io.read_raw_eeglab(eeg_lab_file_path, preload=True, verbose=flag_verbose)\n"
     ]
    },
    {
     "data": {
      "application/vnd.jupyter.widget-view+json": {
       "model_id": "0e7e95e316144c388001350dd1b8229f",
       "version_major": 2,
       "version_minor": 0
      },
      "text/plain": [
       "Running group fits.:   0%|          | 0/63 [00:00<?, ?it/s]"
      ]
     },
     "metadata": {},
     "output_type": "display_data"
    },
    {
     "name": "stdout",
     "output_type": "stream",
     "text": [
      "\n",
      "-----------------------------------------------------------------------------------------------\n",
      "Processing subject: sub-083\n",
      "Effective window size : 4.096 (s)\n"
     ]
    },
    {
     "name": "stderr",
     "output_type": "stream",
     "text": [
      "/var/folders/_3/08zshp4n3z1_glk6l5vgyqz40000gn/T/ipykernel_90052/2394794606.py:44: RuntimeWarning: The data contains 'boundary' events, indicating data discontinuities. Be cautious of filtering and epoching around these events.\n",
      "  eeg_dataset_raw = mne.io.read_raw_eeglab(eeg_lab_file_path, preload=True, verbose=flag_verbose)\n"
     ]
    },
    {
     "data": {
      "application/vnd.jupyter.widget-view+json": {
       "model_id": "3603add21ab043a69d2517efaa486f84",
       "version_major": 2,
       "version_minor": 0
      },
      "text/plain": [
       "Running group fits.:   0%|          | 0/63 [00:00<?, ?it/s]"
      ]
     },
     "metadata": {},
     "output_type": "display_data"
    },
    {
     "name": "stdout",
     "output_type": "stream",
     "text": [
      "\n",
      "-----------------------------------------------------------------------------------------------\n",
      "Processing subject: sub-084\n",
      "Effective window size : 4.096 (s)\n"
     ]
    },
    {
     "name": "stderr",
     "output_type": "stream",
     "text": [
      "/var/folders/_3/08zshp4n3z1_glk6l5vgyqz40000gn/T/ipykernel_90052/2394794606.py:44: RuntimeWarning: The data contains 'boundary' events, indicating data discontinuities. Be cautious of filtering and epoching around these events.\n",
      "  eeg_dataset_raw = mne.io.read_raw_eeglab(eeg_lab_file_path, preload=True, verbose=flag_verbose)\n"
     ]
    },
    {
     "data": {
      "application/vnd.jupyter.widget-view+json": {
       "model_id": "1f61d6e3aa9145368aecceab764e404a",
       "version_major": 2,
       "version_minor": 0
      },
      "text/plain": [
       "Running group fits.:   0%|          | 0/63 [00:00<?, ?it/s]"
      ]
     },
     "metadata": {},
     "output_type": "display_data"
    },
    {
     "name": "stdout",
     "output_type": "stream",
     "text": [
      "\n",
      "-----------------------------------------------------------------------------------------------\n",
      "Processing subject: sub-085\n",
      "Effective window size : 4.096 (s)\n"
     ]
    },
    {
     "name": "stderr",
     "output_type": "stream",
     "text": [
      "/var/folders/_3/08zshp4n3z1_glk6l5vgyqz40000gn/T/ipykernel_90052/2394794606.py:44: RuntimeWarning: The data contains 'boundary' events, indicating data discontinuities. Be cautious of filtering and epoching around these events.\n",
      "  eeg_dataset_raw = mne.io.read_raw_eeglab(eeg_lab_file_path, preload=True, verbose=flag_verbose)\n"
     ]
    },
    {
     "data": {
      "application/vnd.jupyter.widget-view+json": {
       "model_id": "4f16acc45aa346689da1e663c712b742",
       "version_major": 2,
       "version_minor": 0
      },
      "text/plain": [
       "Running group fits.:   0%|          | 0/63 [00:00<?, ?it/s]"
      ]
     },
     "metadata": {},
     "output_type": "display_data"
    },
    {
     "name": "stdout",
     "output_type": "stream",
     "text": [
      "\n",
      "-----------------------------------------------------------------------------------------------\n",
      "Processing subject: sub-086\n",
      "Effective window size : 4.096 (s)\n"
     ]
    },
    {
     "name": "stderr",
     "output_type": "stream",
     "text": [
      "/var/folders/_3/08zshp4n3z1_glk6l5vgyqz40000gn/T/ipykernel_90052/2394794606.py:44: RuntimeWarning: The data contains 'boundary' events, indicating data discontinuities. Be cautious of filtering and epoching around these events.\n",
      "  eeg_dataset_raw = mne.io.read_raw_eeglab(eeg_lab_file_path, preload=True, verbose=flag_verbose)\n"
     ]
    },
    {
     "data": {
      "application/vnd.jupyter.widget-view+json": {
       "model_id": "d7eca6af4ea0493d963eac67c226eb9d",
       "version_major": 2,
       "version_minor": 0
      },
      "text/plain": [
       "Running group fits.:   0%|          | 0/63 [00:00<?, ?it/s]"
      ]
     },
     "metadata": {},
     "output_type": "display_data"
    },
    {
     "name": "stdout",
     "output_type": "stream",
     "text": [
      "\n",
      "-----------------------------------------------------------------------------------------------\n",
      "Processing subject: sub-087\n",
      "Effective window size : 4.096 (s)\n"
     ]
    },
    {
     "name": "stderr",
     "output_type": "stream",
     "text": [
      "/var/folders/_3/08zshp4n3z1_glk6l5vgyqz40000gn/T/ipykernel_90052/2394794606.py:44: RuntimeWarning: The data contains 'boundary' events, indicating data discontinuities. Be cautious of filtering and epoching around these events.\n",
      "  eeg_dataset_raw = mne.io.read_raw_eeglab(eeg_lab_file_path, preload=True, verbose=flag_verbose)\n"
     ]
    },
    {
     "data": {
      "application/vnd.jupyter.widget-view+json": {
       "model_id": "5871aa8e57474a2281f822969ac27c23",
       "version_major": 2,
       "version_minor": 0
      },
      "text/plain": [
       "Running group fits.:   0%|          | 0/63 [00:00<?, ?it/s]"
      ]
     },
     "metadata": {},
     "output_type": "display_data"
    },
    {
     "name": "stdout",
     "output_type": "stream",
     "text": [
      "\n",
      "-----------------------------------------------------------------------------------------------\n",
      "Processing subject: sub-088\n",
      "Effective window size : 4.096 (s)\n"
     ]
    },
    {
     "name": "stderr",
     "output_type": "stream",
     "text": [
      "/var/folders/_3/08zshp4n3z1_glk6l5vgyqz40000gn/T/ipykernel_90052/2394794606.py:44: RuntimeWarning: The data contains 'boundary' events, indicating data discontinuities. Be cautious of filtering and epoching around these events.\n",
      "  eeg_dataset_raw = mne.io.read_raw_eeglab(eeg_lab_file_path, preload=True, verbose=flag_verbose)\n"
     ]
    },
    {
     "data": {
      "application/vnd.jupyter.widget-view+json": {
       "model_id": "07fb8ada7a3549da882d84dba1471bc8",
       "version_major": 2,
       "version_minor": 0
      },
      "text/plain": [
       "Running group fits.:   0%|          | 0/63 [00:00<?, ?it/s]"
      ]
     },
     "metadata": {},
     "output_type": "display_data"
    },
    {
     "name": "stdout",
     "output_type": "stream",
     "text": [
      "\n",
      "-----------------------------------------------------------------------------------------------\n",
      "Processing subject: sub-089\n",
      "Effective window size : 4.096 (s)\n"
     ]
    },
    {
     "name": "stderr",
     "output_type": "stream",
     "text": [
      "/var/folders/_3/08zshp4n3z1_glk6l5vgyqz40000gn/T/ipykernel_90052/2394794606.py:44: RuntimeWarning: The data contains 'boundary' events, indicating data discontinuities. Be cautious of filtering and epoching around these events.\n",
      "  eeg_dataset_raw = mne.io.read_raw_eeglab(eeg_lab_file_path, preload=True, verbose=flag_verbose)\n"
     ]
    },
    {
     "data": {
      "application/vnd.jupyter.widget-view+json": {
       "model_id": "dc124852e4fa40d59bc77206c129654d",
       "version_major": 2,
       "version_minor": 0
      },
      "text/plain": [
       "Running group fits.:   0%|          | 0/64 [00:00<?, ?it/s]"
      ]
     },
     "metadata": {},
     "output_type": "display_data"
    },
    {
     "name": "stdout",
     "output_type": "stream",
     "text": [
      "\n",
      "-----------------------------------------------------------------------------------------------\n",
      "Processing subject: sub-090\n",
      "Effective window size : 4.096 (s)\n"
     ]
    },
    {
     "name": "stderr",
     "output_type": "stream",
     "text": [
      "/var/folders/_3/08zshp4n3z1_glk6l5vgyqz40000gn/T/ipykernel_90052/2394794606.py:44: RuntimeWarning: The data contains 'boundary' events, indicating data discontinuities. Be cautious of filtering and epoching around these events.\n",
      "  eeg_dataset_raw = mne.io.read_raw_eeglab(eeg_lab_file_path, preload=True, verbose=flag_verbose)\n"
     ]
    },
    {
     "data": {
      "application/vnd.jupyter.widget-view+json": {
       "model_id": "2c47b4835ae94b5eb6b404fe0b76568e",
       "version_major": 2,
       "version_minor": 0
      },
      "text/plain": [
       "Running group fits.:   0%|          | 0/64 [00:00<?, ?it/s]"
      ]
     },
     "metadata": {},
     "output_type": "display_data"
    },
    {
     "name": "stdout",
     "output_type": "stream",
     "text": [
      "\n",
      "-----------------------------------------------------------------------------------------------\n",
      "Processing subject: sub-091\n",
      "Effective window size : 4.096 (s)\n"
     ]
    },
    {
     "name": "stderr",
     "output_type": "stream",
     "text": [
      "/var/folders/_3/08zshp4n3z1_glk6l5vgyqz40000gn/T/ipykernel_90052/2394794606.py:44: RuntimeWarning: The data contains 'boundary' events, indicating data discontinuities. Be cautious of filtering and epoching around these events.\n",
      "  eeg_dataset_raw = mne.io.read_raw_eeglab(eeg_lab_file_path, preload=True, verbose=flag_verbose)\n"
     ]
    },
    {
     "data": {
      "application/vnd.jupyter.widget-view+json": {
       "model_id": "93623503a0be4856aeef9feadd5ba5cf",
       "version_major": 2,
       "version_minor": 0
      },
      "text/plain": [
       "Running group fits.:   0%|          | 0/64 [00:00<?, ?it/s]"
      ]
     },
     "metadata": {},
     "output_type": "display_data"
    },
    {
     "name": "stdout",
     "output_type": "stream",
     "text": [
      "\n",
      "-----------------------------------------------------------------------------------------------\n",
      "Processing subject: sub-092\n",
      "Effective window size : 4.096 (s)\n"
     ]
    },
    {
     "name": "stderr",
     "output_type": "stream",
     "text": [
      "/var/folders/_3/08zshp4n3z1_glk6l5vgyqz40000gn/T/ipykernel_90052/2394794606.py:44: RuntimeWarning: The data contains 'boundary' events, indicating data discontinuities. Be cautious of filtering and epoching around these events.\n",
      "  eeg_dataset_raw = mne.io.read_raw_eeglab(eeg_lab_file_path, preload=True, verbose=flag_verbose)\n"
     ]
    },
    {
     "data": {
      "application/vnd.jupyter.widget-view+json": {
       "model_id": "1004def57e97425691e09639fe24af4a",
       "version_major": 2,
       "version_minor": 0
      },
      "text/plain": [
       "Running group fits.:   0%|          | 0/64 [00:00<?, ?it/s]"
      ]
     },
     "metadata": {},
     "output_type": "display_data"
    },
    {
     "name": "stdout",
     "output_type": "stream",
     "text": [
      "\n",
      "-----------------------------------------------------------------------------------------------\n",
      "Processing subject: sub-093\n",
      "Effective window size : 4.096 (s)\n"
     ]
    },
    {
     "name": "stderr",
     "output_type": "stream",
     "text": [
      "/var/folders/_3/08zshp4n3z1_glk6l5vgyqz40000gn/T/ipykernel_90052/2394794606.py:44: RuntimeWarning: The data contains 'boundary' events, indicating data discontinuities. Be cautious of filtering and epoching around these events.\n",
      "  eeg_dataset_raw = mne.io.read_raw_eeglab(eeg_lab_file_path, preload=True, verbose=flag_verbose)\n"
     ]
    },
    {
     "data": {
      "application/vnd.jupyter.widget-view+json": {
       "model_id": "c189d57028b8416b9dd9d2fa1c68a47e",
       "version_major": 2,
       "version_minor": 0
      },
      "text/plain": [
       "Running group fits.:   0%|          | 0/64 [00:00<?, ?it/s]"
      ]
     },
     "metadata": {},
     "output_type": "display_data"
    },
    {
     "name": "stdout",
     "output_type": "stream",
     "text": [
      "\n",
      "-----------------------------------------------------------------------------------------------\n",
      "Processing subject: sub-094\n",
      "Effective window size : 4.096 (s)\n"
     ]
    },
    {
     "name": "stderr",
     "output_type": "stream",
     "text": [
      "/var/folders/_3/08zshp4n3z1_glk6l5vgyqz40000gn/T/ipykernel_90052/2394794606.py:44: RuntimeWarning: The data contains 'boundary' events, indicating data discontinuities. Be cautious of filtering and epoching around these events.\n",
      "  eeg_dataset_raw = mne.io.read_raw_eeglab(eeg_lab_file_path, preload=True, verbose=flag_verbose)\n"
     ]
    },
    {
     "data": {
      "application/vnd.jupyter.widget-view+json": {
       "model_id": "b8f69501057d433f837af81c276da644",
       "version_major": 2,
       "version_minor": 0
      },
      "text/plain": [
       "Running group fits.:   0%|          | 0/64 [00:00<?, ?it/s]"
      ]
     },
     "metadata": {},
     "output_type": "display_data"
    },
    {
     "name": "stdout",
     "output_type": "stream",
     "text": [
      "\n",
      "-----------------------------------------------------------------------------------------------\n",
      "Processing subject: sub-095\n",
      "Effective window size : 4.096 (s)\n"
     ]
    },
    {
     "name": "stderr",
     "output_type": "stream",
     "text": [
      "/var/folders/_3/08zshp4n3z1_glk6l5vgyqz40000gn/T/ipykernel_90052/2394794606.py:44: RuntimeWarning: The data contains 'boundary' events, indicating data discontinuities. Be cautious of filtering and epoching around these events.\n",
      "  eeg_dataset_raw = mne.io.read_raw_eeglab(eeg_lab_file_path, preload=True, verbose=flag_verbose)\n"
     ]
    },
    {
     "data": {
      "application/vnd.jupyter.widget-view+json": {
       "model_id": "4e6ccc4d558e4f39b44b67927b095c59",
       "version_major": 2,
       "version_minor": 0
      },
      "text/plain": [
       "Running group fits.:   0%|          | 0/64 [00:00<?, ?it/s]"
      ]
     },
     "metadata": {},
     "output_type": "display_data"
    },
    {
     "name": "stdout",
     "output_type": "stream",
     "text": [
      "\n",
      "-----------------------------------------------------------------------------------------------\n",
      "Processing subject: sub-096\n",
      "Effective window size : 4.096 (s)\n"
     ]
    },
    {
     "name": "stderr",
     "output_type": "stream",
     "text": [
      "/var/folders/_3/08zshp4n3z1_glk6l5vgyqz40000gn/T/ipykernel_90052/2394794606.py:44: RuntimeWarning: The data contains 'boundary' events, indicating data discontinuities. Be cautious of filtering and epoching around these events.\n",
      "  eeg_dataset_raw = mne.io.read_raw_eeglab(eeg_lab_file_path, preload=True, verbose=flag_verbose)\n"
     ]
    },
    {
     "data": {
      "application/vnd.jupyter.widget-view+json": {
       "model_id": "9968c951328c46b0a384e1fdc05f9504",
       "version_major": 2,
       "version_minor": 0
      },
      "text/plain": [
       "Running group fits.:   0%|          | 0/64 [00:00<?, ?it/s]"
      ]
     },
     "metadata": {},
     "output_type": "display_data"
    },
    {
     "name": "stdout",
     "output_type": "stream",
     "text": [
      "\n",
      "-----------------------------------------------------------------------------------------------\n",
      "Processing subject: sub-097\n",
      "Effective window size : 4.096 (s)\n"
     ]
    },
    {
     "name": "stderr",
     "output_type": "stream",
     "text": [
      "/var/folders/_3/08zshp4n3z1_glk6l5vgyqz40000gn/T/ipykernel_90052/2394794606.py:44: RuntimeWarning: The data contains 'boundary' events, indicating data discontinuities. Be cautious of filtering and epoching around these events.\n",
      "  eeg_dataset_raw = mne.io.read_raw_eeglab(eeg_lab_file_path, preload=True, verbose=flag_verbose)\n"
     ]
    },
    {
     "data": {
      "application/vnd.jupyter.widget-view+json": {
       "model_id": "443e512491644f4392da4ae6a53041d8",
       "version_major": 2,
       "version_minor": 0
      },
      "text/plain": [
       "Running group fits.:   0%|          | 0/64 [00:00<?, ?it/s]"
      ]
     },
     "metadata": {},
     "output_type": "display_data"
    },
    {
     "name": "stdout",
     "output_type": "stream",
     "text": [
      "\n",
      "-----------------------------------------------------------------------------------------------\n",
      "Processing subject: sub-098\n",
      "Effective window size : 4.096 (s)\n"
     ]
    },
    {
     "name": "stderr",
     "output_type": "stream",
     "text": [
      "/var/folders/_3/08zshp4n3z1_glk6l5vgyqz40000gn/T/ipykernel_90052/2394794606.py:44: RuntimeWarning: The data contains 'boundary' events, indicating data discontinuities. Be cautious of filtering and epoching around these events.\n",
      "  eeg_dataset_raw = mne.io.read_raw_eeglab(eeg_lab_file_path, preload=True, verbose=flag_verbose)\n"
     ]
    },
    {
     "data": {
      "application/vnd.jupyter.widget-view+json": {
       "model_id": "606306d57db5402cbf0f21a8f0909c61",
       "version_major": 2,
       "version_minor": 0
      },
      "text/plain": [
       "Running group fits.:   0%|          | 0/64 [00:00<?, ?it/s]"
      ]
     },
     "metadata": {},
     "output_type": "display_data"
    },
    {
     "name": "stdout",
     "output_type": "stream",
     "text": [
      "\n",
      "-----------------------------------------------------------------------------------------------\n",
      "Processing subject: sub-099\n",
      "Effective window size : 4.096 (s)\n"
     ]
    },
    {
     "name": "stderr",
     "output_type": "stream",
     "text": [
      "/var/folders/_3/08zshp4n3z1_glk6l5vgyqz40000gn/T/ipykernel_90052/2394794606.py:44: RuntimeWarning: The data contains 'boundary' events, indicating data discontinuities. Be cautious of filtering and epoching around these events.\n",
      "  eeg_dataset_raw = mne.io.read_raw_eeglab(eeg_lab_file_path, preload=True, verbose=flag_verbose)\n"
     ]
    },
    {
     "data": {
      "application/vnd.jupyter.widget-view+json": {
       "model_id": "3c6084a207d340c7ab0589e060140b32",
       "version_major": 2,
       "version_minor": 0
      },
      "text/plain": [
       "Running group fits.:   0%|          | 0/64 [00:00<?, ?it/s]"
      ]
     },
     "metadata": {},
     "output_type": "display_data"
    },
    {
     "name": "stdout",
     "output_type": "stream",
     "text": [
      "\n",
      "-----------------------------------------------------------------------------------------------\n",
      "Processing subject: sub-100\n",
      "Effective window size : 4.096 (s)\n"
     ]
    },
    {
     "name": "stderr",
     "output_type": "stream",
     "text": [
      "/var/folders/_3/08zshp4n3z1_glk6l5vgyqz40000gn/T/ipykernel_90052/2394794606.py:44: RuntimeWarning: The data contains 'boundary' events, indicating data discontinuities. Be cautious of filtering and epoching around these events.\n",
      "  eeg_dataset_raw = mne.io.read_raw_eeglab(eeg_lab_file_path, preload=True, verbose=flag_verbose)\n"
     ]
    },
    {
     "data": {
      "application/vnd.jupyter.widget-view+json": {
       "model_id": "de3ac60d6d6748b6b49b2eeb339cf87d",
       "version_major": 2,
       "version_minor": 0
      },
      "text/plain": [
       "Running group fits.:   0%|          | 0/63 [00:00<?, ?it/s]"
      ]
     },
     "metadata": {},
     "output_type": "display_data"
    },
    {
     "name": "stdout",
     "output_type": "stream",
     "text": [
      "\n",
      "-----------------------------------------------------------------------------------------------\n",
      "Processing subject: sub-101\n",
      "Effective window size : 4.096 (s)\n"
     ]
    },
    {
     "name": "stderr",
     "output_type": "stream",
     "text": [
      "/var/folders/_3/08zshp4n3z1_glk6l5vgyqz40000gn/T/ipykernel_90052/2394794606.py:44: RuntimeWarning: The data contains 'boundary' events, indicating data discontinuities. Be cautious of filtering and epoching around these events.\n",
      "  eeg_dataset_raw = mne.io.read_raw_eeglab(eeg_lab_file_path, preload=True, verbose=flag_verbose)\n"
     ]
    },
    {
     "data": {
      "application/vnd.jupyter.widget-view+json": {
       "model_id": "61a374d79a664e78b0d6aab2bf254049",
       "version_major": 2,
       "version_minor": 0
      },
      "text/plain": [
       "Running group fits.:   0%|          | 0/63 [00:00<?, ?it/s]"
      ]
     },
     "metadata": {},
     "output_type": "display_data"
    },
    {
     "name": "stdout",
     "output_type": "stream",
     "text": [
      "\n",
      "-----------------------------------------------------------------------------------------------\n",
      "Processing subject: sub-102\n",
      "Effective window size : 4.096 (s)\n"
     ]
    },
    {
     "name": "stderr",
     "output_type": "stream",
     "text": [
      "/var/folders/_3/08zshp4n3z1_glk6l5vgyqz40000gn/T/ipykernel_90052/2394794606.py:44: RuntimeWarning: The data contains 'boundary' events, indicating data discontinuities. Be cautious of filtering and epoching around these events.\n",
      "  eeg_dataset_raw = mne.io.read_raw_eeglab(eeg_lab_file_path, preload=True, verbose=flag_verbose)\n"
     ]
    },
    {
     "data": {
      "application/vnd.jupyter.widget-view+json": {
       "model_id": "30faf8f4cc704ca1997770b55e49e26b",
       "version_major": 2,
       "version_minor": 0
      },
      "text/plain": [
       "Running group fits.:   0%|          | 0/63 [00:00<?, ?it/s]"
      ]
     },
     "metadata": {},
     "output_type": "display_data"
    },
    {
     "name": "stdout",
     "output_type": "stream",
     "text": [
      "\n",
      "-----------------------------------------------------------------------------------------------\n",
      "Processing subject: sub-103\n",
      "Effective window size : 4.096 (s)\n"
     ]
    },
    {
     "name": "stderr",
     "output_type": "stream",
     "text": [
      "/var/folders/_3/08zshp4n3z1_glk6l5vgyqz40000gn/T/ipykernel_90052/2394794606.py:44: RuntimeWarning: The data contains 'boundary' events, indicating data discontinuities. Be cautious of filtering and epoching around these events.\n",
      "  eeg_dataset_raw = mne.io.read_raw_eeglab(eeg_lab_file_path, preload=True, verbose=flag_verbose)\n"
     ]
    },
    {
     "data": {
      "application/vnd.jupyter.widget-view+json": {
       "model_id": "a67ea303afb9478ab0d0016f0c8028d1",
       "version_major": 2,
       "version_minor": 0
      },
      "text/plain": [
       "Running group fits.:   0%|          | 0/63 [00:00<?, ?it/s]"
      ]
     },
     "metadata": {},
     "output_type": "display_data"
    },
    {
     "name": "stdout",
     "output_type": "stream",
     "text": [
      "\n",
      "-----------------------------------------------------------------------------------------------\n",
      "Processing subject: sub-104\n",
      "Effective window size : 4.096 (s)\n"
     ]
    },
    {
     "name": "stderr",
     "output_type": "stream",
     "text": [
      "/var/folders/_3/08zshp4n3z1_glk6l5vgyqz40000gn/T/ipykernel_90052/2394794606.py:44: RuntimeWarning: The data contains 'boundary' events, indicating data discontinuities. Be cautious of filtering and epoching around these events.\n",
      "  eeg_dataset_raw = mne.io.read_raw_eeglab(eeg_lab_file_path, preload=True, verbose=flag_verbose)\n"
     ]
    },
    {
     "data": {
      "application/vnd.jupyter.widget-view+json": {
       "model_id": "4a27641df4ec4973bc6d1bda5e3839dd",
       "version_major": 2,
       "version_minor": 0
      },
      "text/plain": [
       "Running group fits.:   0%|          | 0/63 [00:00<?, ?it/s]"
      ]
     },
     "metadata": {},
     "output_type": "display_data"
    },
    {
     "name": "stdout",
     "output_type": "stream",
     "text": [
      "\n",
      "-----------------------------------------------------------------------------------------------\n",
      "Processing subject: sub-105\n",
      "Effective window size : 4.096 (s)\n"
     ]
    },
    {
     "name": "stderr",
     "output_type": "stream",
     "text": [
      "/var/folders/_3/08zshp4n3z1_glk6l5vgyqz40000gn/T/ipykernel_90052/2394794606.py:44: RuntimeWarning: The data contains 'boundary' events, indicating data discontinuities. Be cautious of filtering and epoching around these events.\n",
      "  eeg_dataset_raw = mne.io.read_raw_eeglab(eeg_lab_file_path, preload=True, verbose=flag_verbose)\n"
     ]
    },
    {
     "data": {
      "application/vnd.jupyter.widget-view+json": {
       "model_id": "72c99d77ba514e818ee5c53a031b3a0e",
       "version_major": 2,
       "version_minor": 0
      },
      "text/plain": [
       "Running group fits.:   0%|          | 0/63 [00:00<?, ?it/s]"
      ]
     },
     "metadata": {},
     "output_type": "display_data"
    },
    {
     "name": "stdout",
     "output_type": "stream",
     "text": [
      "\n",
      "-----------------------------------------------------------------------------------------------\n",
      "Processing subject: sub-106\n",
      "Effective window size : 4.096 (s)\n"
     ]
    },
    {
     "name": "stderr",
     "output_type": "stream",
     "text": [
      "/var/folders/_3/08zshp4n3z1_glk6l5vgyqz40000gn/T/ipykernel_90052/2394794606.py:44: RuntimeWarning: The data contains 'boundary' events, indicating data discontinuities. Be cautious of filtering and epoching around these events.\n",
      "  eeg_dataset_raw = mne.io.read_raw_eeglab(eeg_lab_file_path, preload=True, verbose=flag_verbose)\n"
     ]
    },
    {
     "data": {
      "application/vnd.jupyter.widget-view+json": {
       "model_id": "7f1d0775671d40139732f9c9f040361a",
       "version_major": 2,
       "version_minor": 0
      },
      "text/plain": [
       "Running group fits.:   0%|          | 0/63 [00:00<?, ?it/s]"
      ]
     },
     "metadata": {},
     "output_type": "display_data"
    },
    {
     "name": "stdout",
     "output_type": "stream",
     "text": [
      "\n",
      "-----------------------------------------------------------------------------------------------\n",
      "Processing subject: sub-107\n",
      "Effective window size : 4.096 (s)\n"
     ]
    },
    {
     "name": "stderr",
     "output_type": "stream",
     "text": [
      "/var/folders/_3/08zshp4n3z1_glk6l5vgyqz40000gn/T/ipykernel_90052/2394794606.py:44: RuntimeWarning: The data contains 'boundary' events, indicating data discontinuities. Be cautious of filtering and epoching around these events.\n",
      "  eeg_dataset_raw = mne.io.read_raw_eeglab(eeg_lab_file_path, preload=True, verbose=flag_verbose)\n"
     ]
    },
    {
     "data": {
      "application/vnd.jupyter.widget-view+json": {
       "model_id": "9036de760363456590f3528dd6635f29",
       "version_major": 2,
       "version_minor": 0
      },
      "text/plain": [
       "Running group fits.:   0%|          | 0/63 [00:00<?, ?it/s]"
      ]
     },
     "metadata": {},
     "output_type": "display_data"
    },
    {
     "name": "stdout",
     "output_type": "stream",
     "text": [
      "\n",
      "-----------------------------------------------------------------------------------------------\n",
      "Processing subject: sub-108\n",
      "Effective window size : 4.096 (s)\n"
     ]
    },
    {
     "name": "stderr",
     "output_type": "stream",
     "text": [
      "/var/folders/_3/08zshp4n3z1_glk6l5vgyqz40000gn/T/ipykernel_90052/2394794606.py:44: RuntimeWarning: The data contains 'boundary' events, indicating data discontinuities. Be cautious of filtering and epoching around these events.\n",
      "  eeg_dataset_raw = mne.io.read_raw_eeglab(eeg_lab_file_path, preload=True, verbose=flag_verbose)\n"
     ]
    },
    {
     "data": {
      "application/vnd.jupyter.widget-view+json": {
       "model_id": "3fce240115ce4972b8db0f30626bd663",
       "version_major": 2,
       "version_minor": 0
      },
      "text/plain": [
       "Running group fits.:   0%|          | 0/63 [00:00<?, ?it/s]"
      ]
     },
     "metadata": {},
     "output_type": "display_data"
    },
    {
     "name": "stdout",
     "output_type": "stream",
     "text": [
      "\n",
      "-----------------------------------------------------------------------------------------------\n",
      "Processing subject: sub-109\n",
      "Effective window size : 4.096 (s)\n"
     ]
    },
    {
     "name": "stderr",
     "output_type": "stream",
     "text": [
      "/var/folders/_3/08zshp4n3z1_glk6l5vgyqz40000gn/T/ipykernel_90052/2394794606.py:44: RuntimeWarning: The data contains 'boundary' events, indicating data discontinuities. Be cautious of filtering and epoching around these events.\n",
      "  eeg_dataset_raw = mne.io.read_raw_eeglab(eeg_lab_file_path, preload=True, verbose=flag_verbose)\n"
     ]
    },
    {
     "data": {
      "application/vnd.jupyter.widget-view+json": {
       "model_id": "6a43fdb46bec4093b8ee088c40faa3a8",
       "version_major": 2,
       "version_minor": 0
      },
      "text/plain": [
       "Running group fits.:   0%|          | 0/63 [00:00<?, ?it/s]"
      ]
     },
     "metadata": {},
     "output_type": "display_data"
    },
    {
     "name": "stdout",
     "output_type": "stream",
     "text": [
      "\n",
      "-----------------------------------------------------------------------------------------------\n",
      "Processing subject: sub-110\n",
      "Effective window size : 4.096 (s)\n"
     ]
    },
    {
     "name": "stderr",
     "output_type": "stream",
     "text": [
      "/var/folders/_3/08zshp4n3z1_glk6l5vgyqz40000gn/T/ipykernel_90052/2394794606.py:44: RuntimeWarning: The data contains 'boundary' events, indicating data discontinuities. Be cautious of filtering and epoching around these events.\n",
      "  eeg_dataset_raw = mne.io.read_raw_eeglab(eeg_lab_file_path, preload=True, verbose=flag_verbose)\n"
     ]
    },
    {
     "data": {
      "application/vnd.jupyter.widget-view+json": {
       "model_id": "cd2071b75ae44150a55e46afdce96cec",
       "version_major": 2,
       "version_minor": 0
      },
      "text/plain": [
       "Running group fits.:   0%|          | 0/63 [00:00<?, ?it/s]"
      ]
     },
     "metadata": {},
     "output_type": "display_data"
    },
    {
     "name": "stdout",
     "output_type": "stream",
     "text": [
      "\n",
      "-----------------------------------------------------------------------------------------------\n",
      "Processing subject: sub-111\n",
      "Effective window size : 4.096 (s)\n"
     ]
    },
    {
     "name": "stderr",
     "output_type": "stream",
     "text": [
      "/var/folders/_3/08zshp4n3z1_glk6l5vgyqz40000gn/T/ipykernel_90052/2394794606.py:44: RuntimeWarning: The data contains 'boundary' events, indicating data discontinuities. Be cautious of filtering and epoching around these events.\n",
      "  eeg_dataset_raw = mne.io.read_raw_eeglab(eeg_lab_file_path, preload=True, verbose=flag_verbose)\n"
     ]
    },
    {
     "data": {
      "application/vnd.jupyter.widget-view+json": {
       "model_id": "4270efbae9ba421d8d4dc50f5392cb48",
       "version_major": 2,
       "version_minor": 0
      },
      "text/plain": [
       "Running group fits.:   0%|          | 0/63 [00:00<?, ?it/s]"
      ]
     },
     "metadata": {},
     "output_type": "display_data"
    },
    {
     "name": "stdout",
     "output_type": "stream",
     "text": [
      "\n",
      "-----------------------------------------------------------------------------------------------\n",
      "Processing subject: sub-112\n",
      "Effective window size : 4.096 (s)\n"
     ]
    },
    {
     "name": "stderr",
     "output_type": "stream",
     "text": [
      "/var/folders/_3/08zshp4n3z1_glk6l5vgyqz40000gn/T/ipykernel_90052/2394794606.py:44: RuntimeWarning: The data contains 'boundary' events, indicating data discontinuities. Be cautious of filtering and epoching around these events.\n",
      "  eeg_dataset_raw = mne.io.read_raw_eeglab(eeg_lab_file_path, preload=True, verbose=flag_verbose)\n"
     ]
    },
    {
     "data": {
      "application/vnd.jupyter.widget-view+json": {
       "model_id": "5c9fad99e622439e826ffdb513c4ebb1",
       "version_major": 2,
       "version_minor": 0
      },
      "text/plain": [
       "Running group fits.:   0%|          | 0/63 [00:00<?, ?it/s]"
      ]
     },
     "metadata": {},
     "output_type": "display_data"
    },
    {
     "name": "stdout",
     "output_type": "stream",
     "text": [
      "\n",
      "-----------------------------------------------------------------------------------------------\n",
      "Processing subject: sub-113\n",
      "Effective window size : 4.096 (s)\n"
     ]
    },
    {
     "name": "stderr",
     "output_type": "stream",
     "text": [
      "/var/folders/_3/08zshp4n3z1_glk6l5vgyqz40000gn/T/ipykernel_90052/2394794606.py:44: RuntimeWarning: The data contains 'boundary' events, indicating data discontinuities. Be cautious of filtering and epoching around these events.\n",
      "  eeg_dataset_raw = mne.io.read_raw_eeglab(eeg_lab_file_path, preload=True, verbose=flag_verbose)\n"
     ]
    },
    {
     "data": {
      "application/vnd.jupyter.widget-view+json": {
       "model_id": "1fda73125468438d9bbe98b09f6aec91",
       "version_major": 2,
       "version_minor": 0
      },
      "text/plain": [
       "Running group fits.:   0%|          | 0/63 [00:00<?, ?it/s]"
      ]
     },
     "metadata": {},
     "output_type": "display_data"
    },
    {
     "name": "stdout",
     "output_type": "stream",
     "text": [
      "\n",
      "-----------------------------------------------------------------------------------------------\n",
      "Processing subject: sub-114\n",
      "Effective window size : 4.096 (s)\n"
     ]
    },
    {
     "name": "stderr",
     "output_type": "stream",
     "text": [
      "/var/folders/_3/08zshp4n3z1_glk6l5vgyqz40000gn/T/ipykernel_90052/2394794606.py:44: RuntimeWarning: The data contains 'boundary' events, indicating data discontinuities. Be cautious of filtering and epoching around these events.\n",
      "  eeg_dataset_raw = mne.io.read_raw_eeglab(eeg_lab_file_path, preload=True, verbose=flag_verbose)\n"
     ]
    },
    {
     "data": {
      "application/vnd.jupyter.widget-view+json": {
       "model_id": "c6a74697e4084201a5b04b40eb42da45",
       "version_major": 2,
       "version_minor": 0
      },
      "text/plain": [
       "Running group fits.:   0%|          | 0/63 [00:00<?, ?it/s]"
      ]
     },
     "metadata": {},
     "output_type": "display_data"
    },
    {
     "name": "stdout",
     "output_type": "stream",
     "text": [
      "\n",
      "-----------------------------------------------------------------------------------------------\n",
      "Processing subject: sub-115\n",
      "Effective window size : 4.096 (s)\n"
     ]
    },
    {
     "name": "stderr",
     "output_type": "stream",
     "text": [
      "/var/folders/_3/08zshp4n3z1_glk6l5vgyqz40000gn/T/ipykernel_90052/2394794606.py:44: RuntimeWarning: The data contains 'boundary' events, indicating data discontinuities. Be cautious of filtering and epoching around these events.\n",
      "  eeg_dataset_raw = mne.io.read_raw_eeglab(eeg_lab_file_path, preload=True, verbose=flag_verbose)\n"
     ]
    },
    {
     "data": {
      "application/vnd.jupyter.widget-view+json": {
       "model_id": "37edfb4c7ef84d13b580bbd2f65fb782",
       "version_major": 2,
       "version_minor": 0
      },
      "text/plain": [
       "Running group fits.:   0%|          | 0/63 [00:00<?, ?it/s]"
      ]
     },
     "metadata": {},
     "output_type": "display_data"
    },
    {
     "name": "stdout",
     "output_type": "stream",
     "text": [
      "\n",
      "-----------------------------------------------------------------------------------------------\n",
      "Processing subject: sub-116\n",
      "Effective window size : 4.096 (s)\n"
     ]
    },
    {
     "name": "stderr",
     "output_type": "stream",
     "text": [
      "/var/folders/_3/08zshp4n3z1_glk6l5vgyqz40000gn/T/ipykernel_90052/2394794606.py:44: RuntimeWarning: The data contains 'boundary' events, indicating data discontinuities. Be cautious of filtering and epoching around these events.\n",
      "  eeg_dataset_raw = mne.io.read_raw_eeglab(eeg_lab_file_path, preload=True, verbose=flag_verbose)\n"
     ]
    },
    {
     "data": {
      "application/vnd.jupyter.widget-view+json": {
       "model_id": "b4a27fa0065742adb10f5f508b286b1d",
       "version_major": 2,
       "version_minor": 0
      },
      "text/plain": [
       "Running group fits.:   0%|          | 0/63 [00:00<?, ?it/s]"
      ]
     },
     "metadata": {},
     "output_type": "display_data"
    },
    {
     "name": "stdout",
     "output_type": "stream",
     "text": [
      "\n",
      "-----------------------------------------------------------------------------------------------\n",
      "Processing subject: sub-117\n",
      "Effective window size : 4.096 (s)\n"
     ]
    },
    {
     "name": "stderr",
     "output_type": "stream",
     "text": [
      "/var/folders/_3/08zshp4n3z1_glk6l5vgyqz40000gn/T/ipykernel_90052/2394794606.py:44: RuntimeWarning: The data contains 'boundary' events, indicating data discontinuities. Be cautious of filtering and epoching around these events.\n",
      "  eeg_dataset_raw = mne.io.read_raw_eeglab(eeg_lab_file_path, preload=True, verbose=flag_verbose)\n"
     ]
    },
    {
     "data": {
      "application/vnd.jupyter.widget-view+json": {
       "model_id": "c4a9b08396b34f18ac84923389e61422",
       "version_major": 2,
       "version_minor": 0
      },
      "text/plain": [
       "Running group fits.:   0%|          | 0/63 [00:00<?, ?it/s]"
      ]
     },
     "metadata": {},
     "output_type": "display_data"
    },
    {
     "name": "stdout",
     "output_type": "stream",
     "text": [
      "\n",
      "-----------------------------------------------------------------------------------------------\n",
      "Processing subject: sub-118\n",
      "Effective window size : 4.096 (s)\n"
     ]
    },
    {
     "name": "stderr",
     "output_type": "stream",
     "text": [
      "/var/folders/_3/08zshp4n3z1_glk6l5vgyqz40000gn/T/ipykernel_90052/2394794606.py:44: RuntimeWarning: The data contains 'boundary' events, indicating data discontinuities. Be cautious of filtering and epoching around these events.\n",
      "  eeg_dataset_raw = mne.io.read_raw_eeglab(eeg_lab_file_path, preload=True, verbose=flag_verbose)\n"
     ]
    },
    {
     "data": {
      "application/vnd.jupyter.widget-view+json": {
       "model_id": "3ecc3d0872f04292970ae1c06f4f2834",
       "version_major": 2,
       "version_minor": 0
      },
      "text/plain": [
       "Running group fits.:   0%|          | 0/63 [00:00<?, ?it/s]"
      ]
     },
     "metadata": {},
     "output_type": "display_data"
    },
    {
     "name": "stdout",
     "output_type": "stream",
     "text": [
      "\n",
      "-----------------------------------------------------------------------------------------------\n",
      "Processing subject: sub-119\n",
      "Effective window size : 4.096 (s)\n"
     ]
    },
    {
     "name": "stderr",
     "output_type": "stream",
     "text": [
      "/var/folders/_3/08zshp4n3z1_glk6l5vgyqz40000gn/T/ipykernel_90052/2394794606.py:44: RuntimeWarning: The data contains 'boundary' events, indicating data discontinuities. Be cautious of filtering and epoching around these events.\n",
      "  eeg_dataset_raw = mne.io.read_raw_eeglab(eeg_lab_file_path, preload=True, verbose=flag_verbose)\n"
     ]
    },
    {
     "data": {
      "application/vnd.jupyter.widget-view+json": {
       "model_id": "6ece43c907634079b788dbf0ffae7e96",
       "version_major": 2,
       "version_minor": 0
      },
      "text/plain": [
       "Running group fits.:   0%|          | 0/63 [00:00<?, ?it/s]"
      ]
     },
     "metadata": {},
     "output_type": "display_data"
    },
    {
     "name": "stdout",
     "output_type": "stream",
     "text": [
      "\n",
      "-----------------------------------------------------------------------------------------------\n",
      "Processing subject: sub-120\n",
      "Effective window size : 4.096 (s)\n"
     ]
    },
    {
     "name": "stderr",
     "output_type": "stream",
     "text": [
      "/var/folders/_3/08zshp4n3z1_glk6l5vgyqz40000gn/T/ipykernel_90052/2394794606.py:44: RuntimeWarning: The data contains 'boundary' events, indicating data discontinuities. Be cautious of filtering and epoching around these events.\n",
      "  eeg_dataset_raw = mne.io.read_raw_eeglab(eeg_lab_file_path, preload=True, verbose=flag_verbose)\n"
     ]
    },
    {
     "data": {
      "application/vnd.jupyter.widget-view+json": {
       "model_id": "329c0b0c989d42d496eaa43c5f17fa0c",
       "version_major": 2,
       "version_minor": 0
      },
      "text/plain": [
       "Running group fits.:   0%|          | 0/63 [00:00<?, ?it/s]"
      ]
     },
     "metadata": {},
     "output_type": "display_data"
    },
    {
     "name": "stdout",
     "output_type": "stream",
     "text": [
      "\n",
      "-----------------------------------------------------------------------------------------------\n",
      "Processing subject: sub-121\n",
      "Effective window size : 4.096 (s)\n"
     ]
    },
    {
     "name": "stderr",
     "output_type": "stream",
     "text": [
      "/var/folders/_3/08zshp4n3z1_glk6l5vgyqz40000gn/T/ipykernel_90052/2394794606.py:44: RuntimeWarning: The data contains 'boundary' events, indicating data discontinuities. Be cautious of filtering and epoching around these events.\n",
      "  eeg_dataset_raw = mne.io.read_raw_eeglab(eeg_lab_file_path, preload=True, verbose=flag_verbose)\n"
     ]
    },
    {
     "data": {
      "application/vnd.jupyter.widget-view+json": {
       "model_id": "4f5d1f8d1eba404e8fe3270acdfb5633",
       "version_major": 2,
       "version_minor": 0
      },
      "text/plain": [
       "Running group fits.:   0%|          | 0/63 [00:00<?, ?it/s]"
      ]
     },
     "metadata": {},
     "output_type": "display_data"
    },
    {
     "name": "stderr",
     "output_type": "stream",
     "text": [
      "/var/folders/_3/08zshp4n3z1_glk6l5vgyqz40000gn/T/ipykernel_90052/2394794606.py:44: RuntimeWarning: The data contains 'boundary' events, indicating data discontinuities. Be cautious of filtering and epoching around these events.\n",
      "  eeg_dataset_raw = mne.io.read_raw_eeglab(eeg_lab_file_path, preload=True, verbose=flag_verbose)\n"
     ]
    },
    {
     "name": "stdout",
     "output_type": "stream",
     "text": [
      "\n",
      "-----------------------------------------------------------------------------------------------\n",
      "Processing subject: sub-122\n",
      "Effective window size : 4.096 (s)\n"
     ]
    },
    {
     "data": {
      "application/vnd.jupyter.widget-view+json": {
       "model_id": "c441d526e5a141eab914f710fa192f05",
       "version_major": 2,
       "version_minor": 0
      },
      "text/plain": [
       "Running group fits.:   0%|          | 0/63 [00:00<?, ?it/s]"
      ]
     },
     "metadata": {},
     "output_type": "display_data"
    },
    {
     "name": "stdout",
     "output_type": "stream",
     "text": [
      "\n",
      "-----------------------------------------------------------------------------------------------\n",
      "Processing subject: sub-123\n",
      "Effective window size : 4.096 (s)\n"
     ]
    },
    {
     "name": "stderr",
     "output_type": "stream",
     "text": [
      "/var/folders/_3/08zshp4n3z1_glk6l5vgyqz40000gn/T/ipykernel_90052/2394794606.py:44: RuntimeWarning: The data contains 'boundary' events, indicating data discontinuities. Be cautious of filtering and epoching around these events.\n",
      "  eeg_dataset_raw = mne.io.read_raw_eeglab(eeg_lab_file_path, preload=True, verbose=flag_verbose)\n"
     ]
    },
    {
     "data": {
      "application/vnd.jupyter.widget-view+json": {
       "model_id": "42576b427a10419bad19cb5a0e7dbdd3",
       "version_major": 2,
       "version_minor": 0
      },
      "text/plain": [
       "Running group fits.:   0%|          | 0/63 [00:00<?, ?it/s]"
      ]
     },
     "metadata": {},
     "output_type": "display_data"
    },
    {
     "name": "stdout",
     "output_type": "stream",
     "text": [
      "\n",
      "-----------------------------------------------------------------------------------------------\n",
      "Processing subject: sub-124\n",
      "Effective window size : 4.096 (s)\n"
     ]
    },
    {
     "name": "stderr",
     "output_type": "stream",
     "text": [
      "/var/folders/_3/08zshp4n3z1_glk6l5vgyqz40000gn/T/ipykernel_90052/2394794606.py:44: RuntimeWarning: The data contains 'boundary' events, indicating data discontinuities. Be cautious of filtering and epoching around these events.\n",
      "  eeg_dataset_raw = mne.io.read_raw_eeglab(eeg_lab_file_path, preload=True, verbose=flag_verbose)\n"
     ]
    },
    {
     "data": {
      "application/vnd.jupyter.widget-view+json": {
       "model_id": "5a20a3e3b1bc4d47988533e3d4ded14c",
       "version_major": 2,
       "version_minor": 0
      },
      "text/plain": [
       "Running group fits.:   0%|          | 0/63 [00:00<?, ?it/s]"
      ]
     },
     "metadata": {},
     "output_type": "display_data"
    },
    {
     "name": "stdout",
     "output_type": "stream",
     "text": [
      "\n",
      "-----------------------------------------------------------------------------------------------\n",
      "Processing subject: sub-125\n",
      "Effective window size : 4.096 (s)\n"
     ]
    },
    {
     "name": "stderr",
     "output_type": "stream",
     "text": [
      "/var/folders/_3/08zshp4n3z1_glk6l5vgyqz40000gn/T/ipykernel_90052/2394794606.py:44: RuntimeWarning: The data contains 'boundary' events, indicating data discontinuities. Be cautious of filtering and epoching around these events.\n",
      "  eeg_dataset_raw = mne.io.read_raw_eeglab(eeg_lab_file_path, preload=True, verbose=flag_verbose)\n"
     ]
    },
    {
     "data": {
      "application/vnd.jupyter.widget-view+json": {
       "model_id": "ebadd42a34634824afac728b2f7d8cb1",
       "version_major": 2,
       "version_minor": 0
      },
      "text/plain": [
       "Running group fits.:   0%|          | 0/63 [00:00<?, ?it/s]"
      ]
     },
     "metadata": {},
     "output_type": "display_data"
    },
    {
     "name": "stdout",
     "output_type": "stream",
     "text": [
      "\n",
      "-----------------------------------------------------------------------------------------------\n",
      "Processing subject: sub-126\n",
      "Effective window size : 4.096 (s)\n"
     ]
    },
    {
     "name": "stderr",
     "output_type": "stream",
     "text": [
      "/var/folders/_3/08zshp4n3z1_glk6l5vgyqz40000gn/T/ipykernel_90052/2394794606.py:44: RuntimeWarning: The data contains 'boundary' events, indicating data discontinuities. Be cautious of filtering and epoching around these events.\n",
      "  eeg_dataset_raw = mne.io.read_raw_eeglab(eeg_lab_file_path, preload=True, verbose=flag_verbose)\n"
     ]
    },
    {
     "data": {
      "application/vnd.jupyter.widget-view+json": {
       "model_id": "713aa90d4e5f459481876a529755f292",
       "version_major": 2,
       "version_minor": 0
      },
      "text/plain": [
       "Running group fits.:   0%|          | 0/63 [00:00<?, ?it/s]"
      ]
     },
     "metadata": {},
     "output_type": "display_data"
    },
    {
     "name": "stdout",
     "output_type": "stream",
     "text": [
      "\n",
      "-----------------------------------------------------------------------------------------------\n",
      "Processing subject: sub-127\n",
      "Effective window size : 4.096 (s)\n"
     ]
    },
    {
     "name": "stderr",
     "output_type": "stream",
     "text": [
      "/var/folders/_3/08zshp4n3z1_glk6l5vgyqz40000gn/T/ipykernel_90052/2394794606.py:44: RuntimeWarning: The data contains 'boundary' events, indicating data discontinuities. Be cautious of filtering and epoching around these events.\n",
      "  eeg_dataset_raw = mne.io.read_raw_eeglab(eeg_lab_file_path, preload=True, verbose=flag_verbose)\n"
     ]
    },
    {
     "data": {
      "application/vnd.jupyter.widget-view+json": {
       "model_id": "4666acac40ba42d582796b0a4c121314",
       "version_major": 2,
       "version_minor": 0
      },
      "text/plain": [
       "Running group fits.:   0%|          | 0/63 [00:00<?, ?it/s]"
      ]
     },
     "metadata": {},
     "output_type": "display_data"
    },
    {
     "name": "stdout",
     "output_type": "stream",
     "text": [
      "\n",
      "-----------------------------------------------------------------------------------------------\n",
      "Processing subject: sub-128\n",
      "Effective window size : 4.096 (s)\n"
     ]
    },
    {
     "name": "stderr",
     "output_type": "stream",
     "text": [
      "/var/folders/_3/08zshp4n3z1_glk6l5vgyqz40000gn/T/ipykernel_90052/2394794606.py:44: RuntimeWarning: The data contains 'boundary' events, indicating data discontinuities. Be cautious of filtering and epoching around these events.\n",
      "  eeg_dataset_raw = mne.io.read_raw_eeglab(eeg_lab_file_path, preload=True, verbose=flag_verbose)\n"
     ]
    },
    {
     "data": {
      "application/vnd.jupyter.widget-view+json": {
       "model_id": "8df0a8beed2d494d9eac094cd9ff749c",
       "version_major": 2,
       "version_minor": 0
      },
      "text/plain": [
       "Running group fits.:   0%|          | 0/63 [00:00<?, ?it/s]"
      ]
     },
     "metadata": {},
     "output_type": "display_data"
    },
    {
     "name": "stdout",
     "output_type": "stream",
     "text": [
      "\n",
      "-----------------------------------------------------------------------------------------------\n",
      "Processing subject: sub-129\n",
      "Effective window size : 4.096 (s)\n"
     ]
    },
    {
     "name": "stderr",
     "output_type": "stream",
     "text": [
      "/var/folders/_3/08zshp4n3z1_glk6l5vgyqz40000gn/T/ipykernel_90052/2394794606.py:44: RuntimeWarning: The data contains 'boundary' events, indicating data discontinuities. Be cautious of filtering and epoching around these events.\n",
      "  eeg_dataset_raw = mne.io.read_raw_eeglab(eeg_lab_file_path, preload=True, verbose=flag_verbose)\n"
     ]
    },
    {
     "data": {
      "application/vnd.jupyter.widget-view+json": {
       "model_id": "dece39cadc4a4c88a91b0aa270c61843",
       "version_major": 2,
       "version_minor": 0
      },
      "text/plain": [
       "Running group fits.:   0%|          | 0/63 [00:00<?, ?it/s]"
      ]
     },
     "metadata": {},
     "output_type": "display_data"
    },
    {
     "name": "stdout",
     "output_type": "stream",
     "text": [
      "\n",
      "-----------------------------------------------------------------------------------------------\n",
      "Processing subject: sub-130\n",
      "Effective window size : 4.096 (s)\n"
     ]
    },
    {
     "name": "stderr",
     "output_type": "stream",
     "text": [
      "/var/folders/_3/08zshp4n3z1_glk6l5vgyqz40000gn/T/ipykernel_90052/2394794606.py:44: RuntimeWarning: The data contains 'boundary' events, indicating data discontinuities. Be cautious of filtering and epoching around these events.\n",
      "  eeg_dataset_raw = mne.io.read_raw_eeglab(eeg_lab_file_path, preload=True, verbose=flag_verbose)\n"
     ]
    },
    {
     "data": {
      "application/vnd.jupyter.widget-view+json": {
       "model_id": "42fab70c1e79463f877f8e8b3aff55c3",
       "version_major": 2,
       "version_minor": 0
      },
      "text/plain": [
       "Running group fits.:   0%|          | 0/63 [00:00<?, ?it/s]"
      ]
     },
     "metadata": {},
     "output_type": "display_data"
    },
    {
     "name": "stdout",
     "output_type": "stream",
     "text": [
      "\n",
      "-----------------------------------------------------------------------------------------------\n",
      "Processing subject: sub-131\n",
      "Effective window size : 4.096 (s)\n"
     ]
    },
    {
     "name": "stderr",
     "output_type": "stream",
     "text": [
      "/var/folders/_3/08zshp4n3z1_glk6l5vgyqz40000gn/T/ipykernel_90052/2394794606.py:44: RuntimeWarning: The data contains 'boundary' events, indicating data discontinuities. Be cautious of filtering and epoching around these events.\n",
      "  eeg_dataset_raw = mne.io.read_raw_eeglab(eeg_lab_file_path, preload=True, verbose=flag_verbose)\n"
     ]
    },
    {
     "data": {
      "application/vnd.jupyter.widget-view+json": {
       "model_id": "4ffdd5274eef424cb02920d423dceb62",
       "version_major": 2,
       "version_minor": 0
      },
      "text/plain": [
       "Running group fits.:   0%|          | 0/63 [00:00<?, ?it/s]"
      ]
     },
     "metadata": {},
     "output_type": "display_data"
    },
    {
     "name": "stdout",
     "output_type": "stream",
     "text": [
      "\n",
      "-----------------------------------------------------------------------------------------------\n",
      "Processing subject: sub-132\n",
      "Effective window size : 4.096 (s)\n"
     ]
    },
    {
     "name": "stderr",
     "output_type": "stream",
     "text": [
      "/var/folders/_3/08zshp4n3z1_glk6l5vgyqz40000gn/T/ipykernel_90052/2394794606.py:44: RuntimeWarning: The data contains 'boundary' events, indicating data discontinuities. Be cautious of filtering and epoching around these events.\n",
      "  eeg_dataset_raw = mne.io.read_raw_eeglab(eeg_lab_file_path, preload=True, verbose=flag_verbose)\n"
     ]
    },
    {
     "data": {
      "application/vnd.jupyter.widget-view+json": {
       "model_id": "157b5c3322da4fa582b4b080a8153142",
       "version_major": 2,
       "version_minor": 0
      },
      "text/plain": [
       "Running group fits.:   0%|          | 0/63 [00:00<?, ?it/s]"
      ]
     },
     "metadata": {},
     "output_type": "display_data"
    },
    {
     "name": "stdout",
     "output_type": "stream",
     "text": [
      "\n",
      "-----------------------------------------------------------------------------------------------\n",
      "Processing subject: sub-133\n",
      "Effective window size : 4.096 (s)\n"
     ]
    },
    {
     "name": "stderr",
     "output_type": "stream",
     "text": [
      "/var/folders/_3/08zshp4n3z1_glk6l5vgyqz40000gn/T/ipykernel_90052/2394794606.py:44: RuntimeWarning: The data contains 'boundary' events, indicating data discontinuities. Be cautious of filtering and epoching around these events.\n",
      "  eeg_dataset_raw = mne.io.read_raw_eeglab(eeg_lab_file_path, preload=True, verbose=flag_verbose)\n"
     ]
    },
    {
     "data": {
      "application/vnd.jupyter.widget-view+json": {
       "model_id": "2d63babfc7764164bf6b5a9169fdb8bc",
       "version_major": 2,
       "version_minor": 0
      },
      "text/plain": [
       "Running group fits.:   0%|          | 0/63 [00:00<?, ?it/s]"
      ]
     },
     "metadata": {},
     "output_type": "display_data"
    },
    {
     "name": "stdout",
     "output_type": "stream",
     "text": [
      "\n",
      "-----------------------------------------------------------------------------------------------\n",
      "Processing subject: sub-134\n",
      "Effective window size : 4.096 (s)\n"
     ]
    },
    {
     "name": "stderr",
     "output_type": "stream",
     "text": [
      "/var/folders/_3/08zshp4n3z1_glk6l5vgyqz40000gn/T/ipykernel_90052/2394794606.py:44: RuntimeWarning: The data contains 'boundary' events, indicating data discontinuities. Be cautious of filtering and epoching around these events.\n",
      "  eeg_dataset_raw = mne.io.read_raw_eeglab(eeg_lab_file_path, preload=True, verbose=flag_verbose)\n"
     ]
    },
    {
     "data": {
      "application/vnd.jupyter.widget-view+json": {
       "model_id": "b9d71a16d54b40939d4e70c93680f14e",
       "version_major": 2,
       "version_minor": 0
      },
      "text/plain": [
       "Running group fits.:   0%|          | 0/63 [00:00<?, ?it/s]"
      ]
     },
     "metadata": {},
     "output_type": "display_data"
    },
    {
     "name": "stdout",
     "output_type": "stream",
     "text": [
      "\n",
      "-----------------------------------------------------------------------------------------------\n",
      "Processing subject: sub-135\n",
      "Effective window size : 4.096 (s)\n"
     ]
    },
    {
     "name": "stderr",
     "output_type": "stream",
     "text": [
      "/var/folders/_3/08zshp4n3z1_glk6l5vgyqz40000gn/T/ipykernel_90052/2394794606.py:44: RuntimeWarning: The data contains 'boundary' events, indicating data discontinuities. Be cautious of filtering and epoching around these events.\n",
      "  eeg_dataset_raw = mne.io.read_raw_eeglab(eeg_lab_file_path, preload=True, verbose=flag_verbose)\n"
     ]
    },
    {
     "data": {
      "application/vnd.jupyter.widget-view+json": {
       "model_id": "2b8cf7ecdcbf41b7a25766ff772fbe4d",
       "version_major": 2,
       "version_minor": 0
      },
      "text/plain": [
       "Running group fits.:   0%|          | 0/63 [00:00<?, ?it/s]"
      ]
     },
     "metadata": {},
     "output_type": "display_data"
    },
    {
     "name": "stdout",
     "output_type": "stream",
     "text": [
      "\n",
      "-----------------------------------------------------------------------------------------------\n",
      "Processing subject: sub-136\n",
      "Effective window size : 4.096 (s)\n"
     ]
    },
    {
     "name": "stderr",
     "output_type": "stream",
     "text": [
      "/var/folders/_3/08zshp4n3z1_glk6l5vgyqz40000gn/T/ipykernel_90052/2394794606.py:44: RuntimeWarning: The data contains 'boundary' events, indicating data discontinuities. Be cautious of filtering and epoching around these events.\n",
      "  eeg_dataset_raw = mne.io.read_raw_eeglab(eeg_lab_file_path, preload=True, verbose=flag_verbose)\n"
     ]
    },
    {
     "data": {
      "application/vnd.jupyter.widget-view+json": {
       "model_id": "9c717ba4a63c4a718c5d380105d90318",
       "version_major": 2,
       "version_minor": 0
      },
      "text/plain": [
       "Running group fits.:   0%|          | 0/63 [00:00<?, ?it/s]"
      ]
     },
     "metadata": {},
     "output_type": "display_data"
    },
    {
     "name": "stdout",
     "output_type": "stream",
     "text": [
      "\n",
      "-----------------------------------------------------------------------------------------------\n",
      "Processing subject: sub-137\n",
      "Effective window size : 4.096 (s)\n"
     ]
    },
    {
     "name": "stderr",
     "output_type": "stream",
     "text": [
      "/var/folders/_3/08zshp4n3z1_glk6l5vgyqz40000gn/T/ipykernel_90052/2394794606.py:44: RuntimeWarning: The data contains 'boundary' events, indicating data discontinuities. Be cautious of filtering and epoching around these events.\n",
      "  eeg_dataset_raw = mne.io.read_raw_eeglab(eeg_lab_file_path, preload=True, verbose=flag_verbose)\n"
     ]
    },
    {
     "data": {
      "application/vnd.jupyter.widget-view+json": {
       "model_id": "0909fa39d6224e7f96051629c257a711",
       "version_major": 2,
       "version_minor": 0
      },
      "text/plain": [
       "Running group fits.:   0%|          | 0/63 [00:00<?, ?it/s]"
      ]
     },
     "metadata": {},
     "output_type": "display_data"
    },
    {
     "name": "stdout",
     "output_type": "stream",
     "text": [
      "\n",
      "-----------------------------------------------------------------------------------------------\n",
      "Processing subject: sub-138\n",
      "Effective window size : 4.096 (s)\n"
     ]
    },
    {
     "name": "stderr",
     "output_type": "stream",
     "text": [
      "/var/folders/_3/08zshp4n3z1_glk6l5vgyqz40000gn/T/ipykernel_90052/2394794606.py:44: RuntimeWarning: The data contains 'boundary' events, indicating data discontinuities. Be cautious of filtering and epoching around these events.\n",
      "  eeg_dataset_raw = mne.io.read_raw_eeglab(eeg_lab_file_path, preload=True, verbose=flag_verbose)\n"
     ]
    },
    {
     "data": {
      "application/vnd.jupyter.widget-view+json": {
       "model_id": "40626606ca0347e99ea3ebb5e9773300",
       "version_major": 2,
       "version_minor": 0
      },
      "text/plain": [
       "Running group fits.:   0%|          | 0/63 [00:00<?, ?it/s]"
      ]
     },
     "metadata": {},
     "output_type": "display_data"
    },
    {
     "name": "stdout",
     "output_type": "stream",
     "text": [
      "\n",
      "-----------------------------------------------------------------------------------------------\n",
      "Processing subject: sub-139\n",
      "Effective window size : 4.096 (s)\n"
     ]
    },
    {
     "name": "stderr",
     "output_type": "stream",
     "text": [
      "/var/folders/_3/08zshp4n3z1_glk6l5vgyqz40000gn/T/ipykernel_90052/2394794606.py:44: RuntimeWarning: The data contains 'boundary' events, indicating data discontinuities. Be cautious of filtering and epoching around these events.\n",
      "  eeg_dataset_raw = mne.io.read_raw_eeglab(eeg_lab_file_path, preload=True, verbose=flag_verbose)\n"
     ]
    },
    {
     "data": {
      "application/vnd.jupyter.widget-view+json": {
       "model_id": "5cd5118c675e4de38dd15b10c046e5bf",
       "version_major": 2,
       "version_minor": 0
      },
      "text/plain": [
       "Running group fits.:   0%|          | 0/63 [00:00<?, ?it/s]"
      ]
     },
     "metadata": {},
     "output_type": "display_data"
    },
    {
     "name": "stdout",
     "output_type": "stream",
     "text": [
      "\n",
      "-----------------------------------------------------------------------------------------------\n",
      "Processing subject: sub-140\n",
      "Effective window size : 4.096 (s)\n"
     ]
    },
    {
     "name": "stderr",
     "output_type": "stream",
     "text": [
      "/var/folders/_3/08zshp4n3z1_glk6l5vgyqz40000gn/T/ipykernel_90052/2394794606.py:44: RuntimeWarning: The data contains 'boundary' events, indicating data discontinuities. Be cautious of filtering and epoching around these events.\n",
      "  eeg_dataset_raw = mne.io.read_raw_eeglab(eeg_lab_file_path, preload=True, verbose=flag_verbose)\n"
     ]
    },
    {
     "data": {
      "application/vnd.jupyter.widget-view+json": {
       "model_id": "01ba4e7ca7024294973247300693c9d8",
       "version_major": 2,
       "version_minor": 0
      },
      "text/plain": [
       "Running group fits.:   0%|          | 0/64 [00:00<?, ?it/s]"
      ]
     },
     "metadata": {},
     "output_type": "display_data"
    },
    {
     "name": "stdout",
     "output_type": "stream",
     "text": [
      "\n",
      "-----------------------------------------------------------------------------------------------\n",
      "Processing subject: sub-141\n",
      "Effective window size : 4.096 (s)\n"
     ]
    },
    {
     "name": "stderr",
     "output_type": "stream",
     "text": [
      "/var/folders/_3/08zshp4n3z1_glk6l5vgyqz40000gn/T/ipykernel_90052/2394794606.py:44: RuntimeWarning: The data contains 'boundary' events, indicating data discontinuities. Be cautious of filtering and epoching around these events.\n",
      "  eeg_dataset_raw = mne.io.read_raw_eeglab(eeg_lab_file_path, preload=True, verbose=flag_verbose)\n"
     ]
    },
    {
     "data": {
      "application/vnd.jupyter.widget-view+json": {
       "model_id": "7d8d2e5359a744b5809db1197055eed9",
       "version_major": 2,
       "version_minor": 0
      },
      "text/plain": [
       "Running group fits.:   0%|          | 0/64 [00:00<?, ?it/s]"
      ]
     },
     "metadata": {},
     "output_type": "display_data"
    },
    {
     "name": "stdout",
     "output_type": "stream",
     "text": [
      "\n",
      "-----------------------------------------------------------------------------------------------\n",
      "Processing subject: sub-142\n",
      "Effective window size : 4.096 (s)\n"
     ]
    },
    {
     "name": "stderr",
     "output_type": "stream",
     "text": [
      "/var/folders/_3/08zshp4n3z1_glk6l5vgyqz40000gn/T/ipykernel_90052/2394794606.py:44: RuntimeWarning: The data contains 'boundary' events, indicating data discontinuities. Be cautious of filtering and epoching around these events.\n",
      "  eeg_dataset_raw = mne.io.read_raw_eeglab(eeg_lab_file_path, preload=True, verbose=flag_verbose)\n"
     ]
    },
    {
     "data": {
      "application/vnd.jupyter.widget-view+json": {
       "model_id": "29d01126a3f54cf49989b5a45299ba17",
       "version_major": 2,
       "version_minor": 0
      },
      "text/plain": [
       "Running group fits.:   0%|          | 0/64 [00:00<?, ?it/s]"
      ]
     },
     "metadata": {},
     "output_type": "display_data"
    },
    {
     "name": "stdout",
     "output_type": "stream",
     "text": [
      "\n",
      "-----------------------------------------------------------------------------------------------\n",
      "Processing subject: sub-143\n",
      "Effective window size : 4.096 (s)\n"
     ]
    },
    {
     "name": "stderr",
     "output_type": "stream",
     "text": [
      "/var/folders/_3/08zshp4n3z1_glk6l5vgyqz40000gn/T/ipykernel_90052/2394794606.py:44: RuntimeWarning: The data contains 'boundary' events, indicating data discontinuities. Be cautious of filtering and epoching around these events.\n",
      "  eeg_dataset_raw = mne.io.read_raw_eeglab(eeg_lab_file_path, preload=True, verbose=flag_verbose)\n"
     ]
    },
    {
     "data": {
      "application/vnd.jupyter.widget-view+json": {
       "model_id": "6a0334d445e14832976d13485586ea6a",
       "version_major": 2,
       "version_minor": 0
      },
      "text/plain": [
       "Running group fits.:   0%|          | 0/64 [00:00<?, ?it/s]"
      ]
     },
     "metadata": {},
     "output_type": "display_data"
    },
    {
     "name": "stdout",
     "output_type": "stream",
     "text": [
      "\n",
      "-----------------------------------------------------------------------------------------------\n",
      "Processing subject: sub-144\n",
      "Effective window size : 4.096 (s)\n"
     ]
    },
    {
     "name": "stderr",
     "output_type": "stream",
     "text": [
      "/var/folders/_3/08zshp4n3z1_glk6l5vgyqz40000gn/T/ipykernel_90052/2394794606.py:44: RuntimeWarning: The data contains 'boundary' events, indicating data discontinuities. Be cautious of filtering and epoching around these events.\n",
      "  eeg_dataset_raw = mne.io.read_raw_eeglab(eeg_lab_file_path, preload=True, verbose=flag_verbose)\n"
     ]
    },
    {
     "data": {
      "application/vnd.jupyter.widget-view+json": {
       "model_id": "854c4557d2be43c787e6813055f1f7d0",
       "version_major": 2,
       "version_minor": 0
      },
      "text/plain": [
       "Running group fits.:   0%|          | 0/64 [00:00<?, ?it/s]"
      ]
     },
     "metadata": {},
     "output_type": "display_data"
    },
    {
     "name": "stdout",
     "output_type": "stream",
     "text": [
      "\n",
      "-----------------------------------------------------------------------------------------------\n",
      "Processing subject: sub-145\n",
      "Effective window size : 4.096 (s)\n"
     ]
    },
    {
     "name": "stderr",
     "output_type": "stream",
     "text": [
      "/var/folders/_3/08zshp4n3z1_glk6l5vgyqz40000gn/T/ipykernel_90052/2394794606.py:44: RuntimeWarning: The data contains 'boundary' events, indicating data discontinuities. Be cautious of filtering and epoching around these events.\n",
      "  eeg_dataset_raw = mne.io.read_raw_eeglab(eeg_lab_file_path, preload=True, verbose=flag_verbose)\n"
     ]
    },
    {
     "data": {
      "application/vnd.jupyter.widget-view+json": {
       "model_id": "59f881b08e41493aaedead3d1b039036",
       "version_major": 2,
       "version_minor": 0
      },
      "text/plain": [
       "Running group fits.:   0%|          | 0/64 [00:00<?, ?it/s]"
      ]
     },
     "metadata": {},
     "output_type": "display_data"
    },
    {
     "name": "stdout",
     "output_type": "stream",
     "text": [
      "\n",
      "-----------------------------------------------------------------------------------------------\n",
      "Processing subject: sub-146\n",
      "Effective window size : 4.096 (s)\n"
     ]
    },
    {
     "name": "stderr",
     "output_type": "stream",
     "text": [
      "/var/folders/_3/08zshp4n3z1_glk6l5vgyqz40000gn/T/ipykernel_90052/2394794606.py:44: RuntimeWarning: The data contains 'boundary' events, indicating data discontinuities. Be cautious of filtering and epoching around these events.\n",
      "  eeg_dataset_raw = mne.io.read_raw_eeglab(eeg_lab_file_path, preload=True, verbose=flag_verbose)\n"
     ]
    },
    {
     "data": {
      "application/vnd.jupyter.widget-view+json": {
       "model_id": "b1573251ef5d4318ba9527f2810c9ac4",
       "version_major": 2,
       "version_minor": 0
      },
      "text/plain": [
       "Running group fits.:   0%|          | 0/64 [00:00<?, ?it/s]"
      ]
     },
     "metadata": {},
     "output_type": "display_data"
    },
    {
     "name": "stdout",
     "output_type": "stream",
     "text": [
      "\n",
      "-----------------------------------------------------------------------------------------------\n",
      "Processing subject: sub-147\n",
      "Effective window size : 4.096 (s)\n"
     ]
    },
    {
     "name": "stderr",
     "output_type": "stream",
     "text": [
      "/var/folders/_3/08zshp4n3z1_glk6l5vgyqz40000gn/T/ipykernel_90052/2394794606.py:44: RuntimeWarning: The data contains 'boundary' events, indicating data discontinuities. Be cautious of filtering and epoching around these events.\n",
      "  eeg_dataset_raw = mne.io.read_raw_eeglab(eeg_lab_file_path, preload=True, verbose=flag_verbose)\n"
     ]
    },
    {
     "data": {
      "application/vnd.jupyter.widget-view+json": {
       "model_id": "c49cd163cc4b43be9e2bead0cf3f1f8d",
       "version_major": 2,
       "version_minor": 0
      },
      "text/plain": [
       "Running group fits.:   0%|          | 0/64 [00:00<?, ?it/s]"
      ]
     },
     "metadata": {},
     "output_type": "display_data"
    },
    {
     "name": "stdout",
     "output_type": "stream",
     "text": [
      "\n",
      "-----------------------------------------------------------------------------------------------\n",
      "Processing subject: sub-148\n",
      "Effective window size : 4.096 (s)\n"
     ]
    },
    {
     "name": "stderr",
     "output_type": "stream",
     "text": [
      "/var/folders/_3/08zshp4n3z1_glk6l5vgyqz40000gn/T/ipykernel_90052/2394794606.py:44: RuntimeWarning: The data contains 'boundary' events, indicating data discontinuities. Be cautious of filtering and epoching around these events.\n",
      "  eeg_dataset_raw = mne.io.read_raw_eeglab(eeg_lab_file_path, preload=True, verbose=flag_verbose)\n"
     ]
    },
    {
     "data": {
      "application/vnd.jupyter.widget-view+json": {
       "model_id": "1b38e6a012394cf7af2bd37fc74452a8",
       "version_major": 2,
       "version_minor": 0
      },
      "text/plain": [
       "Running group fits.:   0%|          | 0/64 [00:00<?, ?it/s]"
      ]
     },
     "metadata": {},
     "output_type": "display_data"
    },
    {
     "name": "stdout",
     "output_type": "stream",
     "text": [
      "\n",
      "-----------------------------------------------------------------------------------------------\n",
      "Processing subject: sub-149\n",
      "Effective window size : 4.096 (s)\n"
     ]
    },
    {
     "name": "stderr",
     "output_type": "stream",
     "text": [
      "/var/folders/_3/08zshp4n3z1_glk6l5vgyqz40000gn/T/ipykernel_90052/2394794606.py:44: RuntimeWarning: The data contains 'boundary' events, indicating data discontinuities. Be cautious of filtering and epoching around these events.\n",
      "  eeg_dataset_raw = mne.io.read_raw_eeglab(eeg_lab_file_path, preload=True, verbose=flag_verbose)\n"
     ]
    },
    {
     "data": {
      "application/vnd.jupyter.widget-view+json": {
       "model_id": "5bf51350986f4cc281d2d968f750d222",
       "version_major": 2,
       "version_minor": 0
      },
      "text/plain": [
       "Running group fits.:   0%|          | 0/64 [00:00<?, ?it/s]"
      ]
     },
     "metadata": {},
     "output_type": "display_data"
    }
   ],
   "source": [
    "# Execute the pipeline for each subject\n",
    "#\n",
    "\n",
    "for idx, subject in study_subjects_df.iterrows():\n",
    "    # Break for testing\n",
    "    if int(idx) > (max_subjects_run - 1):\n",
    "        break\n",
    "\n",
    "    subject_id = subject['subject_id']\n",
    "    print('\\n-----------------------------------------------------------------------------------------------')\n",
    "    print(f\"Processing subject: {subject_id}\")\n",
    "\n",
    "    # Get the raw EEG data\n",
    "    if VERBOSE:\n",
    "        print('\\n--Get EEG Raw Data - FIT-----------------------------------------')\n",
    "    temp_EEG_raw_files = get_EEG_raw(dataset_path, subject_id)\n",
    "    # TODO: How to handle multiple session EEG raw files?\n",
    "    temp_EEG_raw = temp_EEG_raw_files[0]\n",
    "    if VERBOSE:\n",
    "        print(f\"Description: {temp_EEG_raw.info['description']} on {temp_EEG_raw.info['meas_date']}\")\n",
    "        print(temp_EEG_raw)\n",
    "        print(temp_EEG_raw.info)\n",
    "        plot_EEG_TD(temp_EEG_raw, test_channels)\n",
    "\n",
    "    # # EEG Preprocessing\n",
    "    # if VERBOSE:\n",
    "    #     print('\\n--Preprocessing EEG----------------------------------------------')\n",
    "    # temp_EEG_clean = perform_EEG_preprocessing(preprocess_params, temp_EEG_raw)\n",
    "    # if VERBOSE:\n",
    "    #     # TODO: Any need to summarise or retain results?\n",
    "    #     plot_EEG_TD(temp_EEG_clean, test_channels)\n",
    "\n",
    "    # # Artifact Removal with ICA\n",
    "    # if VERBOSE:\n",
    "    #     print('\\n--Artifact Removal - ICA ------------------------------------------')\n",
    "    # if preprocess_params['ica_method'] == 'none':\n",
    "    #     print('ICA Skipped')\n",
    "    # else:\n",
    "    #     temp_EEG_clean = perform_artifact_removal(preprocess_params, temp_EEG_clean)   \n",
    "    # if VERBOSE:\n",
    "    #     # TODO: Any need to summarise or retain results?\n",
    "    #     plot_EEG_TD(temp_EEG_clean, test_channels)\n",
    "    temp_EEG_clean = temp_EEG_raw\n",
    "\n",
    "    # Power spectrum\n",
    "    if VERBOSE:\n",
    "        print('\\n--EEG Power Spectra----------------------------------------------')\n",
    "    temp_spectra = get_spectra(psd_params, temp_EEG_clean)\n",
    "    if VERBOSE:\n",
    "        print(f'Using parameters: {psd_params}')\n",
    "        print(temp_spectra)\n",
    "        print(temp_spectra.info)\n",
    "\n",
    "        plot_EEG_PSD(temp_spectra, test_channels[0])\n",
    "\n",
    "    # Spectral Parameterisation\n",
    "    if VERBOSE:\n",
    "        print('\\n--EEG Spectral Parameterisation------------------------------------')\n",
    "    specparam_df, fg = perform_SpecParam(specparam_params, temp_spectra)\n",
    "    if VERBOSE:\n",
    "        print(f'With parameters: {specparam_params}')\n",
    "        print(f'Executed Settings: {fg.get_settings()}')\n",
    "\n",
    "        # TODO: Assess the goodness of fit etc? Judge the quality of the fit?\n",
    "        # TODO: Automatically remove any 'bad' results?\n",
    "        # TODO: Some fits had more than the expected channels, eg subject 66 had 68 channels. Action?\n",
    "\n",
    "        # Overall group results\n",
    "        fg.print_results()\n",
    "        fg.plot()\n",
    "        plt.show()\n",
    "\n",
    "        # Plot the test channels\n",
    "        channel_idx = temp_spectra.ch_names.index(test_channels[0])\n",
    "        plot_SpecParam(fg, channel_idx, test_channels[0])\n",
    "\n",
    "    # Results & Features Save\n",
    "    if VERBOSE:\n",
    "        print('\\n--Collating Study Features ----------------------------------------')\n",
    "    \n",
    "    # Full Specparam Results Save\n",
    "    # TODO: Change to subject and save?\n",
    "    # specparam_df.to_pickle(eeg_processing_run_path + '/specparam_results_df.pkl', compression='zip')\n",
    "\n",
    "    # Subject Features Superset add to the overall study features dataframe\n",
    "    subject_features_df = subject_features_collate(subject, specparam_df)\n",
    "    eeg_results_features_superset_df = pd.concat([eeg_results_features_superset_df, subject_features_df], ignore_index=True)\n",
    "\n",
    "    # TODO: Combine subject results eg total averaged, by region etc .... ??\n",
    "\n",
    "# Save results\n",
    "eeg_results_features_superset_df.to_pickle(eeg_processing_run_path + '/eeg_results_features_superset_df.pkl', compression='zip')\n",
    "\n",
    "# TODO: Some summary stats on subjects accepted, range of features, exponents, number of peaks etc etc ??\n"
   ]
  },
  {
   "cell_type": "markdown",
   "id": "35b86b5d",
   "metadata": {},
   "source": [
    "# Inspections"
   ]
  },
  {
   "cell_type": "code",
   "execution_count": 15,
   "id": "ad850368",
   "metadata": {},
   "outputs": [
    {
     "data": {
      "image/png": "[encoded data removed]",
      "text/plain": [
       "<Figure size 1200x800 with 1 Axes>"
      ]
     },
     "metadata": {},
     "output_type": "display_data"
    }
   ],
   "source": [
    "# Examine time domain\n",
    "\n",
    "channels = ['P5', 'C5', 'C4', 'Cz']\n",
    "time_range = [0,25]\n",
    "plot_EEG_TD(temp_EEG_raw, channels, time_range)"
   ]
  },
  {
   "cell_type": "code",
   "execution_count": 16,
   "id": "710bcd05",
   "metadata": {},
   "outputs": [
    {
     "name": "stdout",
     "output_type": "stream",
     "text": [
      "==================================================================================================\n",
      "                                                                                                  \n",
      "                                       POWER SPECTRUM MODEL                                       \n",
      "                                                                                                  \n",
      "                        The model was run on the frequency range 1 - 75 Hz                        \n",
      "                                 Frequency Resolution is 0.24 Hz                                  \n",
      "                                                                                                  \n",
      "                            Aperiodic Parameters (offset, exponent):                              \n",
      "                                         -14.0442, 0.1337                                         \n",
      "                                                                                                  \n",
      "                                       1 peaks were found:                                        \n",
      "                                CF:  60.01, PW:  2.547, BW:  1.00                                 \n",
      "                                                                                                  \n",
      "                                     Goodness of fit metrics:                                     \n",
      "                                    R^2 of model fit is 0.7732                                    \n",
      "                                    Error of the fit is 0.0888                                    \n",
      "                                                                                                  \n",
      "==================================================================================================\n"
     ]
    },
    {
     "data": {
      "image/png": "[encoded data removed]",
      "text/plain": [
       "<Figure size 1200x800 with 2 Axes>"
      ]
     },
     "metadata": {},
     "output_type": "display_data"
    }
   ],
   "source": [
    "channel_idx = temp_spectra.ch_names.index('P5')\n",
    "plot_SpecParam(fg, channel_idx, 'P5')"
   ]
  }
 ],
 "metadata": {
  "kernelspec": {
   "display_name": "eeg_ml_pipeline_v2",
   "language": "python",
   "name": "python3"
  },
  "language_info": {
   "codemirror_mode": {
    "name": "ipython",
    "version": 3
   },
   "file_extension": ".py",
   "mimetype": "text/x-python",
   "name": "python",
   "nbconvert_exporter": "python",
   "pygments_lexer": "ipython3",
   "version": "3.11.13"
  }
 },
 "nbformat": 4,
 "nbformat_minor": 5
}
