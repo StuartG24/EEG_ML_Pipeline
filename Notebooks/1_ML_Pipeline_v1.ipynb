{
 "cells": [
  {
   "cell_type": "markdown",
   "id": "095b6647",
   "metadata": {},
   "source": [
    "# EEG Machine Learning Pipeline"
   ]
  },
  {
   "cell_type": "markdown",
   "id": "edbf2539",
   "metadata": {},
   "source": [
    "## TO DO - To Review\n",
    "\n",
    "Projects:\n",
    "- Pickle: https://www.perplexity.ai/search/in-a-jupyter-notebook-i-have-c-0LbAAH9ITFGfcPYaWlrt6Q"
   ]
  },
  {
   "cell_type": "code",
   "execution_count": 1,
   "id": "e36d4273",
   "metadata": {},
   "outputs": [],
   "source": [
    "# General imports\n",
    "import os\n",
    "import gc\n",
    "from datetime import datetime\n",
    "from pprint import pprint\n",
    "\n",
    "import math\n",
    "import numpy as np\n",
    "import pandas as pd\n",
    "\n",
    "# Plots\n",
    "import matplotlib.pyplot as plt\n",
    "plt.style.use('ggplot')"
   ]
  },
  {
   "cell_type": "code",
   "execution_count": 2,
   "id": "b859d1f1",
   "metadata": {},
   "outputs": [],
   "source": [
    "# A utility function to establish relative paths for a given folder\n",
    "def get_folder_path(folder_name):\n",
    "    project_root = os.path.dirname(os.getcwd())\n",
    "    folder_path = os.path.join(project_root, folder_name)\n",
    "    if not os.path.isdir(folder_path):\n",
    "        raise FileNotFoundError(f'Directory not found: {folder_path}')  \n",
    "     \n",
    "    return folder_path\n",
    "\n",
    "# Utility function to check for the existence of a file in a given directory\n",
    "def get_file_path(folder, file_name):\n",
    "    file_path = os.path.join(folder, file_name)\n",
    "    if not os.path.isfile(file_path):\n",
    "        raise FileNotFoundError(f'File not found: {file_path}')\n",
    "    return file_path"
   ]
  },
  {
   "cell_type": "code",
   "execution_count": 3,
   "id": "72f72d15",
   "metadata": {},
   "outputs": [],
   "source": [
    "def load_dataframe(file_path):\n",
    "\n",
    "    # Validate\n",
    "    if not os.path.isfile(file_path):\n",
    "        raise FileNotFoundError(f'File not found: {file_path}')\n",
    "\n",
    "    try:\n",
    "        if not os.path.isfile(file_path):\n",
    "            raise FileNotFoundError(f'File not found: {file_path}')\n",
    "        \n",
    "        df = pd.read_pickle(file_path)\n",
    "        print(f\"DataFrame loaded: shape {df.shape}\")\n",
    "        return df\n",
    "    except Exception as e:\n",
    "        print(f\"Error loading DataFrame: {e}\")\n",
    "        return None"
   ]
  },
  {
   "cell_type": "code",
   "execution_count": 4,
   "id": "02d4dbf9",
   "metadata": {},
   "outputs": [],
   "source": [
    "study_features_folder = get_folder_path('Data/EEG_Datasets_Processed/ds004584-1.0.0_20250615')\n",
    "study_features_file = 'study_features_df.pkl'\n",
    "\n",
    "eeg_study_features_file_path = get_file_path(study_features_folder, study_features_file)"
   ]
  },
  {
   "cell_type": "code",
   "execution_count": 5,
   "id": "80cb5b97",
   "metadata": {},
   "outputs": [
    {
     "name": "stdout",
     "output_type": "stream",
     "text": [
      "DataFrame loaded: shape (149, 2248)\n"
     ]
    }
   ],
   "source": [
    "test = load_dataframe(eeg_study_features_file_path)"
   ]
  }
 ],
 "metadata": {
  "kernelspec": {
   "display_name": "eeg_ml_pipeline_v2",
   "language": "python",
   "name": "python3"
  },
  "language_info": {
   "codemirror_mode": {
    "name": "ipython",
    "version": 3
   },
   "file_extension": ".py",
   "mimetype": "text/x-python",
   "name": "python",
   "nbconvert_exporter": "python",
   "pygments_lexer": "ipython3",
   "version": "3.11.13"
  }
 },
 "nbformat": 4,
 "nbformat_minor": 5
}
