{
 "cells": [
  {
   "cell_type": "markdown",
   "id": "e87d30df",
   "metadata": {},
   "source": [
    "# Summary\n",
    "\n",
    "### EEG Data Preprocessing\n",
    "\n",
    "0. Study & EEG Dataset Acquisition - Source OpenNeuro, BIDS/EEGLab raw format  \n",
    "\n",
    "1. EEG Preprocessing Pipeline - EEG preprocessing, SpecParam etc. Produce a features superset  \n",
    "\n",
    "### Exploration & Model Training\n",
    "\n",
    "2a. Features Extraction - Selection, extraction & cleaning of the features superset. Create a features extraction pipeline\n",
    "\n",
    "2b. ML Model Training & Evaluation - Train several models, evaluate and select the preferred model. Create an extraction and model pipeline\n",
    "\n",
    "### Model Predictions\n",
    "\n",
    "3. Parkinson Disease Predictions - Generate PD predictions. On further EEG datasets, features superset; run the model pipeline to generate predictions."
   ]
  },
  {
   "cell_type": "markdown",
   "id": "7bf575c7",
   "metadata": {},
   "source": [
    "# Key Dependencies\n",
    "\n",
    "General dependencies:\n",
    "- python = 3.11.13\n",
    "- numpy = 2.0.2\n",
    "- scipy = 1.15.3\n",
    "- pandas = 2.2.3\n",
    "- matplotlib = 3.10.3\n",
    "\n",
    "ML dependencies:\n",
    "- scikit-learn = 1.6.1\n",
    "\n",
    "EEG specific dependencies:\n",
    "- mne = 1.9.0\n",
    "- mne-icalabel = 0.7.0\n",
    "- specparam = 2.0.0rc3"
   ]
  }
 ],
 "metadata": {
  "language_info": {
   "name": "python"
  }
 },
 "nbformat": 4,
 "nbformat_minor": 5
}
