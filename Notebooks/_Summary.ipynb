{
 "cells": [
  {
   "cell_type": "markdown",
   "id": "e87d30df",
   "metadata": {},
   "source": [
    "# Full Pipeline Summary\n",
    "\n",
    "1. EEG Dataset Acquisition - Recommended OpenNeuro, BIDS/EEGLab raw format  \n",
    "\n",
    "2. EEG Processing Pipeline - EEG preprocessing, SpecParam etc. Create a features superset  \n",
    "\n",
    "3. Feature Selection Pipeline - Selection, extraction & cleaning of the features superset into a ML ready subset \n",
    "\n",
    "4. ML Model Training & Evaluation - Train several models, evaluate and select the preferred model  \n",
    "\n",
    "5. Parkinson Disease Predictions - Generate PD predictions. New raw EEG datasets, run through the EEG, Feature pipelines, then use the selected ML model to make PD predictions"
   ]
  },
  {
   "cell_type": "markdown",
   "id": "7bf575c7",
   "metadata": {},
   "source": [
    "# Key Dependencies\n",
    "\n",
    "General dependencies:\n",
    "- python = 3.11.13\n",
    "- numpy = 2.0.2\n",
    "- scipy = 1.15.3\n",
    "- pandas = 2.2.3\n",
    "- matplotlib = 3.10.3\n",
    "\n",
    "ML dependencies:\n",
    "- scikit-learn = 1.6.1\n",
    "\n",
    "EEG specific dependencies:\n",
    "- mne = 1.9.0\n",
    "- mne-icalabel = 0.7.0\n",
    "- specparam = 2.0.0rc3"
   ]
  }
 ],
 "metadata": {
  "language_info": {
   "name": "python"
  }
 },
 "nbformat": 4,
 "nbformat_minor": 5
}
