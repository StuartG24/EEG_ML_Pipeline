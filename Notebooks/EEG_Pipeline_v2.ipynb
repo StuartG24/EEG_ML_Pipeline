{
 "cells": [
  {
   "cell_type": "markdown",
   "id": "f390fb04",
   "metadata": {},
   "source": [
    "# EEG Pipeline - Summary\n",
    "\n",
    "WIP:\n",
    "- Perplexity project: https://www.perplexity.ai/search/i-am-building-a-pipeline-in-py-sVmw70rHQXa0VKkIT_p5tg?0=r\n",
    "- See Perplex notebooks, .md downloaded\n",
    "- Python Handbook: https://github.com/ZitongLu1996/Python-EEG-Handbook/tree/master\n",
    "\n",
    "MNE vs NueroDSP:\n",
    "- Use MNE\n",
    "- https://www.perplexity.ai/search/i-am-building-a-pipeline-in-py-sVmw70rHQXa0VKkIT_p5tg?0=d#1\n"
   ]
  },
  {
   "cell_type": "markdown",
   "id": "cccd5bce",
   "metadata": {},
   "source": [
    "# Packages & Utilities\n",
    "\n",
    "## Import:\n",
    "- MNE-Python: https://mne.tools/stable/index.html\n",
    "- The Brain Imaging Data Structure (BIDS): https://bids.neuroimaging.io\n",
    "- see example using mne https://neurodsp-tools.github.io/neurodsp/auto_examples/plot_mne_example.html#sphx-glr-auto-examples-plot-mne-example-py\n",
    "\n",
    "## Spectral Parameterisation:\n",
    "- SpecParam / FOOOF\n",
    "- The Aperiodic Methods project - Documentation: https://aperiodicmethods.github.io/docs/index.html and Repo: in https://github.com/AperiodicMethods/AperiodicMethods\n",
    "- And cite: https://www.biorxiv.org/content/10.1101/2024.09.15.613114v1\n",
    "\n",
    "Examples\n",
    "- Explanation of FOOOFing and calculation: https://fooof-tools.github.io/fooof/auto_tutorials/plot_01-ModelDescription.html#sphx-glr-auto-tutorials-plot-01-modeldescription-py\n"
   ]
  },
  {
   "cell_type": "code",
   "execution_count": 1,
   "id": "32a7cc5e",
   "metadata": {},
   "outputs": [
    {
     "name": "stderr",
     "output_type": "stream",
     "text": [
      "/var/folders/wd/rhzj_w8570g_y66t6j6mh4zw0000gn/T/ipykernel_89708/2644039310.py:15: DeprecationWarning: \n",
      "The `fooof` package is being deprecated and replaced by the `specparam` (spectral parameterization) package.\n",
      "This version of `fooof` (1.1) is fully functional, but will not be further updated.\n",
      "New projects are recommended to update to using `specparam` (see Changelog for details).\n",
      "  from fooof import FOOOF\n"
     ]
    },
    {
     "name": "stdout",
     "output_type": "stream",
     "text": [
      "Current fooof version: 1.1.1\n"
     ]
    }
   ],
   "source": [
    "# General imports\n",
    "import os\n",
    "import gc\n",
    "import math\n",
    "import numpy as np\n",
    "import pandas as pd\n",
    "\n",
    "import matplotlib.pyplot as plt\n",
    "plt.style.use('ggplot')\n",
    "\n",
    "# MNE-Python\n",
    "import mne\n",
    "\n",
    "# FOOF\n",
    "from fooof import FOOOF\n",
    "from fooof import FOOOFGroup\n",
    "from fooof.plts.spectra import plot_spectra\n",
    "# from fooof.plts.annotate import plot_annotated_model\n",
    "# from fooof.analysis import get_band_peak_fm\n",
    "\n",
    "# Import functions from specparam(fooof)\n",
    "# from fooof.utils import trim_spectrum\n",
    "\n",
    "# Check the version of the module\n",
    "from fooof import __version__ as fooof_version\n",
    "print('Current fooof version:', fooof_version)"
   ]
  },
  {
   "cell_type": "code",
   "execution_count": 2,
   "id": "aa3494a3",
   "metadata": {},
   "outputs": [],
   "source": [
    "# A simple utility function to establish paths for data files\n",
    "def get_data_path(data_directory = 'Data', file_name = ''):\n",
    "    project_root = os.path.dirname(os.getcwd())\n",
    "    data_path = os.path.join(project_root, data_directory, file_name)\n",
    "    if not os.path.isdir(data_path):\n",
    "        raise Exception(f'Directory not found: {data_path}')  \n",
    "     \n",
    "    return data_path\n",
    "\n",
    "# Utility function to check for the existence of a file in a given directory\n",
    "def get_file_path(directory, file_name):\n",
    "    file_path = os.path.join(directory, file_name)\n",
    "    if not os.path.isfile(file_path):\n",
    "        raise Exception(f'File not found: {file_path}')\n",
    "    return file_path"
   ]
  },
  {
   "cell_type": "markdown",
   "id": "01e47f44",
   "metadata": {},
   "source": [
    "## Setup & Defintions"
   ]
  },
  {
   "cell_type": "code",
   "execution_count": 3,
   "id": "b08147e3",
   "metadata": {},
   "outputs": [
    {
     "name": "stdout",
     "output_type": "stream",
     "text": [
      "Check On Folders & Files Used\n",
      "Notebooks Folder: /Users/stuartgow/GitHub/AI_Dissertation/Full_Pipeline/\n",
      "EEG Source Datasets Folder: /Users/stuartgow/GitHub/AI_Dissertation/EEG_Datasets_Source_x/\n",
      "Datasets found: ['ds004584-1.0.0']\n"
     ]
    }
   ],
   "source": [
    "# Assumed OpenNeuro, BIDS compliant datasets manually downloaded into the defined folders structure\n",
    "\n",
    "# Definitions for this project\n",
    "notebooks_folder = 'Full_Pipeline'\n",
    "eeg_datasets_source = 'EEG_Datasets_Source_x'\n",
    "\n",
    "# Create & Check Paths\n",
    "notebooks_path = get_data_path(notebooks_folder)\n",
    "eeg_datasets_path = get_data_path(eeg_datasets_source)\n",
    "\n",
    "print(f'Check On Folders & Files Used')\n",
    "print(f'Notebooks Folder: {notebooks_path}')\n",
    "print(f'EEG Source Datasets Folder: {eeg_datasets_path}')\n",
    "\n",
    "# Get a list of datasets (directories/files) in the EEG datasets source folder\n",
    "datasets_list = os.listdir(eeg_datasets_path)\n",
    "datasets_list = [d for d in datasets_list if d.startswith('ds') and os.path.isdir(os.path.join(eeg_datasets_path, d))]\n",
    "print('Datasets found:', datasets_list)\n",
    "# !ls \"{eeg_datasets_path}\"\n",
    "\n",
    "del eeg_datasets_source, notebooks_folder\n",
    "# gc.collect()"
   ]
  },
  {
   "cell_type": "markdown",
   "id": "f6a63bca",
   "metadata": {},
   "source": [
    "## EEG Data Load & Import\n"
   ]
  },
  {
   "cell_type": "code",
   "execution_count": 4,
   "id": "8e07e1e4",
   "metadata": {},
   "outputs": [],
   "source": [
    "# Function to get the raw EEG signal data\n",
    "def get_EEG_raw(dataset_name, subject_id, verbose=False):\n",
    "    \"\"\"\n",
    "    Get raw EEG data.\n",
    "    Parameters:\n",
    "        dataset_name - str\n",
    "        subject_id - str\n",
    "    Returns:\n",
    "        EEG - raw\n",
    "    \"\"\"\n",
    "\n",
    "    # BIDS File Structure\n",
    "    dataset_root = eeg_datasets_path\n",
    "    dataset_name = dataset_name\n",
    "    subject = subject_id\n",
    "    session = ''\n",
    "    task = 'Rest'\n",
    "    datatype='eeg'\n",
    "\n",
    "    # EEGLab .set file name\n",
    "    temp_path = os.path.join(dataset_root, dataset_name, subject, session, datatype)\n",
    "    temp_file_name = subject + '_task-' + task + '_' + datatype + '.set'\n",
    "    eeg_lab_file_path = get_file_path(temp_path, temp_file_name)\n",
    "\n",
    "    # Get the raw EEG data & Inspect it\n",
    "    eeg_dataset_raw = mne.io.read_raw_eeglab(eeg_lab_file_path, preload=True)\n",
    "\n",
    "    if verbose:\n",
    "        print(f\"Description: {eeg_dataset_raw.info['description']} on {eeg_dataset_raw.info['meas_date']}\")\n",
    "        print(eeg_dataset_raw)\n",
    "        print(eeg_dataset_raw.info)\n",
    "        # print(eeg_dataset_raw.info['sfreq'])\n",
    "\n",
    "        # Plot Time Series - MNE wbdwindowow plot\n",
    "        # eeg_dataset_raw.plot(duration=10, n_channels=16, clipping=None)\n",
    "        # TODO: Add an inline plot of all the channels time series ... NeuroDSP if not MNE\n",
    "\n",
    "        # Settings for exploring an example channel of data\n",
    "        fs = eeg_dataset_raw.info['sfreq']\n",
    "        ch_label = 'P5'\n",
    "        t_start = 0\n",
    "        t_stop = int(t_start + (10 * fs))\n",
    "\n",
    "        # Extract an example channel\n",
    "        sig, times = eeg_dataset_raw.get_data(mne.pick_channels(eeg_dataset_raw.ch_names, [ch_label]),\n",
    "                                start=t_start, stop=t_stop,\n",
    "                                return_times=True)\n",
    "        sig = np.squeeze(sig)\n",
    "\n",
    "        plt.figure(figsize=(12, 4))\n",
    "        plt.plot(times, sig, color='blue')\n",
    "        plt.title(f\"EEG Time Series - Channel {ch_label}\")\n",
    "        plt.xlabel(\"Time (s)\")\n",
    "        plt.ylabel(\"Amplitude (uV)\")\n",
    "        plt.tight_layout()\n",
    "        plt.show()\n",
    "\n",
    "        # Average PSD All Channels\n",
    "        eeg_dataset_raw.compute_psd().plot(average=True)\n",
    "        eeg_dataset_raw.compute_psd().plot()\n",
    "        plt.show()\n",
    "\n",
    "    return eeg_dataset_raw"
   ]
  },
  {
   "cell_type": "markdown",
   "id": "c54f9775",
   "metadata": {},
   "source": [
    "## Power Spectrum, PSD Calculate"
   ]
  },
  {
   "cell_type": "code",
   "execution_count": 5,
   "id": "3ed7a6b6",
   "metadata": {},
   "outputs": [],
   "source": [
    "# Function to Calculate the Power Spectrum - MNE\n",
    "def get_spectra(eeg_raw, verbose=False):\n",
    "    \"\"\"\n",
    "    Calculate the Power Spectra for all channels\n",
    "    Parameters:\n",
    "        eeg_raw - raw\n",
    "    Returns:\n",
    "        Spectra - frequencies and powers for each channel\n",
    "    \"\"\"\n",
    "\n",
    "    method = 'welch'\n",
    "    fmin = 1\n",
    "    fmax = np.inf\n",
    "\n",
    "    print(f\"Computing power spectrum using {method} method...\")\n",
    "    spectra = eeg_raw.compute_psd(method=method, fmin=fmin, fmax=fmax)\n",
    "    \n",
    "    if verbose:\n",
    "        print(spectra.info)\n",
    "\n",
    "        x_freqs = spectra.freqs\n",
    "        x_powers = spectra.get_data(return_freqs=False)\n",
    "\n",
    "        # Log-log plot for all channels\n",
    "        plt.figure(figsize=(12, 6))\n",
    "        for idx, ch in enumerate(eeg_raw.ch_names):\n",
    "            plt.loglog(x_freqs, x_powers[idx], alpha=0.5, label=ch if idx < 10 else None)  # label only first 10 for clarity\n",
    "        plt.title(f\"Power Spectrum (Log-Log) - All Channels ({method} method)\")\n",
    "        plt.xlabel(\"Frequency (Hz)\")\n",
    "        plt.ylabel(\"Power ($V^2/Hz$)\")\n",
    "        plt.tight_layout()\n",
    "        plt.show()\n",
    "\n",
    "        # Log-lin plot for all channels\n",
    "        plt.figure(figsize=(12, 6))\n",
    "        for idx, ch in enumerate(eeg_raw.ch_names):\n",
    "            plt.semilogy(x_freqs, x_powers[idx], alpha=0.5, label=ch if idx < 10 else None)  # label only first 10 for clarity\n",
    "        plt.title(f\"Power Spectrum (Log-Lin) - All Channels ({method} method)\")\n",
    "        plt.xlabel(\"Frequency (Hz)\")\n",
    "        plt.ylabel(\"Power ($V^2/Hz$)\")\n",
    "        plt.tight_layout()\n",
    "        plt.show()\n",
    "\n",
    "        # A selected channel\n",
    "        ch_label = 'P5'\n",
    "        fig, (ax0, ax1) = plt.subplots(nrows=1, ncols=2, figsize=(15, 5))\n",
    "        fig.suptitle(f'Power Spectrum - Channel {ch_label} ({method} method)', fontsize=20)\n",
    "        ax0.set_title('Log/Log')\n",
    "        ax1.set_title('Log/Lin')\n",
    "        plot_spectra(x_freqs, x_powers[eeg_raw.ch_names.index(ch_label)], log_freqs=True, log_powers=True, ax=ax0, colors='blue')\n",
    "        plot_spectra(x_freqs, x_powers[eeg_raw.ch_names.index(ch_label)], log_powers=True, ax=ax1, colors='blue')\n",
    "\n",
    "        plt.show()\n",
    "    \n",
    "    return spectra\n"
   ]
  },
  {
   "cell_type": "markdown",
   "id": "d774d009",
   "metadata": {},
   "source": [
    "## Spectral Parameterisation\n"
   ]
  },
  {
   "cell_type": "code",
   "execution_count": 6,
   "id": "5c8c713c",
   "metadata": {},
   "outputs": [],
   "source": [
    "# Function to perform Spectral Parameterisation and return the Aperiodic and Periodic components\n",
    "def get_specparams(spectra, verbose=False):\n",
    "    \"\"\"\n",
    "    Execute Spectral Parameterisation\n",
    "    Parameters:\n",
    "        xxxx\n",
    "    Returns:\n",
    "        Specparam features - dict of aperiodic and periodic components\n",
    "    \"\"\"\n",
    "    # Parameters for SpecParam\n",
    "    max_peak_width = 12\n",
    "    min_peak_height = 0.05\n",
    "    max_n_peaks = 25\n",
    "    fit_freq_range = [1, 75]\n",
    "    aperiodic_mode = 'fixed'\n",
    "\n",
    "    # For group of spectra\n",
    "    freqs = spectra.freqs\n",
    "    powers = spectra.get_data(return_freqs=False)\n",
    "    n_channels = powers.shape[0]\n",
    "    n_frequencies = powers.shape[1]\n",
    "    freq_resolution = freqs[1] - freqs[0]\n",
    "    print(f'For Spectra Group:')\n",
    "    print(f'- {n_channels} channels & {n_frequencies} frequencies')\n",
    "    print(f'- Frequency Range: {freqs.min():.0f} to {freqs.max():.0f} Hz')\n",
    "    print(f'- Frequency resolution {freq_resolution:.2f} Hz')\n",
    "\n",
    "    peak_width_limits = [int(math.ceil(2 * freq_resolution)), max_peak_width]\n",
    "    print('Extracting Periodic & Aperiodic Components with Parameters:')\n",
    "    print(f'- Peak width limits: [{peak_width_limits[0]:.0f}, {peak_width_limits[1]:.0f}]')\n",
    "    print(f'- Min peak height: {min_peak_height:.2f}')\n",
    "    print(f'- Max peaks: {max_n_peaks}')\n",
    "    print(f'- Range: {fit_freq_range}')\n",
    "    print(f'- Aperiodic Mode: {aperiodic_mode}')\n",
    "\n",
    "    # Initialize FOOOF model\n",
    "    fg = FOOOFGroup(peak_width_limits=peak_width_limits, \n",
    "                    max_n_peaks=max_n_peaks, min_peak_height=min_peak_height,\n",
    "                    aperiodic_mode=aperiodic_mode)\n",
    "\n",
    "    # Fit the group of n spectra\n",
    "    fg.fit(freqs, powers, fit_freq_range, progress='tqdm.notebook')\n",
    "\n",
    "    # Get the component parameters and create a features dataframe\n",
    "    aperiodics = fg.get_params('aperiodic_params')\n",
    "    periodics = fg.get_params('peak_params')\n",
    "\n",
    "    specparam_features = {}\n",
    "    for next_channel in range(aperiodics.shape[0]):\n",
    "        specparam_features[f'ch{next_channel}_aperiodic_offset'] = aperiodics[next_channel, 0]\n",
    "        specparam_features[f'ch{next_channel}_aperiodic_exponent'] = aperiodics[next_channel, 1]\n",
    "\n",
    "        # For up to the max peaks, get periodic components\n",
    "        peaks_ch = periodics[periodics[:, 3] == next_channel]\n",
    "        peaks_found = peaks_ch.shape[0]\n",
    "        if peaks_found > max_n_peaks:\n",
    "            print(f'WARNING: Peaks found: {peaks_found} but only {max_n_peaks} saved')\n",
    "        for next_peak in range(max_n_peaks):\n",
    "            if peaks_found > next_peak:\n",
    "                specparam_features[f'ch{next_channel}_pk{next_peak}_periodic_CF'] = peaks_ch[next_peak, 0]\n",
    "                specparam_features[f'ch{next_channel}_pk{next_peak}_periodic_PW'] = peaks_ch[next_peak, 1]\n",
    "                specparam_features[f'ch{next_channel}_pk{next_peak}_periodic_BW'] = peaks_ch[next_peak, 2]\n",
    "            else:\n",
    "                specparam_features[f'ch{next_channel}_pk{next_peak}_periodic_CF'] = float('nan')\n",
    "                specparam_features[f'ch{next_channel}_pk{next_peak}_periodic_PW'] = float('nan')\n",
    "                specparam_features[f'ch{next_channel}_pk{next_peak}_periodic_BW'] = float('nan')\n",
    "\n",
    "\n",
    "    # Examine results if verbose\n",
    "    if verbose:\n",
    "        # Overall group results\n",
    "        fg.print_results()\n",
    "        fg.plot()\n",
    "        plt.show()\n",
    "\n",
    "        # Visualise the fit for a sample single channel within the group\n",
    "        channel_indx = 1\n",
    "        ch_label = str(channel_indx)\n",
    "        # TODO: Proper lable lookup\n",
    "        # ch_label = eeg_dataset_raw.ch_names[channel_indx]\n",
    "\n",
    "        fm = fg.get_fooof(ind=channel_indx, regenerate=True)\n",
    "        fm.print_results()\n",
    "\n",
    "        # fm.plot()\n",
    "        fig, (ax0, ax1) = plt.subplots(nrows=1, ncols=2, figsize=(12, 8))\n",
    "        fig.suptitle(f'Spec Param for Channel: {ch_label}', fontsize=20)\n",
    "        ax0.set_title('Components - Log/Lin')\n",
    "        ax1.set_title('Components - Log/Log')\n",
    "        fm.plot(plot_peaks='shade', peak_kwargs={'color' : 'green'}, ax=ax0)\n",
    "        fm.plot(plot_peaks='shade', peak_kwargs={'color' : 'green'}, plt_log=True, ax=ax1)\n",
    "        plt.show()\n",
    "\n",
    "    return specparam_features\n"
   ]
  },
  {
   "cell_type": "markdown",
   "id": "a7c5ad0e",
   "metadata": {},
   "source": [
    "# EEG Dataset Processing Pipeline\n",
    "\n",
    "- For a defined study with subject details and raw EEG signal data\n",
    "- Produce a features dataframe with Spectral Parameterisation results, ie Aperiodic and Periodic components"
   ]
  },
  {
   "cell_type": "code",
   "execution_count": 7,
   "id": "16a5d386",
   "metadata": {},
   "outputs": [
    {
     "name": "stdout",
     "output_type": "stream",
     "text": [
      "ds004584-1.0.0\n",
      "Reading /Users/stuartgow/GitHub/AI_Dissertation/EEG_Datasets_Source_x/ds004584-1.0.0/sub-001/eeg/sub-001_task-Rest_eeg.fdt\n",
      "Reading 0 ... 140829  =      0.000 ...   281.658 secs...\n",
      "Computing power spectrum using welch method...\n",
      "Effective window size : 4.096 (s)\n",
      "For Spectra Group:\n",
      "- 63 channels & 1020 frequencies\n",
      "- Frequency Range: 1 to 250 Hz\n",
      "- Frequency resolution 0.24 Hz\n",
      "Extracting Periodic & Aperiodic Components with Parameters:\n",
      "- Peak width limits: [1, 12]\n",
      "- Min peak height: 0.05\n",
      "- Max peaks: 25\n",
      "- Range: [1, 75]\n",
      "- Aperiodic Mode: fixed\n"
     ]
    },
    {
     "name": "stderr",
     "output_type": "stream",
     "text": [
      "/var/folders/wd/rhzj_w8570g_y66t6j6mh4zw0000gn/T/ipykernel_89708/1201790303.py:26: RuntimeWarning: The data contains 'boundary' events, indicating data discontinuities. Be cautious of filtering and epoching around these events.\n",
      "  eeg_dataset_raw = mne.io.read_raw_eeglab(eeg_lab_file_path, preload=True)\n"
     ]
    },
    {
     "data": {
      "application/vnd.jupyter.widget-view+json": {
       "model_id": "1735aff113f745618558bb6a9219bf1e",
       "version_major": 2,
       "version_minor": 0
      },
      "text/plain": [
       "Running FOOOFGroup:   0%|          | 0/63 [00:00<?, ?it/s]"
      ]
     },
     "metadata": {},
     "output_type": "display_data"
    },
    {
     "name": "stdout",
     "output_type": "stream",
     "text": [
      "Reading /Users/stuartgow/GitHub/AI_Dissertation/EEG_Datasets_Source_x/ds004584-1.0.0/sub-002/eeg/sub-002_task-Rest_eeg.fdt\n",
      "Reading 0 ... 163019  =      0.000 ...   326.038 secs...\n",
      "Computing power spectrum using welch method...\n",
      "Effective window size : 4.096 (s)\n",
      "For Spectra Group:\n",
      "- 63 channels & 1020 frequencies\n",
      "- Frequency Range: 1 to 250 Hz\n",
      "- Frequency resolution 0.24 Hz\n",
      "Extracting Periodic & Aperiodic Components with Parameters:\n",
      "- Peak width limits: [1, 12]\n",
      "- Min peak height: 0.05\n",
      "- Max peaks: 25\n",
      "- Range: [1, 75]\n",
      "- Aperiodic Mode: fixed\n"
     ]
    },
    {
     "name": "stderr",
     "output_type": "stream",
     "text": [
      "/var/folders/wd/rhzj_w8570g_y66t6j6mh4zw0000gn/T/ipykernel_89708/1201790303.py:26: RuntimeWarning: The data contains 'boundary' events, indicating data discontinuities. Be cautious of filtering and epoching around these events.\n",
      "  eeg_dataset_raw = mne.io.read_raw_eeglab(eeg_lab_file_path, preload=True)\n"
     ]
    },
    {
     "data": {
      "application/vnd.jupyter.widget-view+json": {
       "model_id": "fd907610388242de81d26fc0ffd42c76",
       "version_major": 2,
       "version_minor": 0
      },
      "text/plain": [
       "Running FOOOFGroup:   0%|          | 0/63 [00:00<?, ?it/s]"
      ]
     },
     "metadata": {},
     "output_type": "display_data"
    },
    {
     "name": "stdout",
     "output_type": "stream",
     "text": [
      "Reading /Users/stuartgow/GitHub/AI_Dissertation/EEG_Datasets_Source_x/ds004584-1.0.0/sub-003/eeg/sub-003_task-Rest_eeg.fdt\n",
      "Reading 0 ... 126179  =      0.000 ...   252.358 secs...\n",
      "Computing power spectrum using welch method...\n",
      "Effective window size : 4.096 (s)\n",
      "For Spectra Group:\n",
      "- 63 channels & 1020 frequencies\n",
      "- Frequency Range: 1 to 250 Hz\n",
      "- Frequency resolution 0.24 Hz\n",
      "Extracting Periodic & Aperiodic Components with Parameters:\n",
      "- Peak width limits: [1, 12]\n",
      "- Min peak height: 0.05\n",
      "- Max peaks: 25\n",
      "- Range: [1, 75]\n",
      "- Aperiodic Mode: fixed\n"
     ]
    },
    {
     "name": "stderr",
     "output_type": "stream",
     "text": [
      "/var/folders/wd/rhzj_w8570g_y66t6j6mh4zw0000gn/T/ipykernel_89708/1201790303.py:26: RuntimeWarning: The data contains 'boundary' events, indicating data discontinuities. Be cautious of filtering and epoching around these events.\n",
      "  eeg_dataset_raw = mne.io.read_raw_eeglab(eeg_lab_file_path, preload=True)\n"
     ]
    },
    {
     "data": {
      "application/vnd.jupyter.widget-view+json": {
       "model_id": "095bef1a0a7746e6a0f3d6bd321c6ca7",
       "version_major": 2,
       "version_minor": 0
      },
      "text/plain": [
       "Running FOOOFGroup:   0%|          | 0/63 [00:00<?, ?it/s]"
      ]
     },
     "metadata": {},
     "output_type": "display_data"
    },
    {
     "name": "stdout",
     "output_type": "stream",
     "text": [
      "Reading /Users/stuartgow/GitHub/AI_Dissertation/EEG_Datasets_Source_x/ds004584-1.0.0/sub-004/eeg/sub-004_task-Rest_eeg.fdt\n",
      "Reading 0 ... 131979  =      0.000 ...   263.958 secs...\n",
      "Computing power spectrum using welch method...\n",
      "Effective window size : 4.096 (s)\n",
      "For Spectra Group:\n",
      "- 63 channels & 1020 frequencies\n",
      "- Frequency Range: 1 to 250 Hz\n",
      "- Frequency resolution 0.24 Hz\n",
      "Extracting Periodic & Aperiodic Components with Parameters:\n",
      "- Peak width limits: [1, 12]\n",
      "- Min peak height: 0.05\n",
      "- Max peaks: 25\n",
      "- Range: [1, 75]\n",
      "- Aperiodic Mode: fixed\n"
     ]
    },
    {
     "name": "stderr",
     "output_type": "stream",
     "text": [
      "/var/folders/wd/rhzj_w8570g_y66t6j6mh4zw0000gn/T/ipykernel_89708/1201790303.py:26: RuntimeWarning: The data contains 'boundary' events, indicating data discontinuities. Be cautious of filtering and epoching around these events.\n",
      "  eeg_dataset_raw = mne.io.read_raw_eeglab(eeg_lab_file_path, preload=True)\n"
     ]
    },
    {
     "data": {
      "application/vnd.jupyter.widget-view+json": {
       "model_id": "dcc04b03de754094bc8bea39aac67069",
       "version_major": 2,
       "version_minor": 0
      },
      "text/plain": [
       "Running FOOOFGroup:   0%|          | 0/63 [00:00<?, ?it/s]"
      ]
     },
     "metadata": {},
     "output_type": "display_data"
    },
    {
     "name": "stdout",
     "output_type": "stream",
     "text": [
      "Reading /Users/stuartgow/GitHub/AI_Dissertation/EEG_Datasets_Source_x/ds004584-1.0.0/sub-005/eeg/sub-005_task-Rest_eeg.fdt\n",
      "Reading 0 ... 124769  =      0.000 ...   249.538 secs...\n",
      "Computing power spectrum using welch method...\n",
      "Effective window size : 4.096 (s)\n",
      "For Spectra Group:\n",
      "- 63 channels & 1020 frequencies\n",
      "- Frequency Range: 1 to 250 Hz\n",
      "- Frequency resolution 0.24 Hz\n",
      "Extracting Periodic & Aperiodic Components with Parameters:\n",
      "- Peak width limits: [1, 12]\n",
      "- Min peak height: 0.05\n",
      "- Max peaks: 25\n",
      "- Range: [1, 75]\n",
      "- Aperiodic Mode: fixed\n"
     ]
    },
    {
     "name": "stderr",
     "output_type": "stream",
     "text": [
      "/var/folders/wd/rhzj_w8570g_y66t6j6mh4zw0000gn/T/ipykernel_89708/1201790303.py:26: RuntimeWarning: The data contains 'boundary' events, indicating data discontinuities. Be cautious of filtering and epoching around these events.\n",
      "  eeg_dataset_raw = mne.io.read_raw_eeglab(eeg_lab_file_path, preload=True)\n"
     ]
    },
    {
     "data": {
      "application/vnd.jupyter.widget-view+json": {
       "model_id": "d94c008608d64a0599542faf1be82d10",
       "version_major": 2,
       "version_minor": 0
      },
      "text/plain": [
       "Running FOOOFGroup:   0%|          | 0/63 [00:00<?, ?it/s]"
      ]
     },
     "metadata": {},
     "output_type": "display_data"
    },
    {
     "name": "stdout",
     "output_type": "stream",
     "text": [
      "Reading /Users/stuartgow/GitHub/AI_Dissertation/EEG_Datasets_Source_x/ds004584-1.0.0/sub-006/eeg/sub-006_task-Rest_eeg.fdt\n",
      "Reading 0 ... 131029  =      0.000 ...   262.058 secs...\n",
      "Computing power spectrum using welch method...\n",
      "Effective window size : 4.096 (s)\n",
      "For Spectra Group:\n",
      "- 63 channels & 1020 frequencies\n",
      "- Frequency Range: 1 to 250 Hz\n",
      "- Frequency resolution 0.24 Hz\n",
      "Extracting Periodic & Aperiodic Components with Parameters:\n",
      "- Peak width limits: [1, 12]\n",
      "- Min peak height: 0.05\n",
      "- Max peaks: 25\n",
      "- Range: [1, 75]\n",
      "- Aperiodic Mode: fixed\n"
     ]
    },
    {
     "name": "stderr",
     "output_type": "stream",
     "text": [
      "/var/folders/wd/rhzj_w8570g_y66t6j6mh4zw0000gn/T/ipykernel_89708/1201790303.py:26: RuntimeWarning: The data contains 'boundary' events, indicating data discontinuities. Be cautious of filtering and epoching around these events.\n",
      "  eeg_dataset_raw = mne.io.read_raw_eeglab(eeg_lab_file_path, preload=True)\n"
     ]
    },
    {
     "data": {
      "application/vnd.jupyter.widget-view+json": {
       "model_id": "a84b9698ceb44f8594d77e2d14434c23",
       "version_major": 2,
       "version_minor": 0
      },
      "text/plain": [
       "Running FOOOFGroup:   0%|          | 0/63 [00:00<?, ?it/s]"
      ]
     },
     "metadata": {},
     "output_type": "display_data"
    },
    {
     "name": "stdout",
     "output_type": "stream",
     "text": [
      "Reading /Users/stuartgow/GitHub/AI_Dissertation/EEG_Datasets_Source_x/ds004584-1.0.0/sub-007/eeg/sub-007_task-Rest_eeg.fdt\n",
      "Reading 0 ... 119909  =      0.000 ...   239.818 secs...\n",
      "Computing power spectrum using welch method...\n",
      "Effective window size : 4.096 (s)\n",
      "For Spectra Group:\n",
      "- 63 channels & 1020 frequencies\n",
      "- Frequency Range: 1 to 250 Hz\n",
      "- Frequency resolution 0.24 Hz\n",
      "Extracting Periodic & Aperiodic Components with Parameters:\n",
      "- Peak width limits: [1, 12]\n",
      "- Min peak height: 0.05\n",
      "- Max peaks: 25\n",
      "- Range: [1, 75]\n",
      "- Aperiodic Mode: fixed\n"
     ]
    },
    {
     "name": "stderr",
     "output_type": "stream",
     "text": [
      "/var/folders/wd/rhzj_w8570g_y66t6j6mh4zw0000gn/T/ipykernel_89708/1201790303.py:26: RuntimeWarning: The data contains 'boundary' events, indicating data discontinuities. Be cautious of filtering and epoching around these events.\n",
      "  eeg_dataset_raw = mne.io.read_raw_eeglab(eeg_lab_file_path, preload=True)\n"
     ]
    },
    {
     "data": {
      "application/vnd.jupyter.widget-view+json": {
       "model_id": "58d5afa27765436c82c5a17d116613f2",
       "version_major": 2,
       "version_minor": 0
      },
      "text/plain": [
       "Running FOOOFGroup:   0%|          | 0/63 [00:00<?, ?it/s]"
      ]
     },
     "metadata": {},
     "output_type": "display_data"
    },
    {
     "name": "stdout",
     "output_type": "stream",
     "text": [
      "Reading /Users/stuartgow/GitHub/AI_Dissertation/EEG_Datasets_Source_x/ds004584-1.0.0/sub-008/eeg/sub-008_task-Rest_eeg.fdt\n",
      "Reading 0 ... 117239  =      0.000 ...   234.478 secs...\n",
      "Computing power spectrum using welch method...\n",
      "Effective window size : 4.096 (s)\n",
      "For Spectra Group:\n",
      "- 63 channels & 1020 frequencies\n",
      "- Frequency Range: 1 to 250 Hz\n",
      "- Frequency resolution 0.24 Hz\n",
      "Extracting Periodic & Aperiodic Components with Parameters:\n",
      "- Peak width limits: [1, 12]\n",
      "- Min peak height: 0.05\n",
      "- Max peaks: 25\n",
      "- Range: [1, 75]\n",
      "- Aperiodic Mode: fixed\n"
     ]
    },
    {
     "name": "stderr",
     "output_type": "stream",
     "text": [
      "/var/folders/wd/rhzj_w8570g_y66t6j6mh4zw0000gn/T/ipykernel_89708/1201790303.py:26: RuntimeWarning: The data contains 'boundary' events, indicating data discontinuities. Be cautious of filtering and epoching around these events.\n",
      "  eeg_dataset_raw = mne.io.read_raw_eeglab(eeg_lab_file_path, preload=True)\n"
     ]
    },
    {
     "data": {
      "application/vnd.jupyter.widget-view+json": {
       "model_id": "157125d074ed4a708968f38d43c329ff",
       "version_major": 2,
       "version_minor": 0
      },
      "text/plain": [
       "Running FOOOFGroup:   0%|          | 0/63 [00:00<?, ?it/s]"
      ]
     },
     "metadata": {},
     "output_type": "display_data"
    },
    {
     "name": "stdout",
     "output_type": "stream",
     "text": [
      "Reading /Users/stuartgow/GitHub/AI_Dissertation/EEG_Datasets_Source_x/ds004584-1.0.0/sub-009/eeg/sub-009_task-Rest_eeg.fdt\n",
      "Reading 0 ... 124079  =      0.000 ...   248.158 secs...\n",
      "Computing power spectrum using welch method...\n",
      "Effective window size : 4.096 (s)\n",
      "For Spectra Group:\n",
      "- 63 channels & 1020 frequencies\n",
      "- Frequency Range: 1 to 250 Hz\n",
      "- Frequency resolution 0.24 Hz\n",
      "Extracting Periodic & Aperiodic Components with Parameters:\n",
      "- Peak width limits: [1, 12]\n",
      "- Min peak height: 0.05\n",
      "- Max peaks: 25\n",
      "- Range: [1, 75]\n",
      "- Aperiodic Mode: fixed\n"
     ]
    },
    {
     "name": "stderr",
     "output_type": "stream",
     "text": [
      "/var/folders/wd/rhzj_w8570g_y66t6j6mh4zw0000gn/T/ipykernel_89708/1201790303.py:26: RuntimeWarning: The data contains 'boundary' events, indicating data discontinuities. Be cautious of filtering and epoching around these events.\n",
      "  eeg_dataset_raw = mne.io.read_raw_eeglab(eeg_lab_file_path, preload=True)\n"
     ]
    },
    {
     "data": {
      "application/vnd.jupyter.widget-view+json": {
       "model_id": "52cea26c36334d28ba18e8809660517e",
       "version_major": 2,
       "version_minor": 0
      },
      "text/plain": [
       "Running FOOOFGroup:   0%|          | 0/63 [00:00<?, ?it/s]"
      ]
     },
     "metadata": {},
     "output_type": "display_data"
    },
    {
     "name": "stdout",
     "output_type": "stream",
     "text": [
      "Reading /Users/stuartgow/GitHub/AI_Dissertation/EEG_Datasets_Source_x/ds004584-1.0.0/sub-010/eeg/sub-010_task-Rest_eeg.fdt\n",
      "Reading 0 ... 171349  =      0.000 ...   342.698 secs...\n",
      "Computing power spectrum using welch method...\n",
      "Effective window size : 4.096 (s)\n"
     ]
    },
    {
     "name": "stderr",
     "output_type": "stream",
     "text": [
      "/var/folders/wd/rhzj_w8570g_y66t6j6mh4zw0000gn/T/ipykernel_89708/1201790303.py:26: RuntimeWarning: The data contains 'boundary' events, indicating data discontinuities. Be cautious of filtering and epoching around these events.\n",
      "  eeg_dataset_raw = mne.io.read_raw_eeglab(eeg_lab_file_path, preload=True)\n"
     ]
    },
    {
     "name": "stdout",
     "output_type": "stream",
     "text": [
      "For Spectra Group:\n",
      "- 63 channels & 1020 frequencies\n",
      "- Frequency Range: 1 to 250 Hz\n",
      "- Frequency resolution 0.24 Hz\n",
      "Extracting Periodic & Aperiodic Components with Parameters:\n",
      "- Peak width limits: [1, 12]\n",
      "- Min peak height: 0.05\n",
      "- Max peaks: 25\n",
      "- Range: [1, 75]\n",
      "- Aperiodic Mode: fixed\n"
     ]
    },
    {
     "data": {
      "application/vnd.jupyter.widget-view+json": {
       "model_id": "26193393ef4e434d8a41bdfc12d15a44",
       "version_major": 2,
       "version_minor": 0
      },
      "text/plain": [
       "Running FOOOFGroup:   0%|          | 0/63 [00:00<?, ?it/s]"
      ]
     },
     "metadata": {},
     "output_type": "display_data"
    },
    {
     "name": "stdout",
     "output_type": "stream",
     "text": [
      "Reading /Users/stuartgow/GitHub/AI_Dissertation/EEG_Datasets_Source_x/ds004584-1.0.0/sub-011/eeg/sub-011_task-Rest_eeg.fdt\n",
      "Reading 0 ... 78059  =      0.000 ...   156.118 secs...\n",
      "Computing power spectrum using welch method...\n",
      "Effective window size : 4.096 (s)\n",
      "For Spectra Group:\n",
      "- 63 channels & 1020 frequencies\n",
      "- Frequency Range: 1 to 250 Hz\n",
      "- Frequency resolution 0.24 Hz\n",
      "Extracting Periodic & Aperiodic Components with Parameters:\n",
      "- Peak width limits: [1, 12]\n",
      "- Min peak height: 0.05\n",
      "- Max peaks: 25\n",
      "- Range: [1, 75]\n",
      "- Aperiodic Mode: fixed\n"
     ]
    },
    {
     "name": "stderr",
     "output_type": "stream",
     "text": [
      "/var/folders/wd/rhzj_w8570g_y66t6j6mh4zw0000gn/T/ipykernel_89708/1201790303.py:26: RuntimeWarning: The data contains 'boundary' events, indicating data discontinuities. Be cautious of filtering and epoching around these events.\n",
      "  eeg_dataset_raw = mne.io.read_raw_eeglab(eeg_lab_file_path, preload=True)\n"
     ]
    },
    {
     "data": {
      "application/vnd.jupyter.widget-view+json": {
       "model_id": "ffaed51ea9574530b862760bc2dd3a2a",
       "version_major": 2,
       "version_minor": 0
      },
      "text/plain": [
       "Running FOOOFGroup:   0%|          | 0/63 [00:00<?, ?it/s]"
      ]
     },
     "metadata": {},
     "output_type": "display_data"
    },
    {
     "name": "stdout",
     "output_type": "stream",
     "text": [
      "Reading /Users/stuartgow/GitHub/AI_Dissertation/EEG_Datasets_Source_x/ds004584-1.0.0/sub-012/eeg/sub-012_task-Rest_eeg.fdt\n",
      "Reading 0 ... 60279  =      0.000 ...   120.558 secs...\n",
      "Computing power spectrum using welch method...\n",
      "Effective window size : 4.096 (s)\n",
      "For Spectra Group:\n",
      "- 63 channels & 1020 frequencies\n",
      "- Frequency Range: 1 to 250 Hz\n",
      "- Frequency resolution 0.24 Hz\n",
      "Extracting Periodic & Aperiodic Components with Parameters:\n",
      "- Peak width limits: [1, 12]\n",
      "- Min peak height: 0.05\n",
      "- Max peaks: 25\n",
      "- Range: [1, 75]\n",
      "- Aperiodic Mode: fixed\n"
     ]
    },
    {
     "name": "stderr",
     "output_type": "stream",
     "text": [
      "/var/folders/wd/rhzj_w8570g_y66t6j6mh4zw0000gn/T/ipykernel_89708/1201790303.py:26: RuntimeWarning: The data contains 'boundary' events, indicating data discontinuities. Be cautious of filtering and epoching around these events.\n",
      "  eeg_dataset_raw = mne.io.read_raw_eeglab(eeg_lab_file_path, preload=True)\n"
     ]
    },
    {
     "data": {
      "application/vnd.jupyter.widget-view+json": {
       "model_id": "a611f460a735425ead8f7f4f1057e68c",
       "version_major": 2,
       "version_minor": 0
      },
      "text/plain": [
       "Running FOOOFGroup:   0%|          | 0/63 [00:00<?, ?it/s]"
      ]
     },
     "metadata": {},
     "output_type": "display_data"
    },
    {
     "name": "stdout",
     "output_type": "stream",
     "text": [
      "Reading /Users/stuartgow/GitHub/AI_Dissertation/EEG_Datasets_Source_x/ds004584-1.0.0/sub-013/eeg/sub-013_task-Rest_eeg.fdt\n",
      "Reading 0 ... 61529  =      0.000 ...   123.058 secs...\n",
      "Computing power spectrum using welch method...\n",
      "Effective window size : 4.096 (s)\n",
      "For Spectra Group:\n",
      "- 63 channels & 1020 frequencies\n",
      "- Frequency Range: 1 to 250 Hz\n",
      "- Frequency resolution 0.24 Hz\n",
      "Extracting Periodic & Aperiodic Components with Parameters:\n",
      "- Peak width limits: [1, 12]\n",
      "- Min peak height: 0.05\n",
      "- Max peaks: 25\n",
      "- Range: [1, 75]\n",
      "- Aperiodic Mode: fixed\n"
     ]
    },
    {
     "name": "stderr",
     "output_type": "stream",
     "text": [
      "/var/folders/wd/rhzj_w8570g_y66t6j6mh4zw0000gn/T/ipykernel_89708/1201790303.py:26: RuntimeWarning: The data contains 'boundary' events, indicating data discontinuities. Be cautious of filtering and epoching around these events.\n",
      "  eeg_dataset_raw = mne.io.read_raw_eeglab(eeg_lab_file_path, preload=True)\n"
     ]
    },
    {
     "data": {
      "application/vnd.jupyter.widget-view+json": {
       "model_id": "8ac24c1f69be47b2ad2ac17284a35858",
       "version_major": 2,
       "version_minor": 0
      },
      "text/plain": [
       "Running FOOOFGroup:   0%|          | 0/63 [00:00<?, ?it/s]"
      ]
     },
     "metadata": {},
     "output_type": "display_data"
    },
    {
     "name": "stdout",
     "output_type": "stream",
     "text": [
      "Reading /Users/stuartgow/GitHub/AI_Dissertation/EEG_Datasets_Source_x/ds004584-1.0.0/sub-014/eeg/sub-014_task-Rest_eeg.fdt\n",
      "Reading 0 ... 62799  =      0.000 ...   125.598 secs...\n",
      "Computing power spectrum using welch method...\n",
      "Effective window size : 4.096 (s)\n",
      "For Spectra Group:\n",
      "- 63 channels & 1020 frequencies\n",
      "- Frequency Range: 1 to 250 Hz\n",
      "- Frequency resolution 0.24 Hz\n",
      "Extracting Periodic & Aperiodic Components with Parameters:\n",
      "- Peak width limits: [1, 12]\n",
      "- Min peak height: 0.05\n",
      "- Max peaks: 25\n",
      "- Range: [1, 75]\n",
      "- Aperiodic Mode: fixed\n"
     ]
    },
    {
     "name": "stderr",
     "output_type": "stream",
     "text": [
      "/var/folders/wd/rhzj_w8570g_y66t6j6mh4zw0000gn/T/ipykernel_89708/1201790303.py:26: RuntimeWarning: The data contains 'boundary' events, indicating data discontinuities. Be cautious of filtering and epoching around these events.\n",
      "  eeg_dataset_raw = mne.io.read_raw_eeglab(eeg_lab_file_path, preload=True)\n"
     ]
    },
    {
     "data": {
      "application/vnd.jupyter.widget-view+json": {
       "model_id": "25e0a6522ea84f57b261409eccdf7548",
       "version_major": 2,
       "version_minor": 0
      },
      "text/plain": [
       "Running FOOOFGroup:   0%|          | 0/63 [00:00<?, ?it/s]"
      ]
     },
     "metadata": {},
     "output_type": "display_data"
    },
    {
     "name": "stdout",
     "output_type": "stream",
     "text": [
      "Reading /Users/stuartgow/GitHub/AI_Dissertation/EEG_Datasets_Source_x/ds004584-1.0.0/sub-015/eeg/sub-015_task-Rest_eeg.fdt\n",
      "Reading 0 ... 60409  =      0.000 ...   120.818 secs...\n",
      "Computing power spectrum using welch method...\n",
      "Effective window size : 4.096 (s)\n",
      "For Spectra Group:\n",
      "- 63 channels & 1020 frequencies\n",
      "- Frequency Range: 1 to 250 Hz\n",
      "- Frequency resolution 0.24 Hz\n",
      "Extracting Periodic & Aperiodic Components with Parameters:\n",
      "- Peak width limits: [1, 12]\n",
      "- Min peak height: 0.05\n",
      "- Max peaks: 25\n",
      "- Range: [1, 75]\n",
      "- Aperiodic Mode: fixed\n"
     ]
    },
    {
     "name": "stderr",
     "output_type": "stream",
     "text": [
      "/var/folders/wd/rhzj_w8570g_y66t6j6mh4zw0000gn/T/ipykernel_89708/1201790303.py:26: RuntimeWarning: The data contains 'boundary' events, indicating data discontinuities. Be cautious of filtering and epoching around these events.\n",
      "  eeg_dataset_raw = mne.io.read_raw_eeglab(eeg_lab_file_path, preload=True)\n"
     ]
    },
    {
     "data": {
      "application/vnd.jupyter.widget-view+json": {
       "model_id": "d9c1082c3dd5457d9e53e1c7f447dc61",
       "version_major": 2,
       "version_minor": 0
      },
      "text/plain": [
       "Running FOOOFGroup:   0%|          | 0/63 [00:00<?, ?it/s]"
      ]
     },
     "metadata": {},
     "output_type": "display_data"
    },
    {
     "name": "stdout",
     "output_type": "stream",
     "text": [
      "Reading /Users/stuartgow/GitHub/AI_Dissertation/EEG_Datasets_Source_x/ds004584-1.0.0/sub-016/eeg/sub-016_task-Rest_eeg.fdt\n",
      "Reading 0 ... 60829  =      0.000 ...   121.658 secs...\n",
      "Computing power spectrum using welch method...\n",
      "Effective window size : 4.096 (s)\n",
      "For Spectra Group:\n",
      "- 63 channels & 1020 frequencies\n",
      "- Frequency Range: 1 to 250 Hz\n",
      "- Frequency resolution 0.24 Hz\n",
      "Extracting Periodic & Aperiodic Components with Parameters:\n",
      "- Peak width limits: [1, 12]\n",
      "- Min peak height: 0.05\n",
      "- Max peaks: 25\n",
      "- Range: [1, 75]\n",
      "- Aperiodic Mode: fixed\n"
     ]
    },
    {
     "name": "stderr",
     "output_type": "stream",
     "text": [
      "/var/folders/wd/rhzj_w8570g_y66t6j6mh4zw0000gn/T/ipykernel_89708/1201790303.py:26: RuntimeWarning: The data contains 'boundary' events, indicating data discontinuities. Be cautious of filtering and epoching around these events.\n",
      "  eeg_dataset_raw = mne.io.read_raw_eeglab(eeg_lab_file_path, preload=True)\n"
     ]
    },
    {
     "data": {
      "application/vnd.jupyter.widget-view+json": {
       "model_id": "f79fb658b63b4843b67b2a65e57c1b6e",
       "version_major": 2,
       "version_minor": 0
      },
      "text/plain": [
       "Running FOOOFGroup:   0%|          | 0/63 [00:00<?, ?it/s]"
      ]
     },
     "metadata": {},
     "output_type": "display_data"
    },
    {
     "name": "stdout",
     "output_type": "stream",
     "text": [
      "Reading /Users/stuartgow/GitHub/AI_Dissertation/EEG_Datasets_Source_x/ds004584-1.0.0/sub-017/eeg/sub-017_task-Rest_eeg.fdt\n",
      "Reading 0 ... 92609  =      0.000 ...   185.218 secs...\n",
      "Computing power spectrum using welch method...\n",
      "Effective window size : 4.096 (s)\n",
      "For Spectra Group:\n",
      "- 63 channels & 1020 frequencies\n",
      "- Frequency Range: 1 to 250 Hz\n",
      "- Frequency resolution 0.24 Hz\n",
      "Extracting Periodic & Aperiodic Components with Parameters:\n",
      "- Peak width limits: [1, 12]\n",
      "- Min peak height: 0.05\n",
      "- Max peaks: 25\n",
      "- Range: [1, 75]\n",
      "- Aperiodic Mode: fixed\n"
     ]
    },
    {
     "name": "stderr",
     "output_type": "stream",
     "text": [
      "/var/folders/wd/rhzj_w8570g_y66t6j6mh4zw0000gn/T/ipykernel_89708/1201790303.py:26: RuntimeWarning: The data contains 'boundary' events, indicating data discontinuities. Be cautious of filtering and epoching around these events.\n",
      "  eeg_dataset_raw = mne.io.read_raw_eeglab(eeg_lab_file_path, preload=True)\n"
     ]
    },
    {
     "data": {
      "application/vnd.jupyter.widget-view+json": {
       "model_id": "6beee23445bd40d282e9a74336096785",
       "version_major": 2,
       "version_minor": 0
      },
      "text/plain": [
       "Running FOOOFGroup:   0%|          | 0/63 [00:00<?, ?it/s]"
      ]
     },
     "metadata": {},
     "output_type": "display_data"
    },
    {
     "name": "stdout",
     "output_type": "stream",
     "text": [
      "Reading /Users/stuartgow/GitHub/AI_Dissertation/EEG_Datasets_Source_x/ds004584-1.0.0/sub-018/eeg/sub-018_task-Rest_eeg.fdt\n",
      "Reading 0 ... 75779  =      0.000 ...   151.558 secs...\n",
      "Computing power spectrum using welch method...\n",
      "Effective window size : 4.096 (s)\n",
      "For Spectra Group:\n",
      "- 63 channels & 1020 frequencies\n",
      "- Frequency Range: 1 to 250 Hz\n",
      "- Frequency resolution 0.24 Hz\n",
      "Extracting Periodic & Aperiodic Components with Parameters:\n",
      "- Peak width limits: [1, 12]\n",
      "- Min peak height: 0.05\n",
      "- Max peaks: 25\n",
      "- Range: [1, 75]\n",
      "- Aperiodic Mode: fixed\n"
     ]
    },
    {
     "name": "stderr",
     "output_type": "stream",
     "text": [
      "/var/folders/wd/rhzj_w8570g_y66t6j6mh4zw0000gn/T/ipykernel_89708/1201790303.py:26: RuntimeWarning: The data contains 'boundary' events, indicating data discontinuities. Be cautious of filtering and epoching around these events.\n",
      "  eeg_dataset_raw = mne.io.read_raw_eeglab(eeg_lab_file_path, preload=True)\n"
     ]
    },
    {
     "data": {
      "application/vnd.jupyter.widget-view+json": {
       "model_id": "2cef6745352943d3ac00141d7c422425",
       "version_major": 2,
       "version_minor": 0
      },
      "text/plain": [
       "Running FOOOFGroup:   0%|          | 0/63 [00:00<?, ?it/s]"
      ]
     },
     "metadata": {},
     "output_type": "display_data"
    },
    {
     "name": "stdout",
     "output_type": "stream",
     "text": [
      "Reading /Users/stuartgow/GitHub/AI_Dissertation/EEG_Datasets_Source_x/ds004584-1.0.0/sub-019/eeg/sub-019_task-Rest_eeg.fdt\n",
      "Reading 0 ... 93039  =      0.000 ...   186.078 secs...\n",
      "Computing power spectrum using welch method...\n",
      "Effective window size : 4.096 (s)\n",
      "For Spectra Group:\n",
      "- 63 channels & 1020 frequencies\n",
      "- Frequency Range: 1 to 250 Hz\n",
      "- Frequency resolution 0.24 Hz\n",
      "Extracting Periodic & Aperiodic Components with Parameters:\n",
      "- Peak width limits: [1, 12]\n",
      "- Min peak height: 0.05\n",
      "- Max peaks: 25\n",
      "- Range: [1, 75]\n",
      "- Aperiodic Mode: fixed\n"
     ]
    },
    {
     "name": "stderr",
     "output_type": "stream",
     "text": [
      "/var/folders/wd/rhzj_w8570g_y66t6j6mh4zw0000gn/T/ipykernel_89708/1201790303.py:26: RuntimeWarning: The data contains 'boundary' events, indicating data discontinuities. Be cautious of filtering and epoching around these events.\n",
      "  eeg_dataset_raw = mne.io.read_raw_eeglab(eeg_lab_file_path, preload=True)\n"
     ]
    },
    {
     "data": {
      "application/vnd.jupyter.widget-view+json": {
       "model_id": "70685410e90a4aceb5386a16285c24fb",
       "version_major": 2,
       "version_minor": 0
      },
      "text/plain": [
       "Running FOOOFGroup:   0%|          | 0/63 [00:00<?, ?it/s]"
      ]
     },
     "metadata": {},
     "output_type": "display_data"
    },
    {
     "name": "stdout",
     "output_type": "stream",
     "text": [
      "Reading /Users/stuartgow/GitHub/AI_Dissertation/EEG_Datasets_Source_x/ds004584-1.0.0/sub-020/eeg/sub-020_task-Rest_eeg.fdt\n",
      "Reading 0 ... 90589  =      0.000 ...   181.178 secs...\n",
      "Computing power spectrum using welch method...\n",
      "Effective window size : 4.096 (s)\n",
      "For Spectra Group:\n",
      "- 63 channels & 1020 frequencies\n",
      "- Frequency Range: 1 to 250 Hz\n",
      "- Frequency resolution 0.24 Hz\n",
      "Extracting Periodic & Aperiodic Components with Parameters:\n",
      "- Peak width limits: [1, 12]\n",
      "- Min peak height: 0.05\n",
      "- Max peaks: 25\n",
      "- Range: [1, 75]\n",
      "- Aperiodic Mode: fixed\n"
     ]
    },
    {
     "name": "stderr",
     "output_type": "stream",
     "text": [
      "/var/folders/wd/rhzj_w8570g_y66t6j6mh4zw0000gn/T/ipykernel_89708/1201790303.py:26: RuntimeWarning: The data contains 'boundary' events, indicating data discontinuities. Be cautious of filtering and epoching around these events.\n",
      "  eeg_dataset_raw = mne.io.read_raw_eeglab(eeg_lab_file_path, preload=True)\n"
     ]
    },
    {
     "data": {
      "application/vnd.jupyter.widget-view+json": {
       "model_id": "6964bc1e97fc448aac59ddd3e588dc1a",
       "version_major": 2,
       "version_minor": 0
      },
      "text/plain": [
       "Running FOOOFGroup:   0%|          | 0/63 [00:00<?, ?it/s]"
      ]
     },
     "metadata": {},
     "output_type": "display_data"
    },
    {
     "name": "stdout",
     "output_type": "stream",
     "text": [
      "Reading /Users/stuartgow/GitHub/AI_Dissertation/EEG_Datasets_Source_x/ds004584-1.0.0/sub-021/eeg/sub-021_task-Rest_eeg.fdt\n",
      "Reading 0 ... 79669  =      0.000 ...   159.338 secs...\n",
      "Computing power spectrum using welch method...\n",
      "Effective window size : 4.096 (s)\n",
      "For Spectra Group:\n",
      "- 63 channels & 1020 frequencies\n",
      "- Frequency Range: 1 to 250 Hz\n",
      "- Frequency resolution 0.24 Hz\n",
      "Extracting Periodic & Aperiodic Components with Parameters:\n",
      "- Peak width limits: [1, 12]\n",
      "- Min peak height: 0.05\n",
      "- Max peaks: 25\n",
      "- Range: [1, 75]\n",
      "- Aperiodic Mode: fixed\n"
     ]
    },
    {
     "name": "stderr",
     "output_type": "stream",
     "text": [
      "/var/folders/wd/rhzj_w8570g_y66t6j6mh4zw0000gn/T/ipykernel_89708/1201790303.py:26: RuntimeWarning: The data contains 'boundary' events, indicating data discontinuities. Be cautious of filtering and epoching around these events.\n",
      "  eeg_dataset_raw = mne.io.read_raw_eeglab(eeg_lab_file_path, preload=True)\n"
     ]
    },
    {
     "data": {
      "application/vnd.jupyter.widget-view+json": {
       "model_id": "307826905fb042d1a5677d4f8caf31e8",
       "version_major": 2,
       "version_minor": 0
      },
      "text/plain": [
       "Running FOOOFGroup:   0%|          | 0/63 [00:00<?, ?it/s]"
      ]
     },
     "metadata": {},
     "output_type": "display_data"
    },
    {
     "name": "stdout",
     "output_type": "stream",
     "text": [
      "Reading /Users/stuartgow/GitHub/AI_Dissertation/EEG_Datasets_Source_x/ds004584-1.0.0/sub-022/eeg/sub-022_task-Rest_eeg.fdt\n",
      "Reading 0 ... 76869  =      0.000 ...   153.738 secs...\n",
      "Computing power spectrum using welch method...\n",
      "Effective window size : 4.096 (s)\n",
      "For Spectra Group:\n",
      "- 63 channels & 1020 frequencies\n",
      "- Frequency Range: 1 to 250 Hz\n",
      "- Frequency resolution 0.24 Hz\n",
      "Extracting Periodic & Aperiodic Components with Parameters:\n",
      "- Peak width limits: [1, 12]\n",
      "- Min peak height: 0.05\n",
      "- Max peaks: 25\n",
      "- Range: [1, 75]\n",
      "- Aperiodic Mode: fixed\n"
     ]
    },
    {
     "name": "stderr",
     "output_type": "stream",
     "text": [
      "/var/folders/wd/rhzj_w8570g_y66t6j6mh4zw0000gn/T/ipykernel_89708/1201790303.py:26: RuntimeWarning: The data contains 'boundary' events, indicating data discontinuities. Be cautious of filtering and epoching around these events.\n",
      "  eeg_dataset_raw = mne.io.read_raw_eeglab(eeg_lab_file_path, preload=True)\n"
     ]
    },
    {
     "data": {
      "application/vnd.jupyter.widget-view+json": {
       "model_id": "a6c4dade9a17405984541186de581b74",
       "version_major": 2,
       "version_minor": 0
      },
      "text/plain": [
       "Running FOOOFGroup:   0%|          | 0/63 [00:00<?, ?it/s]"
      ]
     },
     "metadata": {},
     "output_type": "display_data"
    },
    {
     "name": "stdout",
     "output_type": "stream",
     "text": [
      "Reading /Users/stuartgow/GitHub/AI_Dissertation/EEG_Datasets_Source_x/ds004584-1.0.0/sub-023/eeg/sub-023_task-Rest_eeg.fdt\n",
      "Reading 0 ... 84549  =      0.000 ...   169.098 secs...\n",
      "Computing power spectrum using welch method...\n",
      "Effective window size : 4.096 (s)\n",
      "For Spectra Group:\n",
      "- 63 channels & 1020 frequencies\n",
      "- Frequency Range: 1 to 250 Hz\n",
      "- Frequency resolution 0.24 Hz\n",
      "Extracting Periodic & Aperiodic Components with Parameters:\n",
      "- Peak width limits: [1, 12]\n",
      "- Min peak height: 0.05\n",
      "- Max peaks: 25\n",
      "- Range: [1, 75]\n",
      "- Aperiodic Mode: fixed\n"
     ]
    },
    {
     "name": "stderr",
     "output_type": "stream",
     "text": [
      "/var/folders/wd/rhzj_w8570g_y66t6j6mh4zw0000gn/T/ipykernel_89708/1201790303.py:26: RuntimeWarning: The data contains 'boundary' events, indicating data discontinuities. Be cautious of filtering and epoching around these events.\n",
      "  eeg_dataset_raw = mne.io.read_raw_eeglab(eeg_lab_file_path, preload=True)\n"
     ]
    },
    {
     "data": {
      "application/vnd.jupyter.widget-view+json": {
       "model_id": "e242a94b586e4b14acb0bc9b59056289",
       "version_major": 2,
       "version_minor": 0
      },
      "text/plain": [
       "Running FOOOFGroup:   0%|          | 0/63 [00:00<?, ?it/s]"
      ]
     },
     "metadata": {},
     "output_type": "display_data"
    },
    {
     "name": "stdout",
     "output_type": "stream",
     "text": [
      "Reading /Users/stuartgow/GitHub/AI_Dissertation/EEG_Datasets_Source_x/ds004584-1.0.0/sub-024/eeg/sub-024_task-Rest_eeg.fdt\n",
      "Reading 0 ... 75649  =      0.000 ...   151.298 secs...\n",
      "Computing power spectrum using welch method...\n",
      "Effective window size : 4.096 (s)\n",
      "For Spectra Group:\n",
      "- 63 channels & 1020 frequencies\n",
      "- Frequency Range: 1 to 250 Hz\n",
      "- Frequency resolution 0.24 Hz\n",
      "Extracting Periodic & Aperiodic Components with Parameters:\n",
      "- Peak width limits: [1, 12]\n",
      "- Min peak height: 0.05\n",
      "- Max peaks: 25\n",
      "- Range: [1, 75]\n",
      "- Aperiodic Mode: fixed\n"
     ]
    },
    {
     "name": "stderr",
     "output_type": "stream",
     "text": [
      "/var/folders/wd/rhzj_w8570g_y66t6j6mh4zw0000gn/T/ipykernel_89708/1201790303.py:26: RuntimeWarning: The data contains 'boundary' events, indicating data discontinuities. Be cautious of filtering and epoching around these events.\n",
      "  eeg_dataset_raw = mne.io.read_raw_eeglab(eeg_lab_file_path, preload=True)\n"
     ]
    },
    {
     "data": {
      "application/vnd.jupyter.widget-view+json": {
       "model_id": "a014cbd63b224f4b86254800a077fa77",
       "version_major": 2,
       "version_minor": 0
      },
      "text/plain": [
       "Running FOOOFGroup:   0%|          | 0/63 [00:00<?, ?it/s]"
      ]
     },
     "metadata": {},
     "output_type": "display_data"
    },
    {
     "name": "stdout",
     "output_type": "stream",
     "text": [
      "Reading /Users/stuartgow/GitHub/AI_Dissertation/EEG_Datasets_Source_x/ds004584-1.0.0/sub-025/eeg/sub-025_task-Rest_eeg.fdt\n",
      "Reading 0 ... 81949  =      0.000 ...   163.898 secs...\n",
      "Computing power spectrum using welch method...\n",
      "Effective window size : 4.096 (s)\n",
      "For Spectra Group:\n",
      "- 63 channels & 1020 frequencies\n",
      "- Frequency Range: 1 to 250 Hz\n",
      "- Frequency resolution 0.24 Hz\n",
      "Extracting Periodic & Aperiodic Components with Parameters:\n",
      "- Peak width limits: [1, 12]\n",
      "- Min peak height: 0.05\n",
      "- Max peaks: 25\n",
      "- Range: [1, 75]\n",
      "- Aperiodic Mode: fixed\n"
     ]
    },
    {
     "name": "stderr",
     "output_type": "stream",
     "text": [
      "/var/folders/wd/rhzj_w8570g_y66t6j6mh4zw0000gn/T/ipykernel_89708/1201790303.py:26: RuntimeWarning: The data contains 'boundary' events, indicating data discontinuities. Be cautious of filtering and epoching around these events.\n",
      "  eeg_dataset_raw = mne.io.read_raw_eeglab(eeg_lab_file_path, preload=True)\n"
     ]
    },
    {
     "data": {
      "application/vnd.jupyter.widget-view+json": {
       "model_id": "649e6fea471a4280bb216d38909204e3",
       "version_major": 2,
       "version_minor": 0
      },
      "text/plain": [
       "Running FOOOFGroup:   0%|          | 0/63 [00:00<?, ?it/s]"
      ]
     },
     "metadata": {},
     "output_type": "display_data"
    },
    {
     "name": "stdout",
     "output_type": "stream",
     "text": [
      "Reading /Users/stuartgow/GitHub/AI_Dissertation/EEG_Datasets_Source_x/ds004584-1.0.0/sub-026/eeg/sub-026_task-Rest_eeg.fdt\n",
      "Reading 0 ... 71409  =      0.000 ...   142.818 secs...\n",
      "Computing power spectrum using welch method...\n",
      "Effective window size : 4.096 (s)\n",
      "For Spectra Group:\n",
      "- 63 channels & 1020 frequencies\n",
      "- Frequency Range: 1 to 250 Hz\n",
      "- Frequency resolution 0.24 Hz\n",
      "Extracting Periodic & Aperiodic Components with Parameters:\n",
      "- Peak width limits: [1, 12]\n",
      "- Min peak height: 0.05\n",
      "- Max peaks: 25\n",
      "- Range: [1, 75]\n",
      "- Aperiodic Mode: fixed\n"
     ]
    },
    {
     "name": "stderr",
     "output_type": "stream",
     "text": [
      "/var/folders/wd/rhzj_w8570g_y66t6j6mh4zw0000gn/T/ipykernel_89708/1201790303.py:26: RuntimeWarning: The data contains 'boundary' events, indicating data discontinuities. Be cautious of filtering and epoching around these events.\n",
      "  eeg_dataset_raw = mne.io.read_raw_eeglab(eeg_lab_file_path, preload=True)\n"
     ]
    },
    {
     "data": {
      "application/vnd.jupyter.widget-view+json": {
       "model_id": "f8afa23ee9614a7da751da9eb5bd823a",
       "version_major": 2,
       "version_minor": 0
      },
      "text/plain": [
       "Running FOOOFGroup:   0%|          | 0/63 [00:00<?, ?it/s]"
      ]
     },
     "metadata": {},
     "output_type": "display_data"
    },
    {
     "name": "stdout",
     "output_type": "stream",
     "text": [
      "Reading /Users/stuartgow/GitHub/AI_Dissertation/EEG_Datasets_Source_x/ds004584-1.0.0/sub-027/eeg/sub-027_task-Rest_eeg.fdt\n",
      "Reading 0 ... 60599  =      0.000 ...   121.198 secs...\n",
      "Computing power spectrum using welch method...\n",
      "Effective window size : 4.096 (s)\n",
      "For Spectra Group:\n",
      "- 63 channels & 1020 frequencies\n",
      "- Frequency Range: 1 to 250 Hz\n",
      "- Frequency resolution 0.24 Hz\n",
      "Extracting Periodic & Aperiodic Components with Parameters:\n",
      "- Peak width limits: [1, 12]\n",
      "- Min peak height: 0.05\n",
      "- Max peaks: 25\n",
      "- Range: [1, 75]\n",
      "- Aperiodic Mode: fixed\n"
     ]
    },
    {
     "name": "stderr",
     "output_type": "stream",
     "text": [
      "/var/folders/wd/rhzj_w8570g_y66t6j6mh4zw0000gn/T/ipykernel_89708/1201790303.py:26: RuntimeWarning: The data contains 'boundary' events, indicating data discontinuities. Be cautious of filtering and epoching around these events.\n",
      "  eeg_dataset_raw = mne.io.read_raw_eeglab(eeg_lab_file_path, preload=True)\n"
     ]
    },
    {
     "data": {
      "application/vnd.jupyter.widget-view+json": {
       "model_id": "8d449d6ae3a5468493ceaef7e12c59b3",
       "version_major": 2,
       "version_minor": 0
      },
      "text/plain": [
       "Running FOOOFGroup:   0%|          | 0/63 [00:00<?, ?it/s]"
      ]
     },
     "metadata": {},
     "output_type": "display_data"
    },
    {
     "name": "stdout",
     "output_type": "stream",
     "text": [
      "Reading /Users/stuartgow/GitHub/AI_Dissertation/EEG_Datasets_Source_x/ds004584-1.0.0/sub-028/eeg/sub-028_task-Rest_eeg.fdt\n",
      "Reading 0 ... 77299  =      0.000 ...   154.598 secs...\n",
      "Computing power spectrum using welch method...\n",
      "Effective window size : 4.096 (s)\n",
      "For Spectra Group:\n",
      "- 63 channels & 1020 frequencies\n",
      "- Frequency Range: 1 to 250 Hz\n",
      "- Frequency resolution 0.24 Hz\n",
      "Extracting Periodic & Aperiodic Components with Parameters:\n",
      "- Peak width limits: [1, 12]\n",
      "- Min peak height: 0.05\n",
      "- Max peaks: 25\n",
      "- Range: [1, 75]\n",
      "- Aperiodic Mode: fixed\n"
     ]
    },
    {
     "name": "stderr",
     "output_type": "stream",
     "text": [
      "/var/folders/wd/rhzj_w8570g_y66t6j6mh4zw0000gn/T/ipykernel_89708/1201790303.py:26: RuntimeWarning: The data contains 'boundary' events, indicating data discontinuities. Be cautious of filtering and epoching around these events.\n",
      "  eeg_dataset_raw = mne.io.read_raw_eeglab(eeg_lab_file_path, preload=True)\n"
     ]
    },
    {
     "data": {
      "application/vnd.jupyter.widget-view+json": {
       "model_id": "be283b22a1054ab2ae9313397609ad1d",
       "version_major": 2,
       "version_minor": 0
      },
      "text/plain": [
       "Running FOOOFGroup:   0%|          | 0/63 [00:00<?, ?it/s]"
      ]
     },
     "metadata": {},
     "output_type": "display_data"
    },
    {
     "name": "stdout",
     "output_type": "stream",
     "text": [
      "Reading /Users/stuartgow/GitHub/AI_Dissertation/EEG_Datasets_Source_x/ds004584-1.0.0/sub-029/eeg/sub-029_task-Rest_eeg.fdt\n",
      "Reading 0 ... 101669  =      0.000 ...   203.338 secs...\n",
      "Computing power spectrum using welch method...\n",
      "Effective window size : 4.096 (s)\n",
      "For Spectra Group:\n",
      "- 63 channels & 1020 frequencies\n",
      "- Frequency Range: 1 to 250 Hz\n",
      "- Frequency resolution 0.24 Hz\n",
      "Extracting Periodic & Aperiodic Components with Parameters:\n",
      "- Peak width limits: [1, 12]\n",
      "- Min peak height: 0.05\n",
      "- Max peaks: 25\n",
      "- Range: [1, 75]\n",
      "- Aperiodic Mode: fixed\n"
     ]
    },
    {
     "name": "stderr",
     "output_type": "stream",
     "text": [
      "/var/folders/wd/rhzj_w8570g_y66t6j6mh4zw0000gn/T/ipykernel_89708/1201790303.py:26: RuntimeWarning: The data contains 'boundary' events, indicating data discontinuities. Be cautious of filtering and epoching around these events.\n",
      "  eeg_dataset_raw = mne.io.read_raw_eeglab(eeg_lab_file_path, preload=True)\n"
     ]
    },
    {
     "data": {
      "application/vnd.jupyter.widget-view+json": {
       "model_id": "4521831e2f054e4c80dca01a5d2494c8",
       "version_major": 2,
       "version_minor": 0
      },
      "text/plain": [
       "Running FOOOFGroup:   0%|          | 0/63 [00:00<?, ?it/s]"
      ]
     },
     "metadata": {},
     "output_type": "display_data"
    },
    {
     "name": "stdout",
     "output_type": "stream",
     "text": [
      "Reading /Users/stuartgow/GitHub/AI_Dissertation/EEG_Datasets_Source_x/ds004584-1.0.0/sub-030/eeg/sub-030_task-Rest_eeg.fdt\n",
      "Reading 0 ... 88069  =      0.000 ...   176.138 secs...\n",
      "Computing power spectrum using welch method...\n",
      "Effective window size : 4.096 (s)\n",
      "For Spectra Group:\n",
      "- 63 channels & 1020 frequencies\n",
      "- Frequency Range: 1 to 250 Hz\n",
      "- Frequency resolution 0.24 Hz\n",
      "Extracting Periodic & Aperiodic Components with Parameters:\n",
      "- Peak width limits: [1, 12]\n",
      "- Min peak height: 0.05\n",
      "- Max peaks: 25\n",
      "- Range: [1, 75]\n",
      "- Aperiodic Mode: fixed\n"
     ]
    },
    {
     "name": "stderr",
     "output_type": "stream",
     "text": [
      "/var/folders/wd/rhzj_w8570g_y66t6j6mh4zw0000gn/T/ipykernel_89708/1201790303.py:26: RuntimeWarning: The data contains 'boundary' events, indicating data discontinuities. Be cautious of filtering and epoching around these events.\n",
      "  eeg_dataset_raw = mne.io.read_raw_eeglab(eeg_lab_file_path, preload=True)\n"
     ]
    },
    {
     "data": {
      "application/vnd.jupyter.widget-view+json": {
       "model_id": "bdfb48e0704a4e8c86df1b6e5ed6915f",
       "version_major": 2,
       "version_minor": 0
      },
      "text/plain": [
       "Running FOOOFGroup:   0%|          | 0/63 [00:00<?, ?it/s]"
      ]
     },
     "metadata": {},
     "output_type": "display_data"
    },
    {
     "name": "stdout",
     "output_type": "stream",
     "text": [
      "Reading /Users/stuartgow/GitHub/AI_Dissertation/EEG_Datasets_Source_x/ds004584-1.0.0/sub-031/eeg/sub-031_task-Rest_eeg.fdt\n",
      "Reading 0 ... 90669  =      0.000 ...   181.338 secs...\n",
      "Computing power spectrum using welch method...\n",
      "Effective window size : 4.096 (s)\n",
      "For Spectra Group:\n",
      "- 63 channels & 1020 frequencies\n",
      "- Frequency Range: 1 to 250 Hz\n",
      "- Frequency resolution 0.24 Hz\n",
      "Extracting Periodic & Aperiodic Components with Parameters:\n",
      "- Peak width limits: [1, 12]\n",
      "- Min peak height: 0.05\n",
      "- Max peaks: 25\n",
      "- Range: [1, 75]\n",
      "- Aperiodic Mode: fixed\n"
     ]
    },
    {
     "name": "stderr",
     "output_type": "stream",
     "text": [
      "/var/folders/wd/rhzj_w8570g_y66t6j6mh4zw0000gn/T/ipykernel_89708/1201790303.py:26: RuntimeWarning: The data contains 'boundary' events, indicating data discontinuities. Be cautious of filtering and epoching around these events.\n",
      "  eeg_dataset_raw = mne.io.read_raw_eeglab(eeg_lab_file_path, preload=True)\n"
     ]
    },
    {
     "data": {
      "application/vnd.jupyter.widget-view+json": {
       "model_id": "a193ba5735f344d089431fe8d70d3af7",
       "version_major": 2,
       "version_minor": 0
      },
      "text/plain": [
       "Running FOOOFGroup:   0%|          | 0/63 [00:00<?, ?it/s]"
      ]
     },
     "metadata": {},
     "output_type": "display_data"
    },
    {
     "name": "stdout",
     "output_type": "stream",
     "text": [
      "Reading /Users/stuartgow/GitHub/AI_Dissertation/EEG_Datasets_Source_x/ds004584-1.0.0/sub-032/eeg/sub-032_task-Rest_eeg.fdt\n",
      "Reading 0 ... 75799  =      0.000 ...   151.598 secs...\n",
      "Computing power spectrum using welch method...\n",
      "Effective window size : 4.096 (s)\n",
      "For Spectra Group:\n",
      "- 63 channels & 1020 frequencies\n",
      "- Frequency Range: 1 to 250 Hz\n",
      "- Frequency resolution 0.24 Hz\n",
      "Extracting Periodic & Aperiodic Components with Parameters:\n",
      "- Peak width limits: [1, 12]\n",
      "- Min peak height: 0.05\n",
      "- Max peaks: 25\n",
      "- Range: [1, 75]\n",
      "- Aperiodic Mode: fixed\n"
     ]
    },
    {
     "name": "stderr",
     "output_type": "stream",
     "text": [
      "/var/folders/wd/rhzj_w8570g_y66t6j6mh4zw0000gn/T/ipykernel_89708/1201790303.py:26: RuntimeWarning: The data contains 'boundary' events, indicating data discontinuities. Be cautious of filtering and epoching around these events.\n",
      "  eeg_dataset_raw = mne.io.read_raw_eeglab(eeg_lab_file_path, preload=True)\n"
     ]
    },
    {
     "data": {
      "application/vnd.jupyter.widget-view+json": {
       "model_id": "34830a819c49456e8c96b8c7231e19ee",
       "version_major": 2,
       "version_minor": 0
      },
      "text/plain": [
       "Running FOOOFGroup:   0%|          | 0/63 [00:00<?, ?it/s]"
      ]
     },
     "metadata": {},
     "output_type": "display_data"
    },
    {
     "name": "stdout",
     "output_type": "stream",
     "text": [
      "Reading /Users/stuartgow/GitHub/AI_Dissertation/EEG_Datasets_Source_x/ds004584-1.0.0/sub-033/eeg/sub-033_task-Rest_eeg.fdt\n",
      "Reading 0 ... 65679  =      0.000 ...   131.358 secs...\n",
      "Computing power spectrum using welch method...\n",
      "Effective window size : 4.096 (s)\n",
      "For Spectra Group:\n",
      "- 63 channels & 1020 frequencies\n",
      "- Frequency Range: 1 to 250 Hz\n",
      "- Frequency resolution 0.24 Hz\n",
      "Extracting Periodic & Aperiodic Components with Parameters:\n",
      "- Peak width limits: [1, 12]\n",
      "- Min peak height: 0.05\n",
      "- Max peaks: 25\n",
      "- Range: [1, 75]\n",
      "- Aperiodic Mode: fixed\n"
     ]
    },
    {
     "name": "stderr",
     "output_type": "stream",
     "text": [
      "/var/folders/wd/rhzj_w8570g_y66t6j6mh4zw0000gn/T/ipykernel_89708/1201790303.py:26: RuntimeWarning: The data contains 'boundary' events, indicating data discontinuities. Be cautious of filtering and epoching around these events.\n",
      "  eeg_dataset_raw = mne.io.read_raw_eeglab(eeg_lab_file_path, preload=True)\n"
     ]
    },
    {
     "data": {
      "application/vnd.jupyter.widget-view+json": {
       "model_id": "7f461e98b01e41769e3df53b46add9c0",
       "version_major": 2,
       "version_minor": 0
      },
      "text/plain": [
       "Running FOOOFGroup:   0%|          | 0/63 [00:00<?, ?it/s]"
      ]
     },
     "metadata": {},
     "output_type": "display_data"
    },
    {
     "name": "stdout",
     "output_type": "stream",
     "text": [
      "Reading /Users/stuartgow/GitHub/AI_Dissertation/EEG_Datasets_Source_x/ds004584-1.0.0/sub-034/eeg/sub-034_task-Rest_eeg.fdt\n",
      "Reading 0 ... 87449  =      0.000 ...   174.898 secs...\n",
      "Computing power spectrum using welch method...\n",
      "Effective window size : 4.096 (s)\n",
      "For Spectra Group:\n",
      "- 63 channels & 1020 frequencies\n",
      "- Frequency Range: 1 to 250 Hz\n",
      "- Frequency resolution 0.24 Hz\n",
      "Extracting Periodic & Aperiodic Components with Parameters:\n",
      "- Peak width limits: [1, 12]\n",
      "- Min peak height: 0.05\n",
      "- Max peaks: 25\n",
      "- Range: [1, 75]\n",
      "- Aperiodic Mode: fixed\n"
     ]
    },
    {
     "name": "stderr",
     "output_type": "stream",
     "text": [
      "/var/folders/wd/rhzj_w8570g_y66t6j6mh4zw0000gn/T/ipykernel_89708/1201790303.py:26: RuntimeWarning: The data contains 'boundary' events, indicating data discontinuities. Be cautious of filtering and epoching around these events.\n",
      "  eeg_dataset_raw = mne.io.read_raw_eeglab(eeg_lab_file_path, preload=True)\n"
     ]
    },
    {
     "data": {
      "application/vnd.jupyter.widget-view+json": {
       "model_id": "140748fbe1224ffe8fbe3e2e2db443e5",
       "version_major": 2,
       "version_minor": 0
      },
      "text/plain": [
       "Running FOOOFGroup:   0%|          | 0/63 [00:00<?, ?it/s]"
      ]
     },
     "metadata": {},
     "output_type": "display_data"
    },
    {
     "name": "stdout",
     "output_type": "stream",
     "text": [
      "Reading /Users/stuartgow/GitHub/AI_Dissertation/EEG_Datasets_Source_x/ds004584-1.0.0/sub-035/eeg/sub-035_task-Rest_eeg.fdt\n",
      "Reading 0 ... 101219  =      0.000 ...   202.438 secs...\n",
      "Computing power spectrum using welch method...\n",
      "Effective window size : 4.096 (s)\n",
      "For Spectra Group:\n",
      "- 63 channels & 1020 frequencies\n",
      "- Frequency Range: 1 to 250 Hz\n",
      "- Frequency resolution 0.24 Hz\n",
      "Extracting Periodic & Aperiodic Components with Parameters:\n",
      "- Peak width limits: [1, 12]\n",
      "- Min peak height: 0.05\n",
      "- Max peaks: 25\n",
      "- Range: [1, 75]\n",
      "- Aperiodic Mode: fixed\n"
     ]
    },
    {
     "name": "stderr",
     "output_type": "stream",
     "text": [
      "/var/folders/wd/rhzj_w8570g_y66t6j6mh4zw0000gn/T/ipykernel_89708/1201790303.py:26: RuntimeWarning: The data contains 'boundary' events, indicating data discontinuities. Be cautious of filtering and epoching around these events.\n",
      "  eeg_dataset_raw = mne.io.read_raw_eeglab(eeg_lab_file_path, preload=True)\n"
     ]
    },
    {
     "data": {
      "application/vnd.jupyter.widget-view+json": {
       "model_id": "cb4d4bc4572140f1a58c30762f5d5221",
       "version_major": 2,
       "version_minor": 0
      },
      "text/plain": [
       "Running FOOOFGroup:   0%|          | 0/63 [00:00<?, ?it/s]"
      ]
     },
     "metadata": {},
     "output_type": "display_data"
    },
    {
     "name": "stdout",
     "output_type": "stream",
     "text": [
      "Reading /Users/stuartgow/GitHub/AI_Dissertation/EEG_Datasets_Source_x/ds004584-1.0.0/sub-036/eeg/sub-036_task-Rest_eeg.fdt\n",
      "Reading 0 ... 60859  =      0.000 ...   121.718 secs...\n",
      "Computing power spectrum using welch method...\n",
      "Effective window size : 4.096 (s)\n",
      "For Spectra Group:\n",
      "- 63 channels & 1020 frequencies\n",
      "- Frequency Range: 1 to 250 Hz\n",
      "- Frequency resolution 0.24 Hz\n",
      "Extracting Periodic & Aperiodic Components with Parameters:\n",
      "- Peak width limits: [1, 12]\n",
      "- Min peak height: 0.05\n",
      "- Max peaks: 25\n",
      "- Range: [1, 75]\n",
      "- Aperiodic Mode: fixed\n"
     ]
    },
    {
     "name": "stderr",
     "output_type": "stream",
     "text": [
      "/var/folders/wd/rhzj_w8570g_y66t6j6mh4zw0000gn/T/ipykernel_89708/1201790303.py:26: RuntimeWarning: The data contains 'boundary' events, indicating data discontinuities. Be cautious of filtering and epoching around these events.\n",
      "  eeg_dataset_raw = mne.io.read_raw_eeglab(eeg_lab_file_path, preload=True)\n"
     ]
    },
    {
     "data": {
      "application/vnd.jupyter.widget-view+json": {
       "model_id": "0b94f7808b25408ca5b618d4645ab116",
       "version_major": 2,
       "version_minor": 0
      },
      "text/plain": [
       "Running FOOOFGroup:   0%|          | 0/63 [00:00<?, ?it/s]"
      ]
     },
     "metadata": {},
     "output_type": "display_data"
    },
    {
     "name": "stdout",
     "output_type": "stream",
     "text": [
      "Reading /Users/stuartgow/GitHub/AI_Dissertation/EEG_Datasets_Source_x/ds004584-1.0.0/sub-037/eeg/sub-037_task-Rest_eeg.fdt\n",
      "Reading 0 ... 64879  =      0.000 ...   129.758 secs...\n",
      "Computing power spectrum using welch method...\n",
      "Effective window size : 4.096 (s)\n",
      "For Spectra Group:\n",
      "- 63 channels & 1020 frequencies\n",
      "- Frequency Range: 1 to 250 Hz\n",
      "- Frequency resolution 0.24 Hz\n",
      "Extracting Periodic & Aperiodic Components with Parameters:\n",
      "- Peak width limits: [1, 12]\n",
      "- Min peak height: 0.05\n",
      "- Max peaks: 25\n",
      "- Range: [1, 75]\n",
      "- Aperiodic Mode: fixed\n"
     ]
    },
    {
     "name": "stderr",
     "output_type": "stream",
     "text": [
      "/var/folders/wd/rhzj_w8570g_y66t6j6mh4zw0000gn/T/ipykernel_89708/1201790303.py:26: RuntimeWarning: The data contains 'boundary' events, indicating data discontinuities. Be cautious of filtering and epoching around these events.\n",
      "  eeg_dataset_raw = mne.io.read_raw_eeglab(eeg_lab_file_path, preload=True)\n"
     ]
    },
    {
     "data": {
      "application/vnd.jupyter.widget-view+json": {
       "model_id": "2677e390db6c4b9c8f058783095fc54e",
       "version_major": 2,
       "version_minor": 0
      },
      "text/plain": [
       "Running FOOOFGroup:   0%|          | 0/63 [00:00<?, ?it/s]"
      ]
     },
     "metadata": {},
     "output_type": "display_data"
    },
    {
     "name": "stdout",
     "output_type": "stream",
     "text": [
      "Reading /Users/stuartgow/GitHub/AI_Dissertation/EEG_Datasets_Source_x/ds004584-1.0.0/sub-038/eeg/sub-038_task-Rest_eeg.fdt\n",
      "Reading 0 ... 68019  =      0.000 ...   136.038 secs...\n",
      "Computing power spectrum using welch method...\n",
      "Effective window size : 4.096 (s)\n",
      "For Spectra Group:\n",
      "- 63 channels & 1020 frequencies\n",
      "- Frequency Range: 1 to 250 Hz\n",
      "- Frequency resolution 0.24 Hz\n",
      "Extracting Periodic & Aperiodic Components with Parameters:\n",
      "- Peak width limits: [1, 12]\n",
      "- Min peak height: 0.05\n",
      "- Max peaks: 25\n",
      "- Range: [1, 75]\n",
      "- Aperiodic Mode: fixed\n"
     ]
    },
    {
     "name": "stderr",
     "output_type": "stream",
     "text": [
      "/var/folders/wd/rhzj_w8570g_y66t6j6mh4zw0000gn/T/ipykernel_89708/1201790303.py:26: RuntimeWarning: The data contains 'boundary' events, indicating data discontinuities. Be cautious of filtering and epoching around these events.\n",
      "  eeg_dataset_raw = mne.io.read_raw_eeglab(eeg_lab_file_path, preload=True)\n"
     ]
    },
    {
     "data": {
      "application/vnd.jupyter.widget-view+json": {
       "model_id": "6ac9a465783148cd8def45cef3a05231",
       "version_major": 2,
       "version_minor": 0
      },
      "text/plain": [
       "Running FOOOFGroup:   0%|          | 0/63 [00:00<?, ?it/s]"
      ]
     },
     "metadata": {},
     "output_type": "display_data"
    },
    {
     "name": "stdout",
     "output_type": "stream",
     "text": [
      "Reading /Users/stuartgow/GitHub/AI_Dissertation/EEG_Datasets_Source_x/ds004584-1.0.0/sub-039/eeg/sub-039_task-Rest_eeg.fdt\n",
      "Reading 0 ... 82659  =      0.000 ...   165.318 secs...\n",
      "Computing power spectrum using welch method...\n",
      "Effective window size : 4.096 (s)\n"
     ]
    },
    {
     "name": "stderr",
     "output_type": "stream",
     "text": [
      "/var/folders/wd/rhzj_w8570g_y66t6j6mh4zw0000gn/T/ipykernel_89708/1201790303.py:26: RuntimeWarning: The data contains 'boundary' events, indicating data discontinuities. Be cautious of filtering and epoching around these events.\n",
      "  eeg_dataset_raw = mne.io.read_raw_eeglab(eeg_lab_file_path, preload=True)\n"
     ]
    },
    {
     "name": "stdout",
     "output_type": "stream",
     "text": [
      "For Spectra Group:\n",
      "- 63 channels & 1020 frequencies\n",
      "- Frequency Range: 1 to 250 Hz\n",
      "- Frequency resolution 0.24 Hz\n",
      "Extracting Periodic & Aperiodic Components with Parameters:\n",
      "- Peak width limits: [1, 12]\n",
      "- Min peak height: 0.05\n",
      "- Max peaks: 25\n",
      "- Range: [1, 75]\n",
      "- Aperiodic Mode: fixed\n"
     ]
    },
    {
     "data": {
      "application/vnd.jupyter.widget-view+json": {
       "model_id": "08b2187f353d4c9a976f67d929d737ab",
       "version_major": 2,
       "version_minor": 0
      },
      "text/plain": [
       "Running FOOOFGroup:   0%|          | 0/63 [00:00<?, ?it/s]"
      ]
     },
     "metadata": {},
     "output_type": "display_data"
    },
    {
     "name": "stdout",
     "output_type": "stream",
     "text": [
      "Reading /Users/stuartgow/GitHub/AI_Dissertation/EEG_Datasets_Source_x/ds004584-1.0.0/sub-040/eeg/sub-040_task-Rest_eeg.fdt\n",
      "Reading 0 ... 68659  =      0.000 ...   137.318 secs...\n",
      "Computing power spectrum using welch method...\n",
      "Effective window size : 4.096 (s)\n",
      "For Spectra Group:\n",
      "- 63 channels & 1020 frequencies\n",
      "- Frequency Range: 1 to 250 Hz\n",
      "- Frequency resolution 0.24 Hz\n",
      "Extracting Periodic & Aperiodic Components with Parameters:\n",
      "- Peak width limits: [1, 12]\n",
      "- Min peak height: 0.05\n",
      "- Max peaks: 25\n",
      "- Range: [1, 75]\n",
      "- Aperiodic Mode: fixed\n"
     ]
    },
    {
     "name": "stderr",
     "output_type": "stream",
     "text": [
      "/var/folders/wd/rhzj_w8570g_y66t6j6mh4zw0000gn/T/ipykernel_89708/1201790303.py:26: RuntimeWarning: The data contains 'boundary' events, indicating data discontinuities. Be cautious of filtering and epoching around these events.\n",
      "  eeg_dataset_raw = mne.io.read_raw_eeglab(eeg_lab_file_path, preload=True)\n"
     ]
    },
    {
     "data": {
      "application/vnd.jupyter.widget-view+json": {
       "model_id": "879cb6f59bd84beeac42915358fc1e8a",
       "version_major": 2,
       "version_minor": 0
      },
      "text/plain": [
       "Running FOOOFGroup:   0%|          | 0/63 [00:00<?, ?it/s]"
      ]
     },
     "metadata": {},
     "output_type": "display_data"
    },
    {
     "name": "stdout",
     "output_type": "stream",
     "text": [
      "Reading /Users/stuartgow/GitHub/AI_Dissertation/EEG_Datasets_Source_x/ds004584-1.0.0/sub-041/eeg/sub-041_task-Rest_eeg.fdt\n",
      "Reading 0 ... 75279  =      0.000 ...   150.558 secs...\n",
      "Computing power spectrum using welch method...\n",
      "Effective window size : 4.096 (s)\n",
      "For Spectra Group:\n",
      "- 63 channels & 1020 frequencies\n",
      "- Frequency Range: 1 to 250 Hz\n",
      "- Frequency resolution 0.24 Hz\n",
      "Extracting Periodic & Aperiodic Components with Parameters:\n",
      "- Peak width limits: [1, 12]\n",
      "- Min peak height: 0.05\n",
      "- Max peaks: 25\n",
      "- Range: [1, 75]\n",
      "- Aperiodic Mode: fixed\n"
     ]
    },
    {
     "name": "stderr",
     "output_type": "stream",
     "text": [
      "/var/folders/wd/rhzj_w8570g_y66t6j6mh4zw0000gn/T/ipykernel_89708/1201790303.py:26: RuntimeWarning: The data contains 'boundary' events, indicating data discontinuities. Be cautious of filtering and epoching around these events.\n",
      "  eeg_dataset_raw = mne.io.read_raw_eeglab(eeg_lab_file_path, preload=True)\n"
     ]
    },
    {
     "data": {
      "application/vnd.jupyter.widget-view+json": {
       "model_id": "5c826339719b4b9a92c4a86513c66f2e",
       "version_major": 2,
       "version_minor": 0
      },
      "text/plain": [
       "Running FOOOFGroup:   0%|          | 0/63 [00:00<?, ?it/s]"
      ]
     },
     "metadata": {},
     "output_type": "display_data"
    },
    {
     "name": "stdout",
     "output_type": "stream",
     "text": [
      "Reading /Users/stuartgow/GitHub/AI_Dissertation/EEG_Datasets_Source_x/ds004584-1.0.0/sub-042/eeg/sub-042_task-Rest_eeg.fdt\n",
      "Reading 0 ... 73329  =      0.000 ...   146.658 secs...\n",
      "Computing power spectrum using welch method...\n",
      "Effective window size : 4.096 (s)\n",
      "For Spectra Group:\n",
      "- 63 channels & 1020 frequencies\n",
      "- Frequency Range: 1 to 250 Hz\n",
      "- Frequency resolution 0.24 Hz\n",
      "Extracting Periodic & Aperiodic Components with Parameters:\n",
      "- Peak width limits: [1, 12]\n",
      "- Min peak height: 0.05\n",
      "- Max peaks: 25\n",
      "- Range: [1, 75]\n",
      "- Aperiodic Mode: fixed\n"
     ]
    },
    {
     "name": "stderr",
     "output_type": "stream",
     "text": [
      "/var/folders/wd/rhzj_w8570g_y66t6j6mh4zw0000gn/T/ipykernel_89708/1201790303.py:26: RuntimeWarning: The data contains 'boundary' events, indicating data discontinuities. Be cautious of filtering and epoching around these events.\n",
      "  eeg_dataset_raw = mne.io.read_raw_eeglab(eeg_lab_file_path, preload=True)\n"
     ]
    },
    {
     "data": {
      "application/vnd.jupyter.widget-view+json": {
       "model_id": "afa286f6193b4f6285ce22d324ddc390",
       "version_major": 2,
       "version_minor": 0
      },
      "text/plain": [
       "Running FOOOFGroup:   0%|          | 0/63 [00:00<?, ?it/s]"
      ]
     },
     "metadata": {},
     "output_type": "display_data"
    },
    {
     "name": "stdout",
     "output_type": "stream",
     "text": [
      "Reading /Users/stuartgow/GitHub/AI_Dissertation/EEG_Datasets_Source_x/ds004584-1.0.0/sub-043/eeg/sub-043_task-Rest_eeg.fdt\n",
      "Reading 0 ... 65629  =      0.000 ...   131.258 secs...\n",
      "Computing power spectrum using welch method...\n",
      "Effective window size : 4.096 (s)\n",
      "For Spectra Group:\n",
      "- 63 channels & 1020 frequencies\n",
      "- Frequency Range: 1 to 250 Hz\n",
      "- Frequency resolution 0.24 Hz\n",
      "Extracting Periodic & Aperiodic Components with Parameters:\n",
      "- Peak width limits: [1, 12]\n",
      "- Min peak height: 0.05\n",
      "- Max peaks: 25\n",
      "- Range: [1, 75]\n",
      "- Aperiodic Mode: fixed\n"
     ]
    },
    {
     "name": "stderr",
     "output_type": "stream",
     "text": [
      "/var/folders/wd/rhzj_w8570g_y66t6j6mh4zw0000gn/T/ipykernel_89708/1201790303.py:26: RuntimeWarning: The data contains 'boundary' events, indicating data discontinuities. Be cautious of filtering and epoching around these events.\n",
      "  eeg_dataset_raw = mne.io.read_raw_eeglab(eeg_lab_file_path, preload=True)\n"
     ]
    },
    {
     "data": {
      "application/vnd.jupyter.widget-view+json": {
       "model_id": "4637ec6af171467db56a2025a48ce045",
       "version_major": 2,
       "version_minor": 0
      },
      "text/plain": [
       "Running FOOOFGroup:   0%|          | 0/63 [00:00<?, ?it/s]"
      ]
     },
     "metadata": {},
     "output_type": "display_data"
    },
    {
     "name": "stdout",
     "output_type": "stream",
     "text": [
      "Reading /Users/stuartgow/GitHub/AI_Dissertation/EEG_Datasets_Source_x/ds004584-1.0.0/sub-044/eeg/sub-044_task-Rest_eeg.fdt\n",
      "Reading 0 ... 69749  =      0.000 ...   139.498 secs...\n",
      "Computing power spectrum using welch method...\n",
      "Effective window size : 4.096 (s)\n",
      "For Spectra Group:\n",
      "- 63 channels & 1020 frequencies\n",
      "- Frequency Range: 1 to 250 Hz\n",
      "- Frequency resolution 0.24 Hz\n",
      "Extracting Periodic & Aperiodic Components with Parameters:\n",
      "- Peak width limits: [1, 12]\n",
      "- Min peak height: 0.05\n",
      "- Max peaks: 25\n",
      "- Range: [1, 75]\n",
      "- Aperiodic Mode: fixed\n"
     ]
    },
    {
     "name": "stderr",
     "output_type": "stream",
     "text": [
      "/var/folders/wd/rhzj_w8570g_y66t6j6mh4zw0000gn/T/ipykernel_89708/1201790303.py:26: RuntimeWarning: The data contains 'boundary' events, indicating data discontinuities. Be cautious of filtering and epoching around these events.\n",
      "  eeg_dataset_raw = mne.io.read_raw_eeglab(eeg_lab_file_path, preload=True)\n"
     ]
    },
    {
     "data": {
      "application/vnd.jupyter.widget-view+json": {
       "model_id": "d1fac9a88e9e470581e8def161ea96f3",
       "version_major": 2,
       "version_minor": 0
      },
      "text/plain": [
       "Running FOOOFGroup:   0%|          | 0/63 [00:00<?, ?it/s]"
      ]
     },
     "metadata": {},
     "output_type": "display_data"
    },
    {
     "name": "stdout",
     "output_type": "stream",
     "text": [
      "Reading /Users/stuartgow/GitHub/AI_Dissertation/EEG_Datasets_Source_x/ds004584-1.0.0/sub-045/eeg/sub-045_task-Rest_eeg.fdt\n",
      "Reading 0 ... 72669  =      0.000 ...   145.338 secs...\n",
      "Computing power spectrum using welch method...\n",
      "Effective window size : 4.096 (s)\n",
      "For Spectra Group:\n",
      "- 63 channels & 1020 frequencies\n",
      "- Frequency Range: 1 to 250 Hz\n",
      "- Frequency resolution 0.24 Hz\n",
      "Extracting Periodic & Aperiodic Components with Parameters:\n",
      "- Peak width limits: [1, 12]\n",
      "- Min peak height: 0.05\n",
      "- Max peaks: 25\n",
      "- Range: [1, 75]\n",
      "- Aperiodic Mode: fixed\n"
     ]
    },
    {
     "name": "stderr",
     "output_type": "stream",
     "text": [
      "/var/folders/wd/rhzj_w8570g_y66t6j6mh4zw0000gn/T/ipykernel_89708/1201790303.py:26: RuntimeWarning: The data contains 'boundary' events, indicating data discontinuities. Be cautious of filtering and epoching around these events.\n",
      "  eeg_dataset_raw = mne.io.read_raw_eeglab(eeg_lab_file_path, preload=True)\n"
     ]
    },
    {
     "data": {
      "application/vnd.jupyter.widget-view+json": {
       "model_id": "436b0cb26243461fbabc4625e6901b1e",
       "version_major": 2,
       "version_minor": 0
      },
      "text/plain": [
       "Running FOOOFGroup:   0%|          | 0/63 [00:00<?, ?it/s]"
      ]
     },
     "metadata": {},
     "output_type": "display_data"
    },
    {
     "name": "stdout",
     "output_type": "stream",
     "text": [
      "Reading /Users/stuartgow/GitHub/AI_Dissertation/EEG_Datasets_Source_x/ds004584-1.0.0/sub-046/eeg/sub-046_task-Rest_eeg.fdt\n",
      "Reading 0 ... 65639  =      0.000 ...   131.278 secs...\n",
      "Computing power spectrum using welch method...\n",
      "Effective window size : 4.096 (s)\n",
      "For Spectra Group:\n",
      "- 63 channels & 1020 frequencies\n",
      "- Frequency Range: 1 to 250 Hz\n",
      "- Frequency resolution 0.24 Hz\n",
      "Extracting Periodic & Aperiodic Components with Parameters:\n",
      "- Peak width limits: [1, 12]\n",
      "- Min peak height: 0.05\n",
      "- Max peaks: 25\n",
      "- Range: [1, 75]\n",
      "- Aperiodic Mode: fixed\n"
     ]
    },
    {
     "name": "stderr",
     "output_type": "stream",
     "text": [
      "/var/folders/wd/rhzj_w8570g_y66t6j6mh4zw0000gn/T/ipykernel_89708/1201790303.py:26: RuntimeWarning: The data contains 'boundary' events, indicating data discontinuities. Be cautious of filtering and epoching around these events.\n",
      "  eeg_dataset_raw = mne.io.read_raw_eeglab(eeg_lab_file_path, preload=True)\n"
     ]
    },
    {
     "data": {
      "application/vnd.jupyter.widget-view+json": {
       "model_id": "7a64bb4b40264920baf4e70b34dad9d6",
       "version_major": 2,
       "version_minor": 0
      },
      "text/plain": [
       "Running FOOOFGroup:   0%|          | 0/63 [00:00<?, ?it/s]"
      ]
     },
     "metadata": {},
     "output_type": "display_data"
    },
    {
     "name": "stdout",
     "output_type": "stream",
     "text": [
      "Reading /Users/stuartgow/GitHub/AI_Dissertation/EEG_Datasets_Source_x/ds004584-1.0.0/sub-047/eeg/sub-047_task-Rest_eeg.fdt\n",
      "Reading 0 ... 65469  =      0.000 ...   130.938 secs...\n",
      "Computing power spectrum using welch method...\n",
      "Effective window size : 4.096 (s)\n",
      "For Spectra Group:\n",
      "- 63 channels & 1020 frequencies\n",
      "- Frequency Range: 1 to 250 Hz\n",
      "- Frequency resolution 0.24 Hz\n",
      "Extracting Periodic & Aperiodic Components with Parameters:\n",
      "- Peak width limits: [1, 12]\n",
      "- Min peak height: 0.05\n",
      "- Max peaks: 25\n",
      "- Range: [1, 75]\n",
      "- Aperiodic Mode: fixed\n"
     ]
    },
    {
     "name": "stderr",
     "output_type": "stream",
     "text": [
      "/var/folders/wd/rhzj_w8570g_y66t6j6mh4zw0000gn/T/ipykernel_89708/1201790303.py:26: RuntimeWarning: The data contains 'boundary' events, indicating data discontinuities. Be cautious of filtering and epoching around these events.\n",
      "  eeg_dataset_raw = mne.io.read_raw_eeglab(eeg_lab_file_path, preload=True)\n"
     ]
    },
    {
     "data": {
      "application/vnd.jupyter.widget-view+json": {
       "model_id": "ef9d85314dad42b596f0b6bcee9d9086",
       "version_major": 2,
       "version_minor": 0
      },
      "text/plain": [
       "Running FOOOFGroup:   0%|          | 0/63 [00:00<?, ?it/s]"
      ]
     },
     "metadata": {},
     "output_type": "display_data"
    },
    {
     "name": "stdout",
     "output_type": "stream",
     "text": [
      "Model fitting was unsuccessful.\n",
      "Reading /Users/stuartgow/GitHub/AI_Dissertation/EEG_Datasets_Source_x/ds004584-1.0.0/sub-048/eeg/sub-048_task-Rest_eeg.fdt\n",
      "Reading 0 ... 119009  =      0.000 ...   238.018 secs...\n",
      "Computing power spectrum using welch method...\n",
      "Effective window size : 4.096 (s)\n",
      "For Spectra Group:\n",
      "- 63 channels & 1020 frequencies\n",
      "- Frequency Range: 1 to 250 Hz\n",
      "- Frequency resolution 0.24 Hz\n",
      "Extracting Periodic & Aperiodic Components with Parameters:\n",
      "- Peak width limits: [1, 12]\n",
      "- Min peak height: 0.05\n",
      "- Max peaks: 25\n",
      "- Range: [1, 75]\n",
      "- Aperiodic Mode: fixed\n"
     ]
    },
    {
     "name": "stderr",
     "output_type": "stream",
     "text": [
      "/var/folders/wd/rhzj_w8570g_y66t6j6mh4zw0000gn/T/ipykernel_89708/1201790303.py:26: RuntimeWarning: The data contains 'boundary' events, indicating data discontinuities. Be cautious of filtering and epoching around these events.\n",
      "  eeg_dataset_raw = mne.io.read_raw_eeglab(eeg_lab_file_path, preload=True)\n"
     ]
    },
    {
     "data": {
      "application/vnd.jupyter.widget-view+json": {
       "model_id": "a7e359301f8f456297504dd327db585f",
       "version_major": 2,
       "version_minor": 0
      },
      "text/plain": [
       "Running FOOOFGroup:   0%|          | 0/63 [00:00<?, ?it/s]"
      ]
     },
     "metadata": {},
     "output_type": "display_data"
    },
    {
     "name": "stdout",
     "output_type": "stream",
     "text": [
      "Reading /Users/stuartgow/GitHub/AI_Dissertation/EEG_Datasets_Source_x/ds004584-1.0.0/sub-049/eeg/sub-049_task-Rest_eeg.fdt\n",
      "Reading 0 ... 60829  =      0.000 ...   121.658 secs...\n",
      "Computing power spectrum using welch method...\n",
      "Effective window size : 4.096 (s)\n",
      "For Spectra Group:\n",
      "- 64 channels & 1020 frequencies\n",
      "- Frequency Range: 1 to 250 Hz\n",
      "- Frequency resolution 0.24 Hz\n",
      "Extracting Periodic & Aperiodic Components with Parameters:\n",
      "- Peak width limits: [1, 12]\n",
      "- Min peak height: 0.05\n",
      "- Max peaks: 25\n",
      "- Range: [1, 75]\n",
      "- Aperiodic Mode: fixed\n"
     ]
    },
    {
     "name": "stderr",
     "output_type": "stream",
     "text": [
      "/var/folders/wd/rhzj_w8570g_y66t6j6mh4zw0000gn/T/ipykernel_89708/1201790303.py:26: RuntimeWarning: The data contains 'boundary' events, indicating data discontinuities. Be cautious of filtering and epoching around these events.\n",
      "  eeg_dataset_raw = mne.io.read_raw_eeglab(eeg_lab_file_path, preload=True)\n"
     ]
    },
    {
     "data": {
      "application/vnd.jupyter.widget-view+json": {
       "model_id": "be6d5c79333342bd9cdd334ffec73dde",
       "version_major": 2,
       "version_minor": 0
      },
      "text/plain": [
       "Running FOOOFGroup:   0%|          | 0/64 [00:00<?, ?it/s]"
      ]
     },
     "metadata": {},
     "output_type": "display_data"
    },
    {
     "name": "stdout",
     "output_type": "stream",
     "text": [
      "Reading /Users/stuartgow/GitHub/AI_Dissertation/EEG_Datasets_Source_x/ds004584-1.0.0/sub-050/eeg/sub-050_task-Rest_eeg.fdt\n",
      "Reading 0 ... 62219  =      0.000 ...   124.438 secs...\n",
      "Computing power spectrum using welch method...\n",
      "Effective window size : 4.096 (s)\n",
      "For Spectra Group:\n",
      "- 64 channels & 1020 frequencies\n",
      "- Frequency Range: 1 to 250 Hz\n",
      "- Frequency resolution 0.24 Hz\n",
      "Extracting Periodic & Aperiodic Components with Parameters:\n",
      "- Peak width limits: [1, 12]\n",
      "- Min peak height: 0.05\n",
      "- Max peaks: 25\n",
      "- Range: [1, 75]\n",
      "- Aperiodic Mode: fixed\n"
     ]
    },
    {
     "name": "stderr",
     "output_type": "stream",
     "text": [
      "/var/folders/wd/rhzj_w8570g_y66t6j6mh4zw0000gn/T/ipykernel_89708/1201790303.py:26: RuntimeWarning: The data contains 'boundary' events, indicating data discontinuities. Be cautious of filtering and epoching around these events.\n",
      "  eeg_dataset_raw = mne.io.read_raw_eeglab(eeg_lab_file_path, preload=True)\n"
     ]
    },
    {
     "data": {
      "application/vnd.jupyter.widget-view+json": {
       "model_id": "ee5be97693124a0cbc9a6dde17e70c1f",
       "version_major": 2,
       "version_minor": 0
      },
      "text/plain": [
       "Running FOOOFGroup:   0%|          | 0/64 [00:00<?, ?it/s]"
      ]
     },
     "metadata": {},
     "output_type": "display_data"
    },
    {
     "name": "stdout",
     "output_type": "stream",
     "text": [
      "Reading /Users/stuartgow/GitHub/AI_Dissertation/EEG_Datasets_Source_x/ds004584-1.0.0/sub-051/eeg/sub-051_task-Rest_eeg.fdt\n",
      "Reading 0 ... 62229  =      0.000 ...   124.458 secs...\n",
      "Computing power spectrum using welch method...\n",
      "Effective window size : 4.096 (s)\n",
      "For Spectra Group:\n",
      "- 63 channels & 1020 frequencies\n",
      "- Frequency Range: 1 to 250 Hz\n",
      "- Frequency resolution 0.24 Hz\n",
      "Extracting Periodic & Aperiodic Components with Parameters:\n",
      "- Peak width limits: [1, 12]\n",
      "- Min peak height: 0.05\n",
      "- Max peaks: 25\n",
      "- Range: [1, 75]\n",
      "- Aperiodic Mode: fixed\n"
     ]
    },
    {
     "name": "stderr",
     "output_type": "stream",
     "text": [
      "/var/folders/wd/rhzj_w8570g_y66t6j6mh4zw0000gn/T/ipykernel_89708/1201790303.py:26: RuntimeWarning: The data contains 'boundary' events, indicating data discontinuities. Be cautious of filtering and epoching around these events.\n",
      "  eeg_dataset_raw = mne.io.read_raw_eeglab(eeg_lab_file_path, preload=True)\n"
     ]
    },
    {
     "data": {
      "application/vnd.jupyter.widget-view+json": {
       "model_id": "24008e5ef4074ee7a9302e003c4db60d",
       "version_major": 2,
       "version_minor": 0
      },
      "text/plain": [
       "Running FOOOFGroup:   0%|          | 0/63 [00:00<?, ?it/s]"
      ]
     },
     "metadata": {},
     "output_type": "display_data"
    },
    {
     "name": "stdout",
     "output_type": "stream",
     "text": [
      "Reading /Users/stuartgow/GitHub/AI_Dissertation/EEG_Datasets_Source_x/ds004584-1.0.0/sub-052/eeg/sub-052_task-Rest_eeg.fdt\n",
      "Reading 0 ... 65469  =      0.000 ...   130.938 secs...\n",
      "Computing power spectrum using welch method...\n",
      "Effective window size : 4.096 (s)\n",
      "For Spectra Group:\n",
      "- 63 channels & 1020 frequencies\n",
      "- Frequency Range: 1 to 250 Hz\n",
      "- Frequency resolution 0.24 Hz\n",
      "Extracting Periodic & Aperiodic Components with Parameters:\n",
      "- Peak width limits: [1, 12]\n",
      "- Min peak height: 0.05\n",
      "- Max peaks: 25\n",
      "- Range: [1, 75]\n",
      "- Aperiodic Mode: fixed\n"
     ]
    },
    {
     "name": "stderr",
     "output_type": "stream",
     "text": [
      "/var/folders/wd/rhzj_w8570g_y66t6j6mh4zw0000gn/T/ipykernel_89708/1201790303.py:26: RuntimeWarning: The data contains 'boundary' events, indicating data discontinuities. Be cautious of filtering and epoching around these events.\n",
      "  eeg_dataset_raw = mne.io.read_raw_eeglab(eeg_lab_file_path, preload=True)\n"
     ]
    },
    {
     "data": {
      "application/vnd.jupyter.widget-view+json": {
       "model_id": "0b1c454f33cc47599747dd3612dc13c7",
       "version_major": 2,
       "version_minor": 0
      },
      "text/plain": [
       "Running FOOOFGroup:   0%|          | 0/63 [00:00<?, ?it/s]"
      ]
     },
     "metadata": {},
     "output_type": "display_data"
    },
    {
     "name": "stdout",
     "output_type": "stream",
     "text": [
      "Reading /Users/stuartgow/GitHub/AI_Dissertation/EEG_Datasets_Source_x/ds004584-1.0.0/sub-053/eeg/sub-053_task-Rest_eeg.fdt\n",
      "Reading 0 ... 63219  =      0.000 ...   126.438 secs...\n",
      "Computing power spectrum using welch method...\n",
      "Effective window size : 4.096 (s)\n",
      "For Spectra Group:\n",
      "- 63 channels & 1020 frequencies\n",
      "- Frequency Range: 1 to 250 Hz\n",
      "- Frequency resolution 0.24 Hz\n",
      "Extracting Periodic & Aperiodic Components with Parameters:\n",
      "- Peak width limits: [1, 12]\n",
      "- Min peak height: 0.05\n",
      "- Max peaks: 25\n",
      "- Range: [1, 75]\n",
      "- Aperiodic Mode: fixed\n"
     ]
    },
    {
     "name": "stderr",
     "output_type": "stream",
     "text": [
      "/var/folders/wd/rhzj_w8570g_y66t6j6mh4zw0000gn/T/ipykernel_89708/1201790303.py:26: RuntimeWarning: The data contains 'boundary' events, indicating data discontinuities. Be cautious of filtering and epoching around these events.\n",
      "  eeg_dataset_raw = mne.io.read_raw_eeglab(eeg_lab_file_path, preload=True)\n"
     ]
    },
    {
     "data": {
      "application/vnd.jupyter.widget-view+json": {
       "model_id": "8620b2f2bb944c909094ce12474de5ee",
       "version_major": 2,
       "version_minor": 0
      },
      "text/plain": [
       "Running FOOOFGroup:   0%|          | 0/63 [00:00<?, ?it/s]"
      ]
     },
     "metadata": {},
     "output_type": "display_data"
    },
    {
     "name": "stdout",
     "output_type": "stream",
     "text": [
      "Reading /Users/stuartgow/GitHub/AI_Dissertation/EEG_Datasets_Source_x/ds004584-1.0.0/sub-054/eeg/sub-054_task-Rest_eeg.fdt\n",
      "Reading 0 ... 62499  =      0.000 ...   124.998 secs...\n",
      "Computing power spectrum using welch method...\n",
      "Effective window size : 4.096 (s)\n",
      "For Spectra Group:\n",
      "- 63 channels & 1020 frequencies\n",
      "- Frequency Range: 1 to 250 Hz\n",
      "- Frequency resolution 0.24 Hz\n",
      "Extracting Periodic & Aperiodic Components with Parameters:\n",
      "- Peak width limits: [1, 12]\n",
      "- Min peak height: 0.05\n",
      "- Max peaks: 25\n",
      "- Range: [1, 75]\n",
      "- Aperiodic Mode: fixed\n"
     ]
    },
    {
     "name": "stderr",
     "output_type": "stream",
     "text": [
      "/var/folders/wd/rhzj_w8570g_y66t6j6mh4zw0000gn/T/ipykernel_89708/1201790303.py:26: RuntimeWarning: The data contains 'boundary' events, indicating data discontinuities. Be cautious of filtering and epoching around these events.\n",
      "  eeg_dataset_raw = mne.io.read_raw_eeglab(eeg_lab_file_path, preload=True)\n"
     ]
    },
    {
     "data": {
      "application/vnd.jupyter.widget-view+json": {
       "model_id": "8e40ec23f2384979876c422f014b6115",
       "version_major": 2,
       "version_minor": 0
      },
      "text/plain": [
       "Running FOOOFGroup:   0%|          | 0/63 [00:00<?, ?it/s]"
      ]
     },
     "metadata": {},
     "output_type": "display_data"
    },
    {
     "name": "stdout",
     "output_type": "stream",
     "text": [
      "Reading /Users/stuartgow/GitHub/AI_Dissertation/EEG_Datasets_Source_x/ds004584-1.0.0/sub-055/eeg/sub-055_task-Rest_eeg.fdt\n",
      "Reading 0 ... 62179  =      0.000 ...   124.358 secs...\n",
      "Computing power spectrum using welch method...\n",
      "Effective window size : 4.096 (s)\n",
      "For Spectra Group:\n",
      "- 63 channels & 1020 frequencies\n",
      "- Frequency Range: 1 to 250 Hz\n",
      "- Frequency resolution 0.24 Hz\n",
      "Extracting Periodic & Aperiodic Components with Parameters:\n",
      "- Peak width limits: [1, 12]\n",
      "- Min peak height: 0.05\n",
      "- Max peaks: 25\n",
      "- Range: [1, 75]\n",
      "- Aperiodic Mode: fixed\n"
     ]
    },
    {
     "name": "stderr",
     "output_type": "stream",
     "text": [
      "/var/folders/wd/rhzj_w8570g_y66t6j6mh4zw0000gn/T/ipykernel_89708/1201790303.py:26: RuntimeWarning: The data contains 'boundary' events, indicating data discontinuities. Be cautious of filtering and epoching around these events.\n",
      "  eeg_dataset_raw = mne.io.read_raw_eeglab(eeg_lab_file_path, preload=True)\n"
     ]
    },
    {
     "data": {
      "application/vnd.jupyter.widget-view+json": {
       "model_id": "39d8286a42024df9b1eeb799343efd26",
       "version_major": 2,
       "version_minor": 0
      },
      "text/plain": [
       "Running FOOOFGroup:   0%|          | 0/63 [00:00<?, ?it/s]"
      ]
     },
     "metadata": {},
     "output_type": "display_data"
    },
    {
     "name": "stdout",
     "output_type": "stream",
     "text": [
      "Reading /Users/stuartgow/GitHub/AI_Dissertation/EEG_Datasets_Source_x/ds004584-1.0.0/sub-056/eeg/sub-056_task-Rest_eeg.fdt\n",
      "Reading 0 ... 69589  =      0.000 ...   139.178 secs...\n",
      "Computing power spectrum using welch method...\n",
      "Effective window size : 4.096 (s)\n",
      "For Spectra Group:\n",
      "- 63 channels & 1020 frequencies\n",
      "- Frequency Range: 1 to 250 Hz\n",
      "- Frequency resolution 0.24 Hz\n",
      "Extracting Periodic & Aperiodic Components with Parameters:\n",
      "- Peak width limits: [1, 12]\n",
      "- Min peak height: 0.05\n",
      "- Max peaks: 25\n",
      "- Range: [1, 75]\n",
      "- Aperiodic Mode: fixed\n"
     ]
    },
    {
     "name": "stderr",
     "output_type": "stream",
     "text": [
      "/var/folders/wd/rhzj_w8570g_y66t6j6mh4zw0000gn/T/ipykernel_89708/1201790303.py:26: RuntimeWarning: The data contains 'boundary' events, indicating data discontinuities. Be cautious of filtering and epoching around these events.\n",
      "  eeg_dataset_raw = mne.io.read_raw_eeglab(eeg_lab_file_path, preload=True)\n"
     ]
    },
    {
     "data": {
      "application/vnd.jupyter.widget-view+json": {
       "model_id": "f53b0cc36d254ac98d66db03a03cf492",
       "version_major": 2,
       "version_minor": 0
      },
      "text/plain": [
       "Running FOOOFGroup:   0%|          | 0/63 [00:00<?, ?it/s]"
      ]
     },
     "metadata": {},
     "output_type": "display_data"
    },
    {
     "name": "stdout",
     "output_type": "stream",
     "text": [
      "Reading /Users/stuartgow/GitHub/AI_Dissertation/EEG_Datasets_Source_x/ds004584-1.0.0/sub-057/eeg/sub-057_task-Rest_eeg.fdt\n",
      "Reading 0 ... 65889  =      0.000 ...   131.778 secs...\n",
      "Computing power spectrum using welch method...\n",
      "Effective window size : 4.096 (s)\n",
      "For Spectra Group:\n",
      "- 63 channels & 1020 frequencies\n",
      "- Frequency Range: 1 to 250 Hz\n",
      "- Frequency resolution 0.24 Hz\n",
      "Extracting Periodic & Aperiodic Components with Parameters:\n",
      "- Peak width limits: [1, 12]\n",
      "- Min peak height: 0.05\n",
      "- Max peaks: 25\n",
      "- Range: [1, 75]\n",
      "- Aperiodic Mode: fixed\n"
     ]
    },
    {
     "name": "stderr",
     "output_type": "stream",
     "text": [
      "/var/folders/wd/rhzj_w8570g_y66t6j6mh4zw0000gn/T/ipykernel_89708/1201790303.py:26: RuntimeWarning: The data contains 'boundary' events, indicating data discontinuities. Be cautious of filtering and epoching around these events.\n",
      "  eeg_dataset_raw = mne.io.read_raw_eeglab(eeg_lab_file_path, preload=True)\n"
     ]
    },
    {
     "data": {
      "application/vnd.jupyter.widget-view+json": {
       "model_id": "da95c48383234aceabe0458bf5f51b2c",
       "version_major": 2,
       "version_minor": 0
      },
      "text/plain": [
       "Running FOOOFGroup:   0%|          | 0/63 [00:00<?, ?it/s]"
      ]
     },
     "metadata": {},
     "output_type": "display_data"
    },
    {
     "name": "stdout",
     "output_type": "stream",
     "text": [
      "Reading /Users/stuartgow/GitHub/AI_Dissertation/EEG_Datasets_Source_x/ds004584-1.0.0/sub-058/eeg/sub-058_task-Rest_eeg.fdt\n",
      "Reading 0 ... 62559  =      0.000 ...   125.118 secs...\n",
      "Computing power spectrum using welch method...\n",
      "Effective window size : 4.096 (s)\n",
      "For Spectra Group:\n",
      "- 63 channels & 1020 frequencies\n",
      "- Frequency Range: 1 to 250 Hz\n",
      "- Frequency resolution 0.24 Hz\n",
      "Extracting Periodic & Aperiodic Components with Parameters:\n",
      "- Peak width limits: [1, 12]\n",
      "- Min peak height: 0.05\n",
      "- Max peaks: 25\n",
      "- Range: [1, 75]\n",
      "- Aperiodic Mode: fixed\n"
     ]
    },
    {
     "name": "stderr",
     "output_type": "stream",
     "text": [
      "/var/folders/wd/rhzj_w8570g_y66t6j6mh4zw0000gn/T/ipykernel_89708/1201790303.py:26: RuntimeWarning: The data contains 'boundary' events, indicating data discontinuities. Be cautious of filtering and epoching around these events.\n",
      "  eeg_dataset_raw = mne.io.read_raw_eeglab(eeg_lab_file_path, preload=True)\n"
     ]
    },
    {
     "data": {
      "application/vnd.jupyter.widget-view+json": {
       "model_id": "e32d115cba1149d9ba04e97657171b73",
       "version_major": 2,
       "version_minor": 0
      },
      "text/plain": [
       "Running FOOOFGroup:   0%|          | 0/63 [00:00<?, ?it/s]"
      ]
     },
     "metadata": {},
     "output_type": "display_data"
    },
    {
     "name": "stdout",
     "output_type": "stream",
     "text": [
      "Reading /Users/stuartgow/GitHub/AI_Dissertation/EEG_Datasets_Source_x/ds004584-1.0.0/sub-059/eeg/sub-059_task-Rest_eeg.fdt\n",
      "Reading 0 ... 67849  =      0.000 ...   135.698 secs...\n",
      "Computing power spectrum using welch method...\n",
      "Effective window size : 4.096 (s)\n",
      "For Spectra Group:\n",
      "- 63 channels & 1020 frequencies\n",
      "- Frequency Range: 1 to 250 Hz\n",
      "- Frequency resolution 0.24 Hz\n",
      "Extracting Periodic & Aperiodic Components with Parameters:\n",
      "- Peak width limits: [1, 12]\n",
      "- Min peak height: 0.05\n",
      "- Max peaks: 25\n",
      "- Range: [1, 75]\n",
      "- Aperiodic Mode: fixed\n"
     ]
    },
    {
     "name": "stderr",
     "output_type": "stream",
     "text": [
      "/var/folders/wd/rhzj_w8570g_y66t6j6mh4zw0000gn/T/ipykernel_89708/1201790303.py:26: RuntimeWarning: The data contains 'boundary' events, indicating data discontinuities. Be cautious of filtering and epoching around these events.\n",
      "  eeg_dataset_raw = mne.io.read_raw_eeglab(eeg_lab_file_path, preload=True)\n"
     ]
    },
    {
     "data": {
      "application/vnd.jupyter.widget-view+json": {
       "model_id": "3e70bf22544a483d9b4261943d6f4046",
       "version_major": 2,
       "version_minor": 0
      },
      "text/plain": [
       "Running FOOOFGroup:   0%|          | 0/63 [00:00<?, ?it/s]"
      ]
     },
     "metadata": {},
     "output_type": "display_data"
    },
    {
     "name": "stdout",
     "output_type": "stream",
     "text": [
      "Reading /Users/stuartgow/GitHub/AI_Dissertation/EEG_Datasets_Source_x/ds004584-1.0.0/sub-060/eeg/sub-060_task-Rest_eeg.fdt\n",
      "Reading 0 ... 73259  =      0.000 ...   146.518 secs...\n",
      "Computing power spectrum using welch method...\n",
      "Effective window size : 4.096 (s)\n",
      "For Spectra Group:\n",
      "- 63 channels & 1020 frequencies\n",
      "- Frequency Range: 1 to 250 Hz\n",
      "- Frequency resolution 0.24 Hz\n",
      "Extracting Periodic & Aperiodic Components with Parameters:\n",
      "- Peak width limits: [1, 12]\n",
      "- Min peak height: 0.05\n",
      "- Max peaks: 25\n",
      "- Range: [1, 75]\n",
      "- Aperiodic Mode: fixed\n"
     ]
    },
    {
     "name": "stderr",
     "output_type": "stream",
     "text": [
      "/var/folders/wd/rhzj_w8570g_y66t6j6mh4zw0000gn/T/ipykernel_89708/1201790303.py:26: RuntimeWarning: The data contains 'boundary' events, indicating data discontinuities. Be cautious of filtering and epoching around these events.\n",
      "  eeg_dataset_raw = mne.io.read_raw_eeglab(eeg_lab_file_path, preload=True)\n"
     ]
    },
    {
     "data": {
      "application/vnd.jupyter.widget-view+json": {
       "model_id": "8648ec87cd704f6a9fa334d65c83e3cb",
       "version_major": 2,
       "version_minor": 0
      },
      "text/plain": [
       "Running FOOOFGroup:   0%|          | 0/63 [00:00<?, ?it/s]"
      ]
     },
     "metadata": {},
     "output_type": "display_data"
    },
    {
     "name": "stdout",
     "output_type": "stream",
     "text": [
      "Reading /Users/stuartgow/GitHub/AI_Dissertation/EEG_Datasets_Source_x/ds004584-1.0.0/sub-061/eeg/sub-061_task-Rest_eeg.fdt\n",
      "Reading 0 ... 62499  =      0.000 ...   124.998 secs...\n",
      "Computing power spectrum using welch method...\n",
      "Effective window size : 4.096 (s)\n"
     ]
    },
    {
     "name": "stderr",
     "output_type": "stream",
     "text": [
      "/var/folders/wd/rhzj_w8570g_y66t6j6mh4zw0000gn/T/ipykernel_89708/1201790303.py:26: RuntimeWarning: The data contains 'boundary' events, indicating data discontinuities. Be cautious of filtering and epoching around these events.\n",
      "  eeg_dataset_raw = mne.io.read_raw_eeglab(eeg_lab_file_path, preload=True)\n"
     ]
    },
    {
     "name": "stdout",
     "output_type": "stream",
     "text": [
      "For Spectra Group:\n",
      "- 63 channels & 1020 frequencies\n",
      "- Frequency Range: 1 to 250 Hz\n",
      "- Frequency resolution 0.24 Hz\n",
      "Extracting Periodic & Aperiodic Components with Parameters:\n",
      "- Peak width limits: [1, 12]\n",
      "- Min peak height: 0.05\n",
      "- Max peaks: 25\n",
      "- Range: [1, 75]\n",
      "- Aperiodic Mode: fixed\n"
     ]
    },
    {
     "data": {
      "application/vnd.jupyter.widget-view+json": {
       "model_id": "3b1099545fcc463bbe036e7fbae0650e",
       "version_major": 2,
       "version_minor": 0
      },
      "text/plain": [
       "Running FOOOFGroup:   0%|          | 0/63 [00:00<?, ?it/s]"
      ]
     },
     "metadata": {},
     "output_type": "display_data"
    },
    {
     "name": "stdout",
     "output_type": "stream",
     "text": [
      "Reading /Users/stuartgow/GitHub/AI_Dissertation/EEG_Datasets_Source_x/ds004584-1.0.0/sub-062/eeg/sub-062_task-Rest_eeg.fdt\n",
      "Reading 0 ... 62539  =      0.000 ...   125.078 secs...\n",
      "Computing power spectrum using welch method...\n",
      "Effective window size : 4.096 (s)\n",
      "For Spectra Group:\n",
      "- 63 channels & 1020 frequencies\n",
      "- Frequency Range: 1 to 250 Hz\n",
      "- Frequency resolution 0.24 Hz\n",
      "Extracting Periodic & Aperiodic Components with Parameters:\n",
      "- Peak width limits: [1, 12]\n",
      "- Min peak height: 0.05\n",
      "- Max peaks: 25\n",
      "- Range: [1, 75]\n",
      "- Aperiodic Mode: fixed\n"
     ]
    },
    {
     "name": "stderr",
     "output_type": "stream",
     "text": [
      "/var/folders/wd/rhzj_w8570g_y66t6j6mh4zw0000gn/T/ipykernel_89708/1201790303.py:26: RuntimeWarning: The data contains 'boundary' events, indicating data discontinuities. Be cautious of filtering and epoching around these events.\n",
      "  eeg_dataset_raw = mne.io.read_raw_eeglab(eeg_lab_file_path, preload=True)\n"
     ]
    },
    {
     "data": {
      "application/vnd.jupyter.widget-view+json": {
       "model_id": "1ae781e791064ad6b7f595e592c6a118",
       "version_major": 2,
       "version_minor": 0
      },
      "text/plain": [
       "Running FOOOFGroup:   0%|          | 0/63 [00:00<?, ?it/s]"
      ]
     },
     "metadata": {},
     "output_type": "display_data"
    },
    {
     "name": "stdout",
     "output_type": "stream",
     "text": [
      "Reading /Users/stuartgow/GitHub/AI_Dissertation/EEG_Datasets_Source_x/ds004584-1.0.0/sub-063/eeg/sub-063_task-Rest_eeg.fdt\n",
      "Reading 0 ... 78169  =      0.000 ...   156.338 secs...\n",
      "Computing power spectrum using welch method...\n",
      "Effective window size : 4.096 (s)\n",
      "For Spectra Group:\n",
      "- 63 channels & 1020 frequencies\n",
      "- Frequency Range: 1 to 250 Hz\n",
      "- Frequency resolution 0.24 Hz\n",
      "Extracting Periodic & Aperiodic Components with Parameters:\n",
      "- Peak width limits: [1, 12]\n",
      "- Min peak height: 0.05\n",
      "- Max peaks: 25\n",
      "- Range: [1, 75]\n",
      "- Aperiodic Mode: fixed\n"
     ]
    },
    {
     "name": "stderr",
     "output_type": "stream",
     "text": [
      "/var/folders/wd/rhzj_w8570g_y66t6j6mh4zw0000gn/T/ipykernel_89708/1201790303.py:26: RuntimeWarning: The data contains 'boundary' events, indicating data discontinuities. Be cautious of filtering and epoching around these events.\n",
      "  eeg_dataset_raw = mne.io.read_raw_eeglab(eeg_lab_file_path, preload=True)\n"
     ]
    },
    {
     "data": {
      "application/vnd.jupyter.widget-view+json": {
       "model_id": "6b6d857612a64da2bb26391a824368b3",
       "version_major": 2,
       "version_minor": 0
      },
      "text/plain": [
       "Running FOOOFGroup:   0%|          | 0/63 [00:00<?, ?it/s]"
      ]
     },
     "metadata": {},
     "output_type": "display_data"
    },
    {
     "name": "stdout",
     "output_type": "stream",
     "text": [
      "Reading /Users/stuartgow/GitHub/AI_Dissertation/EEG_Datasets_Source_x/ds004584-1.0.0/sub-064/eeg/sub-064_task-Rest_eeg.fdt\n",
      "Reading 0 ... 80809  =      0.000 ...   161.618 secs...\n",
      "Computing power spectrum using welch method...\n",
      "Effective window size : 4.096 (s)\n",
      "For Spectra Group:\n",
      "- 63 channels & 1020 frequencies\n",
      "- Frequency Range: 1 to 250 Hz\n",
      "- Frequency resolution 0.24 Hz\n",
      "Extracting Periodic & Aperiodic Components with Parameters:\n",
      "- Peak width limits: [1, 12]\n",
      "- Min peak height: 0.05\n",
      "- Max peaks: 25\n",
      "- Range: [1, 75]\n",
      "- Aperiodic Mode: fixed\n"
     ]
    },
    {
     "name": "stderr",
     "output_type": "stream",
     "text": [
      "/var/folders/wd/rhzj_w8570g_y66t6j6mh4zw0000gn/T/ipykernel_89708/1201790303.py:26: RuntimeWarning: The data contains 'boundary' events, indicating data discontinuities. Be cautious of filtering and epoching around these events.\n",
      "  eeg_dataset_raw = mne.io.read_raw_eeglab(eeg_lab_file_path, preload=True)\n"
     ]
    },
    {
     "data": {
      "application/vnd.jupyter.widget-view+json": {
       "model_id": "65cd1ea117f948b896e149cec429f367",
       "version_major": 2,
       "version_minor": 0
      },
      "text/plain": [
       "Running FOOOFGroup:   0%|          | 0/63 [00:00<?, ?it/s]"
      ]
     },
     "metadata": {},
     "output_type": "display_data"
    },
    {
     "name": "stdout",
     "output_type": "stream",
     "text": [
      "Reading /Users/stuartgow/GitHub/AI_Dissertation/EEG_Datasets_Source_x/ds004584-1.0.0/sub-065/eeg/sub-065_task-Rest_eeg.fdt\n",
      "Reading 0 ... 61929  =      0.000 ...   123.858 secs...\n",
      "Computing power spectrum using welch method...\n",
      "Effective window size : 4.096 (s)\n"
     ]
    },
    {
     "name": "stderr",
     "output_type": "stream",
     "text": [
      "/var/folders/wd/rhzj_w8570g_y66t6j6mh4zw0000gn/T/ipykernel_89708/1201790303.py:26: RuntimeWarning: The data contains 'boundary' events, indicating data discontinuities. Be cautious of filtering and epoching around these events.\n",
      "  eeg_dataset_raw = mne.io.read_raw_eeglab(eeg_lab_file_path, preload=True)\n"
     ]
    },
    {
     "name": "stdout",
     "output_type": "stream",
     "text": [
      "For Spectra Group:\n",
      "- 64 channels & 1020 frequencies\n",
      "- Frequency Range: 1 to 250 Hz\n",
      "- Frequency resolution 0.24 Hz\n",
      "Extracting Periodic & Aperiodic Components with Parameters:\n",
      "- Peak width limits: [1, 12]\n",
      "- Min peak height: 0.05\n",
      "- Max peaks: 25\n",
      "- Range: [1, 75]\n",
      "- Aperiodic Mode: fixed\n"
     ]
    },
    {
     "data": {
      "application/vnd.jupyter.widget-view+json": {
       "model_id": "06cca04fdf5d4613be8558db2be712d6",
       "version_major": 2,
       "version_minor": 0
      },
      "text/plain": [
       "Running FOOOFGroup:   0%|          | 0/64 [00:00<?, ?it/s]"
      ]
     },
     "metadata": {},
     "output_type": "display_data"
    },
    {
     "name": "stdout",
     "output_type": "stream",
     "text": [
      "Reading /Users/stuartgow/GitHub/AI_Dissertation/EEG_Datasets_Source_x/ds004584-1.0.0/sub-066/eeg/sub-066_task-Rest_eeg.fdt\n",
      "Reading 0 ... 69309  =      0.000 ...   138.618 secs...\n",
      "Computing power spectrum using welch method...\n",
      "Effective window size : 4.096 (s)\n",
      "For Spectra Group:\n",
      "- 64 channels & 1020 frequencies\n",
      "- Frequency Range: 1 to 250 Hz\n",
      "- Frequency resolution 0.24 Hz\n",
      "Extracting Periodic & Aperiodic Components with Parameters:\n",
      "- Peak width limits: [1, 12]\n",
      "- Min peak height: 0.05\n",
      "- Max peaks: 25\n",
      "- Range: [1, 75]\n",
      "- Aperiodic Mode: fixed\n"
     ]
    },
    {
     "name": "stderr",
     "output_type": "stream",
     "text": [
      "/var/folders/wd/rhzj_w8570g_y66t6j6mh4zw0000gn/T/ipykernel_89708/1201790303.py:26: RuntimeWarning: The data contains 'boundary' events, indicating data discontinuities. Be cautious of filtering and epoching around these events.\n",
      "  eeg_dataset_raw = mne.io.read_raw_eeglab(eeg_lab_file_path, preload=True)\n"
     ]
    },
    {
     "data": {
      "application/vnd.jupyter.widget-view+json": {
       "model_id": "0a2f1145d3cf47bfbcde42728a4d0e65",
       "version_major": 2,
       "version_minor": 0
      },
      "text/plain": [
       "Running FOOOFGroup:   0%|          | 0/64 [00:00<?, ?it/s]"
      ]
     },
     "metadata": {},
     "output_type": "display_data"
    },
    {
     "name": "stdout",
     "output_type": "stream",
     "text": [
      "Reading /Users/stuartgow/GitHub/AI_Dissertation/EEG_Datasets_Source_x/ds004584-1.0.0/sub-067/eeg/sub-067_task-Rest_eeg.fdt\n",
      "Reading 0 ... 64349  =      0.000 ...   128.698 secs...\n",
      "Computing power spectrum using welch method...\n",
      "Effective window size : 4.096 (s)\n",
      "For Spectra Group:\n",
      "- 63 channels & 1020 frequencies\n",
      "- Frequency Range: 1 to 250 Hz\n",
      "- Frequency resolution 0.24 Hz\n",
      "Extracting Periodic & Aperiodic Components with Parameters:\n",
      "- Peak width limits: [1, 12]\n",
      "- Min peak height: 0.05\n",
      "- Max peaks: 25\n",
      "- Range: [1, 75]\n",
      "- Aperiodic Mode: fixed\n"
     ]
    },
    {
     "name": "stderr",
     "output_type": "stream",
     "text": [
      "/var/folders/wd/rhzj_w8570g_y66t6j6mh4zw0000gn/T/ipykernel_89708/1201790303.py:26: RuntimeWarning: The data contains 'boundary' events, indicating data discontinuities. Be cautious of filtering and epoching around these events.\n",
      "  eeg_dataset_raw = mne.io.read_raw_eeglab(eeg_lab_file_path, preload=True)\n"
     ]
    },
    {
     "data": {
      "application/vnd.jupyter.widget-view+json": {
       "model_id": "83020827975c42cbbdde39bd3793b5c5",
       "version_major": 2,
       "version_minor": 0
      },
      "text/plain": [
       "Running FOOOFGroup:   0%|          | 0/63 [00:00<?, ?it/s]"
      ]
     },
     "metadata": {},
     "output_type": "display_data"
    },
    {
     "name": "stdout",
     "output_type": "stream",
     "text": [
      "Reading /Users/stuartgow/GitHub/AI_Dissertation/EEG_Datasets_Source_x/ds004584-1.0.0/sub-068/eeg/sub-068_task-Rest_eeg.fdt\n",
      "Reading 0 ... 60849  =      0.000 ...   121.698 secs...\n",
      "Computing power spectrum using welch method...\n",
      "Effective window size : 4.096 (s)\n",
      "For Spectra Group:\n",
      "- 66 channels & 1020 frequencies\n",
      "- Frequency Range: 1 to 250 Hz\n",
      "- Frequency resolution 0.24 Hz\n",
      "Extracting Periodic & Aperiodic Components with Parameters:\n",
      "- Peak width limits: [1, 12]\n",
      "- Min peak height: 0.05\n",
      "- Max peaks: 25\n",
      "- Range: [1, 75]\n",
      "- Aperiodic Mode: fixed\n"
     ]
    },
    {
     "name": "stderr",
     "output_type": "stream",
     "text": [
      "/var/folders/wd/rhzj_w8570g_y66t6j6mh4zw0000gn/T/ipykernel_89708/1201790303.py:26: RuntimeWarning: The data contains 'boundary' events, indicating data discontinuities. Be cautious of filtering and epoching around these events.\n",
      "  eeg_dataset_raw = mne.io.read_raw_eeglab(eeg_lab_file_path, preload=True)\n"
     ]
    },
    {
     "data": {
      "application/vnd.jupyter.widget-view+json": {
       "model_id": "aadde5a3ee884805bddf417609707ca1",
       "version_major": 2,
       "version_minor": 0
      },
      "text/plain": [
       "Running FOOOFGroup:   0%|          | 0/66 [00:00<?, ?it/s]"
      ]
     },
     "metadata": {},
     "output_type": "display_data"
    },
    {
     "name": "stdout",
     "output_type": "stream",
     "text": [
      "Reading /Users/stuartgow/GitHub/AI_Dissertation/EEG_Datasets_Source_x/ds004584-1.0.0/sub-069/eeg/sub-069_task-Rest_eeg.fdt\n",
      "Reading 0 ... 63259  =      0.000 ...   126.518 secs...\n",
      "Computing power spectrum using welch method...\n",
      "Effective window size : 4.096 (s)\n",
      "For Spectra Group:\n",
      "- 64 channels & 1020 frequencies\n",
      "- Frequency Range: 1 to 250 Hz\n",
      "- Frequency resolution 0.24 Hz\n",
      "Extracting Periodic & Aperiodic Components with Parameters:\n",
      "- Peak width limits: [1, 12]\n",
      "- Min peak height: 0.05\n",
      "- Max peaks: 25\n",
      "- Range: [1, 75]\n",
      "- Aperiodic Mode: fixed\n"
     ]
    },
    {
     "name": "stderr",
     "output_type": "stream",
     "text": [
      "/var/folders/wd/rhzj_w8570g_y66t6j6mh4zw0000gn/T/ipykernel_89708/1201790303.py:26: RuntimeWarning: The data contains 'boundary' events, indicating data discontinuities. Be cautious of filtering and epoching around these events.\n",
      "  eeg_dataset_raw = mne.io.read_raw_eeglab(eeg_lab_file_path, preload=True)\n"
     ]
    },
    {
     "data": {
      "application/vnd.jupyter.widget-view+json": {
       "model_id": "04d3a8e6016e41ef8399e5d09122c7b2",
       "version_major": 2,
       "version_minor": 0
      },
      "text/plain": [
       "Running FOOOFGroup:   0%|          | 0/64 [00:00<?, ?it/s]"
      ]
     },
     "metadata": {},
     "output_type": "display_data"
    },
    {
     "name": "stdout",
     "output_type": "stream",
     "text": [
      "Reading /Users/stuartgow/GitHub/AI_Dissertation/EEG_Datasets_Source_x/ds004584-1.0.0/sub-070/eeg/sub-070_task-Rest_eeg.fdt\n",
      "Reading 0 ... 60689  =      0.000 ...   121.378 secs...\n",
      "Computing power spectrum using welch method...\n",
      "Effective window size : 4.096 (s)\n",
      "For Spectra Group:\n",
      "- 63 channels & 1020 frequencies\n",
      "- Frequency Range: 1 to 250 Hz\n",
      "- Frequency resolution 0.24 Hz\n",
      "Extracting Periodic & Aperiodic Components with Parameters:\n",
      "- Peak width limits: [1, 12]\n",
      "- Min peak height: 0.05\n",
      "- Max peaks: 25\n",
      "- Range: [1, 75]\n",
      "- Aperiodic Mode: fixed\n"
     ]
    },
    {
     "name": "stderr",
     "output_type": "stream",
     "text": [
      "/var/folders/wd/rhzj_w8570g_y66t6j6mh4zw0000gn/T/ipykernel_89708/1201790303.py:26: RuntimeWarning: The data contains 'boundary' events, indicating data discontinuities. Be cautious of filtering and epoching around these events.\n",
      "  eeg_dataset_raw = mne.io.read_raw_eeglab(eeg_lab_file_path, preload=True)\n"
     ]
    },
    {
     "data": {
      "application/vnd.jupyter.widget-view+json": {
       "model_id": "9b77c66a703d4352a06a12e05f6cc408",
       "version_major": 2,
       "version_minor": 0
      },
      "text/plain": [
       "Running FOOOFGroup:   0%|          | 0/63 [00:00<?, ?it/s]"
      ]
     },
     "metadata": {},
     "output_type": "display_data"
    },
    {
     "name": "stdout",
     "output_type": "stream",
     "text": [
      "Reading /Users/stuartgow/GitHub/AI_Dissertation/EEG_Datasets_Source_x/ds004584-1.0.0/sub-071/eeg/sub-071_task-Rest_eeg.fdt\n",
      "Reading 0 ... 68129  =      0.000 ...   136.258 secs...\n",
      "Computing power spectrum using welch method...\n",
      "Effective window size : 4.096 (s)\n"
     ]
    },
    {
     "name": "stderr",
     "output_type": "stream",
     "text": [
      "/var/folders/wd/rhzj_w8570g_y66t6j6mh4zw0000gn/T/ipykernel_89708/1201790303.py:26: RuntimeWarning: The data contains 'boundary' events, indicating data discontinuities. Be cautious of filtering and epoching around these events.\n",
      "  eeg_dataset_raw = mne.io.read_raw_eeglab(eeg_lab_file_path, preload=True)\n"
     ]
    },
    {
     "name": "stdout",
     "output_type": "stream",
     "text": [
      "For Spectra Group:\n",
      "- 63 channels & 1020 frequencies\n",
      "- Frequency Range: 1 to 250 Hz\n",
      "- Frequency resolution 0.24 Hz\n",
      "Extracting Periodic & Aperiodic Components with Parameters:\n",
      "- Peak width limits: [1, 12]\n",
      "- Min peak height: 0.05\n",
      "- Max peaks: 25\n",
      "- Range: [1, 75]\n",
      "- Aperiodic Mode: fixed\n"
     ]
    },
    {
     "data": {
      "application/vnd.jupyter.widget-view+json": {
       "model_id": "79fc70d3b9ca4ca0bc14dd3d0acc18e0",
       "version_major": 2,
       "version_minor": 0
      },
      "text/plain": [
       "Running FOOOFGroup:   0%|          | 0/63 [00:00<?, ?it/s]"
      ]
     },
     "metadata": {},
     "output_type": "display_data"
    },
    {
     "name": "stdout",
     "output_type": "stream",
     "text": [
      "Reading /Users/stuartgow/GitHub/AI_Dissertation/EEG_Datasets_Source_x/ds004584-1.0.0/sub-072/eeg/sub-072_task-Rest_eeg.fdt\n",
      "Reading 0 ... 75769  =      0.000 ...   151.538 secs...\n",
      "Computing power spectrum using welch method...\n",
      "Effective window size : 4.096 (s)\n",
      "For Spectra Group:\n",
      "- 63 channels & 1020 frequencies\n",
      "- Frequency Range: 1 to 250 Hz\n",
      "- Frequency resolution 0.24 Hz\n",
      "Extracting Periodic & Aperiodic Components with Parameters:\n",
      "- Peak width limits: [1, 12]\n",
      "- Min peak height: 0.05\n",
      "- Max peaks: 25\n",
      "- Range: [1, 75]\n",
      "- Aperiodic Mode: fixed\n"
     ]
    },
    {
     "name": "stderr",
     "output_type": "stream",
     "text": [
      "/var/folders/wd/rhzj_w8570g_y66t6j6mh4zw0000gn/T/ipykernel_89708/1201790303.py:26: RuntimeWarning: The data contains 'boundary' events, indicating data discontinuities. Be cautious of filtering and epoching around these events.\n",
      "  eeg_dataset_raw = mne.io.read_raw_eeglab(eeg_lab_file_path, preload=True)\n"
     ]
    },
    {
     "data": {
      "application/vnd.jupyter.widget-view+json": {
       "model_id": "035a413226a44658b73506b28302c5f0",
       "version_major": 2,
       "version_minor": 0
      },
      "text/plain": [
       "Running FOOOFGroup:   0%|          | 0/63 [00:00<?, ?it/s]"
      ]
     },
     "metadata": {},
     "output_type": "display_data"
    },
    {
     "name": "stdout",
     "output_type": "stream",
     "text": [
      "Reading /Users/stuartgow/GitHub/AI_Dissertation/EEG_Datasets_Source_x/ds004584-1.0.0/sub-073/eeg/sub-073_task-Rest_eeg.fdt\n",
      "Reading 0 ... 66689  =      0.000 ...   133.378 secs...\n",
      "Computing power spectrum using welch method...\n",
      "Effective window size : 4.096 (s)\n",
      "For Spectra Group:\n",
      "- 63 channels & 1020 frequencies\n",
      "- Frequency Range: 1 to 250 Hz\n",
      "- Frequency resolution 0.24 Hz\n",
      "Extracting Periodic & Aperiodic Components with Parameters:\n",
      "- Peak width limits: [1, 12]\n",
      "- Min peak height: 0.05\n",
      "- Max peaks: 25\n",
      "- Range: [1, 75]\n",
      "- Aperiodic Mode: fixed\n"
     ]
    },
    {
     "name": "stderr",
     "output_type": "stream",
     "text": [
      "/var/folders/wd/rhzj_w8570g_y66t6j6mh4zw0000gn/T/ipykernel_89708/1201790303.py:26: RuntimeWarning: The data contains 'boundary' events, indicating data discontinuities. Be cautious of filtering and epoching around these events.\n",
      "  eeg_dataset_raw = mne.io.read_raw_eeglab(eeg_lab_file_path, preload=True)\n"
     ]
    },
    {
     "data": {
      "application/vnd.jupyter.widget-view+json": {
       "model_id": "f321580af2294291b6b8d3ea08a2a199",
       "version_major": 2,
       "version_minor": 0
      },
      "text/plain": [
       "Running FOOOFGroup:   0%|          | 0/63 [00:00<?, ?it/s]"
      ]
     },
     "metadata": {},
     "output_type": "display_data"
    },
    {
     "name": "stdout",
     "output_type": "stream",
     "text": [
      "Reading /Users/stuartgow/GitHub/AI_Dissertation/EEG_Datasets_Source_x/ds004584-1.0.0/sub-074/eeg/sub-074_task-Rest_eeg.fdt\n",
      "Reading 0 ... 69949  =      0.000 ...   139.898 secs...\n",
      "Computing power spectrum using welch method...\n",
      "Effective window size : 4.096 (s)\n"
     ]
    },
    {
     "name": "stderr",
     "output_type": "stream",
     "text": [
      "/var/folders/wd/rhzj_w8570g_y66t6j6mh4zw0000gn/T/ipykernel_89708/1201790303.py:26: RuntimeWarning: The data contains 'boundary' events, indicating data discontinuities. Be cautious of filtering and epoching around these events.\n",
      "  eeg_dataset_raw = mne.io.read_raw_eeglab(eeg_lab_file_path, preload=True)\n"
     ]
    },
    {
     "name": "stdout",
     "output_type": "stream",
     "text": [
      "For Spectra Group:\n",
      "- 63 channels & 1020 frequencies\n",
      "- Frequency Range: 1 to 250 Hz\n",
      "- Frequency resolution 0.24 Hz\n",
      "Extracting Periodic & Aperiodic Components with Parameters:\n",
      "- Peak width limits: [1, 12]\n",
      "- Min peak height: 0.05\n",
      "- Max peaks: 25\n",
      "- Range: [1, 75]\n",
      "- Aperiodic Mode: fixed\n"
     ]
    },
    {
     "data": {
      "application/vnd.jupyter.widget-view+json": {
       "model_id": "5e8eb58915c543bbb8d90bcbcdc4aedb",
       "version_major": 2,
       "version_minor": 0
      },
      "text/plain": [
       "Running FOOOFGroup:   0%|          | 0/63 [00:00<?, ?it/s]"
      ]
     },
     "metadata": {},
     "output_type": "display_data"
    },
    {
     "name": "stdout",
     "output_type": "stream",
     "text": [
      "Reading /Users/stuartgow/GitHub/AI_Dissertation/EEG_Datasets_Source_x/ds004584-1.0.0/sub-075/eeg/sub-075_task-Rest_eeg.fdt\n",
      "Reading 0 ... 65809  =      0.000 ...   131.618 secs...\n",
      "Computing power spectrum using welch method...\n",
      "Effective window size : 4.096 (s)\n",
      "For Spectra Group:\n",
      "- 63 channels & 1020 frequencies\n",
      "- Frequency Range: 1 to 250 Hz\n",
      "- Frequency resolution 0.24 Hz\n",
      "Extracting Periodic & Aperiodic Components with Parameters:\n",
      "- Peak width limits: [1, 12]\n",
      "- Min peak height: 0.05\n",
      "- Max peaks: 25\n",
      "- Range: [1, 75]\n",
      "- Aperiodic Mode: fixed\n"
     ]
    },
    {
     "name": "stderr",
     "output_type": "stream",
     "text": [
      "/var/folders/wd/rhzj_w8570g_y66t6j6mh4zw0000gn/T/ipykernel_89708/1201790303.py:26: RuntimeWarning: The data contains 'boundary' events, indicating data discontinuities. Be cautious of filtering and epoching around these events.\n",
      "  eeg_dataset_raw = mne.io.read_raw_eeglab(eeg_lab_file_path, preload=True)\n"
     ]
    },
    {
     "data": {
      "application/vnd.jupyter.widget-view+json": {
       "model_id": "dc2185c211554d0fae269ce043d2146e",
       "version_major": 2,
       "version_minor": 0
      },
      "text/plain": [
       "Running FOOOFGroup:   0%|          | 0/63 [00:00<?, ?it/s]"
      ]
     },
     "metadata": {},
     "output_type": "display_data"
    },
    {
     "name": "stdout",
     "output_type": "stream",
     "text": [
      "Reading /Users/stuartgow/GitHub/AI_Dissertation/EEG_Datasets_Source_x/ds004584-1.0.0/sub-076/eeg/sub-076_task-Rest_eeg.fdt\n",
      "Reading 0 ... 66049  =      0.000 ...   132.098 secs...\n",
      "Computing power spectrum using welch method...\n",
      "Effective window size : 4.096 (s)\n",
      "For Spectra Group:\n",
      "- 63 channels & 1020 frequencies\n",
      "- Frequency Range: 1 to 250 Hz\n",
      "- Frequency resolution 0.24 Hz\n",
      "Extracting Periodic & Aperiodic Components with Parameters:\n",
      "- Peak width limits: [1, 12]\n",
      "- Min peak height: 0.05\n",
      "- Max peaks: 25\n",
      "- Range: [1, 75]\n",
      "- Aperiodic Mode: fixed\n"
     ]
    },
    {
     "name": "stderr",
     "output_type": "stream",
     "text": [
      "/var/folders/wd/rhzj_w8570g_y66t6j6mh4zw0000gn/T/ipykernel_89708/1201790303.py:26: RuntimeWarning: The data contains 'boundary' events, indicating data discontinuities. Be cautious of filtering and epoching around these events.\n",
      "  eeg_dataset_raw = mne.io.read_raw_eeglab(eeg_lab_file_path, preload=True)\n"
     ]
    },
    {
     "data": {
      "application/vnd.jupyter.widget-view+json": {
       "model_id": "5564788caa5a4202b99702b6b4cfd424",
       "version_major": 2,
       "version_minor": 0
      },
      "text/plain": [
       "Running FOOOFGroup:   0%|          | 0/63 [00:00<?, ?it/s]"
      ]
     },
     "metadata": {},
     "output_type": "display_data"
    },
    {
     "name": "stdout",
     "output_type": "stream",
     "text": [
      "Reading /Users/stuartgow/GitHub/AI_Dissertation/EEG_Datasets_Source_x/ds004584-1.0.0/sub-077/eeg/sub-077_task-Rest_eeg.fdt\n",
      "Reading 0 ... 81119  =      0.000 ...   162.238 secs...\n",
      "Computing power spectrum using welch method...\n",
      "Effective window size : 4.096 (s)\n",
      "For Spectra Group:\n",
      "- 64 channels & 1020 frequencies\n",
      "- Frequency Range: 1 to 250 Hz\n",
      "- Frequency resolution 0.24 Hz\n",
      "Extracting Periodic & Aperiodic Components with Parameters:\n",
      "- Peak width limits: [1, 12]\n",
      "- Min peak height: 0.05\n",
      "- Max peaks: 25\n",
      "- Range: [1, 75]\n",
      "- Aperiodic Mode: fixed\n"
     ]
    },
    {
     "name": "stderr",
     "output_type": "stream",
     "text": [
      "/var/folders/wd/rhzj_w8570g_y66t6j6mh4zw0000gn/T/ipykernel_89708/1201790303.py:26: RuntimeWarning: The data contains 'boundary' events, indicating data discontinuities. Be cautious of filtering and epoching around these events.\n",
      "  eeg_dataset_raw = mne.io.read_raw_eeglab(eeg_lab_file_path, preload=True)\n"
     ]
    },
    {
     "data": {
      "application/vnd.jupyter.widget-view+json": {
       "model_id": "78807644ea3e4947814771de2a1900b8",
       "version_major": 2,
       "version_minor": 0
      },
      "text/plain": [
       "Running FOOOFGroup:   0%|          | 0/64 [00:00<?, ?it/s]"
      ]
     },
     "metadata": {},
     "output_type": "display_data"
    },
    {
     "name": "stdout",
     "output_type": "stream",
     "text": [
      "Reading /Users/stuartgow/GitHub/AI_Dissertation/EEG_Datasets_Source_x/ds004584-1.0.0/sub-078/eeg/sub-078_task-Rest_eeg.fdt\n",
      "Reading 0 ... 72929  =      0.000 ...   145.858 secs...\n",
      "Computing power spectrum using welch method...\n",
      "Effective window size : 4.096 (s)\n",
      "For Spectra Group:\n",
      "- 64 channels & 1020 frequencies\n",
      "- Frequency Range: 1 to 250 Hz\n",
      "- Frequency resolution 0.24 Hz\n",
      "Extracting Periodic & Aperiodic Components with Parameters:\n",
      "- Peak width limits: [1, 12]\n",
      "- Min peak height: 0.05\n",
      "- Max peaks: 25\n",
      "- Range: [1, 75]\n",
      "- Aperiodic Mode: fixed\n"
     ]
    },
    {
     "name": "stderr",
     "output_type": "stream",
     "text": [
      "/var/folders/wd/rhzj_w8570g_y66t6j6mh4zw0000gn/T/ipykernel_89708/1201790303.py:26: RuntimeWarning: The data contains 'boundary' events, indicating data discontinuities. Be cautious of filtering and epoching around these events.\n",
      "  eeg_dataset_raw = mne.io.read_raw_eeglab(eeg_lab_file_path, preload=True)\n"
     ]
    },
    {
     "data": {
      "application/vnd.jupyter.widget-view+json": {
       "model_id": "eef11f66b93b4edeba1b91a624b264e5",
       "version_major": 2,
       "version_minor": 0
      },
      "text/plain": [
       "Running FOOOFGroup:   0%|          | 0/64 [00:00<?, ?it/s]"
      ]
     },
     "metadata": {},
     "output_type": "display_data"
    },
    {
     "name": "stdout",
     "output_type": "stream",
     "text": [
      "Reading /Users/stuartgow/GitHub/AI_Dissertation/EEG_Datasets_Source_x/ds004584-1.0.0/sub-079/eeg/sub-079_task-Rest_eeg.fdt\n",
      "Reading 0 ... 79469  =      0.000 ...   158.938 secs...\n",
      "Computing power spectrum using welch method...\n",
      "Effective window size : 4.096 (s)\n",
      "For Spectra Group:\n",
      "- 64 channels & 1020 frequencies\n",
      "- Frequency Range: 1 to 250 Hz\n",
      "- Frequency resolution 0.24 Hz\n",
      "Extracting Periodic & Aperiodic Components with Parameters:\n",
      "- Peak width limits: [1, 12]\n",
      "- Min peak height: 0.05\n",
      "- Max peaks: 25\n",
      "- Range: [1, 75]\n",
      "- Aperiodic Mode: fixed\n"
     ]
    },
    {
     "name": "stderr",
     "output_type": "stream",
     "text": [
      "/var/folders/wd/rhzj_w8570g_y66t6j6mh4zw0000gn/T/ipykernel_89708/1201790303.py:26: RuntimeWarning: The data contains 'boundary' events, indicating data discontinuities. Be cautious of filtering and epoching around these events.\n",
      "  eeg_dataset_raw = mne.io.read_raw_eeglab(eeg_lab_file_path, preload=True)\n"
     ]
    },
    {
     "data": {
      "application/vnd.jupyter.widget-view+json": {
       "model_id": "21e0a21e0a99428281f6512a20b04c10",
       "version_major": 2,
       "version_minor": 0
      },
      "text/plain": [
       "Running FOOOFGroup:   0%|          | 0/64 [00:00<?, ?it/s]"
      ]
     },
     "metadata": {},
     "output_type": "display_data"
    },
    {
     "name": "stdout",
     "output_type": "stream",
     "text": [
      "Model fitting was unsuccessful.\n",
      "Reading /Users/stuartgow/GitHub/AI_Dissertation/EEG_Datasets_Source_x/ds004584-1.0.0/sub-080/eeg/sub-080_task-Rest_eeg.fdt\n",
      "Reading 0 ... 73569  =      0.000 ...   147.138 secs...\n",
      "Computing power spectrum using welch method...\n",
      "Effective window size : 4.096 (s)\n",
      "For Spectra Group:\n",
      "- 63 channels & 1020 frequencies\n",
      "- Frequency Range: 1 to 250 Hz\n",
      "- Frequency resolution 0.24 Hz\n",
      "Extracting Periodic & Aperiodic Components with Parameters:\n",
      "- Peak width limits: [1, 12]\n",
      "- Min peak height: 0.05\n",
      "- Max peaks: 25\n",
      "- Range: [1, 75]\n",
      "- Aperiodic Mode: fixed\n"
     ]
    },
    {
     "name": "stderr",
     "output_type": "stream",
     "text": [
      "/var/folders/wd/rhzj_w8570g_y66t6j6mh4zw0000gn/T/ipykernel_89708/1201790303.py:26: RuntimeWarning: The data contains 'boundary' events, indicating data discontinuities. Be cautious of filtering and epoching around these events.\n",
      "  eeg_dataset_raw = mne.io.read_raw_eeglab(eeg_lab_file_path, preload=True)\n"
     ]
    },
    {
     "data": {
      "application/vnd.jupyter.widget-view+json": {
       "model_id": "a06e3dbc713a440f802a8c6a727d123c",
       "version_major": 2,
       "version_minor": 0
      },
      "text/plain": [
       "Running FOOOFGroup:   0%|          | 0/63 [00:00<?, ?it/s]"
      ]
     },
     "metadata": {},
     "output_type": "display_data"
    },
    {
     "name": "stdout",
     "output_type": "stream",
     "text": [
      "Reading /Users/stuartgow/GitHub/AI_Dissertation/EEG_Datasets_Source_x/ds004584-1.0.0/sub-081/eeg/sub-081_task-Rest_eeg.fdt\n",
      "Reading 0 ... 65499  =      0.000 ...   130.998 secs...\n",
      "Computing power spectrum using welch method...\n",
      "Effective window size : 4.096 (s)\n",
      "For Spectra Group:\n",
      "- 63 channels & 1020 frequencies\n",
      "- Frequency Range: 1 to 250 Hz\n",
      "- Frequency resolution 0.24 Hz\n",
      "Extracting Periodic & Aperiodic Components with Parameters:\n",
      "- Peak width limits: [1, 12]\n",
      "- Min peak height: 0.05\n",
      "- Max peaks: 25\n",
      "- Range: [1, 75]\n",
      "- Aperiodic Mode: fixed\n"
     ]
    },
    {
     "name": "stderr",
     "output_type": "stream",
     "text": [
      "/var/folders/wd/rhzj_w8570g_y66t6j6mh4zw0000gn/T/ipykernel_89708/1201790303.py:26: RuntimeWarning: The data contains 'boundary' events, indicating data discontinuities. Be cautious of filtering and epoching around these events.\n",
      "  eeg_dataset_raw = mne.io.read_raw_eeglab(eeg_lab_file_path, preload=True)\n"
     ]
    },
    {
     "data": {
      "application/vnd.jupyter.widget-view+json": {
       "model_id": "7371dd18f26243e798f13f19365f94de",
       "version_major": 2,
       "version_minor": 0
      },
      "text/plain": [
       "Running FOOOFGroup:   0%|          | 0/63 [00:00<?, ?it/s]"
      ]
     },
     "metadata": {},
     "output_type": "display_data"
    },
    {
     "name": "stdout",
     "output_type": "stream",
     "text": [
      "Reading /Users/stuartgow/GitHub/AI_Dissertation/EEG_Datasets_Source_x/ds004584-1.0.0/sub-082/eeg/sub-082_task-Rest_eeg.fdt\n",
      "Reading 0 ... 80309  =      0.000 ...   160.618 secs...\n",
      "Computing power spectrum using welch method...\n",
      "Effective window size : 4.096 (s)\n",
      "For Spectra Group:\n",
      "- 63 channels & 1020 frequencies\n",
      "- Frequency Range: 1 to 250 Hz\n",
      "- Frequency resolution 0.24 Hz\n",
      "Extracting Periodic & Aperiodic Components with Parameters:\n",
      "- Peak width limits: [1, 12]\n",
      "- Min peak height: 0.05\n",
      "- Max peaks: 25\n",
      "- Range: [1, 75]\n",
      "- Aperiodic Mode: fixed\n"
     ]
    },
    {
     "name": "stderr",
     "output_type": "stream",
     "text": [
      "/var/folders/wd/rhzj_w8570g_y66t6j6mh4zw0000gn/T/ipykernel_89708/1201790303.py:26: RuntimeWarning: The data contains 'boundary' events, indicating data discontinuities. Be cautious of filtering and epoching around these events.\n",
      "  eeg_dataset_raw = mne.io.read_raw_eeglab(eeg_lab_file_path, preload=True)\n"
     ]
    },
    {
     "data": {
      "application/vnd.jupyter.widget-view+json": {
       "model_id": "bd349df937004820b47dc9cd2e26cf4a",
       "version_major": 2,
       "version_minor": 0
      },
      "text/plain": [
       "Running FOOOFGroup:   0%|          | 0/63 [00:00<?, ?it/s]"
      ]
     },
     "metadata": {},
     "output_type": "display_data"
    },
    {
     "name": "stdout",
     "output_type": "stream",
     "text": [
      "Reading /Users/stuartgow/GitHub/AI_Dissertation/EEG_Datasets_Source_x/ds004584-1.0.0/sub-083/eeg/sub-083_task-Rest_eeg.fdt\n",
      "Reading 0 ... 91629  =      0.000 ...   183.258 secs...\n",
      "Computing power spectrum using welch method...\n",
      "Effective window size : 4.096 (s)\n",
      "For Spectra Group:\n",
      "- 63 channels & 1020 frequencies\n",
      "- Frequency Range: 1 to 250 Hz\n",
      "- Frequency resolution 0.24 Hz\n",
      "Extracting Periodic & Aperiodic Components with Parameters:\n",
      "- Peak width limits: [1, 12]\n",
      "- Min peak height: 0.05\n",
      "- Max peaks: 25\n",
      "- Range: [1, 75]\n",
      "- Aperiodic Mode: fixed\n"
     ]
    },
    {
     "name": "stderr",
     "output_type": "stream",
     "text": [
      "/var/folders/wd/rhzj_w8570g_y66t6j6mh4zw0000gn/T/ipykernel_89708/1201790303.py:26: RuntimeWarning: The data contains 'boundary' events, indicating data discontinuities. Be cautious of filtering and epoching around these events.\n",
      "  eeg_dataset_raw = mne.io.read_raw_eeglab(eeg_lab_file_path, preload=True)\n"
     ]
    },
    {
     "data": {
      "application/vnd.jupyter.widget-view+json": {
       "model_id": "0507b4f3c23c4809ada244b5296a2d4c",
       "version_major": 2,
       "version_minor": 0
      },
      "text/plain": [
       "Running FOOOFGroup:   0%|          | 0/63 [00:00<?, ?it/s]"
      ]
     },
     "metadata": {},
     "output_type": "display_data"
    },
    {
     "name": "stdout",
     "output_type": "stream",
     "text": [
      "Reading /Users/stuartgow/GitHub/AI_Dissertation/EEG_Datasets_Source_x/ds004584-1.0.0/sub-084/eeg/sub-084_task-Rest_eeg.fdt\n",
      "Reading 0 ... 62729  =      0.000 ...   125.458 secs...\n",
      "Computing power spectrum using welch method...\n",
      "Effective window size : 4.096 (s)\n",
      "For Spectra Group:\n",
      "- 63 channels & 1020 frequencies\n",
      "- Frequency Range: 1 to 250 Hz\n",
      "- Frequency resolution 0.24 Hz\n",
      "Extracting Periodic & Aperiodic Components with Parameters:\n",
      "- Peak width limits: [1, 12]\n",
      "- Min peak height: 0.05\n",
      "- Max peaks: 25\n",
      "- Range: [1, 75]\n",
      "- Aperiodic Mode: fixed\n"
     ]
    },
    {
     "name": "stderr",
     "output_type": "stream",
     "text": [
      "/var/folders/wd/rhzj_w8570g_y66t6j6mh4zw0000gn/T/ipykernel_89708/1201790303.py:26: RuntimeWarning: The data contains 'boundary' events, indicating data discontinuities. Be cautious of filtering and epoching around these events.\n",
      "  eeg_dataset_raw = mne.io.read_raw_eeglab(eeg_lab_file_path, preload=True)\n"
     ]
    },
    {
     "data": {
      "application/vnd.jupyter.widget-view+json": {
       "model_id": "8834dae8faad4b8b8e09f5cab7186a85",
       "version_major": 2,
       "version_minor": 0
      },
      "text/plain": [
       "Running FOOOFGroup:   0%|          | 0/63 [00:00<?, ?it/s]"
      ]
     },
     "metadata": {},
     "output_type": "display_data"
    },
    {
     "name": "stdout",
     "output_type": "stream",
     "text": [
      "Reading /Users/stuartgow/GitHub/AI_Dissertation/EEG_Datasets_Source_x/ds004584-1.0.0/sub-085/eeg/sub-085_task-Rest_eeg.fdt\n",
      "Reading 0 ... 63599  =      0.000 ...   127.198 secs...\n",
      "Computing power spectrum using welch method...\n",
      "Effective window size : 4.096 (s)\n",
      "For Spectra Group:\n",
      "- 63 channels & 1020 frequencies\n",
      "- Frequency Range: 1 to 250 Hz\n",
      "- Frequency resolution 0.24 Hz\n",
      "Extracting Periodic & Aperiodic Components with Parameters:\n",
      "- Peak width limits: [1, 12]\n",
      "- Min peak height: 0.05\n",
      "- Max peaks: 25\n",
      "- Range: [1, 75]\n",
      "- Aperiodic Mode: fixed\n"
     ]
    },
    {
     "name": "stderr",
     "output_type": "stream",
     "text": [
      "/var/folders/wd/rhzj_w8570g_y66t6j6mh4zw0000gn/T/ipykernel_89708/1201790303.py:26: RuntimeWarning: The data contains 'boundary' events, indicating data discontinuities. Be cautious of filtering and epoching around these events.\n",
      "  eeg_dataset_raw = mne.io.read_raw_eeglab(eeg_lab_file_path, preload=True)\n"
     ]
    },
    {
     "data": {
      "application/vnd.jupyter.widget-view+json": {
       "model_id": "b6fbef1918d4435d9c20b65cb041b8c3",
       "version_major": 2,
       "version_minor": 0
      },
      "text/plain": [
       "Running FOOOFGroup:   0%|          | 0/63 [00:00<?, ?it/s]"
      ]
     },
     "metadata": {},
     "output_type": "display_data"
    },
    {
     "name": "stdout",
     "output_type": "stream",
     "text": [
      "Reading /Users/stuartgow/GitHub/AI_Dissertation/EEG_Datasets_Source_x/ds004584-1.0.0/sub-086/eeg/sub-086_task-Rest_eeg.fdt\n",
      "Reading 0 ... 77579  =      0.000 ...   155.158 secs...\n",
      "Computing power spectrum using welch method...\n",
      "Effective window size : 4.096 (s)\n",
      "For Spectra Group:\n",
      "- 63 channels & 1020 frequencies\n",
      "- Frequency Range: 1 to 250 Hz\n",
      "- Frequency resolution 0.24 Hz\n",
      "Extracting Periodic & Aperiodic Components with Parameters:\n",
      "- Peak width limits: [1, 12]\n",
      "- Min peak height: 0.05\n",
      "- Max peaks: 25\n",
      "- Range: [1, 75]\n",
      "- Aperiodic Mode: fixed\n"
     ]
    },
    {
     "name": "stderr",
     "output_type": "stream",
     "text": [
      "/var/folders/wd/rhzj_w8570g_y66t6j6mh4zw0000gn/T/ipykernel_89708/1201790303.py:26: RuntimeWarning: The data contains 'boundary' events, indicating data discontinuities. Be cautious of filtering and epoching around these events.\n",
      "  eeg_dataset_raw = mne.io.read_raw_eeglab(eeg_lab_file_path, preload=True)\n"
     ]
    },
    {
     "data": {
      "application/vnd.jupyter.widget-view+json": {
       "model_id": "00a9551b88f345059cf2ecb31a44df49",
       "version_major": 2,
       "version_minor": 0
      },
      "text/plain": [
       "Running FOOOFGroup:   0%|          | 0/63 [00:00<?, ?it/s]"
      ]
     },
     "metadata": {},
     "output_type": "display_data"
    },
    {
     "name": "stdout",
     "output_type": "stream",
     "text": [
      "Reading /Users/stuartgow/GitHub/AI_Dissertation/EEG_Datasets_Source_x/ds004584-1.0.0/sub-087/eeg/sub-087_task-Rest_eeg.fdt\n",
      "Reading 0 ... 63359  =      0.000 ...   126.718 secs...\n",
      "Computing power spectrum using welch method...\n",
      "Effective window size : 4.096 (s)\n",
      "For Spectra Group:\n",
      "- 63 channels & 1020 frequencies\n",
      "- Frequency Range: 1 to 250 Hz\n",
      "- Frequency resolution 0.24 Hz\n",
      "Extracting Periodic & Aperiodic Components with Parameters:\n",
      "- Peak width limits: [1, 12]\n",
      "- Min peak height: 0.05\n",
      "- Max peaks: 25\n",
      "- Range: [1, 75]\n",
      "- Aperiodic Mode: fixed\n"
     ]
    },
    {
     "name": "stderr",
     "output_type": "stream",
     "text": [
      "/var/folders/wd/rhzj_w8570g_y66t6j6mh4zw0000gn/T/ipykernel_89708/1201790303.py:26: RuntimeWarning: The data contains 'boundary' events, indicating data discontinuities. Be cautious of filtering and epoching around these events.\n",
      "  eeg_dataset_raw = mne.io.read_raw_eeglab(eeg_lab_file_path, preload=True)\n"
     ]
    },
    {
     "data": {
      "application/vnd.jupyter.widget-view+json": {
       "model_id": "54bfd1e265b544659ffae4624ad45733",
       "version_major": 2,
       "version_minor": 0
      },
      "text/plain": [
       "Running FOOOFGroup:   0%|          | 0/63 [00:00<?, ?it/s]"
      ]
     },
     "metadata": {},
     "output_type": "display_data"
    },
    {
     "name": "stdout",
     "output_type": "stream",
     "text": [
      "Reading /Users/stuartgow/GitHub/AI_Dissertation/EEG_Datasets_Source_x/ds004584-1.0.0/sub-088/eeg/sub-088_task-Rest_eeg.fdt\n",
      "Reading 0 ... 60659  =      0.000 ...   121.318 secs...\n",
      "Computing power spectrum using welch method...\n",
      "Effective window size : 4.096 (s)\n",
      "For Spectra Group:\n",
      "- 63 channels & 1020 frequencies\n",
      "- Frequency Range: 1 to 250 Hz\n",
      "- Frequency resolution 0.24 Hz\n",
      "Extracting Periodic & Aperiodic Components with Parameters:\n",
      "- Peak width limits: [1, 12]\n",
      "- Min peak height: 0.05\n",
      "- Max peaks: 25\n",
      "- Range: [1, 75]\n",
      "- Aperiodic Mode: fixed\n"
     ]
    },
    {
     "name": "stderr",
     "output_type": "stream",
     "text": [
      "/var/folders/wd/rhzj_w8570g_y66t6j6mh4zw0000gn/T/ipykernel_89708/1201790303.py:26: RuntimeWarning: The data contains 'boundary' events, indicating data discontinuities. Be cautious of filtering and epoching around these events.\n",
      "  eeg_dataset_raw = mne.io.read_raw_eeglab(eeg_lab_file_path, preload=True)\n"
     ]
    },
    {
     "data": {
      "application/vnd.jupyter.widget-view+json": {
       "model_id": "f5f115a41f754e8a849192d21ba17c82",
       "version_major": 2,
       "version_minor": 0
      },
      "text/plain": [
       "Running FOOOFGroup:   0%|          | 0/63 [00:00<?, ?it/s]"
      ]
     },
     "metadata": {},
     "output_type": "display_data"
    },
    {
     "name": "stdout",
     "output_type": "stream",
     "text": [
      "Model fitting was unsuccessful.\n",
      "Reading /Users/stuartgow/GitHub/AI_Dissertation/EEG_Datasets_Source_x/ds004584-1.0.0/sub-089/eeg/sub-089_task-Rest_eeg.fdt\n",
      "Reading 0 ... 78439  =      0.000 ...   156.878 secs...\n",
      "Computing power spectrum using welch method...\n",
      "Effective window size : 4.096 (s)\n",
      "For Spectra Group:\n",
      "- 64 channels & 1020 frequencies\n",
      "- Frequency Range: 1 to 250 Hz\n",
      "- Frequency resolution 0.24 Hz\n",
      "Extracting Periodic & Aperiodic Components with Parameters:\n",
      "- Peak width limits: [1, 12]\n",
      "- Min peak height: 0.05\n",
      "- Max peaks: 25\n",
      "- Range: [1, 75]\n",
      "- Aperiodic Mode: fixed\n"
     ]
    },
    {
     "name": "stderr",
     "output_type": "stream",
     "text": [
      "/var/folders/wd/rhzj_w8570g_y66t6j6mh4zw0000gn/T/ipykernel_89708/1201790303.py:26: RuntimeWarning: The data contains 'boundary' events, indicating data discontinuities. Be cautious of filtering and epoching around these events.\n",
      "  eeg_dataset_raw = mne.io.read_raw_eeglab(eeg_lab_file_path, preload=True)\n"
     ]
    },
    {
     "data": {
      "application/vnd.jupyter.widget-view+json": {
       "model_id": "451e7ffb9ca24969ae82986190b476a6",
       "version_major": 2,
       "version_minor": 0
      },
      "text/plain": [
       "Running FOOOFGroup:   0%|          | 0/64 [00:00<?, ?it/s]"
      ]
     },
     "metadata": {},
     "output_type": "display_data"
    },
    {
     "name": "stdout",
     "output_type": "stream",
     "text": [
      "Reading /Users/stuartgow/GitHub/AI_Dissertation/EEG_Datasets_Source_x/ds004584-1.0.0/sub-090/eeg/sub-090_task-Rest_eeg.fdt\n",
      "Reading 0 ... 70909  =      0.000 ...   141.818 secs...\n",
      "Computing power spectrum using welch method...\n",
      "Effective window size : 4.096 (s)\n",
      "For Spectra Group:\n",
      "- 64 channels & 1020 frequencies\n",
      "- Frequency Range: 1 to 250 Hz\n",
      "- Frequency resolution 0.24 Hz\n",
      "Extracting Periodic & Aperiodic Components with Parameters:\n",
      "- Peak width limits: [1, 12]\n",
      "- Min peak height: 0.05\n",
      "- Max peaks: 25\n",
      "- Range: [1, 75]\n",
      "- Aperiodic Mode: fixed\n"
     ]
    },
    {
     "name": "stderr",
     "output_type": "stream",
     "text": [
      "/var/folders/wd/rhzj_w8570g_y66t6j6mh4zw0000gn/T/ipykernel_89708/1201790303.py:26: RuntimeWarning: The data contains 'boundary' events, indicating data discontinuities. Be cautious of filtering and epoching around these events.\n",
      "  eeg_dataset_raw = mne.io.read_raw_eeglab(eeg_lab_file_path, preload=True)\n"
     ]
    },
    {
     "data": {
      "application/vnd.jupyter.widget-view+json": {
       "model_id": "e4a9680c9d3f43f5bd672254a9d5277c",
       "version_major": 2,
       "version_minor": 0
      },
      "text/plain": [
       "Running FOOOFGroup:   0%|          | 0/64 [00:00<?, ?it/s]"
      ]
     },
     "metadata": {},
     "output_type": "display_data"
    },
    {
     "name": "stdout",
     "output_type": "stream",
     "text": [
      "Reading /Users/stuartgow/GitHub/AI_Dissertation/EEG_Datasets_Source_x/ds004584-1.0.0/sub-091/eeg/sub-091_task-Rest_eeg.fdt\n",
      "Reading 0 ... 60699  =      0.000 ...   121.398 secs...\n",
      "Computing power spectrum using welch method...\n",
      "Effective window size : 4.096 (s)\n",
      "For Spectra Group:\n",
      "- 64 channels & 1020 frequencies\n",
      "- Frequency Range: 1 to 250 Hz\n",
      "- Frequency resolution 0.24 Hz\n",
      "Extracting Periodic & Aperiodic Components with Parameters:\n",
      "- Peak width limits: [1, 12]\n",
      "- Min peak height: 0.05\n",
      "- Max peaks: 25\n",
      "- Range: [1, 75]\n",
      "- Aperiodic Mode: fixed\n"
     ]
    },
    {
     "name": "stderr",
     "output_type": "stream",
     "text": [
      "/var/folders/wd/rhzj_w8570g_y66t6j6mh4zw0000gn/T/ipykernel_89708/1201790303.py:26: RuntimeWarning: The data contains 'boundary' events, indicating data discontinuities. Be cautious of filtering and epoching around these events.\n",
      "  eeg_dataset_raw = mne.io.read_raw_eeglab(eeg_lab_file_path, preload=True)\n"
     ]
    },
    {
     "data": {
      "application/vnd.jupyter.widget-view+json": {
       "model_id": "9ec4dbff42884b3d8c46270d3ff737a8",
       "version_major": 2,
       "version_minor": 0
      },
      "text/plain": [
       "Running FOOOFGroup:   0%|          | 0/64 [00:00<?, ?it/s]"
      ]
     },
     "metadata": {},
     "output_type": "display_data"
    },
    {
     "name": "stdout",
     "output_type": "stream",
     "text": [
      "Reading /Users/stuartgow/GitHub/AI_Dissertation/EEG_Datasets_Source_x/ds004584-1.0.0/sub-092/eeg/sub-092_task-Rest_eeg.fdt\n",
      "Reading 0 ... 60799  =      0.000 ...   121.598 secs...\n",
      "Computing power spectrum using welch method...\n",
      "Effective window size : 4.096 (s)\n",
      "For Spectra Group:\n",
      "- 64 channels & 1020 frequencies\n",
      "- Frequency Range: 1 to 250 Hz\n",
      "- Frequency resolution 0.24 Hz\n",
      "Extracting Periodic & Aperiodic Components with Parameters:\n",
      "- Peak width limits: [1, 12]\n",
      "- Min peak height: 0.05\n",
      "- Max peaks: 25\n",
      "- Range: [1, 75]\n",
      "- Aperiodic Mode: fixed\n"
     ]
    },
    {
     "name": "stderr",
     "output_type": "stream",
     "text": [
      "/var/folders/wd/rhzj_w8570g_y66t6j6mh4zw0000gn/T/ipykernel_89708/1201790303.py:26: RuntimeWarning: The data contains 'boundary' events, indicating data discontinuities. Be cautious of filtering and epoching around these events.\n",
      "  eeg_dataset_raw = mne.io.read_raw_eeglab(eeg_lab_file_path, preload=True)\n"
     ]
    },
    {
     "data": {
      "application/vnd.jupyter.widget-view+json": {
       "model_id": "4c324a4eda6d4d188b17285e42665c85",
       "version_major": 2,
       "version_minor": 0
      },
      "text/plain": [
       "Running FOOOFGroup:   0%|          | 0/64 [00:00<?, ?it/s]"
      ]
     },
     "metadata": {},
     "output_type": "display_data"
    },
    {
     "name": "stdout",
     "output_type": "stream",
     "text": [
      "Reading /Users/stuartgow/GitHub/AI_Dissertation/EEG_Datasets_Source_x/ds004584-1.0.0/sub-093/eeg/sub-093_task-Rest_eeg.fdt\n",
      "Reading 0 ... 66119  =      0.000 ...   132.238 secs...\n",
      "Computing power spectrum using welch method...\n",
      "Effective window size : 4.096 (s)\n",
      "For Spectra Group:\n",
      "- 64 channels & 1020 frequencies\n",
      "- Frequency Range: 1 to 250 Hz\n",
      "- Frequency resolution 0.24 Hz\n",
      "Extracting Periodic & Aperiodic Components with Parameters:\n",
      "- Peak width limits: [1, 12]\n",
      "- Min peak height: 0.05\n",
      "- Max peaks: 25\n",
      "- Range: [1, 75]\n",
      "- Aperiodic Mode: fixed\n"
     ]
    },
    {
     "name": "stderr",
     "output_type": "stream",
     "text": [
      "/var/folders/wd/rhzj_w8570g_y66t6j6mh4zw0000gn/T/ipykernel_89708/1201790303.py:26: RuntimeWarning: The data contains 'boundary' events, indicating data discontinuities. Be cautious of filtering and epoching around these events.\n",
      "  eeg_dataset_raw = mne.io.read_raw_eeglab(eeg_lab_file_path, preload=True)\n"
     ]
    },
    {
     "data": {
      "application/vnd.jupyter.widget-view+json": {
       "model_id": "04d74449af504857bad5a1861556852d",
       "version_major": 2,
       "version_minor": 0
      },
      "text/plain": [
       "Running FOOOFGroup:   0%|          | 0/64 [00:00<?, ?it/s]"
      ]
     },
     "metadata": {},
     "output_type": "display_data"
    },
    {
     "name": "stdout",
     "output_type": "stream",
     "text": [
      "Reading /Users/stuartgow/GitHub/AI_Dissertation/EEG_Datasets_Source_x/ds004584-1.0.0/sub-094/eeg/sub-094_task-Rest_eeg.fdt\n",
      "Reading 0 ... 71559  =      0.000 ...   143.118 secs...\n",
      "Computing power spectrum using welch method...\n",
      "Effective window size : 4.096 (s)\n",
      "For Spectra Group:\n",
      "- 64 channels & 1020 frequencies\n",
      "- Frequency Range: 1 to 250 Hz\n",
      "- Frequency resolution 0.24 Hz\n",
      "Extracting Periodic & Aperiodic Components with Parameters:\n",
      "- Peak width limits: [1, 12]\n",
      "- Min peak height: 0.05\n",
      "- Max peaks: 25\n",
      "- Range: [1, 75]\n",
      "- Aperiodic Mode: fixed\n"
     ]
    },
    {
     "name": "stderr",
     "output_type": "stream",
     "text": [
      "/var/folders/wd/rhzj_w8570g_y66t6j6mh4zw0000gn/T/ipykernel_89708/1201790303.py:26: RuntimeWarning: The data contains 'boundary' events, indicating data discontinuities. Be cautious of filtering and epoching around these events.\n",
      "  eeg_dataset_raw = mne.io.read_raw_eeglab(eeg_lab_file_path, preload=True)\n"
     ]
    },
    {
     "data": {
      "application/vnd.jupyter.widget-view+json": {
       "model_id": "da180b8c576d4508b2fbfdd8c5062e5b",
       "version_major": 2,
       "version_minor": 0
      },
      "text/plain": [
       "Running FOOOFGroup:   0%|          | 0/64 [00:00<?, ?it/s]"
      ]
     },
     "metadata": {},
     "output_type": "display_data"
    },
    {
     "name": "stdout",
     "output_type": "stream",
     "text": [
      "Reading /Users/stuartgow/GitHub/AI_Dissertation/EEG_Datasets_Source_x/ds004584-1.0.0/sub-095/eeg/sub-095_task-Rest_eeg.fdt\n",
      "Reading 0 ... 61669  =      0.000 ...   123.338 secs...\n",
      "Computing power spectrum using welch method...\n",
      "Effective window size : 4.096 (s)\n",
      "For Spectra Group:\n",
      "- 64 channels & 1020 frequencies\n",
      "- Frequency Range: 1 to 250 Hz\n",
      "- Frequency resolution 0.24 Hz\n",
      "Extracting Periodic & Aperiodic Components with Parameters:\n",
      "- Peak width limits: [1, 12]\n",
      "- Min peak height: 0.05\n",
      "- Max peaks: 25\n",
      "- Range: [1, 75]\n",
      "- Aperiodic Mode: fixed\n"
     ]
    },
    {
     "name": "stderr",
     "output_type": "stream",
     "text": [
      "/var/folders/wd/rhzj_w8570g_y66t6j6mh4zw0000gn/T/ipykernel_89708/1201790303.py:26: RuntimeWarning: The data contains 'boundary' events, indicating data discontinuities. Be cautious of filtering and epoching around these events.\n",
      "  eeg_dataset_raw = mne.io.read_raw_eeglab(eeg_lab_file_path, preload=True)\n"
     ]
    },
    {
     "data": {
      "application/vnd.jupyter.widget-view+json": {
       "model_id": "a508ceaacea14fdf94779ce543f4b987",
       "version_major": 2,
       "version_minor": 0
      },
      "text/plain": [
       "Running FOOOFGroup:   0%|          | 0/64 [00:00<?, ?it/s]"
      ]
     },
     "metadata": {},
     "output_type": "display_data"
    },
    {
     "name": "stdout",
     "output_type": "stream",
     "text": [
      "Reading /Users/stuartgow/GitHub/AI_Dissertation/EEG_Datasets_Source_x/ds004584-1.0.0/sub-096/eeg/sub-096_task-Rest_eeg.fdt\n",
      "Reading 0 ... 65259  =      0.000 ...   130.518 secs...\n",
      "Computing power spectrum using welch method...\n",
      "Effective window size : 4.096 (s)\n",
      "For Spectra Group:\n",
      "- 64 channels & 1020 frequencies\n",
      "- Frequency Range: 1 to 250 Hz\n",
      "- Frequency resolution 0.24 Hz\n",
      "Extracting Periodic & Aperiodic Components with Parameters:\n",
      "- Peak width limits: [1, 12]\n",
      "- Min peak height: 0.05\n",
      "- Max peaks: 25\n",
      "- Range: [1, 75]\n",
      "- Aperiodic Mode: fixed\n"
     ]
    },
    {
     "name": "stderr",
     "output_type": "stream",
     "text": [
      "/var/folders/wd/rhzj_w8570g_y66t6j6mh4zw0000gn/T/ipykernel_89708/1201790303.py:26: RuntimeWarning: The data contains 'boundary' events, indicating data discontinuities. Be cautious of filtering and epoching around these events.\n",
      "  eeg_dataset_raw = mne.io.read_raw_eeglab(eeg_lab_file_path, preload=True)\n"
     ]
    },
    {
     "data": {
      "application/vnd.jupyter.widget-view+json": {
       "model_id": "6436befc25c3457d9cb9f7323df434e5",
       "version_major": 2,
       "version_minor": 0
      },
      "text/plain": [
       "Running FOOOFGroup:   0%|          | 0/64 [00:00<?, ?it/s]"
      ]
     },
     "metadata": {},
     "output_type": "display_data"
    },
    {
     "name": "stdout",
     "output_type": "stream",
     "text": [
      "Reading /Users/stuartgow/GitHub/AI_Dissertation/EEG_Datasets_Source_x/ds004584-1.0.0/sub-097/eeg/sub-097_task-Rest_eeg.fdt\n",
      "Reading 0 ... 79799  =      0.000 ...   159.598 secs...\n",
      "Computing power spectrum using welch method...\n",
      "Effective window size : 4.096 (s)\n",
      "For Spectra Group:\n",
      "- 64 channels & 1020 frequencies\n",
      "- Frequency Range: 1 to 250 Hz\n",
      "- Frequency resolution 0.24 Hz\n",
      "Extracting Periodic & Aperiodic Components with Parameters:\n",
      "- Peak width limits: [1, 12]\n",
      "- Min peak height: 0.05\n",
      "- Max peaks: 25\n",
      "- Range: [1, 75]\n",
      "- Aperiodic Mode: fixed\n"
     ]
    },
    {
     "name": "stderr",
     "output_type": "stream",
     "text": [
      "/var/folders/wd/rhzj_w8570g_y66t6j6mh4zw0000gn/T/ipykernel_89708/1201790303.py:26: RuntimeWarning: The data contains 'boundary' events, indicating data discontinuities. Be cautious of filtering and epoching around these events.\n",
      "  eeg_dataset_raw = mne.io.read_raw_eeglab(eeg_lab_file_path, preload=True)\n"
     ]
    },
    {
     "data": {
      "application/vnd.jupyter.widget-view+json": {
       "model_id": "56658c4773a74dfe8b181cf875a3121c",
       "version_major": 2,
       "version_minor": 0
      },
      "text/plain": [
       "Running FOOOFGroup:   0%|          | 0/64 [00:00<?, ?it/s]"
      ]
     },
     "metadata": {},
     "output_type": "display_data"
    },
    {
     "name": "stdout",
     "output_type": "stream",
     "text": [
      "Reading /Users/stuartgow/GitHub/AI_Dissertation/EEG_Datasets_Source_x/ds004584-1.0.0/sub-098/eeg/sub-098_task-Rest_eeg.fdt\n",
      "Reading 0 ... 61009  =      0.000 ...   122.018 secs...\n",
      "Computing power spectrum using welch method...\n",
      "Effective window size : 4.096 (s)\n",
      "For Spectra Group:\n",
      "- 64 channels & 1020 frequencies\n",
      "- Frequency Range: 1 to 250 Hz\n",
      "- Frequency resolution 0.24 Hz\n",
      "Extracting Periodic & Aperiodic Components with Parameters:\n",
      "- Peak width limits: [1, 12]\n",
      "- Min peak height: 0.05\n",
      "- Max peaks: 25\n",
      "- Range: [1, 75]\n",
      "- Aperiodic Mode: fixed\n"
     ]
    },
    {
     "name": "stderr",
     "output_type": "stream",
     "text": [
      "/var/folders/wd/rhzj_w8570g_y66t6j6mh4zw0000gn/T/ipykernel_89708/1201790303.py:26: RuntimeWarning: The data contains 'boundary' events, indicating data discontinuities. Be cautious of filtering and epoching around these events.\n",
      "  eeg_dataset_raw = mne.io.read_raw_eeglab(eeg_lab_file_path, preload=True)\n"
     ]
    },
    {
     "data": {
      "application/vnd.jupyter.widget-view+json": {
       "model_id": "0ceeadcbc7c644a8bcd14bc8e3c739bb",
       "version_major": 2,
       "version_minor": 0
      },
      "text/plain": [
       "Running FOOOFGroup:   0%|          | 0/64 [00:00<?, ?it/s]"
      ]
     },
     "metadata": {},
     "output_type": "display_data"
    },
    {
     "name": "stdout",
     "output_type": "stream",
     "text": [
      "Reading /Users/stuartgow/GitHub/AI_Dissertation/EEG_Datasets_Source_x/ds004584-1.0.0/sub-099/eeg/sub-099_task-Rest_eeg.fdt\n",
      "Reading 0 ... 61109  =      0.000 ...   122.218 secs...\n",
      "Computing power spectrum using welch method...\n",
      "Effective window size : 4.096 (s)\n",
      "For Spectra Group:\n",
      "- 64 channels & 1020 frequencies\n",
      "- Frequency Range: 1 to 250 Hz\n",
      "- Frequency resolution 0.24 Hz\n",
      "Extracting Periodic & Aperiodic Components with Parameters:\n",
      "- Peak width limits: [1, 12]\n",
      "- Min peak height: 0.05\n",
      "- Max peaks: 25\n",
      "- Range: [1, 75]\n",
      "- Aperiodic Mode: fixed\n"
     ]
    },
    {
     "name": "stderr",
     "output_type": "stream",
     "text": [
      "/var/folders/wd/rhzj_w8570g_y66t6j6mh4zw0000gn/T/ipykernel_89708/1201790303.py:26: RuntimeWarning: The data contains 'boundary' events, indicating data discontinuities. Be cautious of filtering and epoching around these events.\n",
      "  eeg_dataset_raw = mne.io.read_raw_eeglab(eeg_lab_file_path, preload=True)\n"
     ]
    },
    {
     "data": {
      "application/vnd.jupyter.widget-view+json": {
       "model_id": "55b80d9b17154e8185e6b398eaec724c",
       "version_major": 2,
       "version_minor": 0
      },
      "text/plain": [
       "Running FOOOFGroup:   0%|          | 0/64 [00:00<?, ?it/s]"
      ]
     },
     "metadata": {},
     "output_type": "display_data"
    },
    {
     "name": "stdout",
     "output_type": "stream",
     "text": [
      "Reading /Users/stuartgow/GitHub/AI_Dissertation/EEG_Datasets_Source_x/ds004584-1.0.0/sub-100/eeg/sub-100_task-Rest_eeg.fdt\n",
      "Reading 0 ... 69789  =      0.000 ...   139.578 secs...\n",
      "Computing power spectrum using welch method...\n",
      "Effective window size : 4.096 (s)\n",
      "For Spectra Group:\n",
      "- 63 channels & 1020 frequencies\n",
      "- Frequency Range: 1 to 250 Hz\n",
      "- Frequency resolution 0.24 Hz\n",
      "Extracting Periodic & Aperiodic Components with Parameters:\n",
      "- Peak width limits: [1, 12]\n",
      "- Min peak height: 0.05\n",
      "- Max peaks: 25\n",
      "- Range: [1, 75]\n",
      "- Aperiodic Mode: fixed\n"
     ]
    },
    {
     "name": "stderr",
     "output_type": "stream",
     "text": [
      "/var/folders/wd/rhzj_w8570g_y66t6j6mh4zw0000gn/T/ipykernel_89708/1201790303.py:26: RuntimeWarning: The data contains 'boundary' events, indicating data discontinuities. Be cautious of filtering and epoching around these events.\n",
      "  eeg_dataset_raw = mne.io.read_raw_eeglab(eeg_lab_file_path, preload=True)\n"
     ]
    },
    {
     "data": {
      "application/vnd.jupyter.widget-view+json": {
       "model_id": "5f11d61412e948c6acd0445adb673ff9",
       "version_major": 2,
       "version_minor": 0
      },
      "text/plain": [
       "Running FOOOFGroup:   0%|          | 0/63 [00:00<?, ?it/s]"
      ]
     },
     "metadata": {},
     "output_type": "display_data"
    },
    {
     "name": "stdout",
     "output_type": "stream",
     "text": [
      "Reading /Users/stuartgow/GitHub/AI_Dissertation/EEG_Datasets_Source_x/ds004584-1.0.0/sub-101/eeg/sub-101_task-Rest_eeg.fdt\n",
      "Reading 0 ... 134449  =      0.000 ...   268.898 secs...\n",
      "Computing power spectrum using welch method...\n",
      "Effective window size : 4.096 (s)\n",
      "For Spectra Group:\n",
      "- 63 channels & 1020 frequencies\n",
      "- Frequency Range: 1 to 250 Hz\n",
      "- Frequency resolution 0.24 Hz\n",
      "Extracting Periodic & Aperiodic Components with Parameters:\n",
      "- Peak width limits: [1, 12]\n",
      "- Min peak height: 0.05\n",
      "- Max peaks: 25\n",
      "- Range: [1, 75]\n",
      "- Aperiodic Mode: fixed\n"
     ]
    },
    {
     "name": "stderr",
     "output_type": "stream",
     "text": [
      "/var/folders/wd/rhzj_w8570g_y66t6j6mh4zw0000gn/T/ipykernel_89708/1201790303.py:26: RuntimeWarning: The data contains 'boundary' events, indicating data discontinuities. Be cautious of filtering and epoching around these events.\n",
      "  eeg_dataset_raw = mne.io.read_raw_eeglab(eeg_lab_file_path, preload=True)\n"
     ]
    },
    {
     "data": {
      "application/vnd.jupyter.widget-view+json": {
       "model_id": "5642d79810a94455a5479e1f378cb81c",
       "version_major": 2,
       "version_minor": 0
      },
      "text/plain": [
       "Running FOOOFGroup:   0%|          | 0/63 [00:00<?, ?it/s]"
      ]
     },
     "metadata": {},
     "output_type": "display_data"
    },
    {
     "name": "stdout",
     "output_type": "stream",
     "text": [
      "Reading /Users/stuartgow/GitHub/AI_Dissertation/EEG_Datasets_Source_x/ds004584-1.0.0/sub-102/eeg/sub-102_task-Rest_eeg.fdt\n",
      "Reading 0 ... 105429  =      0.000 ...   210.858 secs...\n",
      "Computing power spectrum using welch method...\n",
      "Effective window size : 4.096 (s)\n",
      "For Spectra Group:\n",
      "- 63 channels & 1020 frequencies\n",
      "- Frequency Range: 1 to 250 Hz\n",
      "- Frequency resolution 0.24 Hz\n",
      "Extracting Periodic & Aperiodic Components with Parameters:\n",
      "- Peak width limits: [1, 12]\n",
      "- Min peak height: 0.05\n",
      "- Max peaks: 25\n",
      "- Range: [1, 75]\n",
      "- Aperiodic Mode: fixed\n"
     ]
    },
    {
     "name": "stderr",
     "output_type": "stream",
     "text": [
      "/var/folders/wd/rhzj_w8570g_y66t6j6mh4zw0000gn/T/ipykernel_89708/1201790303.py:26: RuntimeWarning: The data contains 'boundary' events, indicating data discontinuities. Be cautious of filtering and epoching around these events.\n",
      "  eeg_dataset_raw = mne.io.read_raw_eeglab(eeg_lab_file_path, preload=True)\n"
     ]
    },
    {
     "data": {
      "application/vnd.jupyter.widget-view+json": {
       "model_id": "f91b1e3fea2d458ba0481022e32a5805",
       "version_major": 2,
       "version_minor": 0
      },
      "text/plain": [
       "Running FOOOFGroup:   0%|          | 0/63 [00:00<?, ?it/s]"
      ]
     },
     "metadata": {},
     "output_type": "display_data"
    },
    {
     "name": "stdout",
     "output_type": "stream",
     "text": [
      "Reading /Users/stuartgow/GitHub/AI_Dissertation/EEG_Datasets_Source_x/ds004584-1.0.0/sub-103/eeg/sub-103_task-Rest_eeg.fdt\n",
      "Reading 0 ... 118229  =      0.000 ...   236.458 secs...\n",
      "Computing power spectrum using welch method...\n",
      "Effective window size : 4.096 (s)\n",
      "For Spectra Group:\n",
      "- 63 channels & 1020 frequencies\n",
      "- Frequency Range: 1 to 250 Hz\n",
      "- Frequency resolution 0.24 Hz\n",
      "Extracting Periodic & Aperiodic Components with Parameters:\n",
      "- Peak width limits: [1, 12]\n",
      "- Min peak height: 0.05\n",
      "- Max peaks: 25\n",
      "- Range: [1, 75]\n",
      "- Aperiodic Mode: fixed\n"
     ]
    },
    {
     "name": "stderr",
     "output_type": "stream",
     "text": [
      "/var/folders/wd/rhzj_w8570g_y66t6j6mh4zw0000gn/T/ipykernel_89708/1201790303.py:26: RuntimeWarning: The data contains 'boundary' events, indicating data discontinuities. Be cautious of filtering and epoching around these events.\n",
      "  eeg_dataset_raw = mne.io.read_raw_eeglab(eeg_lab_file_path, preload=True)\n"
     ]
    },
    {
     "data": {
      "application/vnd.jupyter.widget-view+json": {
       "model_id": "30adc44fddb2420e854952886462c7fe",
       "version_major": 2,
       "version_minor": 0
      },
      "text/plain": [
       "Running FOOOFGroup:   0%|          | 0/63 [00:00<?, ?it/s]"
      ]
     },
     "metadata": {},
     "output_type": "display_data"
    },
    {
     "name": "stdout",
     "output_type": "stream",
     "text": [
      "Model fitting was unsuccessful.\n",
      "Reading /Users/stuartgow/GitHub/AI_Dissertation/EEG_Datasets_Source_x/ds004584-1.0.0/sub-104/eeg/sub-104_task-Rest_eeg.fdt\n",
      "Reading 0 ... 108929  =      0.000 ...   217.858 secs...\n",
      "Computing power spectrum using welch method...\n",
      "Effective window size : 4.096 (s)\n",
      "For Spectra Group:\n",
      "- 63 channels & 1020 frequencies\n",
      "- Frequency Range: 1 to 250 Hz\n",
      "- Frequency resolution 0.24 Hz\n",
      "Extracting Periodic & Aperiodic Components with Parameters:\n",
      "- Peak width limits: [1, 12]\n",
      "- Min peak height: 0.05\n",
      "- Max peaks: 25\n",
      "- Range: [1, 75]\n",
      "- Aperiodic Mode: fixed\n"
     ]
    },
    {
     "name": "stderr",
     "output_type": "stream",
     "text": [
      "/var/folders/wd/rhzj_w8570g_y66t6j6mh4zw0000gn/T/ipykernel_89708/1201790303.py:26: RuntimeWarning: The data contains 'boundary' events, indicating data discontinuities. Be cautious of filtering and epoching around these events.\n",
      "  eeg_dataset_raw = mne.io.read_raw_eeglab(eeg_lab_file_path, preload=True)\n"
     ]
    },
    {
     "data": {
      "application/vnd.jupyter.widget-view+json": {
       "model_id": "3d2c100f9d504677a7da974b6a1515e3",
       "version_major": 2,
       "version_minor": 0
      },
      "text/plain": [
       "Running FOOOFGroup:   0%|          | 0/63 [00:00<?, ?it/s]"
      ]
     },
     "metadata": {},
     "output_type": "display_data"
    },
    {
     "name": "stdout",
     "output_type": "stream",
     "text": [
      "Reading /Users/stuartgow/GitHub/AI_Dissertation/EEG_Datasets_Source_x/ds004584-1.0.0/sub-105/eeg/sub-105_task-Rest_eeg.fdt\n",
      "Reading 0 ... 117089  =      0.000 ...   234.178 secs...\n",
      "Computing power spectrum using welch method...\n",
      "Effective window size : 4.096 (s)\n",
      "For Spectra Group:\n",
      "- 63 channels & 1020 frequencies\n",
      "- Frequency Range: 1 to 250 Hz\n",
      "- Frequency resolution 0.24 Hz\n",
      "Extracting Periodic & Aperiodic Components with Parameters:\n",
      "- Peak width limits: [1, 12]\n",
      "- Min peak height: 0.05\n",
      "- Max peaks: 25\n",
      "- Range: [1, 75]\n",
      "- Aperiodic Mode: fixed\n"
     ]
    },
    {
     "name": "stderr",
     "output_type": "stream",
     "text": [
      "/var/folders/wd/rhzj_w8570g_y66t6j6mh4zw0000gn/T/ipykernel_89708/1201790303.py:26: RuntimeWarning: The data contains 'boundary' events, indicating data discontinuities. Be cautious of filtering and epoching around these events.\n",
      "  eeg_dataset_raw = mne.io.read_raw_eeglab(eeg_lab_file_path, preload=True)\n"
     ]
    },
    {
     "data": {
      "application/vnd.jupyter.widget-view+json": {
       "model_id": "e7f374fa87414124a10ca1033777f586",
       "version_major": 2,
       "version_minor": 0
      },
      "text/plain": [
       "Running FOOOFGroup:   0%|          | 0/63 [00:00<?, ?it/s]"
      ]
     },
     "metadata": {},
     "output_type": "display_data"
    },
    {
     "name": "stdout",
     "output_type": "stream",
     "text": [
      "Model fitting was unsuccessful.\n",
      "Reading /Users/stuartgow/GitHub/AI_Dissertation/EEG_Datasets_Source_x/ds004584-1.0.0/sub-106/eeg/sub-106_task-Rest_eeg.fdt\n",
      "Reading 0 ... 106459  =      0.000 ...   212.918 secs...\n",
      "Computing power spectrum using welch method...\n",
      "Effective window size : 4.096 (s)\n",
      "For Spectra Group:\n",
      "- 63 channels & 1020 frequencies\n",
      "- Frequency Range: 1 to 250 Hz\n",
      "- Frequency resolution 0.24 Hz\n",
      "Extracting Periodic & Aperiodic Components with Parameters:\n",
      "- Peak width limits: [1, 12]\n",
      "- Min peak height: 0.05\n",
      "- Max peaks: 25\n",
      "- Range: [1, 75]\n",
      "- Aperiodic Mode: fixed\n"
     ]
    },
    {
     "name": "stderr",
     "output_type": "stream",
     "text": [
      "/var/folders/wd/rhzj_w8570g_y66t6j6mh4zw0000gn/T/ipykernel_89708/1201790303.py:26: RuntimeWarning: The data contains 'boundary' events, indicating data discontinuities. Be cautious of filtering and epoching around these events.\n",
      "  eeg_dataset_raw = mne.io.read_raw_eeglab(eeg_lab_file_path, preload=True)\n"
     ]
    },
    {
     "data": {
      "application/vnd.jupyter.widget-view+json": {
       "model_id": "4e308057aa504f0ca066bafb72463dda",
       "version_major": 2,
       "version_minor": 0
      },
      "text/plain": [
       "Running FOOOFGroup:   0%|          | 0/63 [00:00<?, ?it/s]"
      ]
     },
     "metadata": {},
     "output_type": "display_data"
    },
    {
     "name": "stdout",
     "output_type": "stream",
     "text": [
      "Reading /Users/stuartgow/GitHub/AI_Dissertation/EEG_Datasets_Source_x/ds004584-1.0.0/sub-107/eeg/sub-107_task-Rest_eeg.fdt\n",
      "Reading 0 ... 112789  =      0.000 ...   225.578 secs...\n",
      "Computing power spectrum using welch method...\n",
      "Effective window size : 4.096 (s)\n",
      "For Spectra Group:\n",
      "- 63 channels & 1020 frequencies\n",
      "- Frequency Range: 1 to 250 Hz\n",
      "- Frequency resolution 0.24 Hz\n",
      "Extracting Periodic & Aperiodic Components with Parameters:\n",
      "- Peak width limits: [1, 12]\n",
      "- Min peak height: 0.05\n",
      "- Max peaks: 25\n",
      "- Range: [1, 75]\n",
      "- Aperiodic Mode: fixed\n"
     ]
    },
    {
     "name": "stderr",
     "output_type": "stream",
     "text": [
      "/var/folders/wd/rhzj_w8570g_y66t6j6mh4zw0000gn/T/ipykernel_89708/1201790303.py:26: RuntimeWarning: The data contains 'boundary' events, indicating data discontinuities. Be cautious of filtering and epoching around these events.\n",
      "  eeg_dataset_raw = mne.io.read_raw_eeglab(eeg_lab_file_path, preload=True)\n"
     ]
    },
    {
     "data": {
      "application/vnd.jupyter.widget-view+json": {
       "model_id": "933435ec7d0c4029b940463d5f5ae551",
       "version_major": 2,
       "version_minor": 0
      },
      "text/plain": [
       "Running FOOOFGroup:   0%|          | 0/63 [00:00<?, ?it/s]"
      ]
     },
     "metadata": {},
     "output_type": "display_data"
    },
    {
     "name": "stdout",
     "output_type": "stream",
     "text": [
      "Reading /Users/stuartgow/GitHub/AI_Dissertation/EEG_Datasets_Source_x/ds004584-1.0.0/sub-108/eeg/sub-108_task-Rest_eeg.fdt\n",
      "Reading 0 ... 131349  =      0.000 ...   262.698 secs...\n",
      "Computing power spectrum using welch method...\n",
      "Effective window size : 4.096 (s)\n",
      "For Spectra Group:\n",
      "- 63 channels & 1020 frequencies\n",
      "- Frequency Range: 1 to 250 Hz\n",
      "- Frequency resolution 0.24 Hz\n",
      "Extracting Periodic & Aperiodic Components with Parameters:\n",
      "- Peak width limits: [1, 12]\n",
      "- Min peak height: 0.05\n",
      "- Max peaks: 25\n",
      "- Range: [1, 75]\n",
      "- Aperiodic Mode: fixed\n"
     ]
    },
    {
     "name": "stderr",
     "output_type": "stream",
     "text": [
      "/var/folders/wd/rhzj_w8570g_y66t6j6mh4zw0000gn/T/ipykernel_89708/1201790303.py:26: RuntimeWarning: The data contains 'boundary' events, indicating data discontinuities. Be cautious of filtering and epoching around these events.\n",
      "  eeg_dataset_raw = mne.io.read_raw_eeglab(eeg_lab_file_path, preload=True)\n"
     ]
    },
    {
     "data": {
      "application/vnd.jupyter.widget-view+json": {
       "model_id": "7e512365586c438cbb063e480f096cfc",
       "version_major": 2,
       "version_minor": 0
      },
      "text/plain": [
       "Running FOOOFGroup:   0%|          | 0/63 [00:00<?, ?it/s]"
      ]
     },
     "metadata": {},
     "output_type": "display_data"
    },
    {
     "name": "stdout",
     "output_type": "stream",
     "text": [
      "Model fitting was unsuccessful.\n",
      "Reading /Users/stuartgow/GitHub/AI_Dissertation/EEG_Datasets_Source_x/ds004584-1.0.0/sub-109/eeg/sub-109_task-Rest_eeg.fdt\n",
      "Reading 0 ... 118159  =      0.000 ...   236.318 secs...\n",
      "Computing power spectrum using welch method...\n",
      "Effective window size : 4.096 (s)\n",
      "For Spectra Group:\n",
      "- 63 channels & 1020 frequencies\n",
      "- Frequency Range: 1 to 250 Hz\n",
      "- Frequency resolution 0.24 Hz\n",
      "Extracting Periodic & Aperiodic Components with Parameters:\n",
      "- Peak width limits: [1, 12]\n",
      "- Min peak height: 0.05\n",
      "- Max peaks: 25\n",
      "- Range: [1, 75]\n",
      "- Aperiodic Mode: fixed\n"
     ]
    },
    {
     "name": "stderr",
     "output_type": "stream",
     "text": [
      "/var/folders/wd/rhzj_w8570g_y66t6j6mh4zw0000gn/T/ipykernel_89708/1201790303.py:26: RuntimeWarning: The data contains 'boundary' events, indicating data discontinuities. Be cautious of filtering and epoching around these events.\n",
      "  eeg_dataset_raw = mne.io.read_raw_eeglab(eeg_lab_file_path, preload=True)\n"
     ]
    },
    {
     "data": {
      "application/vnd.jupyter.widget-view+json": {
       "model_id": "00d30491eeaf40e99a3f8e9d8a2c1bea",
       "version_major": 2,
       "version_minor": 0
      },
      "text/plain": [
       "Running FOOOFGroup:   0%|          | 0/63 [00:00<?, ?it/s]"
      ]
     },
     "metadata": {},
     "output_type": "display_data"
    },
    {
     "name": "stdout",
     "output_type": "stream",
     "text": [
      "Reading /Users/stuartgow/GitHub/AI_Dissertation/EEG_Datasets_Source_x/ds004584-1.0.0/sub-110/eeg/sub-110_task-Rest_eeg.fdt\n",
      "Reading 0 ... 107399  =      0.000 ...   214.798 secs...\n",
      "Computing power spectrum using welch method...\n",
      "Effective window size : 4.096 (s)\n",
      "For Spectra Group:\n",
      "- 63 channels & 1020 frequencies\n",
      "- Frequency Range: 1 to 250 Hz\n",
      "- Frequency resolution 0.24 Hz\n",
      "Extracting Periodic & Aperiodic Components with Parameters:\n",
      "- Peak width limits: [1, 12]\n",
      "- Min peak height: 0.05\n",
      "- Max peaks: 25\n",
      "- Range: [1, 75]\n",
      "- Aperiodic Mode: fixed\n"
     ]
    },
    {
     "name": "stderr",
     "output_type": "stream",
     "text": [
      "/var/folders/wd/rhzj_w8570g_y66t6j6mh4zw0000gn/T/ipykernel_89708/1201790303.py:26: RuntimeWarning: The data contains 'boundary' events, indicating data discontinuities. Be cautious of filtering and epoching around these events.\n",
      "  eeg_dataset_raw = mne.io.read_raw_eeglab(eeg_lab_file_path, preload=True)\n"
     ]
    },
    {
     "data": {
      "application/vnd.jupyter.widget-view+json": {
       "model_id": "6abba0e3c0044177aedf618799b8f162",
       "version_major": 2,
       "version_minor": 0
      },
      "text/plain": [
       "Running FOOOFGroup:   0%|          | 0/63 [00:00<?, ?it/s]"
      ]
     },
     "metadata": {},
     "output_type": "display_data"
    },
    {
     "name": "stdout",
     "output_type": "stream",
     "text": [
      "Reading /Users/stuartgow/GitHub/AI_Dissertation/EEG_Datasets_Source_x/ds004584-1.0.0/sub-111/eeg/sub-111_task-Rest_eeg.fdt\n",
      "Reading 0 ... 164509  =      0.000 ...   329.018 secs...\n",
      "Computing power spectrum using welch method...\n",
      "Effective window size : 4.096 (s)\n",
      "For Spectra Group:\n",
      "- 63 channels & 1020 frequencies\n",
      "- Frequency Range: 1 to 250 Hz\n",
      "- Frequency resolution 0.24 Hz\n",
      "Extracting Periodic & Aperiodic Components with Parameters:\n",
      "- Peak width limits: [1, 12]\n",
      "- Min peak height: 0.05\n",
      "- Max peaks: 25\n",
      "- Range: [1, 75]\n",
      "- Aperiodic Mode: fixed\n"
     ]
    },
    {
     "name": "stderr",
     "output_type": "stream",
     "text": [
      "/var/folders/wd/rhzj_w8570g_y66t6j6mh4zw0000gn/T/ipykernel_89708/1201790303.py:26: RuntimeWarning: The data contains 'boundary' events, indicating data discontinuities. Be cautious of filtering and epoching around these events.\n",
      "  eeg_dataset_raw = mne.io.read_raw_eeglab(eeg_lab_file_path, preload=True)\n"
     ]
    },
    {
     "data": {
      "application/vnd.jupyter.widget-view+json": {
       "model_id": "fdffda46374c4aac9c06219cd355808b",
       "version_major": 2,
       "version_minor": 0
      },
      "text/plain": [
       "Running FOOOFGroup:   0%|          | 0/63 [00:00<?, ?it/s]"
      ]
     },
     "metadata": {},
     "output_type": "display_data"
    },
    {
     "name": "stdout",
     "output_type": "stream",
     "text": [
      "Reading /Users/stuartgow/GitHub/AI_Dissertation/EEG_Datasets_Source_x/ds004584-1.0.0/sub-112/eeg/sub-112_task-Rest_eeg.fdt\n",
      "Reading 0 ... 60939  =      0.000 ...   121.878 secs...\n",
      "Computing power spectrum using welch method...\n",
      "Effective window size : 4.096 (s)\n",
      "For Spectra Group:\n",
      "- 63 channels & 1020 frequencies\n",
      "- Frequency Range: 1 to 250 Hz\n",
      "- Frequency resolution 0.24 Hz\n",
      "Extracting Periodic & Aperiodic Components with Parameters:\n",
      "- Peak width limits: [1, 12]\n",
      "- Min peak height: 0.05\n",
      "- Max peaks: 25\n",
      "- Range: [1, 75]\n",
      "- Aperiodic Mode: fixed\n"
     ]
    },
    {
     "name": "stderr",
     "output_type": "stream",
     "text": [
      "/var/folders/wd/rhzj_w8570g_y66t6j6mh4zw0000gn/T/ipykernel_89708/1201790303.py:26: RuntimeWarning: The data contains 'boundary' events, indicating data discontinuities. Be cautious of filtering and epoching around these events.\n",
      "  eeg_dataset_raw = mne.io.read_raw_eeglab(eeg_lab_file_path, preload=True)\n"
     ]
    },
    {
     "data": {
      "application/vnd.jupyter.widget-view+json": {
       "model_id": "5a2788ebbf164e6f985d39f7e71dfe7c",
       "version_major": 2,
       "version_minor": 0
      },
      "text/plain": [
       "Running FOOOFGroup:   0%|          | 0/63 [00:00<?, ?it/s]"
      ]
     },
     "metadata": {},
     "output_type": "display_data"
    },
    {
     "name": "stdout",
     "output_type": "stream",
     "text": [
      "Reading /Users/stuartgow/GitHub/AI_Dissertation/EEG_Datasets_Source_x/ds004584-1.0.0/sub-113/eeg/sub-113_task-Rest_eeg.fdt\n",
      "Reading 0 ... 60469  =      0.000 ...   120.938 secs...\n",
      "Computing power spectrum using welch method...\n",
      "Effective window size : 4.096 (s)\n",
      "For Spectra Group:\n",
      "- 63 channels & 1020 frequencies\n",
      "- Frequency Range: 1 to 250 Hz\n",
      "- Frequency resolution 0.24 Hz\n",
      "Extracting Periodic & Aperiodic Components with Parameters:\n",
      "- Peak width limits: [1, 12]\n",
      "- Min peak height: 0.05\n",
      "- Max peaks: 25\n",
      "- Range: [1, 75]\n",
      "- Aperiodic Mode: fixed\n"
     ]
    },
    {
     "name": "stderr",
     "output_type": "stream",
     "text": [
      "/var/folders/wd/rhzj_w8570g_y66t6j6mh4zw0000gn/T/ipykernel_89708/1201790303.py:26: RuntimeWarning: The data contains 'boundary' events, indicating data discontinuities. Be cautious of filtering and epoching around these events.\n",
      "  eeg_dataset_raw = mne.io.read_raw_eeglab(eeg_lab_file_path, preload=True)\n"
     ]
    },
    {
     "data": {
      "application/vnd.jupyter.widget-view+json": {
       "model_id": "1edce0cb5094492e86c59f9300c99546",
       "version_major": 2,
       "version_minor": 0
      },
      "text/plain": [
       "Running FOOOFGroup:   0%|          | 0/63 [00:00<?, ?it/s]"
      ]
     },
     "metadata": {},
     "output_type": "display_data"
    },
    {
     "name": "stdout",
     "output_type": "stream",
     "text": [
      "Reading /Users/stuartgow/GitHub/AI_Dissertation/EEG_Datasets_Source_x/ds004584-1.0.0/sub-114/eeg/sub-114_task-Rest_eeg.fdt\n",
      "Reading 0 ... 60599  =      0.000 ...   121.198 secs...\n",
      "Computing power spectrum using welch method...\n",
      "Effective window size : 4.096 (s)\n",
      "For Spectra Group:\n",
      "- 63 channels & 1020 frequencies\n",
      "- Frequency Range: 1 to 250 Hz\n",
      "- Frequency resolution 0.24 Hz\n",
      "Extracting Periodic & Aperiodic Components with Parameters:\n",
      "- Peak width limits: [1, 12]\n",
      "- Min peak height: 0.05\n",
      "- Max peaks: 25\n",
      "- Range: [1, 75]\n",
      "- Aperiodic Mode: fixed\n"
     ]
    },
    {
     "name": "stderr",
     "output_type": "stream",
     "text": [
      "/var/folders/wd/rhzj_w8570g_y66t6j6mh4zw0000gn/T/ipykernel_89708/1201790303.py:26: RuntimeWarning: The data contains 'boundary' events, indicating data discontinuities. Be cautious of filtering and epoching around these events.\n",
      "  eeg_dataset_raw = mne.io.read_raw_eeglab(eeg_lab_file_path, preload=True)\n"
     ]
    },
    {
     "data": {
      "application/vnd.jupyter.widget-view+json": {
       "model_id": "4f6e9afe2dfc4145a6d66fcebddc142c",
       "version_major": 2,
       "version_minor": 0
      },
      "text/plain": [
       "Running FOOOFGroup:   0%|          | 0/63 [00:00<?, ?it/s]"
      ]
     },
     "metadata": {},
     "output_type": "display_data"
    },
    {
     "name": "stdout",
     "output_type": "stream",
     "text": [
      "Reading /Users/stuartgow/GitHub/AI_Dissertation/EEG_Datasets_Source_x/ds004584-1.0.0/sub-115/eeg/sub-115_task-Rest_eeg.fdt\n",
      "Reading 0 ... 60939  =      0.000 ...   121.878 secs...\n",
      "Computing power spectrum using welch method...\n",
      "Effective window size : 4.096 (s)\n"
     ]
    },
    {
     "name": "stderr",
     "output_type": "stream",
     "text": [
      "/var/folders/wd/rhzj_w8570g_y66t6j6mh4zw0000gn/T/ipykernel_89708/1201790303.py:26: RuntimeWarning: The data contains 'boundary' events, indicating data discontinuities. Be cautious of filtering and epoching around these events.\n",
      "  eeg_dataset_raw = mne.io.read_raw_eeglab(eeg_lab_file_path, preload=True)\n"
     ]
    },
    {
     "name": "stdout",
     "output_type": "stream",
     "text": [
      "For Spectra Group:\n",
      "- 63 channels & 1020 frequencies\n",
      "- Frequency Range: 1 to 250 Hz\n",
      "- Frequency resolution 0.24 Hz\n",
      "Extracting Periodic & Aperiodic Components with Parameters:\n",
      "- Peak width limits: [1, 12]\n",
      "- Min peak height: 0.05\n",
      "- Max peaks: 25\n",
      "- Range: [1, 75]\n",
      "- Aperiodic Mode: fixed\n"
     ]
    },
    {
     "data": {
      "application/vnd.jupyter.widget-view+json": {
       "model_id": "98da42d703384a8bba589200c4a99955",
       "version_major": 2,
       "version_minor": 0
      },
      "text/plain": [
       "Running FOOOFGroup:   0%|          | 0/63 [00:00<?, ?it/s]"
      ]
     },
     "metadata": {},
     "output_type": "display_data"
    },
    {
     "name": "stdout",
     "output_type": "stream",
     "text": [
      "Reading /Users/stuartgow/GitHub/AI_Dissertation/EEG_Datasets_Source_x/ds004584-1.0.0/sub-116/eeg/sub-116_task-Rest_eeg.fdt\n",
      "Reading 0 ... 60499  =      0.000 ...   120.998 secs...\n",
      "Computing power spectrum using welch method...\n",
      "Effective window size : 4.096 (s)\n",
      "For Spectra Group:\n",
      "- 63 channels & 1020 frequencies\n",
      "- Frequency Range: 1 to 250 Hz\n",
      "- Frequency resolution 0.24 Hz\n",
      "Extracting Periodic & Aperiodic Components with Parameters:\n",
      "- Peak width limits: [1, 12]\n",
      "- Min peak height: 0.05\n",
      "- Max peaks: 25\n",
      "- Range: [1, 75]\n",
      "- Aperiodic Mode: fixed\n"
     ]
    },
    {
     "name": "stderr",
     "output_type": "stream",
     "text": [
      "/var/folders/wd/rhzj_w8570g_y66t6j6mh4zw0000gn/T/ipykernel_89708/1201790303.py:26: RuntimeWarning: The data contains 'boundary' events, indicating data discontinuities. Be cautious of filtering and epoching around these events.\n",
      "  eeg_dataset_raw = mne.io.read_raw_eeglab(eeg_lab_file_path, preload=True)\n"
     ]
    },
    {
     "data": {
      "application/vnd.jupyter.widget-view+json": {
       "model_id": "ddadeaa45bea45c4b5484ea414f476d5",
       "version_major": 2,
       "version_minor": 0
      },
      "text/plain": [
       "Running FOOOFGroup:   0%|          | 0/63 [00:00<?, ?it/s]"
      ]
     },
     "metadata": {},
     "output_type": "display_data"
    },
    {
     "name": "stdout",
     "output_type": "stream",
     "text": [
      "Model fitting was unsuccessful.\n",
      "Reading /Users/stuartgow/GitHub/AI_Dissertation/EEG_Datasets_Source_x/ds004584-1.0.0/sub-117/eeg/sub-117_task-Rest_eeg.fdt\n",
      "Reading 0 ... 90699  =      0.000 ...   181.398 secs...\n",
      "Computing power spectrum using welch method...\n",
      "Effective window size : 4.096 (s)\n",
      "For Spectra Group:\n",
      "- 63 channels & 1020 frequencies\n",
      "- Frequency Range: 1 to 250 Hz\n",
      "- Frequency resolution 0.24 Hz\n",
      "Extracting Periodic & Aperiodic Components with Parameters:\n",
      "- Peak width limits: [1, 12]\n",
      "- Min peak height: 0.05\n",
      "- Max peaks: 25\n",
      "- Range: [1, 75]\n",
      "- Aperiodic Mode: fixed\n"
     ]
    },
    {
     "name": "stderr",
     "output_type": "stream",
     "text": [
      "/var/folders/wd/rhzj_w8570g_y66t6j6mh4zw0000gn/T/ipykernel_89708/1201790303.py:26: RuntimeWarning: The data contains 'boundary' events, indicating data discontinuities. Be cautious of filtering and epoching around these events.\n",
      "  eeg_dataset_raw = mne.io.read_raw_eeglab(eeg_lab_file_path, preload=True)\n"
     ]
    },
    {
     "data": {
      "application/vnd.jupyter.widget-view+json": {
       "model_id": "7b8e04a97e504c4fbd80c5c6c3eaaa91",
       "version_major": 2,
       "version_minor": 0
      },
      "text/plain": [
       "Running FOOOFGroup:   0%|          | 0/63 [00:00<?, ?it/s]"
      ]
     },
     "metadata": {},
     "output_type": "display_data"
    },
    {
     "name": "stdout",
     "output_type": "stream",
     "text": [
      "Reading /Users/stuartgow/GitHub/AI_Dissertation/EEG_Datasets_Source_x/ds004584-1.0.0/sub-118/eeg/sub-118_task-Rest_eeg.fdt\n",
      "Reading 0 ... 96299  =      0.000 ...   192.598 secs...\n",
      "Computing power spectrum using welch method...\n",
      "Effective window size : 4.096 (s)\n",
      "For Spectra Group:\n",
      "- 63 channels & 1020 frequencies\n",
      "- Frequency Range: 1 to 250 Hz\n",
      "- Frequency resolution 0.24 Hz\n",
      "Extracting Periodic & Aperiodic Components with Parameters:\n",
      "- Peak width limits: [1, 12]\n",
      "- Min peak height: 0.05\n",
      "- Max peaks: 25\n",
      "- Range: [1, 75]\n",
      "- Aperiodic Mode: fixed\n"
     ]
    },
    {
     "name": "stderr",
     "output_type": "stream",
     "text": [
      "/var/folders/wd/rhzj_w8570g_y66t6j6mh4zw0000gn/T/ipykernel_89708/1201790303.py:26: RuntimeWarning: The data contains 'boundary' events, indicating data discontinuities. Be cautious of filtering and epoching around these events.\n",
      "  eeg_dataset_raw = mne.io.read_raw_eeglab(eeg_lab_file_path, preload=True)\n"
     ]
    },
    {
     "data": {
      "application/vnd.jupyter.widget-view+json": {
       "model_id": "c70268d6d34e435b94e36af481d6373f",
       "version_major": 2,
       "version_minor": 0
      },
      "text/plain": [
       "Running FOOOFGroup:   0%|          | 0/63 [00:00<?, ?it/s]"
      ]
     },
     "metadata": {},
     "output_type": "display_data"
    },
    {
     "name": "stdout",
     "output_type": "stream",
     "text": [
      "Reading /Users/stuartgow/GitHub/AI_Dissertation/EEG_Datasets_Source_x/ds004584-1.0.0/sub-119/eeg/sub-119_task-Rest_eeg.fdt\n",
      "Reading 0 ... 95999  =      0.000 ...   191.998 secs...\n",
      "Computing power spectrum using welch method...\n",
      "Effective window size : 4.096 (s)\n",
      "For Spectra Group:\n",
      "- 63 channels & 1020 frequencies\n",
      "- Frequency Range: 1 to 250 Hz\n",
      "- Frequency resolution 0.24 Hz\n",
      "Extracting Periodic & Aperiodic Components with Parameters:\n",
      "- Peak width limits: [1, 12]\n",
      "- Min peak height: 0.05\n",
      "- Max peaks: 25\n",
      "- Range: [1, 75]\n",
      "- Aperiodic Mode: fixed\n"
     ]
    },
    {
     "name": "stderr",
     "output_type": "stream",
     "text": [
      "/var/folders/wd/rhzj_w8570g_y66t6j6mh4zw0000gn/T/ipykernel_89708/1201790303.py:26: RuntimeWarning: The data contains 'boundary' events, indicating data discontinuities. Be cautious of filtering and epoching around these events.\n",
      "  eeg_dataset_raw = mne.io.read_raw_eeglab(eeg_lab_file_path, preload=True)\n"
     ]
    },
    {
     "data": {
      "application/vnd.jupyter.widget-view+json": {
       "model_id": "9c5326024431426ab732f5a2c7e4f582",
       "version_major": 2,
       "version_minor": 0
      },
      "text/plain": [
       "Running FOOOFGroup:   0%|          | 0/63 [00:00<?, ?it/s]"
      ]
     },
     "metadata": {},
     "output_type": "display_data"
    },
    {
     "name": "stdout",
     "output_type": "stream",
     "text": [
      "Reading /Users/stuartgow/GitHub/AI_Dissertation/EEG_Datasets_Source_x/ds004584-1.0.0/sub-120/eeg/sub-120_task-Rest_eeg.fdt\n",
      "Reading 0 ... 90359  =      0.000 ...   180.718 secs...\n",
      "Computing power spectrum using welch method...\n",
      "Effective window size : 4.096 (s)\n",
      "For Spectra Group:\n",
      "- 63 channels & 1020 frequencies\n",
      "- Frequency Range: 1 to 250 Hz\n",
      "- Frequency resolution 0.24 Hz\n",
      "Extracting Periodic & Aperiodic Components with Parameters:\n",
      "- Peak width limits: [1, 12]\n",
      "- Min peak height: 0.05\n",
      "- Max peaks: 25\n",
      "- Range: [1, 75]\n",
      "- Aperiodic Mode: fixed\n"
     ]
    },
    {
     "name": "stderr",
     "output_type": "stream",
     "text": [
      "/var/folders/wd/rhzj_w8570g_y66t6j6mh4zw0000gn/T/ipykernel_89708/1201790303.py:26: RuntimeWarning: The data contains 'boundary' events, indicating data discontinuities. Be cautious of filtering and epoching around these events.\n",
      "  eeg_dataset_raw = mne.io.read_raw_eeglab(eeg_lab_file_path, preload=True)\n"
     ]
    },
    {
     "data": {
      "application/vnd.jupyter.widget-view+json": {
       "model_id": "f581f5f9967246659a482d84f4c1509d",
       "version_major": 2,
       "version_minor": 0
      },
      "text/plain": [
       "Running FOOOFGroup:   0%|          | 0/63 [00:00<?, ?it/s]"
      ]
     },
     "metadata": {},
     "output_type": "display_data"
    },
    {
     "name": "stdout",
     "output_type": "stream",
     "text": [
      "Reading /Users/stuartgow/GitHub/AI_Dissertation/EEG_Datasets_Source_x/ds004584-1.0.0/sub-121/eeg/sub-121_task-Rest_eeg.fdt\n",
      "Reading 0 ... 75399  =      0.000 ...   150.798 secs...\n",
      "Computing power spectrum using welch method...\n",
      "Effective window size : 4.096 (s)\n",
      "For Spectra Group:\n",
      "- 63 channels & 1020 frequencies\n",
      "- Frequency Range: 1 to 250 Hz\n",
      "- Frequency resolution 0.24 Hz\n",
      "Extracting Periodic & Aperiodic Components with Parameters:\n",
      "- Peak width limits: [1, 12]\n",
      "- Min peak height: 0.05\n",
      "- Max peaks: 25\n",
      "- Range: [1, 75]\n",
      "- Aperiodic Mode: fixed\n"
     ]
    },
    {
     "name": "stderr",
     "output_type": "stream",
     "text": [
      "/var/folders/wd/rhzj_w8570g_y66t6j6mh4zw0000gn/T/ipykernel_89708/1201790303.py:26: RuntimeWarning: The data contains 'boundary' events, indicating data discontinuities. Be cautious of filtering and epoching around these events.\n",
      "  eeg_dataset_raw = mne.io.read_raw_eeglab(eeg_lab_file_path, preload=True)\n"
     ]
    },
    {
     "data": {
      "application/vnd.jupyter.widget-view+json": {
       "model_id": "f7e2f6152f434d52aedd3ad5c8665c5d",
       "version_major": 2,
       "version_minor": 0
      },
      "text/plain": [
       "Running FOOOFGroup:   0%|          | 0/63 [00:00<?, ?it/s]"
      ]
     },
     "metadata": {},
     "output_type": "display_data"
    },
    {
     "name": "stdout",
     "output_type": "stream",
     "text": [
      "Reading /Users/stuartgow/GitHub/AI_Dissertation/EEG_Datasets_Source_x/ds004584-1.0.0/sub-122/eeg/sub-122_task-Rest_eeg.fdt\n",
      "Reading 0 ... 72439  =      0.000 ...   144.878 secs...\n",
      "Computing power spectrum using welch method...\n",
      "Effective window size : 4.096 (s)\n",
      "For Spectra Group:\n",
      "- 63 channels & 1020 frequencies\n",
      "- Frequency Range: 1 to 250 Hz\n",
      "- Frequency resolution 0.24 Hz\n",
      "Extracting Periodic & Aperiodic Components with Parameters:\n",
      "- Peak width limits: [1, 12]\n",
      "- Min peak height: 0.05\n",
      "- Max peaks: 25\n",
      "- Range: [1, 75]\n",
      "- Aperiodic Mode: fixed\n"
     ]
    },
    {
     "name": "stderr",
     "output_type": "stream",
     "text": [
      "/var/folders/wd/rhzj_w8570g_y66t6j6mh4zw0000gn/T/ipykernel_89708/1201790303.py:26: RuntimeWarning: The data contains 'boundary' events, indicating data discontinuities. Be cautious of filtering and epoching around these events.\n",
      "  eeg_dataset_raw = mne.io.read_raw_eeglab(eeg_lab_file_path, preload=True)\n"
     ]
    },
    {
     "data": {
      "application/vnd.jupyter.widget-view+json": {
       "model_id": "a4fcba7bb1af4407ab0a87f139a98579",
       "version_major": 2,
       "version_minor": 0
      },
      "text/plain": [
       "Running FOOOFGroup:   0%|          | 0/63 [00:00<?, ?it/s]"
      ]
     },
     "metadata": {},
     "output_type": "display_data"
    },
    {
     "name": "stdout",
     "output_type": "stream",
     "text": [
      "Reading /Users/stuartgow/GitHub/AI_Dissertation/EEG_Datasets_Source_x/ds004584-1.0.0/sub-123/eeg/sub-123_task-Rest_eeg.fdt\n",
      "Reading 0 ... 82619  =      0.000 ...   165.238 secs...\n",
      "Computing power spectrum using welch method...\n",
      "Effective window size : 4.096 (s)\n",
      "For Spectra Group:\n",
      "- 63 channels & 1020 frequencies\n",
      "- Frequency Range: 1 to 250 Hz\n",
      "- Frequency resolution 0.24 Hz\n",
      "Extracting Periodic & Aperiodic Components with Parameters:\n",
      "- Peak width limits: [1, 12]\n",
      "- Min peak height: 0.05\n",
      "- Max peaks: 25\n",
      "- Range: [1, 75]\n",
      "- Aperiodic Mode: fixed\n"
     ]
    },
    {
     "name": "stderr",
     "output_type": "stream",
     "text": [
      "/var/folders/wd/rhzj_w8570g_y66t6j6mh4zw0000gn/T/ipykernel_89708/1201790303.py:26: RuntimeWarning: The data contains 'boundary' events, indicating data discontinuities. Be cautious of filtering and epoching around these events.\n",
      "  eeg_dataset_raw = mne.io.read_raw_eeglab(eeg_lab_file_path, preload=True)\n"
     ]
    },
    {
     "data": {
      "application/vnd.jupyter.widget-view+json": {
       "model_id": "7810e6538395444eb7544d71c50570d0",
       "version_major": 2,
       "version_minor": 0
      },
      "text/plain": [
       "Running FOOOFGroup:   0%|          | 0/63 [00:00<?, ?it/s]"
      ]
     },
     "metadata": {},
     "output_type": "display_data"
    },
    {
     "name": "stdout",
     "output_type": "stream",
     "text": [
      "Reading /Users/stuartgow/GitHub/AI_Dissertation/EEG_Datasets_Source_x/ds004584-1.0.0/sub-124/eeg/sub-124_task-Rest_eeg.fdt\n",
      "Reading 0 ... 82549  =      0.000 ...   165.098 secs...\n",
      "Computing power spectrum using welch method...\n",
      "Effective window size : 4.096 (s)\n",
      "For Spectra Group:\n",
      "- 63 channels & 1020 frequencies\n",
      "- Frequency Range: 1 to 250 Hz\n",
      "- Frequency resolution 0.24 Hz\n",
      "Extracting Periodic & Aperiodic Components with Parameters:\n",
      "- Peak width limits: [1, 12]\n",
      "- Min peak height: 0.05\n",
      "- Max peaks: 25\n",
      "- Range: [1, 75]\n",
      "- Aperiodic Mode: fixed\n"
     ]
    },
    {
     "name": "stderr",
     "output_type": "stream",
     "text": [
      "/var/folders/wd/rhzj_w8570g_y66t6j6mh4zw0000gn/T/ipykernel_89708/1201790303.py:26: RuntimeWarning: The data contains 'boundary' events, indicating data discontinuities. Be cautious of filtering and epoching around these events.\n",
      "  eeg_dataset_raw = mne.io.read_raw_eeglab(eeg_lab_file_path, preload=True)\n"
     ]
    },
    {
     "data": {
      "application/vnd.jupyter.widget-view+json": {
       "model_id": "8ae52325fee24ea49697b4becc5a611b",
       "version_major": 2,
       "version_minor": 0
      },
      "text/plain": [
       "Running FOOOFGroup:   0%|          | 0/63 [00:00<?, ?it/s]"
      ]
     },
     "metadata": {},
     "output_type": "display_data"
    },
    {
     "name": "stdout",
     "output_type": "stream",
     "text": [
      "Model fitting was unsuccessful.\n",
      "Reading /Users/stuartgow/GitHub/AI_Dissertation/EEG_Datasets_Source_x/ds004584-1.0.0/sub-125/eeg/sub-125_task-Rest_eeg.fdt\n",
      "Reading 0 ... 75599  =      0.000 ...   151.198 secs...\n",
      "Computing power spectrum using welch method...\n",
      "Effective window size : 4.096 (s)\n",
      "For Spectra Group:\n",
      "- 63 channels & 1020 frequencies\n",
      "- Frequency Range: 1 to 250 Hz\n",
      "- Frequency resolution 0.24 Hz\n",
      "Extracting Periodic & Aperiodic Components with Parameters:\n",
      "- Peak width limits: [1, 12]\n",
      "- Min peak height: 0.05\n",
      "- Max peaks: 25\n",
      "- Range: [1, 75]\n",
      "- Aperiodic Mode: fixed\n"
     ]
    },
    {
     "name": "stderr",
     "output_type": "stream",
     "text": [
      "/var/folders/wd/rhzj_w8570g_y66t6j6mh4zw0000gn/T/ipykernel_89708/1201790303.py:26: RuntimeWarning: The data contains 'boundary' events, indicating data discontinuities. Be cautious of filtering and epoching around these events.\n",
      "  eeg_dataset_raw = mne.io.read_raw_eeglab(eeg_lab_file_path, preload=True)\n"
     ]
    },
    {
     "data": {
      "application/vnd.jupyter.widget-view+json": {
       "model_id": "8cbde7a140e64ada8efbcb73982ae4e5",
       "version_major": 2,
       "version_minor": 0
      },
      "text/plain": [
       "Running FOOOFGroup:   0%|          | 0/63 [00:00<?, ?it/s]"
      ]
     },
     "metadata": {},
     "output_type": "display_data"
    },
    {
     "name": "stdout",
     "output_type": "stream",
     "text": [
      "Reading /Users/stuartgow/GitHub/AI_Dissertation/EEG_Datasets_Source_x/ds004584-1.0.0/sub-126/eeg/sub-126_task-Rest_eeg.fdt\n",
      "Reading 0 ... 83029  =      0.000 ...   166.058 secs...\n",
      "Computing power spectrum using welch method...\n",
      "Effective window size : 4.096 (s)\n",
      "For Spectra Group:\n",
      "- 63 channels & 1020 frequencies\n",
      "- Frequency Range: 1 to 250 Hz\n",
      "- Frequency resolution 0.24 Hz\n",
      "Extracting Periodic & Aperiodic Components with Parameters:\n",
      "- Peak width limits: [1, 12]\n",
      "- Min peak height: 0.05\n",
      "- Max peaks: 25\n",
      "- Range: [1, 75]\n",
      "- Aperiodic Mode: fixed\n"
     ]
    },
    {
     "name": "stderr",
     "output_type": "stream",
     "text": [
      "/var/folders/wd/rhzj_w8570g_y66t6j6mh4zw0000gn/T/ipykernel_89708/1201790303.py:26: RuntimeWarning: The data contains 'boundary' events, indicating data discontinuities. Be cautious of filtering and epoching around these events.\n",
      "  eeg_dataset_raw = mne.io.read_raw_eeglab(eeg_lab_file_path, preload=True)\n"
     ]
    },
    {
     "data": {
      "application/vnd.jupyter.widget-view+json": {
       "model_id": "1a6034ffdeb7425794439c7afa8f11c8",
       "version_major": 2,
       "version_minor": 0
      },
      "text/plain": [
       "Running FOOOFGroup:   0%|          | 0/63 [00:00<?, ?it/s]"
      ]
     },
     "metadata": {},
     "output_type": "display_data"
    },
    {
     "name": "stdout",
     "output_type": "stream",
     "text": [
      "Reading /Users/stuartgow/GitHub/AI_Dissertation/EEG_Datasets_Source_x/ds004584-1.0.0/sub-127/eeg/sub-127_task-Rest_eeg.fdt\n",
      "Reading 0 ... 80579  =      0.000 ...   161.158 secs...\n",
      "Computing power spectrum using welch method...\n",
      "Effective window size : 4.096 (s)\n",
      "For Spectra Group:\n",
      "- 63 channels & 1020 frequencies\n",
      "- Frequency Range: 1 to 250 Hz\n",
      "- Frequency resolution 0.24 Hz\n",
      "Extracting Periodic & Aperiodic Components with Parameters:\n",
      "- Peak width limits: [1, 12]\n",
      "- Min peak height: 0.05\n",
      "- Max peaks: 25\n",
      "- Range: [1, 75]\n",
      "- Aperiodic Mode: fixed\n"
     ]
    },
    {
     "name": "stderr",
     "output_type": "stream",
     "text": [
      "/var/folders/wd/rhzj_w8570g_y66t6j6mh4zw0000gn/T/ipykernel_89708/1201790303.py:26: RuntimeWarning: The data contains 'boundary' events, indicating data discontinuities. Be cautious of filtering and epoching around these events.\n",
      "  eeg_dataset_raw = mne.io.read_raw_eeglab(eeg_lab_file_path, preload=True)\n"
     ]
    },
    {
     "data": {
      "application/vnd.jupyter.widget-view+json": {
       "model_id": "1a9294aedd8942f5a850b1b7018484f2",
       "version_major": 2,
       "version_minor": 0
      },
      "text/plain": [
       "Running FOOOFGroup:   0%|          | 0/63 [00:00<?, ?it/s]"
      ]
     },
     "metadata": {},
     "output_type": "display_data"
    },
    {
     "name": "stdout",
     "output_type": "stream",
     "text": [
      "Reading /Users/stuartgow/GitHub/AI_Dissertation/EEG_Datasets_Source_x/ds004584-1.0.0/sub-128/eeg/sub-128_task-Rest_eeg.fdt\n",
      "Reading 0 ... 87799  =      0.000 ...   175.598 secs...\n",
      "Computing power spectrum using welch method...\n",
      "Effective window size : 4.096 (s)\n",
      "For Spectra Group:\n",
      "- 63 channels & 1020 frequencies\n",
      "- Frequency Range: 1 to 250 Hz\n",
      "- Frequency resolution 0.24 Hz\n",
      "Extracting Periodic & Aperiodic Components with Parameters:\n",
      "- Peak width limits: [1, 12]\n",
      "- Min peak height: 0.05\n",
      "- Max peaks: 25\n",
      "- Range: [1, 75]\n",
      "- Aperiodic Mode: fixed\n"
     ]
    },
    {
     "name": "stderr",
     "output_type": "stream",
     "text": [
      "/var/folders/wd/rhzj_w8570g_y66t6j6mh4zw0000gn/T/ipykernel_89708/1201790303.py:26: RuntimeWarning: The data contains 'boundary' events, indicating data discontinuities. Be cautious of filtering and epoching around these events.\n",
      "  eeg_dataset_raw = mne.io.read_raw_eeglab(eeg_lab_file_path, preload=True)\n"
     ]
    },
    {
     "data": {
      "application/vnd.jupyter.widget-view+json": {
       "model_id": "851b581ada9e43729b8b0617d12de2d8",
       "version_major": 2,
       "version_minor": 0
      },
      "text/plain": [
       "Running FOOOFGroup:   0%|          | 0/63 [00:00<?, ?it/s]"
      ]
     },
     "metadata": {},
     "output_type": "display_data"
    },
    {
     "name": "stdout",
     "output_type": "stream",
     "text": [
      "Reading /Users/stuartgow/GitHub/AI_Dissertation/EEG_Datasets_Source_x/ds004584-1.0.0/sub-129/eeg/sub-129_task-Rest_eeg.fdt\n",
      "Reading 0 ... 60999  =      0.000 ...   121.998 secs...\n",
      "Computing power spectrum using welch method...\n",
      "Effective window size : 4.096 (s)\n",
      "For Spectra Group:\n",
      "- 63 channels & 1020 frequencies\n",
      "- Frequency Range: 1 to 250 Hz\n",
      "- Frequency resolution 0.24 Hz\n",
      "Extracting Periodic & Aperiodic Components with Parameters:\n",
      "- Peak width limits: [1, 12]\n",
      "- Min peak height: 0.05\n",
      "- Max peaks: 25\n",
      "- Range: [1, 75]\n",
      "- Aperiodic Mode: fixed\n"
     ]
    },
    {
     "name": "stderr",
     "output_type": "stream",
     "text": [
      "/var/folders/wd/rhzj_w8570g_y66t6j6mh4zw0000gn/T/ipykernel_89708/1201790303.py:26: RuntimeWarning: The data contains 'boundary' events, indicating data discontinuities. Be cautious of filtering and epoching around these events.\n",
      "  eeg_dataset_raw = mne.io.read_raw_eeglab(eeg_lab_file_path, preload=True)\n"
     ]
    },
    {
     "data": {
      "application/vnd.jupyter.widget-view+json": {
       "model_id": "aabe14a70cda46958c9e8b9093a9fae8",
       "version_major": 2,
       "version_minor": 0
      },
      "text/plain": [
       "Running FOOOFGroup:   0%|          | 0/63 [00:00<?, ?it/s]"
      ]
     },
     "metadata": {},
     "output_type": "display_data"
    },
    {
     "name": "stdout",
     "output_type": "stream",
     "text": [
      "Reading /Users/stuartgow/GitHub/AI_Dissertation/EEG_Datasets_Source_x/ds004584-1.0.0/sub-130/eeg/sub-130_task-Rest_eeg.fdt\n",
      "Reading 0 ... 89039  =      0.000 ...   178.078 secs...\n",
      "Computing power spectrum using welch method...\n",
      "Effective window size : 4.096 (s)\n",
      "For Spectra Group:\n",
      "- 63 channels & 1020 frequencies\n",
      "- Frequency Range: 1 to 250 Hz\n",
      "- Frequency resolution 0.24 Hz\n",
      "Extracting Periodic & Aperiodic Components with Parameters:\n",
      "- Peak width limits: [1, 12]\n",
      "- Min peak height: 0.05\n",
      "- Max peaks: 25\n",
      "- Range: [1, 75]\n",
      "- Aperiodic Mode: fixed\n"
     ]
    },
    {
     "name": "stderr",
     "output_type": "stream",
     "text": [
      "/var/folders/wd/rhzj_w8570g_y66t6j6mh4zw0000gn/T/ipykernel_89708/1201790303.py:26: RuntimeWarning: The data contains 'boundary' events, indicating data discontinuities. Be cautious of filtering and epoching around these events.\n",
      "  eeg_dataset_raw = mne.io.read_raw_eeglab(eeg_lab_file_path, preload=True)\n"
     ]
    },
    {
     "data": {
      "application/vnd.jupyter.widget-view+json": {
       "model_id": "ad915b122f664fc5942568ab3c9490e2",
       "version_major": 2,
       "version_minor": 0
      },
      "text/plain": [
       "Running FOOOFGroup:   0%|          | 0/63 [00:00<?, ?it/s]"
      ]
     },
     "metadata": {},
     "output_type": "display_data"
    },
    {
     "name": "stdout",
     "output_type": "stream",
     "text": [
      "Reading /Users/stuartgow/GitHub/AI_Dissertation/EEG_Datasets_Source_x/ds004584-1.0.0/sub-131/eeg/sub-131_task-Rest_eeg.fdt\n",
      "Reading 0 ... 93719  =      0.000 ...   187.438 secs...\n",
      "Computing power spectrum using welch method...\n",
      "Effective window size : 4.096 (s)\n"
     ]
    },
    {
     "name": "stderr",
     "output_type": "stream",
     "text": [
      "/var/folders/wd/rhzj_w8570g_y66t6j6mh4zw0000gn/T/ipykernel_89708/1201790303.py:26: RuntimeWarning: The data contains 'boundary' events, indicating data discontinuities. Be cautious of filtering and epoching around these events.\n",
      "  eeg_dataset_raw = mne.io.read_raw_eeglab(eeg_lab_file_path, preload=True)\n"
     ]
    },
    {
     "name": "stdout",
     "output_type": "stream",
     "text": [
      "For Spectra Group:\n",
      "- 63 channels & 1020 frequencies\n",
      "- Frequency Range: 1 to 250 Hz\n",
      "- Frequency resolution 0.24 Hz\n",
      "Extracting Periodic & Aperiodic Components with Parameters:\n",
      "- Peak width limits: [1, 12]\n",
      "- Min peak height: 0.05\n",
      "- Max peaks: 25\n",
      "- Range: [1, 75]\n",
      "- Aperiodic Mode: fixed\n"
     ]
    },
    {
     "data": {
      "application/vnd.jupyter.widget-view+json": {
       "model_id": "b098b71ba52443e3a976f4b5d68d9acd",
       "version_major": 2,
       "version_minor": 0
      },
      "text/plain": [
       "Running FOOOFGroup:   0%|          | 0/63 [00:00<?, ?it/s]"
      ]
     },
     "metadata": {},
     "output_type": "display_data"
    },
    {
     "name": "stdout",
     "output_type": "stream",
     "text": [
      "Reading /Users/stuartgow/GitHub/AI_Dissertation/EEG_Datasets_Source_x/ds004584-1.0.0/sub-132/eeg/sub-132_task-Rest_eeg.fdt\n",
      "Reading 0 ... 88389  =      0.000 ...   176.778 secs...\n",
      "Computing power spectrum using welch method...\n",
      "Effective window size : 4.096 (s)\n",
      "For Spectra Group:\n",
      "- 63 channels & 1020 frequencies\n",
      "- Frequency Range: 1 to 250 Hz\n",
      "- Frequency resolution 0.24 Hz\n",
      "Extracting Periodic & Aperiodic Components with Parameters:\n",
      "- Peak width limits: [1, 12]\n",
      "- Min peak height: 0.05\n",
      "- Max peaks: 25\n",
      "- Range: [1, 75]\n",
      "- Aperiodic Mode: fixed\n"
     ]
    },
    {
     "name": "stderr",
     "output_type": "stream",
     "text": [
      "/var/folders/wd/rhzj_w8570g_y66t6j6mh4zw0000gn/T/ipykernel_89708/1201790303.py:26: RuntimeWarning: The data contains 'boundary' events, indicating data discontinuities. Be cautious of filtering and epoching around these events.\n",
      "  eeg_dataset_raw = mne.io.read_raw_eeglab(eeg_lab_file_path, preload=True)\n"
     ]
    },
    {
     "data": {
      "application/vnd.jupyter.widget-view+json": {
       "model_id": "6215492691da42c5b9b3c1a63d2cbee8",
       "version_major": 2,
       "version_minor": 0
      },
      "text/plain": [
       "Running FOOOFGroup:   0%|          | 0/63 [00:00<?, ?it/s]"
      ]
     },
     "metadata": {},
     "output_type": "display_data"
    },
    {
     "name": "stdout",
     "output_type": "stream",
     "text": [
      "Reading /Users/stuartgow/GitHub/AI_Dissertation/EEG_Datasets_Source_x/ds004584-1.0.0/sub-133/eeg/sub-133_task-Rest_eeg.fdt\n",
      "Reading 0 ... 71449  =      0.000 ...   142.898 secs...\n",
      "Computing power spectrum using welch method...\n",
      "Effective window size : 4.096 (s)\n",
      "For Spectra Group:\n",
      "- 63 channels & 1020 frequencies\n",
      "- Frequency Range: 1 to 250 Hz\n",
      "- Frequency resolution 0.24 Hz\n",
      "Extracting Periodic & Aperiodic Components with Parameters:\n",
      "- Peak width limits: [1, 12]\n",
      "- Min peak height: 0.05\n",
      "- Max peaks: 25\n",
      "- Range: [1, 75]\n",
      "- Aperiodic Mode: fixed\n"
     ]
    },
    {
     "name": "stderr",
     "output_type": "stream",
     "text": [
      "/var/folders/wd/rhzj_w8570g_y66t6j6mh4zw0000gn/T/ipykernel_89708/1201790303.py:26: RuntimeWarning: The data contains 'boundary' events, indicating data discontinuities. Be cautious of filtering and epoching around these events.\n",
      "  eeg_dataset_raw = mne.io.read_raw_eeglab(eeg_lab_file_path, preload=True)\n"
     ]
    },
    {
     "data": {
      "application/vnd.jupyter.widget-view+json": {
       "model_id": "d20f506f146645199fa9f57cbe230834",
       "version_major": 2,
       "version_minor": 0
      },
      "text/plain": [
       "Running FOOOFGroup:   0%|          | 0/63 [00:00<?, ?it/s]"
      ]
     },
     "metadata": {},
     "output_type": "display_data"
    },
    {
     "name": "stdout",
     "output_type": "stream",
     "text": [
      "Reading /Users/stuartgow/GitHub/AI_Dissertation/EEG_Datasets_Source_x/ds004584-1.0.0/sub-134/eeg/sub-134_task-Rest_eeg.fdt\n",
      "Reading 0 ... 72549  =      0.000 ...   145.098 secs...\n",
      "Computing power spectrum using welch method...\n",
      "Effective window size : 4.096 (s)\n",
      "For Spectra Group:\n",
      "- 63 channels & 1020 frequencies\n",
      "- Frequency Range: 1 to 250 Hz\n",
      "- Frequency resolution 0.24 Hz\n",
      "Extracting Periodic & Aperiodic Components with Parameters:\n",
      "- Peak width limits: [1, 12]\n",
      "- Min peak height: 0.05\n",
      "- Max peaks: 25\n",
      "- Range: [1, 75]\n",
      "- Aperiodic Mode: fixed\n"
     ]
    },
    {
     "name": "stderr",
     "output_type": "stream",
     "text": [
      "/var/folders/wd/rhzj_w8570g_y66t6j6mh4zw0000gn/T/ipykernel_89708/1201790303.py:26: RuntimeWarning: The data contains 'boundary' events, indicating data discontinuities. Be cautious of filtering and epoching around these events.\n",
      "  eeg_dataset_raw = mne.io.read_raw_eeglab(eeg_lab_file_path, preload=True)\n"
     ]
    },
    {
     "data": {
      "application/vnd.jupyter.widget-view+json": {
       "model_id": "a5fa84a495ac4b8a946e9ea6ae02be6f",
       "version_major": 2,
       "version_minor": 0
      },
      "text/plain": [
       "Running FOOOFGroup:   0%|          | 0/63 [00:00<?, ?it/s]"
      ]
     },
     "metadata": {},
     "output_type": "display_data"
    },
    {
     "name": "stdout",
     "output_type": "stream",
     "text": [
      "Reading /Users/stuartgow/GitHub/AI_Dissertation/EEG_Datasets_Source_x/ds004584-1.0.0/sub-135/eeg/sub-135_task-Rest_eeg.fdt\n",
      "Reading 0 ... 67129  =      0.000 ...   134.258 secs...\n",
      "Computing power spectrum using welch method...\n",
      "Effective window size : 4.096 (s)\n",
      "For Spectra Group:\n",
      "- 63 channels & 1020 frequencies\n",
      "- Frequency Range: 1 to 250 Hz\n",
      "- Frequency resolution 0.24 Hz\n",
      "Extracting Periodic & Aperiodic Components with Parameters:\n",
      "- Peak width limits: [1, 12]\n",
      "- Min peak height: 0.05\n",
      "- Max peaks: 25\n",
      "- Range: [1, 75]\n",
      "- Aperiodic Mode: fixed\n"
     ]
    },
    {
     "name": "stderr",
     "output_type": "stream",
     "text": [
      "/var/folders/wd/rhzj_w8570g_y66t6j6mh4zw0000gn/T/ipykernel_89708/1201790303.py:26: RuntimeWarning: The data contains 'boundary' events, indicating data discontinuities. Be cautious of filtering and epoching around these events.\n",
      "  eeg_dataset_raw = mne.io.read_raw_eeglab(eeg_lab_file_path, preload=True)\n"
     ]
    },
    {
     "data": {
      "application/vnd.jupyter.widget-view+json": {
       "model_id": "1d25a064561b4cc289ce66b006a840bd",
       "version_major": 2,
       "version_minor": 0
      },
      "text/plain": [
       "Running FOOOFGroup:   0%|          | 0/63 [00:00<?, ?it/s]"
      ]
     },
     "metadata": {},
     "output_type": "display_data"
    },
    {
     "name": "stdout",
     "output_type": "stream",
     "text": [
      "Reading /Users/stuartgow/GitHub/AI_Dissertation/EEG_Datasets_Source_x/ds004584-1.0.0/sub-136/eeg/sub-136_task-Rest_eeg.fdt\n",
      "Reading 0 ... 72859  =      0.000 ...   145.718 secs...\n",
      "Computing power spectrum using welch method...\n",
      "Effective window size : 4.096 (s)\n",
      "For Spectra Group:\n",
      "- 63 channels & 1020 frequencies\n",
      "- Frequency Range: 1 to 250 Hz\n",
      "- Frequency resolution 0.24 Hz\n",
      "Extracting Periodic & Aperiodic Components with Parameters:\n",
      "- Peak width limits: [1, 12]\n",
      "- Min peak height: 0.05\n",
      "- Max peaks: 25\n",
      "- Range: [1, 75]\n",
      "- Aperiodic Mode: fixed\n"
     ]
    },
    {
     "name": "stderr",
     "output_type": "stream",
     "text": [
      "/var/folders/wd/rhzj_w8570g_y66t6j6mh4zw0000gn/T/ipykernel_89708/1201790303.py:26: RuntimeWarning: The data contains 'boundary' events, indicating data discontinuities. Be cautious of filtering and epoching around these events.\n",
      "  eeg_dataset_raw = mne.io.read_raw_eeglab(eeg_lab_file_path, preload=True)\n"
     ]
    },
    {
     "data": {
      "application/vnd.jupyter.widget-view+json": {
       "model_id": "2ac9946129bf475f8770d623e51e50e5",
       "version_major": 2,
       "version_minor": 0
      },
      "text/plain": [
       "Running FOOOFGroup:   0%|          | 0/63 [00:00<?, ?it/s]"
      ]
     },
     "metadata": {},
     "output_type": "display_data"
    },
    {
     "name": "stdout",
     "output_type": "stream",
     "text": [
      "Reading /Users/stuartgow/GitHub/AI_Dissertation/EEG_Datasets_Source_x/ds004584-1.0.0/sub-137/eeg/sub-137_task-Rest_eeg.fdt\n",
      "Reading 0 ... 62959  =      0.000 ...   125.918 secs...\n",
      "Computing power spectrum using welch method...\n",
      "Effective window size : 4.096 (s)\n",
      "For Spectra Group:\n",
      "- 63 channels & 1020 frequencies\n",
      "- Frequency Range: 1 to 250 Hz\n",
      "- Frequency resolution 0.24 Hz\n",
      "Extracting Periodic & Aperiodic Components with Parameters:\n",
      "- Peak width limits: [1, 12]\n",
      "- Min peak height: 0.05\n",
      "- Max peaks: 25\n",
      "- Range: [1, 75]\n",
      "- Aperiodic Mode: fixed\n"
     ]
    },
    {
     "name": "stderr",
     "output_type": "stream",
     "text": [
      "/var/folders/wd/rhzj_w8570g_y66t6j6mh4zw0000gn/T/ipykernel_89708/1201790303.py:26: RuntimeWarning: The data contains 'boundary' events, indicating data discontinuities. Be cautious of filtering and epoching around these events.\n",
      "  eeg_dataset_raw = mne.io.read_raw_eeglab(eeg_lab_file_path, preload=True)\n"
     ]
    },
    {
     "data": {
      "application/vnd.jupyter.widget-view+json": {
       "model_id": "8f92915e4f9b48a09c9d03ea8954e80f",
       "version_major": 2,
       "version_minor": 0
      },
      "text/plain": [
       "Running FOOOFGroup:   0%|          | 0/63 [00:00<?, ?it/s]"
      ]
     },
     "metadata": {},
     "output_type": "display_data"
    },
    {
     "name": "stdout",
     "output_type": "stream",
     "text": [
      "Reading /Users/stuartgow/GitHub/AI_Dissertation/EEG_Datasets_Source_x/ds004584-1.0.0/sub-138/eeg/sub-138_task-Rest_eeg.fdt\n",
      "Reading 0 ... 72919  =      0.000 ...   145.838 secs...\n",
      "Computing power spectrum using welch method...\n",
      "Effective window size : 4.096 (s)\n",
      "For Spectra Group:\n",
      "- 63 channels & 1020 frequencies\n",
      "- Frequency Range: 1 to 250 Hz\n",
      "- Frequency resolution 0.24 Hz\n",
      "Extracting Periodic & Aperiodic Components with Parameters:\n",
      "- Peak width limits: [1, 12]\n",
      "- Min peak height: 0.05\n",
      "- Max peaks: 25\n",
      "- Range: [1, 75]\n",
      "- Aperiodic Mode: fixed\n"
     ]
    },
    {
     "name": "stderr",
     "output_type": "stream",
     "text": [
      "/var/folders/wd/rhzj_w8570g_y66t6j6mh4zw0000gn/T/ipykernel_89708/1201790303.py:26: RuntimeWarning: The data contains 'boundary' events, indicating data discontinuities. Be cautious of filtering and epoching around these events.\n",
      "  eeg_dataset_raw = mne.io.read_raw_eeglab(eeg_lab_file_path, preload=True)\n"
     ]
    },
    {
     "data": {
      "application/vnd.jupyter.widget-view+json": {
       "model_id": "a99dbff1d8dc4e7690e7c71b566d8d00",
       "version_major": 2,
       "version_minor": 0
      },
      "text/plain": [
       "Running FOOOFGroup:   0%|          | 0/63 [00:00<?, ?it/s]"
      ]
     },
     "metadata": {},
     "output_type": "display_data"
    },
    {
     "name": "stdout",
     "output_type": "stream",
     "text": [
      "Model fitting was unsuccessful.\n",
      "Reading /Users/stuartgow/GitHub/AI_Dissertation/EEG_Datasets_Source_x/ds004584-1.0.0/sub-139/eeg/sub-139_task-Rest_eeg.fdt\n",
      "Reading 0 ... 92039  =      0.000 ...   184.078 secs...\n",
      "Computing power spectrum using welch method...\n",
      "Effective window size : 4.096 (s)\n",
      "For Spectra Group:\n",
      "- 63 channels & 1020 frequencies\n",
      "- Frequency Range: 1 to 250 Hz\n",
      "- Frequency resolution 0.24 Hz\n",
      "Extracting Periodic & Aperiodic Components with Parameters:\n",
      "- Peak width limits: [1, 12]\n",
      "- Min peak height: 0.05\n",
      "- Max peaks: 25\n",
      "- Range: [1, 75]\n",
      "- Aperiodic Mode: fixed\n"
     ]
    },
    {
     "name": "stderr",
     "output_type": "stream",
     "text": [
      "/var/folders/wd/rhzj_w8570g_y66t6j6mh4zw0000gn/T/ipykernel_89708/1201790303.py:26: RuntimeWarning: The data contains 'boundary' events, indicating data discontinuities. Be cautious of filtering and epoching around these events.\n",
      "  eeg_dataset_raw = mne.io.read_raw_eeglab(eeg_lab_file_path, preload=True)\n"
     ]
    },
    {
     "data": {
      "application/vnd.jupyter.widget-view+json": {
       "model_id": "2e436c1ca2414f348689efa9bbf1ab5c",
       "version_major": 2,
       "version_minor": 0
      },
      "text/plain": [
       "Running FOOOFGroup:   0%|          | 0/63 [00:00<?, ?it/s]"
      ]
     },
     "metadata": {},
     "output_type": "display_data"
    },
    {
     "name": "stdout",
     "output_type": "stream",
     "text": [
      "Reading /Users/stuartgow/GitHub/AI_Dissertation/EEG_Datasets_Source_x/ds004584-1.0.0/sub-140/eeg/sub-140_task-Rest_eeg.fdt\n",
      "Reading 0 ... 61659  =      0.000 ...   123.318 secs...\n",
      "Computing power spectrum using welch method...\n",
      "Effective window size : 4.096 (s)\n",
      "For Spectra Group:\n",
      "- 64 channels & 1020 frequencies\n",
      "- Frequency Range: 1 to 250 Hz\n",
      "- Frequency resolution 0.24 Hz\n",
      "Extracting Periodic & Aperiodic Components with Parameters:\n",
      "- Peak width limits: [1, 12]\n",
      "- Min peak height: 0.05\n",
      "- Max peaks: 25\n",
      "- Range: [1, 75]\n",
      "- Aperiodic Mode: fixed\n"
     ]
    },
    {
     "name": "stderr",
     "output_type": "stream",
     "text": [
      "/var/folders/wd/rhzj_w8570g_y66t6j6mh4zw0000gn/T/ipykernel_89708/1201790303.py:26: RuntimeWarning: The data contains 'boundary' events, indicating data discontinuities. Be cautious of filtering and epoching around these events.\n",
      "  eeg_dataset_raw = mne.io.read_raw_eeglab(eeg_lab_file_path, preload=True)\n"
     ]
    },
    {
     "data": {
      "application/vnd.jupyter.widget-view+json": {
       "model_id": "1012be6676224afaa1aa8f215a13a0a6",
       "version_major": 2,
       "version_minor": 0
      },
      "text/plain": [
       "Running FOOOFGroup:   0%|          | 0/64 [00:00<?, ?it/s]"
      ]
     },
     "metadata": {},
     "output_type": "display_data"
    },
    {
     "name": "stdout",
     "output_type": "stream",
     "text": [
      "Reading /Users/stuartgow/GitHub/AI_Dissertation/EEG_Datasets_Source_x/ds004584-1.0.0/sub-141/eeg/sub-141_task-Rest_eeg.fdt\n",
      "Reading 0 ... 62499  =      0.000 ...   124.998 secs...\n",
      "Computing power spectrum using welch method...\n",
      "Effective window size : 4.096 (s)\n",
      "For Spectra Group:\n",
      "- 64 channels & 1020 frequencies\n",
      "- Frequency Range: 1 to 250 Hz\n",
      "- Frequency resolution 0.24 Hz\n",
      "Extracting Periodic & Aperiodic Components with Parameters:\n",
      "- Peak width limits: [1, 12]\n",
      "- Min peak height: 0.05\n",
      "- Max peaks: 25\n",
      "- Range: [1, 75]\n",
      "- Aperiodic Mode: fixed\n"
     ]
    },
    {
     "name": "stderr",
     "output_type": "stream",
     "text": [
      "/var/folders/wd/rhzj_w8570g_y66t6j6mh4zw0000gn/T/ipykernel_89708/1201790303.py:26: RuntimeWarning: The data contains 'boundary' events, indicating data discontinuities. Be cautious of filtering and epoching around these events.\n",
      "  eeg_dataset_raw = mne.io.read_raw_eeglab(eeg_lab_file_path, preload=True)\n"
     ]
    },
    {
     "data": {
      "application/vnd.jupyter.widget-view+json": {
       "model_id": "9390f759b5094c17a097e9ead06c9b8d",
       "version_major": 2,
       "version_minor": 0
      },
      "text/plain": [
       "Running FOOOFGroup:   0%|          | 0/64 [00:00<?, ?it/s]"
      ]
     },
     "metadata": {},
     "output_type": "display_data"
    },
    {
     "name": "stdout",
     "output_type": "stream",
     "text": [
      "Reading /Users/stuartgow/GitHub/AI_Dissertation/EEG_Datasets_Source_x/ds004584-1.0.0/sub-142/eeg/sub-142_task-Rest_eeg.fdt\n",
      "Reading 0 ... 60809  =      0.000 ...   121.618 secs...\n",
      "Computing power spectrum using welch method...\n",
      "Effective window size : 4.096 (s)\n",
      "For Spectra Group:\n",
      "- 64 channels & 1020 frequencies\n",
      "- Frequency Range: 1 to 250 Hz\n",
      "- Frequency resolution 0.24 Hz\n",
      "Extracting Periodic & Aperiodic Components with Parameters:\n",
      "- Peak width limits: [1, 12]\n",
      "- Min peak height: 0.05\n",
      "- Max peaks: 25\n",
      "- Range: [1, 75]\n",
      "- Aperiodic Mode: fixed\n"
     ]
    },
    {
     "name": "stderr",
     "output_type": "stream",
     "text": [
      "/var/folders/wd/rhzj_w8570g_y66t6j6mh4zw0000gn/T/ipykernel_89708/1201790303.py:26: RuntimeWarning: The data contains 'boundary' events, indicating data discontinuities. Be cautious of filtering and epoching around these events.\n",
      "  eeg_dataset_raw = mne.io.read_raw_eeglab(eeg_lab_file_path, preload=True)\n"
     ]
    },
    {
     "data": {
      "application/vnd.jupyter.widget-view+json": {
       "model_id": "0c43739ef982431b817c24a3f9cd444e",
       "version_major": 2,
       "version_minor": 0
      },
      "text/plain": [
       "Running FOOOFGroup:   0%|          | 0/64 [00:00<?, ?it/s]"
      ]
     },
     "metadata": {},
     "output_type": "display_data"
    },
    {
     "name": "stdout",
     "output_type": "stream",
     "text": [
      "Reading /Users/stuartgow/GitHub/AI_Dissertation/EEG_Datasets_Source_x/ds004584-1.0.0/sub-143/eeg/sub-143_task-Rest_eeg.fdt\n",
      "Reading 0 ... 61109  =      0.000 ...   122.218 secs...\n",
      "Computing power spectrum using welch method...\n",
      "Effective window size : 4.096 (s)\n",
      "For Spectra Group:\n",
      "- 64 channels & 1020 frequencies\n",
      "- Frequency Range: 1 to 250 Hz\n",
      "- Frequency resolution 0.24 Hz\n",
      "Extracting Periodic & Aperiodic Components with Parameters:\n",
      "- Peak width limits: [1, 12]\n",
      "- Min peak height: 0.05\n",
      "- Max peaks: 25\n",
      "- Range: [1, 75]\n",
      "- Aperiodic Mode: fixed\n"
     ]
    },
    {
     "name": "stderr",
     "output_type": "stream",
     "text": [
      "/var/folders/wd/rhzj_w8570g_y66t6j6mh4zw0000gn/T/ipykernel_89708/1201790303.py:26: RuntimeWarning: The data contains 'boundary' events, indicating data discontinuities. Be cautious of filtering and epoching around these events.\n",
      "  eeg_dataset_raw = mne.io.read_raw_eeglab(eeg_lab_file_path, preload=True)\n"
     ]
    },
    {
     "data": {
      "application/vnd.jupyter.widget-view+json": {
       "model_id": "09eaf30c43be44fca623e8ff61b07a62",
       "version_major": 2,
       "version_minor": 0
      },
      "text/plain": [
       "Running FOOOFGroup:   0%|          | 0/64 [00:00<?, ?it/s]"
      ]
     },
     "metadata": {},
     "output_type": "display_data"
    },
    {
     "name": "stdout",
     "output_type": "stream",
     "text": [
      "Reading /Users/stuartgow/GitHub/AI_Dissertation/EEG_Datasets_Source_x/ds004584-1.0.0/sub-144/eeg/sub-144_task-Rest_eeg.fdt\n",
      "Reading 0 ... 60429  =      0.000 ...   120.858 secs...\n",
      "Computing power spectrum using welch method...\n",
      "Effective window size : 4.096 (s)\n",
      "For Spectra Group:\n",
      "- 64 channels & 1020 frequencies\n",
      "- Frequency Range: 1 to 250 Hz\n",
      "- Frequency resolution 0.24 Hz\n",
      "Extracting Periodic & Aperiodic Components with Parameters:\n",
      "- Peak width limits: [1, 12]\n",
      "- Min peak height: 0.05\n",
      "- Max peaks: 25\n",
      "- Range: [1, 75]\n",
      "- Aperiodic Mode: fixed\n"
     ]
    },
    {
     "name": "stderr",
     "output_type": "stream",
     "text": [
      "/var/folders/wd/rhzj_w8570g_y66t6j6mh4zw0000gn/T/ipykernel_89708/1201790303.py:26: RuntimeWarning: The data contains 'boundary' events, indicating data discontinuities. Be cautious of filtering and epoching around these events.\n",
      "  eeg_dataset_raw = mne.io.read_raw_eeglab(eeg_lab_file_path, preload=True)\n"
     ]
    },
    {
     "data": {
      "application/vnd.jupyter.widget-view+json": {
       "model_id": "0b86601feca140adbf0994918d3b02bc",
       "version_major": 2,
       "version_minor": 0
      },
      "text/plain": [
       "Running FOOOFGroup:   0%|          | 0/64 [00:00<?, ?it/s]"
      ]
     },
     "metadata": {},
     "output_type": "display_data"
    },
    {
     "name": "stdout",
     "output_type": "stream",
     "text": [
      "Reading /Users/stuartgow/GitHub/AI_Dissertation/EEG_Datasets_Source_x/ds004584-1.0.0/sub-145/eeg/sub-145_task-Rest_eeg.fdt\n",
      "Reading 0 ... 90889  =      0.000 ...   181.778 secs...\n",
      "Computing power spectrum using welch method...\n",
      "Effective window size : 4.096 (s)\n",
      "For Spectra Group:\n",
      "- 64 channels & 1020 frequencies\n",
      "- Frequency Range: 1 to 250 Hz\n",
      "- Frequency resolution 0.24 Hz\n",
      "Extracting Periodic & Aperiodic Components with Parameters:\n",
      "- Peak width limits: [1, 12]\n",
      "- Min peak height: 0.05\n",
      "- Max peaks: 25\n",
      "- Range: [1, 75]\n",
      "- Aperiodic Mode: fixed\n"
     ]
    },
    {
     "name": "stderr",
     "output_type": "stream",
     "text": [
      "/var/folders/wd/rhzj_w8570g_y66t6j6mh4zw0000gn/T/ipykernel_89708/1201790303.py:26: RuntimeWarning: The data contains 'boundary' events, indicating data discontinuities. Be cautious of filtering and epoching around these events.\n",
      "  eeg_dataset_raw = mne.io.read_raw_eeglab(eeg_lab_file_path, preload=True)\n"
     ]
    },
    {
     "data": {
      "application/vnd.jupyter.widget-view+json": {
       "model_id": "1860eb6f690e415fb8fc80e4ab412616",
       "version_major": 2,
       "version_minor": 0
      },
      "text/plain": [
       "Running FOOOFGroup:   0%|          | 0/64 [00:00<?, ?it/s]"
      ]
     },
     "metadata": {},
     "output_type": "display_data"
    },
    {
     "name": "stdout",
     "output_type": "stream",
     "text": [
      "Reading /Users/stuartgow/GitHub/AI_Dissertation/EEG_Datasets_Source_x/ds004584-1.0.0/sub-146/eeg/sub-146_task-Rest_eeg.fdt\n",
      "Reading 0 ... 73709  =      0.000 ...   147.418 secs...\n",
      "Computing power spectrum using welch method...\n",
      "Effective window size : 4.096 (s)\n",
      "For Spectra Group:\n",
      "- 64 channels & 1020 frequencies\n",
      "- Frequency Range: 1 to 250 Hz\n",
      "- Frequency resolution 0.24 Hz\n",
      "Extracting Periodic & Aperiodic Components with Parameters:\n",
      "- Peak width limits: [1, 12]\n",
      "- Min peak height: 0.05\n",
      "- Max peaks: 25\n",
      "- Range: [1, 75]\n",
      "- Aperiodic Mode: fixed\n"
     ]
    },
    {
     "name": "stderr",
     "output_type": "stream",
     "text": [
      "/var/folders/wd/rhzj_w8570g_y66t6j6mh4zw0000gn/T/ipykernel_89708/1201790303.py:26: RuntimeWarning: The data contains 'boundary' events, indicating data discontinuities. Be cautious of filtering and epoching around these events.\n",
      "  eeg_dataset_raw = mne.io.read_raw_eeglab(eeg_lab_file_path, preload=True)\n"
     ]
    },
    {
     "data": {
      "application/vnd.jupyter.widget-view+json": {
       "model_id": "a8c086384da3456bb91962cd9e5ed512",
       "version_major": 2,
       "version_minor": 0
      },
      "text/plain": [
       "Running FOOOFGroup:   0%|          | 0/64 [00:00<?, ?it/s]"
      ]
     },
     "metadata": {},
     "output_type": "display_data"
    },
    {
     "name": "stdout",
     "output_type": "stream",
     "text": [
      "Reading /Users/stuartgow/GitHub/AI_Dissertation/EEG_Datasets_Source_x/ds004584-1.0.0/sub-147/eeg/sub-147_task-Rest_eeg.fdt\n",
      "Reading 0 ... 62659  =      0.000 ...   125.318 secs...\n",
      "Computing power spectrum using welch method...\n",
      "Effective window size : 4.096 (s)\n",
      "For Spectra Group:\n",
      "- 64 channels & 1020 frequencies\n",
      "- Frequency Range: 1 to 250 Hz\n",
      "- Frequency resolution 0.24 Hz\n",
      "Extracting Periodic & Aperiodic Components with Parameters:\n",
      "- Peak width limits: [1, 12]\n",
      "- Min peak height: 0.05\n",
      "- Max peaks: 25\n",
      "- Range: [1, 75]\n",
      "- Aperiodic Mode: fixed\n"
     ]
    },
    {
     "name": "stderr",
     "output_type": "stream",
     "text": [
      "/var/folders/wd/rhzj_w8570g_y66t6j6mh4zw0000gn/T/ipykernel_89708/1201790303.py:26: RuntimeWarning: The data contains 'boundary' events, indicating data discontinuities. Be cautious of filtering and epoching around these events.\n",
      "  eeg_dataset_raw = mne.io.read_raw_eeglab(eeg_lab_file_path, preload=True)\n"
     ]
    },
    {
     "data": {
      "application/vnd.jupyter.widget-view+json": {
       "model_id": "768bfbc3849944a1ac5f36cbd1a941d1",
       "version_major": 2,
       "version_minor": 0
      },
      "text/plain": [
       "Running FOOOFGroup:   0%|          | 0/64 [00:00<?, ?it/s]"
      ]
     },
     "metadata": {},
     "output_type": "display_data"
    },
    {
     "name": "stdout",
     "output_type": "stream",
     "text": [
      "Reading /Users/stuartgow/GitHub/AI_Dissertation/EEG_Datasets_Source_x/ds004584-1.0.0/sub-148/eeg/sub-148_task-Rest_eeg.fdt\n",
      "Reading 0 ... 79219  =      0.000 ...   158.438 secs...\n",
      "Computing power spectrum using welch method...\n",
      "Effective window size : 4.096 (s)\n",
      "For Spectra Group:\n",
      "- 64 channels & 1020 frequencies\n",
      "- Frequency Range: 1 to 250 Hz\n",
      "- Frequency resolution 0.24 Hz\n",
      "Extracting Periodic & Aperiodic Components with Parameters:\n",
      "- Peak width limits: [1, 12]\n",
      "- Min peak height: 0.05\n",
      "- Max peaks: 25\n",
      "- Range: [1, 75]\n",
      "- Aperiodic Mode: fixed\n"
     ]
    },
    {
     "name": "stderr",
     "output_type": "stream",
     "text": [
      "/var/folders/wd/rhzj_w8570g_y66t6j6mh4zw0000gn/T/ipykernel_89708/1201790303.py:26: RuntimeWarning: The data contains 'boundary' events, indicating data discontinuities. Be cautious of filtering and epoching around these events.\n",
      "  eeg_dataset_raw = mne.io.read_raw_eeglab(eeg_lab_file_path, preload=True)\n"
     ]
    },
    {
     "data": {
      "application/vnd.jupyter.widget-view+json": {
       "model_id": "4531ddb658f74255851520920d764b3a",
       "version_major": 2,
       "version_minor": 0
      },
      "text/plain": [
       "Running FOOOFGroup:   0%|          | 0/64 [00:00<?, ?it/s]"
      ]
     },
     "metadata": {},
     "output_type": "display_data"
    },
    {
     "name": "stdout",
     "output_type": "stream",
     "text": [
      "Reading /Users/stuartgow/GitHub/AI_Dissertation/EEG_Datasets_Source_x/ds004584-1.0.0/sub-149/eeg/sub-149_task-Rest_eeg.fdt\n",
      "Reading 0 ... 64209  =      0.000 ...   128.418 secs...\n",
      "Computing power spectrum using welch method...\n",
      "Effective window size : 4.096 (s)\n",
      "For Spectra Group:\n",
      "- 64 channels & 1020 frequencies\n",
      "- Frequency Range: 1 to 250 Hz\n",
      "- Frequency resolution 0.24 Hz\n",
      "Extracting Periodic & Aperiodic Components with Parameters:\n",
      "- Peak width limits: [1, 12]\n",
      "- Min peak height: 0.05\n",
      "- Max peaks: 25\n",
      "- Range: [1, 75]\n",
      "- Aperiodic Mode: fixed\n"
     ]
    },
    {
     "name": "stderr",
     "output_type": "stream",
     "text": [
      "/var/folders/wd/rhzj_w8570g_y66t6j6mh4zw0000gn/T/ipykernel_89708/1201790303.py:26: RuntimeWarning: The data contains 'boundary' events, indicating data discontinuities. Be cautious of filtering and epoching around these events.\n",
      "  eeg_dataset_raw = mne.io.read_raw_eeglab(eeg_lab_file_path, preload=True)\n"
     ]
    },
    {
     "data": {
      "application/vnd.jupyter.widget-view+json": {
       "model_id": "946dc45f2bdd413aae92f086f0b4874f",
       "version_major": 2,
       "version_minor": 0
      },
      "text/plain": [
       "Running FOOOFGroup:   0%|          | 0/64 [00:00<?, ?it/s]"
      ]
     },
     "metadata": {},
     "output_type": "display_data"
    }
   ],
   "source": [
    "# End to end pipeline for all datasets\n",
    "# Creates a dataframe with subject details and EEG specparam results for all channels\n",
    "\n",
    "# Resulting dataframe with subject details and EEG periodic, aperiodic parameters\n",
    "study_features_df = pd.DataFrame()\n",
    "\n",
    "# Iterate through each datset\n",
    "for next_dataset in datasets_list:\n",
    "    print(next_dataset)\n",
    "\n",
    "    # Get subjects details\n",
    "    subjects_file = os.path.join(eeg_datasets_path, next_dataset, 'participants.tsv')\n",
    "    if not os.path.isfile(subjects_file):\n",
    "        raise Exception(f'File not found: {subjects_file}')\n",
    "    subjects_df = pd.read_csv(subjects_file, sep='\\t')\n",
    "\n",
    "    # Iterate through each subject in the dataset\n",
    "    for _, subject_row in subjects_df.iterrows():\n",
    "        # Get the subject features\n",
    "        subject_features = {'subject_id': subject_row['participant_id'], \n",
    "                            'age': subject_row['AGE'], 'gender': subject_row['GENDER'], 'pd': subject_row['TYPE']}\n",
    "\n",
    "        # Get the raw EEG data\n",
    "        temp_EEG_raw = get_EEG_raw(next_dataset, subject_row['participant_id'])\n",
    "\n",
    "        # Preprocess\n",
    "        # TODO: Add filtering\n",
    "        # TODO: Add ICA\n",
    "        temp_EEG_clean = temp_EEG_raw\n",
    "\n",
    "        # Power spectrum\n",
    "        temp_spectra = get_spectra(temp_EEG_clean)\n",
    "        \n",
    "        # Spectral Param\n",
    "        specparam_features = get_specparams(temp_spectra)\n",
    "\n",
    "        # Add subject and component features to the features dataframe\n",
    "        subject_features.update(specparam_features)\n",
    "        study_features_df = pd.concat([study_features_df, pd.DataFrame([subject_features])], ignore_index=True)\n",
    "\n",
    "del next_dataset, subjects_file, subjects_df, subject_row, subject_features, specparam_features, temp_EEG_raw, temp_EEG_clean, temp_spectra\n"
   ]
  }
 ],
 "metadata": {
  "kernelspec": {
   "display_name": "eeg_diss_v1",
   "language": "python",
   "name": "python3"
  },
  "language_info": {
   "codemirror_mode": {
    "name": "ipython",
    "version": 3
   },
   "file_extension": ".py",
   "mimetype": "text/x-python",
   "name": "python",
   "nbconvert_exporter": "python",
   "pygments_lexer": "ipython3",
   "version": "3.11.12"
  }
 },
 "nbformat": 4,
 "nbformat_minor": 5
}
