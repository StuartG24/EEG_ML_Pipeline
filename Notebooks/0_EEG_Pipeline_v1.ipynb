{
 "cells": [
  {
   "cell_type": "markdown",
   "id": "688d7221",
   "metadata": {},
   "source": [
    "# EEG Dataset Processing Pipeline\n",
    "\n",
    "Scope:\n",
    "- Process a raw EEG dataset \n",
    "- Dataset containing the results of an EEG study on multiple subjects\n",
    "- Dataset that has been downloaded from OpenNeuro, and structured as per the BIDS standard, and in EEGLab '.set' format\n",
    "\n",
    "The Pipeline Stages (For each subject in an EEG study dataset):\n",
    "- EEG Dataset Load - Get the raw source EEG signal data\n",
    "- EEG Preprocessing - Execute filtering etc of the raw EEG time series data\n",
    "- Power Spectra (PSD) Calculate - Calculate the power spectra, for all channels recorded\n",
    "- Spectral Parameterisation - Determine the best fitting Aperiodic and Periodic components\n",
    "- Features Set - Collate & save the study, subject and EEG data into a features set, Pandas Dataframe\n"
   ]
  },
  {
   "cell_type": "markdown",
   "id": "70e0ff23",
   "metadata": {},
   "source": [
    "## To Review\n",
    "\n",
    "Projects:\n",
    "- Perplexity project: https://www.perplexity.ai/search/i-am-building-a-pipeline-in-py-sVmw70rHQXa0VKkIT_p5tg?0=r\n",
    "- Python Handbook: https://github.com/ZitongLu1996/Python-EEG-Handbook/tree/master\n",
    "- Pickle: https://www.perplexity.ai/search/in-a-jupyter-notebook-i-have-c-0LbAAH9ITFGfcPYaWlrt6Q"
   ]
  },
  {
   "cell_type": "markdown",
   "id": "f709683a",
   "metadata": {},
   "source": [
    "## Dependencies\n",
    "\n",
    "General dependencies:\n",
    "- python = 3.11.13\n",
    "- numpy = 2.0.2\n",
    "- scipy = 1.15.3\n",
    "- pandas = 2.2.3\n",
    "- matplotlib = 3.10.3\n",
    "\n",
    "ML dependencies:\n",
    "- scikit-learn = 1.6.1\n",
    "\n",
    "EEG specific dependencies:\n",
    "- mne = 1.9.0\n",
    "- specparam = 2.0.0rc3"
   ]
  },
  {
   "cell_type": "markdown",
   "id": "ac45d163",
   "metadata": {},
   "source": [
    "## Python-MNE\n",
    "\n",
    "Used for Import:\n",
    "- MNE-Python: https://mne.tools/stable/index.html\n",
    "- The Brain Imaging Data Structure (BIDS): https://bids.neuroimaging.io\n",
    "\n",
    "Used for Power Spectrum Calculate\n",
    "- MNE vs NeuroDSP: https://www.perplexity.ai/search/using-python-which-package-is-zOoiPqUvTnKbO.QfgmPsJQ\n",
    "\n",
    "Formats:\n",
    "- Assumes OpenNeuro, BIDS compliant datasets manually downloaded into the defined folders structure\n",
    "- Assumes EEGLab '.set' format\n"
   ]
  },
  {
   "cell_type": "markdown",
   "id": "715ca81d",
   "metadata": {},
   "source": [
    "## Spectral Parameterisation\n",
    "\n",
    "Spectral Parameterisation:\n",
    "- The Aperiodic Methods project - Documentation: https://aperiodicmethods.github.io/docs/index.html and Repo: in https://github.com/AperiodicMethods/AperiodicMethods\n",
    "- And cite: https://www.biorxiv.org/content/10.1101/2024.09.15.613114v1\n",
    "\n",
    "Documentation:\n",
    "- SpecParam: https://specparam-tools.github.io and https://github.com/fooof-tools\n",
    "- FOOOF: https://fooof-tools.github.io/fooof/ and https://github.com/fooof-tools/fooof\n",
    "\n",
    "FOOOF vs SpecPram:\n",
    "- FOOOF: More stable and used but deprecated\n",
    "- SpecParam: Release candidate but some improved model/fit selection: https://pmc.ncbi.nlm.nih.gov/articles/PMC11326208/\n",
    "- Summary: https://www.perplexity.ai/search/using-python-which-package-is-M7kzhERoTLuCrIKbXxN9sQ\n"
   ]
  },
  {
   "cell_type": "markdown",
   "id": "5c5fffee",
   "metadata": {},
   "source": [
    "# Imports & Utilities"
   ]
  },
  {
   "cell_type": "code",
   "execution_count": 1,
   "id": "2d3b2cf2",
   "metadata": {},
   "outputs": [],
   "source": [
    "# Not availble through a Conda install/environment - PIP Install may be required\n",
    "# %pip install specparam\n"
   ]
  },
  {
   "cell_type": "code",
   "execution_count": 2,
   "id": "e08bef27",
   "metadata": {},
   "outputs": [
    {
     "name": "stdout",
     "output_type": "stream",
     "text": [
      "Current SpecParam version: 2.0.0rc3\n"
     ]
    }
   ],
   "source": [
    "# General imports\n",
    "import os\n",
    "import gc\n",
    "from datetime import datetime\n",
    "from pprint import pprint\n",
    "\n",
    "import math\n",
    "import numpy as np\n",
    "import pandas as pd\n",
    "\n",
    "# Plots\n",
    "import matplotlib.pyplot as plt\n",
    "plt.style.use('ggplot')\n",
    "\n",
    "# MNE-Python\n",
    "import mne\n",
    "\n",
    "# SpecParam\n",
    "from specparam import SpectralGroupModel\n",
    "from specparam.plts.spectra import plot_spectra\n",
    "\n",
    "# Check the version of SpecParam\n",
    "from specparam import __version__ as specparam_version\n",
    "print('Current SpecParam version:', specparam_version)"
   ]
  },
  {
   "cell_type": "code",
   "execution_count": 3,
   "id": "7cee2643",
   "metadata": {},
   "outputs": [],
   "source": [
    "# A utility function to establish relative paths for a given folder\n",
    "def get_folder_path(folder_name):\n",
    "    project_root = os.path.dirname(os.getcwd())\n",
    "    folder_path = os.path.join(project_root, folder_name)\n",
    "    if not os.path.isdir(folder_path):\n",
    "        raise FileNotFoundError(f'Directory not found: {folder_path}')  \n",
    "     \n",
    "    return folder_path\n",
    "\n",
    "# Utility function to check for the existence of a file in a given directory\n",
    "def get_file_path(folder, file_name):\n",
    "    file_path = os.path.join(folder, file_name)\n",
    "    if not os.path.isfile(file_path):\n",
    "        raise FileNotFoundError(f'File not found: {file_path}')\n",
    "    return file_path\n"
   ]
  },
  {
   "cell_type": "markdown",
   "id": "9730c713",
   "metadata": {},
   "source": [
    "# Classes & Functions"
   ]
  },
  {
   "cell_type": "markdown",
   "id": "0b175916",
   "metadata": {},
   "source": [
    "## EEG_Study Class"
   ]
  },
  {
   "cell_type": "code",
   "execution_count": 4,
   "id": "f52c7d16",
   "metadata": {},
   "outputs": [],
   "source": [
    "# Class defining the paraemters for an EEG study\n",
    "\n",
    "class EEG_Study:\n",
    "    \"\"\"\n",
    "    Defintion and parameters for an EEG study\n",
    "\n",
    "    Attributes\n",
    "    ----------\n",
    "    study_run_id : str\n",
    "    subjects_df : dataframe of subjects in study\n",
    "    \"\"\"\n",
    "\n",
    "    # Data Folders\n",
    "    __eeg_datasets_source_folder = 'Data/EEG_Datasets_Source_exgithub'\n",
    "    __eeg_study_features_folder = 'Data/EEG_Datasets_Processed'\n",
    "\n",
    "    # BIDS structure, file name for source of subjects data\n",
    "    __subjects_source_file = 'participants.tsv'\n",
    "\n",
    "    def __init__(self, dataset_name):\n",
    "        \"\"\"\n",
    "        Initialise EEG_Study instance.\n",
    "\n",
    "        Parameters\n",
    "        ----------\n",
    "        dataset_name : str\n",
    "\n",
    "        Returns\n",
    "        -------\n",
    "        Study : class instance\n",
    "        \"\"\"\n",
    "\n",
    "        # Input validation - Valid Folder paths\n",
    "        eeg_datasets_folder_path = get_folder_path(self.__eeg_datasets_source_folder)\n",
    "        eeg_study_features_folder_path = get_folder_path(self.__eeg_study_features_folder)\n",
    "\n",
    "        # Input validation - Valid Dataset\n",
    "        datasets_list = os.listdir(eeg_datasets_folder_path)\n",
    "        datasets_list = [d for d in datasets_list if d.startswith('ds') and os.path.isdir(os.path.join(eeg_datasets_folder_path, d))]\n",
    "\n",
    "        if dataset_name not in datasets_list:\n",
    "            raise ValueError(f\"Dataset '{dataset_name}' not found in list of available datasets: {datasets_list}\")\n",
    "        dataset_path = os.path.join(eeg_datasets_folder_path, dataset_name)\n",
    "        if not os.path.exists(dataset_path):\n",
    "            raise FileNotFoundError(f\"Path does not exist: {dataset_path}\")\n",
    "        subjects_file = os.path.join(eeg_datasets_folder_path, dataset_name, self.__subjects_source_file)\n",
    "        if not os.path.isfile(subjects_file):\n",
    "            raise FileNotFoundError(f'File not found: {subjects_file}')\n",
    "        \n",
    "        # Create ID / Name for the study run\n",
    "        current_date = datetime.now().strftime('%Y%m%d')\n",
    "        study_run_id = f'{dataset_name}_{current_date}'\n",
    "        \n",
    "        # Private Attributes\n",
    "        # TODO: Any private attributes?\n",
    "\n",
    "        # Public Attributes\n",
    "        # self.dataset_name = dataset_name\n",
    "        self.study_run_id = study_run_id\n",
    "        self.dataset_path = dataset_path\n",
    "        self.subjects_df = self._create_subjects_df(subjects_file)\n",
    "\n",
    "    # Private functions\n",
    "\n",
    "    def _create_subjects_df(self, subjects_csv):\n",
    "        # Read the datset csv file to get selected subjects data\n",
    "        try:\n",
    "            temp_subjects_df = pd.read_csv(subjects_csv, sep='\\t')\n",
    "        except Exception as e:\n",
    "            raise IOError(f\"Failed to read subjects file '{subjects_csv}': {e}\")\n",
    "        subjects_df = temp_subjects_df[['participant_id', 'AGE', 'GENDER', 'TYPE']].copy()\n",
    "        subjects_df.columns = ['subject_id', 'age', 'gender', 'pd']\n",
    "\n",
    "        return subjects_df\n",
    "    \n",
    "    # Public functions\n",
    "    \n",
    "\n"
   ]
  },
  {
   "cell_type": "markdown",
   "id": "69e96ddc",
   "metadata": {},
   "source": [
    "## Get Raw EEG data"
   ]
  },
  {
   "cell_type": "code",
   "execution_count": 9,
   "id": "6f02c6d2",
   "metadata": {},
   "outputs": [],
   "source": [
    "# Function to get the raw EEG signal data\n",
    "def get_EEG_raw(study, subject_id):\n",
    "    \"\"\"\n",
    "    Get raw EEG data.\n",
    "\n",
    "    Parameters\n",
    "    ----------\n",
    "    study : Study class\n",
    "    subject_id : str\n",
    "\n",
    "    Returns\n",
    "    -------\n",
    "    EEG_raw : raw\n",
    "    \"\"\"\n",
    "    \n",
    "    # BIDS File Structure\n",
    "    # dataset_root = \n",
    "    # dataset_name = \n",
    "    subject = subject_id\n",
    "    session = ''\n",
    "    task = 'Rest'\n",
    "    datatype='eeg'\n",
    "\n",
    "    # EEGLab .set file name\n",
    "    temp_path = os.path.join(study.dataset_path, subject, session, datatype)\n",
    "    temp_file_name = subject + '_task-' + task + '_' + datatype + '.set'\n",
    "    eeg_lab_file_path = get_file_path(temp_path, temp_file_name)\n",
    "\n",
    "    # Get the raw EEG data\n",
    "    if 'VERBOSE' in globals() and VERBOSE:\n",
    "        mne.set_log_level('DEBUG')\n",
    "    else:\n",
    "        mne.set_log_level('WARNING')\n",
    "    eeg_dataset_raw = mne.io.read_raw_eeglab(eeg_lab_file_path, preload=True)\n",
    "\n",
    "    return eeg_dataset_raw"
   ]
  },
  {
   "cell_type": "markdown",
   "id": "ef71b0b6",
   "metadata": {},
   "source": [
    "# Execute Full EEG Pipeline - Single Dataset"
   ]
  },
  {
   "cell_type": "code",
   "execution_count": 14,
   "id": "4f2db903",
   "metadata": {},
   "outputs": [],
   "source": [
    "# Define the execution parameters\n",
    "#\n",
    "\n",
    "# Set progress messages, testing\n",
    "VERBOSE = True\n",
    "max_subjects_run = 1 #np.inf\n",
    "test_channel = 'P5'\n",
    "\n",
    "# Set Execution Parameters\n",
    "\n",
    "\n",
    "\n",
    "# Define the Study\n",
    "study_details = EEG_Study('ds004584-1.0.0')\n",
    "# print(study_details)\n",
    "# attrs = {attr: getattr(study_details, attr) for attr in dir(study_details) if not attr.startswith('_') and not callable(getattr(study_details, attr))}\n",
    "# pprint(attrs)\n",
    "\n",
    "\n"
   ]
  },
  {
   "cell_type": "code",
   "execution_count": 15,
   "id": "7221ac68",
   "metadata": {},
   "outputs": [
    {
     "name": "stdout",
     "output_type": "stream",
     "text": [
      "\n",
      "-----------------------------------------------------------------------------------------------\n",
      "Processing subject: sub-001\n",
      "Reading /Users/stuartgow/GitHub/EEG_ML_Pipeline/Data/EEG_Datasets_Source_exgithub/ds004584-1.0.0/sub-001/eeg/sub-001_task-Rest_eeg.fdt\n",
      "Reading 0 ... 140829  =      0.000 ...   281.658 secs...\n",
      "Cropping annotations 1970-01-01 00:00:00+00:00 - 1970-01-01 00:04:41.660000+00:00\n",
      "  [0] Keeping  (1970-01-01 00:00:00+00:00 - 1970-01-01 00:00:00+00:00 -> 0.0 - 0.0)\n",
      "Cropping complete (kept 1)\n"
     ]
    },
    {
     "name": "stderr",
     "output_type": "stream",
     "text": [
      "/var/folders/wd/rhzj_w8570g_y66t6j6mh4zw0000gn/T/ipykernel_42708/4027636438.py:34: RuntimeWarning: The data contains 'boundary' events, indicating data discontinuities. Be cautious of filtering and epoching around these events.\n",
      "  eeg_dataset_raw = mne.io.read_raw_eeglab(eeg_lab_file_path, preload=True)\n"
     ]
    }
   ],
   "source": [
    "# Run the pipeline for each subject in the study\n",
    "#\n",
    "\n",
    "for idx, subject in study_details.subjects_df.iterrows():\n",
    "    # Break for testing\n",
    "    if int(idx) > (max_subjects_run - 1):\n",
    "        break\n",
    "\n",
    "    subject_id = subject['subject_id']\n",
    "    print('\\n-----------------------------------------------------------------------------------------------')\n",
    "    print(f\"Processing subject: {subject_id}\")\n",
    "\n",
    "    # Get the raw EEG data\n",
    "    temp = get_EEG_raw(study_details, subject_id)\n",
    "    "
   ]
  }
 ],
 "metadata": {
  "kernelspec": {
   "display_name": "eeg_ml_pipeline_v2",
   "language": "python",
   "name": "python3"
  },
  "language_info": {
   "codemirror_mode": {
    "name": "ipython",
    "version": 3
   },
   "file_extension": ".py",
   "mimetype": "text/x-python",
   "name": "python",
   "nbconvert_exporter": "python",
   "pygments_lexer": "ipython3",
   "version": "3.11.13"
  }
 },
 "nbformat": 4,
 "nbformat_minor": 5
}
