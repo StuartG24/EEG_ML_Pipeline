{
 "cells": [
  {
   "cell_type": "markdown",
   "id": "688d7221",
   "metadata": {},
   "source": [
    "# EEG Dataset Processing Pipeline\n",
    "\n",
    "Scope:\n",
    "- Process a raw EEG dataset \n",
    "- Dataset containing the results of an EEG study on multiple subjects\n",
    "- Dataset that has been downloaded from OpenNeuro, and structured as per the BIDS standard, and in EEGLab '.set' format\n",
    "\n",
    "The Pipeline Stages (For each subject in an EEG study dataset):\n",
    "- EEG Dataset Load - Get the raw source EEG signal data\n",
    "- EEG Preprocessing - Execute filtering etc of the raw EEG time series data\n",
    "- Power Spectra (PSD) Calculate - Calculate the power spectra, for all channels recorded\n",
    "- Spectral Parameterisation - Determine the best fitting Aperiodic and Periodic components\n",
    "- Features Set - Collate & save the study, subject and EEG data into a features set, Pandas Dataframe\n"
   ]
  },
  {
   "cell_type": "markdown",
   "id": "70e0ff23",
   "metadata": {},
   "source": [
    "## To Review\n",
    "\n",
    "Projects:\n",
    "- Perplexity project: https://www.perplexity.ai/search/i-am-building-a-pipeline-in-py-sVmw70rHQXa0VKkIT_p5tg?0=r\n",
    "- Python Handbook: https://github.com/ZitongLu1996/Python-EEG-Handbook/tree/master\n",
    "- Pickle: https://www.perplexity.ai/search/in-a-jupyter-notebook-i-have-c-0LbAAH9ITFGfcPYaWlrt6Q"
   ]
  },
  {
   "cell_type": "markdown",
   "id": "f709683a",
   "metadata": {},
   "source": [
    "## Dependencies\n",
    "\n",
    "General dependencies:\n",
    "- python = 3.11.13\n",
    "- numpy = 2.0.2\n",
    "- scipy = 1.15.3\n",
    "- pandas = 2.2.3\n",
    "- matplotlib = 3.10.3\n",
    "\n",
    "ML dependencies:\n",
    "- scikit-learn = 1.6.1\n",
    "\n",
    "EEG specific dependencies:\n",
    "- mne = 1.9.0\n",
    "- specparam = 2.0.0rc3"
   ]
  },
  {
   "cell_type": "markdown",
   "id": "ac45d163",
   "metadata": {},
   "source": [
    "## Python-MNE\n",
    "\n",
    "Used for Import:\n",
    "- MNE-Python: https://mne.tools/stable/index.html\n",
    "- The Brain Imaging Data Structure (BIDS): https://bids.neuroimaging.io\n",
    "\n",
    "Used for Power Spectrum Calculate\n",
    "- MNE vs NeuroDSP: https://www.perplexity.ai/search/using-python-which-package-is-zOoiPqUvTnKbO.QfgmPsJQ\n",
    "\n",
    "Formats:\n",
    "- Assumes OpenNeuro, BIDS compliant datasets manually downloaded into the defined folders structure\n",
    "- Assumes EEGLab '.set' format\n"
   ]
  },
  {
   "cell_type": "markdown",
   "id": "715ca81d",
   "metadata": {},
   "source": [
    "## Spectral Parameterisation\n",
    "\n",
    "Spectral Parameterisation:\n",
    "- The Aperiodic Methods project - Documentation: https://aperiodicmethods.github.io/docs/index.html and Repo: in https://github.com/AperiodicMethods/AperiodicMethods\n",
    "- And cite: https://www.biorxiv.org/content/10.1101/2024.09.15.613114v1\n",
    "\n",
    "Documentation:\n",
    "- SpecParam: https://specparam-tools.github.io and https://github.com/fooof-tools\n",
    "- FOOOF: https://fooof-tools.github.io/fooof/ and https://github.com/fooof-tools/fooof\n",
    "\n",
    "FOOOF vs SpecPram:\n",
    "- FOOOF: More stable and used but deprecated\n",
    "- SpecParam: Release candidate but some improved model/fit selection: https://pmc.ncbi.nlm.nih.gov/articles/PMC11326208/\n",
    "- Summary: https://www.perplexity.ai/search/using-python-which-package-is-M7kzhERoTLuCrIKbXxN9sQ\n"
   ]
  },
  {
   "cell_type": "markdown",
   "id": "5c5fffee",
   "metadata": {},
   "source": [
    "# Imports & Utilities"
   ]
  },
  {
   "cell_type": "code",
   "execution_count": 1,
   "id": "2d3b2cf2",
   "metadata": {},
   "outputs": [],
   "source": [
    "# Not availble through a Conda install/environment - PIP Install may be required\n",
    "# %pip install specparam\n"
   ]
  },
  {
   "cell_type": "code",
   "execution_count": 2,
   "id": "e08bef27",
   "metadata": {},
   "outputs": [
    {
     "name": "stdout",
     "output_type": "stream",
     "text": [
      "Current SpecParam version: 2.0.0rc3\n"
     ]
    }
   ],
   "source": [
    "# General imports\n",
    "import os\n",
    "import gc\n",
    "from datetime import datetime\n",
    "from pprint import pprint\n",
    "\n",
    "import math\n",
    "import numpy as np\n",
    "import pandas as pd\n",
    "\n",
    "# Plots\n",
    "import matplotlib.pyplot as plt\n",
    "plt.style.use('ggplot')\n",
    "\n",
    "# MNE-Python\n",
    "import mne\n",
    "\n",
    "# SpecParam\n",
    "from specparam import SpectralGroupModel\n",
    "from specparam.plts.spectra import plot_spectra\n",
    "\n",
    "# Check the version of SpecParam\n",
    "from specparam import __version__ as specparam_version\n",
    "print('Current SpecParam version:', specparam_version)"
   ]
  },
  {
   "cell_type": "code",
   "execution_count": 3,
   "id": "7cee2643",
   "metadata": {},
   "outputs": [],
   "source": [
    "# A utility function to establish relative paths for a given folder\n",
    "def get_folder_path(folder_name):\n",
    "    project_root = os.path.dirname(os.getcwd())\n",
    "    folder_path = os.path.join(project_root, folder_name)\n",
    "    if not os.path.isdir(folder_path):\n",
    "        raise FileNotFoundError(f'Directory not found: {folder_path}')  \n",
    "     \n",
    "    return folder_path\n",
    "\n",
    "# Utility function to check for the existence of a file in a given directory\n",
    "def get_file_path(folder, file_name):\n",
    "    file_path = os.path.join(folder, file_name)\n",
    "    if not os.path.isfile(file_path):\n",
    "        raise FileNotFoundError(f'File not found: {file_path}')\n",
    "    return file_path\n"
   ]
  },
  {
   "cell_type": "markdown",
   "id": "9730c713",
   "metadata": {},
   "source": [
    "# Classes & Functions"
   ]
  },
  {
   "cell_type": "markdown",
   "id": "0b175916",
   "metadata": {},
   "source": [
    "## EEG_Study Class"
   ]
  },
  {
   "cell_type": "code",
   "execution_count": 4,
   "id": "f52c7d16",
   "metadata": {},
   "outputs": [],
   "source": [
    "# Class defining the paraemters for an EEG study\n",
    "\n",
    "class EEG_Study:\n",
    "    \"\"\"\n",
    "    Defintion and parameters for an EEG study\n",
    "\n",
    "    Attributes\n",
    "    ----------\n",
    "    study_run_id : str\n",
    "    subjects_df : dataframe of subjects in study\n",
    "    psd_parames : parameters for power spectra / PSD calculation\n",
    "    \"\"\"\n",
    "\n",
    "    # Data Folders\n",
    "    __eeg_datasets_source_folder = 'Data/EEG_Datasets_Source_exgithub'\n",
    "    __eeg_study_features_folder = 'Data/EEG_Datasets_Processed'\n",
    "\n",
    "    # BIDS structure, file name for source of subjects data\n",
    "    __subjects_source_file = 'participants.tsv'\n",
    "\n",
    "    def __init__(self, dataset_name, psd_params, specparam_params):\n",
    "        \"\"\"\n",
    "        Initialise EEG_Study instance.\n",
    "\n",
    "        Parameters\n",
    "        ----------\n",
    "        dataset_name : str\n",
    "        psd_params : dic\n",
    "        specparam_params : dic\n",
    "\n",
    "        Returns\n",
    "        -------\n",
    "        Study : class instance\n",
    "        \"\"\"\n",
    "\n",
    "        # Input validation - Valid Folder paths\n",
    "        eeg_datasets_folder_path = get_folder_path(self.__eeg_datasets_source_folder)\n",
    "        eeg_study_features_folder_path = get_folder_path(self.__eeg_study_features_folder)\n",
    "\n",
    "        # Input validation - Valid Dataset\n",
    "        datasets_list = os.listdir(eeg_datasets_folder_path)\n",
    "        datasets_list = [d for d in datasets_list if d.startswith('ds') and os.path.isdir(os.path.join(eeg_datasets_folder_path, d))]\n",
    "\n",
    "        if dataset_name not in datasets_list:\n",
    "            raise ValueError(f\"Dataset '{dataset_name}' not found in list of available datasets: {datasets_list}\")\n",
    "        dataset_path = os.path.join(eeg_datasets_folder_path, dataset_name)\n",
    "        if not os.path.exists(dataset_path):\n",
    "            raise FileNotFoundError(f\"Path does not exist: {dataset_path}\")\n",
    "        subjects_file = os.path.join(eeg_datasets_folder_path, dataset_name, self.__subjects_source_file)\n",
    "        if not os.path.isfile(subjects_file):\n",
    "            raise FileNotFoundError(f'File not found: {subjects_file}')\n",
    "        \n",
    "        # Create ID / Name for the study run\n",
    "        current_date = datetime.now().strftime('%Y%m%d')\n",
    "        study_run_id = f'{dataset_name}_{current_date}'\n",
    "        \n",
    "        # Private Attributes\n",
    "        # TODO: Any private attributes?\n",
    "\n",
    "        # Public Attributes\n",
    "        self.study_run_id = study_run_id\n",
    "        self.dataset_path = dataset_path\n",
    "        self.psd_params = psd_params\n",
    "        self.specparam_params = specparam_params\n",
    "        self.subjects_df = self._create_subjects_df(subjects_file)\n",
    "\n",
    "    # Private functions\n",
    "\n",
    "    def _create_subjects_df(self, subjects_csv):\n",
    "        # Read the datset csv file to get selected subjects data\n",
    "        try:\n",
    "            temp_subjects_df = pd.read_csv(subjects_csv, sep='\\t')\n",
    "        except Exception as e:\n",
    "            raise IOError(f\"Failed to read subjects file '{subjects_csv}': {e}\")\n",
    "        subjects_df = temp_subjects_df[['participant_id', 'AGE', 'GENDER', 'TYPE']].copy()\n",
    "        subjects_df.columns = ['subject_id', 'age', 'gender', 'pd']\n",
    "\n",
    "        return subjects_df\n",
    "    \n",
    "    # Public functions\n",
    "    \n",
    "\n"
   ]
  },
  {
   "cell_type": "markdown",
   "id": "69e96ddc",
   "metadata": {},
   "source": [
    "## Get Raw EEG data"
   ]
  },
  {
   "cell_type": "code",
   "execution_count": 5,
   "id": "6f02c6d2",
   "metadata": {},
   "outputs": [],
   "source": [
    "# Function to get the raw EEG signal data\n",
    "def get_EEG_raw(study, subject_id):\n",
    "    \"\"\"\n",
    "    Get raw EEG data.\n",
    "\n",
    "    Parameters\n",
    "    ----------\n",
    "    study : Study class\n",
    "    subject_id : str\n",
    "\n",
    "    Returns\n",
    "    -------\n",
    "    EEG_raw : raw\n",
    "    \"\"\"\n",
    "    \n",
    "    # BIDS File Structure\n",
    "    # dataset_root = \n",
    "    # dataset_name = \n",
    "    subject = subject_id\n",
    "    session = ''\n",
    "    task = 'Rest'\n",
    "    datatype='eeg'\n",
    "\n",
    "    # EEGLab .set file name\n",
    "    temp_path = os.path.join(study.dataset_path, subject, session, datatype)\n",
    "    temp_file_name = subject + '_task-' + task + '_' + datatype + '.set'\n",
    "    eeg_lab_file_path = get_file_path(temp_path, temp_file_name)\n",
    "\n",
    "    # Get the raw EEG data\n",
    "    if 'VERBOSE' in globals() and VERBOSE:\n",
    "        mne.set_log_level('DEBUG')\n",
    "    else:\n",
    "        mne.set_log_level('WARNING')\n",
    "\n",
    "    try:\n",
    "        eeg_dataset_raw = mne.io.read_raw_eeglab(eeg_lab_file_path, preload=True)\n",
    "    except Exception as e:\n",
    "        raise ValueError(f\"Failed to load EEG data for subject {subject}: {e}\") \n",
    "    \n",
    "    if 'VERBOSE' in globals() and VERBOSE:\n",
    "        print(f\"EEG Raw Data Obtained: {eeg_dataset_raw.info['description']} on {eeg_dataset_raw.info['meas_date']}\")\n",
    "        print(eeg_dataset_raw)\n",
    "        print(eeg_dataset_raw.info)\n",
    "\n",
    "        # TODO: Add plots\n",
    "\n",
    "    return eeg_dataset_raw"
   ]
  },
  {
   "cell_type": "markdown",
   "id": "bfb7ab7f",
   "metadata": {},
   "source": [
    "## EEG Preprocessing"
   ]
  },
  {
   "cell_type": "code",
   "execution_count": 6,
   "id": "2a36aa57",
   "metadata": {},
   "outputs": [],
   "source": [
    "# Function to preprocess the raw EEG signal data\n",
    "def perform_EEG_preprocessing(study, EEG_raw):\n",
    "    \"\"\"\n",
    "    Preprocessing of the EEG raw data\n",
    "\n",
    "    Parameters\n",
    "    ----------\n",
    "    study : Study class\n",
    "    EEG_raw : raw\n",
    "\n",
    "    Returns\n",
    "    -------\n",
    "    EEG_clean : clean\n",
    "    \"\"\"\n",
    "\n",
    "    print(f'TO DO - Preprocess of raw EEG')\n",
    "\n",
    "    # TODO: Add filtering\n",
    "    # TODO: Add ICA\n",
    "    # TODO: Subject 68 had 66 channels but max should be 63? Check during preprocessing, before FOOOFING\n",
    "\n",
    "    if 'VERBOSE' in globals() and VERBOSE:\n",
    "        print('To Do: Preprocessing results ....')\n",
    "\n",
    "    EEG_clean = EEG_raw\n",
    "\n",
    "    return EEG_clean\n"
   ]
  },
  {
   "cell_type": "markdown",
   "id": "d3e4b130",
   "metadata": {},
   "source": [
    "## Get the Power Spectra"
   ]
  },
  {
   "cell_type": "code",
   "execution_count": 7,
   "id": "5bfc7111",
   "metadata": {},
   "outputs": [],
   "source": [
    "# Function to get the power spectra from the cleaned/preprocessed EEG signal data\n",
    "def get_spectra(study, EEG_clean):\n",
    "    \"\"\"\n",
    "    Obtain the Power Spectra for all channels\n",
    "\n",
    "    Parameters\n",
    "    ----------\n",
    "    study : Study class\n",
    "    EEG_clean : clean\n",
    "\n",
    "    Returns\n",
    "    -------\n",
    "    Spectra : frequencies and powers for each channel\n",
    "    \"\"\"\n",
    "\n",
    "    try:\n",
    "        spectra_result = EEG_clean.compute_psd(method=study.psd_params['method'],\n",
    "                                               fmin=study.psd_params['fmin'],\n",
    "                                               fmax=study.psd_params['fmax'],\n",
    "                                               exclude=study.psd_params['exclude'])\n",
    "    except Exception as e:\n",
    "        raise Exception(f\"Error calculating spectra: {e}\")\n",
    "\n",
    "    if 'VERBOSE' in globals() and VERBOSE:\n",
    "        print(f'Spectra computed using parameters: {study.psd_params}')\n",
    "        print(spectra_result)\n",
    "        print(spectra_result.info)\n",
    "\n",
    "        # freqs = spectra_result.freqs\n",
    "        # powers = spectra_result.get_data(return_freqs=False)\n",
    "        # n_channels = powers.shape[0]\n",
    "        # # n_channels = len(spectra_result.ch_names)\n",
    "        # n_frequencies = powers.shape[1]\n",
    "        # freq_resolution = freqs[1] - freqs[0]\n",
    "        # print(f'Spectra Group:')\n",
    "        # print(f'- {n_channels} channels & {n_frequencies} frequencies')\n",
    "        # print(f'- Frequency Range: {freqs.min():.1f} to {freqs.max():.1f} Hz')\n",
    "        # print(f'- Frequency resolution {freq_resolution:.2f} Hz')\n",
    "\n",
    "        # TODO: Add plots\n",
    "\n",
    "    return spectra_result\n"
   ]
  },
  {
   "cell_type": "markdown",
   "id": "00d74c25",
   "metadata": {},
   "source": [
    "## Spectral Parameterisation"
   ]
  },
  {
   "cell_type": "code",
   "execution_count": 8,
   "id": "38713035",
   "metadata": {},
   "outputs": [],
   "source": [
    "# Function to perform Spectral Parameterisation and dtermine the aperiodic and periodic components\n",
    "def perform_SpecParam(study, spectra):\n",
    "    \"\"\"\n",
    "    Spectral Parameterisation to determine the aperiodic and periodic components for all channels\n",
    "\n",
    "    Parameters\n",
    "    ----------\n",
    "    study : Study class\n",
    "    spectra : spectra\n",
    "\n",
    "    Returns\n",
    "    -------\n",
    "    SpecParam.df : dataframe of components for each channel\n",
    "    \"\"\"\n",
    "\n",
    "    # Initialise SpecParam Group Model & fit it\n",
    "    freqs = spectra.freqs\n",
    "    powers = spectra.get_data(return_freqs=False)\n",
    "\n",
    "    spm_fit_freq_range = [1, 75]\n",
    "\n",
    "    try:\n",
    "        fg = SpectralGroupModel(peak_width_limits=study.specparam_params['peak_width_limits'], \n",
    "                                max_n_peaks=study.specparam_params['max_n_peaks'], \n",
    "                                min_peak_height=study.specparam_params['min_peak_height'],\n",
    "                                peak_threshold=study.specparam_params['peak_threshold'],\n",
    "                                aperiodic_mode=study.specparam_params['aperiodic_mode'])\n",
    "        fg.fit(freqs, powers, study.specparam_params['fit_freq_range'], progress='tqdm.notebook')\n",
    "    except Exception as e:\n",
    "        raise Exception(f\"Error performing SpecParam: {e}\")\n",
    "\n",
    "    specparam_df = fg.to_df(10)        \n",
    "\n",
    "    if 'VERBOSE' in globals() and VERBOSE:\n",
    "        print(f'With parameters: {study.specparam_params}')\n",
    "        print(f'Executed Settings: {fg.get_settings()}')\n",
    "        # Overall group results\n",
    "        fg.print_results()\n",
    "\n",
    "        # TODO: Add plots\n",
    "        fg.plot()\n",
    "        plt.show()\n",
    "\n",
    "    return specparam_df\n",
    "\n"
   ]
  },
  {
   "cell_type": "markdown",
   "id": "ef71b0b6",
   "metadata": {},
   "source": [
    "# Execute Full EEG Pipeline - Single Dataset"
   ]
  },
  {
   "cell_type": "code",
   "execution_count": null,
   "id": "4f2db903",
   "metadata": {},
   "outputs": [],
   "source": [
    "# Define the execution parameters\n",
    "#\n",
    "\n",
    "# Set progress messages, testing\n",
    "VERBOSE = True\n",
    "max_subjects_run = 1 #np.inf\n",
    "test_channel = 'P5'\n",
    "\n",
    "# Set Execution Parameters\n",
    "psd_params = {'method': 'welch', # Calculation method\n",
    "              'fmin': 1,         \n",
    "              'fmax': 250,       \n",
    "              'exclude': []      # Includes all, even bad channels\n",
    "              }\n",
    "specparam_params = {'peak_width_limits': [1, 12],\n",
    "                    'max_n_peaks': 10,\n",
    "                    'min_peak_height': 0.1,\n",
    "                    'peak_threshold': 2.0,\n",
    "                    'aperiodic_mode': 'fixed',\n",
    "                    'fit_freq_range' : [1, 75]\n",
    "                    }\n",
    "\n",
    "# Define the Study\n",
    "study_details = EEG_Study('ds004584-1.0.0', psd_params, specparam_params)\n",
    "\n",
    "# Establish dataframes to save once completed\n",
    "study_details_df = pd.DataFrame({'study_run_id': [study_details.study_run_id],\n",
    "                                 'dataset_path': [study_details.dataset_path],\n",
    "                                 'psd_params': [study_details.psd_params],\n",
    "                                 'specparam_params': [study_details.specparam_params],\n",
    "                                 'subjects_df': [study_details.subjects_df]\n",
    "                                 })\n",
    "study_features_df = pd.DataFrame()\n",
    "# TODO: Save all in a single df or split out subjects into a third df?\n",
    "\n"
   ]
  },
  {
   "cell_type": "code",
   "execution_count": null,
   "id": "7221ac68",
   "metadata": {},
   "outputs": [
    {
     "name": "stdout",
     "output_type": "stream",
     "text": [
      "\n",
      "-----------------------------------------------------------------------------------------------\n",
      "Processing subject: sub-001\n",
      "\n",
      "----------------------------------------------\n",
      "Getting EEG raw data\n",
      "Reading /Users/stuartgow/GitHub/EEG_ML_Pipeline/Data/EEG_Datasets_Source_exgithub/ds004584-1.0.0/sub-001/eeg/sub-001_task-Rest_eeg.fdt\n",
      "Reading 0 ... 140829  =      0.000 ...   281.658 secs...\n",
      "Cropping annotations 1970-01-01 00:00:00+00:00 - 1970-01-01 00:04:41.660000+00:00\n",
      "  [0] Keeping  (1970-01-01 00:00:00+00:00 - 1970-01-01 00:00:00+00:00 -> 0.0 - 0.0)\n",
      "Cropping complete (kept 1)\n",
      "EEG Raw Data Obtained: None on None\n",
      "<RawEEGLAB | sub-001_task-Rest_eeg.fdt, 63 x 140830 (281.7 s), ~67.8 MiB, data loaded>\n",
      "<Info | 8 non-empty values\n",
      " bads: []\n",
      " ch_names: Fp1, Fz, F3, F7, FT9, FC5, FC1, C3, T7, TP9, CP5, CP1, P3, P7, ...\n",
      " chs: 63 EEG\n",
      " custom_ref_applied: False\n",
      " dig: 66 items (3 Cardinal, 63 EEG)\n",
      " highpass: 0.0 Hz\n",
      " lowpass: 250.0 Hz\n",
      " meas_date: unspecified\n",
      " nchan: 63\n",
      " projs: []\n",
      " sfreq: 500.0 Hz\n",
      ">\n",
      "\n",
      "----------------------------------------------\n",
      "Preprocessing EEG\n",
      "TO DO - Preprocess of raw EEG\n",
      "To Do: Preprocessing results ....\n",
      "\n",
      "----------------------------------------------\n",
      "Getting power spectra\n",
      "Effective window size : 4.096 (s)\n",
      "Spectogram using 2048-point FFT on 2048 samples with 0 overlap and hamming window\n",
      "Spectra computed using parameters: {'method': 'welch', 'fmin': 1, 'fmax': 250, 'exclude': []}\n",
      "<Power Spectrum (from Raw, welch method) | 63 channels × 1020 freqs, 1.2-250.0 Hz>\n",
      "<Info | 8 non-empty values\n",
      " bads: []\n",
      " ch_names: Fp1, Fz, F3, F7, FT9, FC5, FC1, C3, T7, TP9, CP5, CP1, P3, P7, ...\n",
      " chs: 63 EEG\n",
      " custom_ref_applied: False\n",
      " dig: 66 items (3 Cardinal, 63 EEG)\n",
      " highpass: 0.0 Hz\n",
      " lowpass: 250.0 Hz\n",
      " meas_date: unspecified\n",
      " nchan: 63\n",
      " projs: []\n",
      " sfreq: 500.0 Hz\n",
      ">\n",
      "\n",
      "----------------------------------------------\n",
      "Completing Spectral Parameterisation\n"
     ]
    },
    {
     "name": "stderr",
     "output_type": "stream",
     "text": [
      "/var/folders/wd/rhzj_w8570g_y66t6j6mh4zw0000gn/T/ipykernel_45869/345241518.py:36: RuntimeWarning: The data contains 'boundary' events, indicating data discontinuities. Be cautious of filtering and epoching around these events.\n",
      "  eeg_dataset_raw = mne.io.read_raw_eeglab(eeg_lab_file_path, preload=True)\n"
     ]
    },
    {
     "data": {
      "application/vnd.jupyter.widget-view+json": {
       "model_id": "1ac3163f3ce64019a1a94ecdcac2bcf1",
       "version_major": 2,
       "version_minor": 0
      },
      "text/plain": [
       "Running group fits.:   0%|          | 0/63 [00:00<?, ?it/s]"
      ]
     },
     "metadata": {},
     "output_type": "display_data"
    },
    {
     "name": "stdout",
     "output_type": "stream",
     "text": [
      "With parameters: {'peak_width_limits': [1, 12], 'max_n_peaks': 10, 'min_peak_height': 0.1, 'peak_threshold': 2.0, 'aperiodic_mode': 'fixed', 'fit_freq_range': [1, 75]}\n",
      "Executed Settings: ModelSettings(peak_width_limits=[1, 12], max_n_peaks=10, min_peak_height=0.1, peak_threshold=2.0, aperiodic_mode='fixed')\n",
      "==================================================================================================\n",
      "                                                                                                  \n",
      "                                          GROUP RESULTS                                           \n",
      "                                                                                                  \n",
      "                             Number of power spectra in the Group: 63                             \n",
      "                                                                                                  \n",
      "                        The model was run on the frequency range 1 - 75 Hz                        \n",
      "                                 Frequency Resolution is 0.24 Hz                                  \n",
      "                                                                                                  \n",
      "                              Power spectra were fit without a knee.                              \n",
      "                                                                                                  \n",
      "                                      Aperiodic Fit Values:                                       \n",
      "                        Exponents - Min: -0.392, Max:  1.469, Mean: 0.447                         \n",
      "                                                                                                  \n",
      "                         In total 451 peaks were extracted from the group                         \n",
      "                                                                                                  \n",
      "                                     Goodness of fit metrics:                                     \n",
      "                            R2s -  Min:  0.402, Max:  0.986, Mean: 0.856                          \n",
      "                         Errors -  Min:  0.043, Max:  0.099, Mean: 0.066                          \n",
      "                                                                                                  \n",
      "==================================================================================================\n"
     ]
    },
    {
     "data": {
      "image/png": "[encoded data removed]",
      "text/plain": [
       "<Figure size 900x700 with 4 Axes>"
      ]
     },
     "metadata": {},
     "output_type": "display_data"
    }
   ],
   "source": [
    "# Run the pipeline for each subject in the study\n",
    "#\n",
    "\n",
    "for idx, subject in study_details.subjects_df.iterrows():\n",
    "    # Break for testing\n",
    "    if int(idx) > (max_subjects_run - 1):\n",
    "        break\n",
    "\n",
    "    subject_id = subject['subject_id']\n",
    "    print('\\n-----------------------------------------------------------------------------------------------')\n",
    "    print(f\"Processing subject: {subject_id}\")\n",
    "\n",
    "    # Get the raw EEG data\n",
    "    print('\\n----------------------------------------------')\n",
    "    print('Getting EEG raw data')\n",
    "    temp_EEG_raw = get_EEG_raw(study_details, subject_id)\n",
    "\n",
    "    # EEG Preprocessing\n",
    "    print('\\n----------------------------------------------')\n",
    "    print('Preprocessing EEG')\n",
    "    temp_EEG_clean = perform_EEG_preprocessing(study_details, temp_EEG_raw)\n",
    "\n",
    "    # Power spectrum\n",
    "    print('\\n----------------------------------------------')\n",
    "    print('Getting power spectra')\n",
    "    temp_spectra = get_spectra(study_details, temp_EEG_clean)\n",
    "\n",
    "    # Spectral Parameterisation\n",
    "    print('\\n----------------------------------------------')\n",
    "    print('Completing Spectral Parameterisation')\n",
    "    specparam_df = perform_SpecParam(study_details, temp_spectra)\n",
    "\n",
    "    # Create a features list for the subject & add to the study features df\n",
    "    # Flatten the subject features into one row subject_features\n",
    "    # subject_features.update(specparam_features)\n",
    "\n",
    "    # study_features_df = pd.concat([study_features_df, pd.DataFrame([subject_features])], ignore_index=True)\n",
    "\n",
    "\n",
    "    # TODO: Subject 68 had 66 channels but max should be 63? Check during preprocessing, before FOOOFING\n",
    "    # if n_channels > spm_max_channels:\n",
    "    #     raise Exception(f'WARNING: Found: {n_channels} channels, but only {spm_max_channels} max are saved')\n"
   ]
  },
  {
   "cell_type": "code",
   "execution_count": 17,
   "id": "59ddabb8",
   "metadata": {},
   "outputs": [],
   "source": [
    "specparam_df['channel_label'] = [f'chn_{i}' for i in range(len(specparam_df))]\n",
    "specparam_df.set_index('channel_label', inplace=True)\n"
   ]
  },
  {
   "cell_type": "code",
   "execution_count": 25,
   "id": "d5caa2d4",
   "metadata": {},
   "outputs": [
    {
     "name": "stderr",
     "output_type": "stream",
     "text": [
      "/var/folders/wd/rhzj_w8570g_y66t6j6mh4zw0000gn/T/ipykernel_45869/980573498.py:1: FutureWarning: The previous implementation of stack is deprecated and will be removed in a future version of pandas. See the What's New notes for pandas 2.1.0 for details. Specify future_stack=True to adopt the new implementation and silence this warning.\n",
      "  stacked = specparam_df.stack(dropna=False)\n"
     ]
    }
   ],
   "source": [
    "stacked = specparam_df.stack(dropna=False)\n",
    "subject_params = pd.DataFrame([stacked], columns=[f'xx {row_name}_{col_name}' for col_name, row_name in stacked.index])\n"
   ]
  },
  {
   "cell_type": "code",
   "execution_count": 14,
   "id": "86ae7db0",
   "metadata": {},
   "outputs": [
    {
     "name": "stderr",
     "output_type": "stream",
     "text": [
      "/var/folders/wd/rhzj_w8570g_y66t6j6mh4zw0000gn/T/ipykernel_45869/4092422536.py:1: FutureWarning: The previous implementation of stack is deprecated and will be removed in a future version of pandas. See the What's New notes for pandas 2.1.0 for details. Specify future_stack=True to adopt the new implementation and silence this warning.\n",
      "  stacked = specparam_df.stack(dropna=False)\n"
     ]
    }
   ],
   "source": [
    "stacked = specparam_df.stack(dropna=False)\n",
    "subject_params = pd.DataFrame([stacked], columns=[f'chn_{row_idx}_{col_name}' for col_name, row_idx in stacked.index])\n"
   ]
  },
  {
   "cell_type": "markdown",
   "id": "f9bffac9",
   "metadata": {},
   "source": [
    "```markdown\n",
    "To add a column to `specparam_df` that labels each row with its corresponding channel (e.g., `chn_0`, `chn_1`, ...), use the following code:\n",
    "\n",
    "```python\n",
    "specparam_df['channel_label'] = [f'chn_{i}' for i in range(len(specparam_df))]\n",
    "```\n",
    "\n",
    "This will append a new column called `channel_label` to `specparam_df`, assigning a unique label to each channel.\n",
    "```"
   ]
  },
  {
   "cell_type": "code",
   "execution_count": null,
   "id": "24409f03",
   "metadata": {},
   "outputs": [],
   "source": []
  }
 ],
 "metadata": {
  "kernelspec": {
   "display_name": "eeg_ml_pipeline_v2",
   "language": "python",
   "name": "python3"
  },
  "language_info": {
   "codemirror_mode": {
    "name": "ipython",
    "version": 3
   },
   "file_extension": ".py",
   "mimetype": "text/x-python",
   "name": "python",
   "nbconvert_exporter": "python",
   "pygments_lexer": "ipython3",
   "version": "3.11.13"
  }
 },
 "nbformat": 4,
 "nbformat_minor": 5
}
