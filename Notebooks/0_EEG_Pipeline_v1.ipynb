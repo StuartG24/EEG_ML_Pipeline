{
 "cells": [
  {
   "cell_type": "markdown",
   "id": "688d7221",
   "metadata": {},
   "source": [
    "# EEG Dataset Processing Pipeline\n",
    "\n",
    "Scope:\n",
    "- Process a raw EEG dataset \n",
    "- Dataset containing the results of an EEG study on multiple subjects\n",
    "- Dataset that has been downloaded from OpenNeuro, and structured as per the BIDS standard, and in EEGLab '.set' format\n",
    "\n",
    "The Pipeline Stages (For each subject in an EEG study dataset):\n",
    "- EEG Dataset Load - Get the raw source EEG signal data\n",
    "- EEG Preprocessing - Execute filtering etc of the raw EEG time series data\n",
    "- Power Spectra (PSD) Calculate - Calculate the power spectra, for all channels recorded\n",
    "- Spectral Parameterisation - Determine the best fitting Aperiodic and Periodic components\n",
    "- Features Set - Collate & save the study, subject and EEG data into a features set, Pandas Dataframe\n"
   ]
  },
  {
   "cell_type": "markdown",
   "id": "70e0ff23",
   "metadata": {},
   "source": [
    "## To Review\n",
    "\n",
    "Projects:\n",
    "- Perplexity project: https://www.perplexity.ai/search/i-am-building-a-pipeline-in-py-sVmw70rHQXa0VKkIT_p5tg?0=r\n",
    "- Python Handbook: https://github.com/ZitongLu1996/Python-EEG-Handbook/tree/master\n",
    "- Pickle: https://www.perplexity.ai/search/in-a-jupyter-notebook-i-have-c-0LbAAH9ITFGfcPYaWlrt6Q"
   ]
  },
  {
   "cell_type": "markdown",
   "id": "f709683a",
   "metadata": {},
   "source": [
    "## Dependencies\n",
    "\n",
    "General dependencies:\n",
    "- python = 3.11.13\n",
    "- numpy = 2.0.2\n",
    "- scipy = 1.15.3\n",
    "- pandas = 2.2.3\n",
    "- matplotlib = 3.10.3\n",
    "\n",
    "ML dependencies:\n",
    "- scikit-learn = 1.6.1\n",
    "\n",
    "EEG specific dependencies:\n",
    "- mne = 1.9.0\n",
    "- specparam = 2.0.0rc3"
   ]
  },
  {
   "cell_type": "markdown",
   "id": "ac45d163",
   "metadata": {},
   "source": [
    "## Python-MNE\n",
    "\n",
    "Used for Import:\n",
    "- MNE-Python: https://mne.tools/stable/index.html\n",
    "- The Brain Imaging Data Structure (BIDS): https://bids.neuroimaging.io\n",
    "\n",
    "Used for Power Spectrum Calculate\n",
    "- MNE vs NeuroDSP: https://www.perplexity.ai/search/using-python-which-package-is-zOoiPqUvTnKbO.QfgmPsJQ\n",
    "\n",
    "Formats:\n",
    "- Assumes OpenNeuro, BIDS compliant datasets manually downloaded into the defined folders structure\n",
    "- Assumes EEGLab '.set' format\n"
   ]
  },
  {
   "cell_type": "markdown",
   "id": "715ca81d",
   "metadata": {},
   "source": [
    "## Spectral Parameterisation\n",
    "\n",
    "Spectral Parameterisation:\n",
    "- The Aperiodic Methods project - Documentation: https://aperiodicmethods.github.io/docs/index.html and Repo: in https://github.com/AperiodicMethods/AperiodicMethods\n",
    "- And cite: https://www.biorxiv.org/content/10.1101/2024.09.15.613114v1\n",
    "\n",
    "Documentation:\n",
    "- SpecParam: https://specparam-tools.github.io and https://github.com/fooof-tools\n",
    "- FOOOF: https://fooof-tools.github.io/fooof/ and https://github.com/fooof-tools/fooof\n",
    "\n",
    "FOOOF vs SpecPram:\n",
    "- FOOOF: More stable and used but deprecated\n",
    "- SpecParam: Release candidate but some improved model/fit selection: https://pmc.ncbi.nlm.nih.gov/articles/PMC11326208/\n",
    "- Summary: https://www.perplexity.ai/search/using-python-which-package-is-M7kzhERoTLuCrIKbXxN9sQ\n"
   ]
  },
  {
   "cell_type": "markdown",
   "id": "5c5fffee",
   "metadata": {},
   "source": [
    "# Imports & Utilities"
   ]
  },
  {
   "cell_type": "code",
   "execution_count": 1,
   "id": "2d3b2cf2",
   "metadata": {},
   "outputs": [],
   "source": [
    "# Not availble through a Conda install/environment - PIP Install may be required\n",
    "# %pip install specparam\n"
   ]
  },
  {
   "cell_type": "code",
   "execution_count": 2,
   "id": "e08bef27",
   "metadata": {},
   "outputs": [
    {
     "name": "stdout",
     "output_type": "stream",
     "text": [
      "Current SpecParam version: 2.0.0rc3\n"
     ]
    }
   ],
   "source": [
    "# General imports\n",
    "import os\n",
    "import gc\n",
    "from datetime import datetime\n",
    "from pprint import pprint\n",
    "\n",
    "import math\n",
    "import numpy as np\n",
    "import pandas as pd\n",
    "\n",
    "# Plots\n",
    "import matplotlib.pyplot as plt\n",
    "plt.style.use('ggplot')\n",
    "\n",
    "# MNE-Python\n",
    "import mne\n",
    "\n",
    "# SpecParam\n",
    "from specparam import SpectralGroupModel\n",
    "from specparam.plts.spectra import plot_spectra\n",
    "\n",
    "# Check the version of SpecParam\n",
    "from specparam import __version__ as specparam_version\n",
    "print('Current SpecParam version:', specparam_version)"
   ]
  },
  {
   "cell_type": "code",
   "execution_count": 3,
   "id": "7cee2643",
   "metadata": {},
   "outputs": [],
   "source": [
    "# A utility function to establish relative paths for a given folder\n",
    "def get_folder_path(folder_name):\n",
    "    project_root = os.path.dirname(os.getcwd())\n",
    "    folder_path = os.path.join(project_root, folder_name)\n",
    "    if not os.path.isdir(folder_path):\n",
    "        raise FileNotFoundError(f'Directory not found: {folder_path}')  \n",
    "     \n",
    "    return folder_path\n",
    "\n",
    "# Utility function to check for the existence of a file in a given directory\n",
    "def get_file_path(folder, file_name):\n",
    "    file_path = os.path.join(folder, file_name)\n",
    "    if not os.path.isfile(file_path):\n",
    "        raise FileNotFoundError(f'File not found: {file_path}')\n",
    "    return file_path\n"
   ]
  },
  {
   "cell_type": "code",
   "execution_count": 4,
   "id": "2bbe9eb7",
   "metadata": {},
   "outputs": [],
   "source": [
    "# Save Study Files Using Pickle\n",
    "def save_results(study_details_df, study_features_df):\n",
    "    \"\"\"Save DataFrames with validation.\"\"\"\n",
    "\n",
    "    save_results_folder = study_details_df['results_path'].iloc[0]\n",
    "\n",
    "    try:\n",
    "        study_details_df.to_pickle(os.path.join(save_results_folder, 'study_details_df.pkl'))\n",
    "        study_features_df.to_pickle(os.path.join(save_results_folder, 'study_features_df.pkl'))\n",
    "        print(f\"Results saved successfully to {save_results_folder}\")\n",
    "    except Exception as e:\n",
    "        print(f\"Error saving DataFrame: {e}\")"
   ]
  },
  {
   "cell_type": "markdown",
   "id": "9730c713",
   "metadata": {},
   "source": [
    "# Classes & Functions"
   ]
  },
  {
   "cell_type": "markdown",
   "id": "0b175916",
   "metadata": {},
   "source": [
    "## EEG_Study Class"
   ]
  },
  {
   "cell_type": "code",
   "execution_count": 5,
   "id": "f52c7d16",
   "metadata": {},
   "outputs": [],
   "source": [
    "# Class defining the paraemters for an EEG study\n",
    "\n",
    "class EEG_Study:\n",
    "    \"\"\"\n",
    "    Defintion and parameters for an EEG study\n",
    "\n",
    "    Attributes\n",
    "    ----------\n",
    "    study_run_id : str\n",
    "    subjects_df : dataframe of subjects in study\n",
    "    psd_parames : parameters for power spectra / PSD calculation\n",
    "    \"\"\"\n",
    "\n",
    "    # Data Folders\n",
    "    __eeg_datasets_source_folder = 'Data/EEG_Datasets_Source_exgithub'\n",
    "    __eeg_study_features_folder = 'Data/EEG_Datasets_Processed'\n",
    "\n",
    "    # BIDS structure, file name for source of subjects data\n",
    "    __subjects_source_file = 'participants.tsv'\n",
    "\n",
    "    def __init__(self, dataset_name, psd_params, specparam_params):\n",
    "        \"\"\"\n",
    "        Initialise EEG_Study instance.\n",
    "\n",
    "        Parameters\n",
    "        ----------\n",
    "        dataset_name : str\n",
    "        psd_params : dic\n",
    "        specparam_params : dic\n",
    "\n",
    "        Returns\n",
    "        -------\n",
    "        Study : class instance\n",
    "        \"\"\"\n",
    "\n",
    "        # Input validation - Valid Folder paths\n",
    "        eeg_datasets_folder_path = get_folder_path(self.__eeg_datasets_source_folder)\n",
    "        eeg_study_features_folder_path = get_folder_path(self.__eeg_study_features_folder)\n",
    "\n",
    "        # Input validation - Valid Dataset\n",
    "        datasets_list = os.listdir(eeg_datasets_folder_path)\n",
    "        datasets_list = [d for d in datasets_list if d.startswith('ds') and os.path.isdir(os.path.join(eeg_datasets_folder_path, d))]\n",
    "\n",
    "        if dataset_name not in datasets_list:\n",
    "            raise ValueError(f\"Dataset '{dataset_name}' not found in list of available datasets: {datasets_list}\")\n",
    "        dataset_path = os.path.join(eeg_datasets_folder_path, dataset_name)\n",
    "        if not os.path.exists(dataset_path):\n",
    "            raise FileNotFoundError(f\"Path does not exist: {dataset_path}\")\n",
    "        subjects_file = os.path.join(eeg_datasets_folder_path, dataset_name, self.__subjects_source_file)\n",
    "        if not os.path.isfile(subjects_file):\n",
    "            raise FileNotFoundError(f'File not found: {subjects_file}')\n",
    "        \n",
    "        # Create ID / Name for the study run & results folder\n",
    "        current_date = datetime.now().strftime('%Y%m%d')\n",
    "        study_run_id = f'{dataset_name}_{current_date}'\n",
    "        results_folder_path = os.path.join(eeg_study_features_folder_path, study_run_id)\n",
    "        os.makedirs(results_folder_path, exist_ok=True)\n",
    "        \n",
    "        # Private Attributes\n",
    "        # TODO: Any private attributes?\n",
    "\n",
    "        # Public Attributes\n",
    "        self.study_run_id = study_run_id\n",
    "        self.dataset_path = dataset_path\n",
    "        self.results_folder_path = results_folder_path\n",
    "        self.psd_params = psd_params\n",
    "        self.specparam_params = specparam_params\n",
    "        self.subjects_df = self._create_subjects_df(subjects_file)\n",
    "\n",
    "    # Private functions\n",
    "\n",
    "    def _create_subjects_df(self, subjects_csv):\n",
    "        # Read the datset csv file to get selected subjects data\n",
    "        try:\n",
    "            temp_subjects_df = pd.read_csv(subjects_csv, sep='\\t')\n",
    "        except Exception as e:\n",
    "            raise IOError(f\"Failed to read subjects file '{subjects_csv}': {e}\")\n",
    "        subjects_df = temp_subjects_df[['participant_id', 'AGE', 'GENDER', 'TYPE']].copy()\n",
    "        subjects_df.columns = ['subject_id', 'age', 'gender', 'pd']\n",
    "\n",
    "        return subjects_df\n",
    "    \n",
    "    # Public functions\n",
    "    \n",
    "\n"
   ]
  },
  {
   "cell_type": "markdown",
   "id": "69e96ddc",
   "metadata": {},
   "source": [
    "## Get Raw EEG data"
   ]
  },
  {
   "cell_type": "code",
   "execution_count": 6,
   "id": "6f02c6d2",
   "metadata": {},
   "outputs": [],
   "source": [
    "# Function to get the raw EEG signal data\n",
    "def get_EEG_raw(study, subject_id):\n",
    "    \"\"\"\n",
    "    Get raw EEG data.\n",
    "\n",
    "    Parameters\n",
    "    ----------\n",
    "    study : Study class\n",
    "    subject_id : str\n",
    "\n",
    "    Returns\n",
    "    -------\n",
    "    EEG_raw : raw\n",
    "    \"\"\"\n",
    "    \n",
    "    # BIDS File Structure\n",
    "    # dataset_root = \n",
    "    # dataset_name = \n",
    "    subject = subject_id\n",
    "    session = ''\n",
    "    task = 'Rest'\n",
    "    datatype='eeg'\n",
    "\n",
    "    # EEGLab .set file name\n",
    "    temp_path = os.path.join(study.dataset_path, subject, session, datatype)\n",
    "    temp_file_name = subject + '_task-' + task + '_' + datatype + '.set'\n",
    "    eeg_lab_file_path = get_file_path(temp_path, temp_file_name)\n",
    "\n",
    "    # Get the raw EEG data\n",
    "    if 'VERBOSE' in globals() and VERBOSE:\n",
    "        mne.set_log_level('DEBUG')\n",
    "    else:\n",
    "        mne.set_log_level('WARNING')\n",
    "\n",
    "    try:\n",
    "        eeg_dataset_raw = mne.io.read_raw_eeglab(eeg_lab_file_path, preload=True)\n",
    "    except Exception as e:\n",
    "        raise ValueError(f\"Failed to load EEG data for subject {subject}: {e}\") \n",
    "    \n",
    "    if 'VERBOSE' in globals() and VERBOSE:\n",
    "        print(f\"EEG Raw Data Obtained: {eeg_dataset_raw.info['description']} on {eeg_dataset_raw.info['meas_date']}\")\n",
    "        print(eeg_dataset_raw)\n",
    "        print(eeg_dataset_raw.info)\n",
    "\n",
    "        # TODO: Add plots\n",
    "\n",
    "    return eeg_dataset_raw"
   ]
  },
  {
   "cell_type": "markdown",
   "id": "bfb7ab7f",
   "metadata": {},
   "source": [
    "## EEG Preprocessing"
   ]
  },
  {
   "cell_type": "code",
   "execution_count": 7,
   "id": "2a36aa57",
   "metadata": {},
   "outputs": [],
   "source": [
    "# Function to preprocess the raw EEG signal data\n",
    "def perform_EEG_preprocessing(study, EEG_raw):\n",
    "    \"\"\"\n",
    "    Preprocessing of the EEG raw data\n",
    "\n",
    "    Parameters\n",
    "    ----------\n",
    "    study : Study class\n",
    "    EEG_raw : raw\n",
    "\n",
    "    Returns\n",
    "    -------\n",
    "    EEG_clean : clean\n",
    "    \"\"\"\n",
    "\n",
    "    print(f'TO DO - Preprocess of raw EEG')\n",
    "\n",
    "    # TODO: Add filtering\n",
    "    # TODO: Add ICA\n",
    "    # TODO: Subject 68 had 66 channels but max should be 63? Check during preprocessing, before FOOOFING\n",
    "\n",
    "    if 'VERBOSE' in globals() and VERBOSE:\n",
    "        print('To Do: Preprocessing results ....')\n",
    "\n",
    "    EEG_clean = EEG_raw\n",
    "\n",
    "    return EEG_clean\n"
   ]
  },
  {
   "cell_type": "markdown",
   "id": "d3e4b130",
   "metadata": {},
   "source": [
    "## Get the Power Spectra"
   ]
  },
  {
   "cell_type": "code",
   "execution_count": 8,
   "id": "5bfc7111",
   "metadata": {},
   "outputs": [],
   "source": [
    "# Function to get the power spectra from the cleaned/preprocessed EEG signal data\n",
    "def get_spectra(study, EEG_clean):\n",
    "    \"\"\"\n",
    "    Obtain the Power Spectra for all channels\n",
    "\n",
    "    Parameters\n",
    "    ----------\n",
    "    study : Study class\n",
    "    EEG_clean : clean\n",
    "\n",
    "    Returns\n",
    "    -------\n",
    "    Spectra : frequencies and powers for each channel\n",
    "    \"\"\"\n",
    "\n",
    "    try:\n",
    "        spectra_result = EEG_clean.compute_psd(method=study.psd_params['method'],\n",
    "                                               fmin=study.psd_params['fmin'],\n",
    "                                               fmax=study.psd_params['fmax'],\n",
    "                                               exclude=study.psd_params['exclude'])\n",
    "    except Exception as e:\n",
    "        raise Exception(f\"Error calculating spectra: {e}\")\n",
    "\n",
    "    if 'VERBOSE' in globals() and VERBOSE:\n",
    "        print(f'Spectra computed using parameters: {study.psd_params}')\n",
    "        print(spectra_result)\n",
    "        print(spectra_result.info)\n",
    "\n",
    "        # freqs = spectra_result.freqs\n",
    "        # powers = spectra_result.get_data(return_freqs=False)\n",
    "        # n_channels = powers.shape[0]\n",
    "        # # n_channels = len(spectra_result.ch_names)\n",
    "        # n_frequencies = powers.shape[1]\n",
    "        # freq_resolution = freqs[1] - freqs[0]\n",
    "        # print(f'Spectra Group:')\n",
    "        # print(f'- {n_channels} channels & {n_frequencies} frequencies')\n",
    "        # print(f'- Frequency Range: {freqs.min():.1f} to {freqs.max():.1f} Hz')\n",
    "        # print(f'- Frequency resolution {freq_resolution:.2f} Hz')\n",
    "\n",
    "        # TODO: Add plots\n",
    "\n",
    "    return spectra_result\n"
   ]
  },
  {
   "cell_type": "markdown",
   "id": "00d74c25",
   "metadata": {},
   "source": [
    "## Spectral Parameterisation"
   ]
  },
  {
   "cell_type": "code",
   "execution_count": 9,
   "id": "38713035",
   "metadata": {},
   "outputs": [],
   "source": [
    "# Function to perform Spectral Parameterisation and dtermine the aperiodic and periodic components\n",
    "def perform_SpecParam(study, spectra):\n",
    "    \"\"\"\n",
    "    Spectral Parameterisation to determine the aperiodic and periodic components for all channels\n",
    "\n",
    "    Parameters\n",
    "    ----------\n",
    "    study : Study class\n",
    "    spectra : spectra\n",
    "\n",
    "    Returns\n",
    "    -------\n",
    "    SpecParam.df : dataframe of components for each channel\n",
    "    \"\"\"\n",
    "\n",
    "    # Initialise SpecParam Group Model & fit it\n",
    "    freqs = spectra.freqs\n",
    "    powers = spectra.get_data(return_freqs=False)\n",
    "\n",
    "    spm_fit_freq_range = [1, 75]\n",
    "\n",
    "    try:\n",
    "        fg = SpectralGroupModel(peak_width_limits=study.specparam_params['peak_width_limits'], \n",
    "                                max_n_peaks=study.specparam_params['max_n_peaks'], \n",
    "                                min_peak_height=study.specparam_params['min_peak_height'],\n",
    "                                peak_threshold=study.specparam_params['peak_threshold'],\n",
    "                                aperiodic_mode=study.specparam_params['aperiodic_mode'])\n",
    "        fg.fit(freqs, powers, study.specparam_params['fit_freq_range'], progress='tqdm.notebook')\n",
    "    except Exception as e:\n",
    "        raise Exception(f\"Error performing SpecParam: {e}\")\n",
    "\n",
    "    specparam_df = fg.to_df(10)        \n",
    "\n",
    "    if 'VERBOSE' in globals() and VERBOSE:\n",
    "        print(f'With parameters: {study.specparam_params}')\n",
    "        print(f'Executed Settings: {fg.get_settings()}')\n",
    "        # Overall group results\n",
    "        fg.print_results()\n",
    "\n",
    "        # TODO: Add plots\n",
    "        fg.plot()\n",
    "        plt.show()\n",
    "\n",
    "    return specparam_df\n",
    "\n"
   ]
  },
  {
   "cell_type": "markdown",
   "id": "ef71b0b6",
   "metadata": {},
   "source": [
    "# Execute Full EEG Pipeline - Single Dataset"
   ]
  },
  {
   "cell_type": "code",
   "execution_count": 10,
   "id": "4f2db903",
   "metadata": {},
   "outputs": [],
   "source": [
    "# Define the execution parameters\n",
    "#\n",
    "\n",
    "# Set progress messages, testing\n",
    "VERBOSE = False\n",
    "max_subjects_run = np.inf\n",
    "test_channel = 'P5'\n",
    "\n",
    "# Set Execution Parameters\n",
    "psd_params = {'method': 'welch', # Calculation method\n",
    "              'fmin': 1,         \n",
    "              'fmax': 250,       \n",
    "              'exclude': []      # Includes all, even bad channels\n",
    "              }\n",
    "specparam_params = {'peak_width_limits': [1, 12],\n",
    "                    'max_n_peaks': 10,\n",
    "                    'min_peak_height': 0.1,\n",
    "                    'peak_threshold': 2.0,\n",
    "                    'aperiodic_mode': 'fixed',\n",
    "                    'fit_freq_range' : [1, 75]\n",
    "                    }\n",
    "\n",
    "# Define the Study\n",
    "study_details = EEG_Study('ds004584-1.0.0', psd_params, specparam_params)\n",
    "\n",
    "# Establish dataframes to save results once completed\n",
    "study_details_df = pd.DataFrame({'study_run_id': [study_details.study_run_id],\n",
    "                                 'dataset_path': [study_details.dataset_path],\n",
    "                                 'results_path': [study_details.results_folder_path],\n",
    "                                 'psd_params': [study_details.psd_params],\n",
    "                                 'specparam_params': [study_details.specparam_params],\n",
    "                                 'subjects_df': [study_details.subjects_df]\n",
    "                                 })\n",
    "study_features_df = pd.DataFrame()\n",
    "# TODO: Save all in a single df or split out subjects into a third df?\n"
   ]
  },
  {
   "cell_type": "code",
   "execution_count": 11,
   "id": "7221ac68",
   "metadata": {},
   "outputs": [
    {
     "name": "stdout",
     "output_type": "stream",
     "text": [
      "\n",
      "-----------------------------------------------------------------------------------------------\n",
      "Processing subject: sub-001\n",
      "\n",
      "----------------------------------------------\n",
      "Getting EEG raw data\n",
      "\n",
      "----------------------------------------------\n",
      "Preprocessing EEG\n",
      "TO DO - Preprocess of raw EEG\n",
      "\n",
      "----------------------------------------------\n",
      "Getting power spectra\n",
      "\n",
      "----------------------------------------------\n",
      "Completing Spectral Parameterisation\n"
     ]
    },
    {
     "name": "stderr",
     "output_type": "stream",
     "text": [
      "/var/folders/wd/rhzj_w8570g_y66t6j6mh4zw0000gn/T/ipykernel_51414/345241518.py:36: RuntimeWarning: The data contains 'boundary' events, indicating data discontinuities. Be cautious of filtering and epoching around these events.\n",
      "  eeg_dataset_raw = mne.io.read_raw_eeglab(eeg_lab_file_path, preload=True)\n"
     ]
    },
    {
     "data": {
      "application/vnd.jupyter.widget-view+json": {
       "model_id": "baf90107c17341fb84d893c2cc18a4f9",
       "version_major": 2,
       "version_minor": 0
      },
      "text/plain": [
       "Running group fits.:   0%|          | 0/63 [00:00<?, ?it/s]"
      ]
     },
     "metadata": {},
     "output_type": "display_data"
    },
    {
     "name": "stdout",
     "output_type": "stream",
     "text": [
      "\n",
      "----------------------------------------------\n",
      "Collating Study Features\n",
      "\n",
      "-----------------------------------------------------------------------------------------------\n",
      "Processing subject: sub-002\n",
      "\n",
      "----------------------------------------------\n",
      "Getting EEG raw data\n",
      "\n",
      "----------------------------------------------\n",
      "Preprocessing EEG\n",
      "TO DO - Preprocess of raw EEG\n",
      "\n",
      "----------------------------------------------\n",
      "Getting power spectra\n",
      "\n",
      "----------------------------------------------\n",
      "Completing Spectral Parameterisation\n"
     ]
    },
    {
     "name": "stderr",
     "output_type": "stream",
     "text": [
      "/var/folders/wd/rhzj_w8570g_y66t6j6mh4zw0000gn/T/ipykernel_51414/345241518.py:36: RuntimeWarning: The data contains 'boundary' events, indicating data discontinuities. Be cautious of filtering and epoching around these events.\n",
      "  eeg_dataset_raw = mne.io.read_raw_eeglab(eeg_lab_file_path, preload=True)\n"
     ]
    },
    {
     "data": {
      "application/vnd.jupyter.widget-view+json": {
       "model_id": "af25f4fc031d48b2a21f9a9ed9445905",
       "version_major": 2,
       "version_minor": 0
      },
      "text/plain": [
       "Running group fits.:   0%|          | 0/63 [00:00<?, ?it/s]"
      ]
     },
     "metadata": {},
     "output_type": "display_data"
    },
    {
     "name": "stdout",
     "output_type": "stream",
     "text": [
      "\n",
      "----------------------------------------------\n",
      "Collating Study Features\n",
      "\n",
      "-----------------------------------------------------------------------------------------------\n",
      "Processing subject: sub-003\n",
      "\n",
      "----------------------------------------------\n",
      "Getting EEG raw data\n",
      "\n",
      "----------------------------------------------\n",
      "Preprocessing EEG\n",
      "TO DO - Preprocess of raw EEG\n",
      "\n",
      "----------------------------------------------\n",
      "Getting power spectra\n",
      "\n",
      "----------------------------------------------\n",
      "Completing Spectral Parameterisation\n"
     ]
    },
    {
     "name": "stderr",
     "output_type": "stream",
     "text": [
      "/var/folders/wd/rhzj_w8570g_y66t6j6mh4zw0000gn/T/ipykernel_51414/345241518.py:36: RuntimeWarning: The data contains 'boundary' events, indicating data discontinuities. Be cautious of filtering and epoching around these events.\n",
      "  eeg_dataset_raw = mne.io.read_raw_eeglab(eeg_lab_file_path, preload=True)\n"
     ]
    },
    {
     "data": {
      "application/vnd.jupyter.widget-view+json": {
       "model_id": "1bace2fed5674395b6b09f109c0812ed",
       "version_major": 2,
       "version_minor": 0
      },
      "text/plain": [
       "Running group fits.:   0%|          | 0/63 [00:00<?, ?it/s]"
      ]
     },
     "metadata": {},
     "output_type": "display_data"
    },
    {
     "name": "stdout",
     "output_type": "stream",
     "text": [
      "\n",
      "----------------------------------------------\n",
      "Collating Study Features\n",
      "\n",
      "-----------------------------------------------------------------------------------------------\n",
      "Processing subject: sub-004\n",
      "\n",
      "----------------------------------------------\n",
      "Getting EEG raw data\n",
      "\n",
      "----------------------------------------------\n",
      "Preprocessing EEG\n",
      "TO DO - Preprocess of raw EEG\n",
      "\n",
      "----------------------------------------------\n",
      "Getting power spectra\n",
      "\n",
      "----------------------------------------------\n",
      "Completing Spectral Parameterisation\n"
     ]
    },
    {
     "name": "stderr",
     "output_type": "stream",
     "text": [
      "/var/folders/wd/rhzj_w8570g_y66t6j6mh4zw0000gn/T/ipykernel_51414/345241518.py:36: RuntimeWarning: The data contains 'boundary' events, indicating data discontinuities. Be cautious of filtering and epoching around these events.\n",
      "  eeg_dataset_raw = mne.io.read_raw_eeglab(eeg_lab_file_path, preload=True)\n"
     ]
    },
    {
     "data": {
      "application/vnd.jupyter.widget-view+json": {
       "model_id": "7144a8b2609f4c069511ac85d2048b5c",
       "version_major": 2,
       "version_minor": 0
      },
      "text/plain": [
       "Running group fits.:   0%|          | 0/63 [00:00<?, ?it/s]"
      ]
     },
     "metadata": {},
     "output_type": "display_data"
    },
    {
     "name": "stdout",
     "output_type": "stream",
     "text": [
      "\n",
      "----------------------------------------------\n",
      "Collating Study Features\n",
      "\n",
      "-----------------------------------------------------------------------------------------------\n",
      "Processing subject: sub-005\n",
      "\n",
      "----------------------------------------------\n",
      "Getting EEG raw data\n",
      "\n",
      "----------------------------------------------\n",
      "Preprocessing EEG\n",
      "TO DO - Preprocess of raw EEG\n",
      "\n",
      "----------------------------------------------\n",
      "Getting power spectra\n",
      "\n",
      "----------------------------------------------\n",
      "Completing Spectral Parameterisation\n"
     ]
    },
    {
     "name": "stderr",
     "output_type": "stream",
     "text": [
      "/var/folders/wd/rhzj_w8570g_y66t6j6mh4zw0000gn/T/ipykernel_51414/345241518.py:36: RuntimeWarning: The data contains 'boundary' events, indicating data discontinuities. Be cautious of filtering and epoching around these events.\n",
      "  eeg_dataset_raw = mne.io.read_raw_eeglab(eeg_lab_file_path, preload=True)\n"
     ]
    },
    {
     "data": {
      "application/vnd.jupyter.widget-view+json": {
       "model_id": "1d76961b8cc64326b88f1d012453641c",
       "version_major": 2,
       "version_minor": 0
      },
      "text/plain": [
       "Running group fits.:   0%|          | 0/63 [00:00<?, ?it/s]"
      ]
     },
     "metadata": {},
     "output_type": "display_data"
    },
    {
     "name": "stdout",
     "output_type": "stream",
     "text": [
      "\n",
      "----------------------------------------------\n",
      "Collating Study Features\n",
      "\n",
      "-----------------------------------------------------------------------------------------------\n",
      "Processing subject: sub-006\n",
      "\n",
      "----------------------------------------------\n",
      "Getting EEG raw data\n",
      "\n",
      "----------------------------------------------\n",
      "Preprocessing EEG\n",
      "TO DO - Preprocess of raw EEG\n",
      "\n",
      "----------------------------------------------\n",
      "Getting power spectra\n",
      "\n",
      "----------------------------------------------\n",
      "Completing Spectral Parameterisation\n"
     ]
    },
    {
     "name": "stderr",
     "output_type": "stream",
     "text": [
      "/var/folders/wd/rhzj_w8570g_y66t6j6mh4zw0000gn/T/ipykernel_51414/345241518.py:36: RuntimeWarning: The data contains 'boundary' events, indicating data discontinuities. Be cautious of filtering and epoching around these events.\n",
      "  eeg_dataset_raw = mne.io.read_raw_eeglab(eeg_lab_file_path, preload=True)\n"
     ]
    },
    {
     "data": {
      "application/vnd.jupyter.widget-view+json": {
       "model_id": "a12d6c5b597d43eabb2bb6ff537ca943",
       "version_major": 2,
       "version_minor": 0
      },
      "text/plain": [
       "Running group fits.:   0%|          | 0/63 [00:00<?, ?it/s]"
      ]
     },
     "metadata": {},
     "output_type": "display_data"
    },
    {
     "name": "stdout",
     "output_type": "stream",
     "text": [
      "\n",
      "----------------------------------------------\n",
      "Collating Study Features\n",
      "\n",
      "-----------------------------------------------------------------------------------------------\n",
      "Processing subject: sub-007\n",
      "\n",
      "----------------------------------------------\n",
      "Getting EEG raw data\n",
      "\n",
      "----------------------------------------------\n",
      "Preprocessing EEG\n",
      "TO DO - Preprocess of raw EEG\n",
      "\n",
      "----------------------------------------------\n",
      "Getting power spectra\n",
      "\n",
      "----------------------------------------------\n",
      "Completing Spectral Parameterisation\n"
     ]
    },
    {
     "name": "stderr",
     "output_type": "stream",
     "text": [
      "/var/folders/wd/rhzj_w8570g_y66t6j6mh4zw0000gn/T/ipykernel_51414/345241518.py:36: RuntimeWarning: The data contains 'boundary' events, indicating data discontinuities. Be cautious of filtering and epoching around these events.\n",
      "  eeg_dataset_raw = mne.io.read_raw_eeglab(eeg_lab_file_path, preload=True)\n"
     ]
    },
    {
     "data": {
      "application/vnd.jupyter.widget-view+json": {
       "model_id": "aea9828d9de34546a00c9370014eff49",
       "version_major": 2,
       "version_minor": 0
      },
      "text/plain": [
       "Running group fits.:   0%|          | 0/63 [00:00<?, ?it/s]"
      ]
     },
     "metadata": {},
     "output_type": "display_data"
    },
    {
     "name": "stdout",
     "output_type": "stream",
     "text": [
      "\n",
      "----------------------------------------------\n",
      "Collating Study Features\n",
      "\n",
      "-----------------------------------------------------------------------------------------------\n",
      "Processing subject: sub-008\n",
      "\n",
      "----------------------------------------------\n",
      "Getting EEG raw data\n",
      "\n",
      "----------------------------------------------\n",
      "Preprocessing EEG\n",
      "TO DO - Preprocess of raw EEG\n",
      "\n",
      "----------------------------------------------\n",
      "Getting power spectra\n",
      "\n",
      "----------------------------------------------\n",
      "Completing Spectral Parameterisation\n"
     ]
    },
    {
     "name": "stderr",
     "output_type": "stream",
     "text": [
      "/var/folders/wd/rhzj_w8570g_y66t6j6mh4zw0000gn/T/ipykernel_51414/345241518.py:36: RuntimeWarning: The data contains 'boundary' events, indicating data discontinuities. Be cautious of filtering and epoching around these events.\n",
      "  eeg_dataset_raw = mne.io.read_raw_eeglab(eeg_lab_file_path, preload=True)\n"
     ]
    },
    {
     "data": {
      "application/vnd.jupyter.widget-view+json": {
       "model_id": "f5cbcb76dd6d43e78cfcc2937712d1e3",
       "version_major": 2,
       "version_minor": 0
      },
      "text/plain": [
       "Running group fits.:   0%|          | 0/63 [00:00<?, ?it/s]"
      ]
     },
     "metadata": {},
     "output_type": "display_data"
    },
    {
     "name": "stdout",
     "output_type": "stream",
     "text": [
      "\n",
      "----------------------------------------------\n",
      "Collating Study Features\n",
      "\n",
      "-----------------------------------------------------------------------------------------------\n",
      "Processing subject: sub-009\n",
      "\n",
      "----------------------------------------------\n",
      "Getting EEG raw data\n",
      "\n",
      "----------------------------------------------\n",
      "Preprocessing EEG\n",
      "TO DO - Preprocess of raw EEG\n",
      "\n",
      "----------------------------------------------\n",
      "Getting power spectra\n",
      "\n",
      "----------------------------------------------\n",
      "Completing Spectral Parameterisation\n"
     ]
    },
    {
     "name": "stderr",
     "output_type": "stream",
     "text": [
      "/var/folders/wd/rhzj_w8570g_y66t6j6mh4zw0000gn/T/ipykernel_51414/345241518.py:36: RuntimeWarning: The data contains 'boundary' events, indicating data discontinuities. Be cautious of filtering and epoching around these events.\n",
      "  eeg_dataset_raw = mne.io.read_raw_eeglab(eeg_lab_file_path, preload=True)\n"
     ]
    },
    {
     "data": {
      "application/vnd.jupyter.widget-view+json": {
       "model_id": "45e8aac28a854bf19c42388c011c6338",
       "version_major": 2,
       "version_minor": 0
      },
      "text/plain": [
       "Running group fits.:   0%|          | 0/63 [00:00<?, ?it/s]"
      ]
     },
     "metadata": {},
     "output_type": "display_data"
    },
    {
     "name": "stdout",
     "output_type": "stream",
     "text": [
      "\n",
      "----------------------------------------------\n",
      "Collating Study Features\n",
      "\n",
      "-----------------------------------------------------------------------------------------------\n",
      "Processing subject: sub-010\n",
      "\n",
      "----------------------------------------------\n",
      "Getting EEG raw data\n",
      "\n",
      "----------------------------------------------\n",
      "Preprocessing EEG\n",
      "TO DO - Preprocess of raw EEG\n",
      "\n",
      "----------------------------------------------\n",
      "Getting power spectra\n",
      "\n",
      "----------------------------------------------\n",
      "Completing Spectral Parameterisation\n"
     ]
    },
    {
     "name": "stderr",
     "output_type": "stream",
     "text": [
      "/var/folders/wd/rhzj_w8570g_y66t6j6mh4zw0000gn/T/ipykernel_51414/345241518.py:36: RuntimeWarning: The data contains 'boundary' events, indicating data discontinuities. Be cautious of filtering and epoching around these events.\n",
      "  eeg_dataset_raw = mne.io.read_raw_eeglab(eeg_lab_file_path, preload=True)\n"
     ]
    },
    {
     "data": {
      "application/vnd.jupyter.widget-view+json": {
       "model_id": "e133ac32e41041ed87d23b1faf338031",
       "version_major": 2,
       "version_minor": 0
      },
      "text/plain": [
       "Running group fits.:   0%|          | 0/63 [00:00<?, ?it/s]"
      ]
     },
     "metadata": {},
     "output_type": "display_data"
    },
    {
     "name": "stdout",
     "output_type": "stream",
     "text": [
      "\n",
      "----------------------------------------------\n",
      "Collating Study Features\n",
      "\n",
      "-----------------------------------------------------------------------------------------------\n",
      "Processing subject: sub-011\n",
      "\n",
      "----------------------------------------------\n",
      "Getting EEG raw data\n",
      "\n",
      "----------------------------------------------\n",
      "Preprocessing EEG\n",
      "TO DO - Preprocess of raw EEG\n",
      "\n",
      "----------------------------------------------\n",
      "Getting power spectra\n",
      "\n",
      "----------------------------------------------\n",
      "Completing Spectral Parameterisation\n"
     ]
    },
    {
     "name": "stderr",
     "output_type": "stream",
     "text": [
      "/var/folders/wd/rhzj_w8570g_y66t6j6mh4zw0000gn/T/ipykernel_51414/345241518.py:36: RuntimeWarning: The data contains 'boundary' events, indicating data discontinuities. Be cautious of filtering and epoching around these events.\n",
      "  eeg_dataset_raw = mne.io.read_raw_eeglab(eeg_lab_file_path, preload=True)\n"
     ]
    },
    {
     "data": {
      "application/vnd.jupyter.widget-view+json": {
       "model_id": "37eac899d7184159aa89d1ecdbe44a9f",
       "version_major": 2,
       "version_minor": 0
      },
      "text/plain": [
       "Running group fits.:   0%|          | 0/63 [00:00<?, ?it/s]"
      ]
     },
     "metadata": {},
     "output_type": "display_data"
    },
    {
     "name": "stdout",
     "output_type": "stream",
     "text": [
      "\n",
      "----------------------------------------------\n",
      "Collating Study Features\n",
      "\n",
      "-----------------------------------------------------------------------------------------------\n",
      "Processing subject: sub-012\n",
      "\n",
      "----------------------------------------------\n",
      "Getting EEG raw data\n",
      "\n",
      "----------------------------------------------\n",
      "Preprocessing EEG\n",
      "TO DO - Preprocess of raw EEG\n",
      "\n",
      "----------------------------------------------\n",
      "Getting power spectra\n",
      "\n",
      "----------------------------------------------\n",
      "Completing Spectral Parameterisation\n"
     ]
    },
    {
     "name": "stderr",
     "output_type": "stream",
     "text": [
      "/var/folders/wd/rhzj_w8570g_y66t6j6mh4zw0000gn/T/ipykernel_51414/345241518.py:36: RuntimeWarning: The data contains 'boundary' events, indicating data discontinuities. Be cautious of filtering and epoching around these events.\n",
      "  eeg_dataset_raw = mne.io.read_raw_eeglab(eeg_lab_file_path, preload=True)\n"
     ]
    },
    {
     "data": {
      "application/vnd.jupyter.widget-view+json": {
       "model_id": "3b574ff999894b6096b6586ab812d489",
       "version_major": 2,
       "version_minor": 0
      },
      "text/plain": [
       "Running group fits.:   0%|          | 0/63 [00:00<?, ?it/s]"
      ]
     },
     "metadata": {},
     "output_type": "display_data"
    },
    {
     "name": "stdout",
     "output_type": "stream",
     "text": [
      "\n",
      "----------------------------------------------\n",
      "Collating Study Features\n",
      "\n",
      "-----------------------------------------------------------------------------------------------\n",
      "Processing subject: sub-013\n",
      "\n",
      "----------------------------------------------\n",
      "Getting EEG raw data\n",
      "\n",
      "----------------------------------------------\n",
      "Preprocessing EEG\n",
      "TO DO - Preprocess of raw EEG\n",
      "\n",
      "----------------------------------------------\n",
      "Getting power spectra\n",
      "\n",
      "----------------------------------------------\n",
      "Completing Spectral Parameterisation\n"
     ]
    },
    {
     "name": "stderr",
     "output_type": "stream",
     "text": [
      "/var/folders/wd/rhzj_w8570g_y66t6j6mh4zw0000gn/T/ipykernel_51414/345241518.py:36: RuntimeWarning: The data contains 'boundary' events, indicating data discontinuities. Be cautious of filtering and epoching around these events.\n",
      "  eeg_dataset_raw = mne.io.read_raw_eeglab(eeg_lab_file_path, preload=True)\n"
     ]
    },
    {
     "data": {
      "application/vnd.jupyter.widget-view+json": {
       "model_id": "4b0190f50c354cbd81fbef5b52a8fa4a",
       "version_major": 2,
       "version_minor": 0
      },
      "text/plain": [
       "Running group fits.:   0%|          | 0/63 [00:00<?, ?it/s]"
      ]
     },
     "metadata": {},
     "output_type": "display_data"
    },
    {
     "name": "stdout",
     "output_type": "stream",
     "text": [
      "\n",
      "----------------------------------------------\n",
      "Collating Study Features\n",
      "\n",
      "-----------------------------------------------------------------------------------------------\n",
      "Processing subject: sub-014\n",
      "\n",
      "----------------------------------------------\n",
      "Getting EEG raw data\n",
      "\n",
      "----------------------------------------------\n",
      "Preprocessing EEG\n",
      "TO DO - Preprocess of raw EEG\n",
      "\n",
      "----------------------------------------------\n",
      "Getting power spectra\n",
      "\n",
      "----------------------------------------------\n",
      "Completing Spectral Parameterisation\n"
     ]
    },
    {
     "name": "stderr",
     "output_type": "stream",
     "text": [
      "/var/folders/wd/rhzj_w8570g_y66t6j6mh4zw0000gn/T/ipykernel_51414/345241518.py:36: RuntimeWarning: The data contains 'boundary' events, indicating data discontinuities. Be cautious of filtering and epoching around these events.\n",
      "  eeg_dataset_raw = mne.io.read_raw_eeglab(eeg_lab_file_path, preload=True)\n"
     ]
    },
    {
     "data": {
      "application/vnd.jupyter.widget-view+json": {
       "model_id": "8bb8a1f6ae3a47ac9414c5f4528b0dfb",
       "version_major": 2,
       "version_minor": 0
      },
      "text/plain": [
       "Running group fits.:   0%|          | 0/63 [00:00<?, ?it/s]"
      ]
     },
     "metadata": {},
     "output_type": "display_data"
    },
    {
     "name": "stdout",
     "output_type": "stream",
     "text": [
      "\n",
      "----------------------------------------------\n",
      "Collating Study Features\n",
      "\n",
      "-----------------------------------------------------------------------------------------------\n",
      "Processing subject: sub-015\n",
      "\n",
      "----------------------------------------------\n",
      "Getting EEG raw data\n",
      "\n",
      "----------------------------------------------\n",
      "Preprocessing EEG\n",
      "TO DO - Preprocess of raw EEG\n",
      "\n",
      "----------------------------------------------\n",
      "Getting power spectra\n",
      "\n",
      "----------------------------------------------\n",
      "Completing Spectral Parameterisation\n"
     ]
    },
    {
     "name": "stderr",
     "output_type": "stream",
     "text": [
      "/var/folders/wd/rhzj_w8570g_y66t6j6mh4zw0000gn/T/ipykernel_51414/345241518.py:36: RuntimeWarning: The data contains 'boundary' events, indicating data discontinuities. Be cautious of filtering and epoching around these events.\n",
      "  eeg_dataset_raw = mne.io.read_raw_eeglab(eeg_lab_file_path, preload=True)\n"
     ]
    },
    {
     "data": {
      "application/vnd.jupyter.widget-view+json": {
       "model_id": "8bc99a8118d6466eb51032d58c5397c3",
       "version_major": 2,
       "version_minor": 0
      },
      "text/plain": [
       "Running group fits.:   0%|          | 0/63 [00:00<?, ?it/s]"
      ]
     },
     "metadata": {},
     "output_type": "display_data"
    },
    {
     "name": "stdout",
     "output_type": "stream",
     "text": [
      "\n",
      "----------------------------------------------\n",
      "Collating Study Features\n",
      "\n",
      "-----------------------------------------------------------------------------------------------\n",
      "Processing subject: sub-016\n",
      "\n",
      "----------------------------------------------\n",
      "Getting EEG raw data\n",
      "\n",
      "----------------------------------------------\n",
      "Preprocessing EEG\n",
      "TO DO - Preprocess of raw EEG\n",
      "\n",
      "----------------------------------------------\n",
      "Getting power spectra\n",
      "\n",
      "----------------------------------------------\n",
      "Completing Spectral Parameterisation\n"
     ]
    },
    {
     "name": "stderr",
     "output_type": "stream",
     "text": [
      "/var/folders/wd/rhzj_w8570g_y66t6j6mh4zw0000gn/T/ipykernel_51414/345241518.py:36: RuntimeWarning: The data contains 'boundary' events, indicating data discontinuities. Be cautious of filtering and epoching around these events.\n",
      "  eeg_dataset_raw = mne.io.read_raw_eeglab(eeg_lab_file_path, preload=True)\n"
     ]
    },
    {
     "data": {
      "application/vnd.jupyter.widget-view+json": {
       "model_id": "30939d30c2d04aa78f819d7cd8eb1743",
       "version_major": 2,
       "version_minor": 0
      },
      "text/plain": [
       "Running group fits.:   0%|          | 0/63 [00:00<?, ?it/s]"
      ]
     },
     "metadata": {},
     "output_type": "display_data"
    },
    {
     "name": "stdout",
     "output_type": "stream",
     "text": [
      "\n",
      "----------------------------------------------\n",
      "Collating Study Features\n",
      "\n",
      "-----------------------------------------------------------------------------------------------\n",
      "Processing subject: sub-017\n",
      "\n",
      "----------------------------------------------\n",
      "Getting EEG raw data\n",
      "\n",
      "----------------------------------------------\n",
      "Preprocessing EEG\n",
      "TO DO - Preprocess of raw EEG\n",
      "\n",
      "----------------------------------------------\n",
      "Getting power spectra\n",
      "\n",
      "----------------------------------------------\n",
      "Completing Spectral Parameterisation\n"
     ]
    },
    {
     "name": "stderr",
     "output_type": "stream",
     "text": [
      "/var/folders/wd/rhzj_w8570g_y66t6j6mh4zw0000gn/T/ipykernel_51414/345241518.py:36: RuntimeWarning: The data contains 'boundary' events, indicating data discontinuities. Be cautious of filtering and epoching around these events.\n",
      "  eeg_dataset_raw = mne.io.read_raw_eeglab(eeg_lab_file_path, preload=True)\n"
     ]
    },
    {
     "data": {
      "application/vnd.jupyter.widget-view+json": {
       "model_id": "0c92f19b555f4dd683ea067b0b10da96",
       "version_major": 2,
       "version_minor": 0
      },
      "text/plain": [
       "Running group fits.:   0%|          | 0/63 [00:00<?, ?it/s]"
      ]
     },
     "metadata": {},
     "output_type": "display_data"
    },
    {
     "name": "stdout",
     "output_type": "stream",
     "text": [
      "\n",
      "----------------------------------------------\n",
      "Collating Study Features\n",
      "\n",
      "-----------------------------------------------------------------------------------------------\n",
      "Processing subject: sub-018\n",
      "\n",
      "----------------------------------------------\n",
      "Getting EEG raw data\n",
      "\n",
      "----------------------------------------------\n",
      "Preprocessing EEG\n",
      "TO DO - Preprocess of raw EEG\n",
      "\n",
      "----------------------------------------------\n",
      "Getting power spectra\n",
      "\n",
      "----------------------------------------------\n",
      "Completing Spectral Parameterisation\n"
     ]
    },
    {
     "name": "stderr",
     "output_type": "stream",
     "text": [
      "/var/folders/wd/rhzj_w8570g_y66t6j6mh4zw0000gn/T/ipykernel_51414/345241518.py:36: RuntimeWarning: The data contains 'boundary' events, indicating data discontinuities. Be cautious of filtering and epoching around these events.\n",
      "  eeg_dataset_raw = mne.io.read_raw_eeglab(eeg_lab_file_path, preload=True)\n"
     ]
    },
    {
     "data": {
      "application/vnd.jupyter.widget-view+json": {
       "model_id": "05926d1d852145e2a51bcff0535777a6",
       "version_major": 2,
       "version_minor": 0
      },
      "text/plain": [
       "Running group fits.:   0%|          | 0/63 [00:00<?, ?it/s]"
      ]
     },
     "metadata": {},
     "output_type": "display_data"
    },
    {
     "name": "stdout",
     "output_type": "stream",
     "text": [
      "\n",
      "----------------------------------------------\n",
      "Collating Study Features\n",
      "\n",
      "-----------------------------------------------------------------------------------------------\n",
      "Processing subject: sub-019\n",
      "\n",
      "----------------------------------------------\n",
      "Getting EEG raw data\n",
      "\n",
      "----------------------------------------------\n",
      "Preprocessing EEG\n",
      "TO DO - Preprocess of raw EEG\n",
      "\n",
      "----------------------------------------------\n",
      "Getting power spectra\n",
      "\n",
      "----------------------------------------------\n",
      "Completing Spectral Parameterisation\n"
     ]
    },
    {
     "name": "stderr",
     "output_type": "stream",
     "text": [
      "/var/folders/wd/rhzj_w8570g_y66t6j6mh4zw0000gn/T/ipykernel_51414/345241518.py:36: RuntimeWarning: The data contains 'boundary' events, indicating data discontinuities. Be cautious of filtering and epoching around these events.\n",
      "  eeg_dataset_raw = mne.io.read_raw_eeglab(eeg_lab_file_path, preload=True)\n"
     ]
    },
    {
     "data": {
      "application/vnd.jupyter.widget-view+json": {
       "model_id": "55e8f91c52b74b8589ff6a25fa40322f",
       "version_major": 2,
       "version_minor": 0
      },
      "text/plain": [
       "Running group fits.:   0%|          | 0/63 [00:00<?, ?it/s]"
      ]
     },
     "metadata": {},
     "output_type": "display_data"
    },
    {
     "name": "stdout",
     "output_type": "stream",
     "text": [
      "\n",
      "----------------------------------------------\n",
      "Collating Study Features\n",
      "\n",
      "-----------------------------------------------------------------------------------------------\n",
      "Processing subject: sub-020\n",
      "\n",
      "----------------------------------------------\n",
      "Getting EEG raw data\n",
      "\n",
      "----------------------------------------------\n",
      "Preprocessing EEG\n",
      "TO DO - Preprocess of raw EEG\n",
      "\n",
      "----------------------------------------------\n",
      "Getting power spectra\n",
      "\n",
      "----------------------------------------------\n",
      "Completing Spectral Parameterisation\n"
     ]
    },
    {
     "name": "stderr",
     "output_type": "stream",
     "text": [
      "/var/folders/wd/rhzj_w8570g_y66t6j6mh4zw0000gn/T/ipykernel_51414/345241518.py:36: RuntimeWarning: The data contains 'boundary' events, indicating data discontinuities. Be cautious of filtering and epoching around these events.\n",
      "  eeg_dataset_raw = mne.io.read_raw_eeglab(eeg_lab_file_path, preload=True)\n"
     ]
    },
    {
     "data": {
      "application/vnd.jupyter.widget-view+json": {
       "model_id": "0c15a54f85b647d0a9316914a887d42d",
       "version_major": 2,
       "version_minor": 0
      },
      "text/plain": [
       "Running group fits.:   0%|          | 0/63 [00:00<?, ?it/s]"
      ]
     },
     "metadata": {},
     "output_type": "display_data"
    },
    {
     "name": "stdout",
     "output_type": "stream",
     "text": [
      "\n",
      "----------------------------------------------\n",
      "Collating Study Features\n",
      "\n",
      "-----------------------------------------------------------------------------------------------\n",
      "Processing subject: sub-021\n",
      "\n",
      "----------------------------------------------\n",
      "Getting EEG raw data\n",
      "\n",
      "----------------------------------------------\n",
      "Preprocessing EEG\n",
      "TO DO - Preprocess of raw EEG\n",
      "\n",
      "----------------------------------------------\n",
      "Getting power spectra\n",
      "\n",
      "----------------------------------------------\n",
      "Completing Spectral Parameterisation\n"
     ]
    },
    {
     "name": "stderr",
     "output_type": "stream",
     "text": [
      "/var/folders/wd/rhzj_w8570g_y66t6j6mh4zw0000gn/T/ipykernel_51414/345241518.py:36: RuntimeWarning: The data contains 'boundary' events, indicating data discontinuities. Be cautious of filtering and epoching around these events.\n",
      "  eeg_dataset_raw = mne.io.read_raw_eeglab(eeg_lab_file_path, preload=True)\n"
     ]
    },
    {
     "data": {
      "application/vnd.jupyter.widget-view+json": {
       "model_id": "b2e9baf0175843078f5ecc644ceb6bd3",
       "version_major": 2,
       "version_minor": 0
      },
      "text/plain": [
       "Running group fits.:   0%|          | 0/63 [00:00<?, ?it/s]"
      ]
     },
     "metadata": {},
     "output_type": "display_data"
    },
    {
     "name": "stdout",
     "output_type": "stream",
     "text": [
      "\n",
      "----------------------------------------------\n",
      "Collating Study Features\n",
      "\n",
      "-----------------------------------------------------------------------------------------------\n",
      "Processing subject: sub-022\n",
      "\n",
      "----------------------------------------------\n",
      "Getting EEG raw data\n",
      "\n",
      "----------------------------------------------\n",
      "Preprocessing EEG\n",
      "TO DO - Preprocess of raw EEG\n",
      "\n",
      "----------------------------------------------\n",
      "Getting power spectra\n",
      "\n",
      "----------------------------------------------\n",
      "Completing Spectral Parameterisation\n"
     ]
    },
    {
     "name": "stderr",
     "output_type": "stream",
     "text": [
      "/var/folders/wd/rhzj_w8570g_y66t6j6mh4zw0000gn/T/ipykernel_51414/345241518.py:36: RuntimeWarning: The data contains 'boundary' events, indicating data discontinuities. Be cautious of filtering and epoching around these events.\n",
      "  eeg_dataset_raw = mne.io.read_raw_eeglab(eeg_lab_file_path, preload=True)\n"
     ]
    },
    {
     "data": {
      "application/vnd.jupyter.widget-view+json": {
       "model_id": "774dccbbc93649228db91e6f44e8438e",
       "version_major": 2,
       "version_minor": 0
      },
      "text/plain": [
       "Running group fits.:   0%|          | 0/63 [00:00<?, ?it/s]"
      ]
     },
     "metadata": {},
     "output_type": "display_data"
    },
    {
     "name": "stdout",
     "output_type": "stream",
     "text": [
      "\n",
      "----------------------------------------------\n",
      "Collating Study Features\n",
      "\n",
      "-----------------------------------------------------------------------------------------------\n",
      "Processing subject: sub-023\n",
      "\n",
      "----------------------------------------------\n",
      "Getting EEG raw data\n",
      "\n",
      "----------------------------------------------\n",
      "Preprocessing EEG\n",
      "TO DO - Preprocess of raw EEG\n",
      "\n",
      "----------------------------------------------\n",
      "Getting power spectra\n",
      "\n",
      "----------------------------------------------\n",
      "Completing Spectral Parameterisation\n"
     ]
    },
    {
     "name": "stderr",
     "output_type": "stream",
     "text": [
      "/var/folders/wd/rhzj_w8570g_y66t6j6mh4zw0000gn/T/ipykernel_51414/345241518.py:36: RuntimeWarning: The data contains 'boundary' events, indicating data discontinuities. Be cautious of filtering and epoching around these events.\n",
      "  eeg_dataset_raw = mne.io.read_raw_eeglab(eeg_lab_file_path, preload=True)\n"
     ]
    },
    {
     "data": {
      "application/vnd.jupyter.widget-view+json": {
       "model_id": "e5db7eeedd814e649f8fd19c3a66884d",
       "version_major": 2,
       "version_minor": 0
      },
      "text/plain": [
       "Running group fits.:   0%|          | 0/63 [00:00<?, ?it/s]"
      ]
     },
     "metadata": {},
     "output_type": "display_data"
    },
    {
     "name": "stdout",
     "output_type": "stream",
     "text": [
      "\n",
      "----------------------------------------------\n",
      "Collating Study Features\n",
      "\n",
      "-----------------------------------------------------------------------------------------------\n",
      "Processing subject: sub-024\n",
      "\n",
      "----------------------------------------------\n",
      "Getting EEG raw data\n",
      "\n",
      "----------------------------------------------\n",
      "Preprocessing EEG\n",
      "TO DO - Preprocess of raw EEG\n",
      "\n",
      "----------------------------------------------\n",
      "Getting power spectra\n",
      "\n",
      "----------------------------------------------\n",
      "Completing Spectral Parameterisation\n"
     ]
    },
    {
     "name": "stderr",
     "output_type": "stream",
     "text": [
      "/var/folders/wd/rhzj_w8570g_y66t6j6mh4zw0000gn/T/ipykernel_51414/345241518.py:36: RuntimeWarning: The data contains 'boundary' events, indicating data discontinuities. Be cautious of filtering and epoching around these events.\n",
      "  eeg_dataset_raw = mne.io.read_raw_eeglab(eeg_lab_file_path, preload=True)\n"
     ]
    },
    {
     "data": {
      "application/vnd.jupyter.widget-view+json": {
       "model_id": "04ba063f74194859a16570cc5674f588",
       "version_major": 2,
       "version_minor": 0
      },
      "text/plain": [
       "Running group fits.:   0%|          | 0/63 [00:00<?, ?it/s]"
      ]
     },
     "metadata": {},
     "output_type": "display_data"
    },
    {
     "name": "stdout",
     "output_type": "stream",
     "text": [
      "\n",
      "----------------------------------------------\n",
      "Collating Study Features\n",
      "\n",
      "-----------------------------------------------------------------------------------------------\n",
      "Processing subject: sub-025\n",
      "\n",
      "----------------------------------------------\n",
      "Getting EEG raw data\n",
      "\n",
      "----------------------------------------------\n",
      "Preprocessing EEG\n",
      "TO DO - Preprocess of raw EEG\n",
      "\n",
      "----------------------------------------------\n",
      "Getting power spectra\n",
      "\n",
      "----------------------------------------------\n",
      "Completing Spectral Parameterisation\n"
     ]
    },
    {
     "name": "stderr",
     "output_type": "stream",
     "text": [
      "/var/folders/wd/rhzj_w8570g_y66t6j6mh4zw0000gn/T/ipykernel_51414/345241518.py:36: RuntimeWarning: The data contains 'boundary' events, indicating data discontinuities. Be cautious of filtering and epoching around these events.\n",
      "  eeg_dataset_raw = mne.io.read_raw_eeglab(eeg_lab_file_path, preload=True)\n"
     ]
    },
    {
     "data": {
      "application/vnd.jupyter.widget-view+json": {
       "model_id": "0200da211a87412989abcab2f70b8cab",
       "version_major": 2,
       "version_minor": 0
      },
      "text/plain": [
       "Running group fits.:   0%|          | 0/63 [00:00<?, ?it/s]"
      ]
     },
     "metadata": {},
     "output_type": "display_data"
    },
    {
     "name": "stdout",
     "output_type": "stream",
     "text": [
      "\n",
      "----------------------------------------------\n",
      "Collating Study Features\n",
      "\n",
      "-----------------------------------------------------------------------------------------------\n",
      "Processing subject: sub-026\n",
      "\n",
      "----------------------------------------------\n",
      "Getting EEG raw data\n",
      "\n",
      "----------------------------------------------\n",
      "Preprocessing EEG\n",
      "TO DO - Preprocess of raw EEG\n",
      "\n",
      "----------------------------------------------\n",
      "Getting power spectra\n",
      "\n",
      "----------------------------------------------\n",
      "Completing Spectral Parameterisation\n"
     ]
    },
    {
     "name": "stderr",
     "output_type": "stream",
     "text": [
      "/var/folders/wd/rhzj_w8570g_y66t6j6mh4zw0000gn/T/ipykernel_51414/345241518.py:36: RuntimeWarning: The data contains 'boundary' events, indicating data discontinuities. Be cautious of filtering and epoching around these events.\n",
      "  eeg_dataset_raw = mne.io.read_raw_eeglab(eeg_lab_file_path, preload=True)\n"
     ]
    },
    {
     "data": {
      "application/vnd.jupyter.widget-view+json": {
       "model_id": "e302e5704ee24093a0205a3bfb2b6bfb",
       "version_major": 2,
       "version_minor": 0
      },
      "text/plain": [
       "Running group fits.:   0%|          | 0/63 [00:00<?, ?it/s]"
      ]
     },
     "metadata": {},
     "output_type": "display_data"
    },
    {
     "name": "stdout",
     "output_type": "stream",
     "text": [
      "\n",
      "----------------------------------------------\n",
      "Collating Study Features\n",
      "\n",
      "-----------------------------------------------------------------------------------------------\n",
      "Processing subject: sub-027\n",
      "\n",
      "----------------------------------------------\n",
      "Getting EEG raw data\n",
      "\n",
      "----------------------------------------------\n",
      "Preprocessing EEG\n",
      "TO DO - Preprocess of raw EEG\n",
      "\n",
      "----------------------------------------------\n",
      "Getting power spectra\n",
      "\n",
      "----------------------------------------------\n",
      "Completing Spectral Parameterisation\n"
     ]
    },
    {
     "name": "stderr",
     "output_type": "stream",
     "text": [
      "/var/folders/wd/rhzj_w8570g_y66t6j6mh4zw0000gn/T/ipykernel_51414/345241518.py:36: RuntimeWarning: The data contains 'boundary' events, indicating data discontinuities. Be cautious of filtering and epoching around these events.\n",
      "  eeg_dataset_raw = mne.io.read_raw_eeglab(eeg_lab_file_path, preload=True)\n"
     ]
    },
    {
     "data": {
      "application/vnd.jupyter.widget-view+json": {
       "model_id": "6293c605290f497e84653548d3b88fb5",
       "version_major": 2,
       "version_minor": 0
      },
      "text/plain": [
       "Running group fits.:   0%|          | 0/63 [00:00<?, ?it/s]"
      ]
     },
     "metadata": {},
     "output_type": "display_data"
    },
    {
     "name": "stdout",
     "output_type": "stream",
     "text": [
      "\n",
      "----------------------------------------------\n",
      "Collating Study Features\n",
      "\n",
      "-----------------------------------------------------------------------------------------------\n",
      "Processing subject: sub-028\n",
      "\n",
      "----------------------------------------------\n",
      "Getting EEG raw data\n",
      "\n",
      "----------------------------------------------\n",
      "Preprocessing EEG\n",
      "TO DO - Preprocess of raw EEG\n",
      "\n",
      "----------------------------------------------\n",
      "Getting power spectra\n",
      "\n",
      "----------------------------------------------\n",
      "Completing Spectral Parameterisation\n"
     ]
    },
    {
     "name": "stderr",
     "output_type": "stream",
     "text": [
      "/var/folders/wd/rhzj_w8570g_y66t6j6mh4zw0000gn/T/ipykernel_51414/345241518.py:36: RuntimeWarning: The data contains 'boundary' events, indicating data discontinuities. Be cautious of filtering and epoching around these events.\n",
      "  eeg_dataset_raw = mne.io.read_raw_eeglab(eeg_lab_file_path, preload=True)\n"
     ]
    },
    {
     "data": {
      "application/vnd.jupyter.widget-view+json": {
       "model_id": "bbae609cf6844197bb36d4913fe377c0",
       "version_major": 2,
       "version_minor": 0
      },
      "text/plain": [
       "Running group fits.:   0%|          | 0/63 [00:00<?, ?it/s]"
      ]
     },
     "metadata": {},
     "output_type": "display_data"
    },
    {
     "name": "stdout",
     "output_type": "stream",
     "text": [
      "\n",
      "----------------------------------------------\n",
      "Collating Study Features\n",
      "\n",
      "-----------------------------------------------------------------------------------------------\n",
      "Processing subject: sub-029\n",
      "\n",
      "----------------------------------------------\n",
      "Getting EEG raw data\n",
      "\n",
      "----------------------------------------------\n",
      "Preprocessing EEG\n",
      "TO DO - Preprocess of raw EEG\n",
      "\n",
      "----------------------------------------------\n",
      "Getting power spectra\n",
      "\n",
      "----------------------------------------------\n",
      "Completing Spectral Parameterisation\n"
     ]
    },
    {
     "name": "stderr",
     "output_type": "stream",
     "text": [
      "/var/folders/wd/rhzj_w8570g_y66t6j6mh4zw0000gn/T/ipykernel_51414/345241518.py:36: RuntimeWarning: The data contains 'boundary' events, indicating data discontinuities. Be cautious of filtering and epoching around these events.\n",
      "  eeg_dataset_raw = mne.io.read_raw_eeglab(eeg_lab_file_path, preload=True)\n"
     ]
    },
    {
     "data": {
      "application/vnd.jupyter.widget-view+json": {
       "model_id": "4991940e7857421e8a798b5418097ff0",
       "version_major": 2,
       "version_minor": 0
      },
      "text/plain": [
       "Running group fits.:   0%|          | 0/63 [00:00<?, ?it/s]"
      ]
     },
     "metadata": {},
     "output_type": "display_data"
    },
    {
     "name": "stdout",
     "output_type": "stream",
     "text": [
      "\n",
      "----------------------------------------------\n",
      "Collating Study Features\n",
      "\n",
      "-----------------------------------------------------------------------------------------------\n",
      "Processing subject: sub-030\n",
      "\n",
      "----------------------------------------------\n",
      "Getting EEG raw data\n",
      "\n",
      "----------------------------------------------\n",
      "Preprocessing EEG\n",
      "TO DO - Preprocess of raw EEG\n",
      "\n",
      "----------------------------------------------\n",
      "Getting power spectra\n",
      "\n",
      "----------------------------------------------\n",
      "Completing Spectral Parameterisation\n"
     ]
    },
    {
     "name": "stderr",
     "output_type": "stream",
     "text": [
      "/var/folders/wd/rhzj_w8570g_y66t6j6mh4zw0000gn/T/ipykernel_51414/345241518.py:36: RuntimeWarning: The data contains 'boundary' events, indicating data discontinuities. Be cautious of filtering and epoching around these events.\n",
      "  eeg_dataset_raw = mne.io.read_raw_eeglab(eeg_lab_file_path, preload=True)\n"
     ]
    },
    {
     "data": {
      "application/vnd.jupyter.widget-view+json": {
       "model_id": "68e2eb6a5c7e48b28e16079167a0cdb4",
       "version_major": 2,
       "version_minor": 0
      },
      "text/plain": [
       "Running group fits.:   0%|          | 0/63 [00:00<?, ?it/s]"
      ]
     },
     "metadata": {},
     "output_type": "display_data"
    },
    {
     "name": "stdout",
     "output_type": "stream",
     "text": [
      "\n",
      "----------------------------------------------\n",
      "Collating Study Features\n",
      "\n",
      "-----------------------------------------------------------------------------------------------\n",
      "Processing subject: sub-031\n",
      "\n",
      "----------------------------------------------\n",
      "Getting EEG raw data\n",
      "\n",
      "----------------------------------------------\n",
      "Preprocessing EEG\n",
      "TO DO - Preprocess of raw EEG\n",
      "\n",
      "----------------------------------------------\n",
      "Getting power spectra\n",
      "\n",
      "----------------------------------------------\n",
      "Completing Spectral Parameterisation\n"
     ]
    },
    {
     "name": "stderr",
     "output_type": "stream",
     "text": [
      "/var/folders/wd/rhzj_w8570g_y66t6j6mh4zw0000gn/T/ipykernel_51414/345241518.py:36: RuntimeWarning: The data contains 'boundary' events, indicating data discontinuities. Be cautious of filtering and epoching around these events.\n",
      "  eeg_dataset_raw = mne.io.read_raw_eeglab(eeg_lab_file_path, preload=True)\n"
     ]
    },
    {
     "data": {
      "application/vnd.jupyter.widget-view+json": {
       "model_id": "39ec519da1e440329eaaa42a8164b295",
       "version_major": 2,
       "version_minor": 0
      },
      "text/plain": [
       "Running group fits.:   0%|          | 0/63 [00:00<?, ?it/s]"
      ]
     },
     "metadata": {},
     "output_type": "display_data"
    },
    {
     "name": "stdout",
     "output_type": "stream",
     "text": [
      "\n",
      "----------------------------------------------\n",
      "Collating Study Features\n",
      "\n",
      "-----------------------------------------------------------------------------------------------\n",
      "Processing subject: sub-032\n",
      "\n",
      "----------------------------------------------\n",
      "Getting EEG raw data\n",
      "\n",
      "----------------------------------------------\n",
      "Preprocessing EEG\n",
      "TO DO - Preprocess of raw EEG\n",
      "\n",
      "----------------------------------------------\n",
      "Getting power spectra\n",
      "\n",
      "----------------------------------------------\n",
      "Completing Spectral Parameterisation\n"
     ]
    },
    {
     "name": "stderr",
     "output_type": "stream",
     "text": [
      "/var/folders/wd/rhzj_w8570g_y66t6j6mh4zw0000gn/T/ipykernel_51414/345241518.py:36: RuntimeWarning: The data contains 'boundary' events, indicating data discontinuities. Be cautious of filtering and epoching around these events.\n",
      "  eeg_dataset_raw = mne.io.read_raw_eeglab(eeg_lab_file_path, preload=True)\n"
     ]
    },
    {
     "data": {
      "application/vnd.jupyter.widget-view+json": {
       "model_id": "7bac8fb561c7478ea6e6f94734ee8496",
       "version_major": 2,
       "version_minor": 0
      },
      "text/plain": [
       "Running group fits.:   0%|          | 0/63 [00:00<?, ?it/s]"
      ]
     },
     "metadata": {},
     "output_type": "display_data"
    },
    {
     "name": "stdout",
     "output_type": "stream",
     "text": [
      "\n",
      "----------------------------------------------\n",
      "Collating Study Features\n",
      "\n",
      "-----------------------------------------------------------------------------------------------\n",
      "Processing subject: sub-033\n",
      "\n",
      "----------------------------------------------\n",
      "Getting EEG raw data\n",
      "\n",
      "----------------------------------------------\n",
      "Preprocessing EEG\n",
      "TO DO - Preprocess of raw EEG\n",
      "\n",
      "----------------------------------------------\n",
      "Getting power spectra\n",
      "\n",
      "----------------------------------------------\n",
      "Completing Spectral Parameterisation\n"
     ]
    },
    {
     "name": "stderr",
     "output_type": "stream",
     "text": [
      "/var/folders/wd/rhzj_w8570g_y66t6j6mh4zw0000gn/T/ipykernel_51414/345241518.py:36: RuntimeWarning: The data contains 'boundary' events, indicating data discontinuities. Be cautious of filtering and epoching around these events.\n",
      "  eeg_dataset_raw = mne.io.read_raw_eeglab(eeg_lab_file_path, preload=True)\n"
     ]
    },
    {
     "data": {
      "application/vnd.jupyter.widget-view+json": {
       "model_id": "81bef643cfda4c348c61e022b5578f9d",
       "version_major": 2,
       "version_minor": 0
      },
      "text/plain": [
       "Running group fits.:   0%|          | 0/63 [00:00<?, ?it/s]"
      ]
     },
     "metadata": {},
     "output_type": "display_data"
    },
    {
     "name": "stdout",
     "output_type": "stream",
     "text": [
      "\n",
      "----------------------------------------------\n",
      "Collating Study Features\n",
      "\n",
      "-----------------------------------------------------------------------------------------------\n",
      "Processing subject: sub-034\n",
      "\n",
      "----------------------------------------------\n",
      "Getting EEG raw data\n",
      "\n",
      "----------------------------------------------\n",
      "Preprocessing EEG\n",
      "TO DO - Preprocess of raw EEG\n",
      "\n",
      "----------------------------------------------\n",
      "Getting power spectra\n",
      "\n",
      "----------------------------------------------\n",
      "Completing Spectral Parameterisation\n"
     ]
    },
    {
     "name": "stderr",
     "output_type": "stream",
     "text": [
      "/var/folders/wd/rhzj_w8570g_y66t6j6mh4zw0000gn/T/ipykernel_51414/345241518.py:36: RuntimeWarning: The data contains 'boundary' events, indicating data discontinuities. Be cautious of filtering and epoching around these events.\n",
      "  eeg_dataset_raw = mne.io.read_raw_eeglab(eeg_lab_file_path, preload=True)\n"
     ]
    },
    {
     "data": {
      "application/vnd.jupyter.widget-view+json": {
       "model_id": "9fed210e0a5349baae7fa05b253093c3",
       "version_major": 2,
       "version_minor": 0
      },
      "text/plain": [
       "Running group fits.:   0%|          | 0/63 [00:00<?, ?it/s]"
      ]
     },
     "metadata": {},
     "output_type": "display_data"
    },
    {
     "name": "stdout",
     "output_type": "stream",
     "text": [
      "\n",
      "----------------------------------------------\n",
      "Collating Study Features\n",
      "\n",
      "-----------------------------------------------------------------------------------------------\n",
      "Processing subject: sub-035\n",
      "\n",
      "----------------------------------------------\n",
      "Getting EEG raw data\n",
      "\n",
      "----------------------------------------------\n",
      "Preprocessing EEG\n",
      "TO DO - Preprocess of raw EEG\n",
      "\n",
      "----------------------------------------------\n",
      "Getting power spectra\n",
      "\n",
      "----------------------------------------------\n",
      "Completing Spectral Parameterisation\n"
     ]
    },
    {
     "name": "stderr",
     "output_type": "stream",
     "text": [
      "/var/folders/wd/rhzj_w8570g_y66t6j6mh4zw0000gn/T/ipykernel_51414/345241518.py:36: RuntimeWarning: The data contains 'boundary' events, indicating data discontinuities. Be cautious of filtering and epoching around these events.\n",
      "  eeg_dataset_raw = mne.io.read_raw_eeglab(eeg_lab_file_path, preload=True)\n"
     ]
    },
    {
     "data": {
      "application/vnd.jupyter.widget-view+json": {
       "model_id": "ca6d9eeb5d03469bb6b1e3c0fde2f5c6",
       "version_major": 2,
       "version_minor": 0
      },
      "text/plain": [
       "Running group fits.:   0%|          | 0/63 [00:00<?, ?it/s]"
      ]
     },
     "metadata": {},
     "output_type": "display_data"
    },
    {
     "name": "stdout",
     "output_type": "stream",
     "text": [
      "\n",
      "----------------------------------------------\n",
      "Collating Study Features\n",
      "\n",
      "-----------------------------------------------------------------------------------------------\n",
      "Processing subject: sub-036\n",
      "\n",
      "----------------------------------------------\n",
      "Getting EEG raw data\n",
      "\n",
      "----------------------------------------------\n",
      "Preprocessing EEG\n",
      "TO DO - Preprocess of raw EEG\n",
      "\n",
      "----------------------------------------------\n",
      "Getting power spectra\n",
      "\n",
      "----------------------------------------------\n",
      "Completing Spectral Parameterisation\n"
     ]
    },
    {
     "name": "stderr",
     "output_type": "stream",
     "text": [
      "/var/folders/wd/rhzj_w8570g_y66t6j6mh4zw0000gn/T/ipykernel_51414/345241518.py:36: RuntimeWarning: The data contains 'boundary' events, indicating data discontinuities. Be cautious of filtering and epoching around these events.\n",
      "  eeg_dataset_raw = mne.io.read_raw_eeglab(eeg_lab_file_path, preload=True)\n"
     ]
    },
    {
     "data": {
      "application/vnd.jupyter.widget-view+json": {
       "model_id": "17a29dd1351e47928cf43414d184a390",
       "version_major": 2,
       "version_minor": 0
      },
      "text/plain": [
       "Running group fits.:   0%|          | 0/63 [00:00<?, ?it/s]"
      ]
     },
     "metadata": {},
     "output_type": "display_data"
    },
    {
     "name": "stdout",
     "output_type": "stream",
     "text": [
      "\n",
      "----------------------------------------------\n",
      "Collating Study Features\n",
      "\n",
      "-----------------------------------------------------------------------------------------------\n",
      "Processing subject: sub-037\n",
      "\n",
      "----------------------------------------------\n",
      "Getting EEG raw data\n",
      "\n",
      "----------------------------------------------\n",
      "Preprocessing EEG\n",
      "TO DO - Preprocess of raw EEG\n",
      "\n",
      "----------------------------------------------\n",
      "Getting power spectra\n",
      "\n",
      "----------------------------------------------\n",
      "Completing Spectral Parameterisation\n"
     ]
    },
    {
     "name": "stderr",
     "output_type": "stream",
     "text": [
      "/var/folders/wd/rhzj_w8570g_y66t6j6mh4zw0000gn/T/ipykernel_51414/345241518.py:36: RuntimeWarning: The data contains 'boundary' events, indicating data discontinuities. Be cautious of filtering and epoching around these events.\n",
      "  eeg_dataset_raw = mne.io.read_raw_eeglab(eeg_lab_file_path, preload=True)\n"
     ]
    },
    {
     "data": {
      "application/vnd.jupyter.widget-view+json": {
       "model_id": "a5a82438c3c94079859dfc7a3a0a130e",
       "version_major": 2,
       "version_minor": 0
      },
      "text/plain": [
       "Running group fits.:   0%|          | 0/63 [00:00<?, ?it/s]"
      ]
     },
     "metadata": {},
     "output_type": "display_data"
    },
    {
     "name": "stdout",
     "output_type": "stream",
     "text": [
      "\n",
      "----------------------------------------------\n",
      "Collating Study Features\n",
      "\n",
      "-----------------------------------------------------------------------------------------------\n",
      "Processing subject: sub-038\n",
      "\n",
      "----------------------------------------------\n",
      "Getting EEG raw data\n",
      "\n",
      "----------------------------------------------\n",
      "Preprocessing EEG\n",
      "TO DO - Preprocess of raw EEG\n",
      "\n",
      "----------------------------------------------\n",
      "Getting power spectra\n",
      "\n",
      "----------------------------------------------\n",
      "Completing Spectral Parameterisation\n"
     ]
    },
    {
     "name": "stderr",
     "output_type": "stream",
     "text": [
      "/var/folders/wd/rhzj_w8570g_y66t6j6mh4zw0000gn/T/ipykernel_51414/345241518.py:36: RuntimeWarning: The data contains 'boundary' events, indicating data discontinuities. Be cautious of filtering and epoching around these events.\n",
      "  eeg_dataset_raw = mne.io.read_raw_eeglab(eeg_lab_file_path, preload=True)\n"
     ]
    },
    {
     "data": {
      "application/vnd.jupyter.widget-view+json": {
       "model_id": "26a307d864624a7e92bd5bd6ef4e160e",
       "version_major": 2,
       "version_minor": 0
      },
      "text/plain": [
       "Running group fits.:   0%|          | 0/63 [00:00<?, ?it/s]"
      ]
     },
     "metadata": {},
     "output_type": "display_data"
    },
    {
     "name": "stdout",
     "output_type": "stream",
     "text": [
      "\n",
      "----------------------------------------------\n",
      "Collating Study Features\n",
      "\n",
      "-----------------------------------------------------------------------------------------------\n",
      "Processing subject: sub-039\n",
      "\n",
      "----------------------------------------------\n",
      "Getting EEG raw data\n",
      "\n",
      "----------------------------------------------\n",
      "Preprocessing EEG\n",
      "TO DO - Preprocess of raw EEG\n",
      "\n",
      "----------------------------------------------\n",
      "Getting power spectra\n",
      "\n",
      "----------------------------------------------\n",
      "Completing Spectral Parameterisation\n"
     ]
    },
    {
     "name": "stderr",
     "output_type": "stream",
     "text": [
      "/var/folders/wd/rhzj_w8570g_y66t6j6mh4zw0000gn/T/ipykernel_51414/345241518.py:36: RuntimeWarning: The data contains 'boundary' events, indicating data discontinuities. Be cautious of filtering and epoching around these events.\n",
      "  eeg_dataset_raw = mne.io.read_raw_eeglab(eeg_lab_file_path, preload=True)\n"
     ]
    },
    {
     "data": {
      "application/vnd.jupyter.widget-view+json": {
       "model_id": "feb405eaab2c44a2b28c54feb4a1ee9d",
       "version_major": 2,
       "version_minor": 0
      },
      "text/plain": [
       "Running group fits.:   0%|          | 0/63 [00:00<?, ?it/s]"
      ]
     },
     "metadata": {},
     "output_type": "display_data"
    },
    {
     "name": "stdout",
     "output_type": "stream",
     "text": [
      "\n",
      "----------------------------------------------\n",
      "Collating Study Features\n",
      "\n",
      "-----------------------------------------------------------------------------------------------\n",
      "Processing subject: sub-040\n",
      "\n",
      "----------------------------------------------\n",
      "Getting EEG raw data\n",
      "\n",
      "----------------------------------------------\n",
      "Preprocessing EEG\n",
      "TO DO - Preprocess of raw EEG\n",
      "\n",
      "----------------------------------------------\n",
      "Getting power spectra\n",
      "\n",
      "----------------------------------------------\n",
      "Completing Spectral Parameterisation\n"
     ]
    },
    {
     "name": "stderr",
     "output_type": "stream",
     "text": [
      "/var/folders/wd/rhzj_w8570g_y66t6j6mh4zw0000gn/T/ipykernel_51414/345241518.py:36: RuntimeWarning: The data contains 'boundary' events, indicating data discontinuities. Be cautious of filtering and epoching around these events.\n",
      "  eeg_dataset_raw = mne.io.read_raw_eeglab(eeg_lab_file_path, preload=True)\n"
     ]
    },
    {
     "data": {
      "application/vnd.jupyter.widget-view+json": {
       "model_id": "68fbb3f760ab44088e0a34a9396e4fa7",
       "version_major": 2,
       "version_minor": 0
      },
      "text/plain": [
       "Running group fits.:   0%|          | 0/63 [00:00<?, ?it/s]"
      ]
     },
     "metadata": {},
     "output_type": "display_data"
    },
    {
     "name": "stdout",
     "output_type": "stream",
     "text": [
      "\n",
      "----------------------------------------------\n",
      "Collating Study Features\n",
      "\n",
      "-----------------------------------------------------------------------------------------------\n",
      "Processing subject: sub-041\n",
      "\n",
      "----------------------------------------------\n",
      "Getting EEG raw data\n",
      "\n",
      "----------------------------------------------\n",
      "Preprocessing EEG\n",
      "TO DO - Preprocess of raw EEG\n",
      "\n",
      "----------------------------------------------\n",
      "Getting power spectra\n",
      "\n",
      "----------------------------------------------\n",
      "Completing Spectral Parameterisation\n"
     ]
    },
    {
     "name": "stderr",
     "output_type": "stream",
     "text": [
      "/var/folders/wd/rhzj_w8570g_y66t6j6mh4zw0000gn/T/ipykernel_51414/345241518.py:36: RuntimeWarning: The data contains 'boundary' events, indicating data discontinuities. Be cautious of filtering and epoching around these events.\n",
      "  eeg_dataset_raw = mne.io.read_raw_eeglab(eeg_lab_file_path, preload=True)\n"
     ]
    },
    {
     "data": {
      "application/vnd.jupyter.widget-view+json": {
       "model_id": "8cc8f7ef2d03427e85ea0d4ff328f784",
       "version_major": 2,
       "version_minor": 0
      },
      "text/plain": [
       "Running group fits.:   0%|          | 0/63 [00:00<?, ?it/s]"
      ]
     },
     "metadata": {},
     "output_type": "display_data"
    },
    {
     "name": "stdout",
     "output_type": "stream",
     "text": [
      "\n",
      "----------------------------------------------\n",
      "Collating Study Features\n",
      "\n",
      "-----------------------------------------------------------------------------------------------\n",
      "Processing subject: sub-042\n",
      "\n",
      "----------------------------------------------\n",
      "Getting EEG raw data\n",
      "\n",
      "----------------------------------------------\n",
      "Preprocessing EEG\n",
      "TO DO - Preprocess of raw EEG\n",
      "\n",
      "----------------------------------------------\n",
      "Getting power spectra\n",
      "\n",
      "----------------------------------------------\n",
      "Completing Spectral Parameterisation\n"
     ]
    },
    {
     "name": "stderr",
     "output_type": "stream",
     "text": [
      "/var/folders/wd/rhzj_w8570g_y66t6j6mh4zw0000gn/T/ipykernel_51414/345241518.py:36: RuntimeWarning: The data contains 'boundary' events, indicating data discontinuities. Be cautious of filtering and epoching around these events.\n",
      "  eeg_dataset_raw = mne.io.read_raw_eeglab(eeg_lab_file_path, preload=True)\n"
     ]
    },
    {
     "data": {
      "application/vnd.jupyter.widget-view+json": {
       "model_id": "41d3634450cc4053b60fe7886680ddaf",
       "version_major": 2,
       "version_minor": 0
      },
      "text/plain": [
       "Running group fits.:   0%|          | 0/63 [00:00<?, ?it/s]"
      ]
     },
     "metadata": {},
     "output_type": "display_data"
    },
    {
     "name": "stdout",
     "output_type": "stream",
     "text": [
      "\n",
      "----------------------------------------------\n",
      "Collating Study Features\n",
      "\n",
      "-----------------------------------------------------------------------------------------------\n",
      "Processing subject: sub-043\n",
      "\n",
      "----------------------------------------------\n",
      "Getting EEG raw data\n",
      "\n",
      "----------------------------------------------\n",
      "Preprocessing EEG\n",
      "TO DO - Preprocess of raw EEG\n",
      "\n",
      "----------------------------------------------\n",
      "Getting power spectra\n",
      "\n",
      "----------------------------------------------\n",
      "Completing Spectral Parameterisation\n"
     ]
    },
    {
     "name": "stderr",
     "output_type": "stream",
     "text": [
      "/var/folders/wd/rhzj_w8570g_y66t6j6mh4zw0000gn/T/ipykernel_51414/345241518.py:36: RuntimeWarning: The data contains 'boundary' events, indicating data discontinuities. Be cautious of filtering and epoching around these events.\n",
      "  eeg_dataset_raw = mne.io.read_raw_eeglab(eeg_lab_file_path, preload=True)\n"
     ]
    },
    {
     "data": {
      "application/vnd.jupyter.widget-view+json": {
       "model_id": "6bd4191c80f8410aa21fdc36bcd54a0f",
       "version_major": 2,
       "version_minor": 0
      },
      "text/plain": [
       "Running group fits.:   0%|          | 0/63 [00:00<?, ?it/s]"
      ]
     },
     "metadata": {},
     "output_type": "display_data"
    },
    {
     "name": "stdout",
     "output_type": "stream",
     "text": [
      "\n",
      "----------------------------------------------\n",
      "Collating Study Features\n",
      "\n",
      "-----------------------------------------------------------------------------------------------\n",
      "Processing subject: sub-044\n",
      "\n",
      "----------------------------------------------\n",
      "Getting EEG raw data\n",
      "\n",
      "----------------------------------------------\n",
      "Preprocessing EEG\n",
      "TO DO - Preprocess of raw EEG\n",
      "\n",
      "----------------------------------------------\n",
      "Getting power spectra\n",
      "\n",
      "----------------------------------------------\n",
      "Completing Spectral Parameterisation\n"
     ]
    },
    {
     "name": "stderr",
     "output_type": "stream",
     "text": [
      "/var/folders/wd/rhzj_w8570g_y66t6j6mh4zw0000gn/T/ipykernel_51414/345241518.py:36: RuntimeWarning: The data contains 'boundary' events, indicating data discontinuities. Be cautious of filtering and epoching around these events.\n",
      "  eeg_dataset_raw = mne.io.read_raw_eeglab(eeg_lab_file_path, preload=True)\n"
     ]
    },
    {
     "data": {
      "application/vnd.jupyter.widget-view+json": {
       "model_id": "cb25d25082cc4782b09e6cbc95e54dd9",
       "version_major": 2,
       "version_minor": 0
      },
      "text/plain": [
       "Running group fits.:   0%|          | 0/63 [00:00<?, ?it/s]"
      ]
     },
     "metadata": {},
     "output_type": "display_data"
    },
    {
     "name": "stdout",
     "output_type": "stream",
     "text": [
      "\n",
      "----------------------------------------------\n",
      "Collating Study Features\n",
      "\n",
      "-----------------------------------------------------------------------------------------------\n",
      "Processing subject: sub-045\n",
      "\n",
      "----------------------------------------------\n",
      "Getting EEG raw data\n",
      "\n",
      "----------------------------------------------\n",
      "Preprocessing EEG\n",
      "TO DO - Preprocess of raw EEG\n",
      "\n",
      "----------------------------------------------\n",
      "Getting power spectra\n",
      "\n",
      "----------------------------------------------\n",
      "Completing Spectral Parameterisation\n"
     ]
    },
    {
     "name": "stderr",
     "output_type": "stream",
     "text": [
      "/var/folders/wd/rhzj_w8570g_y66t6j6mh4zw0000gn/T/ipykernel_51414/345241518.py:36: RuntimeWarning: The data contains 'boundary' events, indicating data discontinuities. Be cautious of filtering and epoching around these events.\n",
      "  eeg_dataset_raw = mne.io.read_raw_eeglab(eeg_lab_file_path, preload=True)\n"
     ]
    },
    {
     "data": {
      "application/vnd.jupyter.widget-view+json": {
       "model_id": "3b8067ea10af4bdfaf176fa19e624d8b",
       "version_major": 2,
       "version_minor": 0
      },
      "text/plain": [
       "Running group fits.:   0%|          | 0/63 [00:00<?, ?it/s]"
      ]
     },
     "metadata": {},
     "output_type": "display_data"
    },
    {
     "name": "stdout",
     "output_type": "stream",
     "text": [
      "\n",
      "----------------------------------------------\n",
      "Collating Study Features\n",
      "\n",
      "-----------------------------------------------------------------------------------------------\n",
      "Processing subject: sub-046\n",
      "\n",
      "----------------------------------------------\n",
      "Getting EEG raw data\n",
      "\n",
      "----------------------------------------------\n",
      "Preprocessing EEG\n",
      "TO DO - Preprocess of raw EEG\n",
      "\n",
      "----------------------------------------------\n",
      "Getting power spectra\n",
      "\n",
      "----------------------------------------------\n",
      "Completing Spectral Parameterisation\n"
     ]
    },
    {
     "name": "stderr",
     "output_type": "stream",
     "text": [
      "/var/folders/wd/rhzj_w8570g_y66t6j6mh4zw0000gn/T/ipykernel_51414/345241518.py:36: RuntimeWarning: The data contains 'boundary' events, indicating data discontinuities. Be cautious of filtering and epoching around these events.\n",
      "  eeg_dataset_raw = mne.io.read_raw_eeglab(eeg_lab_file_path, preload=True)\n"
     ]
    },
    {
     "data": {
      "application/vnd.jupyter.widget-view+json": {
       "model_id": "8af7c318d65a4bc38365d2cb019869ec",
       "version_major": 2,
       "version_minor": 0
      },
      "text/plain": [
       "Running group fits.:   0%|          | 0/63 [00:00<?, ?it/s]"
      ]
     },
     "metadata": {},
     "output_type": "display_data"
    },
    {
     "name": "stdout",
     "output_type": "stream",
     "text": [
      "\n",
      "----------------------------------------------\n",
      "Collating Study Features\n",
      "\n",
      "-----------------------------------------------------------------------------------------------\n",
      "Processing subject: sub-047\n",
      "\n",
      "----------------------------------------------\n",
      "Getting EEG raw data\n",
      "\n",
      "----------------------------------------------\n",
      "Preprocessing EEG\n",
      "TO DO - Preprocess of raw EEG\n",
      "\n",
      "----------------------------------------------\n",
      "Getting power spectra\n",
      "\n",
      "----------------------------------------------\n",
      "Completing Spectral Parameterisation\n"
     ]
    },
    {
     "name": "stderr",
     "output_type": "stream",
     "text": [
      "/var/folders/wd/rhzj_w8570g_y66t6j6mh4zw0000gn/T/ipykernel_51414/345241518.py:36: RuntimeWarning: The data contains 'boundary' events, indicating data discontinuities. Be cautious of filtering and epoching around these events.\n",
      "  eeg_dataset_raw = mne.io.read_raw_eeglab(eeg_lab_file_path, preload=True)\n"
     ]
    },
    {
     "data": {
      "application/vnd.jupyter.widget-view+json": {
       "model_id": "161d76f5d3664fc2981c603ec1ef5463",
       "version_major": 2,
       "version_minor": 0
      },
      "text/plain": [
       "Running group fits.:   0%|          | 0/63 [00:00<?, ?it/s]"
      ]
     },
     "metadata": {},
     "output_type": "display_data"
    },
    {
     "name": "stdout",
     "output_type": "stream",
     "text": [
      "\n",
      "----------------------------------------------\n",
      "Collating Study Features\n",
      "\n",
      "-----------------------------------------------------------------------------------------------\n",
      "Processing subject: sub-048\n",
      "\n",
      "----------------------------------------------\n",
      "Getting EEG raw data\n",
      "\n",
      "----------------------------------------------\n",
      "Preprocessing EEG\n",
      "TO DO - Preprocess of raw EEG\n",
      "\n",
      "----------------------------------------------\n",
      "Getting power spectra\n",
      "\n",
      "----------------------------------------------\n",
      "Completing Spectral Parameterisation\n"
     ]
    },
    {
     "name": "stderr",
     "output_type": "stream",
     "text": [
      "/var/folders/wd/rhzj_w8570g_y66t6j6mh4zw0000gn/T/ipykernel_51414/345241518.py:36: RuntimeWarning: The data contains 'boundary' events, indicating data discontinuities. Be cautious of filtering and epoching around these events.\n",
      "  eeg_dataset_raw = mne.io.read_raw_eeglab(eeg_lab_file_path, preload=True)\n"
     ]
    },
    {
     "data": {
      "application/vnd.jupyter.widget-view+json": {
       "model_id": "5ede58fee80f4217888242484343c62d",
       "version_major": 2,
       "version_minor": 0
      },
      "text/plain": [
       "Running group fits.:   0%|          | 0/63 [00:00<?, ?it/s]"
      ]
     },
     "metadata": {},
     "output_type": "display_data"
    },
    {
     "name": "stdout",
     "output_type": "stream",
     "text": [
      "\n",
      "----------------------------------------------\n",
      "Collating Study Features\n",
      "\n",
      "-----------------------------------------------------------------------------------------------\n",
      "Processing subject: sub-049\n",
      "\n",
      "----------------------------------------------\n",
      "Getting EEG raw data\n",
      "\n",
      "----------------------------------------------\n",
      "Preprocessing EEG\n",
      "TO DO - Preprocess of raw EEG\n",
      "\n",
      "----------------------------------------------\n",
      "Getting power spectra\n",
      "\n",
      "----------------------------------------------\n",
      "Completing Spectral Parameterisation\n"
     ]
    },
    {
     "name": "stderr",
     "output_type": "stream",
     "text": [
      "/var/folders/wd/rhzj_w8570g_y66t6j6mh4zw0000gn/T/ipykernel_51414/345241518.py:36: RuntimeWarning: The data contains 'boundary' events, indicating data discontinuities. Be cautious of filtering and epoching around these events.\n",
      "  eeg_dataset_raw = mne.io.read_raw_eeglab(eeg_lab_file_path, preload=True)\n"
     ]
    },
    {
     "data": {
      "application/vnd.jupyter.widget-view+json": {
       "model_id": "a50aa02c22824e3593f0c96016c7b495",
       "version_major": 2,
       "version_minor": 0
      },
      "text/plain": [
       "Running group fits.:   0%|          | 0/64 [00:00<?, ?it/s]"
      ]
     },
     "metadata": {},
     "output_type": "display_data"
    },
    {
     "name": "stdout",
     "output_type": "stream",
     "text": [
      "\n",
      "----------------------------------------------\n",
      "Collating Study Features\n",
      "\n",
      "-----------------------------------------------------------------------------------------------\n",
      "Processing subject: sub-050\n",
      "\n",
      "----------------------------------------------\n",
      "Getting EEG raw data\n",
      "\n",
      "----------------------------------------------\n",
      "Preprocessing EEG\n",
      "TO DO - Preprocess of raw EEG\n",
      "\n",
      "----------------------------------------------\n",
      "Getting power spectra\n",
      "\n",
      "----------------------------------------------\n",
      "Completing Spectral Parameterisation\n"
     ]
    },
    {
     "name": "stderr",
     "output_type": "stream",
     "text": [
      "/var/folders/wd/rhzj_w8570g_y66t6j6mh4zw0000gn/T/ipykernel_51414/345241518.py:36: RuntimeWarning: The data contains 'boundary' events, indicating data discontinuities. Be cautious of filtering and epoching around these events.\n",
      "  eeg_dataset_raw = mne.io.read_raw_eeglab(eeg_lab_file_path, preload=True)\n"
     ]
    },
    {
     "data": {
      "application/vnd.jupyter.widget-view+json": {
       "model_id": "4a76c6574743405b8a87366ce9e24409",
       "version_major": 2,
       "version_minor": 0
      },
      "text/plain": [
       "Running group fits.:   0%|          | 0/64 [00:00<?, ?it/s]"
      ]
     },
     "metadata": {},
     "output_type": "display_data"
    },
    {
     "name": "stdout",
     "output_type": "stream",
     "text": [
      "\n",
      "----------------------------------------------\n",
      "Collating Study Features\n",
      "\n",
      "-----------------------------------------------------------------------------------------------\n",
      "Processing subject: sub-051\n",
      "\n",
      "----------------------------------------------\n",
      "Getting EEG raw data\n",
      "\n",
      "----------------------------------------------\n",
      "Preprocessing EEG\n",
      "TO DO - Preprocess of raw EEG\n",
      "\n",
      "----------------------------------------------\n",
      "Getting power spectra\n",
      "\n",
      "----------------------------------------------\n",
      "Completing Spectral Parameterisation\n"
     ]
    },
    {
     "name": "stderr",
     "output_type": "stream",
     "text": [
      "/var/folders/wd/rhzj_w8570g_y66t6j6mh4zw0000gn/T/ipykernel_51414/345241518.py:36: RuntimeWarning: The data contains 'boundary' events, indicating data discontinuities. Be cautious of filtering and epoching around these events.\n",
      "  eeg_dataset_raw = mne.io.read_raw_eeglab(eeg_lab_file_path, preload=True)\n"
     ]
    },
    {
     "data": {
      "application/vnd.jupyter.widget-view+json": {
       "model_id": "90dcff4b128a4b6fa5eff83b391fa8ff",
       "version_major": 2,
       "version_minor": 0
      },
      "text/plain": [
       "Running group fits.:   0%|          | 0/63 [00:00<?, ?it/s]"
      ]
     },
     "metadata": {},
     "output_type": "display_data"
    },
    {
     "name": "stdout",
     "output_type": "stream",
     "text": [
      "\n",
      "----------------------------------------------\n",
      "Collating Study Features\n",
      "\n",
      "-----------------------------------------------------------------------------------------------\n",
      "Processing subject: sub-052\n",
      "\n",
      "----------------------------------------------\n",
      "Getting EEG raw data\n",
      "\n",
      "----------------------------------------------\n",
      "Preprocessing EEG\n",
      "TO DO - Preprocess of raw EEG\n",
      "\n",
      "----------------------------------------------\n",
      "Getting power spectra\n",
      "\n",
      "----------------------------------------------\n",
      "Completing Spectral Parameterisation\n"
     ]
    },
    {
     "name": "stderr",
     "output_type": "stream",
     "text": [
      "/var/folders/wd/rhzj_w8570g_y66t6j6mh4zw0000gn/T/ipykernel_51414/345241518.py:36: RuntimeWarning: The data contains 'boundary' events, indicating data discontinuities. Be cautious of filtering and epoching around these events.\n",
      "  eeg_dataset_raw = mne.io.read_raw_eeglab(eeg_lab_file_path, preload=True)\n"
     ]
    },
    {
     "data": {
      "application/vnd.jupyter.widget-view+json": {
       "model_id": "9d4e446918f6407c8d69fb721d06d9f6",
       "version_major": 2,
       "version_minor": 0
      },
      "text/plain": [
       "Running group fits.:   0%|          | 0/63 [00:00<?, ?it/s]"
      ]
     },
     "metadata": {},
     "output_type": "display_data"
    },
    {
     "name": "stdout",
     "output_type": "stream",
     "text": [
      "\n",
      "----------------------------------------------\n",
      "Collating Study Features\n",
      "\n",
      "-----------------------------------------------------------------------------------------------\n",
      "Processing subject: sub-053\n",
      "\n",
      "----------------------------------------------\n",
      "Getting EEG raw data\n",
      "\n",
      "----------------------------------------------\n",
      "Preprocessing EEG\n",
      "TO DO - Preprocess of raw EEG\n",
      "\n",
      "----------------------------------------------\n",
      "Getting power spectra\n",
      "\n",
      "----------------------------------------------\n",
      "Completing Spectral Parameterisation\n"
     ]
    },
    {
     "name": "stderr",
     "output_type": "stream",
     "text": [
      "/var/folders/wd/rhzj_w8570g_y66t6j6mh4zw0000gn/T/ipykernel_51414/345241518.py:36: RuntimeWarning: The data contains 'boundary' events, indicating data discontinuities. Be cautious of filtering and epoching around these events.\n",
      "  eeg_dataset_raw = mne.io.read_raw_eeglab(eeg_lab_file_path, preload=True)\n"
     ]
    },
    {
     "data": {
      "application/vnd.jupyter.widget-view+json": {
       "model_id": "3444253c76c740c18c1daddf42247123",
       "version_major": 2,
       "version_minor": 0
      },
      "text/plain": [
       "Running group fits.:   0%|          | 0/63 [00:00<?, ?it/s]"
      ]
     },
     "metadata": {},
     "output_type": "display_data"
    },
    {
     "name": "stdout",
     "output_type": "stream",
     "text": [
      "\n",
      "----------------------------------------------\n",
      "Collating Study Features\n",
      "\n",
      "-----------------------------------------------------------------------------------------------\n",
      "Processing subject: sub-054\n",
      "\n",
      "----------------------------------------------\n",
      "Getting EEG raw data\n",
      "\n",
      "----------------------------------------------\n",
      "Preprocessing EEG\n",
      "TO DO - Preprocess of raw EEG\n",
      "\n",
      "----------------------------------------------\n",
      "Getting power spectra\n",
      "\n",
      "----------------------------------------------\n",
      "Completing Spectral Parameterisation\n"
     ]
    },
    {
     "name": "stderr",
     "output_type": "stream",
     "text": [
      "/var/folders/wd/rhzj_w8570g_y66t6j6mh4zw0000gn/T/ipykernel_51414/345241518.py:36: RuntimeWarning: The data contains 'boundary' events, indicating data discontinuities. Be cautious of filtering and epoching around these events.\n",
      "  eeg_dataset_raw = mne.io.read_raw_eeglab(eeg_lab_file_path, preload=True)\n"
     ]
    },
    {
     "data": {
      "application/vnd.jupyter.widget-view+json": {
       "model_id": "cb1942088049424bb504aa0748304696",
       "version_major": 2,
       "version_minor": 0
      },
      "text/plain": [
       "Running group fits.:   0%|          | 0/63 [00:00<?, ?it/s]"
      ]
     },
     "metadata": {},
     "output_type": "display_data"
    },
    {
     "name": "stdout",
     "output_type": "stream",
     "text": [
      "\n",
      "----------------------------------------------\n",
      "Collating Study Features\n",
      "\n",
      "-----------------------------------------------------------------------------------------------\n",
      "Processing subject: sub-055\n",
      "\n",
      "----------------------------------------------\n",
      "Getting EEG raw data\n",
      "\n",
      "----------------------------------------------\n",
      "Preprocessing EEG\n",
      "TO DO - Preprocess of raw EEG\n",
      "\n",
      "----------------------------------------------\n",
      "Getting power spectra\n",
      "\n",
      "----------------------------------------------\n",
      "Completing Spectral Parameterisation\n"
     ]
    },
    {
     "name": "stderr",
     "output_type": "stream",
     "text": [
      "/var/folders/wd/rhzj_w8570g_y66t6j6mh4zw0000gn/T/ipykernel_51414/345241518.py:36: RuntimeWarning: The data contains 'boundary' events, indicating data discontinuities. Be cautious of filtering and epoching around these events.\n",
      "  eeg_dataset_raw = mne.io.read_raw_eeglab(eeg_lab_file_path, preload=True)\n"
     ]
    },
    {
     "data": {
      "application/vnd.jupyter.widget-view+json": {
       "model_id": "c4407044919c4a219f76b6bb41384c7f",
       "version_major": 2,
       "version_minor": 0
      },
      "text/plain": [
       "Running group fits.:   0%|          | 0/63 [00:00<?, ?it/s]"
      ]
     },
     "metadata": {},
     "output_type": "display_data"
    },
    {
     "name": "stdout",
     "output_type": "stream",
     "text": [
      "\n",
      "----------------------------------------------\n",
      "Collating Study Features\n",
      "\n",
      "-----------------------------------------------------------------------------------------------\n",
      "Processing subject: sub-056\n",
      "\n",
      "----------------------------------------------\n",
      "Getting EEG raw data\n",
      "\n",
      "----------------------------------------------\n",
      "Preprocessing EEG\n",
      "TO DO - Preprocess of raw EEG\n",
      "\n",
      "----------------------------------------------\n",
      "Getting power spectra\n",
      "\n",
      "----------------------------------------------\n",
      "Completing Spectral Parameterisation\n"
     ]
    },
    {
     "name": "stderr",
     "output_type": "stream",
     "text": [
      "/var/folders/wd/rhzj_w8570g_y66t6j6mh4zw0000gn/T/ipykernel_51414/345241518.py:36: RuntimeWarning: The data contains 'boundary' events, indicating data discontinuities. Be cautious of filtering and epoching around these events.\n",
      "  eeg_dataset_raw = mne.io.read_raw_eeglab(eeg_lab_file_path, preload=True)\n"
     ]
    },
    {
     "data": {
      "application/vnd.jupyter.widget-view+json": {
       "model_id": "963171a5562a4e91bb64d2cf47cd8ed7",
       "version_major": 2,
       "version_minor": 0
      },
      "text/plain": [
       "Running group fits.:   0%|          | 0/63 [00:00<?, ?it/s]"
      ]
     },
     "metadata": {},
     "output_type": "display_data"
    },
    {
     "name": "stdout",
     "output_type": "stream",
     "text": [
      "\n",
      "----------------------------------------------\n",
      "Collating Study Features\n",
      "\n",
      "-----------------------------------------------------------------------------------------------\n",
      "Processing subject: sub-057\n",
      "\n",
      "----------------------------------------------\n",
      "Getting EEG raw data\n",
      "\n",
      "----------------------------------------------\n",
      "Preprocessing EEG\n",
      "TO DO - Preprocess of raw EEG\n",
      "\n",
      "----------------------------------------------\n",
      "Getting power spectra\n",
      "\n",
      "----------------------------------------------\n",
      "Completing Spectral Parameterisation\n"
     ]
    },
    {
     "name": "stderr",
     "output_type": "stream",
     "text": [
      "/var/folders/wd/rhzj_w8570g_y66t6j6mh4zw0000gn/T/ipykernel_51414/345241518.py:36: RuntimeWarning: The data contains 'boundary' events, indicating data discontinuities. Be cautious of filtering and epoching around these events.\n",
      "  eeg_dataset_raw = mne.io.read_raw_eeglab(eeg_lab_file_path, preload=True)\n"
     ]
    },
    {
     "data": {
      "application/vnd.jupyter.widget-view+json": {
       "model_id": "9e122633da4747d88efd3b07bca749be",
       "version_major": 2,
       "version_minor": 0
      },
      "text/plain": [
       "Running group fits.:   0%|          | 0/63 [00:00<?, ?it/s]"
      ]
     },
     "metadata": {},
     "output_type": "display_data"
    },
    {
     "name": "stdout",
     "output_type": "stream",
     "text": [
      "\n",
      "----------------------------------------------\n",
      "Collating Study Features\n",
      "\n",
      "-----------------------------------------------------------------------------------------------\n",
      "Processing subject: sub-058\n",
      "\n",
      "----------------------------------------------\n",
      "Getting EEG raw data\n",
      "\n",
      "----------------------------------------------\n",
      "Preprocessing EEG\n",
      "TO DO - Preprocess of raw EEG\n",
      "\n",
      "----------------------------------------------\n",
      "Getting power spectra\n",
      "\n",
      "----------------------------------------------\n",
      "Completing Spectral Parameterisation\n"
     ]
    },
    {
     "name": "stderr",
     "output_type": "stream",
     "text": [
      "/var/folders/wd/rhzj_w8570g_y66t6j6mh4zw0000gn/T/ipykernel_51414/345241518.py:36: RuntimeWarning: The data contains 'boundary' events, indicating data discontinuities. Be cautious of filtering and epoching around these events.\n",
      "  eeg_dataset_raw = mne.io.read_raw_eeglab(eeg_lab_file_path, preload=True)\n"
     ]
    },
    {
     "data": {
      "application/vnd.jupyter.widget-view+json": {
       "model_id": "305c732b138d445fbecd48fa01103fae",
       "version_major": 2,
       "version_minor": 0
      },
      "text/plain": [
       "Running group fits.:   0%|          | 0/63 [00:00<?, ?it/s]"
      ]
     },
     "metadata": {},
     "output_type": "display_data"
    },
    {
     "name": "stdout",
     "output_type": "stream",
     "text": [
      "\n",
      "----------------------------------------------\n",
      "Collating Study Features\n",
      "\n",
      "-----------------------------------------------------------------------------------------------\n",
      "Processing subject: sub-059\n",
      "\n",
      "----------------------------------------------\n",
      "Getting EEG raw data\n",
      "\n",
      "----------------------------------------------\n",
      "Preprocessing EEG\n",
      "TO DO - Preprocess of raw EEG\n",
      "\n",
      "----------------------------------------------\n",
      "Getting power spectra\n",
      "\n",
      "----------------------------------------------\n",
      "Completing Spectral Parameterisation\n"
     ]
    },
    {
     "name": "stderr",
     "output_type": "stream",
     "text": [
      "/var/folders/wd/rhzj_w8570g_y66t6j6mh4zw0000gn/T/ipykernel_51414/345241518.py:36: RuntimeWarning: The data contains 'boundary' events, indicating data discontinuities. Be cautious of filtering and epoching around these events.\n",
      "  eeg_dataset_raw = mne.io.read_raw_eeglab(eeg_lab_file_path, preload=True)\n"
     ]
    },
    {
     "data": {
      "application/vnd.jupyter.widget-view+json": {
       "model_id": "efedf2d31bde4a45a7d54111c9334337",
       "version_major": 2,
       "version_minor": 0
      },
      "text/plain": [
       "Running group fits.:   0%|          | 0/63 [00:00<?, ?it/s]"
      ]
     },
     "metadata": {},
     "output_type": "display_data"
    },
    {
     "name": "stdout",
     "output_type": "stream",
     "text": [
      "\n",
      "----------------------------------------------\n",
      "Collating Study Features\n",
      "\n",
      "-----------------------------------------------------------------------------------------------\n",
      "Processing subject: sub-060\n",
      "\n",
      "----------------------------------------------\n",
      "Getting EEG raw data\n",
      "\n",
      "----------------------------------------------\n",
      "Preprocessing EEG\n",
      "TO DO - Preprocess of raw EEG\n",
      "\n",
      "----------------------------------------------\n",
      "Getting power spectra\n",
      "\n",
      "----------------------------------------------\n",
      "Completing Spectral Parameterisation\n"
     ]
    },
    {
     "name": "stderr",
     "output_type": "stream",
     "text": [
      "/var/folders/wd/rhzj_w8570g_y66t6j6mh4zw0000gn/T/ipykernel_51414/345241518.py:36: RuntimeWarning: The data contains 'boundary' events, indicating data discontinuities. Be cautious of filtering and epoching around these events.\n",
      "  eeg_dataset_raw = mne.io.read_raw_eeglab(eeg_lab_file_path, preload=True)\n"
     ]
    },
    {
     "data": {
      "application/vnd.jupyter.widget-view+json": {
       "model_id": "986d349fbb284ab4947a17047eec990e",
       "version_major": 2,
       "version_minor": 0
      },
      "text/plain": [
       "Running group fits.:   0%|          | 0/63 [00:00<?, ?it/s]"
      ]
     },
     "metadata": {},
     "output_type": "display_data"
    },
    {
     "name": "stdout",
     "output_type": "stream",
     "text": [
      "\n",
      "----------------------------------------------\n",
      "Collating Study Features\n",
      "\n",
      "-----------------------------------------------------------------------------------------------\n",
      "Processing subject: sub-061\n",
      "\n",
      "----------------------------------------------\n",
      "Getting EEG raw data\n",
      "\n",
      "----------------------------------------------\n",
      "Preprocessing EEG\n",
      "TO DO - Preprocess of raw EEG\n",
      "\n",
      "----------------------------------------------\n",
      "Getting power spectra\n",
      "\n",
      "----------------------------------------------\n",
      "Completing Spectral Parameterisation\n"
     ]
    },
    {
     "name": "stderr",
     "output_type": "stream",
     "text": [
      "/var/folders/wd/rhzj_w8570g_y66t6j6mh4zw0000gn/T/ipykernel_51414/345241518.py:36: RuntimeWarning: The data contains 'boundary' events, indicating data discontinuities. Be cautious of filtering and epoching around these events.\n",
      "  eeg_dataset_raw = mne.io.read_raw_eeglab(eeg_lab_file_path, preload=True)\n"
     ]
    },
    {
     "data": {
      "application/vnd.jupyter.widget-view+json": {
       "model_id": "877ccfb2410d42d3944d7be265228e28",
       "version_major": 2,
       "version_minor": 0
      },
      "text/plain": [
       "Running group fits.:   0%|          | 0/63 [00:00<?, ?it/s]"
      ]
     },
     "metadata": {},
     "output_type": "display_data"
    },
    {
     "name": "stdout",
     "output_type": "stream",
     "text": [
      "\n",
      "----------------------------------------------\n",
      "Collating Study Features\n",
      "\n",
      "-----------------------------------------------------------------------------------------------\n",
      "Processing subject: sub-062\n",
      "\n",
      "----------------------------------------------\n",
      "Getting EEG raw data\n",
      "\n",
      "----------------------------------------------\n",
      "Preprocessing EEG\n",
      "TO DO - Preprocess of raw EEG\n",
      "\n",
      "----------------------------------------------\n",
      "Getting power spectra\n",
      "\n",
      "----------------------------------------------\n",
      "Completing Spectral Parameterisation\n"
     ]
    },
    {
     "name": "stderr",
     "output_type": "stream",
     "text": [
      "/var/folders/wd/rhzj_w8570g_y66t6j6mh4zw0000gn/T/ipykernel_51414/345241518.py:36: RuntimeWarning: The data contains 'boundary' events, indicating data discontinuities. Be cautious of filtering and epoching around these events.\n",
      "  eeg_dataset_raw = mne.io.read_raw_eeglab(eeg_lab_file_path, preload=True)\n"
     ]
    },
    {
     "data": {
      "application/vnd.jupyter.widget-view+json": {
       "model_id": "0a804aa91c3d43ed95955acb7dfe0d5b",
       "version_major": 2,
       "version_minor": 0
      },
      "text/plain": [
       "Running group fits.:   0%|          | 0/63 [00:00<?, ?it/s]"
      ]
     },
     "metadata": {},
     "output_type": "display_data"
    },
    {
     "name": "stdout",
     "output_type": "stream",
     "text": [
      "\n",
      "----------------------------------------------\n",
      "Collating Study Features\n",
      "\n",
      "-----------------------------------------------------------------------------------------------\n",
      "Processing subject: sub-063\n",
      "\n",
      "----------------------------------------------\n",
      "Getting EEG raw data\n",
      "\n",
      "----------------------------------------------\n",
      "Preprocessing EEG\n",
      "TO DO - Preprocess of raw EEG\n",
      "\n",
      "----------------------------------------------\n",
      "Getting power spectra\n",
      "\n",
      "----------------------------------------------\n",
      "Completing Spectral Parameterisation\n"
     ]
    },
    {
     "name": "stderr",
     "output_type": "stream",
     "text": [
      "/var/folders/wd/rhzj_w8570g_y66t6j6mh4zw0000gn/T/ipykernel_51414/345241518.py:36: RuntimeWarning: The data contains 'boundary' events, indicating data discontinuities. Be cautious of filtering and epoching around these events.\n",
      "  eeg_dataset_raw = mne.io.read_raw_eeglab(eeg_lab_file_path, preload=True)\n"
     ]
    },
    {
     "data": {
      "application/vnd.jupyter.widget-view+json": {
       "model_id": "6f29f8ccd32e43b29b2e688ba95aae11",
       "version_major": 2,
       "version_minor": 0
      },
      "text/plain": [
       "Running group fits.:   0%|          | 0/63 [00:00<?, ?it/s]"
      ]
     },
     "metadata": {},
     "output_type": "display_data"
    },
    {
     "name": "stdout",
     "output_type": "stream",
     "text": [
      "\n",
      "----------------------------------------------\n",
      "Collating Study Features\n",
      "\n",
      "-----------------------------------------------------------------------------------------------\n",
      "Processing subject: sub-064\n",
      "\n",
      "----------------------------------------------\n",
      "Getting EEG raw data\n",
      "\n",
      "----------------------------------------------\n",
      "Preprocessing EEG\n",
      "TO DO - Preprocess of raw EEG\n",
      "\n",
      "----------------------------------------------\n",
      "Getting power spectra\n",
      "\n",
      "----------------------------------------------\n",
      "Completing Spectral Parameterisation\n"
     ]
    },
    {
     "name": "stderr",
     "output_type": "stream",
     "text": [
      "/var/folders/wd/rhzj_w8570g_y66t6j6mh4zw0000gn/T/ipykernel_51414/345241518.py:36: RuntimeWarning: The data contains 'boundary' events, indicating data discontinuities. Be cautious of filtering and epoching around these events.\n",
      "  eeg_dataset_raw = mne.io.read_raw_eeglab(eeg_lab_file_path, preload=True)\n"
     ]
    },
    {
     "data": {
      "application/vnd.jupyter.widget-view+json": {
       "model_id": "26baa895a695402eb618b9795cf541e1",
       "version_major": 2,
       "version_minor": 0
      },
      "text/plain": [
       "Running group fits.:   0%|          | 0/63 [00:00<?, ?it/s]"
      ]
     },
     "metadata": {},
     "output_type": "display_data"
    },
    {
     "name": "stdout",
     "output_type": "stream",
     "text": [
      "\n",
      "----------------------------------------------\n",
      "Collating Study Features\n",
      "\n",
      "-----------------------------------------------------------------------------------------------\n",
      "Processing subject: sub-065\n",
      "\n",
      "----------------------------------------------\n",
      "Getting EEG raw data\n",
      "\n",
      "----------------------------------------------\n",
      "Preprocessing EEG\n",
      "TO DO - Preprocess of raw EEG\n",
      "\n",
      "----------------------------------------------\n",
      "Getting power spectra\n",
      "\n",
      "----------------------------------------------\n",
      "Completing Spectral Parameterisation\n"
     ]
    },
    {
     "name": "stderr",
     "output_type": "stream",
     "text": [
      "/var/folders/wd/rhzj_w8570g_y66t6j6mh4zw0000gn/T/ipykernel_51414/345241518.py:36: RuntimeWarning: The data contains 'boundary' events, indicating data discontinuities. Be cautious of filtering and epoching around these events.\n",
      "  eeg_dataset_raw = mne.io.read_raw_eeglab(eeg_lab_file_path, preload=True)\n"
     ]
    },
    {
     "data": {
      "application/vnd.jupyter.widget-view+json": {
       "model_id": "a467ce094c344b9e8f7f0bf334481a88",
       "version_major": 2,
       "version_minor": 0
      },
      "text/plain": [
       "Running group fits.:   0%|          | 0/64 [00:00<?, ?it/s]"
      ]
     },
     "metadata": {},
     "output_type": "display_data"
    },
    {
     "name": "stdout",
     "output_type": "stream",
     "text": [
      "\n",
      "----------------------------------------------\n",
      "Collating Study Features\n",
      "\n",
      "-----------------------------------------------------------------------------------------------\n",
      "Processing subject: sub-066\n",
      "\n",
      "----------------------------------------------\n",
      "Getting EEG raw data\n",
      "\n",
      "----------------------------------------------\n",
      "Preprocessing EEG\n",
      "TO DO - Preprocess of raw EEG\n",
      "\n",
      "----------------------------------------------\n",
      "Getting power spectra\n",
      "\n",
      "----------------------------------------------\n",
      "Completing Spectral Parameterisation\n"
     ]
    },
    {
     "name": "stderr",
     "output_type": "stream",
     "text": [
      "/var/folders/wd/rhzj_w8570g_y66t6j6mh4zw0000gn/T/ipykernel_51414/345241518.py:36: RuntimeWarning: The data contains 'boundary' events, indicating data discontinuities. Be cautious of filtering and epoching around these events.\n",
      "  eeg_dataset_raw = mne.io.read_raw_eeglab(eeg_lab_file_path, preload=True)\n"
     ]
    },
    {
     "data": {
      "application/vnd.jupyter.widget-view+json": {
       "model_id": "3217023b583346e8815215ba6282e9f5",
       "version_major": 2,
       "version_minor": 0
      },
      "text/plain": [
       "Running group fits.:   0%|          | 0/64 [00:00<?, ?it/s]"
      ]
     },
     "metadata": {},
     "output_type": "display_data"
    },
    {
     "name": "stdout",
     "output_type": "stream",
     "text": [
      "\n",
      "----------------------------------------------\n",
      "Collating Study Features\n",
      "\n",
      "-----------------------------------------------------------------------------------------------\n",
      "Processing subject: sub-067\n",
      "\n",
      "----------------------------------------------\n",
      "Getting EEG raw data\n",
      "\n",
      "----------------------------------------------\n",
      "Preprocessing EEG\n",
      "TO DO - Preprocess of raw EEG\n",
      "\n",
      "----------------------------------------------\n",
      "Getting power spectra\n",
      "\n",
      "----------------------------------------------\n",
      "Completing Spectral Parameterisation\n"
     ]
    },
    {
     "name": "stderr",
     "output_type": "stream",
     "text": [
      "/var/folders/wd/rhzj_w8570g_y66t6j6mh4zw0000gn/T/ipykernel_51414/345241518.py:36: RuntimeWarning: The data contains 'boundary' events, indicating data discontinuities. Be cautious of filtering and epoching around these events.\n",
      "  eeg_dataset_raw = mne.io.read_raw_eeglab(eeg_lab_file_path, preload=True)\n"
     ]
    },
    {
     "data": {
      "application/vnd.jupyter.widget-view+json": {
       "model_id": "b45a194d481340d18e1818259469f110",
       "version_major": 2,
       "version_minor": 0
      },
      "text/plain": [
       "Running group fits.:   0%|          | 0/63 [00:00<?, ?it/s]"
      ]
     },
     "metadata": {},
     "output_type": "display_data"
    },
    {
     "name": "stdout",
     "output_type": "stream",
     "text": [
      "\n",
      "----------------------------------------------\n",
      "Collating Study Features\n",
      "\n",
      "-----------------------------------------------------------------------------------------------\n",
      "Processing subject: sub-068\n",
      "\n",
      "----------------------------------------------\n",
      "Getting EEG raw data\n",
      "\n",
      "----------------------------------------------\n",
      "Preprocessing EEG\n",
      "TO DO - Preprocess of raw EEG\n",
      "\n",
      "----------------------------------------------\n",
      "Getting power spectra\n",
      "\n",
      "----------------------------------------------\n",
      "Completing Spectral Parameterisation\n"
     ]
    },
    {
     "name": "stderr",
     "output_type": "stream",
     "text": [
      "/var/folders/wd/rhzj_w8570g_y66t6j6mh4zw0000gn/T/ipykernel_51414/345241518.py:36: RuntimeWarning: The data contains 'boundary' events, indicating data discontinuities. Be cautious of filtering and epoching around these events.\n",
      "  eeg_dataset_raw = mne.io.read_raw_eeglab(eeg_lab_file_path, preload=True)\n"
     ]
    },
    {
     "data": {
      "application/vnd.jupyter.widget-view+json": {
       "model_id": "9f2887d250b3453882617b22a05aec4a",
       "version_major": 2,
       "version_minor": 0
      },
      "text/plain": [
       "Running group fits.:   0%|          | 0/66 [00:00<?, ?it/s]"
      ]
     },
     "metadata": {},
     "output_type": "display_data"
    },
    {
     "name": "stdout",
     "output_type": "stream",
     "text": [
      "\n",
      "----------------------------------------------\n",
      "Collating Study Features\n",
      "\n",
      "-----------------------------------------------------------------------------------------------\n",
      "Processing subject: sub-069\n",
      "\n",
      "----------------------------------------------\n",
      "Getting EEG raw data\n",
      "\n",
      "----------------------------------------------\n",
      "Preprocessing EEG\n",
      "TO DO - Preprocess of raw EEG\n",
      "\n",
      "----------------------------------------------\n",
      "Getting power spectra\n",
      "\n",
      "----------------------------------------------\n",
      "Completing Spectral Parameterisation\n"
     ]
    },
    {
     "name": "stderr",
     "output_type": "stream",
     "text": [
      "/var/folders/wd/rhzj_w8570g_y66t6j6mh4zw0000gn/T/ipykernel_51414/345241518.py:36: RuntimeWarning: The data contains 'boundary' events, indicating data discontinuities. Be cautious of filtering and epoching around these events.\n",
      "  eeg_dataset_raw = mne.io.read_raw_eeglab(eeg_lab_file_path, preload=True)\n"
     ]
    },
    {
     "data": {
      "application/vnd.jupyter.widget-view+json": {
       "model_id": "0fb8ad4352bf49acaac0615f1c55a5fb",
       "version_major": 2,
       "version_minor": 0
      },
      "text/plain": [
       "Running group fits.:   0%|          | 0/64 [00:00<?, ?it/s]"
      ]
     },
     "metadata": {},
     "output_type": "display_data"
    },
    {
     "name": "stdout",
     "output_type": "stream",
     "text": [
      "\n",
      "----------------------------------------------\n",
      "Collating Study Features\n",
      "\n",
      "-----------------------------------------------------------------------------------------------\n",
      "Processing subject: sub-070\n",
      "\n",
      "----------------------------------------------\n",
      "Getting EEG raw data\n",
      "\n",
      "----------------------------------------------\n",
      "Preprocessing EEG\n",
      "TO DO - Preprocess of raw EEG\n",
      "\n",
      "----------------------------------------------\n",
      "Getting power spectra\n",
      "\n",
      "----------------------------------------------\n",
      "Completing Spectral Parameterisation\n"
     ]
    },
    {
     "name": "stderr",
     "output_type": "stream",
     "text": [
      "/var/folders/wd/rhzj_w8570g_y66t6j6mh4zw0000gn/T/ipykernel_51414/345241518.py:36: RuntimeWarning: The data contains 'boundary' events, indicating data discontinuities. Be cautious of filtering and epoching around these events.\n",
      "  eeg_dataset_raw = mne.io.read_raw_eeglab(eeg_lab_file_path, preload=True)\n"
     ]
    },
    {
     "data": {
      "application/vnd.jupyter.widget-view+json": {
       "model_id": "fa9a79f0560c408381265e9a960bdf42",
       "version_major": 2,
       "version_minor": 0
      },
      "text/plain": [
       "Running group fits.:   0%|          | 0/63 [00:00<?, ?it/s]"
      ]
     },
     "metadata": {},
     "output_type": "display_data"
    },
    {
     "name": "stdout",
     "output_type": "stream",
     "text": [
      "\n",
      "----------------------------------------------\n",
      "Collating Study Features\n",
      "\n",
      "-----------------------------------------------------------------------------------------------\n",
      "Processing subject: sub-071\n",
      "\n",
      "----------------------------------------------\n",
      "Getting EEG raw data\n",
      "\n",
      "----------------------------------------------\n",
      "Preprocessing EEG\n",
      "TO DO - Preprocess of raw EEG\n",
      "\n",
      "----------------------------------------------\n",
      "Getting power spectra\n",
      "\n",
      "----------------------------------------------\n",
      "Completing Spectral Parameterisation\n"
     ]
    },
    {
     "name": "stderr",
     "output_type": "stream",
     "text": [
      "/var/folders/wd/rhzj_w8570g_y66t6j6mh4zw0000gn/T/ipykernel_51414/345241518.py:36: RuntimeWarning: The data contains 'boundary' events, indicating data discontinuities. Be cautious of filtering and epoching around these events.\n",
      "  eeg_dataset_raw = mne.io.read_raw_eeglab(eeg_lab_file_path, preload=True)\n"
     ]
    },
    {
     "data": {
      "application/vnd.jupyter.widget-view+json": {
       "model_id": "edc1855bd6dd44a9a042894c2f29b480",
       "version_major": 2,
       "version_minor": 0
      },
      "text/plain": [
       "Running group fits.:   0%|          | 0/63 [00:00<?, ?it/s]"
      ]
     },
     "metadata": {},
     "output_type": "display_data"
    },
    {
     "name": "stdout",
     "output_type": "stream",
     "text": [
      "\n",
      "----------------------------------------------\n",
      "Collating Study Features\n",
      "\n",
      "-----------------------------------------------------------------------------------------------\n",
      "Processing subject: sub-072\n",
      "\n",
      "----------------------------------------------\n",
      "Getting EEG raw data\n",
      "\n",
      "----------------------------------------------\n",
      "Preprocessing EEG\n",
      "TO DO - Preprocess of raw EEG\n",
      "\n",
      "----------------------------------------------\n",
      "Getting power spectra\n",
      "\n",
      "----------------------------------------------\n",
      "Completing Spectral Parameterisation\n"
     ]
    },
    {
     "name": "stderr",
     "output_type": "stream",
     "text": [
      "/var/folders/wd/rhzj_w8570g_y66t6j6mh4zw0000gn/T/ipykernel_51414/345241518.py:36: RuntimeWarning: The data contains 'boundary' events, indicating data discontinuities. Be cautious of filtering and epoching around these events.\n",
      "  eeg_dataset_raw = mne.io.read_raw_eeglab(eeg_lab_file_path, preload=True)\n"
     ]
    },
    {
     "data": {
      "application/vnd.jupyter.widget-view+json": {
       "model_id": "44dc29380c8446458e31f12b8bea6c03",
       "version_major": 2,
       "version_minor": 0
      },
      "text/plain": [
       "Running group fits.:   0%|          | 0/63 [00:00<?, ?it/s]"
      ]
     },
     "metadata": {},
     "output_type": "display_data"
    },
    {
     "name": "stdout",
     "output_type": "stream",
     "text": [
      "\n",
      "----------------------------------------------\n",
      "Collating Study Features\n",
      "\n",
      "-----------------------------------------------------------------------------------------------\n",
      "Processing subject: sub-073\n",
      "\n",
      "----------------------------------------------\n",
      "Getting EEG raw data\n",
      "\n",
      "----------------------------------------------\n",
      "Preprocessing EEG\n",
      "TO DO - Preprocess of raw EEG\n",
      "\n",
      "----------------------------------------------\n",
      "Getting power spectra\n",
      "\n",
      "----------------------------------------------\n",
      "Completing Spectral Parameterisation\n"
     ]
    },
    {
     "name": "stderr",
     "output_type": "stream",
     "text": [
      "/var/folders/wd/rhzj_w8570g_y66t6j6mh4zw0000gn/T/ipykernel_51414/345241518.py:36: RuntimeWarning: The data contains 'boundary' events, indicating data discontinuities. Be cautious of filtering and epoching around these events.\n",
      "  eeg_dataset_raw = mne.io.read_raw_eeglab(eeg_lab_file_path, preload=True)\n"
     ]
    },
    {
     "data": {
      "application/vnd.jupyter.widget-view+json": {
       "model_id": "0e70a9a8187a4dd7886c6ce2c6137503",
       "version_major": 2,
       "version_minor": 0
      },
      "text/plain": [
       "Running group fits.:   0%|          | 0/63 [00:00<?, ?it/s]"
      ]
     },
     "metadata": {},
     "output_type": "display_data"
    },
    {
     "name": "stdout",
     "output_type": "stream",
     "text": [
      "\n",
      "----------------------------------------------\n",
      "Collating Study Features\n",
      "\n",
      "-----------------------------------------------------------------------------------------------\n",
      "Processing subject: sub-074\n",
      "\n",
      "----------------------------------------------\n",
      "Getting EEG raw data\n",
      "\n",
      "----------------------------------------------\n",
      "Preprocessing EEG\n",
      "TO DO - Preprocess of raw EEG\n",
      "\n",
      "----------------------------------------------\n",
      "Getting power spectra\n",
      "\n",
      "----------------------------------------------\n",
      "Completing Spectral Parameterisation\n"
     ]
    },
    {
     "name": "stderr",
     "output_type": "stream",
     "text": [
      "/var/folders/wd/rhzj_w8570g_y66t6j6mh4zw0000gn/T/ipykernel_51414/345241518.py:36: RuntimeWarning: The data contains 'boundary' events, indicating data discontinuities. Be cautious of filtering and epoching around these events.\n",
      "  eeg_dataset_raw = mne.io.read_raw_eeglab(eeg_lab_file_path, preload=True)\n"
     ]
    },
    {
     "data": {
      "application/vnd.jupyter.widget-view+json": {
       "model_id": "b386399614cc4cc0b71e21b4e77e2b78",
       "version_major": 2,
       "version_minor": 0
      },
      "text/plain": [
       "Running group fits.:   0%|          | 0/63 [00:00<?, ?it/s]"
      ]
     },
     "metadata": {},
     "output_type": "display_data"
    },
    {
     "name": "stdout",
     "output_type": "stream",
     "text": [
      "\n",
      "----------------------------------------------\n",
      "Collating Study Features\n",
      "\n",
      "-----------------------------------------------------------------------------------------------\n",
      "Processing subject: sub-075\n",
      "\n",
      "----------------------------------------------\n",
      "Getting EEG raw data\n",
      "\n",
      "----------------------------------------------\n",
      "Preprocessing EEG\n",
      "TO DO - Preprocess of raw EEG\n",
      "\n",
      "----------------------------------------------\n",
      "Getting power spectra\n",
      "\n",
      "----------------------------------------------\n",
      "Completing Spectral Parameterisation\n"
     ]
    },
    {
     "name": "stderr",
     "output_type": "stream",
     "text": [
      "/var/folders/wd/rhzj_w8570g_y66t6j6mh4zw0000gn/T/ipykernel_51414/345241518.py:36: RuntimeWarning: The data contains 'boundary' events, indicating data discontinuities. Be cautious of filtering and epoching around these events.\n",
      "  eeg_dataset_raw = mne.io.read_raw_eeglab(eeg_lab_file_path, preload=True)\n"
     ]
    },
    {
     "data": {
      "application/vnd.jupyter.widget-view+json": {
       "model_id": "3b6359840c2e485fb6efb9ebcf636f49",
       "version_major": 2,
       "version_minor": 0
      },
      "text/plain": [
       "Running group fits.:   0%|          | 0/63 [00:00<?, ?it/s]"
      ]
     },
     "metadata": {},
     "output_type": "display_data"
    },
    {
     "name": "stdout",
     "output_type": "stream",
     "text": [
      "\n",
      "----------------------------------------------\n",
      "Collating Study Features\n",
      "\n",
      "-----------------------------------------------------------------------------------------------\n",
      "Processing subject: sub-076\n",
      "\n",
      "----------------------------------------------\n",
      "Getting EEG raw data\n",
      "\n",
      "----------------------------------------------\n",
      "Preprocessing EEG\n",
      "TO DO - Preprocess of raw EEG\n",
      "\n",
      "----------------------------------------------\n",
      "Getting power spectra\n",
      "\n",
      "----------------------------------------------\n",
      "Completing Spectral Parameterisation\n"
     ]
    },
    {
     "name": "stderr",
     "output_type": "stream",
     "text": [
      "/var/folders/wd/rhzj_w8570g_y66t6j6mh4zw0000gn/T/ipykernel_51414/345241518.py:36: RuntimeWarning: The data contains 'boundary' events, indicating data discontinuities. Be cautious of filtering and epoching around these events.\n",
      "  eeg_dataset_raw = mne.io.read_raw_eeglab(eeg_lab_file_path, preload=True)\n"
     ]
    },
    {
     "data": {
      "application/vnd.jupyter.widget-view+json": {
       "model_id": "1be2b73d254144ad82d315c7d4aa3e6b",
       "version_major": 2,
       "version_minor": 0
      },
      "text/plain": [
       "Running group fits.:   0%|          | 0/63 [00:00<?, ?it/s]"
      ]
     },
     "metadata": {},
     "output_type": "display_data"
    },
    {
     "name": "stdout",
     "output_type": "stream",
     "text": [
      "\n",
      "----------------------------------------------\n",
      "Collating Study Features\n",
      "\n",
      "-----------------------------------------------------------------------------------------------\n",
      "Processing subject: sub-077\n",
      "\n",
      "----------------------------------------------\n",
      "Getting EEG raw data\n",
      "\n",
      "----------------------------------------------\n",
      "Preprocessing EEG\n",
      "TO DO - Preprocess of raw EEG\n",
      "\n",
      "----------------------------------------------\n",
      "Getting power spectra\n",
      "\n",
      "----------------------------------------------\n",
      "Completing Spectral Parameterisation\n"
     ]
    },
    {
     "name": "stderr",
     "output_type": "stream",
     "text": [
      "/var/folders/wd/rhzj_w8570g_y66t6j6mh4zw0000gn/T/ipykernel_51414/345241518.py:36: RuntimeWarning: The data contains 'boundary' events, indicating data discontinuities. Be cautious of filtering and epoching around these events.\n",
      "  eeg_dataset_raw = mne.io.read_raw_eeglab(eeg_lab_file_path, preload=True)\n"
     ]
    },
    {
     "data": {
      "application/vnd.jupyter.widget-view+json": {
       "model_id": "d99f037fc4d24ee6b45a16988c41b0ba",
       "version_major": 2,
       "version_minor": 0
      },
      "text/plain": [
       "Running group fits.:   0%|          | 0/64 [00:00<?, ?it/s]"
      ]
     },
     "metadata": {},
     "output_type": "display_data"
    },
    {
     "name": "stdout",
     "output_type": "stream",
     "text": [
      "\n",
      "----------------------------------------------\n",
      "Collating Study Features\n",
      "\n",
      "-----------------------------------------------------------------------------------------------\n",
      "Processing subject: sub-078\n",
      "\n",
      "----------------------------------------------\n",
      "Getting EEG raw data\n",
      "\n",
      "----------------------------------------------\n",
      "Preprocessing EEG\n",
      "TO DO - Preprocess of raw EEG\n",
      "\n",
      "----------------------------------------------\n",
      "Getting power spectra\n",
      "\n",
      "----------------------------------------------\n",
      "Completing Spectral Parameterisation\n"
     ]
    },
    {
     "name": "stderr",
     "output_type": "stream",
     "text": [
      "/var/folders/wd/rhzj_w8570g_y66t6j6mh4zw0000gn/T/ipykernel_51414/345241518.py:36: RuntimeWarning: The data contains 'boundary' events, indicating data discontinuities. Be cautious of filtering and epoching around these events.\n",
      "  eeg_dataset_raw = mne.io.read_raw_eeglab(eeg_lab_file_path, preload=True)\n"
     ]
    },
    {
     "data": {
      "application/vnd.jupyter.widget-view+json": {
       "model_id": "7d6c53851bed4ba8b3bf620b1593055e",
       "version_major": 2,
       "version_minor": 0
      },
      "text/plain": [
       "Running group fits.:   0%|          | 0/64 [00:00<?, ?it/s]"
      ]
     },
     "metadata": {},
     "output_type": "display_data"
    },
    {
     "name": "stdout",
     "output_type": "stream",
     "text": [
      "\n",
      "----------------------------------------------\n",
      "Collating Study Features\n",
      "\n",
      "-----------------------------------------------------------------------------------------------\n",
      "Processing subject: sub-079\n",
      "\n",
      "----------------------------------------------\n",
      "Getting EEG raw data\n",
      "\n",
      "----------------------------------------------\n",
      "Preprocessing EEG\n",
      "TO DO - Preprocess of raw EEG\n",
      "\n",
      "----------------------------------------------\n",
      "Getting power spectra\n",
      "\n",
      "----------------------------------------------\n",
      "Completing Spectral Parameterisation\n"
     ]
    },
    {
     "name": "stderr",
     "output_type": "stream",
     "text": [
      "/var/folders/wd/rhzj_w8570g_y66t6j6mh4zw0000gn/T/ipykernel_51414/345241518.py:36: RuntimeWarning: The data contains 'boundary' events, indicating data discontinuities. Be cautious of filtering and epoching around these events.\n",
      "  eeg_dataset_raw = mne.io.read_raw_eeglab(eeg_lab_file_path, preload=True)\n"
     ]
    },
    {
     "data": {
      "application/vnd.jupyter.widget-view+json": {
       "model_id": "6edaf25c7ad24162bbf0b0d7a60618a0",
       "version_major": 2,
       "version_minor": 0
      },
      "text/plain": [
       "Running group fits.:   0%|          | 0/64 [00:00<?, ?it/s]"
      ]
     },
     "metadata": {},
     "output_type": "display_data"
    },
    {
     "name": "stdout",
     "output_type": "stream",
     "text": [
      "\n",
      "----------------------------------------------\n",
      "Collating Study Features\n",
      "\n",
      "-----------------------------------------------------------------------------------------------\n",
      "Processing subject: sub-080\n",
      "\n",
      "----------------------------------------------\n",
      "Getting EEG raw data\n",
      "\n",
      "----------------------------------------------\n",
      "Preprocessing EEG\n",
      "TO DO - Preprocess of raw EEG\n",
      "\n",
      "----------------------------------------------\n",
      "Getting power spectra\n",
      "\n",
      "----------------------------------------------\n",
      "Completing Spectral Parameterisation\n"
     ]
    },
    {
     "name": "stderr",
     "output_type": "stream",
     "text": [
      "/var/folders/wd/rhzj_w8570g_y66t6j6mh4zw0000gn/T/ipykernel_51414/345241518.py:36: RuntimeWarning: The data contains 'boundary' events, indicating data discontinuities. Be cautious of filtering and epoching around these events.\n",
      "  eeg_dataset_raw = mne.io.read_raw_eeglab(eeg_lab_file_path, preload=True)\n"
     ]
    },
    {
     "data": {
      "application/vnd.jupyter.widget-view+json": {
       "model_id": "b4fe2267a1c84d8cbca640388d16ea50",
       "version_major": 2,
       "version_minor": 0
      },
      "text/plain": [
       "Running group fits.:   0%|          | 0/63 [00:00<?, ?it/s]"
      ]
     },
     "metadata": {},
     "output_type": "display_data"
    },
    {
     "name": "stdout",
     "output_type": "stream",
     "text": [
      "\n",
      "----------------------------------------------\n",
      "Collating Study Features\n",
      "\n",
      "-----------------------------------------------------------------------------------------------\n",
      "Processing subject: sub-081\n",
      "\n",
      "----------------------------------------------\n",
      "Getting EEG raw data\n",
      "\n",
      "----------------------------------------------\n",
      "Preprocessing EEG\n",
      "TO DO - Preprocess of raw EEG\n",
      "\n",
      "----------------------------------------------\n",
      "Getting power spectra\n",
      "\n",
      "----------------------------------------------\n",
      "Completing Spectral Parameterisation\n"
     ]
    },
    {
     "name": "stderr",
     "output_type": "stream",
     "text": [
      "/var/folders/wd/rhzj_w8570g_y66t6j6mh4zw0000gn/T/ipykernel_51414/345241518.py:36: RuntimeWarning: The data contains 'boundary' events, indicating data discontinuities. Be cautious of filtering and epoching around these events.\n",
      "  eeg_dataset_raw = mne.io.read_raw_eeglab(eeg_lab_file_path, preload=True)\n"
     ]
    },
    {
     "data": {
      "application/vnd.jupyter.widget-view+json": {
       "model_id": "17482dd04f804d0fa2a0fa5dab9b5fd9",
       "version_major": 2,
       "version_minor": 0
      },
      "text/plain": [
       "Running group fits.:   0%|          | 0/63 [00:00<?, ?it/s]"
      ]
     },
     "metadata": {},
     "output_type": "display_data"
    },
    {
     "name": "stdout",
     "output_type": "stream",
     "text": [
      "\n",
      "----------------------------------------------\n",
      "Collating Study Features\n",
      "\n",
      "-----------------------------------------------------------------------------------------------\n",
      "Processing subject: sub-082\n",
      "\n",
      "----------------------------------------------\n",
      "Getting EEG raw data\n",
      "\n",
      "----------------------------------------------\n",
      "Preprocessing EEG\n",
      "TO DO - Preprocess of raw EEG\n",
      "\n",
      "----------------------------------------------\n",
      "Getting power spectra\n",
      "\n",
      "----------------------------------------------\n",
      "Completing Spectral Parameterisation\n"
     ]
    },
    {
     "name": "stderr",
     "output_type": "stream",
     "text": [
      "/var/folders/wd/rhzj_w8570g_y66t6j6mh4zw0000gn/T/ipykernel_51414/345241518.py:36: RuntimeWarning: The data contains 'boundary' events, indicating data discontinuities. Be cautious of filtering and epoching around these events.\n",
      "  eeg_dataset_raw = mne.io.read_raw_eeglab(eeg_lab_file_path, preload=True)\n"
     ]
    },
    {
     "data": {
      "application/vnd.jupyter.widget-view+json": {
       "model_id": "c9bfff0597a94648b9d8f5e89dd9d725",
       "version_major": 2,
       "version_minor": 0
      },
      "text/plain": [
       "Running group fits.:   0%|          | 0/63 [00:00<?, ?it/s]"
      ]
     },
     "metadata": {},
     "output_type": "display_data"
    },
    {
     "name": "stdout",
     "output_type": "stream",
     "text": [
      "\n",
      "----------------------------------------------\n",
      "Collating Study Features\n",
      "\n",
      "-----------------------------------------------------------------------------------------------\n",
      "Processing subject: sub-083\n",
      "\n",
      "----------------------------------------------\n",
      "Getting EEG raw data\n",
      "\n",
      "----------------------------------------------\n",
      "Preprocessing EEG\n",
      "TO DO - Preprocess of raw EEG\n",
      "\n",
      "----------------------------------------------\n",
      "Getting power spectra\n",
      "\n",
      "----------------------------------------------\n",
      "Completing Spectral Parameterisation\n"
     ]
    },
    {
     "name": "stderr",
     "output_type": "stream",
     "text": [
      "/var/folders/wd/rhzj_w8570g_y66t6j6mh4zw0000gn/T/ipykernel_51414/345241518.py:36: RuntimeWarning: The data contains 'boundary' events, indicating data discontinuities. Be cautious of filtering and epoching around these events.\n",
      "  eeg_dataset_raw = mne.io.read_raw_eeglab(eeg_lab_file_path, preload=True)\n"
     ]
    },
    {
     "data": {
      "application/vnd.jupyter.widget-view+json": {
       "model_id": "5f41b73a8f9a43dcb97d6ce163f52a20",
       "version_major": 2,
       "version_minor": 0
      },
      "text/plain": [
       "Running group fits.:   0%|          | 0/63 [00:00<?, ?it/s]"
      ]
     },
     "metadata": {},
     "output_type": "display_data"
    },
    {
     "name": "stdout",
     "output_type": "stream",
     "text": [
      "\n",
      "----------------------------------------------\n",
      "Collating Study Features\n",
      "\n",
      "-----------------------------------------------------------------------------------------------\n",
      "Processing subject: sub-084\n",
      "\n",
      "----------------------------------------------\n",
      "Getting EEG raw data\n",
      "\n",
      "----------------------------------------------\n",
      "Preprocessing EEG\n",
      "TO DO - Preprocess of raw EEG\n",
      "\n",
      "----------------------------------------------\n",
      "Getting power spectra\n",
      "\n",
      "----------------------------------------------\n",
      "Completing Spectral Parameterisation\n"
     ]
    },
    {
     "name": "stderr",
     "output_type": "stream",
     "text": [
      "/var/folders/wd/rhzj_w8570g_y66t6j6mh4zw0000gn/T/ipykernel_51414/345241518.py:36: RuntimeWarning: The data contains 'boundary' events, indicating data discontinuities. Be cautious of filtering and epoching around these events.\n",
      "  eeg_dataset_raw = mne.io.read_raw_eeglab(eeg_lab_file_path, preload=True)\n"
     ]
    },
    {
     "data": {
      "application/vnd.jupyter.widget-view+json": {
       "model_id": "35a22bbb0e6a406d9e409799aefc4ac1",
       "version_major": 2,
       "version_minor": 0
      },
      "text/plain": [
       "Running group fits.:   0%|          | 0/63 [00:00<?, ?it/s]"
      ]
     },
     "metadata": {},
     "output_type": "display_data"
    },
    {
     "name": "stdout",
     "output_type": "stream",
     "text": [
      "\n",
      "----------------------------------------------\n",
      "Collating Study Features\n",
      "\n",
      "-----------------------------------------------------------------------------------------------\n",
      "Processing subject: sub-085\n",
      "\n",
      "----------------------------------------------\n",
      "Getting EEG raw data\n",
      "\n",
      "----------------------------------------------\n",
      "Preprocessing EEG\n",
      "TO DO - Preprocess of raw EEG\n",
      "\n",
      "----------------------------------------------\n",
      "Getting power spectra\n",
      "\n",
      "----------------------------------------------\n",
      "Completing Spectral Parameterisation\n"
     ]
    },
    {
     "name": "stderr",
     "output_type": "stream",
     "text": [
      "/var/folders/wd/rhzj_w8570g_y66t6j6mh4zw0000gn/T/ipykernel_51414/345241518.py:36: RuntimeWarning: The data contains 'boundary' events, indicating data discontinuities. Be cautious of filtering and epoching around these events.\n",
      "  eeg_dataset_raw = mne.io.read_raw_eeglab(eeg_lab_file_path, preload=True)\n"
     ]
    },
    {
     "data": {
      "application/vnd.jupyter.widget-view+json": {
       "model_id": "54e6db2f054742edab8eb2c785356ff3",
       "version_major": 2,
       "version_minor": 0
      },
      "text/plain": [
       "Running group fits.:   0%|          | 0/63 [00:00<?, ?it/s]"
      ]
     },
     "metadata": {},
     "output_type": "display_data"
    },
    {
     "name": "stdout",
     "output_type": "stream",
     "text": [
      "\n",
      "----------------------------------------------\n",
      "Collating Study Features\n",
      "\n",
      "-----------------------------------------------------------------------------------------------\n",
      "Processing subject: sub-086\n",
      "\n",
      "----------------------------------------------\n",
      "Getting EEG raw data\n",
      "\n",
      "----------------------------------------------\n",
      "Preprocessing EEG\n",
      "TO DO - Preprocess of raw EEG\n",
      "\n",
      "----------------------------------------------\n",
      "Getting power spectra\n",
      "\n",
      "----------------------------------------------\n",
      "Completing Spectral Parameterisation\n"
     ]
    },
    {
     "name": "stderr",
     "output_type": "stream",
     "text": [
      "/var/folders/wd/rhzj_w8570g_y66t6j6mh4zw0000gn/T/ipykernel_51414/345241518.py:36: RuntimeWarning: The data contains 'boundary' events, indicating data discontinuities. Be cautious of filtering and epoching around these events.\n",
      "  eeg_dataset_raw = mne.io.read_raw_eeglab(eeg_lab_file_path, preload=True)\n"
     ]
    },
    {
     "data": {
      "application/vnd.jupyter.widget-view+json": {
       "model_id": "db1b54fb3578478087c2dc1e62b613a6",
       "version_major": 2,
       "version_minor": 0
      },
      "text/plain": [
       "Running group fits.:   0%|          | 0/63 [00:00<?, ?it/s]"
      ]
     },
     "metadata": {},
     "output_type": "display_data"
    },
    {
     "name": "stdout",
     "output_type": "stream",
     "text": [
      "\n",
      "----------------------------------------------\n",
      "Collating Study Features\n",
      "\n",
      "-----------------------------------------------------------------------------------------------\n",
      "Processing subject: sub-087\n",
      "\n",
      "----------------------------------------------\n",
      "Getting EEG raw data\n",
      "\n",
      "----------------------------------------------\n",
      "Preprocessing EEG\n",
      "TO DO - Preprocess of raw EEG\n",
      "\n",
      "----------------------------------------------\n",
      "Getting power spectra\n",
      "\n",
      "----------------------------------------------\n",
      "Completing Spectral Parameterisation\n"
     ]
    },
    {
     "name": "stderr",
     "output_type": "stream",
     "text": [
      "/var/folders/wd/rhzj_w8570g_y66t6j6mh4zw0000gn/T/ipykernel_51414/345241518.py:36: RuntimeWarning: The data contains 'boundary' events, indicating data discontinuities. Be cautious of filtering and epoching around these events.\n",
      "  eeg_dataset_raw = mne.io.read_raw_eeglab(eeg_lab_file_path, preload=True)\n"
     ]
    },
    {
     "data": {
      "application/vnd.jupyter.widget-view+json": {
       "model_id": "f415a65f835e49c186facf08da40acba",
       "version_major": 2,
       "version_minor": 0
      },
      "text/plain": [
       "Running group fits.:   0%|          | 0/63 [00:00<?, ?it/s]"
      ]
     },
     "metadata": {},
     "output_type": "display_data"
    },
    {
     "name": "stdout",
     "output_type": "stream",
     "text": [
      "\n",
      "----------------------------------------------\n",
      "Collating Study Features\n",
      "\n",
      "-----------------------------------------------------------------------------------------------\n",
      "Processing subject: sub-088\n",
      "\n",
      "----------------------------------------------\n",
      "Getting EEG raw data\n",
      "\n",
      "----------------------------------------------\n",
      "Preprocessing EEG\n",
      "TO DO - Preprocess of raw EEG\n",
      "\n",
      "----------------------------------------------\n",
      "Getting power spectra\n",
      "\n",
      "----------------------------------------------\n",
      "Completing Spectral Parameterisation\n"
     ]
    },
    {
     "name": "stderr",
     "output_type": "stream",
     "text": [
      "/var/folders/wd/rhzj_w8570g_y66t6j6mh4zw0000gn/T/ipykernel_51414/345241518.py:36: RuntimeWarning: The data contains 'boundary' events, indicating data discontinuities. Be cautious of filtering and epoching around these events.\n",
      "  eeg_dataset_raw = mne.io.read_raw_eeglab(eeg_lab_file_path, preload=True)\n"
     ]
    },
    {
     "data": {
      "application/vnd.jupyter.widget-view+json": {
       "model_id": "51acd3260dfe4d988d46621b2545a785",
       "version_major": 2,
       "version_minor": 0
      },
      "text/plain": [
       "Running group fits.:   0%|          | 0/63 [00:00<?, ?it/s]"
      ]
     },
     "metadata": {},
     "output_type": "display_data"
    },
    {
     "name": "stdout",
     "output_type": "stream",
     "text": [
      "\n",
      "----------------------------------------------\n",
      "Collating Study Features\n",
      "\n",
      "-----------------------------------------------------------------------------------------------\n",
      "Processing subject: sub-089\n",
      "\n",
      "----------------------------------------------\n",
      "Getting EEG raw data\n",
      "\n",
      "----------------------------------------------\n",
      "Preprocessing EEG\n",
      "TO DO - Preprocess of raw EEG\n",
      "\n",
      "----------------------------------------------\n",
      "Getting power spectra\n",
      "\n",
      "----------------------------------------------\n",
      "Completing Spectral Parameterisation\n"
     ]
    },
    {
     "name": "stderr",
     "output_type": "stream",
     "text": [
      "/var/folders/wd/rhzj_w8570g_y66t6j6mh4zw0000gn/T/ipykernel_51414/345241518.py:36: RuntimeWarning: The data contains 'boundary' events, indicating data discontinuities. Be cautious of filtering and epoching around these events.\n",
      "  eeg_dataset_raw = mne.io.read_raw_eeglab(eeg_lab_file_path, preload=True)\n"
     ]
    },
    {
     "data": {
      "application/vnd.jupyter.widget-view+json": {
       "model_id": "168c2a82a6e24b458e29244369166a61",
       "version_major": 2,
       "version_minor": 0
      },
      "text/plain": [
       "Running group fits.:   0%|          | 0/64 [00:00<?, ?it/s]"
      ]
     },
     "metadata": {},
     "output_type": "display_data"
    },
    {
     "name": "stdout",
     "output_type": "stream",
     "text": [
      "\n",
      "----------------------------------------------\n",
      "Collating Study Features\n",
      "\n",
      "-----------------------------------------------------------------------------------------------\n",
      "Processing subject: sub-090\n",
      "\n",
      "----------------------------------------------\n",
      "Getting EEG raw data\n",
      "\n",
      "----------------------------------------------\n",
      "Preprocessing EEG\n",
      "TO DO - Preprocess of raw EEG\n",
      "\n",
      "----------------------------------------------\n",
      "Getting power spectra\n",
      "\n",
      "----------------------------------------------\n",
      "Completing Spectral Parameterisation\n"
     ]
    },
    {
     "name": "stderr",
     "output_type": "stream",
     "text": [
      "/var/folders/wd/rhzj_w8570g_y66t6j6mh4zw0000gn/T/ipykernel_51414/345241518.py:36: RuntimeWarning: The data contains 'boundary' events, indicating data discontinuities. Be cautious of filtering and epoching around these events.\n",
      "  eeg_dataset_raw = mne.io.read_raw_eeglab(eeg_lab_file_path, preload=True)\n"
     ]
    },
    {
     "data": {
      "application/vnd.jupyter.widget-view+json": {
       "model_id": "c48b12de31ff4a9db238793d6411b842",
       "version_major": 2,
       "version_minor": 0
      },
      "text/plain": [
       "Running group fits.:   0%|          | 0/64 [00:00<?, ?it/s]"
      ]
     },
     "metadata": {},
     "output_type": "display_data"
    },
    {
     "name": "stdout",
     "output_type": "stream",
     "text": [
      "\n",
      "----------------------------------------------\n",
      "Collating Study Features\n",
      "\n",
      "-----------------------------------------------------------------------------------------------\n",
      "Processing subject: sub-091\n",
      "\n",
      "----------------------------------------------\n",
      "Getting EEG raw data\n",
      "\n",
      "----------------------------------------------\n",
      "Preprocessing EEG\n",
      "TO DO - Preprocess of raw EEG\n",
      "\n",
      "----------------------------------------------\n",
      "Getting power spectra\n",
      "\n",
      "----------------------------------------------\n",
      "Completing Spectral Parameterisation\n"
     ]
    },
    {
     "name": "stderr",
     "output_type": "stream",
     "text": [
      "/var/folders/wd/rhzj_w8570g_y66t6j6mh4zw0000gn/T/ipykernel_51414/345241518.py:36: RuntimeWarning: The data contains 'boundary' events, indicating data discontinuities. Be cautious of filtering and epoching around these events.\n",
      "  eeg_dataset_raw = mne.io.read_raw_eeglab(eeg_lab_file_path, preload=True)\n"
     ]
    },
    {
     "data": {
      "application/vnd.jupyter.widget-view+json": {
       "model_id": "3480e884381443fe813e3a6f3e67b6e2",
       "version_major": 2,
       "version_minor": 0
      },
      "text/plain": [
       "Running group fits.:   0%|          | 0/64 [00:00<?, ?it/s]"
      ]
     },
     "metadata": {},
     "output_type": "display_data"
    },
    {
     "name": "stdout",
     "output_type": "stream",
     "text": [
      "\n",
      "----------------------------------------------\n",
      "Collating Study Features\n",
      "\n",
      "-----------------------------------------------------------------------------------------------\n",
      "Processing subject: sub-092\n",
      "\n",
      "----------------------------------------------\n",
      "Getting EEG raw data\n",
      "\n",
      "----------------------------------------------\n",
      "Preprocessing EEG\n",
      "TO DO - Preprocess of raw EEG\n",
      "\n",
      "----------------------------------------------\n",
      "Getting power spectra\n",
      "\n",
      "----------------------------------------------\n",
      "Completing Spectral Parameterisation\n"
     ]
    },
    {
     "name": "stderr",
     "output_type": "stream",
     "text": [
      "/var/folders/wd/rhzj_w8570g_y66t6j6mh4zw0000gn/T/ipykernel_51414/345241518.py:36: RuntimeWarning: The data contains 'boundary' events, indicating data discontinuities. Be cautious of filtering and epoching around these events.\n",
      "  eeg_dataset_raw = mne.io.read_raw_eeglab(eeg_lab_file_path, preload=True)\n"
     ]
    },
    {
     "data": {
      "application/vnd.jupyter.widget-view+json": {
       "model_id": "2e5591552fa54788bc4f6cea8a834b49",
       "version_major": 2,
       "version_minor": 0
      },
      "text/plain": [
       "Running group fits.:   0%|          | 0/64 [00:00<?, ?it/s]"
      ]
     },
     "metadata": {},
     "output_type": "display_data"
    },
    {
     "name": "stdout",
     "output_type": "stream",
     "text": [
      "\n",
      "----------------------------------------------\n",
      "Collating Study Features\n",
      "\n",
      "-----------------------------------------------------------------------------------------------\n",
      "Processing subject: sub-093\n",
      "\n",
      "----------------------------------------------\n",
      "Getting EEG raw data\n",
      "\n",
      "----------------------------------------------\n",
      "Preprocessing EEG\n",
      "TO DO - Preprocess of raw EEG\n",
      "\n",
      "----------------------------------------------\n",
      "Getting power spectra\n",
      "\n",
      "----------------------------------------------\n",
      "Completing Spectral Parameterisation\n"
     ]
    },
    {
     "name": "stderr",
     "output_type": "stream",
     "text": [
      "/var/folders/wd/rhzj_w8570g_y66t6j6mh4zw0000gn/T/ipykernel_51414/345241518.py:36: RuntimeWarning: The data contains 'boundary' events, indicating data discontinuities. Be cautious of filtering and epoching around these events.\n",
      "  eeg_dataset_raw = mne.io.read_raw_eeglab(eeg_lab_file_path, preload=True)\n"
     ]
    },
    {
     "data": {
      "application/vnd.jupyter.widget-view+json": {
       "model_id": "2a289910c0a9433d8b0818e7748b59d5",
       "version_major": 2,
       "version_minor": 0
      },
      "text/plain": [
       "Running group fits.:   0%|          | 0/64 [00:00<?, ?it/s]"
      ]
     },
     "metadata": {},
     "output_type": "display_data"
    },
    {
     "name": "stdout",
     "output_type": "stream",
     "text": [
      "\n",
      "----------------------------------------------\n",
      "Collating Study Features\n",
      "\n",
      "-----------------------------------------------------------------------------------------------\n",
      "Processing subject: sub-094\n",
      "\n",
      "----------------------------------------------\n",
      "Getting EEG raw data\n",
      "\n",
      "----------------------------------------------\n",
      "Preprocessing EEG\n",
      "TO DO - Preprocess of raw EEG\n",
      "\n",
      "----------------------------------------------\n",
      "Getting power spectra\n",
      "\n",
      "----------------------------------------------\n",
      "Completing Spectral Parameterisation\n"
     ]
    },
    {
     "name": "stderr",
     "output_type": "stream",
     "text": [
      "/var/folders/wd/rhzj_w8570g_y66t6j6mh4zw0000gn/T/ipykernel_51414/345241518.py:36: RuntimeWarning: The data contains 'boundary' events, indicating data discontinuities. Be cautious of filtering and epoching around these events.\n",
      "  eeg_dataset_raw = mne.io.read_raw_eeglab(eeg_lab_file_path, preload=True)\n"
     ]
    },
    {
     "data": {
      "application/vnd.jupyter.widget-view+json": {
       "model_id": "8772dcdede834170a42c34ea6aed35eb",
       "version_major": 2,
       "version_minor": 0
      },
      "text/plain": [
       "Running group fits.:   0%|          | 0/64 [00:00<?, ?it/s]"
      ]
     },
     "metadata": {},
     "output_type": "display_data"
    },
    {
     "name": "stdout",
     "output_type": "stream",
     "text": [
      "\n",
      "----------------------------------------------\n",
      "Collating Study Features\n",
      "\n",
      "-----------------------------------------------------------------------------------------------\n",
      "Processing subject: sub-095\n",
      "\n",
      "----------------------------------------------\n",
      "Getting EEG raw data\n",
      "\n",
      "----------------------------------------------\n",
      "Preprocessing EEG\n",
      "TO DO - Preprocess of raw EEG\n",
      "\n",
      "----------------------------------------------\n",
      "Getting power spectra\n",
      "\n",
      "----------------------------------------------\n",
      "Completing Spectral Parameterisation\n"
     ]
    },
    {
     "name": "stderr",
     "output_type": "stream",
     "text": [
      "/var/folders/wd/rhzj_w8570g_y66t6j6mh4zw0000gn/T/ipykernel_51414/345241518.py:36: RuntimeWarning: The data contains 'boundary' events, indicating data discontinuities. Be cautious of filtering and epoching around these events.\n",
      "  eeg_dataset_raw = mne.io.read_raw_eeglab(eeg_lab_file_path, preload=True)\n"
     ]
    },
    {
     "data": {
      "application/vnd.jupyter.widget-view+json": {
       "model_id": "dd3cc1ff0cd742adbe188884ebd31a3b",
       "version_major": 2,
       "version_minor": 0
      },
      "text/plain": [
       "Running group fits.:   0%|          | 0/64 [00:00<?, ?it/s]"
      ]
     },
     "metadata": {},
     "output_type": "display_data"
    },
    {
     "name": "stdout",
     "output_type": "stream",
     "text": [
      "\n",
      "----------------------------------------------\n",
      "Collating Study Features\n",
      "\n",
      "-----------------------------------------------------------------------------------------------\n",
      "Processing subject: sub-096\n",
      "\n",
      "----------------------------------------------\n",
      "Getting EEG raw data\n",
      "\n",
      "----------------------------------------------\n",
      "Preprocessing EEG\n",
      "TO DO - Preprocess of raw EEG\n",
      "\n",
      "----------------------------------------------\n",
      "Getting power spectra\n",
      "\n",
      "----------------------------------------------\n",
      "Completing Spectral Parameterisation\n"
     ]
    },
    {
     "name": "stderr",
     "output_type": "stream",
     "text": [
      "/var/folders/wd/rhzj_w8570g_y66t6j6mh4zw0000gn/T/ipykernel_51414/345241518.py:36: RuntimeWarning: The data contains 'boundary' events, indicating data discontinuities. Be cautious of filtering and epoching around these events.\n",
      "  eeg_dataset_raw = mne.io.read_raw_eeglab(eeg_lab_file_path, preload=True)\n"
     ]
    },
    {
     "data": {
      "application/vnd.jupyter.widget-view+json": {
       "model_id": "64bd98db1f8a4f38b4b93ccc509f0115",
       "version_major": 2,
       "version_minor": 0
      },
      "text/plain": [
       "Running group fits.:   0%|          | 0/64 [00:00<?, ?it/s]"
      ]
     },
     "metadata": {},
     "output_type": "display_data"
    },
    {
     "name": "stdout",
     "output_type": "stream",
     "text": [
      "\n",
      "----------------------------------------------\n",
      "Collating Study Features\n",
      "\n",
      "-----------------------------------------------------------------------------------------------\n",
      "Processing subject: sub-097\n",
      "\n",
      "----------------------------------------------\n",
      "Getting EEG raw data\n",
      "\n",
      "----------------------------------------------\n",
      "Preprocessing EEG\n",
      "TO DO - Preprocess of raw EEG\n",
      "\n",
      "----------------------------------------------\n",
      "Getting power spectra\n",
      "\n",
      "----------------------------------------------\n",
      "Completing Spectral Parameterisation\n"
     ]
    },
    {
     "name": "stderr",
     "output_type": "stream",
     "text": [
      "/var/folders/wd/rhzj_w8570g_y66t6j6mh4zw0000gn/T/ipykernel_51414/345241518.py:36: RuntimeWarning: The data contains 'boundary' events, indicating data discontinuities. Be cautious of filtering and epoching around these events.\n",
      "  eeg_dataset_raw = mne.io.read_raw_eeglab(eeg_lab_file_path, preload=True)\n"
     ]
    },
    {
     "data": {
      "application/vnd.jupyter.widget-view+json": {
       "model_id": "aad747b1b3af44069c1ba275f8fc35db",
       "version_major": 2,
       "version_minor": 0
      },
      "text/plain": [
       "Running group fits.:   0%|          | 0/64 [00:00<?, ?it/s]"
      ]
     },
     "metadata": {},
     "output_type": "display_data"
    },
    {
     "name": "stdout",
     "output_type": "stream",
     "text": [
      "\n",
      "----------------------------------------------\n",
      "Collating Study Features\n",
      "\n",
      "-----------------------------------------------------------------------------------------------\n",
      "Processing subject: sub-098\n",
      "\n",
      "----------------------------------------------\n",
      "Getting EEG raw data\n",
      "\n",
      "----------------------------------------------\n",
      "Preprocessing EEG\n",
      "TO DO - Preprocess of raw EEG\n",
      "\n",
      "----------------------------------------------\n",
      "Getting power spectra\n",
      "\n",
      "----------------------------------------------\n",
      "Completing Spectral Parameterisation\n"
     ]
    },
    {
     "name": "stderr",
     "output_type": "stream",
     "text": [
      "/var/folders/wd/rhzj_w8570g_y66t6j6mh4zw0000gn/T/ipykernel_51414/345241518.py:36: RuntimeWarning: The data contains 'boundary' events, indicating data discontinuities. Be cautious of filtering and epoching around these events.\n",
      "  eeg_dataset_raw = mne.io.read_raw_eeglab(eeg_lab_file_path, preload=True)\n"
     ]
    },
    {
     "data": {
      "application/vnd.jupyter.widget-view+json": {
       "model_id": "83e5cbbe1fe940d489d7f290fc5a6d82",
       "version_major": 2,
       "version_minor": 0
      },
      "text/plain": [
       "Running group fits.:   0%|          | 0/64 [00:00<?, ?it/s]"
      ]
     },
     "metadata": {},
     "output_type": "display_data"
    },
    {
     "name": "stdout",
     "output_type": "stream",
     "text": [
      "\n",
      "----------------------------------------------\n",
      "Collating Study Features\n",
      "\n",
      "-----------------------------------------------------------------------------------------------\n",
      "Processing subject: sub-099\n",
      "\n",
      "----------------------------------------------\n",
      "Getting EEG raw data\n",
      "\n",
      "----------------------------------------------\n",
      "Preprocessing EEG\n",
      "TO DO - Preprocess of raw EEG\n",
      "\n",
      "----------------------------------------------\n",
      "Getting power spectra\n",
      "\n",
      "----------------------------------------------\n",
      "Completing Spectral Parameterisation\n"
     ]
    },
    {
     "name": "stderr",
     "output_type": "stream",
     "text": [
      "/var/folders/wd/rhzj_w8570g_y66t6j6mh4zw0000gn/T/ipykernel_51414/345241518.py:36: RuntimeWarning: The data contains 'boundary' events, indicating data discontinuities. Be cautious of filtering and epoching around these events.\n",
      "  eeg_dataset_raw = mne.io.read_raw_eeglab(eeg_lab_file_path, preload=True)\n"
     ]
    },
    {
     "data": {
      "application/vnd.jupyter.widget-view+json": {
       "model_id": "fed1f00eca7642a49c157867b114360d",
       "version_major": 2,
       "version_minor": 0
      },
      "text/plain": [
       "Running group fits.:   0%|          | 0/64 [00:00<?, ?it/s]"
      ]
     },
     "metadata": {},
     "output_type": "display_data"
    },
    {
     "name": "stdout",
     "output_type": "stream",
     "text": [
      "\n",
      "----------------------------------------------\n",
      "Collating Study Features\n",
      "\n",
      "-----------------------------------------------------------------------------------------------\n",
      "Processing subject: sub-100\n",
      "\n",
      "----------------------------------------------\n",
      "Getting EEG raw data\n",
      "\n",
      "----------------------------------------------\n",
      "Preprocessing EEG\n",
      "TO DO - Preprocess of raw EEG\n",
      "\n",
      "----------------------------------------------\n",
      "Getting power spectra\n",
      "\n",
      "----------------------------------------------\n",
      "Completing Spectral Parameterisation\n"
     ]
    },
    {
     "name": "stderr",
     "output_type": "stream",
     "text": [
      "/var/folders/wd/rhzj_w8570g_y66t6j6mh4zw0000gn/T/ipykernel_51414/345241518.py:36: RuntimeWarning: The data contains 'boundary' events, indicating data discontinuities. Be cautious of filtering and epoching around these events.\n",
      "  eeg_dataset_raw = mne.io.read_raw_eeglab(eeg_lab_file_path, preload=True)\n"
     ]
    },
    {
     "data": {
      "application/vnd.jupyter.widget-view+json": {
       "model_id": "07a2134dc5ad4abba7a6ae73c84f3f6e",
       "version_major": 2,
       "version_minor": 0
      },
      "text/plain": [
       "Running group fits.:   0%|          | 0/63 [00:00<?, ?it/s]"
      ]
     },
     "metadata": {},
     "output_type": "display_data"
    },
    {
     "name": "stdout",
     "output_type": "stream",
     "text": [
      "\n",
      "----------------------------------------------\n",
      "Collating Study Features\n",
      "\n",
      "-----------------------------------------------------------------------------------------------\n",
      "Processing subject: sub-101\n",
      "\n",
      "----------------------------------------------\n",
      "Getting EEG raw data\n",
      "\n",
      "----------------------------------------------\n",
      "Preprocessing EEG\n",
      "TO DO - Preprocess of raw EEG\n",
      "\n",
      "----------------------------------------------\n",
      "Getting power spectra\n",
      "\n",
      "----------------------------------------------\n",
      "Completing Spectral Parameterisation\n"
     ]
    },
    {
     "name": "stderr",
     "output_type": "stream",
     "text": [
      "/var/folders/wd/rhzj_w8570g_y66t6j6mh4zw0000gn/T/ipykernel_51414/345241518.py:36: RuntimeWarning: The data contains 'boundary' events, indicating data discontinuities. Be cautious of filtering and epoching around these events.\n",
      "  eeg_dataset_raw = mne.io.read_raw_eeglab(eeg_lab_file_path, preload=True)\n"
     ]
    },
    {
     "data": {
      "application/vnd.jupyter.widget-view+json": {
       "model_id": "29af19e8efdf43c6b46d2f1e41a9ae7a",
       "version_major": 2,
       "version_minor": 0
      },
      "text/plain": [
       "Running group fits.:   0%|          | 0/63 [00:00<?, ?it/s]"
      ]
     },
     "metadata": {},
     "output_type": "display_data"
    },
    {
     "name": "stdout",
     "output_type": "stream",
     "text": [
      "\n",
      "----------------------------------------------\n",
      "Collating Study Features\n",
      "\n",
      "-----------------------------------------------------------------------------------------------\n",
      "Processing subject: sub-102\n",
      "\n",
      "----------------------------------------------\n",
      "Getting EEG raw data\n",
      "\n",
      "----------------------------------------------\n",
      "Preprocessing EEG\n",
      "TO DO - Preprocess of raw EEG\n",
      "\n",
      "----------------------------------------------\n",
      "Getting power spectra\n",
      "\n",
      "----------------------------------------------\n",
      "Completing Spectral Parameterisation\n"
     ]
    },
    {
     "name": "stderr",
     "output_type": "stream",
     "text": [
      "/var/folders/wd/rhzj_w8570g_y66t6j6mh4zw0000gn/T/ipykernel_51414/345241518.py:36: RuntimeWarning: The data contains 'boundary' events, indicating data discontinuities. Be cautious of filtering and epoching around these events.\n",
      "  eeg_dataset_raw = mne.io.read_raw_eeglab(eeg_lab_file_path, preload=True)\n"
     ]
    },
    {
     "data": {
      "application/vnd.jupyter.widget-view+json": {
       "model_id": "12187add70c6444f928d0151afa2a2ec",
       "version_major": 2,
       "version_minor": 0
      },
      "text/plain": [
       "Running group fits.:   0%|          | 0/63 [00:00<?, ?it/s]"
      ]
     },
     "metadata": {},
     "output_type": "display_data"
    },
    {
     "name": "stdout",
     "output_type": "stream",
     "text": [
      "\n",
      "----------------------------------------------\n",
      "Collating Study Features\n",
      "\n",
      "-----------------------------------------------------------------------------------------------\n",
      "Processing subject: sub-103\n",
      "\n",
      "----------------------------------------------\n",
      "Getting EEG raw data\n",
      "\n",
      "----------------------------------------------\n",
      "Preprocessing EEG\n",
      "TO DO - Preprocess of raw EEG\n",
      "\n",
      "----------------------------------------------\n",
      "Getting power spectra\n",
      "\n",
      "----------------------------------------------\n",
      "Completing Spectral Parameterisation\n"
     ]
    },
    {
     "name": "stderr",
     "output_type": "stream",
     "text": [
      "/var/folders/wd/rhzj_w8570g_y66t6j6mh4zw0000gn/T/ipykernel_51414/345241518.py:36: RuntimeWarning: The data contains 'boundary' events, indicating data discontinuities. Be cautious of filtering and epoching around these events.\n",
      "  eeg_dataset_raw = mne.io.read_raw_eeglab(eeg_lab_file_path, preload=True)\n"
     ]
    },
    {
     "data": {
      "application/vnd.jupyter.widget-view+json": {
       "model_id": "9ba7cc183da74a489bf24dfb7b8d852e",
       "version_major": 2,
       "version_minor": 0
      },
      "text/plain": [
       "Running group fits.:   0%|          | 0/63 [00:00<?, ?it/s]"
      ]
     },
     "metadata": {},
     "output_type": "display_data"
    },
    {
     "name": "stdout",
     "output_type": "stream",
     "text": [
      "\n",
      "----------------------------------------------\n",
      "Collating Study Features\n",
      "\n",
      "-----------------------------------------------------------------------------------------------\n",
      "Processing subject: sub-104\n",
      "\n",
      "----------------------------------------------\n",
      "Getting EEG raw data\n",
      "\n",
      "----------------------------------------------\n",
      "Preprocessing EEG\n",
      "TO DO - Preprocess of raw EEG\n",
      "\n",
      "----------------------------------------------\n",
      "Getting power spectra\n",
      "\n",
      "----------------------------------------------\n",
      "Completing Spectral Parameterisation\n"
     ]
    },
    {
     "name": "stderr",
     "output_type": "stream",
     "text": [
      "/var/folders/wd/rhzj_w8570g_y66t6j6mh4zw0000gn/T/ipykernel_51414/345241518.py:36: RuntimeWarning: The data contains 'boundary' events, indicating data discontinuities. Be cautious of filtering and epoching around these events.\n",
      "  eeg_dataset_raw = mne.io.read_raw_eeglab(eeg_lab_file_path, preload=True)\n"
     ]
    },
    {
     "data": {
      "application/vnd.jupyter.widget-view+json": {
       "model_id": "a945cfeac99541f29419609f28c1ebf6",
       "version_major": 2,
       "version_minor": 0
      },
      "text/plain": [
       "Running group fits.:   0%|          | 0/63 [00:00<?, ?it/s]"
      ]
     },
     "metadata": {},
     "output_type": "display_data"
    },
    {
     "name": "stdout",
     "output_type": "stream",
     "text": [
      "\n",
      "----------------------------------------------\n",
      "Collating Study Features\n",
      "\n",
      "-----------------------------------------------------------------------------------------------\n",
      "Processing subject: sub-105\n",
      "\n",
      "----------------------------------------------\n",
      "Getting EEG raw data\n",
      "\n",
      "----------------------------------------------\n",
      "Preprocessing EEG\n",
      "TO DO - Preprocess of raw EEG\n",
      "\n",
      "----------------------------------------------\n",
      "Getting power spectra\n",
      "\n",
      "----------------------------------------------\n",
      "Completing Spectral Parameterisation\n"
     ]
    },
    {
     "name": "stderr",
     "output_type": "stream",
     "text": [
      "/var/folders/wd/rhzj_w8570g_y66t6j6mh4zw0000gn/T/ipykernel_51414/345241518.py:36: RuntimeWarning: The data contains 'boundary' events, indicating data discontinuities. Be cautious of filtering and epoching around these events.\n",
      "  eeg_dataset_raw = mne.io.read_raw_eeglab(eeg_lab_file_path, preload=True)\n"
     ]
    },
    {
     "data": {
      "application/vnd.jupyter.widget-view+json": {
       "model_id": "7d0bb11f2e544e62b680cbd7d54fd01f",
       "version_major": 2,
       "version_minor": 0
      },
      "text/plain": [
       "Running group fits.:   0%|          | 0/63 [00:00<?, ?it/s]"
      ]
     },
     "metadata": {},
     "output_type": "display_data"
    },
    {
     "name": "stdout",
     "output_type": "stream",
     "text": [
      "\n",
      "----------------------------------------------\n",
      "Collating Study Features\n",
      "\n",
      "-----------------------------------------------------------------------------------------------\n",
      "Processing subject: sub-106\n",
      "\n",
      "----------------------------------------------\n",
      "Getting EEG raw data\n",
      "\n",
      "----------------------------------------------\n",
      "Preprocessing EEG\n",
      "TO DO - Preprocess of raw EEG\n",
      "\n",
      "----------------------------------------------\n",
      "Getting power spectra\n",
      "\n",
      "----------------------------------------------\n",
      "Completing Spectral Parameterisation\n"
     ]
    },
    {
     "name": "stderr",
     "output_type": "stream",
     "text": [
      "/var/folders/wd/rhzj_w8570g_y66t6j6mh4zw0000gn/T/ipykernel_51414/345241518.py:36: RuntimeWarning: The data contains 'boundary' events, indicating data discontinuities. Be cautious of filtering and epoching around these events.\n",
      "  eeg_dataset_raw = mne.io.read_raw_eeglab(eeg_lab_file_path, preload=True)\n"
     ]
    },
    {
     "data": {
      "application/vnd.jupyter.widget-view+json": {
       "model_id": "5de2038898954947b211d345ae7272be",
       "version_major": 2,
       "version_minor": 0
      },
      "text/plain": [
       "Running group fits.:   0%|          | 0/63 [00:00<?, ?it/s]"
      ]
     },
     "metadata": {},
     "output_type": "display_data"
    },
    {
     "name": "stdout",
     "output_type": "stream",
     "text": [
      "\n",
      "----------------------------------------------\n",
      "Collating Study Features\n",
      "\n",
      "-----------------------------------------------------------------------------------------------\n",
      "Processing subject: sub-107\n",
      "\n",
      "----------------------------------------------\n",
      "Getting EEG raw data\n",
      "\n",
      "----------------------------------------------\n",
      "Preprocessing EEG\n",
      "TO DO - Preprocess of raw EEG\n",
      "\n",
      "----------------------------------------------\n",
      "Getting power spectra\n",
      "\n",
      "----------------------------------------------\n",
      "Completing Spectral Parameterisation\n"
     ]
    },
    {
     "name": "stderr",
     "output_type": "stream",
     "text": [
      "/var/folders/wd/rhzj_w8570g_y66t6j6mh4zw0000gn/T/ipykernel_51414/345241518.py:36: RuntimeWarning: The data contains 'boundary' events, indicating data discontinuities. Be cautious of filtering and epoching around these events.\n",
      "  eeg_dataset_raw = mne.io.read_raw_eeglab(eeg_lab_file_path, preload=True)\n"
     ]
    },
    {
     "data": {
      "application/vnd.jupyter.widget-view+json": {
       "model_id": "0e3e23d17b8e47b8a4cdd59d01bba39a",
       "version_major": 2,
       "version_minor": 0
      },
      "text/plain": [
       "Running group fits.:   0%|          | 0/63 [00:00<?, ?it/s]"
      ]
     },
     "metadata": {},
     "output_type": "display_data"
    },
    {
     "name": "stdout",
     "output_type": "stream",
     "text": [
      "\n",
      "----------------------------------------------\n",
      "Collating Study Features\n",
      "\n",
      "-----------------------------------------------------------------------------------------------\n",
      "Processing subject: sub-108\n",
      "\n",
      "----------------------------------------------\n",
      "Getting EEG raw data\n",
      "\n",
      "----------------------------------------------\n",
      "Preprocessing EEG\n",
      "TO DO - Preprocess of raw EEG\n",
      "\n",
      "----------------------------------------------\n",
      "Getting power spectra\n",
      "\n",
      "----------------------------------------------\n",
      "Completing Spectral Parameterisation\n"
     ]
    },
    {
     "name": "stderr",
     "output_type": "stream",
     "text": [
      "/var/folders/wd/rhzj_w8570g_y66t6j6mh4zw0000gn/T/ipykernel_51414/345241518.py:36: RuntimeWarning: The data contains 'boundary' events, indicating data discontinuities. Be cautious of filtering and epoching around these events.\n",
      "  eeg_dataset_raw = mne.io.read_raw_eeglab(eeg_lab_file_path, preload=True)\n"
     ]
    },
    {
     "data": {
      "application/vnd.jupyter.widget-view+json": {
       "model_id": "1fbb27a8966f41d29f401f8750d38c32",
       "version_major": 2,
       "version_minor": 0
      },
      "text/plain": [
       "Running group fits.:   0%|          | 0/63 [00:00<?, ?it/s]"
      ]
     },
     "metadata": {},
     "output_type": "display_data"
    },
    {
     "name": "stdout",
     "output_type": "stream",
     "text": [
      "\n",
      "----------------------------------------------\n",
      "Collating Study Features\n",
      "\n",
      "-----------------------------------------------------------------------------------------------\n",
      "Processing subject: sub-109\n",
      "\n",
      "----------------------------------------------\n",
      "Getting EEG raw data\n",
      "\n",
      "----------------------------------------------\n",
      "Preprocessing EEG\n",
      "TO DO - Preprocess of raw EEG\n",
      "\n",
      "----------------------------------------------\n",
      "Getting power spectra\n",
      "\n",
      "----------------------------------------------\n",
      "Completing Spectral Parameterisation\n"
     ]
    },
    {
     "name": "stderr",
     "output_type": "stream",
     "text": [
      "/var/folders/wd/rhzj_w8570g_y66t6j6mh4zw0000gn/T/ipykernel_51414/345241518.py:36: RuntimeWarning: The data contains 'boundary' events, indicating data discontinuities. Be cautious of filtering and epoching around these events.\n",
      "  eeg_dataset_raw = mne.io.read_raw_eeglab(eeg_lab_file_path, preload=True)\n"
     ]
    },
    {
     "data": {
      "application/vnd.jupyter.widget-view+json": {
       "model_id": "c02f2bedb467474086735225e72224ae",
       "version_major": 2,
       "version_minor": 0
      },
      "text/plain": [
       "Running group fits.:   0%|          | 0/63 [00:00<?, ?it/s]"
      ]
     },
     "metadata": {},
     "output_type": "display_data"
    },
    {
     "name": "stdout",
     "output_type": "stream",
     "text": [
      "\n",
      "----------------------------------------------\n",
      "Collating Study Features\n",
      "\n",
      "-----------------------------------------------------------------------------------------------\n",
      "Processing subject: sub-110\n",
      "\n",
      "----------------------------------------------\n",
      "Getting EEG raw data\n",
      "\n",
      "----------------------------------------------\n",
      "Preprocessing EEG\n",
      "TO DO - Preprocess of raw EEG\n",
      "\n",
      "----------------------------------------------\n",
      "Getting power spectra\n",
      "\n",
      "----------------------------------------------\n",
      "Completing Spectral Parameterisation\n"
     ]
    },
    {
     "name": "stderr",
     "output_type": "stream",
     "text": [
      "/var/folders/wd/rhzj_w8570g_y66t6j6mh4zw0000gn/T/ipykernel_51414/345241518.py:36: RuntimeWarning: The data contains 'boundary' events, indicating data discontinuities. Be cautious of filtering and epoching around these events.\n",
      "  eeg_dataset_raw = mne.io.read_raw_eeglab(eeg_lab_file_path, preload=True)\n"
     ]
    },
    {
     "data": {
      "application/vnd.jupyter.widget-view+json": {
       "model_id": "a1c75fcd83454cac94cd5776795099fd",
       "version_major": 2,
       "version_minor": 0
      },
      "text/plain": [
       "Running group fits.:   0%|          | 0/63 [00:00<?, ?it/s]"
      ]
     },
     "metadata": {},
     "output_type": "display_data"
    },
    {
     "name": "stdout",
     "output_type": "stream",
     "text": [
      "\n",
      "----------------------------------------------\n",
      "Collating Study Features\n",
      "\n",
      "-----------------------------------------------------------------------------------------------\n",
      "Processing subject: sub-111\n",
      "\n",
      "----------------------------------------------\n",
      "Getting EEG raw data\n",
      "\n",
      "----------------------------------------------\n",
      "Preprocessing EEG\n",
      "TO DO - Preprocess of raw EEG\n",
      "\n",
      "----------------------------------------------\n",
      "Getting power spectra\n",
      "\n",
      "----------------------------------------------\n",
      "Completing Spectral Parameterisation\n"
     ]
    },
    {
     "name": "stderr",
     "output_type": "stream",
     "text": [
      "/var/folders/wd/rhzj_w8570g_y66t6j6mh4zw0000gn/T/ipykernel_51414/345241518.py:36: RuntimeWarning: The data contains 'boundary' events, indicating data discontinuities. Be cautious of filtering and epoching around these events.\n",
      "  eeg_dataset_raw = mne.io.read_raw_eeglab(eeg_lab_file_path, preload=True)\n"
     ]
    },
    {
     "data": {
      "application/vnd.jupyter.widget-view+json": {
       "model_id": "a2077a5e14be4ac1bea692fb059b3cc2",
       "version_major": 2,
       "version_minor": 0
      },
      "text/plain": [
       "Running group fits.:   0%|          | 0/63 [00:00<?, ?it/s]"
      ]
     },
     "metadata": {},
     "output_type": "display_data"
    },
    {
     "name": "stdout",
     "output_type": "stream",
     "text": [
      "\n",
      "----------------------------------------------\n",
      "Collating Study Features\n",
      "\n",
      "-----------------------------------------------------------------------------------------------\n",
      "Processing subject: sub-112\n",
      "\n",
      "----------------------------------------------\n",
      "Getting EEG raw data\n",
      "\n",
      "----------------------------------------------\n",
      "Preprocessing EEG\n",
      "TO DO - Preprocess of raw EEG\n",
      "\n",
      "----------------------------------------------\n",
      "Getting power spectra\n",
      "\n",
      "----------------------------------------------\n",
      "Completing Spectral Parameterisation\n"
     ]
    },
    {
     "name": "stderr",
     "output_type": "stream",
     "text": [
      "/var/folders/wd/rhzj_w8570g_y66t6j6mh4zw0000gn/T/ipykernel_51414/345241518.py:36: RuntimeWarning: The data contains 'boundary' events, indicating data discontinuities. Be cautious of filtering and epoching around these events.\n",
      "  eeg_dataset_raw = mne.io.read_raw_eeglab(eeg_lab_file_path, preload=True)\n"
     ]
    },
    {
     "data": {
      "application/vnd.jupyter.widget-view+json": {
       "model_id": "c3a76fd6da774ff8b4465e83c88a7021",
       "version_major": 2,
       "version_minor": 0
      },
      "text/plain": [
       "Running group fits.:   0%|          | 0/63 [00:00<?, ?it/s]"
      ]
     },
     "metadata": {},
     "output_type": "display_data"
    },
    {
     "name": "stdout",
     "output_type": "stream",
     "text": [
      "\n",
      "----------------------------------------------\n",
      "Collating Study Features\n",
      "\n",
      "-----------------------------------------------------------------------------------------------\n",
      "Processing subject: sub-113\n",
      "\n",
      "----------------------------------------------\n",
      "Getting EEG raw data\n",
      "\n",
      "----------------------------------------------\n",
      "Preprocessing EEG\n",
      "TO DO - Preprocess of raw EEG\n",
      "\n",
      "----------------------------------------------\n",
      "Getting power spectra\n",
      "\n",
      "----------------------------------------------\n",
      "Completing Spectral Parameterisation\n"
     ]
    },
    {
     "name": "stderr",
     "output_type": "stream",
     "text": [
      "/var/folders/wd/rhzj_w8570g_y66t6j6mh4zw0000gn/T/ipykernel_51414/345241518.py:36: RuntimeWarning: The data contains 'boundary' events, indicating data discontinuities. Be cautious of filtering and epoching around these events.\n",
      "  eeg_dataset_raw = mne.io.read_raw_eeglab(eeg_lab_file_path, preload=True)\n"
     ]
    },
    {
     "data": {
      "application/vnd.jupyter.widget-view+json": {
       "model_id": "c09263e460f54f17a78b6b0bb0f40e6b",
       "version_major": 2,
       "version_minor": 0
      },
      "text/plain": [
       "Running group fits.:   0%|          | 0/63 [00:00<?, ?it/s]"
      ]
     },
     "metadata": {},
     "output_type": "display_data"
    },
    {
     "name": "stdout",
     "output_type": "stream",
     "text": [
      "\n",
      "----------------------------------------------\n",
      "Collating Study Features\n",
      "\n",
      "-----------------------------------------------------------------------------------------------\n",
      "Processing subject: sub-114\n",
      "\n",
      "----------------------------------------------\n",
      "Getting EEG raw data\n",
      "\n",
      "----------------------------------------------\n",
      "Preprocessing EEG\n",
      "TO DO - Preprocess of raw EEG\n",
      "\n",
      "----------------------------------------------\n",
      "Getting power spectra\n",
      "\n",
      "----------------------------------------------\n",
      "Completing Spectral Parameterisation\n"
     ]
    },
    {
     "name": "stderr",
     "output_type": "stream",
     "text": [
      "/var/folders/wd/rhzj_w8570g_y66t6j6mh4zw0000gn/T/ipykernel_51414/345241518.py:36: RuntimeWarning: The data contains 'boundary' events, indicating data discontinuities. Be cautious of filtering and epoching around these events.\n",
      "  eeg_dataset_raw = mne.io.read_raw_eeglab(eeg_lab_file_path, preload=True)\n"
     ]
    },
    {
     "data": {
      "application/vnd.jupyter.widget-view+json": {
       "model_id": "97d4e04f529145e299e3b227c03fa3be",
       "version_major": 2,
       "version_minor": 0
      },
      "text/plain": [
       "Running group fits.:   0%|          | 0/63 [00:00<?, ?it/s]"
      ]
     },
     "metadata": {},
     "output_type": "display_data"
    },
    {
     "name": "stdout",
     "output_type": "stream",
     "text": [
      "\n",
      "----------------------------------------------\n",
      "Collating Study Features\n",
      "\n",
      "-----------------------------------------------------------------------------------------------\n",
      "Processing subject: sub-115\n",
      "\n",
      "----------------------------------------------\n",
      "Getting EEG raw data\n",
      "\n",
      "----------------------------------------------\n",
      "Preprocessing EEG\n",
      "TO DO - Preprocess of raw EEG\n",
      "\n",
      "----------------------------------------------\n",
      "Getting power spectra\n",
      "\n",
      "----------------------------------------------\n",
      "Completing Spectral Parameterisation\n"
     ]
    },
    {
     "name": "stderr",
     "output_type": "stream",
     "text": [
      "/var/folders/wd/rhzj_w8570g_y66t6j6mh4zw0000gn/T/ipykernel_51414/345241518.py:36: RuntimeWarning: The data contains 'boundary' events, indicating data discontinuities. Be cautious of filtering and epoching around these events.\n",
      "  eeg_dataset_raw = mne.io.read_raw_eeglab(eeg_lab_file_path, preload=True)\n"
     ]
    },
    {
     "data": {
      "application/vnd.jupyter.widget-view+json": {
       "model_id": "e2fb17ac61e5479ba343ef30b55211da",
       "version_major": 2,
       "version_minor": 0
      },
      "text/plain": [
       "Running group fits.:   0%|          | 0/63 [00:00<?, ?it/s]"
      ]
     },
     "metadata": {},
     "output_type": "display_data"
    },
    {
     "name": "stdout",
     "output_type": "stream",
     "text": [
      "\n",
      "----------------------------------------------\n",
      "Collating Study Features\n",
      "\n",
      "-----------------------------------------------------------------------------------------------\n",
      "Processing subject: sub-116\n",
      "\n",
      "----------------------------------------------\n",
      "Getting EEG raw data\n",
      "\n",
      "----------------------------------------------\n",
      "Preprocessing EEG\n",
      "TO DO - Preprocess of raw EEG\n",
      "\n",
      "----------------------------------------------\n",
      "Getting power spectra\n",
      "\n",
      "----------------------------------------------\n",
      "Completing Spectral Parameterisation\n"
     ]
    },
    {
     "name": "stderr",
     "output_type": "stream",
     "text": [
      "/var/folders/wd/rhzj_w8570g_y66t6j6mh4zw0000gn/T/ipykernel_51414/345241518.py:36: RuntimeWarning: The data contains 'boundary' events, indicating data discontinuities. Be cautious of filtering and epoching around these events.\n",
      "  eeg_dataset_raw = mne.io.read_raw_eeglab(eeg_lab_file_path, preload=True)\n"
     ]
    },
    {
     "data": {
      "application/vnd.jupyter.widget-view+json": {
       "model_id": "05dcd36bd3af49329ab4a3779ccd2493",
       "version_major": 2,
       "version_minor": 0
      },
      "text/plain": [
       "Running group fits.:   0%|          | 0/63 [00:00<?, ?it/s]"
      ]
     },
     "metadata": {},
     "output_type": "display_data"
    },
    {
     "name": "stdout",
     "output_type": "stream",
     "text": [
      "\n",
      "----------------------------------------------\n",
      "Collating Study Features\n",
      "\n",
      "-----------------------------------------------------------------------------------------------\n",
      "Processing subject: sub-117\n",
      "\n",
      "----------------------------------------------\n",
      "Getting EEG raw data\n",
      "\n",
      "----------------------------------------------\n",
      "Preprocessing EEG\n",
      "TO DO - Preprocess of raw EEG\n",
      "\n",
      "----------------------------------------------\n",
      "Getting power spectra\n",
      "\n",
      "----------------------------------------------\n",
      "Completing Spectral Parameterisation\n"
     ]
    },
    {
     "name": "stderr",
     "output_type": "stream",
     "text": [
      "/var/folders/wd/rhzj_w8570g_y66t6j6mh4zw0000gn/T/ipykernel_51414/345241518.py:36: RuntimeWarning: The data contains 'boundary' events, indicating data discontinuities. Be cautious of filtering and epoching around these events.\n",
      "  eeg_dataset_raw = mne.io.read_raw_eeglab(eeg_lab_file_path, preload=True)\n"
     ]
    },
    {
     "data": {
      "application/vnd.jupyter.widget-view+json": {
       "model_id": "0f7d8bef5f6b4c859031464b0412870a",
       "version_major": 2,
       "version_minor": 0
      },
      "text/plain": [
       "Running group fits.:   0%|          | 0/63 [00:00<?, ?it/s]"
      ]
     },
     "metadata": {},
     "output_type": "display_data"
    },
    {
     "name": "stdout",
     "output_type": "stream",
     "text": [
      "\n",
      "----------------------------------------------\n",
      "Collating Study Features\n",
      "\n",
      "-----------------------------------------------------------------------------------------------\n",
      "Processing subject: sub-118\n",
      "\n",
      "----------------------------------------------\n",
      "Getting EEG raw data\n",
      "\n",
      "----------------------------------------------\n",
      "Preprocessing EEG\n",
      "TO DO - Preprocess of raw EEG\n",
      "\n",
      "----------------------------------------------\n",
      "Getting power spectra\n",
      "\n",
      "----------------------------------------------\n",
      "Completing Spectral Parameterisation\n"
     ]
    },
    {
     "name": "stderr",
     "output_type": "stream",
     "text": [
      "/var/folders/wd/rhzj_w8570g_y66t6j6mh4zw0000gn/T/ipykernel_51414/345241518.py:36: RuntimeWarning: The data contains 'boundary' events, indicating data discontinuities. Be cautious of filtering and epoching around these events.\n",
      "  eeg_dataset_raw = mne.io.read_raw_eeglab(eeg_lab_file_path, preload=True)\n"
     ]
    },
    {
     "data": {
      "application/vnd.jupyter.widget-view+json": {
       "model_id": "e1c0ec9a8c46402e97d7ea0546a3b4aa",
       "version_major": 2,
       "version_minor": 0
      },
      "text/plain": [
       "Running group fits.:   0%|          | 0/63 [00:00<?, ?it/s]"
      ]
     },
     "metadata": {},
     "output_type": "display_data"
    },
    {
     "name": "stdout",
     "output_type": "stream",
     "text": [
      "\n",
      "----------------------------------------------\n",
      "Collating Study Features\n",
      "\n",
      "-----------------------------------------------------------------------------------------------\n",
      "Processing subject: sub-119\n",
      "\n",
      "----------------------------------------------\n",
      "Getting EEG raw data\n",
      "\n",
      "----------------------------------------------\n",
      "Preprocessing EEG\n",
      "TO DO - Preprocess of raw EEG\n",
      "\n",
      "----------------------------------------------\n",
      "Getting power spectra\n",
      "\n",
      "----------------------------------------------\n",
      "Completing Spectral Parameterisation\n"
     ]
    },
    {
     "name": "stderr",
     "output_type": "stream",
     "text": [
      "/var/folders/wd/rhzj_w8570g_y66t6j6mh4zw0000gn/T/ipykernel_51414/345241518.py:36: RuntimeWarning: The data contains 'boundary' events, indicating data discontinuities. Be cautious of filtering and epoching around these events.\n",
      "  eeg_dataset_raw = mne.io.read_raw_eeglab(eeg_lab_file_path, preload=True)\n"
     ]
    },
    {
     "data": {
      "application/vnd.jupyter.widget-view+json": {
       "model_id": "56a9d12949804169a33d887647643cbb",
       "version_major": 2,
       "version_minor": 0
      },
      "text/plain": [
       "Running group fits.:   0%|          | 0/63 [00:00<?, ?it/s]"
      ]
     },
     "metadata": {},
     "output_type": "display_data"
    },
    {
     "name": "stdout",
     "output_type": "stream",
     "text": [
      "\n",
      "----------------------------------------------\n",
      "Collating Study Features\n",
      "\n",
      "-----------------------------------------------------------------------------------------------\n",
      "Processing subject: sub-120\n",
      "\n",
      "----------------------------------------------\n",
      "Getting EEG raw data\n",
      "\n",
      "----------------------------------------------\n",
      "Preprocessing EEG\n",
      "TO DO - Preprocess of raw EEG\n",
      "\n",
      "----------------------------------------------\n",
      "Getting power spectra\n",
      "\n",
      "----------------------------------------------\n",
      "Completing Spectral Parameterisation\n"
     ]
    },
    {
     "name": "stderr",
     "output_type": "stream",
     "text": [
      "/var/folders/wd/rhzj_w8570g_y66t6j6mh4zw0000gn/T/ipykernel_51414/345241518.py:36: RuntimeWarning: The data contains 'boundary' events, indicating data discontinuities. Be cautious of filtering and epoching around these events.\n",
      "  eeg_dataset_raw = mne.io.read_raw_eeglab(eeg_lab_file_path, preload=True)\n"
     ]
    },
    {
     "data": {
      "application/vnd.jupyter.widget-view+json": {
       "model_id": "7755d3b0b1934362974e48dfd35bce04",
       "version_major": 2,
       "version_minor": 0
      },
      "text/plain": [
       "Running group fits.:   0%|          | 0/63 [00:00<?, ?it/s]"
      ]
     },
     "metadata": {},
     "output_type": "display_data"
    },
    {
     "name": "stdout",
     "output_type": "stream",
     "text": [
      "\n",
      "----------------------------------------------\n",
      "Collating Study Features\n",
      "\n",
      "-----------------------------------------------------------------------------------------------\n",
      "Processing subject: sub-121\n",
      "\n",
      "----------------------------------------------\n",
      "Getting EEG raw data\n",
      "\n",
      "----------------------------------------------\n",
      "Preprocessing EEG\n",
      "TO DO - Preprocess of raw EEG\n",
      "\n",
      "----------------------------------------------\n",
      "Getting power spectra\n",
      "\n",
      "----------------------------------------------\n",
      "Completing Spectral Parameterisation\n"
     ]
    },
    {
     "name": "stderr",
     "output_type": "stream",
     "text": [
      "/var/folders/wd/rhzj_w8570g_y66t6j6mh4zw0000gn/T/ipykernel_51414/345241518.py:36: RuntimeWarning: The data contains 'boundary' events, indicating data discontinuities. Be cautious of filtering and epoching around these events.\n",
      "  eeg_dataset_raw = mne.io.read_raw_eeglab(eeg_lab_file_path, preload=True)\n"
     ]
    },
    {
     "data": {
      "application/vnd.jupyter.widget-view+json": {
       "model_id": "639941ff007840668b2a8c4ffd29dbfc",
       "version_major": 2,
       "version_minor": 0
      },
      "text/plain": [
       "Running group fits.:   0%|          | 0/63 [00:00<?, ?it/s]"
      ]
     },
     "metadata": {},
     "output_type": "display_data"
    },
    {
     "name": "stdout",
     "output_type": "stream",
     "text": [
      "\n",
      "----------------------------------------------\n",
      "Collating Study Features\n",
      "\n",
      "-----------------------------------------------------------------------------------------------\n",
      "Processing subject: sub-122\n",
      "\n",
      "----------------------------------------------\n",
      "Getting EEG raw data\n",
      "\n",
      "----------------------------------------------\n",
      "Preprocessing EEG\n",
      "TO DO - Preprocess of raw EEG\n",
      "\n",
      "----------------------------------------------\n",
      "Getting power spectra\n",
      "\n",
      "----------------------------------------------\n",
      "Completing Spectral Parameterisation\n"
     ]
    },
    {
     "name": "stderr",
     "output_type": "stream",
     "text": [
      "/var/folders/wd/rhzj_w8570g_y66t6j6mh4zw0000gn/T/ipykernel_51414/345241518.py:36: RuntimeWarning: The data contains 'boundary' events, indicating data discontinuities. Be cautious of filtering and epoching around these events.\n",
      "  eeg_dataset_raw = mne.io.read_raw_eeglab(eeg_lab_file_path, preload=True)\n"
     ]
    },
    {
     "data": {
      "application/vnd.jupyter.widget-view+json": {
       "model_id": "a1ab6be70362427aa3c3306b1586216d",
       "version_major": 2,
       "version_minor": 0
      },
      "text/plain": [
       "Running group fits.:   0%|          | 0/63 [00:00<?, ?it/s]"
      ]
     },
     "metadata": {},
     "output_type": "display_data"
    },
    {
     "name": "stdout",
     "output_type": "stream",
     "text": [
      "\n",
      "----------------------------------------------\n",
      "Collating Study Features\n",
      "\n",
      "-----------------------------------------------------------------------------------------------\n",
      "Processing subject: sub-123\n",
      "\n",
      "----------------------------------------------\n",
      "Getting EEG raw data\n",
      "\n",
      "----------------------------------------------\n",
      "Preprocessing EEG\n",
      "TO DO - Preprocess of raw EEG\n",
      "\n",
      "----------------------------------------------\n",
      "Getting power spectra\n",
      "\n",
      "----------------------------------------------\n",
      "Completing Spectral Parameterisation\n"
     ]
    },
    {
     "name": "stderr",
     "output_type": "stream",
     "text": [
      "/var/folders/wd/rhzj_w8570g_y66t6j6mh4zw0000gn/T/ipykernel_51414/345241518.py:36: RuntimeWarning: The data contains 'boundary' events, indicating data discontinuities. Be cautious of filtering and epoching around these events.\n",
      "  eeg_dataset_raw = mne.io.read_raw_eeglab(eeg_lab_file_path, preload=True)\n"
     ]
    },
    {
     "data": {
      "application/vnd.jupyter.widget-view+json": {
       "model_id": "f39993af6da84d43bdca9b1c3d43bf2e",
       "version_major": 2,
       "version_minor": 0
      },
      "text/plain": [
       "Running group fits.:   0%|          | 0/63 [00:00<?, ?it/s]"
      ]
     },
     "metadata": {},
     "output_type": "display_data"
    },
    {
     "name": "stdout",
     "output_type": "stream",
     "text": [
      "\n",
      "----------------------------------------------\n",
      "Collating Study Features\n",
      "\n",
      "-----------------------------------------------------------------------------------------------\n",
      "Processing subject: sub-124\n",
      "\n",
      "----------------------------------------------\n",
      "Getting EEG raw data\n",
      "\n",
      "----------------------------------------------\n",
      "Preprocessing EEG\n",
      "TO DO - Preprocess of raw EEG\n",
      "\n",
      "----------------------------------------------\n",
      "Getting power spectra\n",
      "\n",
      "----------------------------------------------\n",
      "Completing Spectral Parameterisation\n"
     ]
    },
    {
     "name": "stderr",
     "output_type": "stream",
     "text": [
      "/var/folders/wd/rhzj_w8570g_y66t6j6mh4zw0000gn/T/ipykernel_51414/345241518.py:36: RuntimeWarning: The data contains 'boundary' events, indicating data discontinuities. Be cautious of filtering and epoching around these events.\n",
      "  eeg_dataset_raw = mne.io.read_raw_eeglab(eeg_lab_file_path, preload=True)\n"
     ]
    },
    {
     "data": {
      "application/vnd.jupyter.widget-view+json": {
       "model_id": "eeb87dba8d6b48858335f3ee65fd7a39",
       "version_major": 2,
       "version_minor": 0
      },
      "text/plain": [
       "Running group fits.:   0%|          | 0/63 [00:00<?, ?it/s]"
      ]
     },
     "metadata": {},
     "output_type": "display_data"
    },
    {
     "name": "stdout",
     "output_type": "stream",
     "text": [
      "\n",
      "----------------------------------------------\n",
      "Collating Study Features\n",
      "\n",
      "-----------------------------------------------------------------------------------------------\n",
      "Processing subject: sub-125\n",
      "\n",
      "----------------------------------------------\n",
      "Getting EEG raw data\n",
      "\n",
      "----------------------------------------------\n",
      "Preprocessing EEG\n",
      "TO DO - Preprocess of raw EEG\n",
      "\n",
      "----------------------------------------------\n",
      "Getting power spectra\n",
      "\n",
      "----------------------------------------------\n",
      "Completing Spectral Parameterisation\n"
     ]
    },
    {
     "name": "stderr",
     "output_type": "stream",
     "text": [
      "/var/folders/wd/rhzj_w8570g_y66t6j6mh4zw0000gn/T/ipykernel_51414/345241518.py:36: RuntimeWarning: The data contains 'boundary' events, indicating data discontinuities. Be cautious of filtering and epoching around these events.\n",
      "  eeg_dataset_raw = mne.io.read_raw_eeglab(eeg_lab_file_path, preload=True)\n"
     ]
    },
    {
     "data": {
      "application/vnd.jupyter.widget-view+json": {
       "model_id": "ba2df0642b494bfbbc50b668abc581c4",
       "version_major": 2,
       "version_minor": 0
      },
      "text/plain": [
       "Running group fits.:   0%|          | 0/63 [00:00<?, ?it/s]"
      ]
     },
     "metadata": {},
     "output_type": "display_data"
    },
    {
     "name": "stdout",
     "output_type": "stream",
     "text": [
      "\n",
      "----------------------------------------------\n",
      "Collating Study Features\n",
      "\n",
      "-----------------------------------------------------------------------------------------------\n",
      "Processing subject: sub-126\n",
      "\n",
      "----------------------------------------------\n",
      "Getting EEG raw data\n",
      "\n",
      "----------------------------------------------\n",
      "Preprocessing EEG\n",
      "TO DO - Preprocess of raw EEG\n",
      "\n",
      "----------------------------------------------\n",
      "Getting power spectra\n",
      "\n",
      "----------------------------------------------\n",
      "Completing Spectral Parameterisation\n"
     ]
    },
    {
     "name": "stderr",
     "output_type": "stream",
     "text": [
      "/var/folders/wd/rhzj_w8570g_y66t6j6mh4zw0000gn/T/ipykernel_51414/345241518.py:36: RuntimeWarning: The data contains 'boundary' events, indicating data discontinuities. Be cautious of filtering and epoching around these events.\n",
      "  eeg_dataset_raw = mne.io.read_raw_eeglab(eeg_lab_file_path, preload=True)\n"
     ]
    },
    {
     "data": {
      "application/vnd.jupyter.widget-view+json": {
       "model_id": "de3bad77e2524e1cb3e8f32d3654e0b0",
       "version_major": 2,
       "version_minor": 0
      },
      "text/plain": [
       "Running group fits.:   0%|          | 0/63 [00:00<?, ?it/s]"
      ]
     },
     "metadata": {},
     "output_type": "display_data"
    },
    {
     "name": "stdout",
     "output_type": "stream",
     "text": [
      "\n",
      "----------------------------------------------\n",
      "Collating Study Features\n",
      "\n",
      "-----------------------------------------------------------------------------------------------\n",
      "Processing subject: sub-127\n",
      "\n",
      "----------------------------------------------\n",
      "Getting EEG raw data\n",
      "\n",
      "----------------------------------------------\n",
      "Preprocessing EEG\n",
      "TO DO - Preprocess of raw EEG\n",
      "\n",
      "----------------------------------------------\n",
      "Getting power spectra\n",
      "\n",
      "----------------------------------------------\n",
      "Completing Spectral Parameterisation\n"
     ]
    },
    {
     "name": "stderr",
     "output_type": "stream",
     "text": [
      "/var/folders/wd/rhzj_w8570g_y66t6j6mh4zw0000gn/T/ipykernel_51414/345241518.py:36: RuntimeWarning: The data contains 'boundary' events, indicating data discontinuities. Be cautious of filtering and epoching around these events.\n",
      "  eeg_dataset_raw = mne.io.read_raw_eeglab(eeg_lab_file_path, preload=True)\n"
     ]
    },
    {
     "data": {
      "application/vnd.jupyter.widget-view+json": {
       "model_id": "ca722a5a5575440281fd908907bdf141",
       "version_major": 2,
       "version_minor": 0
      },
      "text/plain": [
       "Running group fits.:   0%|          | 0/63 [00:00<?, ?it/s]"
      ]
     },
     "metadata": {},
     "output_type": "display_data"
    },
    {
     "name": "stdout",
     "output_type": "stream",
     "text": [
      "\n",
      "----------------------------------------------\n",
      "Collating Study Features\n",
      "\n",
      "-----------------------------------------------------------------------------------------------\n",
      "Processing subject: sub-128\n",
      "\n",
      "----------------------------------------------\n",
      "Getting EEG raw data\n",
      "\n",
      "----------------------------------------------\n",
      "Preprocessing EEG\n",
      "TO DO - Preprocess of raw EEG\n",
      "\n",
      "----------------------------------------------\n",
      "Getting power spectra\n",
      "\n",
      "----------------------------------------------\n",
      "Completing Spectral Parameterisation\n"
     ]
    },
    {
     "name": "stderr",
     "output_type": "stream",
     "text": [
      "/var/folders/wd/rhzj_w8570g_y66t6j6mh4zw0000gn/T/ipykernel_51414/345241518.py:36: RuntimeWarning: The data contains 'boundary' events, indicating data discontinuities. Be cautious of filtering and epoching around these events.\n",
      "  eeg_dataset_raw = mne.io.read_raw_eeglab(eeg_lab_file_path, preload=True)\n"
     ]
    },
    {
     "data": {
      "application/vnd.jupyter.widget-view+json": {
       "model_id": "70a7dec9cf214c3c8a2d6f36e79e9200",
       "version_major": 2,
       "version_minor": 0
      },
      "text/plain": [
       "Running group fits.:   0%|          | 0/63 [00:00<?, ?it/s]"
      ]
     },
     "metadata": {},
     "output_type": "display_data"
    },
    {
     "name": "stdout",
     "output_type": "stream",
     "text": [
      "\n",
      "----------------------------------------------\n",
      "Collating Study Features\n",
      "\n",
      "-----------------------------------------------------------------------------------------------\n",
      "Processing subject: sub-129\n",
      "\n",
      "----------------------------------------------\n",
      "Getting EEG raw data\n",
      "\n",
      "----------------------------------------------\n",
      "Preprocessing EEG\n",
      "TO DO - Preprocess of raw EEG\n",
      "\n",
      "----------------------------------------------\n",
      "Getting power spectra\n",
      "\n",
      "----------------------------------------------\n",
      "Completing Spectral Parameterisation\n"
     ]
    },
    {
     "name": "stderr",
     "output_type": "stream",
     "text": [
      "/var/folders/wd/rhzj_w8570g_y66t6j6mh4zw0000gn/T/ipykernel_51414/345241518.py:36: RuntimeWarning: The data contains 'boundary' events, indicating data discontinuities. Be cautious of filtering and epoching around these events.\n",
      "  eeg_dataset_raw = mne.io.read_raw_eeglab(eeg_lab_file_path, preload=True)\n"
     ]
    },
    {
     "data": {
      "application/vnd.jupyter.widget-view+json": {
       "model_id": "cb9d503d8b42469e8ae6f54f10f45d95",
       "version_major": 2,
       "version_minor": 0
      },
      "text/plain": [
       "Running group fits.:   0%|          | 0/63 [00:00<?, ?it/s]"
      ]
     },
     "metadata": {},
     "output_type": "display_data"
    },
    {
     "name": "stdout",
     "output_type": "stream",
     "text": [
      "\n",
      "----------------------------------------------\n",
      "Collating Study Features\n",
      "\n",
      "-----------------------------------------------------------------------------------------------\n",
      "Processing subject: sub-130\n",
      "\n",
      "----------------------------------------------\n",
      "Getting EEG raw data\n",
      "\n",
      "----------------------------------------------\n",
      "Preprocessing EEG\n",
      "TO DO - Preprocess of raw EEG\n",
      "\n",
      "----------------------------------------------\n",
      "Getting power spectra\n",
      "\n",
      "----------------------------------------------\n",
      "Completing Spectral Parameterisation\n"
     ]
    },
    {
     "name": "stderr",
     "output_type": "stream",
     "text": [
      "/var/folders/wd/rhzj_w8570g_y66t6j6mh4zw0000gn/T/ipykernel_51414/345241518.py:36: RuntimeWarning: The data contains 'boundary' events, indicating data discontinuities. Be cautious of filtering and epoching around these events.\n",
      "  eeg_dataset_raw = mne.io.read_raw_eeglab(eeg_lab_file_path, preload=True)\n"
     ]
    },
    {
     "data": {
      "application/vnd.jupyter.widget-view+json": {
       "model_id": "ee47b6a0e2fd4f918eb0106cd2411fe1",
       "version_major": 2,
       "version_minor": 0
      },
      "text/plain": [
       "Running group fits.:   0%|          | 0/63 [00:00<?, ?it/s]"
      ]
     },
     "metadata": {},
     "output_type": "display_data"
    },
    {
     "name": "stdout",
     "output_type": "stream",
     "text": [
      "\n",
      "----------------------------------------------\n",
      "Collating Study Features\n",
      "\n",
      "-----------------------------------------------------------------------------------------------\n",
      "Processing subject: sub-131\n",
      "\n",
      "----------------------------------------------\n",
      "Getting EEG raw data\n",
      "\n",
      "----------------------------------------------\n",
      "Preprocessing EEG\n",
      "TO DO - Preprocess of raw EEG\n",
      "\n",
      "----------------------------------------------\n",
      "Getting power spectra\n",
      "\n",
      "----------------------------------------------\n",
      "Completing Spectral Parameterisation\n"
     ]
    },
    {
     "name": "stderr",
     "output_type": "stream",
     "text": [
      "/var/folders/wd/rhzj_w8570g_y66t6j6mh4zw0000gn/T/ipykernel_51414/345241518.py:36: RuntimeWarning: The data contains 'boundary' events, indicating data discontinuities. Be cautious of filtering and epoching around these events.\n",
      "  eeg_dataset_raw = mne.io.read_raw_eeglab(eeg_lab_file_path, preload=True)\n"
     ]
    },
    {
     "data": {
      "application/vnd.jupyter.widget-view+json": {
       "model_id": "c903366c0acc4199868032a5dbc13423",
       "version_major": 2,
       "version_minor": 0
      },
      "text/plain": [
       "Running group fits.:   0%|          | 0/63 [00:00<?, ?it/s]"
      ]
     },
     "metadata": {},
     "output_type": "display_data"
    },
    {
     "name": "stdout",
     "output_type": "stream",
     "text": [
      "\n",
      "----------------------------------------------\n",
      "Collating Study Features\n",
      "\n",
      "-----------------------------------------------------------------------------------------------\n",
      "Processing subject: sub-132\n",
      "\n",
      "----------------------------------------------\n",
      "Getting EEG raw data\n",
      "\n",
      "----------------------------------------------\n",
      "Preprocessing EEG\n",
      "TO DO - Preprocess of raw EEG\n",
      "\n",
      "----------------------------------------------\n",
      "Getting power spectra\n",
      "\n",
      "----------------------------------------------\n",
      "Completing Spectral Parameterisation\n"
     ]
    },
    {
     "name": "stderr",
     "output_type": "stream",
     "text": [
      "/var/folders/wd/rhzj_w8570g_y66t6j6mh4zw0000gn/T/ipykernel_51414/345241518.py:36: RuntimeWarning: The data contains 'boundary' events, indicating data discontinuities. Be cautious of filtering and epoching around these events.\n",
      "  eeg_dataset_raw = mne.io.read_raw_eeglab(eeg_lab_file_path, preload=True)\n"
     ]
    },
    {
     "data": {
      "application/vnd.jupyter.widget-view+json": {
       "model_id": "60675c5e30dd4500bd2ea372bcafb19f",
       "version_major": 2,
       "version_minor": 0
      },
      "text/plain": [
       "Running group fits.:   0%|          | 0/63 [00:00<?, ?it/s]"
      ]
     },
     "metadata": {},
     "output_type": "display_data"
    },
    {
     "name": "stdout",
     "output_type": "stream",
     "text": [
      "\n",
      "----------------------------------------------\n",
      "Collating Study Features\n",
      "\n",
      "-----------------------------------------------------------------------------------------------\n",
      "Processing subject: sub-133\n",
      "\n",
      "----------------------------------------------\n",
      "Getting EEG raw data\n",
      "\n",
      "----------------------------------------------\n",
      "Preprocessing EEG\n",
      "TO DO - Preprocess of raw EEG\n",
      "\n",
      "----------------------------------------------\n",
      "Getting power spectra\n",
      "\n",
      "----------------------------------------------\n",
      "Completing Spectral Parameterisation\n"
     ]
    },
    {
     "name": "stderr",
     "output_type": "stream",
     "text": [
      "/var/folders/wd/rhzj_w8570g_y66t6j6mh4zw0000gn/T/ipykernel_51414/345241518.py:36: RuntimeWarning: The data contains 'boundary' events, indicating data discontinuities. Be cautious of filtering and epoching around these events.\n",
      "  eeg_dataset_raw = mne.io.read_raw_eeglab(eeg_lab_file_path, preload=True)\n"
     ]
    },
    {
     "data": {
      "application/vnd.jupyter.widget-view+json": {
       "model_id": "ecdc40c1833b4bfba0d802f0c2f2aa66",
       "version_major": 2,
       "version_minor": 0
      },
      "text/plain": [
       "Running group fits.:   0%|          | 0/63 [00:00<?, ?it/s]"
      ]
     },
     "metadata": {},
     "output_type": "display_data"
    },
    {
     "name": "stdout",
     "output_type": "stream",
     "text": [
      "\n",
      "----------------------------------------------\n",
      "Collating Study Features\n",
      "\n",
      "-----------------------------------------------------------------------------------------------\n",
      "Processing subject: sub-134\n",
      "\n",
      "----------------------------------------------\n",
      "Getting EEG raw data\n",
      "\n",
      "----------------------------------------------\n",
      "Preprocessing EEG\n",
      "TO DO - Preprocess of raw EEG\n",
      "\n",
      "----------------------------------------------\n",
      "Getting power spectra\n",
      "\n",
      "----------------------------------------------\n",
      "Completing Spectral Parameterisation\n"
     ]
    },
    {
     "name": "stderr",
     "output_type": "stream",
     "text": [
      "/var/folders/wd/rhzj_w8570g_y66t6j6mh4zw0000gn/T/ipykernel_51414/345241518.py:36: RuntimeWarning: The data contains 'boundary' events, indicating data discontinuities. Be cautious of filtering and epoching around these events.\n",
      "  eeg_dataset_raw = mne.io.read_raw_eeglab(eeg_lab_file_path, preload=True)\n"
     ]
    },
    {
     "data": {
      "application/vnd.jupyter.widget-view+json": {
       "model_id": "3df0f245f60147b2ac178e8977fbd0a0",
       "version_major": 2,
       "version_minor": 0
      },
      "text/plain": [
       "Running group fits.:   0%|          | 0/63 [00:00<?, ?it/s]"
      ]
     },
     "metadata": {},
     "output_type": "display_data"
    },
    {
     "name": "stdout",
     "output_type": "stream",
     "text": [
      "\n",
      "----------------------------------------------\n",
      "Collating Study Features\n",
      "\n",
      "-----------------------------------------------------------------------------------------------\n",
      "Processing subject: sub-135\n",
      "\n",
      "----------------------------------------------\n",
      "Getting EEG raw data\n",
      "\n",
      "----------------------------------------------\n",
      "Preprocessing EEG\n",
      "TO DO - Preprocess of raw EEG\n",
      "\n",
      "----------------------------------------------\n",
      "Getting power spectra\n",
      "\n",
      "----------------------------------------------\n",
      "Completing Spectral Parameterisation\n"
     ]
    },
    {
     "name": "stderr",
     "output_type": "stream",
     "text": [
      "/var/folders/wd/rhzj_w8570g_y66t6j6mh4zw0000gn/T/ipykernel_51414/345241518.py:36: RuntimeWarning: The data contains 'boundary' events, indicating data discontinuities. Be cautious of filtering and epoching around these events.\n",
      "  eeg_dataset_raw = mne.io.read_raw_eeglab(eeg_lab_file_path, preload=True)\n"
     ]
    },
    {
     "data": {
      "application/vnd.jupyter.widget-view+json": {
       "model_id": "9714803d7a0143a8848a140cb00e431f",
       "version_major": 2,
       "version_minor": 0
      },
      "text/plain": [
       "Running group fits.:   0%|          | 0/63 [00:00<?, ?it/s]"
      ]
     },
     "metadata": {},
     "output_type": "display_data"
    },
    {
     "name": "stdout",
     "output_type": "stream",
     "text": [
      "\n",
      "----------------------------------------------\n",
      "Collating Study Features\n",
      "\n",
      "-----------------------------------------------------------------------------------------------\n",
      "Processing subject: sub-136\n",
      "\n",
      "----------------------------------------------\n",
      "Getting EEG raw data\n",
      "\n",
      "----------------------------------------------\n",
      "Preprocessing EEG\n",
      "TO DO - Preprocess of raw EEG\n",
      "\n",
      "----------------------------------------------\n",
      "Getting power spectra\n",
      "\n",
      "----------------------------------------------\n",
      "Completing Spectral Parameterisation\n"
     ]
    },
    {
     "name": "stderr",
     "output_type": "stream",
     "text": [
      "/var/folders/wd/rhzj_w8570g_y66t6j6mh4zw0000gn/T/ipykernel_51414/345241518.py:36: RuntimeWarning: The data contains 'boundary' events, indicating data discontinuities. Be cautious of filtering and epoching around these events.\n",
      "  eeg_dataset_raw = mne.io.read_raw_eeglab(eeg_lab_file_path, preload=True)\n"
     ]
    },
    {
     "data": {
      "application/vnd.jupyter.widget-view+json": {
       "model_id": "09d5f24d433d4d9daeae5f45527e6048",
       "version_major": 2,
       "version_minor": 0
      },
      "text/plain": [
       "Running group fits.:   0%|          | 0/63 [00:00<?, ?it/s]"
      ]
     },
     "metadata": {},
     "output_type": "display_data"
    },
    {
     "name": "stdout",
     "output_type": "stream",
     "text": [
      "\n",
      "----------------------------------------------\n",
      "Collating Study Features\n",
      "\n",
      "-----------------------------------------------------------------------------------------------\n",
      "Processing subject: sub-137\n",
      "\n",
      "----------------------------------------------\n",
      "Getting EEG raw data\n",
      "\n",
      "----------------------------------------------\n",
      "Preprocessing EEG\n",
      "TO DO - Preprocess of raw EEG\n",
      "\n",
      "----------------------------------------------\n",
      "Getting power spectra\n",
      "\n",
      "----------------------------------------------\n",
      "Completing Spectral Parameterisation\n"
     ]
    },
    {
     "name": "stderr",
     "output_type": "stream",
     "text": [
      "/var/folders/wd/rhzj_w8570g_y66t6j6mh4zw0000gn/T/ipykernel_51414/345241518.py:36: RuntimeWarning: The data contains 'boundary' events, indicating data discontinuities. Be cautious of filtering and epoching around these events.\n",
      "  eeg_dataset_raw = mne.io.read_raw_eeglab(eeg_lab_file_path, preload=True)\n"
     ]
    },
    {
     "data": {
      "application/vnd.jupyter.widget-view+json": {
       "model_id": "0756c0d5a5a24d35a0f8950bcd72a344",
       "version_major": 2,
       "version_minor": 0
      },
      "text/plain": [
       "Running group fits.:   0%|          | 0/63 [00:00<?, ?it/s]"
      ]
     },
     "metadata": {},
     "output_type": "display_data"
    },
    {
     "name": "stdout",
     "output_type": "stream",
     "text": [
      "\n",
      "----------------------------------------------\n",
      "Collating Study Features\n",
      "\n",
      "-----------------------------------------------------------------------------------------------\n",
      "Processing subject: sub-138\n",
      "\n",
      "----------------------------------------------\n",
      "Getting EEG raw data\n",
      "\n",
      "----------------------------------------------\n",
      "Preprocessing EEG\n",
      "TO DO - Preprocess of raw EEG\n",
      "\n",
      "----------------------------------------------\n",
      "Getting power spectra\n",
      "\n",
      "----------------------------------------------\n",
      "Completing Spectral Parameterisation\n"
     ]
    },
    {
     "name": "stderr",
     "output_type": "stream",
     "text": [
      "/var/folders/wd/rhzj_w8570g_y66t6j6mh4zw0000gn/T/ipykernel_51414/345241518.py:36: RuntimeWarning: The data contains 'boundary' events, indicating data discontinuities. Be cautious of filtering and epoching around these events.\n",
      "  eeg_dataset_raw = mne.io.read_raw_eeglab(eeg_lab_file_path, preload=True)\n"
     ]
    },
    {
     "data": {
      "application/vnd.jupyter.widget-view+json": {
       "model_id": "9bc92503896d402483e017f838194b50",
       "version_major": 2,
       "version_minor": 0
      },
      "text/plain": [
       "Running group fits.:   0%|          | 0/63 [00:00<?, ?it/s]"
      ]
     },
     "metadata": {},
     "output_type": "display_data"
    },
    {
     "name": "stdout",
     "output_type": "stream",
     "text": [
      "\n",
      "----------------------------------------------\n",
      "Collating Study Features\n",
      "\n",
      "-----------------------------------------------------------------------------------------------\n",
      "Processing subject: sub-139\n",
      "\n",
      "----------------------------------------------\n",
      "Getting EEG raw data\n",
      "\n",
      "----------------------------------------------\n",
      "Preprocessing EEG\n",
      "TO DO - Preprocess of raw EEG\n",
      "\n",
      "----------------------------------------------\n",
      "Getting power spectra\n",
      "\n",
      "----------------------------------------------\n",
      "Completing Spectral Parameterisation\n"
     ]
    },
    {
     "name": "stderr",
     "output_type": "stream",
     "text": [
      "/var/folders/wd/rhzj_w8570g_y66t6j6mh4zw0000gn/T/ipykernel_51414/345241518.py:36: RuntimeWarning: The data contains 'boundary' events, indicating data discontinuities. Be cautious of filtering and epoching around these events.\n",
      "  eeg_dataset_raw = mne.io.read_raw_eeglab(eeg_lab_file_path, preload=True)\n"
     ]
    },
    {
     "data": {
      "application/vnd.jupyter.widget-view+json": {
       "model_id": "c2a347dd2dec4328af502da9c07cfbec",
       "version_major": 2,
       "version_minor": 0
      },
      "text/plain": [
       "Running group fits.:   0%|          | 0/63 [00:00<?, ?it/s]"
      ]
     },
     "metadata": {},
     "output_type": "display_data"
    },
    {
     "name": "stdout",
     "output_type": "stream",
     "text": [
      "\n",
      "----------------------------------------------\n",
      "Collating Study Features\n",
      "\n",
      "-----------------------------------------------------------------------------------------------\n",
      "Processing subject: sub-140\n",
      "\n",
      "----------------------------------------------\n",
      "Getting EEG raw data\n",
      "\n",
      "----------------------------------------------\n",
      "Preprocessing EEG\n",
      "TO DO - Preprocess of raw EEG\n",
      "\n",
      "----------------------------------------------\n",
      "Getting power spectra\n",
      "\n",
      "----------------------------------------------\n",
      "Completing Spectral Parameterisation\n"
     ]
    },
    {
     "name": "stderr",
     "output_type": "stream",
     "text": [
      "/var/folders/wd/rhzj_w8570g_y66t6j6mh4zw0000gn/T/ipykernel_51414/345241518.py:36: RuntimeWarning: The data contains 'boundary' events, indicating data discontinuities. Be cautious of filtering and epoching around these events.\n",
      "  eeg_dataset_raw = mne.io.read_raw_eeglab(eeg_lab_file_path, preload=True)\n"
     ]
    },
    {
     "data": {
      "application/vnd.jupyter.widget-view+json": {
       "model_id": "5027e76bb78946f78aa5fdd8e7755929",
       "version_major": 2,
       "version_minor": 0
      },
      "text/plain": [
       "Running group fits.:   0%|          | 0/64 [00:00<?, ?it/s]"
      ]
     },
     "metadata": {},
     "output_type": "display_data"
    },
    {
     "name": "stdout",
     "output_type": "stream",
     "text": [
      "\n",
      "----------------------------------------------\n",
      "Collating Study Features\n",
      "\n",
      "-----------------------------------------------------------------------------------------------\n",
      "Processing subject: sub-141\n",
      "\n",
      "----------------------------------------------\n",
      "Getting EEG raw data\n",
      "\n",
      "----------------------------------------------\n",
      "Preprocessing EEG\n",
      "TO DO - Preprocess of raw EEG\n",
      "\n",
      "----------------------------------------------\n",
      "Getting power spectra\n",
      "\n",
      "----------------------------------------------\n",
      "Completing Spectral Parameterisation\n"
     ]
    },
    {
     "name": "stderr",
     "output_type": "stream",
     "text": [
      "/var/folders/wd/rhzj_w8570g_y66t6j6mh4zw0000gn/T/ipykernel_51414/345241518.py:36: RuntimeWarning: The data contains 'boundary' events, indicating data discontinuities. Be cautious of filtering and epoching around these events.\n",
      "  eeg_dataset_raw = mne.io.read_raw_eeglab(eeg_lab_file_path, preload=True)\n"
     ]
    },
    {
     "data": {
      "application/vnd.jupyter.widget-view+json": {
       "model_id": "ebb88cec33c34c19b336374f2d16ec14",
       "version_major": 2,
       "version_minor": 0
      },
      "text/plain": [
       "Running group fits.:   0%|          | 0/64 [00:00<?, ?it/s]"
      ]
     },
     "metadata": {},
     "output_type": "display_data"
    },
    {
     "name": "stdout",
     "output_type": "stream",
     "text": [
      "\n",
      "----------------------------------------------\n",
      "Collating Study Features\n",
      "\n",
      "-----------------------------------------------------------------------------------------------\n",
      "Processing subject: sub-142\n",
      "\n",
      "----------------------------------------------\n",
      "Getting EEG raw data\n",
      "\n",
      "----------------------------------------------\n",
      "Preprocessing EEG\n",
      "TO DO - Preprocess of raw EEG\n",
      "\n",
      "----------------------------------------------\n",
      "Getting power spectra\n",
      "\n",
      "----------------------------------------------\n",
      "Completing Spectral Parameterisation\n"
     ]
    },
    {
     "name": "stderr",
     "output_type": "stream",
     "text": [
      "/var/folders/wd/rhzj_w8570g_y66t6j6mh4zw0000gn/T/ipykernel_51414/345241518.py:36: RuntimeWarning: The data contains 'boundary' events, indicating data discontinuities. Be cautious of filtering and epoching around these events.\n",
      "  eeg_dataset_raw = mne.io.read_raw_eeglab(eeg_lab_file_path, preload=True)\n"
     ]
    },
    {
     "data": {
      "application/vnd.jupyter.widget-view+json": {
       "model_id": "3dee75b4c8ca4e2c86a3ebc52d04e37c",
       "version_major": 2,
       "version_minor": 0
      },
      "text/plain": [
       "Running group fits.:   0%|          | 0/64 [00:00<?, ?it/s]"
      ]
     },
     "metadata": {},
     "output_type": "display_data"
    },
    {
     "name": "stdout",
     "output_type": "stream",
     "text": [
      "\n",
      "----------------------------------------------\n",
      "Collating Study Features\n",
      "\n",
      "-----------------------------------------------------------------------------------------------\n",
      "Processing subject: sub-143\n",
      "\n",
      "----------------------------------------------\n",
      "Getting EEG raw data\n",
      "\n",
      "----------------------------------------------\n",
      "Preprocessing EEG\n",
      "TO DO - Preprocess of raw EEG\n",
      "\n",
      "----------------------------------------------\n",
      "Getting power spectra\n",
      "\n",
      "----------------------------------------------\n",
      "Completing Spectral Parameterisation\n"
     ]
    },
    {
     "name": "stderr",
     "output_type": "stream",
     "text": [
      "/var/folders/wd/rhzj_w8570g_y66t6j6mh4zw0000gn/T/ipykernel_51414/345241518.py:36: RuntimeWarning: The data contains 'boundary' events, indicating data discontinuities. Be cautious of filtering and epoching around these events.\n",
      "  eeg_dataset_raw = mne.io.read_raw_eeglab(eeg_lab_file_path, preload=True)\n"
     ]
    },
    {
     "data": {
      "application/vnd.jupyter.widget-view+json": {
       "model_id": "77f4c688b976435bae0635b2b1ff4deb",
       "version_major": 2,
       "version_minor": 0
      },
      "text/plain": [
       "Running group fits.:   0%|          | 0/64 [00:00<?, ?it/s]"
      ]
     },
     "metadata": {},
     "output_type": "display_data"
    },
    {
     "name": "stdout",
     "output_type": "stream",
     "text": [
      "\n",
      "----------------------------------------------\n",
      "Collating Study Features\n",
      "\n",
      "-----------------------------------------------------------------------------------------------\n",
      "Processing subject: sub-144\n",
      "\n",
      "----------------------------------------------\n",
      "Getting EEG raw data\n",
      "\n",
      "----------------------------------------------\n",
      "Preprocessing EEG\n",
      "TO DO - Preprocess of raw EEG\n",
      "\n",
      "----------------------------------------------\n",
      "Getting power spectra\n",
      "\n",
      "----------------------------------------------\n",
      "Completing Spectral Parameterisation\n"
     ]
    },
    {
     "name": "stderr",
     "output_type": "stream",
     "text": [
      "/var/folders/wd/rhzj_w8570g_y66t6j6mh4zw0000gn/T/ipykernel_51414/345241518.py:36: RuntimeWarning: The data contains 'boundary' events, indicating data discontinuities. Be cautious of filtering and epoching around these events.\n",
      "  eeg_dataset_raw = mne.io.read_raw_eeglab(eeg_lab_file_path, preload=True)\n"
     ]
    },
    {
     "data": {
      "application/vnd.jupyter.widget-view+json": {
       "model_id": "824ae887af444e7d8dbfb7593bf094f2",
       "version_major": 2,
       "version_minor": 0
      },
      "text/plain": [
       "Running group fits.:   0%|          | 0/64 [00:00<?, ?it/s]"
      ]
     },
     "metadata": {},
     "output_type": "display_data"
    },
    {
     "name": "stdout",
     "output_type": "stream",
     "text": [
      "\n",
      "----------------------------------------------\n",
      "Collating Study Features\n",
      "\n",
      "-----------------------------------------------------------------------------------------------\n",
      "Processing subject: sub-145\n",
      "\n",
      "----------------------------------------------\n",
      "Getting EEG raw data\n",
      "\n",
      "----------------------------------------------\n",
      "Preprocessing EEG\n",
      "TO DO - Preprocess of raw EEG\n",
      "\n",
      "----------------------------------------------\n",
      "Getting power spectra\n",
      "\n",
      "----------------------------------------------\n",
      "Completing Spectral Parameterisation\n"
     ]
    },
    {
     "name": "stderr",
     "output_type": "stream",
     "text": [
      "/var/folders/wd/rhzj_w8570g_y66t6j6mh4zw0000gn/T/ipykernel_51414/345241518.py:36: RuntimeWarning: The data contains 'boundary' events, indicating data discontinuities. Be cautious of filtering and epoching around these events.\n",
      "  eeg_dataset_raw = mne.io.read_raw_eeglab(eeg_lab_file_path, preload=True)\n"
     ]
    },
    {
     "data": {
      "application/vnd.jupyter.widget-view+json": {
       "model_id": "22730f273b264ef3972d1d742c3ff50a",
       "version_major": 2,
       "version_minor": 0
      },
      "text/plain": [
       "Running group fits.:   0%|          | 0/64 [00:00<?, ?it/s]"
      ]
     },
     "metadata": {},
     "output_type": "display_data"
    },
    {
     "name": "stdout",
     "output_type": "stream",
     "text": [
      "\n",
      "----------------------------------------------\n",
      "Collating Study Features\n",
      "\n",
      "-----------------------------------------------------------------------------------------------\n",
      "Processing subject: sub-146\n",
      "\n",
      "----------------------------------------------\n",
      "Getting EEG raw data\n",
      "\n",
      "----------------------------------------------\n",
      "Preprocessing EEG\n",
      "TO DO - Preprocess of raw EEG\n",
      "\n",
      "----------------------------------------------\n",
      "Getting power spectra\n",
      "\n",
      "----------------------------------------------\n",
      "Completing Spectral Parameterisation\n"
     ]
    },
    {
     "name": "stderr",
     "output_type": "stream",
     "text": [
      "/var/folders/wd/rhzj_w8570g_y66t6j6mh4zw0000gn/T/ipykernel_51414/345241518.py:36: RuntimeWarning: The data contains 'boundary' events, indicating data discontinuities. Be cautious of filtering and epoching around these events.\n",
      "  eeg_dataset_raw = mne.io.read_raw_eeglab(eeg_lab_file_path, preload=True)\n"
     ]
    },
    {
     "data": {
      "application/vnd.jupyter.widget-view+json": {
       "model_id": "84064606b87446438dc93a232ac6d808",
       "version_major": 2,
       "version_minor": 0
      },
      "text/plain": [
       "Running group fits.:   0%|          | 0/64 [00:00<?, ?it/s]"
      ]
     },
     "metadata": {},
     "output_type": "display_data"
    },
    {
     "name": "stdout",
     "output_type": "stream",
     "text": [
      "\n",
      "----------------------------------------------\n",
      "Collating Study Features\n",
      "\n",
      "-----------------------------------------------------------------------------------------------\n",
      "Processing subject: sub-147\n",
      "\n",
      "----------------------------------------------\n",
      "Getting EEG raw data\n",
      "\n",
      "----------------------------------------------\n",
      "Preprocessing EEG\n",
      "TO DO - Preprocess of raw EEG\n",
      "\n",
      "----------------------------------------------\n",
      "Getting power spectra\n",
      "\n",
      "----------------------------------------------\n",
      "Completing Spectral Parameterisation\n"
     ]
    },
    {
     "name": "stderr",
     "output_type": "stream",
     "text": [
      "/var/folders/wd/rhzj_w8570g_y66t6j6mh4zw0000gn/T/ipykernel_51414/345241518.py:36: RuntimeWarning: The data contains 'boundary' events, indicating data discontinuities. Be cautious of filtering and epoching around these events.\n",
      "  eeg_dataset_raw = mne.io.read_raw_eeglab(eeg_lab_file_path, preload=True)\n"
     ]
    },
    {
     "data": {
      "application/vnd.jupyter.widget-view+json": {
       "model_id": "da91702df1a746ef9dd526ef96291502",
       "version_major": 2,
       "version_minor": 0
      },
      "text/plain": [
       "Running group fits.:   0%|          | 0/64 [00:00<?, ?it/s]"
      ]
     },
     "metadata": {},
     "output_type": "display_data"
    },
    {
     "name": "stdout",
     "output_type": "stream",
     "text": [
      "\n",
      "----------------------------------------------\n",
      "Collating Study Features\n",
      "\n",
      "-----------------------------------------------------------------------------------------------\n",
      "Processing subject: sub-148\n",
      "\n",
      "----------------------------------------------\n",
      "Getting EEG raw data\n",
      "\n",
      "----------------------------------------------\n",
      "Preprocessing EEG\n",
      "TO DO - Preprocess of raw EEG\n",
      "\n",
      "----------------------------------------------\n",
      "Getting power spectra\n",
      "\n",
      "----------------------------------------------\n",
      "Completing Spectral Parameterisation\n"
     ]
    },
    {
     "name": "stderr",
     "output_type": "stream",
     "text": [
      "/var/folders/wd/rhzj_w8570g_y66t6j6mh4zw0000gn/T/ipykernel_51414/345241518.py:36: RuntimeWarning: The data contains 'boundary' events, indicating data discontinuities. Be cautious of filtering and epoching around these events.\n",
      "  eeg_dataset_raw = mne.io.read_raw_eeglab(eeg_lab_file_path, preload=True)\n"
     ]
    },
    {
     "data": {
      "application/vnd.jupyter.widget-view+json": {
       "model_id": "748cfbd6dd9343dfad9258c4776800b8",
       "version_major": 2,
       "version_minor": 0
      },
      "text/plain": [
       "Running group fits.:   0%|          | 0/64 [00:00<?, ?it/s]"
      ]
     },
     "metadata": {},
     "output_type": "display_data"
    },
    {
     "name": "stdout",
     "output_type": "stream",
     "text": [
      "\n",
      "----------------------------------------------\n",
      "Collating Study Features\n",
      "\n",
      "-----------------------------------------------------------------------------------------------\n",
      "Processing subject: sub-149\n",
      "\n",
      "----------------------------------------------\n",
      "Getting EEG raw data\n",
      "\n",
      "----------------------------------------------\n",
      "Preprocessing EEG\n",
      "TO DO - Preprocess of raw EEG\n",
      "\n",
      "----------------------------------------------\n",
      "Getting power spectra\n",
      "\n",
      "----------------------------------------------\n",
      "Completing Spectral Parameterisation\n"
     ]
    },
    {
     "name": "stderr",
     "output_type": "stream",
     "text": [
      "/var/folders/wd/rhzj_w8570g_y66t6j6mh4zw0000gn/T/ipykernel_51414/345241518.py:36: RuntimeWarning: The data contains 'boundary' events, indicating data discontinuities. Be cautious of filtering and epoching around these events.\n",
      "  eeg_dataset_raw = mne.io.read_raw_eeglab(eeg_lab_file_path, preload=True)\n"
     ]
    },
    {
     "data": {
      "application/vnd.jupyter.widget-view+json": {
       "model_id": "641d5d7bbdb3489782796ed82fb78a81",
       "version_major": 2,
       "version_minor": 0
      },
      "text/plain": [
       "Running group fits.:   0%|          | 0/64 [00:00<?, ?it/s]"
      ]
     },
     "metadata": {},
     "output_type": "display_data"
    },
    {
     "name": "stdout",
     "output_type": "stream",
     "text": [
      "\n",
      "----------------------------------------------\n",
      "Collating Study Features\n",
      "\n",
      "-----------------------------------------------------------------------------------------------\n",
      "Processing finished & Features Saved\n",
      "Results saved successfully to /Users/stuartgow/GitHub/EEG_ML_Pipeline/Data/EEG_Datasets_Processed/ds004584-1.0.0_20250614\n"
     ]
    }
   ],
   "source": [
    "# Run the pipeline for each subject in the study\n",
    "#\n",
    "\n",
    "for idx, subject in study_details.subjects_df.iterrows():\n",
    "    # Break for testing\n",
    "    if int(idx) > (max_subjects_run - 1):\n",
    "        break\n",
    "\n",
    "    subject_id = subject['subject_id']\n",
    "    print('\\n-----------------------------------------------------------------------------------------------')\n",
    "    print(f\"Processing subject: {subject_id}\")\n",
    "\n",
    "    # Get the raw EEG data\n",
    "    print('\\n----------------------------------------------')\n",
    "    print('Getting EEG raw data')\n",
    "    temp_EEG_raw = get_EEG_raw(study_details, subject_id)\n",
    "\n",
    "    # EEG Preprocessing\n",
    "    print('\\n----------------------------------------------')\n",
    "    print('Preprocessing EEG')\n",
    "    temp_EEG_clean = perform_EEG_preprocessing(study_details, temp_EEG_raw)\n",
    "\n",
    "    # Power spectrum\n",
    "    print('\\n----------------------------------------------')\n",
    "    print('Getting power spectra')\n",
    "    temp_spectra = get_spectra(study_details, temp_EEG_clean)\n",
    "\n",
    "    # Spectral Parameterisation\n",
    "    print('\\n----------------------------------------------')\n",
    "    print('Completing Spectral Parameterisation')\n",
    "    specparam_df = perform_SpecParam(study_details, temp_spectra)\n",
    "\n",
    "    # Study Features Collate\n",
    "    print('\\n----------------------------------------------')\n",
    "    print('Collating Study Features')\n",
    "    # Features df - Subject Details\n",
    "    subject_details_df = pd.DataFrame()\n",
    "    subject_details_df = pd.concat([subject_details_df, pd.DataFrame([subject])], ignore_index=True)\n",
    "    # Features df - Add all channels into a single row\n",
    "    rows = [subject_details_df]\n",
    "    for idx, row in specparam_df.iterrows():\n",
    "        row_df = pd.DataFrame([row.values], columns=[f'chn_{idx}_{col}' for col in row.index])\n",
    "        rows.append(row_df)\n",
    "    subject_features_df = pd.concat(rows, axis=1, ignore_index=False)\n",
    "\n",
    "    # Add the subject's features to the overall study features dataframe\n",
    "    study_features_df = pd.concat([study_features_df, subject_features_df], ignore_index=True)\n",
    "\n",
    "    \n",
    "    # TODO: Subject 68 had 66 channels but max should be 63? Check during preprocessing, before FOOOFING\n",
    "    # if n_channels > spm_max_channels:\n",
    "    #     raise Exception(f'WARNING: Found: {n_channels} channels, but only {spm_max_channels} max are saved')\n",
    "\n",
    "print('\\n-----------------------------------------------------------------------------------------------')\n",
    "print(f\"Processing finished & Features Saved\")\n",
    "save_results(study_details_df, study_features_df)\n",
    "\n",
    "# Clean Up\n",
    "del idx, max_subjects_run, psd_params, row, row_df, rows, specparam_df, specparam_params, specparam_version\n",
    "del study_details, subject, subject_details_df, subject_features_df, subject_id, test_channel, VERBOSE\n",
    "del temp_EEG_raw, temp_EEG_clean, temp_spectra\n",
    "# del study_details_df, study_features_df"
   ]
  }
 ],
 "metadata": {
  "kernelspec": {
   "display_name": "eeg_ml_pipeline_v2",
   "language": "python",
   "name": "python3"
  },
  "language_info": {
   "codemirror_mode": {
    "name": "ipython",
    "version": 3
   },
   "file_extension": ".py",
   "mimetype": "text/x-python",
   "name": "python",
   "nbconvert_exporter": "python",
   "pygments_lexer": "ipython3",
   "version": "3.11.13"
  }
 },
 "nbformat": 4,
 "nbformat_minor": 5
}
