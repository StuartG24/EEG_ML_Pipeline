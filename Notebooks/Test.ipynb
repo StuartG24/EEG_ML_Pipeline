{
 "cells": [
  {
   "cell_type": "markdown",
   "id": "8317171c",
   "metadata": {},
   "source": [
    "# test"
   ]
  },
  {
   "cell_type": "code",
   "execution_count": 1,
   "id": "76a26f14",
   "metadata": {},
   "outputs": [],
   "source": [
    "# General imports\n",
    "import os\n",
    "import gc\n",
    "from datetime import datetime\n",
    "from pprint import pprint\n",
    "import time\n",
    "import pickle\n",
    "\n",
    "import math\n",
    "import numpy as np\n",
    "import pandas as pd\n",
    "\n",
    "# Plots\n",
    "import matplotlib.pyplot as plt\n",
    "plt.style.use('ggplot')\n",
    "\n",
    "# ML\n",
    "from sklearn.model_selection import train_test_split\n",
    "from sklearn.preprocessing import StandardScaler, MinMaxScaler, RobustScaler\n",
    "from sklearn.preprocessing import LabelEncoder, OrdinalEncoder, OneHotEncoder\n",
    "\n",
    "from sklearn.pipeline import Pipeline\n",
    "from sklearn.pipeline import make_pipeline\n",
    "from sklearn.compose import ColumnTransformer\n",
    "\n",
    "from sklearn.model_selection import GridSearchCV\n",
    "from sklearn.model_selection import RandomizedSearchCV\n",
    "\n",
    "from sklearn import metrics\n",
    "from sklearn.model_selection import cross_val_score\n",
    "from sklearn.metrics import classification_report, confusion_matrix, ConfusionMatrixDisplay, RocCurveDisplay\n",
    "\n",
    "# Random Forest\n",
    "from sklearn.ensemble import RandomForestClassifier\n",
    "\n",
    "\n"
   ]
  },
  {
   "cell_type": "code",
   "execution_count": 2,
   "id": "a8ac29c2",
   "metadata": {},
   "outputs": [],
   "source": [
    "# A utility function to establish full paths for a given relative path folder\n",
    "def get_folder_path(folder_name):\n",
    "    project_root = os.path.dirname(os.getcwd())\n",
    "    folder_path = os.path.join(project_root, folder_name)\n",
    "    if not os.path.isdir(folder_path):\n",
    "        raise FileNotFoundError(f'Directory not found: {folder_path}')  \n",
    "    return folder_path\n",
    "\n",
    "# Utility function to check for the existence of a file in a given directory\n",
    "def get_file_path(folder, file_name):\n",
    "    file_path = os.path.join(folder, file_name)\n",
    "    if not os.path.isfile(file_path):\n",
    "        raise FileNotFoundError(f'File not found: {file_path}')\n",
    "    return file_path\n",
    "\n",
    "def make_folder_path(folder_name):\n",
    "    project_root = os.path.dirname(os.getcwd())\n",
    "    folder_path = os.path.join(project_root, folder_name)\n",
    "    if not os.path.exists(folder_path):\n",
    "        os.makedirs(folder_path)\n",
    "    return folder_path\n",
    "\n",
    "# def get_file_path_project(relative_folder, file_name):\n",
    "#     project_root = os.path.dirname(os.getcwd())\n",
    "#     file_path = os.path.join(project_root, relative_folder, file_name)\n",
    "#     if not os.path.isfile(file_path):\n",
    "#         raise FileNotFoundError(f'File not found: {file_path}')\n",
    "#     return file_path"
   ]
  },
  {
   "cell_type": "code",
   "execution_count": 3,
   "id": "5c5ba062",
   "metadata": {},
   "outputs": [],
   "source": [
    "# Establish data folder paths & load saved model\n",
    "#\n",
    "\n",
    "# Study Name\n",
    "study_name = 'ds004584-1.0.0_20250615'\n",
    "\n",
    "EEG_processed_folder_path = get_folder_path('Data/EEG_Datasets_Processed' + '/' + study_name)\n",
    "EEG_study_folder_path = get_folder_path('Data/EEG_Studies' + '/' + study_name)\n",
    "\n",
    "\n",
    "# Load saved model\n",
    "\n",
    "file_path = get_file_path(EEG_study_folder_path, 'test_model.pkl')\n",
    "with open(file_path, 'rb') as file:\n",
    "    model_randforest = pickle.load(file)\n",
    "\n"
   ]
  },
  {
   "cell_type": "code",
   "execution_count": null,
   "id": "4ac46c5c",
   "metadata": {},
   "outputs": [],
   "source": []
  }
 ],
 "metadata": {
  "kernelspec": {
   "display_name": "eeg_ml_pipeline_v2",
   "language": "python",
   "name": "python3"
  },
  "language_info": {
   "codemirror_mode": {
    "name": "ipython",
    "version": 3
   },
   "file_extension": ".py",
   "mimetype": "text/x-python",
   "name": "python",
   "nbconvert_exporter": "python",
   "pygments_lexer": "ipython3",
   "version": "3.11.13"
  }
 },
 "nbformat": 4,
 "nbformat_minor": 5
}
