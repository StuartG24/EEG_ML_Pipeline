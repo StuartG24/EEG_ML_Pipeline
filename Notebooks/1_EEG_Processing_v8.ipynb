{
 "cells": [
  {
   "cell_type": "markdown",
   "id": "688d7221",
   "metadata": {},
   "source": [
    "# 1. EEG Dataset Processing\n",
    "\n",
    "Scope:\n",
    "- Process a raw EEG dataset & produce a results superset\n",
    "- Dataset containing the results of an EEG study on multiple subjects\n",
    "- Dataset that has been downloaded from OpenNeuro, and structured as per the BIDS standard, and in EEGLab '.set' format\n",
    "\n",
    "The Stages (For each subject in an EEG study dataset):\n",
    "- EEG Dataset Load - Get the raw source EEG signal data\n",
    "- EEG Preprocessing - Execute filtering etc of the raw EEG time series data\n",
    "- Power Spectra (PSD) Calculate - Calculate the power spectra, for all channels recorded\n",
    "- Spectral Parameterisation - Determine the best fitting Aperiodic and Periodic components\n",
    "- Results Superset - Collate & save the study, subject and EEG data into a results set, Pandas Dataframe\n"
   ]
  },
  {
   "cell_type": "markdown",
   "id": "f709683a",
   "metadata": {},
   "source": [
    "## Dependencies\n",
    "\n",
    "General dependencies:\n",
    "- python = 3.11.13\n",
    "- numpy = 2.0.2\n",
    "- scipy = 1.15.3\n",
    "- pandas = 2.2.3\n",
    "- matplotlib = 3.10.3\n",
    "\n",
    "ML dependencies:\n",
    "- scikit-learn = 1.6.1\n",
    "\n",
    "EEG specific dependencies:\n",
    "- mne = 1.9.0\n",
    "- mne-icalabel = 0.7.0\n",
    "- autoreject = 0.4.3\n",
    "- specparam = 2.0.0rc3"
   ]
  },
  {
   "cell_type": "markdown",
   "id": "ac45d163",
   "metadata": {},
   "source": [
    "## Python-MNE\n",
    "\n",
    "Used for Import:\n",
    "- MNE-Python: https://mne.tools/stable/index.html\n",
    "- The Brain Imaging Data Structure (BIDS): https://bids.neuroimaging.io\n",
    "\n",
    "EEG Data Format for Processing:\n",
    "- In FIF format (Functional Image File Format): https://www.perplexity.ai/search/having-read-some-eeg-data-usin-70hxIA1KSZu6VdV.MfLY_A\n",
    "\n",
    "Used for Power Spectrum Calculate\n",
    "- MNE vs NeuroDSP: https://www.perplexity.ai/search/using-python-which-package-is-zOoiPqUvTnKbO.QfgmPsJQ\n",
    "\n",
    "Formats:\n",
    "- Assumes OpenNeuro, BIDS compliant datasets manually downloaded into the defined folders structure\n",
    "- Assumes EEGLab '.set' format\n"
   ]
  },
  {
   "cell_type": "markdown",
   "id": "715ca81d",
   "metadata": {},
   "source": [
    "## Spectral Parameterisation\n",
    "\n",
    "Spectral Parameterisation:\n",
    "- The Aperiodic Methods project - Documentation: https://aperiodicmethods.github.io/docs/index.html and Repo: in https://github.com/AperiodicMethods/AperiodicMethods\n",
    "- And cite: https://www.biorxiv.org/content/10.1101/2024.09.15.613114v1\n",
    "\n",
    "Documentation:\n",
    "- SpecParam: https://specparam-tools.github.io and https://github.com/fooof-tools\n",
    "- FOOOF: https://fooof-tools.github.io/fooof/ and https://github.com/fooof-tools/fooof\n",
    "\n",
    "FOOOF vs SpecPram:\n",
    "- FOOOF: More stable and used but deprecated\n",
    "- SpecParam: Release candidate but some improved model/fit selection: https://pmc.ncbi.nlm.nih.gov/articles/PMC11326208/\n",
    "- Summary: https://www.perplexity.ai/search/using-python-which-package-is-M7kzhERoTLuCrIKbXxN9sQ\n"
   ]
  },
  {
   "cell_type": "markdown",
   "id": "5c5fffee",
   "metadata": {},
   "source": [
    "# Imports & Utilities"
   ]
  },
  {
   "cell_type": "code",
   "execution_count": 1,
   "id": "2d3b2cf2",
   "metadata": {},
   "outputs": [],
   "source": [
    "# Not availble through a Conda install/environment - PIP Install may be required\n",
    "# %pip install specparam\n"
   ]
  },
  {
   "cell_type": "code",
   "execution_count": 2,
   "id": "e08bef27",
   "metadata": {},
   "outputs": [
    {
     "name": "stdout",
     "output_type": "stream",
     "text": [
      "Current SpecParam version: 2.0.0rc3\n"
     ]
    }
   ],
   "source": [
    "# General imports\n",
    "import os\n",
    "import sys\n",
    "import gc\n",
    "import warnings\n",
    "\n",
    "from datetime import datetime\n",
    "from pprint import pprint\n",
    "import time\n",
    "import pickle\n",
    "import random\n",
    "\n",
    "# Custom Functions\n",
    "sys.path.append(os.path.abspath('../Notebooks/Utilities')) \n",
    "import cust_utilities as utils\n",
    "\n",
    "# Maths, Pandas etc\n",
    "import math\n",
    "import numpy as np\n",
    "import pandas as pd\n",
    "import scipy as sci\n",
    "\n",
    "# Plots\n",
    "import matplotlib.pyplot as plt\n",
    "plt.style.use('ggplot')\n",
    "from matplotlib.backends.backend_pdf import PdfPages\n",
    "\n",
    "# MNE-Python\n",
    "import mne\n",
    "from mne.preprocessing import ICA\n",
    "from mne_icalabel import label_components\n",
    "from autoreject import AutoReject\n",
    "from autoreject import get_rejection_threshold\n",
    "\n",
    "# SpecParam\n",
    "from specparam import SpectralGroupModel\n",
    "from specparam.plts.spectra import plot_spectra\n",
    "from specparam import __version__ as specparam_version\n",
    "print('Current SpecParam version:', specparam_version)\n"
   ]
  },
  {
   "cell_type": "code",
   "execution_count": 3,
   "id": "06993b90",
   "metadata": {},
   "outputs": [],
   "source": [
    "# Print and also to add to a PDF file\n",
    "#\n",
    "\n",
    "def print_with_pdf(text, pdf_file):\n",
    "\n",
    "    # Normal print\n",
    "    print(text)\n",
    "\n",
    "    # Text added to a PDF\n",
    "    plt.figure(figsize=(12, 1))\n",
    "    plt.axis('off') \n",
    "    # plt.text(0.01, 0.99, text, fontsize=14, va='top', ha='left', wrap=True, weight='bold')\n",
    "    plt.text(0.01, 0.99, text, fontsize=14, va='top', ha='left', wrap=True)\n",
    "    pdf_file.savefig()\n",
    "    plt.close()\n"
   ]
  },
  {
   "cell_type": "markdown",
   "id": "9730c713",
   "metadata": {},
   "source": [
    "# Classes & Functions"
   ]
  },
  {
   "cell_type": "markdown",
   "id": "69e96ddc",
   "metadata": {},
   "source": [
    "## Get Raw EEG data"
   ]
  },
  {
   "cell_type": "code",
   "execution_count": 4,
   "id": "6f02c6d2",
   "metadata": {},
   "outputs": [],
   "source": [
    "# Function to get the raw EEG signal data\n",
    "#\n",
    "\n",
    "def get_EEG_raw(dataset_path, subject_id):\n",
    "    \"\"\"\n",
    "    Get raw EEG data.\n",
    "\n",
    "    Parameters\n",
    "    ----------\n",
    "    dataset_path : str\n",
    "    subject_id : str\n",
    "\n",
    "    Returns\n",
    "    -------\n",
    "    EEG_raw : FIF\n",
    "    \"\"\"\n",
    "\n",
    "    flag_verbose = (True if 'VERBOSE' in globals() and VERBOSE else False)\n",
    "\n",
    "    # BIDS File Structure\n",
    "    # dataset_root = \n",
    "    # dataset_name = \n",
    "    subject = subject_id\n",
    "    session = ''\n",
    "    task = 'Rest'\n",
    "    datatype='eeg'\n",
    "\n",
    "    # Cater for none or multiple sessions, eg 'ses-01', 'ses-02'\n",
    "    temp_path = os.path.join(dataset_path, subject)\n",
    "    subfolders = [f for f in os.listdir(temp_path) if os.path.isdir(os.path.join(temp_path, f))]\n",
    "    if 'eeg' in subfolders:\n",
    "        session = ''\n",
    "    elif any(f.startswith('ses-') for f in subfolders):\n",
    "        session = sorted([f for f in subfolders if f.startswith('ses-')])\n",
    "    else:\n",
    "        raise FileNotFoundError(f\"No 'eeg' or session folder found in {temp_path}\")\n",
    "    \n",
    "    # Cater for 0 or multiple sessions\n",
    "    # print(f'Test Found: {session}')\n",
    "    sessions_eeg_raw = []\n",
    "    if session == '':\n",
    "        temp_path = os.path.join(dataset_path, subject, datatype)\n",
    "        temp_file_name = subject + '_task-' + task + '_' + datatype + '.set'\n",
    "        eeg_lab_file_path = utils.get_file_path(temp_path, temp_file_name)\n",
    "        try:\n",
    "            eeg_dataset_raw = mne.io.read_raw_eeglab(eeg_lab_file_path, preload=True, verbose=flag_verbose)\n",
    "            sessions_eeg_raw.append(eeg_dataset_raw)\n",
    "        except Exception as e:\n",
    "            raise ValueError(f\"Failed to load EEG data for subject {subject}: {e}\")\n",
    "    else:\n",
    "        for next_session in session:\n",
    "            temp_path = os.path.join(dataset_path, subject, next_session, datatype)\n",
    "            temp_file_name = subject + '_' + next_session + '_task-' + task + '_' + datatype + '.set'\n",
    "            eeg_lab_file_path = utils.get_file_path(temp_path, temp_file_name)\n",
    "            # print(f'Test session path: {eeg_lab_file_path}')\n",
    "            try:\n",
    "                eeg_dataset_raw = mne.io.read_raw_eeglab(eeg_lab_file_path, preload=True, verbose=flag_verbose)\n",
    "                sessions_eeg_raw.append(eeg_dataset_raw)\n",
    "            except Exception as e:\n",
    "                raise ValueError(f\"Failed to load EEG data for subject {subject}: {e}\")\n",
    "    \n",
    "    return sessions_eeg_raw"
   ]
  },
  {
   "cell_type": "code",
   "execution_count": 5,
   "id": "8a514a92",
   "metadata": {},
   "outputs": [],
   "source": [
    "# Function to save EEG data for a given subject\n",
    "#\n",
    "\n",
    "def save_EEG_for_subject(eeg_data, folder_path, subject_name, tag, epoched=False, format='fif', verbose=False):\n",
    "\n",
    "    if epoched:\n",
    "        subject_results_file = os.path.join(folder_path, f'{subject_name}_{tag}_epo.{format}')\n",
    "    else:\n",
    "        subject_results_file = os.path.join(folder_path, f'{subject_name}_{tag}_raw.{format}')\n",
    "\n",
    "    if format == 'fif':\n",
    "        eeg_data.save(subject_results_file, overwrite=False, verbose=verbose)\n",
    "    elif format == 'set':\n",
    "        mne.export.export_raw(subject_results_file, eeg_data, fmt='eeglab', overwrite=False, verbose=verbose)\n",
    "    else:\n",
    "        raise ValueError(f\"Unsupported format: {format}\")\n"
   ]
  },
  {
   "cell_type": "code",
   "execution_count": 6,
   "id": "57e509a1",
   "metadata": {},
   "outputs": [],
   "source": [
    "# Function to plot EEG Time Series\n",
    "#\n",
    "\n",
    "def plot_EEG_TD(eeg_FIF, channels, time_range_s=[], pdf_file = None):\n",
    "    \n",
    "    \"\"\"\n",
    "    EEG Time Domain Plot.\n",
    "\n",
    "    Parameters\n",
    "    ----------\n",
    "    eeg_FIF : FIF\n",
    "    channels : [str] eg ['P5', 'Pz']\n",
    "    time_range_s : [nn,nn]\n",
    "    \"\"\"\n",
    "\n",
    "    # Channels Limit\n",
    "    max_plots = 5\n",
    "    if len(channels) > max_plots:\n",
    "        channels = channels[:max_plots]\n",
    "\n",
    "    # Time Range\n",
    "    sfreq = eeg_FIF.info['sfreq']\n",
    "    if time_range_s:\n",
    "        start = int(time_range_s[0] * sfreq)\n",
    "        stop = int(time_range_s[1] * sfreq)\n",
    "    else:\n",
    "        start = 0\n",
    "        stop = None\n",
    "\n",
    "    # Get signal and times for the elected channel(s)\n",
    "    # Handle Epoched data\n",
    "    if eeg_FIF.__class__.__name__.startswith('Raw'):\n",
    "        signal, times = eeg_FIF.get_data(picks=channels, \n",
    "                                        start=start, stop=stop,\n",
    "                                        return_times=True)\n",
    "    else:\n",
    "        warnings.warn(\"Epoched data detected: plotting may not be accurate for all types.\", UserWarning)\n",
    "        return\n",
    "        # signal, times = eeg_FIF.get_data(picks=channels)\n",
    "        # times = eeg_FIF.times\n",
    "\n",
    "    # plot and copy to pdf\n",
    "    plt.figure(figsize=(12, 8))\n",
    "    for i, ch_name in enumerate(channels):\n",
    "        plt.plot(times, signal[i] * 1e6, label=ch_name, alpha=0.7, linewidth=0.6)\n",
    "    plt.title('EEG Time Series - Channels: ' + ', '.join(channels))\n",
    "    plt.xlabel('Time (s)')\n",
    "    plt.ylabel('Amplitude (µV)')\n",
    "    plt.legend()\n",
    "    plt.tight_layout()\n",
    "    if pdf_file:\n",
    "        pdf_file.savefig()\n",
    "    plt.show()"
   ]
  },
  {
   "cell_type": "markdown",
   "id": "bfb7ab7f",
   "metadata": {},
   "source": [
    "## EEG Filtering & Referenceing"
   ]
  },
  {
   "cell_type": "code",
   "execution_count": 7,
   "id": "2a36aa57",
   "metadata": {},
   "outputs": [],
   "source": [
    "# Function to preprocess the raw EEG signal data\n",
    "def perform_EEG_filtering(params, EEG_raw):\n",
    "    \"\"\"\n",
    "    Preprocessing of the EEG raw data\n",
    "\n",
    "    Parameters\n",
    "    ----------\n",
    "    params : dic\n",
    "    EEG_raw : raw\n",
    "\n",
    "    Returns\n",
    "    -------\n",
    "    EEG_clean : clean\n",
    "    \"\"\"\n",
    "\n",
    "    flag_verbose = (True if 'VERBOSE' in globals() and VERBOSE else False)\n",
    "\n",
    "    EEG_filtered = EEG_raw.copy()\n",
    "\n",
    "    # -----------------------------------------------------------------------\n",
    "    # Bandpass filtering\n",
    "    #\n",
    "    EEG_filtered = EEG_filtered.filter(picks='eeg', \n",
    "                                       l_freq=params['band_pass_lf'], \n",
    "                                       h_freq=params['band_pass_hf'], \n",
    "                                       method=params['band_pass_method'], \n",
    "                                       phase='zero', \n",
    "                                       verbose=flag_verbose)\n",
    "\n",
    "    # -----------------------------------------------------------------------\n",
    "    # Montage Set\n",
    "    # Attempt to use standard-1020 channels, but remove any channels not in it\n",
    "    #\n",
    "    std_1020_montage = mne.channels.make_standard_montage(\"standard_1020\")\n",
    "    \n",
    "    # Identify missing channels & drop them\n",
    "    raw_set = set(EEG_raw.ch_names)\n",
    "    montage_set = set(std_1020_montage.ch_names)\n",
    "    missing_in_raw = montage_set - raw_set\n",
    "    missing_in_montage = raw_set - montage_set  \n",
    "    EEG_filtered.drop_channels(missing_in_montage)\n",
    "\n",
    "    # Set to standard montage and plot\n",
    "    EEG_filtered.set_montage(std_1020_montage)\n",
    "\n",
    "    # -----------------------------------------------------------------------\n",
    "    # Remove linear trends from each channel signal & average\n",
    "    #\n",
    "    if params['linear_detrend'] != 'none':\n",
    "        EEG_filtered.apply_function(sci.signal.detrend, n_jobs=-1, \n",
    "                                    channel_wise=True, \n",
    "                                    type=params['linear_detrend'], \n",
    "                                    verbose=flag_verbose)\n",
    "\n",
    "    # Execute average referencing\n",
    "    EEG_filtered.set_eeg_reference(ref_channels=params['channel_referencing'], verbose=flag_verbose)\n",
    "\n",
    "    if flag_verbose:\n",
    "        # std_1020_montage.plot()\n",
    "        print(f\"Channels in montage but not in EEG_raw: {sorted(missing_in_raw)}\")\n",
    "        print(f\"Channels in EEG_raw but not in montage: {sorted(missing_in_montage)}\")\n",
    "        print(f\"Number of channels before: {len(EEG_raw.ch_names)} and after montage set: {len(EEG_filtered.ch_names)}\")\n",
    "        fig = EEG_filtered.plot_sensors(show_names=True)\n",
    "        plt.show()\n",
    "\n",
    "    return EEG_filtered\n"
   ]
  },
  {
   "cell_type": "markdown",
   "id": "827d783f",
   "metadata": {},
   "source": [
    "## Artefact Removal - ICA"
   ]
  },
  {
   "cell_type": "code",
   "execution_count": 8,
   "id": "be50a4f4",
   "metadata": {},
   "outputs": [],
   "source": [
    "# Function to perform artifact removal using ICS\n",
    "def perform_artefact_removal(params, EEG_raw):\n",
    "    \"\"\"\n",
    "    Artefact removal on the EEG raw data, using ICA\n",
    "\n",
    "    Parameters\n",
    "    ----------\n",
    "    params : dic\n",
    "    EEG_raw : raw\n",
    "\n",
    "    Returns\n",
    "    -------\n",
    "    results : pd series\n",
    "    epochs_ar : fif\n",
    "    \"\"\"\n",
    "\n",
    "    flag_verbose = (True if 'VERBOSE' in globals() and VERBOSE else False)\n",
    "\n",
    "    EEG_cleaned = EEG_raw.copy()\n",
    "    quality_warning = False\n",
    "\n",
    "    # -----------------------------------------------------------------------\n",
    "    # Determine ICA components, label & identify for exclusion\n",
    "    #\n",
    "\n",
    "    # ICA & filter\n",
    "    ica = ICA(n_components=len(EEG_cleaned.ch_names) - 1, \n",
    "              max_iter=\"auto\", \n",
    "              method=params['ica_method'], \n",
    "              random_state=42, \n",
    "              fit_params=dict(extended=True))\n",
    "    ica.fit(EEG_cleaned, verbose=flag_verbose)\n",
    " \n",
    "    ica_labels = label_components(EEG_cleaned, ica, method='iclabel')\n",
    "    labels = ica_labels[\"labels\"]\n",
    "    brain_components = [i for i, label in enumerate(labels) if label == \"brain\"]\n",
    "    other_components = [i for i, label in enumerate(labels) if label != \"brain\"]\n",
    "    filtered_ica = ica.apply(EEG_cleaned.copy(), exclude=np.unique(other_components), verbose=flag_verbose)\n",
    "\n",
    "    # Flag 'quality'\n",
    "    ICA_rejection_level = len(other_components)/ica.n_components_\n",
    "    if ICA_rejection_level >= params['ICA_rejection_threshold']:\n",
    "        warnings.warn(f\"High component rejection: {100 * ICA_rejection_level:.2f}% marked as non-brain.\", UserWarning)\n",
    "        quality_warning = True\n",
    "\n",
    "    if flag_verbose:\n",
    "        print('ICA Components Breakdown')\n",
    "        print(f'Original Channels: {len(EEG_cleaned.ch_names)}. ICA Components: {ica.n_components_}')\n",
    "        print(f'Brain Components: {len(brain_components)}, {100 * len(brain_components)/ica.n_components_:.2f}%')\n",
    "        print(f'Other Components: {len(other_components)}, {100 * len(other_components)/ica.n_components_:.2f}%')\n",
    "        print(f'List of Brain components: {brain_components}')\n",
    "\n",
    "        # Show the explained variance for top 5 components\n",
    "        for component_idx in range(min(5, ica.n_components_)):\n",
    "            component_variance = ica.get_explained_variance_ratio(EEG_cleaned, components=component_idx)\n",
    "            print(f\"Component {component_idx} contribution:\", end=' ')\n",
    "            for ch_type, variance in component_variance.items():\n",
    "                print(f\"  {ch_type}: {100 * variance:.2f}%\")\n",
    "\n",
    "        # ica.plot_overlay(EEG_cleaned, exclude=[0], picks=\"eeg\")\n",
    "\n",
    "    # -----------------------------------------------------------------------\n",
    "    # Epoching & identify epochs for rejection\n",
    "    #\n",
    "\n",
    "    # Group the EEG signal into epochs and apply linear detrending\n",
    "    epochs = mne.make_fixed_length_epochs(filtered_ica, duration=1, overlap=0, preload=True, verbose=flag_verbose)\n",
    "    epochs.apply_function(sci.signal.detrend, type='linear', verbose=flag_verbose)\n",
    "\n",
    "    # Use autoreject to identify unusual large amplitudes in each epoch, drop these\n",
    "    reject_criteria = get_rejection_threshold(epochs, verbose=flag_verbose)\n",
    "    epochs.drop_bad(reject=reject_criteria, verbose=False)\n",
    "\n",
    "    # Instantiate AutoReject and clean individual segments\n",
    "    epochs_ar, reject_log = ar_model.fit_transform(epochs, return_log=True)\n",
    "    epochs_ar.pick(['eeg'])\n",
    "    n_epochs_rejected = np.sum(reject_log.bad_epochs)\n",
    "    epochs_rejection_level = n_epochs_rejected / len(epochs)\n",
    "    \n",
    "    if flag_verbose:\n",
    "        print(f'Epochs rejected: {n_epochs_rejected} out of {len(epochs)}, {100 * epochs_rejection_level:.2f}%')\n",
    "        # TODO: Are these plots really of much use?\n",
    "        # Epochs plot rejection patterns\n",
    "        reject_log.plot('horizontal')\n",
    "        # Before and After\n",
    "        epochs.average().plot() \n",
    "        epochs_ar.average().plot() \n",
    "\n",
    "        print('EEG Post Artifact Removal')\n",
    "        print(epochs_ar)\n",
    "\n",
    "    # -----------------------------------------------------------------------\n",
    "    # Collate results\n",
    "    #\n",
    "    results = pd.Series({\n",
    "        'EEG_processing_quality_warning': quality_warning,\n",
    "        'channel_count': len(EEG_raw.ch_names),\n",
    "        'ICA_components_count': ica.n_components_,\n",
    "        'ICA_rejection_level': ICA_rejection_level,\n",
    "        'epochs_count': len(epochs),\n",
    "        'epoch_rejection_level': epochs_rejection_level\n",
    "        })\n",
    "    \n",
    "    return results, epochs_ar\n"
   ]
  },
  {
   "cell_type": "markdown",
   "id": "d3e4b130",
   "metadata": {},
   "source": [
    "## Get the Power Spectra"
   ]
  },
  {
   "cell_type": "code",
   "execution_count": 9,
   "id": "5bfc7111",
   "metadata": {},
   "outputs": [],
   "source": [
    "# Function to get the power spectra from the cleaned/preprocessed EEG signal data\n",
    "#\n",
    "\n",
    "def get_spectra(psd_params, EEG_clean):\n",
    "    \"\"\"\n",
    "    Obtain the Power Spectra for all channels\n",
    "\n",
    "    Parameters\n",
    "    ----------\n",
    "    psd_params : dic\n",
    "    EEG_clean : fif\n",
    "\n",
    "    Returns\n",
    "    -------\n",
    "    Spectra : frequencies and powers for each channel\n",
    "    \"\"\"\n",
    "\n",
    "    # NB: PSD defaults to Welch for continuous, Multitaper for epoched data, here will typically force to Welch\n",
    "    # TODO:  https://pmc.ncbi.nlm.nih.gov/articles/PMC6088222/\n",
    "\n",
    "    psd = EEG_clean.compute_psd(method=psd_params['method'],\n",
    "                                      fmin=psd_params['fmin'],\n",
    "                                      fmax=psd_params['fmax'],exclude=psd_params['exclude'])\n",
    "    \n",
    "    # Average the PSD accross epochs\n",
    "    if (isinstance(EEG_clean, mne.Epochs) and hasattr(EEG_clean, 'events')):\n",
    "        psd = psd.average()\n",
    "\n",
    "    # try:\n",
    "    #     spectra_result = EEG_clean.compute_psd(method=psd_params['method'],\n",
    "    #                                            fmin=psd_params['fmin'],\n",
    "    #                                            fmax=psd_params['fmax'],\n",
    "    #                                            exclude=psd_params['exclude'])\n",
    "    # except Exception as e:\n",
    "    #     raise Exception(f\"Error calculating spectra: {e}\")\n",
    "\n",
    "    return psd\n"
   ]
  },
  {
   "cell_type": "code",
   "execution_count": 10,
   "id": "ed76b718",
   "metadata": {},
   "outputs": [],
   "source": [
    "# Function to plot EEG Frequncy Domain / PSD\n",
    "def plot_EEG_PSD(spectra, channel):\n",
    "    \"\"\"\n",
    "    EEG Frequency Domain / PSD Plot.\n",
    "\n",
    "    Parameters\n",
    "    ----------\n",
    "    spectra : mne.Spectrum\n",
    "    channel : str eg 'P5'\n",
    "    \"\"\"\n",
    "\n",
    "    freqs = spectra.freqs\n",
    "    powers = spectra.get_data(return_freqs=False)\n",
    "\n",
    "    # print('Quick PSD')\n",
    "    # spectra.plot()\n",
    "    # plt.show()\n",
    "\n",
    "    # Log-log plot for all channels\n",
    "    plt.figure(figsize=(12, 6))\n",
    "    for idx, ch in enumerate(spectra.ch_names):\n",
    "        plt.loglog(freqs, powers[idx], alpha=0.5, label=ch if idx < 10 else None)  # label only first 10 for clarity\n",
    "    plt.title(f\"Power Spectrum (Log-Log) - All Channels ({spectra.method} method)\")\n",
    "    plt.xlabel(\"Frequency (Hz)\")\n",
    "    plt.ylabel(\"Power ($V^2/Hz$)\")\n",
    "    plt.tight_layout()\n",
    "    plt.show()\n",
    "\n",
    "    # Log-lin plot for all channels\n",
    "    plt.figure(figsize=(12, 6))\n",
    "    for idx, ch in enumerate(spectra.ch_names):\n",
    "         plt.semilogy(freqs, powers[idx], alpha=0.5, label=ch if idx < 10 else None)  # label only first 10 for clarity\n",
    "    plt.title(f\"Power Spectrum (Log-Lin) - All Channels ({spectra.method} method)\")\n",
    "    plt.xlabel(\"Frequency (Hz)\")\n",
    "    plt.ylabel(\"Power ($V^2/Hz$)\")\n",
    "    plt.tight_layout()\n",
    "    plt.show()\n",
    "\n",
    "    # A selected channel\n",
    "    ch_label = channel\n",
    "    fig, (ax0, ax1) = plt.subplots(nrows=1, ncols=2, figsize=(15, 5))\n",
    "    fig.suptitle(f'Power Spectrum - Channel {ch_label} ({spectra.method} method)', fontsize=20)\n",
    "    ax0.set_title('Log/Log')\n",
    "    ax1.set_title('Log/Lin')\n",
    "    plot_spectra(freqs, powers[spectra.ch_names.index(ch_label)], log_freqs=True, log_powers=True, ax=ax0, colors='blue')\n",
    "    plot_spectra(freqs, powers[spectra.ch_names.index(ch_label)], log_powers=True, ax=ax1, colors='blue')\n",
    "    plt.show()\n"
   ]
  },
  {
   "cell_type": "markdown",
   "id": "00d74c25",
   "metadata": {},
   "source": [
    "## Spectral Parameterisation"
   ]
  },
  {
   "cell_type": "code",
   "execution_count": 11,
   "id": "970e6ac7",
   "metadata": {},
   "outputs": [],
   "source": [
    "\n",
    "# # Validate the quality of the SpecParam group fits\n",
    "# fit_warning = False\n",
    "# r2_threshold = 0.90\n",
    "\n",
    "# spectra_n = len(fg)\n",
    "# null_fits = fg.n_null_\n",
    "# if null_fits > 0:\n",
    "#     warnings.warn(f'Fits Failed: {null_fits} out of {spectra_n}', UserWarning)\n",
    "#     fit_warning = True\n",
    "\n",
    "# r2s = fg.get_params('r_squared')\n",
    "# mean_r2 = r2s.mean()\n",
    "# std_r2 = r2s.std()\n",
    "# if mean_r2 < r2_threshold:\n",
    "#     warnings.warn(f'SpecParam R2 mean {mean_r2:.2f} & std {std_r2:.2f}', UserWarning)\n",
    "#     fit_warning = True\n",
    "\n",
    "# print(fit_warning)\n",
    "\n",
    "# mean_peaks = len(fg.get_params('peak_params')) / spectra_n\n",
    "# print(f'Spectra: {spectra_n} with mean peaks {mean_peaks:.2f}')"
   ]
  },
  {
   "cell_type": "code",
   "execution_count": 12,
   "id": "38713035",
   "metadata": {},
   "outputs": [],
   "source": [
    "# Function to perform Spectral Parameterisation and dtermine the aperiodic and periodic components\n",
    "#\n",
    "\n",
    "def perform_SpecParam(specparam_params, spectra):\n",
    "    \"\"\"\n",
    "    Spectral Parameterisation to determine the aperiodic and periodic components for all channels\n",
    "\n",
    "    Parameters\n",
    "    ----------\n",
    "    specparam_params : dic\n",
    "    spectra : spectra\n",
    "\n",
    "    Returns\n",
    "    -------\n",
    "    group_summary : pd series of group fit summary\n",
    "    specparam_df : dataframe of components for each channel\n",
    "    fg : SpectralGroup Model\n",
    "    \"\"\"\n",
    "\n",
    "    flag_verbose = (True if 'VERBOSE' in globals() and VERBOSE else False)\n",
    "\n",
    "    freqs = spectra.freqs\n",
    "    powers = spectra.get_data(return_freqs=False)\n",
    "\n",
    "    # Initialise SpecParam Group Model & fit it\n",
    "    fg = SpectralGroupModel(peak_width_limits=specparam_params['peak_width_limits'], \n",
    "                                max_n_peaks=specparam_params['max_n_peaks'], \n",
    "                                min_peak_height=specparam_params['min_peak_height'],\n",
    "                                peak_threshold=specparam_params['peak_threshold'],\n",
    "                                aperiodic_mode=specparam_params['aperiodic_mode'])\n",
    "    progress_flag = 'tqdm.notebook' if flag_verbose else None\n",
    "    fg.fit(freqs, powers, specparam_params['fit_freq_range'], progress=progress_flag, n_jobs=-1)\n",
    "\n",
    "    # Check the quality of SpecParam Group fits\n",
    "    fit_warning = False\n",
    "\n",
    "    spectra_n = len(fg)\n",
    "    null_fits = fg.n_null_\n",
    "    if null_fits > 0:\n",
    "        warnings.warn(f'Fits Failed: {null_fits} out of {spectra_n}', UserWarning)\n",
    "        fit_warning = True\n",
    "\n",
    "    r2s = fg.get_params('r_squared')\n",
    "    mean_r2 = r2s.mean()\n",
    "    std_r2 = r2s.std()\n",
    "    if mean_r2 < specparam_params['fit_r2_threshold']:\n",
    "        warnings.warn(f'SpecParam R2 mean {mean_r2:.2f} & std {std_r2:.2f}', UserWarning)\n",
    "        fit_warning = True\n",
    "\n",
    "    mean_peaks = len(fg.get_params('peak_params')) / spectra_n\n",
    "\n",
    "    group_summary = pd.Series({\n",
    "        'SPM_fit_quality_warning': fit_warning,\n",
    "        'spectra_count': spectra_n,\n",
    "        'null_fits': null_fits,\n",
    "        'r2_mean': mean_r2,\n",
    "        'peaks_mean': mean_peaks\n",
    "        })\n",
    "\n",
    "    # Create a results dataframe\n",
    "    specparam_df = fg.to_df(specparam_params['max_n_peaks'])   \n",
    "\n",
    "    \n",
    "    return group_summary, specparam_df, fg\n"
   ]
  },
  {
   "cell_type": "code",
   "execution_count": 13,
   "id": "9b21c07b",
   "metadata": {},
   "outputs": [],
   "source": [
    "# Function to plot SpecParam Results\n",
    "def plot_SpecParam(fg, channel_indx, channel_name):\n",
    "    \"\"\"\n",
    "    EEG SpecParam Results Plot\n",
    "\n",
    "    Parameters\n",
    "    ----------\n",
    "    fg : SpecParamGroupModel\n",
    "    \"\"\"\n",
    "    fm = fg.get_model(ind=channel_indx, regenerate=True)\n",
    "\n",
    "    print(f'SpecParam for Channel: {channel_name}')\n",
    "    fm.print_results()\n",
    "\n",
    "    # fm.plot()\n",
    "    fig, (ax0, ax1) = plt.subplots(nrows=1, ncols=2, figsize=(12, 8))\n",
    "    fig.suptitle(f'Spec Param for Channel: {channel_name}', fontsize=20)\n",
    "    ax0.set_title('Components - Log/Lin')\n",
    "    ax1.set_title('Components - Log/Log')\n",
    "    fm.plot(plot_peaks='shade', peak_kwargs={'color' : 'green'}, ax=ax0)\n",
    "    fm.plot(plot_peaks='shade', peak_kwargs={'color' : 'green'}, plt_log=True, ax=ax1)\n",
    "    plt.show()\n"
   ]
  },
  {
   "cell_type": "markdown",
   "id": "b2980086",
   "metadata": {},
   "source": [
    "## Results Collate"
   ]
  },
  {
   "cell_type": "code",
   "execution_count": 14,
   "id": "b9f1a263",
   "metadata": {},
   "outputs": [],
   "source": [
    "# Collate Results for a subject\n",
    "def subject_results_combine(subject_details, artefact_results, group_summary, specparam_results_df):\n",
    "    \"\"\"\n",
    "    Results collate for an indvidual subject\n",
    "\n",
    "    Parameters\n",
    "    ----------\n",
    "    subject_details : pd series\n",
    "    artefact_results : pd series\n",
    "    group_summary : pd series\n",
    "    specparam_results_df : df\n",
    "    Returns\n",
    "    -------\n",
    "    subject_results_df: df (single row)\n",
    "    \"\"\"\n",
    "\n",
    "    subject_results_df = pd.concat([subject_details, artefact_results, group_summary]).to_frame().T\n",
    "    subject_results_df = subject_results_df.infer_objects()\n",
    "\n",
    "    # Results Add\n",
    "    rows = [subject_results_df]\n",
    "    for idx, row in specparam_results_df.iterrows():\n",
    "        row_df = pd.DataFrame([row.values], columns=[f'chn_{idx}_{col}' for col in row.index])\n",
    "        rows.append(row_df)\n",
    "    subject_results_df = pd.concat(rows, axis=1, ignore_index=False)\n",
    "\n",
    "    return subject_results_df"
   ]
  },
  {
   "cell_type": "code",
   "execution_count": 15,
   "id": "7d31e4eb",
   "metadata": {},
   "outputs": [],
   "source": [
    "def display_file_summary(data_frame, name=\"\"):\n",
    "    # Create a temporary df and ensure no lists remain, so that unique items can be identified for uniqueness\n",
    "    temp_df = data_frame.copy()\n",
    "    temp_df = temp_df.map(lambda cell: str(cell) if isinstance(cell, list) else cell)\n",
    "    \n",
    "    # Calculate Data Types \n",
    "    summary_of_df = pd.DataFrame({'Count': data_frame.count(),\n",
    "                                 'Missing': data_frame.isnull().sum(), 'Empty': 0,\n",
    "                                 'Unique': temp_df.nunique(),\n",
    "                                #  'Top': data_frame.apply(lambda x: x.value_counts().index[0]),\n",
    "                                #  'Freq': data_frame.apply(lambda x: x.value_counts().iat[0]),\n",
    "                                 'Type': data_frame.dtypes, \n",
    "                                 'String': 0, 'Int': 0, 'Float': 0, 'Bool': 0, 'List': 0, 'Other': 0\n",
    "                                 })\n",
    "    # ?? Below with Map should not work as counting entire data frame, but counts do appear correct\n",
    "    #test = data_frame['Description'].apply(lambda cell: isinstance(cell, str)).sum()\n",
    "    summary_of_df['Empty'] = (data_frame == '').sum()\n",
    "    summary_of_df['String'] = data_frame.map(lambda cell: isinstance(cell, str)).sum()\n",
    "    summary_of_df['Int'] = data_frame.map(lambda cell: isinstance(cell, int)).sum()\n",
    "    summary_of_df['Float'] = data_frame.map(lambda cell: isinstance(cell, float)).sum()\n",
    "    summary_of_df['Bool'] = data_frame.map(lambda cell: isinstance(cell, bool)).sum()\n",
    "    summary_of_df['List'] = data_frame.map(lambda cell: isinstance(cell, list)).sum()\n",
    "    summary_of_df['Other'] = data_frame.map(lambda cell: isinstance(cell, (tuple,dict,set,type(None)))).sum()\n",
    "\n",
    "    print(f'File Details. {name}')\n",
    "    display(summary_of_df)"
   ]
  },
  {
   "cell_type": "markdown",
   "id": "bef45219",
   "metadata": {},
   "source": [
    "# Study & Run Parameters Define"
   ]
  },
  {
   "cell_type": "code",
   "execution_count": 16,
   "id": "417f247c",
   "metadata": {},
   "outputs": [],
   "source": [
    "# EEG Processing Run Define & Setup\n",
    "#\n",
    "\n",
    "# -----------------------------------------------------------------------\n",
    "# Study Details\n",
    "study_name = 'IOWA_Rest_New'\n",
    "dataset_ref = 'ds004584-1.0.0'\n",
    "# study_name = 'UNM_Oddball'\n",
    "# dataset_ref = 'ds003490-1.1.0'\n",
    "\n",
    "# Run/Test Mode\n",
    "test_mode = False\n",
    "run_name = 'full_process'\n",
    "\n",
    "# Execution Parameters\n",
    "preprocess_params = {'band_pass_lf': 1, 'band_pass_hf': 100, \n",
    "                     'band_pass_method': 'iir', 'phase': 'zero',\n",
    "                     'linear_detrend': 'linear',  # linear, none\n",
    "                     'channel_referencing': 'average'\n",
    "                     }\n",
    "artefact_params = {'ica_method': 'infomax', # infomax, none\n",
    "                   'ICA_rejection_threshold': 0.8\n",
    "                   }\n",
    "psd_params = {'method': 'welch', #welch or multitaper (often used for epoched data)\n",
    "              'fmin': 1, 'fmax': 100,       \n",
    "              'exclude': []  # Includes all, even bad channels\n",
    "              }\n",
    "specparam_params = {'peak_width_limits': [1, 12],\n",
    "                    'max_n_peaks': 10,\n",
    "                    'min_peak_height': 0.1,\n",
    "                    'peak_threshold': 2.0,\n",
    "                    'aperiodic_mode': 'fixed',\n",
    "                    'fit_freq_range' : [1, 100],\n",
    "                    'fit_r2_threshold': 0.9\n",
    "                     }\n",
    "# -----------------------------------------------------------------------\n",
    "\n",
    "# Get existing study details, if exists\n",
    "study_folder_path = utils.get_folder_path('Study_' + study_name)\n",
    "study_info = pd.read_pickle(study_folder_path + '/study_inf.pkl', compression='zip')\n",
    "study_subjects_df = pd.read_pickle(study_folder_path + '/study_subjects_df.pkl', compression='zip')\n",
    "\n",
    "# Get all folder paths from study_info_df\n",
    "dataset_path = study_info['dataset_path']\n",
    "eeg_processing_results_path = study_info['eeg_processing_results_path']\n",
    "ml_training_results_path = study_info['ml_training_results_path']\n",
    "\n",
    "# Establish a new EEG Processing Run\n",
    "current_date = datetime.now().strftime('%Y%m%d')\n",
    "eeg_run_id = f'EEG_Processing_{dataset_ref}_{current_date}_{run_name}'\n",
    "eeg_processing_run_path = utils.extend_folder_path(eeg_processing_results_path, eeg_run_id, exists_ok=False)\n",
    "results_pdf = PdfPages(os.path.join(eeg_processing_run_path, 'results.pdf'))\n",
    "\n",
    "# Create run df and save\n",
    "# eeg_run_params_df = pd.DataFrame({\n",
    "#     'eeg_run_id': eeg_run_id,\n",
    "#     'study_name': study_name,\n",
    "#     'dataset_ref': dataset_ref,\n",
    "#     'preprocess_params': preprocess_params,\n",
    "#     'artefact_params': artefact_params,\n",
    "#     'psd_params': psd_params,\n",
    "#     'specparam_params': specparam_params,\n",
    "# })\n",
    "# eeg_run_params_df.to_pickle(eeg_processing_run_path + '/eeg_run_params_df.pkl', compression='zip')\n",
    "eeg_run_params = pd.Series({\n",
    "    'eeg_run_id': eeg_run_id,\n",
    "    'study_name': study_name,\n",
    "    'dataset_ref': dataset_ref,\n",
    "    'preprocess_params': preprocess_params,\n",
    "    'artefact_params': artefact_params,\n",
    "    'psd_params': psd_params,\n",
    "    'specparam_params': specparam_params,\n",
    "})\n",
    "eeg_run_params.to_pickle(eeg_processing_run_path + '/eeg_run_params.pkl', compression='zip')\n",
    "\n",
    "# Create empty study results\n",
    "eeg_results_superset_df = pd.DataFrame()\n",
    "\n",
    "# Set progress messages, testing\n",
    "if test_mode:\n",
    "    VERBOSE = True\n",
    "    test_subjects = [1,25]\n",
    "    test_channels = ['P5', 'C4', 'Cz']\n",
    "else:\n",
    "    VERBOSE = False\n",
    "    test_subjects = []\n",
    "    test_channels = []\n",
    "\n",
    "del current_date, eeg_processing_results_path"
   ]
  },
  {
   "cell_type": "markdown",
   "id": "b7fda869",
   "metadata": {},
   "source": [
    "# Execute EEG Processing Run"
   ]
  },
  {
   "cell_type": "code",
   "execution_count": 17,
   "id": "4883987c",
   "metadata": {},
   "outputs": [
    {
     "name": "stdout",
     "output_type": "stream",
     "text": [
      "EEG Processing for: IOWA_Rest_New ds004584-1.0.0. Run: full_process\n",
      "- Preprocessing Params: {'band_pass_lf': 1, 'band_pass_hf': 100, 'band_pass_method': 'iir', 'phase': 'zero', 'linear_detrend': 'linear', 'channel_referencing': 'average'}\n",
      "- Artefact Removal Params: {'ica_method': 'infomax', 'ICA_rejection_threshold': 0.8}\n",
      "- PSD Params: {'method': 'welch', 'fmin': 1, 'fmax': 100, 'exclude': []}\n",
      "- Specparam Params: {'peak_width_limits': [1, 12], 'max_n_peaks': 10, 'min_peak_height': 0.1, 'peak_threshold': 2.0, 'aperiodic_mode': 'fixed', 'fit_freq_range': [1, 100], 'fit_r2_threshold': 0.9}\n",
      "\n",
      "-----------------------------------------------------------------------------------------------\n",
      "Subject: sub-001\n",
      "---Get EEG Raw Data - FIF -----------------------------------------\n"
     ]
    },
    {
     "name": "stderr",
     "output_type": "stream",
     "text": [
      "/var/folders/wd/rhzj_w8570g_y66t6j6mh4zw0000gn/T/ipykernel_97543/988434826.py:46: RuntimeWarning: The data contains 'boundary' events, indicating data discontinuities. Be cautious of filtering and epoching around these events.\n",
      "  eeg_dataset_raw = mne.io.read_raw_eeglab(eeg_lab_file_path, preload=True, verbose=flag_verbose)\n"
     ]
    },
    {
     "name": "stdout",
     "output_type": "stream",
     "text": [
      "---Filtering & Referencing------------------------------------------\n",
      "---Artefact Removal - ICA ------------------------------------------\n"
     ]
    },
    {
     "name": "stderr",
     "output_type": "stream",
     "text": [
      "/var/folders/wd/rhzj_w8570g_y66t6j6mh4zw0000gn/T/ipykernel_97543/1509335156.py:43: UserWarning: High component rejection: 93.55% marked as non-brain.\n",
      "  warnings.warn(f\"High component rejection: {100 * ICA_rejection_level:.2f}% marked as non-brain.\", UserWarning)\n"
     ]
    },
    {
     "name": "stdout",
     "output_type": "stream",
     "text": [
      "---Power Spectra----------------------------------------------------\n",
      "Effective window size : 1.000 (s)\n",
      "---EEG Spectral Parameterisation------------------------------------\n",
      "Fitting model across 63 power spectra.\n",
      "\n",
      "WARNING: Lower-bound peak width limit is < or ~= the frequency resolution: 1.00 <= 1.00\n",
      "\tLower bounds below frequency-resolution have no effect (effective lower bound is the frequency resolution).\n",
      "\tToo low a limit may lead to overfitting noise as small bandwidth peaks.\n",
      "\tWe recommend a lower bound of approximately 2x the frequency resolution.\n",
      "\n",
      "---Collating Results for sub-001 ------------------------------\n",
      "\n",
      "-----------------------------------------------------------------------------------------------\n",
      "Subject: sub-002\n",
      "---Get EEG Raw Data - FIF -----------------------------------------\n",
      "---Filtering & Referencing------------------------------------------\n"
     ]
    },
    {
     "name": "stderr",
     "output_type": "stream",
     "text": [
      "/var/folders/wd/rhzj_w8570g_y66t6j6mh4zw0000gn/T/ipykernel_97543/988434826.py:46: RuntimeWarning: The data contains 'boundary' events, indicating data discontinuities. Be cautious of filtering and epoching around these events.\n",
      "  eeg_dataset_raw = mne.io.read_raw_eeglab(eeg_lab_file_path, preload=True, verbose=flag_verbose)\n"
     ]
    },
    {
     "name": "stdout",
     "output_type": "stream",
     "text": [
      "---Artefact Removal - ICA ------------------------------------------\n",
      "---Power Spectra----------------------------------------------------\n",
      "Effective window size : 1.000 (s)\n",
      "---EEG Spectral Parameterisation------------------------------------\n",
      "Fitting model across 63 power spectra.\n",
      "\n",
      "WARNING: Lower-bound peak width limit is < or ~= the frequency resolution: 1.00 <= 1.00\n",
      "\tLower bounds below frequency-resolution have no effect (effective lower bound is the frequency resolution).\n",
      "\tToo low a limit may lead to overfitting noise as small bandwidth peaks.\n",
      "\tWe recommend a lower bound of approximately 2x the frequency resolution.\n",
      "\n",
      "---Collating Results for sub-002 ------------------------------\n",
      "\n",
      "-----------------------------------------------------------------------------------------------\n",
      "Subject: sub-003\n",
      "---Get EEG Raw Data - FIF -----------------------------------------\n",
      "---Filtering & Referencing------------------------------------------\n"
     ]
    },
    {
     "name": "stderr",
     "output_type": "stream",
     "text": [
      "/var/folders/wd/rhzj_w8570g_y66t6j6mh4zw0000gn/T/ipykernel_97543/988434826.py:46: RuntimeWarning: The data contains 'boundary' events, indicating data discontinuities. Be cautious of filtering and epoching around these events.\n",
      "  eeg_dataset_raw = mne.io.read_raw_eeglab(eeg_lab_file_path, preload=True, verbose=flag_verbose)\n"
     ]
    },
    {
     "name": "stdout",
     "output_type": "stream",
     "text": [
      "---Artefact Removal - ICA ------------------------------------------\n",
      "---Power Spectra----------------------------------------------------\n",
      "Effective window size : 1.000 (s)\n",
      "---EEG Spectral Parameterisation------------------------------------\n",
      "Fitting model across 63 power spectra.\n",
      "\n",
      "WARNING: Lower-bound peak width limit is < or ~= the frequency resolution: 1.00 <= 1.00\n",
      "\tLower bounds below frequency-resolution have no effect (effective lower bound is the frequency resolution).\n",
      "\tToo low a limit may lead to overfitting noise as small bandwidth peaks.\n",
      "\tWe recommend a lower bound of approximately 2x the frequency resolution.\n",
      "\n",
      "---Collating Results for sub-003 ------------------------------\n",
      "\n",
      "-----------------------------------------------------------------------------------------------\n",
      "Subject: sub-004\n",
      "---Get EEG Raw Data - FIF -----------------------------------------\n",
      "---Filtering & Referencing------------------------------------------\n"
     ]
    },
    {
     "name": "stderr",
     "output_type": "stream",
     "text": [
      "/var/folders/wd/rhzj_w8570g_y66t6j6mh4zw0000gn/T/ipykernel_97543/988434826.py:46: RuntimeWarning: The data contains 'boundary' events, indicating data discontinuities. Be cautious of filtering and epoching around these events.\n",
      "  eeg_dataset_raw = mne.io.read_raw_eeglab(eeg_lab_file_path, preload=True, verbose=flag_verbose)\n"
     ]
    },
    {
     "name": "stdout",
     "output_type": "stream",
     "text": [
      "---Artefact Removal - ICA ------------------------------------------\n",
      "---Power Spectra----------------------------------------------------\n",
      "Effective window size : 1.000 (s)\n",
      "---EEG Spectral Parameterisation------------------------------------\n",
      "Fitting model across 63 power spectra.\n",
      "\n",
      "WARNING: Lower-bound peak width limit is < or ~= the frequency resolution: 1.00 <= 1.00\n",
      "\tLower bounds below frequency-resolution have no effect (effective lower bound is the frequency resolution).\n",
      "\tToo low a limit may lead to overfitting noise as small bandwidth peaks.\n",
      "\tWe recommend a lower bound of approximately 2x the frequency resolution.\n",
      "\n",
      "---Collating Results for sub-004 ------------------------------\n",
      "\n",
      "-----------------------------------------------------------------------------------------------\n",
      "Subject: sub-005\n",
      "---Get EEG Raw Data - FIF -----------------------------------------\n",
      "---Filtering & Referencing------------------------------------------\n"
     ]
    },
    {
     "name": "stderr",
     "output_type": "stream",
     "text": [
      "/var/folders/wd/rhzj_w8570g_y66t6j6mh4zw0000gn/T/ipykernel_97543/988434826.py:46: RuntimeWarning: The data contains 'boundary' events, indicating data discontinuities. Be cautious of filtering and epoching around these events.\n",
      "  eeg_dataset_raw = mne.io.read_raw_eeglab(eeg_lab_file_path, preload=True, verbose=flag_verbose)\n"
     ]
    },
    {
     "name": "stdout",
     "output_type": "stream",
     "text": [
      "---Artefact Removal - ICA ------------------------------------------\n"
     ]
    },
    {
     "name": "stderr",
     "output_type": "stream",
     "text": [
      "/var/folders/wd/rhzj_w8570g_y66t6j6mh4zw0000gn/T/ipykernel_97543/1509335156.py:43: UserWarning: High component rejection: 80.65% marked as non-brain.\n",
      "  warnings.warn(f\"High component rejection: {100 * ICA_rejection_level:.2f}% marked as non-brain.\", UserWarning)\n"
     ]
    },
    {
     "name": "stdout",
     "output_type": "stream",
     "text": [
      "Dropped 3 epochs: 243, 247, 248\n",
      "---Power Spectra----------------------------------------------------\n",
      "Effective window size : 1.000 (s)\n",
      "---EEG Spectral Parameterisation------------------------------------\n",
      "Fitting model across 63 power spectra.\n",
      "\n",
      "WARNING: Lower-bound peak width limit is < or ~= the frequency resolution: 1.00 <= 1.00\n",
      "\tLower bounds below frequency-resolution have no effect (effective lower bound is the frequency resolution).\n",
      "\tToo low a limit may lead to overfitting noise as small bandwidth peaks.\n",
      "\tWe recommend a lower bound of approximately 2x the frequency resolution.\n",
      "\n",
      "---Collating Results for sub-005 ------------------------------\n",
      "\n",
      "-----------------------------------------------------------------------------------------------\n",
      "Subject: sub-006\n",
      "---Get EEG Raw Data - FIF -----------------------------------------\n"
     ]
    },
    {
     "name": "stderr",
     "output_type": "stream",
     "text": [
      "/var/folders/wd/rhzj_w8570g_y66t6j6mh4zw0000gn/T/ipykernel_97543/3423391515.py:47: UserWarning: SpecParam R2 mean 0.89 & std 0.10\n",
      "  warnings.warn(f'SpecParam R2 mean {mean_r2:.2f} & std {std_r2:.2f}', UserWarning)\n",
      "/var/folders/wd/rhzj_w8570g_y66t6j6mh4zw0000gn/T/ipykernel_97543/988434826.py:46: RuntimeWarning: The data contains 'boundary' events, indicating data discontinuities. Be cautious of filtering and epoching around these events.\n",
      "  eeg_dataset_raw = mne.io.read_raw_eeglab(eeg_lab_file_path, preload=True, verbose=flag_verbose)\n"
     ]
    },
    {
     "name": "stdout",
     "output_type": "stream",
     "text": [
      "---Filtering & Referencing------------------------------------------\n",
      "---Artefact Removal - ICA ------------------------------------------\n",
      "---Power Spectra----------------------------------------------------\n",
      "Effective window size : 1.000 (s)\n",
      "---EEG Spectral Parameterisation------------------------------------\n",
      "Fitting model across 63 power spectra.\n",
      "\n",
      "WARNING: Lower-bound peak width limit is < or ~= the frequency resolution: 1.00 <= 1.00\n",
      "\tLower bounds below frequency-resolution have no effect (effective lower bound is the frequency resolution).\n",
      "\tToo low a limit may lead to overfitting noise as small bandwidth peaks.\n",
      "\tWe recommend a lower bound of approximately 2x the frequency resolution.\n",
      "\n",
      "---Collating Results for sub-006 ------------------------------\n",
      "\n",
      "-----------------------------------------------------------------------------------------------\n",
      "Subject: sub-007\n",
      "---Get EEG Raw Data - FIF -----------------------------------------\n",
      "---Filtering & Referencing------------------------------------------\n"
     ]
    },
    {
     "name": "stderr",
     "output_type": "stream",
     "text": [
      "/var/folders/wd/rhzj_w8570g_y66t6j6mh4zw0000gn/T/ipykernel_97543/988434826.py:46: RuntimeWarning: The data contains 'boundary' events, indicating data discontinuities. Be cautious of filtering and epoching around these events.\n",
      "  eeg_dataset_raw = mne.io.read_raw_eeglab(eeg_lab_file_path, preload=True, verbose=flag_verbose)\n"
     ]
    },
    {
     "name": "stdout",
     "output_type": "stream",
     "text": [
      "---Artefact Removal - ICA ------------------------------------------\n",
      "---Power Spectra----------------------------------------------------\n",
      "Effective window size : 1.000 (s)\n",
      "---EEG Spectral Parameterisation------------------------------------\n",
      "Fitting model across 63 power spectra.\n",
      "\n",
      "WARNING: Lower-bound peak width limit is < or ~= the frequency resolution: 1.00 <= 1.00\n",
      "\tLower bounds below frequency-resolution have no effect (effective lower bound is the frequency resolution).\n",
      "\tToo low a limit may lead to overfitting noise as small bandwidth peaks.\n",
      "\tWe recommend a lower bound of approximately 2x the frequency resolution.\n",
      "\n",
      "---Collating Results for sub-007 ------------------------------\n",
      "\n",
      "-----------------------------------------------------------------------------------------------\n",
      "Subject: sub-008\n",
      "---Get EEG Raw Data - FIF -----------------------------------------\n"
     ]
    },
    {
     "name": "stderr",
     "output_type": "stream",
     "text": [
      "/var/folders/wd/rhzj_w8570g_y66t6j6mh4zw0000gn/T/ipykernel_97543/988434826.py:46: RuntimeWarning: The data contains 'boundary' events, indicating data discontinuities. Be cautious of filtering and epoching around these events.\n",
      "  eeg_dataset_raw = mne.io.read_raw_eeglab(eeg_lab_file_path, preload=True, verbose=flag_verbose)\n"
     ]
    },
    {
     "name": "stdout",
     "output_type": "stream",
     "text": [
      "---Filtering & Referencing------------------------------------------\n",
      "---Artefact Removal - ICA ------------------------------------------\n"
     ]
    },
    {
     "name": "stderr",
     "output_type": "stream",
     "text": [
      "/var/folders/wd/rhzj_w8570g_y66t6j6mh4zw0000gn/T/ipykernel_97543/1509335156.py:43: UserWarning: High component rejection: 80.65% marked as non-brain.\n",
      "  warnings.warn(f\"High component rejection: {100 * ICA_rejection_level:.2f}% marked as non-brain.\", UserWarning)\n"
     ]
    },
    {
     "name": "stdout",
     "output_type": "stream",
     "text": [
      "---Power Spectra----------------------------------------------------\n",
      "Effective window size : 1.000 (s)\n",
      "---EEG Spectral Parameterisation------------------------------------\n",
      "Fitting model across 63 power spectra.\n",
      "\n",
      "WARNING: Lower-bound peak width limit is < or ~= the frequency resolution: 1.00 <= 1.00\n",
      "\tLower bounds below frequency-resolution have no effect (effective lower bound is the frequency resolution).\n",
      "\tToo low a limit may lead to overfitting noise as small bandwidth peaks.\n",
      "\tWe recommend a lower bound of approximately 2x the frequency resolution.\n",
      "\n",
      "---Collating Results for sub-008 ------------------------------\n",
      "\n",
      "-----------------------------------------------------------------------------------------------\n",
      "Subject: sub-009\n",
      "---Get EEG Raw Data - FIF -----------------------------------------\n",
      "---Filtering & Referencing------------------------------------------\n"
     ]
    },
    {
     "name": "stderr",
     "output_type": "stream",
     "text": [
      "/var/folders/wd/rhzj_w8570g_y66t6j6mh4zw0000gn/T/ipykernel_97543/988434826.py:46: RuntimeWarning: The data contains 'boundary' events, indicating data discontinuities. Be cautious of filtering and epoching around these events.\n",
      "  eeg_dataset_raw = mne.io.read_raw_eeglab(eeg_lab_file_path, preload=True, verbose=flag_verbose)\n"
     ]
    },
    {
     "name": "stdout",
     "output_type": "stream",
     "text": [
      "---Artefact Removal - ICA ------------------------------------------\n"
     ]
    },
    {
     "name": "stderr",
     "output_type": "stream",
     "text": [
      "/var/folders/wd/rhzj_w8570g_y66t6j6mh4zw0000gn/T/ipykernel_97543/1509335156.py:43: UserWarning: High component rejection: 83.33% marked as non-brain.\n",
      "  warnings.warn(f\"High component rejection: {100 * ICA_rejection_level:.2f}% marked as non-brain.\", UserWarning)\n"
     ]
    },
    {
     "name": "stdout",
     "output_type": "stream",
     "text": [
      "---Power Spectra----------------------------------------------------\n",
      "Effective window size : 1.000 (s)\n",
      "---EEG Spectral Parameterisation------------------------------------\n",
      "Fitting model across 61 power spectra.\n",
      "\n",
      "WARNING: Lower-bound peak width limit is < or ~= the frequency resolution: 1.00 <= 1.00\n",
      "\tLower bounds below frequency-resolution have no effect (effective lower bound is the frequency resolution).\n",
      "\tToo low a limit may lead to overfitting noise as small bandwidth peaks.\n",
      "\tWe recommend a lower bound of approximately 2x the frequency resolution.\n",
      "\n",
      "---Collating Results for sub-009 ------------------------------\n",
      "\n",
      "-----------------------------------------------------------------------------------------------\n",
      "Subject: sub-010\n",
      "---Get EEG Raw Data - FIF -----------------------------------------\n"
     ]
    },
    {
     "name": "stderr",
     "output_type": "stream",
     "text": [
      "/var/folders/wd/rhzj_w8570g_y66t6j6mh4zw0000gn/T/ipykernel_97543/988434826.py:46: RuntimeWarning: The data contains 'boundary' events, indicating data discontinuities. Be cautious of filtering and epoching around these events.\n",
      "  eeg_dataset_raw = mne.io.read_raw_eeglab(eeg_lab_file_path, preload=True, verbose=flag_verbose)\n"
     ]
    },
    {
     "name": "stdout",
     "output_type": "stream",
     "text": [
      "---Filtering & Referencing------------------------------------------\n",
      "---Artefact Removal - ICA ------------------------------------------\n",
      "Dropped 10 epochs: 7, 117, 290, 291, 292, 302, 306, 309, 316, 334\n",
      "---Power Spectra----------------------------------------------------\n",
      "Effective window size : 1.000 (s)\n",
      "---EEG Spectral Parameterisation------------------------------------\n",
      "Fitting model across 61 power spectra.\n",
      "\n",
      "WARNING: Lower-bound peak width limit is < or ~= the frequency resolution: 1.00 <= 1.00\n",
      "\tLower bounds below frequency-resolution have no effect (effective lower bound is the frequency resolution).\n",
      "\tToo low a limit may lead to overfitting noise as small bandwidth peaks.\n",
      "\tWe recommend a lower bound of approximately 2x the frequency resolution.\n",
      "\n",
      "---Collating Results for sub-010 ------------------------------\n",
      "\n",
      "-----------------------------------------------------------------------------------------------\n",
      "Subject: sub-011\n",
      "---Get EEG Raw Data - FIF -----------------------------------------\n",
      "---Filtering & Referencing------------------------------------------\n"
     ]
    },
    {
     "name": "stderr",
     "output_type": "stream",
     "text": [
      "/var/folders/wd/rhzj_w8570g_y66t6j6mh4zw0000gn/T/ipykernel_97543/988434826.py:46: RuntimeWarning: The data contains 'boundary' events, indicating data discontinuities. Be cautious of filtering and epoching around these events.\n",
      "  eeg_dataset_raw = mne.io.read_raw_eeglab(eeg_lab_file_path, preload=True, verbose=flag_verbose)\n"
     ]
    },
    {
     "name": "stdout",
     "output_type": "stream",
     "text": [
      "---Artefact Removal - ICA ------------------------------------------\n",
      "---Power Spectra----------------------------------------------------\n",
      "Effective window size : 1.000 (s)\n",
      "---EEG Spectral Parameterisation------------------------------------\n",
      "Fitting model across 61 power spectra.\n",
      "\n",
      "WARNING: Lower-bound peak width limit is < or ~= the frequency resolution: 1.00 <= 1.00\n",
      "\tLower bounds below frequency-resolution have no effect (effective lower bound is the frequency resolution).\n",
      "\tToo low a limit may lead to overfitting noise as small bandwidth peaks.\n",
      "\tWe recommend a lower bound of approximately 2x the frequency resolution.\n",
      "\n",
      "---Collating Results for sub-011 ------------------------------\n",
      "\n",
      "-----------------------------------------------------------------------------------------------\n",
      "Subject: sub-012\n",
      "---Get EEG Raw Data - FIF -----------------------------------------\n",
      "---Filtering & Referencing------------------------------------------\n"
     ]
    },
    {
     "name": "stderr",
     "output_type": "stream",
     "text": [
      "/var/folders/wd/rhzj_w8570g_y66t6j6mh4zw0000gn/T/ipykernel_97543/988434826.py:46: RuntimeWarning: The data contains 'boundary' events, indicating data discontinuities. Be cautious of filtering and epoching around these events.\n",
      "  eeg_dataset_raw = mne.io.read_raw_eeglab(eeg_lab_file_path, preload=True, verbose=flag_verbose)\n"
     ]
    },
    {
     "name": "stdout",
     "output_type": "stream",
     "text": [
      "---Artefact Removal - ICA ------------------------------------------\n",
      "---Power Spectra----------------------------------------------------\n",
      "Effective window size : 1.000 (s)\n",
      "---EEG Spectral Parameterisation------------------------------------\n",
      "Fitting model across 61 power spectra.\n",
      "\n",
      "WARNING: Lower-bound peak width limit is < or ~= the frequency resolution: 1.00 <= 1.00\n",
      "\tLower bounds below frequency-resolution have no effect (effective lower bound is the frequency resolution).\n",
      "\tToo low a limit may lead to overfitting noise as small bandwidth peaks.\n",
      "\tWe recommend a lower bound of approximately 2x the frequency resolution.\n",
      "\n",
      "---Collating Results for sub-012 ------------------------------\n",
      "\n",
      "-----------------------------------------------------------------------------------------------\n",
      "Subject: sub-013\n",
      "---Get EEG Raw Data - FIF -----------------------------------------\n",
      "---Filtering & Referencing------------------------------------------\n"
     ]
    },
    {
     "name": "stderr",
     "output_type": "stream",
     "text": [
      "/var/folders/wd/rhzj_w8570g_y66t6j6mh4zw0000gn/T/ipykernel_97543/988434826.py:46: RuntimeWarning: The data contains 'boundary' events, indicating data discontinuities. Be cautious of filtering and epoching around these events.\n",
      "  eeg_dataset_raw = mne.io.read_raw_eeglab(eeg_lab_file_path, preload=True, verbose=flag_verbose)\n"
     ]
    },
    {
     "name": "stdout",
     "output_type": "stream",
     "text": [
      "---Artefact Removal - ICA ------------------------------------------\n",
      "---Power Spectra----------------------------------------------------\n",
      "Effective window size : 1.000 (s)\n",
      "---EEG Spectral Parameterisation------------------------------------\n",
      "Fitting model across 61 power spectra.\n",
      "\n",
      "WARNING: Lower-bound peak width limit is < or ~= the frequency resolution: 1.00 <= 1.00\n",
      "\tLower bounds below frequency-resolution have no effect (effective lower bound is the frequency resolution).\n",
      "\tToo low a limit may lead to overfitting noise as small bandwidth peaks.\n",
      "\tWe recommend a lower bound of approximately 2x the frequency resolution.\n",
      "\n",
      "---Collating Results for sub-013 ------------------------------\n",
      "\n",
      "-----------------------------------------------------------------------------------------------\n",
      "Subject: sub-014\n",
      "---Get EEG Raw Data - FIF -----------------------------------------\n",
      "---Filtering & Referencing------------------------------------------\n"
     ]
    },
    {
     "name": "stderr",
     "output_type": "stream",
     "text": [
      "/var/folders/wd/rhzj_w8570g_y66t6j6mh4zw0000gn/T/ipykernel_97543/988434826.py:46: RuntimeWarning: The data contains 'boundary' events, indicating data discontinuities. Be cautious of filtering and epoching around these events.\n",
      "  eeg_dataset_raw = mne.io.read_raw_eeglab(eeg_lab_file_path, preload=True, verbose=flag_verbose)\n"
     ]
    },
    {
     "name": "stdout",
     "output_type": "stream",
     "text": [
      "---Artefact Removal - ICA ------------------------------------------\n"
     ]
    },
    {
     "name": "stderr",
     "output_type": "stream",
     "text": [
      "/var/folders/wd/rhzj_w8570g_y66t6j6mh4zw0000gn/T/ipykernel_97543/1509335156.py:43: UserWarning: High component rejection: 83.33% marked as non-brain.\n",
      "  warnings.warn(f\"High component rejection: {100 * ICA_rejection_level:.2f}% marked as non-brain.\", UserWarning)\n"
     ]
    },
    {
     "name": "stdout",
     "output_type": "stream",
     "text": [
      "---Power Spectra----------------------------------------------------\n",
      "Effective window size : 1.000 (s)\n",
      "---EEG Spectral Parameterisation------------------------------------\n",
      "Fitting model across 61 power spectra.\n",
      "\n",
      "WARNING: Lower-bound peak width limit is < or ~= the frequency resolution: 1.00 <= 1.00\n",
      "\tLower bounds below frequency-resolution have no effect (effective lower bound is the frequency resolution).\n",
      "\tToo low a limit may lead to overfitting noise as small bandwidth peaks.\n",
      "\tWe recommend a lower bound of approximately 2x the frequency resolution.\n",
      "\n",
      "---Collating Results for sub-014 ------------------------------\n",
      "\n",
      "-----------------------------------------------------------------------------------------------\n",
      "Subject: sub-015\n",
      "---Get EEG Raw Data - FIF -----------------------------------------\n",
      "---Filtering & Referencing------------------------------------------\n"
     ]
    },
    {
     "name": "stderr",
     "output_type": "stream",
     "text": [
      "/var/folders/wd/rhzj_w8570g_y66t6j6mh4zw0000gn/T/ipykernel_97543/988434826.py:46: RuntimeWarning: The data contains 'boundary' events, indicating data discontinuities. Be cautious of filtering and epoching around these events.\n",
      "  eeg_dataset_raw = mne.io.read_raw_eeglab(eeg_lab_file_path, preload=True, verbose=flag_verbose)\n"
     ]
    },
    {
     "name": "stdout",
     "output_type": "stream",
     "text": [
      "---Artefact Removal - ICA ------------------------------------------\n"
     ]
    },
    {
     "name": "stderr",
     "output_type": "stream",
     "text": [
      "/var/folders/wd/rhzj_w8570g_y66t6j6mh4zw0000gn/T/ipykernel_97543/1509335156.py:43: UserWarning: High component rejection: 85.00% marked as non-brain.\n",
      "  warnings.warn(f\"High component rejection: {100 * ICA_rejection_level:.2f}% marked as non-brain.\", UserWarning)\n"
     ]
    },
    {
     "name": "stdout",
     "output_type": "stream",
     "text": [
      "---Power Spectra----------------------------------------------------\n",
      "Effective window size : 1.000 (s)\n",
      "---EEG Spectral Parameterisation------------------------------------\n",
      "Fitting model across 61 power spectra.\n",
      "\n",
      "WARNING: Lower-bound peak width limit is < or ~= the frequency resolution: 1.00 <= 1.00\n",
      "\tLower bounds below frequency-resolution have no effect (effective lower bound is the frequency resolution).\n",
      "\tToo low a limit may lead to overfitting noise as small bandwidth peaks.\n",
      "\tWe recommend a lower bound of approximately 2x the frequency resolution.\n",
      "\n",
      "---Collating Results for sub-015 ------------------------------\n",
      "\n",
      "-----------------------------------------------------------------------------------------------\n",
      "Subject: sub-016\n",
      "---Get EEG Raw Data - FIF -----------------------------------------\n",
      "---Filtering & Referencing------------------------------------------\n"
     ]
    },
    {
     "name": "stderr",
     "output_type": "stream",
     "text": [
      "/var/folders/wd/rhzj_w8570g_y66t6j6mh4zw0000gn/T/ipykernel_97543/988434826.py:46: RuntimeWarning: The data contains 'boundary' events, indicating data discontinuities. Be cautious of filtering and epoching around these events.\n",
      "  eeg_dataset_raw = mne.io.read_raw_eeglab(eeg_lab_file_path, preload=True, verbose=flag_verbose)\n"
     ]
    },
    {
     "name": "stdout",
     "output_type": "stream",
     "text": [
      "---Artefact Removal - ICA ------------------------------------------\n",
      "Dropped 12 epochs: 11, 29, 42, 52, 57, 58, 90, 91, 97, 98, 103, 105\n",
      "---Power Spectra----------------------------------------------------\n",
      "Effective window size : 1.000 (s)\n",
      "---EEG Spectral Parameterisation------------------------------------\n",
      "Fitting model across 61 power spectra.\n",
      "\n",
      "WARNING: Lower-bound peak width limit is < or ~= the frequency resolution: 1.00 <= 1.00\n",
      "\tLower bounds below frequency-resolution have no effect (effective lower bound is the frequency resolution).\n",
      "\tToo low a limit may lead to overfitting noise as small bandwidth peaks.\n",
      "\tWe recommend a lower bound of approximately 2x the frequency resolution.\n",
      "\n",
      "---Collating Results for sub-016 ------------------------------\n",
      "\n",
      "-----------------------------------------------------------------------------------------------\n",
      "Subject: sub-017\n",
      "---Get EEG Raw Data - FIF -----------------------------------------\n"
     ]
    },
    {
     "name": "stderr",
     "output_type": "stream",
     "text": [
      "/var/folders/wd/rhzj_w8570g_y66t6j6mh4zw0000gn/T/ipykernel_97543/988434826.py:46: RuntimeWarning: The data contains 'boundary' events, indicating data discontinuities. Be cautious of filtering and epoching around these events.\n",
      "  eeg_dataset_raw = mne.io.read_raw_eeglab(eeg_lab_file_path, preload=True, verbose=flag_verbose)\n"
     ]
    },
    {
     "name": "stdout",
     "output_type": "stream",
     "text": [
      "---Filtering & Referencing------------------------------------------\n",
      "---Artefact Removal - ICA ------------------------------------------\n",
      "---Power Spectra----------------------------------------------------\n",
      "Effective window size : 1.000 (s)\n",
      "---EEG Spectral Parameterisation------------------------------------\n",
      "Fitting model across 61 power spectra.\n",
      "\n",
      "WARNING: Lower-bound peak width limit is < or ~= the frequency resolution: 1.00 <= 1.00\n",
      "\tLower bounds below frequency-resolution have no effect (effective lower bound is the frequency resolution).\n",
      "\tToo low a limit may lead to overfitting noise as small bandwidth peaks.\n",
      "\tWe recommend a lower bound of approximately 2x the frequency resolution.\n",
      "\n",
      "---Collating Results for sub-017 ------------------------------\n",
      "\n",
      "-----------------------------------------------------------------------------------------------\n",
      "Subject: sub-018\n",
      "---Get EEG Raw Data - FIF -----------------------------------------\n",
      "---Filtering & Referencing------------------------------------------\n"
     ]
    },
    {
     "name": "stderr",
     "output_type": "stream",
     "text": [
      "/var/folders/wd/rhzj_w8570g_y66t6j6mh4zw0000gn/T/ipykernel_97543/988434826.py:46: RuntimeWarning: The data contains 'boundary' events, indicating data discontinuities. Be cautious of filtering and epoching around these events.\n",
      "  eeg_dataset_raw = mne.io.read_raw_eeglab(eeg_lab_file_path, preload=True, verbose=flag_verbose)\n"
     ]
    },
    {
     "name": "stdout",
     "output_type": "stream",
     "text": [
      "---Artefact Removal - ICA ------------------------------------------\n"
     ]
    },
    {
     "name": "stderr",
     "output_type": "stream",
     "text": [
      "/var/folders/wd/rhzj_w8570g_y66t6j6mh4zw0000gn/T/ipykernel_97543/1509335156.py:43: UserWarning: High component rejection: 90.00% marked as non-brain.\n",
      "  warnings.warn(f\"High component rejection: {100 * ICA_rejection_level:.2f}% marked as non-brain.\", UserWarning)\n"
     ]
    },
    {
     "name": "stdout",
     "output_type": "stream",
     "text": [
      "Dropped 2 epochs: 0, 102\n",
      "---Power Spectra----------------------------------------------------\n",
      "Effective window size : 1.000 (s)\n",
      "---EEG Spectral Parameterisation------------------------------------\n",
      "Fitting model across 61 power spectra.\n",
      "\n",
      "WARNING: Lower-bound peak width limit is < or ~= the frequency resolution: 1.00 <= 1.00\n",
      "\tLower bounds below frequency-resolution have no effect (effective lower bound is the frequency resolution).\n",
      "\tToo low a limit may lead to overfitting noise as small bandwidth peaks.\n",
      "\tWe recommend a lower bound of approximately 2x the frequency resolution.\n",
      "\n",
      "---Collating Results for sub-018 ------------------------------\n",
      "\n",
      "-----------------------------------------------------------------------------------------------\n",
      "Subject: sub-019\n",
      "---Get EEG Raw Data - FIF -----------------------------------------\n",
      "---Filtering & Referencing------------------------------------------\n"
     ]
    },
    {
     "name": "stderr",
     "output_type": "stream",
     "text": [
      "/var/folders/wd/rhzj_w8570g_y66t6j6mh4zw0000gn/T/ipykernel_97543/988434826.py:46: RuntimeWarning: The data contains 'boundary' events, indicating data discontinuities. Be cautious of filtering and epoching around these events.\n",
      "  eeg_dataset_raw = mne.io.read_raw_eeglab(eeg_lab_file_path, preload=True, verbose=flag_verbose)\n"
     ]
    },
    {
     "name": "stdout",
     "output_type": "stream",
     "text": [
      "---Artefact Removal - ICA ------------------------------------------\n",
      "---Power Spectra----------------------------------------------------\n",
      "Effective window size : 1.000 (s)\n",
      "---EEG Spectral Parameterisation------------------------------------\n",
      "Fitting model across 61 power spectra.\n",
      "\n",
      "WARNING: Lower-bound peak width limit is < or ~= the frequency resolution: 1.00 <= 1.00\n",
      "\tLower bounds below frequency-resolution have no effect (effective lower bound is the frequency resolution).\n",
      "\tToo low a limit may lead to overfitting noise as small bandwidth peaks.\n",
      "\tWe recommend a lower bound of approximately 2x the frequency resolution.\n",
      "\n",
      "---Collating Results for sub-019 ------------------------------\n",
      "\n",
      "-----------------------------------------------------------------------------------------------\n",
      "Subject: sub-020\n",
      "---Get EEG Raw Data - FIF -----------------------------------------\n",
      "---Filtering & Referencing------------------------------------------\n"
     ]
    },
    {
     "name": "stderr",
     "output_type": "stream",
     "text": [
      "/var/folders/wd/rhzj_w8570g_y66t6j6mh4zw0000gn/T/ipykernel_97543/988434826.py:46: RuntimeWarning: The data contains 'boundary' events, indicating data discontinuities. Be cautious of filtering and epoching around these events.\n",
      "  eeg_dataset_raw = mne.io.read_raw_eeglab(eeg_lab_file_path, preload=True, verbose=flag_verbose)\n"
     ]
    },
    {
     "name": "stdout",
     "output_type": "stream",
     "text": [
      "---Artefact Removal - ICA ------------------------------------------\n",
      "---Power Spectra----------------------------------------------------\n",
      "Effective window size : 1.000 (s)\n",
      "---EEG Spectral Parameterisation------------------------------------\n",
      "Fitting model across 61 power spectra.\n",
      "\n",
      "WARNING: Lower-bound peak width limit is < or ~= the frequency resolution: 1.00 <= 1.00\n",
      "\tLower bounds below frequency-resolution have no effect (effective lower bound is the frequency resolution).\n",
      "\tToo low a limit may lead to overfitting noise as small bandwidth peaks.\n",
      "\tWe recommend a lower bound of approximately 2x the frequency resolution.\n",
      "\n",
      "---Collating Results for sub-020 ------------------------------\n",
      "\n",
      "-----------------------------------------------------------------------------------------------\n",
      "Subject: sub-021\n",
      "---Get EEG Raw Data - FIF -----------------------------------------\n",
      "---Filtering & Referencing------------------------------------------\n"
     ]
    },
    {
     "name": "stderr",
     "output_type": "stream",
     "text": [
      "/var/folders/wd/rhzj_w8570g_y66t6j6mh4zw0000gn/T/ipykernel_97543/988434826.py:46: RuntimeWarning: The data contains 'boundary' events, indicating data discontinuities. Be cautious of filtering and epoching around these events.\n",
      "  eeg_dataset_raw = mne.io.read_raw_eeglab(eeg_lab_file_path, preload=True, verbose=flag_verbose)\n"
     ]
    },
    {
     "name": "stdout",
     "output_type": "stream",
     "text": [
      "---Artefact Removal - ICA ------------------------------------------\n"
     ]
    },
    {
     "name": "stderr",
     "output_type": "stream",
     "text": [
      "/var/folders/wd/rhzj_w8570g_y66t6j6mh4zw0000gn/T/ipykernel_97543/1509335156.py:43: UserWarning: High component rejection: 91.67% marked as non-brain.\n",
      "  warnings.warn(f\"High component rejection: {100 * ICA_rejection_level:.2f}% marked as non-brain.\", UserWarning)\n"
     ]
    },
    {
     "name": "stdout",
     "output_type": "stream",
     "text": [
      "---Power Spectra----------------------------------------------------\n",
      "Effective window size : 1.000 (s)\n",
      "---EEG Spectral Parameterisation------------------------------------\n",
      "Fitting model across 61 power spectra.\n",
      "\n",
      "WARNING: Lower-bound peak width limit is < or ~= the frequency resolution: 1.00 <= 1.00\n",
      "\tLower bounds below frequency-resolution have no effect (effective lower bound is the frequency resolution).\n",
      "\tToo low a limit may lead to overfitting noise as small bandwidth peaks.\n",
      "\tWe recommend a lower bound of approximately 2x the frequency resolution.\n",
      "\n",
      "---Collating Results for sub-021 ------------------------------\n",
      "\n",
      "-----------------------------------------------------------------------------------------------\n",
      "Subject: sub-022\n",
      "---Get EEG Raw Data - FIF -----------------------------------------\n",
      "---Filtering & Referencing------------------------------------------\n"
     ]
    },
    {
     "name": "stderr",
     "output_type": "stream",
     "text": [
      "/var/folders/wd/rhzj_w8570g_y66t6j6mh4zw0000gn/T/ipykernel_97543/988434826.py:46: RuntimeWarning: The data contains 'boundary' events, indicating data discontinuities. Be cautious of filtering and epoching around these events.\n",
      "  eeg_dataset_raw = mne.io.read_raw_eeglab(eeg_lab_file_path, preload=True, verbose=flag_verbose)\n"
     ]
    },
    {
     "name": "stdout",
     "output_type": "stream",
     "text": [
      "---Artefact Removal - ICA ------------------------------------------\n"
     ]
    },
    {
     "name": "stderr",
     "output_type": "stream",
     "text": [
      "/var/folders/wd/rhzj_w8570g_y66t6j6mh4zw0000gn/T/ipykernel_97543/1509335156.py:43: UserWarning: High component rejection: 86.67% marked as non-brain.\n",
      "  warnings.warn(f\"High component rejection: {100 * ICA_rejection_level:.2f}% marked as non-brain.\", UserWarning)\n"
     ]
    },
    {
     "name": "stdout",
     "output_type": "stream",
     "text": [
      "---Power Spectra----------------------------------------------------\n",
      "Effective window size : 1.000 (s)\n",
      "---EEG Spectral Parameterisation------------------------------------\n",
      "Fitting model across 61 power spectra.\n",
      "\n",
      "WARNING: Lower-bound peak width limit is < or ~= the frequency resolution: 1.00 <= 1.00\n",
      "\tLower bounds below frequency-resolution have no effect (effective lower bound is the frequency resolution).\n",
      "\tToo low a limit may lead to overfitting noise as small bandwidth peaks.\n",
      "\tWe recommend a lower bound of approximately 2x the frequency resolution.\n",
      "\n",
      "---Collating Results for sub-022 ------------------------------\n",
      "\n",
      "-----------------------------------------------------------------------------------------------\n",
      "Subject: sub-023\n",
      "---Get EEG Raw Data - FIF -----------------------------------------\n",
      "---Filtering & Referencing------------------------------------------\n"
     ]
    },
    {
     "name": "stderr",
     "output_type": "stream",
     "text": [
      "/var/folders/wd/rhzj_w8570g_y66t6j6mh4zw0000gn/T/ipykernel_97543/988434826.py:46: RuntimeWarning: The data contains 'boundary' events, indicating data discontinuities. Be cautious of filtering and epoching around these events.\n",
      "  eeg_dataset_raw = mne.io.read_raw_eeglab(eeg_lab_file_path, preload=True, verbose=flag_verbose)\n"
     ]
    },
    {
     "name": "stdout",
     "output_type": "stream",
     "text": [
      "---Artefact Removal - ICA ------------------------------------------\n"
     ]
    },
    {
     "name": "stderr",
     "output_type": "stream",
     "text": [
      "/var/folders/wd/rhzj_w8570g_y66t6j6mh4zw0000gn/T/ipykernel_97543/1509335156.py:43: UserWarning: High component rejection: 96.67% marked as non-brain.\n",
      "  warnings.warn(f\"High component rejection: {100 * ICA_rejection_level:.2f}% marked as non-brain.\", UserWarning)\n"
     ]
    },
    {
     "name": "stdout",
     "output_type": "stream",
     "text": [
      "---Power Spectra----------------------------------------------------\n",
      "Effective window size : 1.000 (s)\n",
      "---EEG Spectral Parameterisation------------------------------------\n",
      "Fitting model across 61 power spectra.\n",
      "\n",
      "WARNING: Lower-bound peak width limit is < or ~= the frequency resolution: 1.00 <= 1.00\n",
      "\tLower bounds below frequency-resolution have no effect (effective lower bound is the frequency resolution).\n",
      "\tToo low a limit may lead to overfitting noise as small bandwidth peaks.\n",
      "\tWe recommend a lower bound of approximately 2x the frequency resolution.\n",
      "\n"
     ]
    },
    {
     "name": "stderr",
     "output_type": "stream",
     "text": [
      "/var/folders/wd/rhzj_w8570g_y66t6j6mh4zw0000gn/T/ipykernel_97543/3423391515.py:47: UserWarning: SpecParam R2 mean 0.86 & std 0.05\n",
      "  warnings.warn(f'SpecParam R2 mean {mean_r2:.2f} & std {std_r2:.2f}', UserWarning)\n",
      "/var/folders/wd/rhzj_w8570g_y66t6j6mh4zw0000gn/T/ipykernel_97543/988434826.py:46: RuntimeWarning: The data contains 'boundary' events, indicating data discontinuities. Be cautious of filtering and epoching around these events.\n",
      "  eeg_dataset_raw = mne.io.read_raw_eeglab(eeg_lab_file_path, preload=True, verbose=flag_verbose)\n"
     ]
    },
    {
     "name": "stdout",
     "output_type": "stream",
     "text": [
      "---Collating Results for sub-023 ------------------------------\n",
      "\n",
      "-----------------------------------------------------------------------------------------------\n",
      "Subject: sub-024\n",
      "---Get EEG Raw Data - FIF -----------------------------------------\n",
      "---Filtering & Referencing------------------------------------------\n",
      "---Artefact Removal - ICA ------------------------------------------\n",
      "---Power Spectra----------------------------------------------------\n",
      "Effective window size : 1.000 (s)\n",
      "---EEG Spectral Parameterisation------------------------------------\n",
      "Fitting model across 61 power spectra.\n",
      "\n",
      "WARNING: Lower-bound peak width limit is < or ~= the frequency resolution: 1.00 <= 1.00\n",
      "\tLower bounds below frequency-resolution have no effect (effective lower bound is the frequency resolution).\n",
      "\tToo low a limit may lead to overfitting noise as small bandwidth peaks.\n",
      "\tWe recommend a lower bound of approximately 2x the frequency resolution.\n",
      "\n",
      "---Collating Results for sub-024 ------------------------------\n",
      "\n",
      "-----------------------------------------------------------------------------------------------\n",
      "Subject: sub-025\n",
      "---Get EEG Raw Data - FIF -----------------------------------------\n",
      "---Filtering & Referencing------------------------------------------\n"
     ]
    },
    {
     "name": "stderr",
     "output_type": "stream",
     "text": [
      "/var/folders/wd/rhzj_w8570g_y66t6j6mh4zw0000gn/T/ipykernel_97543/988434826.py:46: RuntimeWarning: The data contains 'boundary' events, indicating data discontinuities. Be cautious of filtering and epoching around these events.\n",
      "  eeg_dataset_raw = mne.io.read_raw_eeglab(eeg_lab_file_path, preload=True, verbose=flag_verbose)\n"
     ]
    },
    {
     "name": "stdout",
     "output_type": "stream",
     "text": [
      "---Artefact Removal - ICA ------------------------------------------\n",
      "---Power Spectra----------------------------------------------------\n",
      "Effective window size : 1.000 (s)\n",
      "---EEG Spectral Parameterisation------------------------------------\n",
      "Fitting model across 61 power spectra.\n",
      "\n",
      "WARNING: Lower-bound peak width limit is < or ~= the frequency resolution: 1.00 <= 1.00\n",
      "\tLower bounds below frequency-resolution have no effect (effective lower bound is the frequency resolution).\n",
      "\tToo low a limit may lead to overfitting noise as small bandwidth peaks.\n",
      "\tWe recommend a lower bound of approximately 2x the frequency resolution.\n",
      "\n",
      "---Collating Results for sub-025 ------------------------------\n",
      "\n",
      "-----------------------------------------------------------------------------------------------\n",
      "Subject: sub-026\n",
      "---Get EEG Raw Data - FIF -----------------------------------------\n",
      "---Filtering & Referencing------------------------------------------\n"
     ]
    },
    {
     "name": "stderr",
     "output_type": "stream",
     "text": [
      "/var/folders/wd/rhzj_w8570g_y66t6j6mh4zw0000gn/T/ipykernel_97543/988434826.py:46: RuntimeWarning: The data contains 'boundary' events, indicating data discontinuities. Be cautious of filtering and epoching around these events.\n",
      "  eeg_dataset_raw = mne.io.read_raw_eeglab(eeg_lab_file_path, preload=True, verbose=flag_verbose)\n"
     ]
    },
    {
     "name": "stdout",
     "output_type": "stream",
     "text": [
      "---Artefact Removal - ICA ------------------------------------------\n",
      "---Power Spectra----------------------------------------------------\n",
      "Effective window size : 1.000 (s)\n",
      "---EEG Spectral Parameterisation------------------------------------\n",
      "Fitting model across 61 power spectra.\n",
      "\n",
      "WARNING: Lower-bound peak width limit is < or ~= the frequency resolution: 1.00 <= 1.00\n",
      "\tLower bounds below frequency-resolution have no effect (effective lower bound is the frequency resolution).\n",
      "\tToo low a limit may lead to overfitting noise as small bandwidth peaks.\n",
      "\tWe recommend a lower bound of approximately 2x the frequency resolution.\n",
      "\n",
      "---Collating Results for sub-026 ------------------------------\n",
      "\n",
      "-----------------------------------------------------------------------------------------------\n",
      "Subject: sub-027\n",
      "---Get EEG Raw Data - FIF -----------------------------------------\n",
      "---Filtering & Referencing------------------------------------------\n"
     ]
    },
    {
     "name": "stderr",
     "output_type": "stream",
     "text": [
      "/var/folders/wd/rhzj_w8570g_y66t6j6mh4zw0000gn/T/ipykernel_97543/988434826.py:46: RuntimeWarning: The data contains 'boundary' events, indicating data discontinuities. Be cautious of filtering and epoching around these events.\n",
      "  eeg_dataset_raw = mne.io.read_raw_eeglab(eeg_lab_file_path, preload=True, verbose=flag_verbose)\n"
     ]
    },
    {
     "name": "stdout",
     "output_type": "stream",
     "text": [
      "---Artefact Removal - ICA ------------------------------------------\n"
     ]
    },
    {
     "name": "stderr",
     "output_type": "stream",
     "text": [
      "/var/folders/wd/rhzj_w8570g_y66t6j6mh4zw0000gn/T/ipykernel_97543/1509335156.py:43: UserWarning: High component rejection: 80.00% marked as non-brain.\n",
      "  warnings.warn(f\"High component rejection: {100 * ICA_rejection_level:.2f}% marked as non-brain.\", UserWarning)\n"
     ]
    },
    {
     "name": "stdout",
     "output_type": "stream",
     "text": [
      "Dropped 6 epochs: 39, 40, 70, 75, 76, 80\n",
      "---Power Spectra----------------------------------------------------\n",
      "Effective window size : 1.000 (s)\n",
      "---EEG Spectral Parameterisation------------------------------------\n",
      "Fitting model across 61 power spectra.\n",
      "\n",
      "WARNING: Lower-bound peak width limit is < or ~= the frequency resolution: 1.00 <= 1.00\n",
      "\tLower bounds below frequency-resolution have no effect (effective lower bound is the frequency resolution).\n",
      "\tToo low a limit may lead to overfitting noise as small bandwidth peaks.\n",
      "\tWe recommend a lower bound of approximately 2x the frequency resolution.\n",
      "\n",
      "---Collating Results for sub-027 ------------------------------\n",
      "\n",
      "-----------------------------------------------------------------------------------------------\n",
      "Subject: sub-028\n",
      "---Get EEG Raw Data - FIF -----------------------------------------\n",
      "---Filtering & Referencing------------------------------------------\n"
     ]
    },
    {
     "name": "stderr",
     "output_type": "stream",
     "text": [
      "/var/folders/wd/rhzj_w8570g_y66t6j6mh4zw0000gn/T/ipykernel_97543/988434826.py:46: RuntimeWarning: The data contains 'boundary' events, indicating data discontinuities. Be cautious of filtering and epoching around these events.\n",
      "  eeg_dataset_raw = mne.io.read_raw_eeglab(eeg_lab_file_path, preload=True, verbose=flag_verbose)\n"
     ]
    },
    {
     "name": "stdout",
     "output_type": "stream",
     "text": [
      "---Artefact Removal - ICA ------------------------------------------\n"
     ]
    },
    {
     "name": "stderr",
     "output_type": "stream",
     "text": [
      "/var/folders/wd/rhzj_w8570g_y66t6j6mh4zw0000gn/T/ipykernel_97543/1509335156.py:43: UserWarning: High component rejection: 85.00% marked as non-brain.\n",
      "  warnings.warn(f\"High component rejection: {100 * ICA_rejection_level:.2f}% marked as non-brain.\", UserWarning)\n"
     ]
    },
    {
     "name": "stdout",
     "output_type": "stream",
     "text": [
      "---Power Spectra----------------------------------------------------\n",
      "Effective window size : 1.000 (s)\n",
      "---EEG Spectral Parameterisation------------------------------------\n",
      "Fitting model across 61 power spectra.\n",
      "\n",
      "WARNING: Lower-bound peak width limit is < or ~= the frequency resolution: 1.00 <= 1.00\n",
      "\tLower bounds below frequency-resolution have no effect (effective lower bound is the frequency resolution).\n",
      "\tToo low a limit may lead to overfitting noise as small bandwidth peaks.\n",
      "\tWe recommend a lower bound of approximately 2x the frequency resolution.\n",
      "\n",
      "---Collating Results for sub-028 ------------------------------\n",
      "\n",
      "-----------------------------------------------------------------------------------------------\n",
      "Subject: sub-029\n",
      "---Get EEG Raw Data - FIF -----------------------------------------\n",
      "---Filtering & Referencing------------------------------------------\n"
     ]
    },
    {
     "name": "stderr",
     "output_type": "stream",
     "text": [
      "/var/folders/wd/rhzj_w8570g_y66t6j6mh4zw0000gn/T/ipykernel_97543/988434826.py:46: RuntimeWarning: The data contains 'boundary' events, indicating data discontinuities. Be cautious of filtering and epoching around these events.\n",
      "  eeg_dataset_raw = mne.io.read_raw_eeglab(eeg_lab_file_path, preload=True, verbose=flag_verbose)\n"
     ]
    },
    {
     "name": "stdout",
     "output_type": "stream",
     "text": [
      "---Artefact Removal - ICA ------------------------------------------\n",
      "Dropped 17 epochs: 23, 45, 61, 62, 64, 65, 68, 69, 119, 125, 128, 129, 132, 158, 184, 185, 186\n",
      "---Power Spectra----------------------------------------------------\n",
      "Effective window size : 1.000 (s)\n",
      "---EEG Spectral Parameterisation------------------------------------\n",
      "Fitting model across 61 power spectra.\n",
      "\n",
      "WARNING: Lower-bound peak width limit is < or ~= the frequency resolution: 1.00 <= 1.00\n",
      "\tLower bounds below frequency-resolution have no effect (effective lower bound is the frequency resolution).\n",
      "\tToo low a limit may lead to overfitting noise as small bandwidth peaks.\n",
      "\tWe recommend a lower bound of approximately 2x the frequency resolution.\n",
      "\n",
      "---Collating Results for sub-029 ------------------------------\n",
      "\n",
      "-----------------------------------------------------------------------------------------------\n",
      "Subject: sub-030\n",
      "---Get EEG Raw Data - FIF -----------------------------------------\n",
      "---Filtering & Referencing------------------------------------------\n"
     ]
    },
    {
     "name": "stderr",
     "output_type": "stream",
     "text": [
      "/var/folders/wd/rhzj_w8570g_y66t6j6mh4zw0000gn/T/ipykernel_97543/3423391515.py:47: UserWarning: SpecParam R2 mean 0.87 & std 0.06\n",
      "  warnings.warn(f'SpecParam R2 mean {mean_r2:.2f} & std {std_r2:.2f}', UserWarning)\n",
      "/var/folders/wd/rhzj_w8570g_y66t6j6mh4zw0000gn/T/ipykernel_97543/988434826.py:46: RuntimeWarning: The data contains 'boundary' events, indicating data discontinuities. Be cautious of filtering and epoching around these events.\n",
      "  eeg_dataset_raw = mne.io.read_raw_eeglab(eeg_lab_file_path, preload=True, verbose=flag_verbose)\n"
     ]
    },
    {
     "name": "stdout",
     "output_type": "stream",
     "text": [
      "---Artefact Removal - ICA ------------------------------------------\n",
      "Dropped 7 epochs: 65, 93, 94, 95, 122, 146, 147\n",
      "---Power Spectra----------------------------------------------------\n",
      "Effective window size : 1.000 (s)\n",
      "---EEG Spectral Parameterisation------------------------------------\n",
      "Fitting model across 61 power spectra.\n",
      "\n",
      "WARNING: Lower-bound peak width limit is < or ~= the frequency resolution: 1.00 <= 1.00\n",
      "\tLower bounds below frequency-resolution have no effect (effective lower bound is the frequency resolution).\n",
      "\tToo low a limit may lead to overfitting noise as small bandwidth peaks.\n",
      "\tWe recommend a lower bound of approximately 2x the frequency resolution.\n",
      "\n",
      "---Collating Results for sub-030 ------------------------------\n",
      "\n",
      "-----------------------------------------------------------------------------------------------\n",
      "Subject: sub-031\n",
      "---Get EEG Raw Data - FIF -----------------------------------------\n",
      "---Filtering & Referencing------------------------------------------\n"
     ]
    },
    {
     "name": "stderr",
     "output_type": "stream",
     "text": [
      "/var/folders/wd/rhzj_w8570g_y66t6j6mh4zw0000gn/T/ipykernel_97543/988434826.py:46: RuntimeWarning: The data contains 'boundary' events, indicating data discontinuities. Be cautious of filtering and epoching around these events.\n",
      "  eeg_dataset_raw = mne.io.read_raw_eeglab(eeg_lab_file_path, preload=True, verbose=flag_verbose)\n"
     ]
    },
    {
     "name": "stdout",
     "output_type": "stream",
     "text": [
      "---Artefact Removal - ICA ------------------------------------------\n",
      "Dropped 2 epochs: 42, 161\n",
      "---Power Spectra----------------------------------------------------\n",
      "Effective window size : 1.000 (s)\n",
      "---EEG Spectral Parameterisation------------------------------------\n",
      "Fitting model across 61 power spectra.\n",
      "\n",
      "WARNING: Lower-bound peak width limit is < or ~= the frequency resolution: 1.00 <= 1.00\n",
      "\tLower bounds below frequency-resolution have no effect (effective lower bound is the frequency resolution).\n",
      "\tToo low a limit may lead to overfitting noise as small bandwidth peaks.\n",
      "\tWe recommend a lower bound of approximately 2x the frequency resolution.\n",
      "\n",
      "---Collating Results for sub-031 ------------------------------\n",
      "\n",
      "-----------------------------------------------------------------------------------------------\n",
      "Subject: sub-032\n",
      "---Get EEG Raw Data - FIF -----------------------------------------\n",
      "---Filtering & Referencing------------------------------------------\n"
     ]
    },
    {
     "name": "stderr",
     "output_type": "stream",
     "text": [
      "/var/folders/wd/rhzj_w8570g_y66t6j6mh4zw0000gn/T/ipykernel_97543/988434826.py:46: RuntimeWarning: The data contains 'boundary' events, indicating data discontinuities. Be cautious of filtering and epoching around these events.\n",
      "  eeg_dataset_raw = mne.io.read_raw_eeglab(eeg_lab_file_path, preload=True, verbose=flag_verbose)\n"
     ]
    },
    {
     "name": "stdout",
     "output_type": "stream",
     "text": [
      "---Artefact Removal - ICA ------------------------------------------\n",
      "Dropped 3 epochs: 116, 117, 127\n",
      "---Power Spectra----------------------------------------------------\n",
      "Effective window size : 1.000 (s)\n",
      "---EEG Spectral Parameterisation------------------------------------\n",
      "Fitting model across 61 power spectra.\n",
      "\n",
      "WARNING: Lower-bound peak width limit is < or ~= the frequency resolution: 1.00 <= 1.00\n",
      "\tLower bounds below frequency-resolution have no effect (effective lower bound is the frequency resolution).\n",
      "\tToo low a limit may lead to overfitting noise as small bandwidth peaks.\n",
      "\tWe recommend a lower bound of approximately 2x the frequency resolution.\n",
      "\n",
      "---Collating Results for sub-032 ------------------------------\n",
      "\n",
      "-----------------------------------------------------------------------------------------------\n",
      "Subject: sub-033\n",
      "---Get EEG Raw Data - FIF -----------------------------------------\n",
      "---Filtering & Referencing------------------------------------------\n"
     ]
    },
    {
     "name": "stderr",
     "output_type": "stream",
     "text": [
      "/var/folders/wd/rhzj_w8570g_y66t6j6mh4zw0000gn/T/ipykernel_97543/988434826.py:46: RuntimeWarning: The data contains 'boundary' events, indicating data discontinuities. Be cautious of filtering and epoching around these events.\n",
      "  eeg_dataset_raw = mne.io.read_raw_eeglab(eeg_lab_file_path, preload=True, verbose=flag_verbose)\n"
     ]
    },
    {
     "name": "stdout",
     "output_type": "stream",
     "text": [
      "---Artefact Removal - ICA ------------------------------------------\n",
      "---Power Spectra----------------------------------------------------\n",
      "Effective window size : 1.000 (s)\n",
      "---EEG Spectral Parameterisation------------------------------------\n",
      "Fitting model across 61 power spectra.\n",
      "\n",
      "WARNING: Lower-bound peak width limit is < or ~= the frequency resolution: 1.00 <= 1.00\n",
      "\tLower bounds below frequency-resolution have no effect (effective lower bound is the frequency resolution).\n",
      "\tToo low a limit may lead to overfitting noise as small bandwidth peaks.\n",
      "\tWe recommend a lower bound of approximately 2x the frequency resolution.\n",
      "\n",
      "---Collating Results for sub-033 ------------------------------\n",
      "\n",
      "-----------------------------------------------------------------------------------------------\n",
      "Subject: sub-034\n",
      "---Get EEG Raw Data - FIF -----------------------------------------\n"
     ]
    },
    {
     "name": "stderr",
     "output_type": "stream",
     "text": [
      "/var/folders/wd/rhzj_w8570g_y66t6j6mh4zw0000gn/T/ipykernel_97543/988434826.py:46: RuntimeWarning: The data contains 'boundary' events, indicating data discontinuities. Be cautious of filtering and epoching around these events.\n",
      "  eeg_dataset_raw = mne.io.read_raw_eeglab(eeg_lab_file_path, preload=True, verbose=flag_verbose)\n"
     ]
    },
    {
     "name": "stdout",
     "output_type": "stream",
     "text": [
      "---Filtering & Referencing------------------------------------------\n",
      "---Artefact Removal - ICA ------------------------------------------\n"
     ]
    },
    {
     "name": "stderr",
     "output_type": "stream",
     "text": [
      "/var/folders/wd/rhzj_w8570g_y66t6j6mh4zw0000gn/T/ipykernel_97543/1509335156.py:43: UserWarning: High component rejection: 91.67% marked as non-brain.\n",
      "  warnings.warn(f\"High component rejection: {100 * ICA_rejection_level:.2f}% marked as non-brain.\", UserWarning)\n"
     ]
    },
    {
     "name": "stdout",
     "output_type": "stream",
     "text": [
      "Dropped 2 epochs: 147, 153\n",
      "---Power Spectra----------------------------------------------------\n",
      "Effective window size : 1.000 (s)\n",
      "---EEG Spectral Parameterisation------------------------------------\n",
      "Fitting model across 61 power spectra.\n",
      "\n",
      "WARNING: Lower-bound peak width limit is < or ~= the frequency resolution: 1.00 <= 1.00\n",
      "\tLower bounds below frequency-resolution have no effect (effective lower bound is the frequency resolution).\n",
      "\tToo low a limit may lead to overfitting noise as small bandwidth peaks.\n",
      "\tWe recommend a lower bound of approximately 2x the frequency resolution.\n",
      "\n",
      "---Collating Results for sub-034 ------------------------------\n",
      "\n",
      "-----------------------------------------------------------------------------------------------\n",
      "Subject: sub-035\n",
      "---Get EEG Raw Data - FIF -----------------------------------------\n",
      "---Filtering & Referencing------------------------------------------\n"
     ]
    },
    {
     "name": "stderr",
     "output_type": "stream",
     "text": [
      "/var/folders/wd/rhzj_w8570g_y66t6j6mh4zw0000gn/T/ipykernel_97543/988434826.py:46: RuntimeWarning: The data contains 'boundary' events, indicating data discontinuities. Be cautious of filtering and epoching around these events.\n",
      "  eeg_dataset_raw = mne.io.read_raw_eeglab(eeg_lab_file_path, preload=True, verbose=flag_verbose)\n"
     ]
    },
    {
     "name": "stdout",
     "output_type": "stream",
     "text": [
      "---Artefact Removal - ICA ------------------------------------------\n",
      "---Power Spectra----------------------------------------------------\n",
      "Effective window size : 1.000 (s)\n",
      "---EEG Spectral Parameterisation------------------------------------\n",
      "Fitting model across 61 power spectra.\n",
      "\n",
      "WARNING: Lower-bound peak width limit is < or ~= the frequency resolution: 1.00 <= 1.00\n",
      "\tLower bounds below frequency-resolution have no effect (effective lower bound is the frequency resolution).\n",
      "\tToo low a limit may lead to overfitting noise as small bandwidth peaks.\n",
      "\tWe recommend a lower bound of approximately 2x the frequency resolution.\n",
      "\n",
      "---Collating Results for sub-035 ------------------------------\n",
      "\n",
      "-----------------------------------------------------------------------------------------------\n",
      "Subject: sub-036\n",
      "---Get EEG Raw Data - FIF -----------------------------------------\n",
      "---Filtering & Referencing------------------------------------------\n"
     ]
    },
    {
     "name": "stderr",
     "output_type": "stream",
     "text": [
      "/var/folders/wd/rhzj_w8570g_y66t6j6mh4zw0000gn/T/ipykernel_97543/988434826.py:46: RuntimeWarning: The data contains 'boundary' events, indicating data discontinuities. Be cautious of filtering and epoching around these events.\n",
      "  eeg_dataset_raw = mne.io.read_raw_eeglab(eeg_lab_file_path, preload=True, verbose=flag_verbose)\n"
     ]
    },
    {
     "name": "stdout",
     "output_type": "stream",
     "text": [
      "---Artefact Removal - ICA ------------------------------------------\n",
      "---Power Spectra----------------------------------------------------\n",
      "Effective window size : 1.000 (s)\n",
      "---EEG Spectral Parameterisation------------------------------------\n",
      "Fitting model across 61 power spectra.\n",
      "\n",
      "WARNING: Lower-bound peak width limit is < or ~= the frequency resolution: 1.00 <= 1.00\n",
      "\tLower bounds below frequency-resolution have no effect (effective lower bound is the frequency resolution).\n",
      "\tToo low a limit may lead to overfitting noise as small bandwidth peaks.\n",
      "\tWe recommend a lower bound of approximately 2x the frequency resolution.\n",
      "\n",
      "---Collating Results for sub-036 ------------------------------\n",
      "\n",
      "-----------------------------------------------------------------------------------------------\n",
      "Subject: sub-037\n",
      "---Get EEG Raw Data - FIF -----------------------------------------\n",
      "---Filtering & Referencing------------------------------------------\n"
     ]
    },
    {
     "name": "stderr",
     "output_type": "stream",
     "text": [
      "/var/folders/wd/rhzj_w8570g_y66t6j6mh4zw0000gn/T/ipykernel_97543/988434826.py:46: RuntimeWarning: The data contains 'boundary' events, indicating data discontinuities. Be cautious of filtering and epoching around these events.\n",
      "  eeg_dataset_raw = mne.io.read_raw_eeglab(eeg_lab_file_path, preload=True, verbose=flag_verbose)\n"
     ]
    },
    {
     "name": "stdout",
     "output_type": "stream",
     "text": [
      "---Artefact Removal - ICA ------------------------------------------\n",
      "---Power Spectra----------------------------------------------------\n",
      "Effective window size : 1.000 (s)\n",
      "---EEG Spectral Parameterisation------------------------------------\n",
      "Fitting model across 61 power spectra.\n",
      "\n",
      "WARNING: Lower-bound peak width limit is < or ~= the frequency resolution: 1.00 <= 1.00\n",
      "\tLower bounds below frequency-resolution have no effect (effective lower bound is the frequency resolution).\n",
      "\tToo low a limit may lead to overfitting noise as small bandwidth peaks.\n",
      "\tWe recommend a lower bound of approximately 2x the frequency resolution.\n",
      "\n",
      "---Collating Results for sub-037 ------------------------------\n",
      "\n",
      "-----------------------------------------------------------------------------------------------\n",
      "Subject: sub-038\n",
      "---Get EEG Raw Data - FIF -----------------------------------------\n",
      "---Filtering & Referencing------------------------------------------\n"
     ]
    },
    {
     "name": "stderr",
     "output_type": "stream",
     "text": [
      "/var/folders/wd/rhzj_w8570g_y66t6j6mh4zw0000gn/T/ipykernel_97543/988434826.py:46: RuntimeWarning: The data contains 'boundary' events, indicating data discontinuities. Be cautious of filtering and epoching around these events.\n",
      "  eeg_dataset_raw = mne.io.read_raw_eeglab(eeg_lab_file_path, preload=True, verbose=flag_verbose)\n"
     ]
    },
    {
     "name": "stdout",
     "output_type": "stream",
     "text": [
      "---Artefact Removal - ICA ------------------------------------------\n",
      "Dropped 1 epoch: 88\n",
      "---Power Spectra----------------------------------------------------\n",
      "Effective window size : 1.000 (s)\n",
      "---EEG Spectral Parameterisation------------------------------------\n",
      "Fitting model across 61 power spectra.\n",
      "\n",
      "WARNING: Lower-bound peak width limit is < or ~= the frequency resolution: 1.00 <= 1.00\n",
      "\tLower bounds below frequency-resolution have no effect (effective lower bound is the frequency resolution).\n",
      "\tToo low a limit may lead to overfitting noise as small bandwidth peaks.\n",
      "\tWe recommend a lower bound of approximately 2x the frequency resolution.\n",
      "\n",
      "---Collating Results for sub-038 ------------------------------\n",
      "\n",
      "-----------------------------------------------------------------------------------------------\n",
      "Subject: sub-039\n",
      "---Get EEG Raw Data - FIF -----------------------------------------\n",
      "---Filtering & Referencing------------------------------------------\n"
     ]
    },
    {
     "name": "stderr",
     "output_type": "stream",
     "text": [
      "/var/folders/wd/rhzj_w8570g_y66t6j6mh4zw0000gn/T/ipykernel_97543/988434826.py:46: RuntimeWarning: The data contains 'boundary' events, indicating data discontinuities. Be cautious of filtering and epoching around these events.\n",
      "  eeg_dataset_raw = mne.io.read_raw_eeglab(eeg_lab_file_path, preload=True, verbose=flag_verbose)\n"
     ]
    },
    {
     "name": "stdout",
     "output_type": "stream",
     "text": [
      "---Artefact Removal - ICA ------------------------------------------\n",
      "Dropped 15 epochs: 99, 100, 101, 102, 103, 104, 105, 106, 107, 108, 110, 111, 113, 115, 116\n",
      "---Power Spectra----------------------------------------------------\n",
      "Effective window size : 1.000 (s)\n",
      "---EEG Spectral Parameterisation------------------------------------\n",
      "Fitting model across 61 power spectra.\n",
      "\n",
      "WARNING: Lower-bound peak width limit is < or ~= the frequency resolution: 1.00 <= 1.00\n",
      "\tLower bounds below frequency-resolution have no effect (effective lower bound is the frequency resolution).\n",
      "\tToo low a limit may lead to overfitting noise as small bandwidth peaks.\n",
      "\tWe recommend a lower bound of approximately 2x the frequency resolution.\n",
      "\n",
      "---Collating Results for sub-039 ------------------------------\n",
      "\n",
      "-----------------------------------------------------------------------------------------------\n",
      "Subject: sub-040\n",
      "---Get EEG Raw Data - FIF -----------------------------------------\n",
      "---Filtering & Referencing------------------------------------------\n"
     ]
    },
    {
     "name": "stderr",
     "output_type": "stream",
     "text": [
      "/var/folders/wd/rhzj_w8570g_y66t6j6mh4zw0000gn/T/ipykernel_97543/988434826.py:46: RuntimeWarning: The data contains 'boundary' events, indicating data discontinuities. Be cautious of filtering and epoching around these events.\n",
      "  eeg_dataset_raw = mne.io.read_raw_eeglab(eeg_lab_file_path, preload=True, verbose=flag_verbose)\n"
     ]
    },
    {
     "name": "stdout",
     "output_type": "stream",
     "text": [
      "---Artefact Removal - ICA ------------------------------------------\n"
     ]
    },
    {
     "name": "stderr",
     "output_type": "stream",
     "text": [
      "/var/folders/wd/rhzj_w8570g_y66t6j6mh4zw0000gn/T/ipykernel_97543/1509335156.py:32: RuntimeWarning: Using n_components=60 (resulting in n_components_=60) may lead to an unstable mixing matrix estimation because the ratio between the largest (60) and smallest (2.6e-07) variances is too large (> 1e6); consider setting n_components=0.999999 or an integer <= 16\n",
      "  ica.fit(EEG_cleaned, verbose=flag_verbose)\n",
      "/var/folders/wd/rhzj_w8570g_y66t6j6mh4zw0000gn/T/ipykernel_97543/1509335156.py:43: UserWarning: High component rejection: 83.33% marked as non-brain.\n",
      "  warnings.warn(f\"High component rejection: {100 * ICA_rejection_level:.2f}% marked as non-brain.\", UserWarning)\n"
     ]
    },
    {
     "name": "stdout",
     "output_type": "stream",
     "text": [
      "Dropped 6 epochs: 11, 12, 15, 18, 27, 52\n",
      "---Power Spectra----------------------------------------------------\n",
      "Effective window size : 1.000 (s)\n",
      "---EEG Spectral Parameterisation------------------------------------\n",
      "Fitting model across 61 power spectra.\n",
      "\n",
      "WARNING: Lower-bound peak width limit is < or ~= the frequency resolution: 1.00 <= 1.00\n",
      "\tLower bounds below frequency-resolution have no effect (effective lower bound is the frequency resolution).\n",
      "\tToo low a limit may lead to overfitting noise as small bandwidth peaks.\n",
      "\tWe recommend a lower bound of approximately 2x the frequency resolution.\n",
      "\n",
      "---Collating Results for sub-040 ------------------------------\n",
      "\n",
      "-----------------------------------------------------------------------------------------------\n",
      "Subject: sub-041\n",
      "---Get EEG Raw Data - FIF -----------------------------------------\n",
      "---Filtering & Referencing------------------------------------------\n"
     ]
    },
    {
     "name": "stderr",
     "output_type": "stream",
     "text": [
      "/var/folders/wd/rhzj_w8570g_y66t6j6mh4zw0000gn/T/ipykernel_97543/988434826.py:46: RuntimeWarning: The data contains 'boundary' events, indicating data discontinuities. Be cautious of filtering and epoching around these events.\n",
      "  eeg_dataset_raw = mne.io.read_raw_eeglab(eeg_lab_file_path, preload=True, verbose=flag_verbose)\n"
     ]
    },
    {
     "name": "stdout",
     "output_type": "stream",
     "text": [
      "---Artefact Removal - ICA ------------------------------------------\n"
     ]
    },
    {
     "name": "stderr",
     "output_type": "stream",
     "text": [
      "/var/folders/wd/rhzj_w8570g_y66t6j6mh4zw0000gn/T/ipykernel_97543/1509335156.py:43: UserWarning: High component rejection: 83.33% marked as non-brain.\n",
      "  warnings.warn(f\"High component rejection: {100 * ICA_rejection_level:.2f}% marked as non-brain.\", UserWarning)\n"
     ]
    },
    {
     "name": "stdout",
     "output_type": "stream",
     "text": [
      "Dropped 3 epochs: 75, 78, 148\n",
      "---Power Spectra----------------------------------------------------\n",
      "Effective window size : 1.000 (s)\n",
      "---EEG Spectral Parameterisation------------------------------------\n",
      "Fitting model across 61 power spectra.\n",
      "\n",
      "WARNING: Lower-bound peak width limit is < or ~= the frequency resolution: 1.00 <= 1.00\n",
      "\tLower bounds below frequency-resolution have no effect (effective lower bound is the frequency resolution).\n",
      "\tToo low a limit may lead to overfitting noise as small bandwidth peaks.\n",
      "\tWe recommend a lower bound of approximately 2x the frequency resolution.\n",
      "\n",
      "---Collating Results for sub-041 ------------------------------\n",
      "\n",
      "-----------------------------------------------------------------------------------------------\n",
      "Subject: sub-042\n",
      "---Get EEG Raw Data - FIF -----------------------------------------\n",
      "---Filtering & Referencing------------------------------------------\n"
     ]
    },
    {
     "name": "stderr",
     "output_type": "stream",
     "text": [
      "/var/folders/wd/rhzj_w8570g_y66t6j6mh4zw0000gn/T/ipykernel_97543/988434826.py:46: RuntimeWarning: The data contains 'boundary' events, indicating data discontinuities. Be cautious of filtering and epoching around these events.\n",
      "  eeg_dataset_raw = mne.io.read_raw_eeglab(eeg_lab_file_path, preload=True, verbose=flag_verbose)\n"
     ]
    },
    {
     "name": "stdout",
     "output_type": "stream",
     "text": [
      "---Artefact Removal - ICA ------------------------------------------\n",
      "---Power Spectra----------------------------------------------------\n",
      "Effective window size : 1.000 (s)\n",
      "---EEG Spectral Parameterisation------------------------------------\n",
      "Fitting model across 61 power spectra.\n",
      "\n",
      "WARNING: Lower-bound peak width limit is < or ~= the frequency resolution: 1.00 <= 1.00\n",
      "\tLower bounds below frequency-resolution have no effect (effective lower bound is the frequency resolution).\n",
      "\tToo low a limit may lead to overfitting noise as small bandwidth peaks.\n",
      "\tWe recommend a lower bound of approximately 2x the frequency resolution.\n",
      "\n",
      "---Collating Results for sub-042 ------------------------------\n",
      "\n",
      "-----------------------------------------------------------------------------------------------\n",
      "Subject: sub-043\n",
      "---Get EEG Raw Data - FIF -----------------------------------------\n",
      "---Filtering & Referencing------------------------------------------\n"
     ]
    },
    {
     "name": "stderr",
     "output_type": "stream",
     "text": [
      "/var/folders/wd/rhzj_w8570g_y66t6j6mh4zw0000gn/T/ipykernel_97543/988434826.py:46: RuntimeWarning: The data contains 'boundary' events, indicating data discontinuities. Be cautious of filtering and epoching around these events.\n",
      "  eeg_dataset_raw = mne.io.read_raw_eeglab(eeg_lab_file_path, preload=True, verbose=flag_verbose)\n"
     ]
    },
    {
     "name": "stdout",
     "output_type": "stream",
     "text": [
      "---Artefact Removal - ICA ------------------------------------------\n"
     ]
    },
    {
     "name": "stderr",
     "output_type": "stream",
     "text": [
      "/var/folders/wd/rhzj_w8570g_y66t6j6mh4zw0000gn/T/ipykernel_97543/1509335156.py:43: UserWarning: High component rejection: 93.33% marked as non-brain.\n",
      "  warnings.warn(f\"High component rejection: {100 * ICA_rejection_level:.2f}% marked as non-brain.\", UserWarning)\n"
     ]
    },
    {
     "name": "stdout",
     "output_type": "stream",
     "text": [
      "---Power Spectra----------------------------------------------------\n",
      "Effective window size : 1.000 (s)\n",
      "---EEG Spectral Parameterisation------------------------------------\n",
      "Fitting model across 61 power spectra.\n",
      "\n",
      "WARNING: Lower-bound peak width limit is < or ~= the frequency resolution: 1.00 <= 1.00\n",
      "\tLower bounds below frequency-resolution have no effect (effective lower bound is the frequency resolution).\n",
      "\tToo low a limit may lead to overfitting noise as small bandwidth peaks.\n",
      "\tWe recommend a lower bound of approximately 2x the frequency resolution.\n",
      "\n",
      "---Collating Results for sub-043 ------------------------------\n",
      "\n",
      "-----------------------------------------------------------------------------------------------\n",
      "Subject: sub-044\n",
      "---Get EEG Raw Data - FIF -----------------------------------------\n",
      "---Filtering & Referencing------------------------------------------\n"
     ]
    },
    {
     "name": "stderr",
     "output_type": "stream",
     "text": [
      "/var/folders/wd/rhzj_w8570g_y66t6j6mh4zw0000gn/T/ipykernel_97543/3423391515.py:47: UserWarning: SpecParam R2 mean 0.89 & std 0.06\n",
      "  warnings.warn(f'SpecParam R2 mean {mean_r2:.2f} & std {std_r2:.2f}', UserWarning)\n",
      "/var/folders/wd/rhzj_w8570g_y66t6j6mh4zw0000gn/T/ipykernel_97543/988434826.py:46: RuntimeWarning: The data contains 'boundary' events, indicating data discontinuities. Be cautious of filtering and epoching around these events.\n",
      "  eeg_dataset_raw = mne.io.read_raw_eeglab(eeg_lab_file_path, preload=True, verbose=flag_verbose)\n"
     ]
    },
    {
     "name": "stdout",
     "output_type": "stream",
     "text": [
      "---Artefact Removal - ICA ------------------------------------------\n",
      "---Power Spectra----------------------------------------------------\n",
      "Effective window size : 1.000 (s)\n",
      "---EEG Spectral Parameterisation------------------------------------\n",
      "Fitting model across 61 power spectra.\n",
      "\n",
      "WARNING: Lower-bound peak width limit is < or ~= the frequency resolution: 1.00 <= 1.00\n",
      "\tLower bounds below frequency-resolution have no effect (effective lower bound is the frequency resolution).\n",
      "\tToo low a limit may lead to overfitting noise as small bandwidth peaks.\n",
      "\tWe recommend a lower bound of approximately 2x the frequency resolution.\n",
      "\n",
      "---Collating Results for sub-044 ------------------------------\n",
      "\n",
      "-----------------------------------------------------------------------------------------------\n",
      "Subject: sub-045\n",
      "---Get EEG Raw Data - FIF -----------------------------------------\n",
      "---Filtering & Referencing------------------------------------------\n"
     ]
    },
    {
     "name": "stderr",
     "output_type": "stream",
     "text": [
      "/var/folders/wd/rhzj_w8570g_y66t6j6mh4zw0000gn/T/ipykernel_97543/988434826.py:46: RuntimeWarning: The data contains 'boundary' events, indicating data discontinuities. Be cautious of filtering and epoching around these events.\n",
      "  eeg_dataset_raw = mne.io.read_raw_eeglab(eeg_lab_file_path, preload=True, verbose=flag_verbose)\n"
     ]
    },
    {
     "name": "stdout",
     "output_type": "stream",
     "text": [
      "---Artefact Removal - ICA ------------------------------------------\n",
      "Dropped 1 epoch: 114\n",
      "---Power Spectra----------------------------------------------------\n",
      "Effective window size : 1.000 (s)\n",
      "---EEG Spectral Parameterisation------------------------------------\n",
      "Fitting model across 61 power spectra.\n",
      "\n",
      "WARNING: Lower-bound peak width limit is < or ~= the frequency resolution: 1.00 <= 1.00\n",
      "\tLower bounds below frequency-resolution have no effect (effective lower bound is the frequency resolution).\n",
      "\tToo low a limit may lead to overfitting noise as small bandwidth peaks.\n",
      "\tWe recommend a lower bound of approximately 2x the frequency resolution.\n",
      "\n",
      "---Collating Results for sub-045 ------------------------------\n",
      "\n",
      "-----------------------------------------------------------------------------------------------\n",
      "Subject: sub-046\n",
      "---Get EEG Raw Data - FIF -----------------------------------------\n",
      "---Filtering & Referencing------------------------------------------\n"
     ]
    },
    {
     "name": "stderr",
     "output_type": "stream",
     "text": [
      "/var/folders/wd/rhzj_w8570g_y66t6j6mh4zw0000gn/T/ipykernel_97543/988434826.py:46: RuntimeWarning: The data contains 'boundary' events, indicating data discontinuities. Be cautious of filtering and epoching around these events.\n",
      "  eeg_dataset_raw = mne.io.read_raw_eeglab(eeg_lab_file_path, preload=True, verbose=flag_verbose)\n"
     ]
    },
    {
     "name": "stdout",
     "output_type": "stream",
     "text": [
      "---Artefact Removal - ICA ------------------------------------------\n"
     ]
    },
    {
     "name": "stderr",
     "output_type": "stream",
     "text": [
      "/var/folders/wd/rhzj_w8570g_y66t6j6mh4zw0000gn/T/ipykernel_97543/1509335156.py:43: UserWarning: High component rejection: 81.67% marked as non-brain.\n",
      "  warnings.warn(f\"High component rejection: {100 * ICA_rejection_level:.2f}% marked as non-brain.\", UserWarning)\n"
     ]
    },
    {
     "name": "stdout",
     "output_type": "stream",
     "text": [
      "---Power Spectra----------------------------------------------------\n",
      "Effective window size : 1.000 (s)\n",
      "---EEG Spectral Parameterisation------------------------------------\n",
      "Fitting model across 61 power spectra.\n",
      "\n",
      "WARNING: Lower-bound peak width limit is < or ~= the frequency resolution: 1.00 <= 1.00\n",
      "\tLower bounds below frequency-resolution have no effect (effective lower bound is the frequency resolution).\n",
      "\tToo low a limit may lead to overfitting noise as small bandwidth peaks.\n",
      "\tWe recommend a lower bound of approximately 2x the frequency resolution.\n",
      "\n",
      "---Collating Results for sub-046 ------------------------------\n",
      "\n",
      "-----------------------------------------------------------------------------------------------\n",
      "Subject: sub-047\n",
      "---Get EEG Raw Data - FIF -----------------------------------------\n",
      "---Filtering & Referencing------------------------------------------\n"
     ]
    },
    {
     "name": "stderr",
     "output_type": "stream",
     "text": [
      "/var/folders/wd/rhzj_w8570g_y66t6j6mh4zw0000gn/T/ipykernel_97543/988434826.py:46: RuntimeWarning: The data contains 'boundary' events, indicating data discontinuities. Be cautious of filtering and epoching around these events.\n",
      "  eeg_dataset_raw = mne.io.read_raw_eeglab(eeg_lab_file_path, preload=True, verbose=flag_verbose)\n"
     ]
    },
    {
     "name": "stdout",
     "output_type": "stream",
     "text": [
      "---Artefact Removal - ICA ------------------------------------------\n"
     ]
    },
    {
     "name": "stderr",
     "output_type": "stream",
     "text": [
      "/var/folders/wd/rhzj_w8570g_y66t6j6mh4zw0000gn/T/ipykernel_97543/1509335156.py:43: UserWarning: High component rejection: 88.33% marked as non-brain.\n",
      "  warnings.warn(f\"High component rejection: {100 * ICA_rejection_level:.2f}% marked as non-brain.\", UserWarning)\n"
     ]
    },
    {
     "name": "stdout",
     "output_type": "stream",
     "text": [
      "---Power Spectra----------------------------------------------------\n",
      "Effective window size : 1.000 (s)\n",
      "---EEG Spectral Parameterisation------------------------------------\n",
      "Fitting model across 61 power spectra.\n",
      "\n",
      "WARNING: Lower-bound peak width limit is < or ~= the frequency resolution: 1.00 <= 1.00\n",
      "\tLower bounds below frequency-resolution have no effect (effective lower bound is the frequency resolution).\n",
      "\tToo low a limit may lead to overfitting noise as small bandwidth peaks.\n",
      "\tWe recommend a lower bound of approximately 2x the frequency resolution.\n",
      "\n",
      "---Collating Results for sub-047 ------------------------------\n",
      "\n",
      "-----------------------------------------------------------------------------------------------\n",
      "Subject: sub-048\n",
      "---Get EEG Raw Data - FIF -----------------------------------------\n",
      "---Filtering & Referencing------------------------------------------\n"
     ]
    },
    {
     "name": "stderr",
     "output_type": "stream",
     "text": [
      "/var/folders/wd/rhzj_w8570g_y66t6j6mh4zw0000gn/T/ipykernel_97543/988434826.py:46: RuntimeWarning: The data contains 'boundary' events, indicating data discontinuities. Be cautious of filtering and epoching around these events.\n",
      "  eeg_dataset_raw = mne.io.read_raw_eeglab(eeg_lab_file_path, preload=True, verbose=flag_verbose)\n"
     ]
    },
    {
     "name": "stdout",
     "output_type": "stream",
     "text": [
      "---Artefact Removal - ICA ------------------------------------------\n"
     ]
    },
    {
     "name": "stderr",
     "output_type": "stream",
     "text": [
      "/var/folders/wd/rhzj_w8570g_y66t6j6mh4zw0000gn/T/ipykernel_97543/1509335156.py:43: UserWarning: High component rejection: 90.00% marked as non-brain.\n",
      "  warnings.warn(f\"High component rejection: {100 * ICA_rejection_level:.2f}% marked as non-brain.\", UserWarning)\n"
     ]
    },
    {
     "name": "stdout",
     "output_type": "stream",
     "text": [
      "---Power Spectra----------------------------------------------------\n",
      "Effective window size : 1.000 (s)\n",
      "---EEG Spectral Parameterisation------------------------------------\n",
      "Fitting model across 61 power spectra.\n",
      "\n",
      "WARNING: Lower-bound peak width limit is < or ~= the frequency resolution: 1.00 <= 1.00\n",
      "\tLower bounds below frequency-resolution have no effect (effective lower bound is the frequency resolution).\n",
      "\tToo low a limit may lead to overfitting noise as small bandwidth peaks.\n",
      "\tWe recommend a lower bound of approximately 2x the frequency resolution.\n",
      "\n",
      "---Collating Results for sub-048 ------------------------------\n",
      "\n",
      "-----------------------------------------------------------------------------------------------\n",
      "Subject: sub-049\n",
      "---Get EEG Raw Data - FIF -----------------------------------------\n",
      "---Filtering & Referencing------------------------------------------\n"
     ]
    },
    {
     "name": "stderr",
     "output_type": "stream",
     "text": [
      "/var/folders/wd/rhzj_w8570g_y66t6j6mh4zw0000gn/T/ipykernel_97543/988434826.py:46: RuntimeWarning: The data contains 'boundary' events, indicating data discontinuities. Be cautious of filtering and epoching around these events.\n",
      "  eeg_dataset_raw = mne.io.read_raw_eeglab(eeg_lab_file_path, preload=True, verbose=flag_verbose)\n"
     ]
    },
    {
     "name": "stdout",
     "output_type": "stream",
     "text": [
      "---Artefact Removal - ICA ------------------------------------------\n",
      "---Power Spectra----------------------------------------------------\n",
      "Effective window size : 1.000 (s)\n",
      "---EEG Spectral Parameterisation------------------------------------\n",
      "Fitting model across 61 power spectra.\n",
      "\n",
      "WARNING: Lower-bound peak width limit is < or ~= the frequency resolution: 1.00 <= 1.00\n",
      "\tLower bounds below frequency-resolution have no effect (effective lower bound is the frequency resolution).\n",
      "\tToo low a limit may lead to overfitting noise as small bandwidth peaks.\n",
      "\tWe recommend a lower bound of approximately 2x the frequency resolution.\n",
      "\n",
      "---Collating Results for sub-049 ------------------------------\n",
      "\n",
      "-----------------------------------------------------------------------------------------------\n",
      "Subject: sub-050\n",
      "---Get EEG Raw Data - FIF -----------------------------------------\n",
      "---Filtering & Referencing------------------------------------------\n"
     ]
    },
    {
     "name": "stderr",
     "output_type": "stream",
     "text": [
      "/var/folders/wd/rhzj_w8570g_y66t6j6mh4zw0000gn/T/ipykernel_97543/988434826.py:46: RuntimeWarning: The data contains 'boundary' events, indicating data discontinuities. Be cautious of filtering and epoching around these events.\n",
      "  eeg_dataset_raw = mne.io.read_raw_eeglab(eeg_lab_file_path, preload=True, verbose=flag_verbose)\n"
     ]
    },
    {
     "name": "stdout",
     "output_type": "stream",
     "text": [
      "---Artefact Removal - ICA ------------------------------------------\n"
     ]
    },
    {
     "name": "stderr",
     "output_type": "stream",
     "text": [
      "/var/folders/wd/rhzj_w8570g_y66t6j6mh4zw0000gn/T/ipykernel_97543/1509335156.py:43: UserWarning: High component rejection: 83.33% marked as non-brain.\n",
      "  warnings.warn(f\"High component rejection: {100 * ICA_rejection_level:.2f}% marked as non-brain.\", UserWarning)\n"
     ]
    },
    {
     "name": "stdout",
     "output_type": "stream",
     "text": [
      "---Power Spectra----------------------------------------------------\n",
      "Effective window size : 1.000 (s)\n",
      "---EEG Spectral Parameterisation------------------------------------\n",
      "Fitting model across 61 power spectra.\n",
      "\n",
      "WARNING: Lower-bound peak width limit is < or ~= the frequency resolution: 1.00 <= 1.00\n",
      "\tLower bounds below frequency-resolution have no effect (effective lower bound is the frequency resolution).\n",
      "\tToo low a limit may lead to overfitting noise as small bandwidth peaks.\n",
      "\tWe recommend a lower bound of approximately 2x the frequency resolution.\n",
      "\n",
      "---Collating Results for sub-050 ------------------------------\n",
      "\n",
      "-----------------------------------------------------------------------------------------------\n",
      "Subject: sub-051\n",
      "---Get EEG Raw Data - FIF -----------------------------------------\n",
      "---Filtering & Referencing------------------------------------------\n"
     ]
    },
    {
     "name": "stderr",
     "output_type": "stream",
     "text": [
      "/var/folders/wd/rhzj_w8570g_y66t6j6mh4zw0000gn/T/ipykernel_97543/988434826.py:46: RuntimeWarning: The data contains 'boundary' events, indicating data discontinuities. Be cautious of filtering and epoching around these events.\n",
      "  eeg_dataset_raw = mne.io.read_raw_eeglab(eeg_lab_file_path, preload=True, verbose=flag_verbose)\n"
     ]
    },
    {
     "name": "stdout",
     "output_type": "stream",
     "text": [
      "---Artefact Removal - ICA ------------------------------------------\n"
     ]
    },
    {
     "name": "stderr",
     "output_type": "stream",
     "text": [
      "/var/folders/wd/rhzj_w8570g_y66t6j6mh4zw0000gn/T/ipykernel_97543/1509335156.py:43: UserWarning: High component rejection: 93.33% marked as non-brain.\n",
      "  warnings.warn(f\"High component rejection: {100 * ICA_rejection_level:.2f}% marked as non-brain.\", UserWarning)\n"
     ]
    },
    {
     "name": "stdout",
     "output_type": "stream",
     "text": [
      "---Power Spectra----------------------------------------------------\n",
      "Effective window size : 1.000 (s)\n",
      "---EEG Spectral Parameterisation------------------------------------\n",
      "Fitting model across 61 power spectra.\n",
      "\n",
      "WARNING: Lower-bound peak width limit is < or ~= the frequency resolution: 1.00 <= 1.00\n",
      "\tLower bounds below frequency-resolution have no effect (effective lower bound is the frequency resolution).\n",
      "\tToo low a limit may lead to overfitting noise as small bandwidth peaks.\n",
      "\tWe recommend a lower bound of approximately 2x the frequency resolution.\n",
      "\n",
      "---Collating Results for sub-051 ------------------------------\n",
      "\n",
      "-----------------------------------------------------------------------------------------------\n",
      "Subject: sub-052\n",
      "---Get EEG Raw Data - FIF -----------------------------------------\n",
      "---Filtering & Referencing------------------------------------------\n"
     ]
    },
    {
     "name": "stderr",
     "output_type": "stream",
     "text": [
      "/var/folders/wd/rhzj_w8570g_y66t6j6mh4zw0000gn/T/ipykernel_97543/988434826.py:46: RuntimeWarning: The data contains 'boundary' events, indicating data discontinuities. Be cautious of filtering and epoching around these events.\n",
      "  eeg_dataset_raw = mne.io.read_raw_eeglab(eeg_lab_file_path, preload=True, verbose=flag_verbose)\n"
     ]
    },
    {
     "name": "stdout",
     "output_type": "stream",
     "text": [
      "---Artefact Removal - ICA ------------------------------------------\n"
     ]
    },
    {
     "name": "stderr",
     "output_type": "stream",
     "text": [
      "/var/folders/wd/rhzj_w8570g_y66t6j6mh4zw0000gn/T/ipykernel_97543/1509335156.py:43: UserWarning: High component rejection: 90.00% marked as non-brain.\n",
      "  warnings.warn(f\"High component rejection: {100 * ICA_rejection_level:.2f}% marked as non-brain.\", UserWarning)\n"
     ]
    },
    {
     "name": "stdout",
     "output_type": "stream",
     "text": [
      "---Power Spectra----------------------------------------------------\n",
      "Effective window size : 1.000 (s)\n",
      "---EEG Spectral Parameterisation------------------------------------\n",
      "Fitting model across 61 power spectra.\n",
      "\n",
      "WARNING: Lower-bound peak width limit is < or ~= the frequency resolution: 1.00 <= 1.00\n",
      "\tLower bounds below frequency-resolution have no effect (effective lower bound is the frequency resolution).\n",
      "\tToo low a limit may lead to overfitting noise as small bandwidth peaks.\n",
      "\tWe recommend a lower bound of approximately 2x the frequency resolution.\n",
      "\n",
      "---Collating Results for sub-052 ------------------------------\n",
      "\n",
      "-----------------------------------------------------------------------------------------------\n",
      "Subject: sub-053\n",
      "---Get EEG Raw Data - FIF -----------------------------------------\n",
      "---Filtering & Referencing------------------------------------------\n"
     ]
    },
    {
     "name": "stderr",
     "output_type": "stream",
     "text": [
      "/var/folders/wd/rhzj_w8570g_y66t6j6mh4zw0000gn/T/ipykernel_97543/988434826.py:46: RuntimeWarning: The data contains 'boundary' events, indicating data discontinuities. Be cautious of filtering and epoching around these events.\n",
      "  eeg_dataset_raw = mne.io.read_raw_eeglab(eeg_lab_file_path, preload=True, verbose=flag_verbose)\n"
     ]
    },
    {
     "name": "stdout",
     "output_type": "stream",
     "text": [
      "---Artefact Removal - ICA ------------------------------------------\n"
     ]
    },
    {
     "name": "stderr",
     "output_type": "stream",
     "text": [
      "/var/folders/wd/rhzj_w8570g_y66t6j6mh4zw0000gn/T/ipykernel_97543/1509335156.py:43: UserWarning: High component rejection: 85.00% marked as non-brain.\n",
      "  warnings.warn(f\"High component rejection: {100 * ICA_rejection_level:.2f}% marked as non-brain.\", UserWarning)\n"
     ]
    },
    {
     "name": "stdout",
     "output_type": "stream",
     "text": [
      "---Power Spectra----------------------------------------------------\n",
      "Effective window size : 1.000 (s)\n",
      "---EEG Spectral Parameterisation------------------------------------\n",
      "Fitting model across 61 power spectra.\n",
      "\n",
      "WARNING: Lower-bound peak width limit is < or ~= the frequency resolution: 1.00 <= 1.00\n",
      "\tLower bounds below frequency-resolution have no effect (effective lower bound is the frequency resolution).\n",
      "\tToo low a limit may lead to overfitting noise as small bandwidth peaks.\n",
      "\tWe recommend a lower bound of approximately 2x the frequency resolution.\n",
      "\n",
      "---Collating Results for sub-053 ------------------------------\n",
      "\n",
      "-----------------------------------------------------------------------------------------------\n",
      "Subject: sub-054\n",
      "---Get EEG Raw Data - FIF -----------------------------------------\n",
      "---Filtering & Referencing------------------------------------------\n"
     ]
    },
    {
     "name": "stderr",
     "output_type": "stream",
     "text": [
      "/var/folders/wd/rhzj_w8570g_y66t6j6mh4zw0000gn/T/ipykernel_97543/988434826.py:46: RuntimeWarning: The data contains 'boundary' events, indicating data discontinuities. Be cautious of filtering and epoching around these events.\n",
      "  eeg_dataset_raw = mne.io.read_raw_eeglab(eeg_lab_file_path, preload=True, verbose=flag_verbose)\n"
     ]
    },
    {
     "name": "stdout",
     "output_type": "stream",
     "text": [
      "---Artefact Removal - ICA ------------------------------------------\n",
      "---Power Spectra----------------------------------------------------\n",
      "Effective window size : 1.000 (s)\n",
      "---EEG Spectral Parameterisation------------------------------------\n",
      "Fitting model across 61 power spectra.\n",
      "\n",
      "WARNING: Lower-bound peak width limit is < or ~= the frequency resolution: 1.00 <= 1.00\n",
      "\tLower bounds below frequency-resolution have no effect (effective lower bound is the frequency resolution).\n",
      "\tToo low a limit may lead to overfitting noise as small bandwidth peaks.\n",
      "\tWe recommend a lower bound of approximately 2x the frequency resolution.\n",
      "\n",
      "---Collating Results for sub-054 ------------------------------\n",
      "\n",
      "-----------------------------------------------------------------------------------------------\n",
      "Subject: sub-055\n",
      "---Get EEG Raw Data - FIF -----------------------------------------\n",
      "---Filtering & Referencing------------------------------------------\n"
     ]
    },
    {
     "name": "stderr",
     "output_type": "stream",
     "text": [
      "/var/folders/wd/rhzj_w8570g_y66t6j6mh4zw0000gn/T/ipykernel_97543/988434826.py:46: RuntimeWarning: The data contains 'boundary' events, indicating data discontinuities. Be cautious of filtering and epoching around these events.\n",
      "  eeg_dataset_raw = mne.io.read_raw_eeglab(eeg_lab_file_path, preload=True, verbose=flag_verbose)\n"
     ]
    },
    {
     "name": "stdout",
     "output_type": "stream",
     "text": [
      "---Artefact Removal - ICA ------------------------------------------\n"
     ]
    },
    {
     "name": "stderr",
     "output_type": "stream",
     "text": [
      "/var/folders/wd/rhzj_w8570g_y66t6j6mh4zw0000gn/T/ipykernel_97543/1509335156.py:43: UserWarning: High component rejection: 88.33% marked as non-brain.\n",
      "  warnings.warn(f\"High component rejection: {100 * ICA_rejection_level:.2f}% marked as non-brain.\", UserWarning)\n"
     ]
    },
    {
     "name": "stdout",
     "output_type": "stream",
     "text": [
      "---Power Spectra----------------------------------------------------\n",
      "Effective window size : 1.000 (s)\n",
      "---EEG Spectral Parameterisation------------------------------------\n",
      "Fitting model across 61 power spectra.\n",
      "\n",
      "WARNING: Lower-bound peak width limit is < or ~= the frequency resolution: 1.00 <= 1.00\n",
      "\tLower bounds below frequency-resolution have no effect (effective lower bound is the frequency resolution).\n",
      "\tToo low a limit may lead to overfitting noise as small bandwidth peaks.\n",
      "\tWe recommend a lower bound of approximately 2x the frequency resolution.\n",
      "\n",
      "---Collating Results for sub-055 ------------------------------\n",
      "\n",
      "-----------------------------------------------------------------------------------------------\n",
      "Subject: sub-056\n",
      "---Get EEG Raw Data - FIF -----------------------------------------\n",
      "---Filtering & Referencing------------------------------------------\n"
     ]
    },
    {
     "name": "stderr",
     "output_type": "stream",
     "text": [
      "/var/folders/wd/rhzj_w8570g_y66t6j6mh4zw0000gn/T/ipykernel_97543/988434826.py:46: RuntimeWarning: The data contains 'boundary' events, indicating data discontinuities. Be cautious of filtering and epoching around these events.\n",
      "  eeg_dataset_raw = mne.io.read_raw_eeglab(eeg_lab_file_path, preload=True, verbose=flag_verbose)\n"
     ]
    },
    {
     "name": "stdout",
     "output_type": "stream",
     "text": [
      "---Artefact Removal - ICA ------------------------------------------\n",
      "---Power Spectra----------------------------------------------------\n",
      "Effective window size : 1.000 (s)\n",
      "---EEG Spectral Parameterisation------------------------------------\n",
      "Fitting model across 61 power spectra.\n",
      "\n",
      "WARNING: Lower-bound peak width limit is < or ~= the frequency resolution: 1.00 <= 1.00\n",
      "\tLower bounds below frequency-resolution have no effect (effective lower bound is the frequency resolution).\n",
      "\tToo low a limit may lead to overfitting noise as small bandwidth peaks.\n",
      "\tWe recommend a lower bound of approximately 2x the frequency resolution.\n",
      "\n",
      "---Collating Results for sub-056 ------------------------------\n",
      "\n",
      "-----------------------------------------------------------------------------------------------\n",
      "Subject: sub-057\n",
      "---Get EEG Raw Data - FIF -----------------------------------------\n",
      "---Filtering & Referencing------------------------------------------\n"
     ]
    },
    {
     "name": "stderr",
     "output_type": "stream",
     "text": [
      "/var/folders/wd/rhzj_w8570g_y66t6j6mh4zw0000gn/T/ipykernel_97543/988434826.py:46: RuntimeWarning: The data contains 'boundary' events, indicating data discontinuities. Be cautious of filtering and epoching around these events.\n",
      "  eeg_dataset_raw = mne.io.read_raw_eeglab(eeg_lab_file_path, preload=True, verbose=flag_verbose)\n"
     ]
    },
    {
     "name": "stdout",
     "output_type": "stream",
     "text": [
      "---Artefact Removal - ICA ------------------------------------------\n"
     ]
    },
    {
     "name": "stderr",
     "output_type": "stream",
     "text": [
      "/var/folders/wd/rhzj_w8570g_y66t6j6mh4zw0000gn/T/ipykernel_97543/1509335156.py:43: UserWarning: High component rejection: 91.67% marked as non-brain.\n",
      "  warnings.warn(f\"High component rejection: {100 * ICA_rejection_level:.2f}% marked as non-brain.\", UserWarning)\n"
     ]
    },
    {
     "name": "stdout",
     "output_type": "stream",
     "text": [
      "Dropped 3 epochs: 55, 103, 105\n",
      "---Power Spectra----------------------------------------------------\n",
      "Effective window size : 1.000 (s)\n",
      "---EEG Spectral Parameterisation------------------------------------\n",
      "Fitting model across 61 power spectra.\n",
      "\n",
      "WARNING: Lower-bound peak width limit is < or ~= the frequency resolution: 1.00 <= 1.00\n",
      "\tLower bounds below frequency-resolution have no effect (effective lower bound is the frequency resolution).\n",
      "\tToo low a limit may lead to overfitting noise as small bandwidth peaks.\n",
      "\tWe recommend a lower bound of approximately 2x the frequency resolution.\n",
      "\n",
      "---Collating Results for sub-057 ------------------------------\n",
      "\n",
      "-----------------------------------------------------------------------------------------------\n",
      "Subject: sub-058\n",
      "---Get EEG Raw Data - FIF -----------------------------------------\n",
      "---Filtering & Referencing------------------------------------------\n"
     ]
    },
    {
     "name": "stderr",
     "output_type": "stream",
     "text": [
      "/var/folders/wd/rhzj_w8570g_y66t6j6mh4zw0000gn/T/ipykernel_97543/988434826.py:46: RuntimeWarning: The data contains 'boundary' events, indicating data discontinuities. Be cautious of filtering and epoching around these events.\n",
      "  eeg_dataset_raw = mne.io.read_raw_eeglab(eeg_lab_file_path, preload=True, verbose=flag_verbose)\n"
     ]
    },
    {
     "name": "stdout",
     "output_type": "stream",
     "text": [
      "---Artefact Removal - ICA ------------------------------------------\n"
     ]
    },
    {
     "name": "stderr",
     "output_type": "stream",
     "text": [
      "/var/folders/wd/rhzj_w8570g_y66t6j6mh4zw0000gn/T/ipykernel_97543/1509335156.py:43: UserWarning: High component rejection: 83.33% marked as non-brain.\n",
      "  warnings.warn(f\"High component rejection: {100 * ICA_rejection_level:.2f}% marked as non-brain.\", UserWarning)\n"
     ]
    },
    {
     "name": "stdout",
     "output_type": "stream",
     "text": [
      "---Power Spectra----------------------------------------------------\n",
      "Effective window size : 1.000 (s)\n",
      "---EEG Spectral Parameterisation------------------------------------\n",
      "Fitting model across 61 power spectra.\n",
      "\n",
      "WARNING: Lower-bound peak width limit is < or ~= the frequency resolution: 1.00 <= 1.00\n",
      "\tLower bounds below frequency-resolution have no effect (effective lower bound is the frequency resolution).\n",
      "\tToo low a limit may lead to overfitting noise as small bandwidth peaks.\n",
      "\tWe recommend a lower bound of approximately 2x the frequency resolution.\n",
      "\n",
      "---Collating Results for sub-058 ------------------------------\n",
      "\n",
      "-----------------------------------------------------------------------------------------------\n",
      "Subject: sub-059\n",
      "---Get EEG Raw Data - FIF -----------------------------------------\n",
      "---Filtering & Referencing------------------------------------------\n"
     ]
    },
    {
     "name": "stderr",
     "output_type": "stream",
     "text": [
      "/var/folders/wd/rhzj_w8570g_y66t6j6mh4zw0000gn/T/ipykernel_97543/3423391515.py:47: UserWarning: SpecParam R2 mean 0.83 & std 0.06\n",
      "  warnings.warn(f'SpecParam R2 mean {mean_r2:.2f} & std {std_r2:.2f}', UserWarning)\n",
      "/var/folders/wd/rhzj_w8570g_y66t6j6mh4zw0000gn/T/ipykernel_97543/988434826.py:46: RuntimeWarning: The data contains 'boundary' events, indicating data discontinuities. Be cautious of filtering and epoching around these events.\n",
      "  eeg_dataset_raw = mne.io.read_raw_eeglab(eeg_lab_file_path, preload=True, verbose=flag_verbose)\n"
     ]
    },
    {
     "name": "stdout",
     "output_type": "stream",
     "text": [
      "---Artefact Removal - ICA ------------------------------------------\n"
     ]
    },
    {
     "name": "stderr",
     "output_type": "stream",
     "text": [
      "/var/folders/wd/rhzj_w8570g_y66t6j6mh4zw0000gn/T/ipykernel_97543/1509335156.py:43: UserWarning: High component rejection: 90.00% marked as non-brain.\n",
      "  warnings.warn(f\"High component rejection: {100 * ICA_rejection_level:.2f}% marked as non-brain.\", UserWarning)\n"
     ]
    },
    {
     "name": "stdout",
     "output_type": "stream",
     "text": [
      "Dropped 5 epochs: 5, 7, 8, 105, 120\n",
      "---Power Spectra----------------------------------------------------\n",
      "Effective window size : 1.000 (s)\n",
      "---EEG Spectral Parameterisation------------------------------------\n",
      "Fitting model across 61 power spectra.\n",
      "\n",
      "WARNING: Lower-bound peak width limit is < or ~= the frequency resolution: 1.00 <= 1.00\n",
      "\tLower bounds below frequency-resolution have no effect (effective lower bound is the frequency resolution).\n",
      "\tToo low a limit may lead to overfitting noise as small bandwidth peaks.\n",
      "\tWe recommend a lower bound of approximately 2x the frequency resolution.\n",
      "\n",
      "---Collating Results for sub-059 ------------------------------\n",
      "\n",
      "-----------------------------------------------------------------------------------------------\n",
      "Subject: sub-060\n",
      "---Get EEG Raw Data - FIF -----------------------------------------\n",
      "---Filtering & Referencing------------------------------------------\n"
     ]
    },
    {
     "name": "stderr",
     "output_type": "stream",
     "text": [
      "/var/folders/wd/rhzj_w8570g_y66t6j6mh4zw0000gn/T/ipykernel_97543/988434826.py:46: RuntimeWarning: The data contains 'boundary' events, indicating data discontinuities. Be cautious of filtering and epoching around these events.\n",
      "  eeg_dataset_raw = mne.io.read_raw_eeglab(eeg_lab_file_path, preload=True, verbose=flag_verbose)\n"
     ]
    },
    {
     "name": "stdout",
     "output_type": "stream",
     "text": [
      "---Artefact Removal - ICA ------------------------------------------\n"
     ]
    },
    {
     "name": "stderr",
     "output_type": "stream",
     "text": [
      "/var/folders/wd/rhzj_w8570g_y66t6j6mh4zw0000gn/T/ipykernel_97543/1509335156.py:43: UserWarning: High component rejection: 80.00% marked as non-brain.\n",
      "  warnings.warn(f\"High component rejection: {100 * ICA_rejection_level:.2f}% marked as non-brain.\", UserWarning)\n"
     ]
    },
    {
     "name": "stdout",
     "output_type": "stream",
     "text": [
      "---Power Spectra----------------------------------------------------\n",
      "Effective window size : 1.000 (s)\n",
      "---EEG Spectral Parameterisation------------------------------------\n",
      "Fitting model across 61 power spectra.\n",
      "\n",
      "WARNING: Lower-bound peak width limit is < or ~= the frequency resolution: 1.00 <= 1.00\n",
      "\tLower bounds below frequency-resolution have no effect (effective lower bound is the frequency resolution).\n",
      "\tToo low a limit may lead to overfitting noise as small bandwidth peaks.\n",
      "\tWe recommend a lower bound of approximately 2x the frequency resolution.\n",
      "\n",
      "---Collating Results for sub-060 ------------------------------\n",
      "\n",
      "-----------------------------------------------------------------------------------------------\n",
      "Subject: sub-061\n",
      "---Get EEG Raw Data - FIF -----------------------------------------\n",
      "---Filtering & Referencing------------------------------------------\n"
     ]
    },
    {
     "name": "stderr",
     "output_type": "stream",
     "text": [
      "/var/folders/wd/rhzj_w8570g_y66t6j6mh4zw0000gn/T/ipykernel_97543/988434826.py:46: RuntimeWarning: The data contains 'boundary' events, indicating data discontinuities. Be cautious of filtering and epoching around these events.\n",
      "  eeg_dataset_raw = mne.io.read_raw_eeglab(eeg_lab_file_path, preload=True, verbose=flag_verbose)\n"
     ]
    },
    {
     "name": "stdout",
     "output_type": "stream",
     "text": [
      "---Artefact Removal - ICA ------------------------------------------\n"
     ]
    },
    {
     "name": "stderr",
     "output_type": "stream",
     "text": [
      "/var/folders/wd/rhzj_w8570g_y66t6j6mh4zw0000gn/T/ipykernel_97543/1509335156.py:43: UserWarning: High component rejection: 83.33% marked as non-brain.\n",
      "  warnings.warn(f\"High component rejection: {100 * ICA_rejection_level:.2f}% marked as non-brain.\", UserWarning)\n"
     ]
    },
    {
     "name": "stdout",
     "output_type": "stream",
     "text": [
      "---Power Spectra----------------------------------------------------\n",
      "Effective window size : 1.000 (s)\n",
      "---EEG Spectral Parameterisation------------------------------------\n",
      "Fitting model across 61 power spectra.\n",
      "\n",
      "WARNING: Lower-bound peak width limit is < or ~= the frequency resolution: 1.00 <= 1.00\n",
      "\tLower bounds below frequency-resolution have no effect (effective lower bound is the frequency resolution).\n",
      "\tToo low a limit may lead to overfitting noise as small bandwidth peaks.\n",
      "\tWe recommend a lower bound of approximately 2x the frequency resolution.\n",
      "\n",
      "---Collating Results for sub-061 ------------------------------\n",
      "\n",
      "-----------------------------------------------------------------------------------------------\n",
      "Subject: sub-062\n",
      "---Get EEG Raw Data - FIF -----------------------------------------\n",
      "---Filtering & Referencing------------------------------------------\n"
     ]
    },
    {
     "name": "stderr",
     "output_type": "stream",
     "text": [
      "/var/folders/wd/rhzj_w8570g_y66t6j6mh4zw0000gn/T/ipykernel_97543/988434826.py:46: RuntimeWarning: The data contains 'boundary' events, indicating data discontinuities. Be cautious of filtering and epoching around these events.\n",
      "  eeg_dataset_raw = mne.io.read_raw_eeglab(eeg_lab_file_path, preload=True, verbose=flag_verbose)\n"
     ]
    },
    {
     "name": "stdout",
     "output_type": "stream",
     "text": [
      "---Artefact Removal - ICA ------------------------------------------\n",
      "---Power Spectra----------------------------------------------------\n",
      "Effective window size : 1.000 (s)\n",
      "---EEG Spectral Parameterisation------------------------------------\n",
      "Fitting model across 61 power spectra.\n",
      "\n",
      "WARNING: Lower-bound peak width limit is < or ~= the frequency resolution: 1.00 <= 1.00\n",
      "\tLower bounds below frequency-resolution have no effect (effective lower bound is the frequency resolution).\n",
      "\tToo low a limit may lead to overfitting noise as small bandwidth peaks.\n",
      "\tWe recommend a lower bound of approximately 2x the frequency resolution.\n",
      "\n",
      "---Collating Results for sub-062 ------------------------------\n",
      "\n",
      "-----------------------------------------------------------------------------------------------\n",
      "Subject: sub-063\n",
      "---Get EEG Raw Data - FIF -----------------------------------------\n",
      "---Filtering & Referencing------------------------------------------\n"
     ]
    },
    {
     "name": "stderr",
     "output_type": "stream",
     "text": [
      "/var/folders/wd/rhzj_w8570g_y66t6j6mh4zw0000gn/T/ipykernel_97543/988434826.py:46: RuntimeWarning: The data contains 'boundary' events, indicating data discontinuities. Be cautious of filtering and epoching around these events.\n",
      "  eeg_dataset_raw = mne.io.read_raw_eeglab(eeg_lab_file_path, preload=True, verbose=flag_verbose)\n"
     ]
    },
    {
     "name": "stdout",
     "output_type": "stream",
     "text": [
      "---Artefact Removal - ICA ------------------------------------------\n",
      "Dropped 3 epochs: 6, 83, 120\n",
      "---Power Spectra----------------------------------------------------\n",
      "Effective window size : 1.000 (s)\n",
      "---EEG Spectral Parameterisation------------------------------------\n",
      "Fitting model across 61 power spectra.\n",
      "\n",
      "WARNING: Lower-bound peak width limit is < or ~= the frequency resolution: 1.00 <= 1.00\n",
      "\tLower bounds below frequency-resolution have no effect (effective lower bound is the frequency resolution).\n",
      "\tToo low a limit may lead to overfitting noise as small bandwidth peaks.\n",
      "\tWe recommend a lower bound of approximately 2x the frequency resolution.\n",
      "\n",
      "---Collating Results for sub-063 ------------------------------\n",
      "\n",
      "-----------------------------------------------------------------------------------------------\n",
      "Subject: sub-064\n",
      "---Get EEG Raw Data - FIF -----------------------------------------\n"
     ]
    },
    {
     "name": "stderr",
     "output_type": "stream",
     "text": [
      "/var/folders/wd/rhzj_w8570g_y66t6j6mh4zw0000gn/T/ipykernel_97543/988434826.py:46: RuntimeWarning: The data contains 'boundary' events, indicating data discontinuities. Be cautious of filtering and epoching around these events.\n",
      "  eeg_dataset_raw = mne.io.read_raw_eeglab(eeg_lab_file_path, preload=True, verbose=flag_verbose)\n"
     ]
    },
    {
     "name": "stdout",
     "output_type": "stream",
     "text": [
      "---Filtering & Referencing------------------------------------------\n",
      "---Artefact Removal - ICA ------------------------------------------\n"
     ]
    },
    {
     "name": "stderr",
     "output_type": "stream",
     "text": [
      "/var/folders/wd/rhzj_w8570g_y66t6j6mh4zw0000gn/T/ipykernel_97543/1509335156.py:43: UserWarning: High component rejection: 80.00% marked as non-brain.\n",
      "  warnings.warn(f\"High component rejection: {100 * ICA_rejection_level:.2f}% marked as non-brain.\", UserWarning)\n"
     ]
    },
    {
     "name": "stdout",
     "output_type": "stream",
     "text": [
      "Dropped 5 epochs: 0, 17, 22, 89, 151\n",
      "---Power Spectra----------------------------------------------------\n",
      "Effective window size : 1.000 (s)\n",
      "---EEG Spectral Parameterisation------------------------------------\n",
      "Fitting model across 61 power spectra.\n",
      "\n",
      "WARNING: Lower-bound peak width limit is < or ~= the frequency resolution: 1.00 <= 1.00\n",
      "\tLower bounds below frequency-resolution have no effect (effective lower bound is the frequency resolution).\n",
      "\tToo low a limit may lead to overfitting noise as small bandwidth peaks.\n",
      "\tWe recommend a lower bound of approximately 2x the frequency resolution.\n",
      "\n",
      "---Collating Results for sub-064 ------------------------------\n",
      "\n",
      "-----------------------------------------------------------------------------------------------\n",
      "Subject: sub-065\n",
      "---Get EEG Raw Data - FIF -----------------------------------------\n",
      "---Filtering & Referencing------------------------------------------\n"
     ]
    },
    {
     "name": "stderr",
     "output_type": "stream",
     "text": [
      "/var/folders/wd/rhzj_w8570g_y66t6j6mh4zw0000gn/T/ipykernel_97543/988434826.py:46: RuntimeWarning: The data contains 'boundary' events, indicating data discontinuities. Be cautious of filtering and epoching around these events.\n",
      "  eeg_dataset_raw = mne.io.read_raw_eeglab(eeg_lab_file_path, preload=True, verbose=flag_verbose)\n"
     ]
    },
    {
     "name": "stdout",
     "output_type": "stream",
     "text": [
      "---Artefact Removal - ICA ------------------------------------------\n",
      "---Power Spectra----------------------------------------------------\n",
      "Effective window size : 1.000 (s)\n",
      "---EEG Spectral Parameterisation------------------------------------\n",
      "Fitting model across 61 power spectra.\n",
      "\n",
      "WARNING: Lower-bound peak width limit is < or ~= the frequency resolution: 1.00 <= 1.00\n",
      "\tLower bounds below frequency-resolution have no effect (effective lower bound is the frequency resolution).\n",
      "\tToo low a limit may lead to overfitting noise as small bandwidth peaks.\n",
      "\tWe recommend a lower bound of approximately 2x the frequency resolution.\n",
      "\n",
      "---Collating Results for sub-065 ------------------------------\n",
      "\n",
      "-----------------------------------------------------------------------------------------------\n",
      "Subject: sub-066\n",
      "---Get EEG Raw Data - FIF -----------------------------------------\n",
      "---Filtering & Referencing------------------------------------------\n"
     ]
    },
    {
     "name": "stderr",
     "output_type": "stream",
     "text": [
      "/var/folders/wd/rhzj_w8570g_y66t6j6mh4zw0000gn/T/ipykernel_97543/988434826.py:46: RuntimeWarning: The data contains 'boundary' events, indicating data discontinuities. Be cautious of filtering and epoching around these events.\n",
      "  eeg_dataset_raw = mne.io.read_raw_eeglab(eeg_lab_file_path, preload=True, verbose=flag_verbose)\n"
     ]
    },
    {
     "name": "stdout",
     "output_type": "stream",
     "text": [
      "---Artefact Removal - ICA ------------------------------------------\n"
     ]
    },
    {
     "name": "stderr",
     "output_type": "stream",
     "text": [
      "/var/folders/wd/rhzj_w8570g_y66t6j6mh4zw0000gn/T/ipykernel_97543/1509335156.py:43: UserWarning: High component rejection: 80.00% marked as non-brain.\n",
      "  warnings.warn(f\"High component rejection: {100 * ICA_rejection_level:.2f}% marked as non-brain.\", UserWarning)\n"
     ]
    },
    {
     "name": "stdout",
     "output_type": "stream",
     "text": [
      "---Power Spectra----------------------------------------------------\n",
      "Effective window size : 1.000 (s)\n",
      "---EEG Spectral Parameterisation------------------------------------\n",
      "Fitting model across 61 power spectra.\n",
      "\n",
      "WARNING: Lower-bound peak width limit is < or ~= the frequency resolution: 1.00 <= 1.00\n",
      "\tLower bounds below frequency-resolution have no effect (effective lower bound is the frequency resolution).\n",
      "\tToo low a limit may lead to overfitting noise as small bandwidth peaks.\n",
      "\tWe recommend a lower bound of approximately 2x the frequency resolution.\n",
      "\n",
      "---Collating Results for sub-066 ------------------------------\n",
      "\n",
      "-----------------------------------------------------------------------------------------------\n",
      "Subject: sub-067\n",
      "---Get EEG Raw Data - FIF -----------------------------------------\n",
      "---Filtering & Referencing------------------------------------------\n"
     ]
    },
    {
     "name": "stderr",
     "output_type": "stream",
     "text": [
      "/var/folders/wd/rhzj_w8570g_y66t6j6mh4zw0000gn/T/ipykernel_97543/988434826.py:46: RuntimeWarning: The data contains 'boundary' events, indicating data discontinuities. Be cautious of filtering and epoching around these events.\n",
      "  eeg_dataset_raw = mne.io.read_raw_eeglab(eeg_lab_file_path, preload=True, verbose=flag_verbose)\n"
     ]
    },
    {
     "name": "stdout",
     "output_type": "stream",
     "text": [
      "---Artefact Removal - ICA ------------------------------------------\n"
     ]
    },
    {
     "name": "stderr",
     "output_type": "stream",
     "text": [
      "/var/folders/wd/rhzj_w8570g_y66t6j6mh4zw0000gn/T/ipykernel_97543/1509335156.py:43: UserWarning: High component rejection: 96.67% marked as non-brain.\n",
      "  warnings.warn(f\"High component rejection: {100 * ICA_rejection_level:.2f}% marked as non-brain.\", UserWarning)\n"
     ]
    },
    {
     "name": "stdout",
     "output_type": "stream",
     "text": [
      "Dropped 3 epochs: 0, 111, 127\n",
      "---Power Spectra----------------------------------------------------\n",
      "Effective window size : 1.000 (s)\n",
      "---EEG Spectral Parameterisation------------------------------------\n",
      "Fitting model across 61 power spectra.\n",
      "\n",
      "WARNING: Lower-bound peak width limit is < or ~= the frequency resolution: 1.00 <= 1.00\n",
      "\tLower bounds below frequency-resolution have no effect (effective lower bound is the frequency resolution).\n",
      "\tToo low a limit may lead to overfitting noise as small bandwidth peaks.\n",
      "\tWe recommend a lower bound of approximately 2x the frequency resolution.\n",
      "\n",
      "---Collating Results for sub-067 ------------------------------\n",
      "\n",
      "-----------------------------------------------------------------------------------------------\n",
      "Subject: sub-068\n",
      "---Get EEG Raw Data - FIF -----------------------------------------\n"
     ]
    },
    {
     "name": "stderr",
     "output_type": "stream",
     "text": [
      "/var/folders/wd/rhzj_w8570g_y66t6j6mh4zw0000gn/T/ipykernel_97543/3423391515.py:47: UserWarning: SpecParam R2 mean 0.89 & std 0.02\n",
      "  warnings.warn(f'SpecParam R2 mean {mean_r2:.2f} & std {std_r2:.2f}', UserWarning)\n",
      "/var/folders/wd/rhzj_w8570g_y66t6j6mh4zw0000gn/T/ipykernel_97543/988434826.py:46: RuntimeWarning: The data contains 'boundary' events, indicating data discontinuities. Be cautious of filtering and epoching around these events.\n",
      "  eeg_dataset_raw = mne.io.read_raw_eeglab(eeg_lab_file_path, preload=True, verbose=flag_verbose)\n"
     ]
    },
    {
     "name": "stdout",
     "output_type": "stream",
     "text": [
      "---Filtering & Referencing------------------------------------------\n",
      "---Artefact Removal - ICA ------------------------------------------\n"
     ]
    },
    {
     "name": "stderr",
     "output_type": "stream",
     "text": [
      "/var/folders/wd/rhzj_w8570g_y66t6j6mh4zw0000gn/T/ipykernel_97543/1509335156.py:43: UserWarning: High component rejection: 91.67% marked as non-brain.\n",
      "  warnings.warn(f\"High component rejection: {100 * ICA_rejection_level:.2f}% marked as non-brain.\", UserWarning)\n"
     ]
    },
    {
     "name": "stdout",
     "output_type": "stream",
     "text": [
      "---Power Spectra----------------------------------------------------\n",
      "Effective window size : 1.000 (s)\n",
      "---EEG Spectral Parameterisation------------------------------------\n",
      "Fitting model across 61 power spectra.\n",
      "\n",
      "WARNING: Lower-bound peak width limit is < or ~= the frequency resolution: 1.00 <= 1.00\n",
      "\tLower bounds below frequency-resolution have no effect (effective lower bound is the frequency resolution).\n",
      "\tToo low a limit may lead to overfitting noise as small bandwidth peaks.\n",
      "\tWe recommend a lower bound of approximately 2x the frequency resolution.\n",
      "\n",
      "---Collating Results for sub-068 ------------------------------\n",
      "\n",
      "-----------------------------------------------------------------------------------------------\n",
      "Subject: sub-069\n",
      "---Get EEG Raw Data - FIF -----------------------------------------\n",
      "---Filtering & Referencing------------------------------------------\n"
     ]
    },
    {
     "name": "stderr",
     "output_type": "stream",
     "text": [
      "/var/folders/wd/rhzj_w8570g_y66t6j6mh4zw0000gn/T/ipykernel_97543/988434826.py:46: RuntimeWarning: The data contains 'boundary' events, indicating data discontinuities. Be cautious of filtering and epoching around these events.\n",
      "  eeg_dataset_raw = mne.io.read_raw_eeglab(eeg_lab_file_path, preload=True, verbose=flag_verbose)\n"
     ]
    },
    {
     "name": "stdout",
     "output_type": "stream",
     "text": [
      "---Artefact Removal - ICA ------------------------------------------\n",
      "---Power Spectra----------------------------------------------------\n",
      "Effective window size : 1.000 (s)\n",
      "---EEG Spectral Parameterisation------------------------------------\n",
      "Fitting model across 61 power spectra.\n",
      "\n",
      "WARNING: Lower-bound peak width limit is < or ~= the frequency resolution: 1.00 <= 1.00\n",
      "\tLower bounds below frequency-resolution have no effect (effective lower bound is the frequency resolution).\n",
      "\tToo low a limit may lead to overfitting noise as small bandwidth peaks.\n",
      "\tWe recommend a lower bound of approximately 2x the frequency resolution.\n",
      "\n",
      "---Collating Results for sub-069 ------------------------------\n",
      "\n",
      "-----------------------------------------------------------------------------------------------\n",
      "Subject: sub-070\n",
      "---Get EEG Raw Data - FIF -----------------------------------------\n"
     ]
    },
    {
     "name": "stderr",
     "output_type": "stream",
     "text": [
      "/var/folders/wd/rhzj_w8570g_y66t6j6mh4zw0000gn/T/ipykernel_97543/988434826.py:46: RuntimeWarning: The data contains 'boundary' events, indicating data discontinuities. Be cautious of filtering and epoching around these events.\n",
      "  eeg_dataset_raw = mne.io.read_raw_eeglab(eeg_lab_file_path, preload=True, verbose=flag_verbose)\n"
     ]
    },
    {
     "name": "stdout",
     "output_type": "stream",
     "text": [
      "---Filtering & Referencing------------------------------------------\n",
      "---Artefact Removal - ICA ------------------------------------------\n"
     ]
    },
    {
     "name": "stderr",
     "output_type": "stream",
     "text": [
      "/var/folders/wd/rhzj_w8570g_y66t6j6mh4zw0000gn/T/ipykernel_97543/1509335156.py:43: UserWarning: High component rejection: 81.67% marked as non-brain.\n",
      "  warnings.warn(f\"High component rejection: {100 * ICA_rejection_level:.2f}% marked as non-brain.\", UserWarning)\n"
     ]
    },
    {
     "name": "stdout",
     "output_type": "stream",
     "text": [
      "---Power Spectra----------------------------------------------------\n",
      "Effective window size : 1.000 (s)\n",
      "---EEG Spectral Parameterisation------------------------------------\n",
      "Fitting model across 61 power spectra.\n",
      "\n",
      "WARNING: Lower-bound peak width limit is < or ~= the frequency resolution: 1.00 <= 1.00\n",
      "\tLower bounds below frequency-resolution have no effect (effective lower bound is the frequency resolution).\n",
      "\tToo low a limit may lead to overfitting noise as small bandwidth peaks.\n",
      "\tWe recommend a lower bound of approximately 2x the frequency resolution.\n",
      "\n",
      "---Collating Results for sub-070 ------------------------------\n",
      "\n",
      "-----------------------------------------------------------------------------------------------\n",
      "Subject: sub-071\n",
      "---Get EEG Raw Data - FIF -----------------------------------------\n",
      "---Filtering & Referencing------------------------------------------\n"
     ]
    },
    {
     "name": "stderr",
     "output_type": "stream",
     "text": [
      "/var/folders/wd/rhzj_w8570g_y66t6j6mh4zw0000gn/T/ipykernel_97543/988434826.py:46: RuntimeWarning: The data contains 'boundary' events, indicating data discontinuities. Be cautious of filtering and epoching around these events.\n",
      "  eeg_dataset_raw = mne.io.read_raw_eeglab(eeg_lab_file_path, preload=True, verbose=flag_verbose)\n"
     ]
    },
    {
     "name": "stdout",
     "output_type": "stream",
     "text": [
      "---Artefact Removal - ICA ------------------------------------------\n"
     ]
    },
    {
     "name": "stderr",
     "output_type": "stream",
     "text": [
      "/var/folders/wd/rhzj_w8570g_y66t6j6mh4zw0000gn/T/ipykernel_97543/1509335156.py:43: UserWarning: High component rejection: 88.33% marked as non-brain.\n",
      "  warnings.warn(f\"High component rejection: {100 * ICA_rejection_level:.2f}% marked as non-brain.\", UserWarning)\n"
     ]
    },
    {
     "name": "stdout",
     "output_type": "stream",
     "text": [
      "---Power Spectra----------------------------------------------------\n",
      "Effective window size : 1.000 (s)\n",
      "---EEG Spectral Parameterisation------------------------------------\n",
      "Fitting model across 61 power spectra.\n",
      "\n",
      "WARNING: Lower-bound peak width limit is < or ~= the frequency resolution: 1.00 <= 1.00\n",
      "\tLower bounds below frequency-resolution have no effect (effective lower bound is the frequency resolution).\n",
      "\tToo low a limit may lead to overfitting noise as small bandwidth peaks.\n",
      "\tWe recommend a lower bound of approximately 2x the frequency resolution.\n",
      "\n",
      "---Collating Results for sub-071 ------------------------------\n",
      "\n",
      "-----------------------------------------------------------------------------------------------\n",
      "Subject: sub-072\n",
      "---Get EEG Raw Data - FIF -----------------------------------------\n",
      "---Filtering & Referencing------------------------------------------\n"
     ]
    },
    {
     "name": "stderr",
     "output_type": "stream",
     "text": [
      "/var/folders/wd/rhzj_w8570g_y66t6j6mh4zw0000gn/T/ipykernel_97543/988434826.py:46: RuntimeWarning: The data contains 'boundary' events, indicating data discontinuities. Be cautious of filtering and epoching around these events.\n",
      "  eeg_dataset_raw = mne.io.read_raw_eeglab(eeg_lab_file_path, preload=True, verbose=flag_verbose)\n"
     ]
    },
    {
     "name": "stdout",
     "output_type": "stream",
     "text": [
      "---Artefact Removal - ICA ------------------------------------------\n",
      "Dropped 2 epochs: 30, 94\n",
      "---Power Spectra----------------------------------------------------\n",
      "Effective window size : 1.000 (s)\n",
      "---EEG Spectral Parameterisation------------------------------------\n",
      "Fitting model across 61 power spectra.\n",
      "\n",
      "WARNING: Lower-bound peak width limit is < or ~= the frequency resolution: 1.00 <= 1.00\n",
      "\tLower bounds below frequency-resolution have no effect (effective lower bound is the frequency resolution).\n",
      "\tToo low a limit may lead to overfitting noise as small bandwidth peaks.\n",
      "\tWe recommend a lower bound of approximately 2x the frequency resolution.\n",
      "\n",
      "---Collating Results for sub-072 ------------------------------\n",
      "\n",
      "-----------------------------------------------------------------------------------------------\n",
      "Subject: sub-073\n",
      "---Get EEG Raw Data - FIF -----------------------------------------\n",
      "---Filtering & Referencing------------------------------------------\n"
     ]
    },
    {
     "name": "stderr",
     "output_type": "stream",
     "text": [
      "/var/folders/wd/rhzj_w8570g_y66t6j6mh4zw0000gn/T/ipykernel_97543/988434826.py:46: RuntimeWarning: The data contains 'boundary' events, indicating data discontinuities. Be cautious of filtering and epoching around these events.\n",
      "  eeg_dataset_raw = mne.io.read_raw_eeglab(eeg_lab_file_path, preload=True, verbose=flag_verbose)\n"
     ]
    },
    {
     "name": "stdout",
     "output_type": "stream",
     "text": [
      "---Artefact Removal - ICA ------------------------------------------\n",
      "Dropped 4 epochs: 25, 67, 68, 88\n",
      "---Power Spectra----------------------------------------------------\n",
      "Effective window size : 1.000 (s)\n",
      "---EEG Spectral Parameterisation------------------------------------\n",
      "Fitting model across 61 power spectra.\n",
      "\n",
      "WARNING: Lower-bound peak width limit is < or ~= the frequency resolution: 1.00 <= 1.00\n",
      "\tLower bounds below frequency-resolution have no effect (effective lower bound is the frequency resolution).\n",
      "\tToo low a limit may lead to overfitting noise as small bandwidth peaks.\n",
      "\tWe recommend a lower bound of approximately 2x the frequency resolution.\n",
      "\n",
      "---Collating Results for sub-073 ------------------------------\n",
      "\n",
      "-----------------------------------------------------------------------------------------------\n",
      "Subject: sub-074\n",
      "---Get EEG Raw Data - FIF -----------------------------------------\n"
     ]
    },
    {
     "name": "stderr",
     "output_type": "stream",
     "text": [
      "/var/folders/wd/rhzj_w8570g_y66t6j6mh4zw0000gn/T/ipykernel_97543/988434826.py:46: RuntimeWarning: The data contains 'boundary' events, indicating data discontinuities. Be cautious of filtering and epoching around these events.\n",
      "  eeg_dataset_raw = mne.io.read_raw_eeglab(eeg_lab_file_path, preload=True, verbose=flag_verbose)\n"
     ]
    },
    {
     "name": "stdout",
     "output_type": "stream",
     "text": [
      "---Filtering & Referencing------------------------------------------\n",
      "---Artefact Removal - ICA ------------------------------------------\n",
      "---Power Spectra----------------------------------------------------\n",
      "Effective window size : 1.000 (s)\n",
      "---EEG Spectral Parameterisation------------------------------------\n",
      "Fitting model across 61 power spectra.\n",
      "\n",
      "WARNING: Lower-bound peak width limit is < or ~= the frequency resolution: 1.00 <= 1.00\n",
      "\tLower bounds below frequency-resolution have no effect (effective lower bound is the frequency resolution).\n",
      "\tToo low a limit may lead to overfitting noise as small bandwidth peaks.\n",
      "\tWe recommend a lower bound of approximately 2x the frequency resolution.\n",
      "\n",
      "---Collating Results for sub-074 ------------------------------\n",
      "\n",
      "-----------------------------------------------------------------------------------------------\n",
      "Subject: sub-075\n",
      "---Get EEG Raw Data - FIF -----------------------------------------\n",
      "---Filtering & Referencing------------------------------------------\n"
     ]
    },
    {
     "name": "stderr",
     "output_type": "stream",
     "text": [
      "/var/folders/wd/rhzj_w8570g_y66t6j6mh4zw0000gn/T/ipykernel_97543/988434826.py:46: RuntimeWarning: The data contains 'boundary' events, indicating data discontinuities. Be cautious of filtering and epoching around these events.\n",
      "  eeg_dataset_raw = mne.io.read_raw_eeglab(eeg_lab_file_path, preload=True, verbose=flag_verbose)\n"
     ]
    },
    {
     "name": "stdout",
     "output_type": "stream",
     "text": [
      "---Artefact Removal - ICA ------------------------------------------\n"
     ]
    },
    {
     "name": "stderr",
     "output_type": "stream",
     "text": [
      "/var/folders/wd/rhzj_w8570g_y66t6j6mh4zw0000gn/T/ipykernel_97543/1509335156.py:43: UserWarning: High component rejection: 93.33% marked as non-brain.\n",
      "  warnings.warn(f\"High component rejection: {100 * ICA_rejection_level:.2f}% marked as non-brain.\", UserWarning)\n"
     ]
    },
    {
     "name": "stdout",
     "output_type": "stream",
     "text": [
      "---Power Spectra----------------------------------------------------\n",
      "Effective window size : 1.000 (s)\n",
      "---EEG Spectral Parameterisation------------------------------------\n",
      "Fitting model across 61 power spectra.\n",
      "\n",
      "WARNING: Lower-bound peak width limit is < or ~= the frequency resolution: 1.00 <= 1.00\n",
      "\tLower bounds below frequency-resolution have no effect (effective lower bound is the frequency resolution).\n",
      "\tToo low a limit may lead to overfitting noise as small bandwidth peaks.\n",
      "\tWe recommend a lower bound of approximately 2x the frequency resolution.\n",
      "\n",
      "---Collating Results for sub-075 ------------------------------\n",
      "\n",
      "-----------------------------------------------------------------------------------------------\n",
      "Subject: sub-076\n",
      "---Get EEG Raw Data - FIF -----------------------------------------\n",
      "---Filtering & Referencing------------------------------------------\n"
     ]
    },
    {
     "name": "stderr",
     "output_type": "stream",
     "text": [
      "/var/folders/wd/rhzj_w8570g_y66t6j6mh4zw0000gn/T/ipykernel_97543/988434826.py:46: RuntimeWarning: The data contains 'boundary' events, indicating data discontinuities. Be cautious of filtering and epoching around these events.\n",
      "  eeg_dataset_raw = mne.io.read_raw_eeglab(eeg_lab_file_path, preload=True, verbose=flag_verbose)\n"
     ]
    },
    {
     "name": "stdout",
     "output_type": "stream",
     "text": [
      "---Artefact Removal - ICA ------------------------------------------\n"
     ]
    },
    {
     "name": "stderr",
     "output_type": "stream",
     "text": [
      "/var/folders/wd/rhzj_w8570g_y66t6j6mh4zw0000gn/T/ipykernel_97543/1509335156.py:43: UserWarning: High component rejection: 95.00% marked as non-brain.\n",
      "  warnings.warn(f\"High component rejection: {100 * ICA_rejection_level:.2f}% marked as non-brain.\", UserWarning)\n"
     ]
    },
    {
     "name": "stdout",
     "output_type": "stream",
     "text": [
      "---Power Spectra----------------------------------------------------\n",
      "Effective window size : 1.000 (s)\n",
      "---EEG Spectral Parameterisation------------------------------------\n",
      "Fitting model across 61 power spectra.\n",
      "\n",
      "WARNING: Lower-bound peak width limit is < or ~= the frequency resolution: 1.00 <= 1.00\n",
      "\tLower bounds below frequency-resolution have no effect (effective lower bound is the frequency resolution).\n",
      "\tToo low a limit may lead to overfitting noise as small bandwidth peaks.\n",
      "\tWe recommend a lower bound of approximately 2x the frequency resolution.\n",
      "\n",
      "---Collating Results for sub-076 ------------------------------\n",
      "\n",
      "-----------------------------------------------------------------------------------------------\n",
      "Subject: sub-077\n",
      "---Get EEG Raw Data - FIF -----------------------------------------\n",
      "---Filtering & Referencing------------------------------------------\n"
     ]
    },
    {
     "name": "stderr",
     "output_type": "stream",
     "text": [
      "/var/folders/wd/rhzj_w8570g_y66t6j6mh4zw0000gn/T/ipykernel_97543/988434826.py:46: RuntimeWarning: The data contains 'boundary' events, indicating data discontinuities. Be cautious of filtering and epoching around these events.\n",
      "  eeg_dataset_raw = mne.io.read_raw_eeglab(eeg_lab_file_path, preload=True, verbose=flag_verbose)\n"
     ]
    },
    {
     "name": "stdout",
     "output_type": "stream",
     "text": [
      "---Artefact Removal - ICA ------------------------------------------\n",
      "---Power Spectra----------------------------------------------------\n",
      "Effective window size : 1.000 (s)\n",
      "---EEG Spectral Parameterisation------------------------------------\n",
      "Fitting model across 61 power spectra.\n",
      "\n",
      "WARNING: Lower-bound peak width limit is < or ~= the frequency resolution: 1.00 <= 1.00\n",
      "\tLower bounds below frequency-resolution have no effect (effective lower bound is the frequency resolution).\n",
      "\tToo low a limit may lead to overfitting noise as small bandwidth peaks.\n",
      "\tWe recommend a lower bound of approximately 2x the frequency resolution.\n",
      "\n",
      "---Collating Results for sub-077 ------------------------------\n",
      "\n",
      "-----------------------------------------------------------------------------------------------\n",
      "Subject: sub-078\n",
      "---Get EEG Raw Data - FIF -----------------------------------------\n",
      "---Filtering & Referencing------------------------------------------\n"
     ]
    },
    {
     "name": "stderr",
     "output_type": "stream",
     "text": [
      "/var/folders/wd/rhzj_w8570g_y66t6j6mh4zw0000gn/T/ipykernel_97543/988434826.py:46: RuntimeWarning: The data contains 'boundary' events, indicating data discontinuities. Be cautious of filtering and epoching around these events.\n",
      "  eeg_dataset_raw = mne.io.read_raw_eeglab(eeg_lab_file_path, preload=True, verbose=flag_verbose)\n"
     ]
    },
    {
     "name": "stdout",
     "output_type": "stream",
     "text": [
      "---Artefact Removal - ICA ------------------------------------------\n",
      "Dropped 4 epochs: 55, 63, 74, 75\n",
      "---Power Spectra----------------------------------------------------\n",
      "Effective window size : 1.000 (s)\n",
      "---EEG Spectral Parameterisation------------------------------------\n",
      "Fitting model across 61 power spectra.\n",
      "\n",
      "WARNING: Lower-bound peak width limit is < or ~= the frequency resolution: 1.00 <= 1.00\n",
      "\tLower bounds below frequency-resolution have no effect (effective lower bound is the frequency resolution).\n",
      "\tToo low a limit may lead to overfitting noise as small bandwidth peaks.\n",
      "\tWe recommend a lower bound of approximately 2x the frequency resolution.\n",
      "\n",
      "---Collating Results for sub-078 ------------------------------\n",
      "\n",
      "-----------------------------------------------------------------------------------------------\n",
      "Subject: sub-079\n",
      "---Get EEG Raw Data - FIF -----------------------------------------\n"
     ]
    },
    {
     "name": "stderr",
     "output_type": "stream",
     "text": [
      "/var/folders/wd/rhzj_w8570g_y66t6j6mh4zw0000gn/T/ipykernel_97543/988434826.py:46: RuntimeWarning: The data contains 'boundary' events, indicating data discontinuities. Be cautious of filtering and epoching around these events.\n",
      "  eeg_dataset_raw = mne.io.read_raw_eeglab(eeg_lab_file_path, preload=True, verbose=flag_verbose)\n"
     ]
    },
    {
     "name": "stdout",
     "output_type": "stream",
     "text": [
      "---Filtering & Referencing------------------------------------------\n",
      "---Artefact Removal - ICA ------------------------------------------\n",
      "---Power Spectra----------------------------------------------------\n",
      "Effective window size : 1.000 (s)\n",
      "---EEG Spectral Parameterisation------------------------------------\n",
      "Fitting model across 61 power spectra.\n",
      "\n",
      "WARNING: Lower-bound peak width limit is < or ~= the frequency resolution: 1.00 <= 1.00\n",
      "\tLower bounds below frequency-resolution have no effect (effective lower bound is the frequency resolution).\n",
      "\tToo low a limit may lead to overfitting noise as small bandwidth peaks.\n",
      "\tWe recommend a lower bound of approximately 2x the frequency resolution.\n",
      "\n",
      "---Collating Results for sub-079 ------------------------------\n",
      "\n",
      "-----------------------------------------------------------------------------------------------\n",
      "Subject: sub-080\n",
      "---Get EEG Raw Data - FIF -----------------------------------------\n",
      "---Filtering & Referencing------------------------------------------\n"
     ]
    },
    {
     "name": "stderr",
     "output_type": "stream",
     "text": [
      "/var/folders/wd/rhzj_w8570g_y66t6j6mh4zw0000gn/T/ipykernel_97543/988434826.py:46: RuntimeWarning: The data contains 'boundary' events, indicating data discontinuities. Be cautious of filtering and epoching around these events.\n",
      "  eeg_dataset_raw = mne.io.read_raw_eeglab(eeg_lab_file_path, preload=True, verbose=flag_verbose)\n"
     ]
    },
    {
     "name": "stdout",
     "output_type": "stream",
     "text": [
      "---Artefact Removal - ICA ------------------------------------------\n"
     ]
    },
    {
     "name": "stderr",
     "output_type": "stream",
     "text": [
      "/var/folders/wd/rhzj_w8570g_y66t6j6mh4zw0000gn/T/ipykernel_97543/1509335156.py:43: UserWarning: High component rejection: 88.33% marked as non-brain.\n",
      "  warnings.warn(f\"High component rejection: {100 * ICA_rejection_level:.2f}% marked as non-brain.\", UserWarning)\n"
     ]
    },
    {
     "name": "stdout",
     "output_type": "stream",
     "text": [
      "---Power Spectra----------------------------------------------------\n",
      "Effective window size : 1.000 (s)\n",
      "---EEG Spectral Parameterisation------------------------------------\n",
      "Fitting model across 61 power spectra.\n",
      "\n",
      "WARNING: Lower-bound peak width limit is < or ~= the frequency resolution: 1.00 <= 1.00\n",
      "\tLower bounds below frequency-resolution have no effect (effective lower bound is the frequency resolution).\n",
      "\tToo low a limit may lead to overfitting noise as small bandwidth peaks.\n",
      "\tWe recommend a lower bound of approximately 2x the frequency resolution.\n",
      "\n",
      "---Collating Results for sub-080 ------------------------------\n",
      "\n",
      "-----------------------------------------------------------------------------------------------\n",
      "Subject: sub-081\n",
      "---Get EEG Raw Data - FIF -----------------------------------------\n",
      "---Filtering & Referencing------------------------------------------\n"
     ]
    },
    {
     "name": "stderr",
     "output_type": "stream",
     "text": [
      "/var/folders/wd/rhzj_w8570g_y66t6j6mh4zw0000gn/T/ipykernel_97543/988434826.py:46: RuntimeWarning: The data contains 'boundary' events, indicating data discontinuities. Be cautious of filtering and epoching around these events.\n",
      "  eeg_dataset_raw = mne.io.read_raw_eeglab(eeg_lab_file_path, preload=True, verbose=flag_verbose)\n"
     ]
    },
    {
     "name": "stdout",
     "output_type": "stream",
     "text": [
      "---Artefact Removal - ICA ------------------------------------------\n",
      "---Power Spectra----------------------------------------------------\n",
      "Effective window size : 1.000 (s)\n",
      "---EEG Spectral Parameterisation------------------------------------\n",
      "Fitting model across 61 power spectra.\n",
      "\n",
      "WARNING: Lower-bound peak width limit is < or ~= the frequency resolution: 1.00 <= 1.00\n",
      "\tLower bounds below frequency-resolution have no effect (effective lower bound is the frequency resolution).\n",
      "\tToo low a limit may lead to overfitting noise as small bandwidth peaks.\n",
      "\tWe recommend a lower bound of approximately 2x the frequency resolution.\n",
      "\n",
      "---Collating Results for sub-081 ------------------------------\n",
      "\n",
      "-----------------------------------------------------------------------------------------------\n",
      "Subject: sub-082\n",
      "---Get EEG Raw Data - FIF -----------------------------------------\n"
     ]
    },
    {
     "name": "stderr",
     "output_type": "stream",
     "text": [
      "/var/folders/wd/rhzj_w8570g_y66t6j6mh4zw0000gn/T/ipykernel_97543/988434826.py:46: RuntimeWarning: The data contains 'boundary' events, indicating data discontinuities. Be cautious of filtering and epoching around these events.\n",
      "  eeg_dataset_raw = mne.io.read_raw_eeglab(eeg_lab_file_path, preload=True, verbose=flag_verbose)\n"
     ]
    },
    {
     "name": "stdout",
     "output_type": "stream",
     "text": [
      "---Filtering & Referencing------------------------------------------\n",
      "---Artefact Removal - ICA ------------------------------------------\n",
      "---Power Spectra----------------------------------------------------\n",
      "Effective window size : 1.000 (s)\n",
      "---EEG Spectral Parameterisation------------------------------------\n",
      "Fitting model across 61 power spectra.\n",
      "\n",
      "WARNING: Lower-bound peak width limit is < or ~= the frequency resolution: 1.00 <= 1.00\n",
      "\tLower bounds below frequency-resolution have no effect (effective lower bound is the frequency resolution).\n",
      "\tToo low a limit may lead to overfitting noise as small bandwidth peaks.\n",
      "\tWe recommend a lower bound of approximately 2x the frequency resolution.\n",
      "\n",
      "---Collating Results for sub-082 ------------------------------\n",
      "\n",
      "-----------------------------------------------------------------------------------------------\n",
      "Subject: sub-083\n",
      "---Get EEG Raw Data - FIF -----------------------------------------\n",
      "---Filtering & Referencing------------------------------------------\n"
     ]
    },
    {
     "name": "stderr",
     "output_type": "stream",
     "text": [
      "/var/folders/wd/rhzj_w8570g_y66t6j6mh4zw0000gn/T/ipykernel_97543/988434826.py:46: RuntimeWarning: The data contains 'boundary' events, indicating data discontinuities. Be cautious of filtering and epoching around these events.\n",
      "  eeg_dataset_raw = mne.io.read_raw_eeglab(eeg_lab_file_path, preload=True, verbose=flag_verbose)\n"
     ]
    },
    {
     "name": "stdout",
     "output_type": "stream",
     "text": [
      "---Artefact Removal - ICA ------------------------------------------\n",
      "Dropped 1 epoch: 182\n",
      "---Power Spectra----------------------------------------------------\n",
      "Effective window size : 1.000 (s)\n",
      "---EEG Spectral Parameterisation------------------------------------\n",
      "Fitting model across 61 power spectra.\n",
      "\n",
      "WARNING: Lower-bound peak width limit is < or ~= the frequency resolution: 1.00 <= 1.00\n",
      "\tLower bounds below frequency-resolution have no effect (effective lower bound is the frequency resolution).\n",
      "\tToo low a limit may lead to overfitting noise as small bandwidth peaks.\n",
      "\tWe recommend a lower bound of approximately 2x the frequency resolution.\n",
      "\n",
      "---Collating Results for sub-083 ------------------------------\n",
      "\n",
      "-----------------------------------------------------------------------------------------------\n",
      "Subject: sub-084\n",
      "---Get EEG Raw Data - FIF -----------------------------------------\n"
     ]
    },
    {
     "name": "stderr",
     "output_type": "stream",
     "text": [
      "/var/folders/wd/rhzj_w8570g_y66t6j6mh4zw0000gn/T/ipykernel_97543/988434826.py:46: RuntimeWarning: The data contains 'boundary' events, indicating data discontinuities. Be cautious of filtering and epoching around these events.\n",
      "  eeg_dataset_raw = mne.io.read_raw_eeglab(eeg_lab_file_path, preload=True, verbose=flag_verbose)\n"
     ]
    },
    {
     "name": "stdout",
     "output_type": "stream",
     "text": [
      "---Filtering & Referencing------------------------------------------\n",
      "---Artefact Removal - ICA ------------------------------------------\n"
     ]
    },
    {
     "name": "stderr",
     "output_type": "stream",
     "text": [
      "/var/folders/wd/rhzj_w8570g_y66t6j6mh4zw0000gn/T/ipykernel_97543/1509335156.py:43: UserWarning: High component rejection: 88.33% marked as non-brain.\n",
      "  warnings.warn(f\"High component rejection: {100 * ICA_rejection_level:.2f}% marked as non-brain.\", UserWarning)\n"
     ]
    },
    {
     "name": "stdout",
     "output_type": "stream",
     "text": [
      "Dropped 5 epochs: 5, 14, 78, 79, 102\n",
      "---Power Spectra----------------------------------------------------\n",
      "Effective window size : 1.000 (s)\n",
      "---EEG Spectral Parameterisation------------------------------------\n",
      "Fitting model across 61 power spectra.\n",
      "\n",
      "WARNING: Lower-bound peak width limit is < or ~= the frequency resolution: 1.00 <= 1.00\n",
      "\tLower bounds below frequency-resolution have no effect (effective lower bound is the frequency resolution).\n",
      "\tToo low a limit may lead to overfitting noise as small bandwidth peaks.\n",
      "\tWe recommend a lower bound of approximately 2x the frequency resolution.\n",
      "\n",
      "---Collating Results for sub-084 ------------------------------\n",
      "\n",
      "-----------------------------------------------------------------------------------------------\n",
      "Subject: sub-085\n",
      "---Get EEG Raw Data - FIF -----------------------------------------\n",
      "---Filtering & Referencing------------------------------------------\n"
     ]
    },
    {
     "name": "stderr",
     "output_type": "stream",
     "text": [
      "/var/folders/wd/rhzj_w8570g_y66t6j6mh4zw0000gn/T/ipykernel_97543/988434826.py:46: RuntimeWarning: The data contains 'boundary' events, indicating data discontinuities. Be cautious of filtering and epoching around these events.\n",
      "  eeg_dataset_raw = mne.io.read_raw_eeglab(eeg_lab_file_path, preload=True, verbose=flag_verbose)\n"
     ]
    },
    {
     "name": "stdout",
     "output_type": "stream",
     "text": [
      "---Artefact Removal - ICA ------------------------------------------\n"
     ]
    },
    {
     "name": "stderr",
     "output_type": "stream",
     "text": [
      "/var/folders/wd/rhzj_w8570g_y66t6j6mh4zw0000gn/T/ipykernel_97543/1509335156.py:43: UserWarning: High component rejection: 91.67% marked as non-brain.\n",
      "  warnings.warn(f\"High component rejection: {100 * ICA_rejection_level:.2f}% marked as non-brain.\", UserWarning)\n"
     ]
    },
    {
     "name": "stdout",
     "output_type": "stream",
     "text": [
      "---Power Spectra----------------------------------------------------\n",
      "Effective window size : 1.000 (s)\n",
      "---EEG Spectral Parameterisation------------------------------------\n",
      "Fitting model across 61 power spectra.\n",
      "\n",
      "WARNING: Lower-bound peak width limit is < or ~= the frequency resolution: 1.00 <= 1.00\n",
      "\tLower bounds below frequency-resolution have no effect (effective lower bound is the frequency resolution).\n",
      "\tToo low a limit may lead to overfitting noise as small bandwidth peaks.\n",
      "\tWe recommend a lower bound of approximately 2x the frequency resolution.\n",
      "\n",
      "---Collating Results for sub-085 ------------------------------\n",
      "\n",
      "-----------------------------------------------------------------------------------------------\n",
      "Subject: sub-086\n",
      "---Get EEG Raw Data - FIF -----------------------------------------\n",
      "---Filtering & Referencing------------------------------------------\n"
     ]
    },
    {
     "name": "stderr",
     "output_type": "stream",
     "text": [
      "/var/folders/wd/rhzj_w8570g_y66t6j6mh4zw0000gn/T/ipykernel_97543/988434826.py:46: RuntimeWarning: The data contains 'boundary' events, indicating data discontinuities. Be cautious of filtering and epoching around these events.\n",
      "  eeg_dataset_raw = mne.io.read_raw_eeglab(eeg_lab_file_path, preload=True, verbose=flag_verbose)\n"
     ]
    },
    {
     "name": "stdout",
     "output_type": "stream",
     "text": [
      "---Artefact Removal - ICA ------------------------------------------\n"
     ]
    },
    {
     "name": "stderr",
     "output_type": "stream",
     "text": [
      "/var/folders/wd/rhzj_w8570g_y66t6j6mh4zw0000gn/T/ipykernel_97543/1509335156.py:43: UserWarning: High component rejection: 80.00% marked as non-brain.\n",
      "  warnings.warn(f\"High component rejection: {100 * ICA_rejection_level:.2f}% marked as non-brain.\", UserWarning)\n"
     ]
    },
    {
     "name": "stdout",
     "output_type": "stream",
     "text": [
      "---Power Spectra----------------------------------------------------\n",
      "Effective window size : 1.000 (s)\n",
      "---EEG Spectral Parameterisation------------------------------------\n",
      "Fitting model across 61 power spectra.\n",
      "\n",
      "WARNING: Lower-bound peak width limit is < or ~= the frequency resolution: 1.00 <= 1.00\n",
      "\tLower bounds below frequency-resolution have no effect (effective lower bound is the frequency resolution).\n",
      "\tToo low a limit may lead to overfitting noise as small bandwidth peaks.\n",
      "\tWe recommend a lower bound of approximately 2x the frequency resolution.\n",
      "\n",
      "---Collating Results for sub-086 ------------------------------\n",
      "\n",
      "-----------------------------------------------------------------------------------------------\n",
      "Subject: sub-087\n",
      "---Get EEG Raw Data - FIF -----------------------------------------\n",
      "---Filtering & Referencing------------------------------------------\n"
     ]
    },
    {
     "name": "stderr",
     "output_type": "stream",
     "text": [
      "/var/folders/wd/rhzj_w8570g_y66t6j6mh4zw0000gn/T/ipykernel_97543/988434826.py:46: RuntimeWarning: The data contains 'boundary' events, indicating data discontinuities. Be cautious of filtering and epoching around these events.\n",
      "  eeg_dataset_raw = mne.io.read_raw_eeglab(eeg_lab_file_path, preload=True, verbose=flag_verbose)\n"
     ]
    },
    {
     "name": "stdout",
     "output_type": "stream",
     "text": [
      "---Artefact Removal - ICA ------------------------------------------\n"
     ]
    },
    {
     "name": "stderr",
     "output_type": "stream",
     "text": [
      "/var/folders/wd/rhzj_w8570g_y66t6j6mh4zw0000gn/T/ipykernel_97543/1509335156.py:43: UserWarning: High component rejection: 95.00% marked as non-brain.\n",
      "  warnings.warn(f\"High component rejection: {100 * ICA_rejection_level:.2f}% marked as non-brain.\", UserWarning)\n"
     ]
    },
    {
     "name": "stdout",
     "output_type": "stream",
     "text": [
      "---Power Spectra----------------------------------------------------\n",
      "Effective window size : 1.000 (s)\n",
      "---EEG Spectral Parameterisation------------------------------------\n",
      "Fitting model across 61 power spectra.\n",
      "\n",
      "WARNING: Lower-bound peak width limit is < or ~= the frequency resolution: 1.00 <= 1.00\n",
      "\tLower bounds below frequency-resolution have no effect (effective lower bound is the frequency resolution).\n",
      "\tToo low a limit may lead to overfitting noise as small bandwidth peaks.\n",
      "\tWe recommend a lower bound of approximately 2x the frequency resolution.\n",
      "\n",
      "---Collating Results for sub-087 ------------------------------\n",
      "\n",
      "-----------------------------------------------------------------------------------------------\n",
      "Subject: sub-088\n",
      "---Get EEG Raw Data - FIF -----------------------------------------\n"
     ]
    },
    {
     "name": "stderr",
     "output_type": "stream",
     "text": [
      "/var/folders/wd/rhzj_w8570g_y66t6j6mh4zw0000gn/T/ipykernel_97543/988434826.py:46: RuntimeWarning: The data contains 'boundary' events, indicating data discontinuities. Be cautious of filtering and epoching around these events.\n",
      "  eeg_dataset_raw = mne.io.read_raw_eeglab(eeg_lab_file_path, preload=True, verbose=flag_verbose)\n"
     ]
    },
    {
     "name": "stdout",
     "output_type": "stream",
     "text": [
      "---Filtering & Referencing------------------------------------------\n",
      "---Artefact Removal - ICA ------------------------------------------\n",
      "---Power Spectra----------------------------------------------------\n",
      "Effective window size : 1.000 (s)\n",
      "---EEG Spectral Parameterisation------------------------------------\n",
      "Fitting model across 61 power spectra.\n",
      "\n",
      "WARNING: Lower-bound peak width limit is < or ~= the frequency resolution: 1.00 <= 1.00\n",
      "\tLower bounds below frequency-resolution have no effect (effective lower bound is the frequency resolution).\n",
      "\tToo low a limit may lead to overfitting noise as small bandwidth peaks.\n",
      "\tWe recommend a lower bound of approximately 2x the frequency resolution.\n",
      "\n",
      "---Collating Results for sub-088 ------------------------------\n",
      "\n",
      "-----------------------------------------------------------------------------------------------\n",
      "Subject: sub-089\n",
      "---Get EEG Raw Data - FIF -----------------------------------------\n"
     ]
    },
    {
     "name": "stderr",
     "output_type": "stream",
     "text": [
      "/var/folders/wd/rhzj_w8570g_y66t6j6mh4zw0000gn/T/ipykernel_97543/988434826.py:46: RuntimeWarning: The data contains 'boundary' events, indicating data discontinuities. Be cautious of filtering and epoching around these events.\n",
      "  eeg_dataset_raw = mne.io.read_raw_eeglab(eeg_lab_file_path, preload=True, verbose=flag_verbose)\n"
     ]
    },
    {
     "name": "stdout",
     "output_type": "stream",
     "text": [
      "---Filtering & Referencing------------------------------------------\n",
      "---Artefact Removal - ICA ------------------------------------------\n"
     ]
    },
    {
     "name": "stderr",
     "output_type": "stream",
     "text": [
      "/var/folders/wd/rhzj_w8570g_y66t6j6mh4zw0000gn/T/ipykernel_97543/1509335156.py:43: UserWarning: High component rejection: 90.00% marked as non-brain.\n",
      "  warnings.warn(f\"High component rejection: {100 * ICA_rejection_level:.2f}% marked as non-brain.\", UserWarning)\n"
     ]
    },
    {
     "name": "stdout",
     "output_type": "stream",
     "text": [
      "---Power Spectra----------------------------------------------------\n",
      "Effective window size : 1.000 (s)\n",
      "---EEG Spectral Parameterisation------------------------------------\n",
      "Fitting model across 61 power spectra.\n",
      "\n",
      "WARNING: Lower-bound peak width limit is < or ~= the frequency resolution: 1.00 <= 1.00\n",
      "\tLower bounds below frequency-resolution have no effect (effective lower bound is the frequency resolution).\n",
      "\tToo low a limit may lead to overfitting noise as small bandwidth peaks.\n",
      "\tWe recommend a lower bound of approximately 2x the frequency resolution.\n",
      "\n",
      "---Collating Results for sub-089 ------------------------------\n",
      "\n",
      "-----------------------------------------------------------------------------------------------\n",
      "Subject: sub-090\n",
      "---Get EEG Raw Data - FIF -----------------------------------------\n",
      "---Filtering & Referencing------------------------------------------\n"
     ]
    },
    {
     "name": "stderr",
     "output_type": "stream",
     "text": [
      "/var/folders/wd/rhzj_w8570g_y66t6j6mh4zw0000gn/T/ipykernel_97543/988434826.py:46: RuntimeWarning: The data contains 'boundary' events, indicating data discontinuities. Be cautious of filtering and epoching around these events.\n",
      "  eeg_dataset_raw = mne.io.read_raw_eeglab(eeg_lab_file_path, preload=True, verbose=flag_verbose)\n"
     ]
    },
    {
     "name": "stdout",
     "output_type": "stream",
     "text": [
      "---Artefact Removal - ICA ------------------------------------------\n"
     ]
    },
    {
     "name": "stderr",
     "output_type": "stream",
     "text": [
      "/var/folders/wd/rhzj_w8570g_y66t6j6mh4zw0000gn/T/ipykernel_97543/1509335156.py:43: UserWarning: High component rejection: 80.00% marked as non-brain.\n",
      "  warnings.warn(f\"High component rejection: {100 * ICA_rejection_level:.2f}% marked as non-brain.\", UserWarning)\n"
     ]
    },
    {
     "name": "stdout",
     "output_type": "stream",
     "text": [
      "---Power Spectra----------------------------------------------------\n",
      "Effective window size : 1.000 (s)\n",
      "---EEG Spectral Parameterisation------------------------------------\n",
      "Fitting model across 61 power spectra.\n",
      "\n",
      "WARNING: Lower-bound peak width limit is < or ~= the frequency resolution: 1.00 <= 1.00\n",
      "\tLower bounds below frequency-resolution have no effect (effective lower bound is the frequency resolution).\n",
      "\tToo low a limit may lead to overfitting noise as small bandwidth peaks.\n",
      "\tWe recommend a lower bound of approximately 2x the frequency resolution.\n",
      "\n",
      "---Collating Results for sub-090 ------------------------------\n",
      "\n",
      "-----------------------------------------------------------------------------------------------\n",
      "Subject: sub-091\n",
      "---Get EEG Raw Data - FIF -----------------------------------------\n",
      "---Filtering & Referencing------------------------------------------\n"
     ]
    },
    {
     "name": "stderr",
     "output_type": "stream",
     "text": [
      "/var/folders/wd/rhzj_w8570g_y66t6j6mh4zw0000gn/T/ipykernel_97543/988434826.py:46: RuntimeWarning: The data contains 'boundary' events, indicating data discontinuities. Be cautious of filtering and epoching around these events.\n",
      "  eeg_dataset_raw = mne.io.read_raw_eeglab(eeg_lab_file_path, preload=True, verbose=flag_verbose)\n"
     ]
    },
    {
     "name": "stdout",
     "output_type": "stream",
     "text": [
      "---Artefact Removal - ICA ------------------------------------------\n",
      "---Power Spectra----------------------------------------------------\n",
      "Effective window size : 1.000 (s)\n",
      "---EEG Spectral Parameterisation------------------------------------\n",
      "Fitting model across 61 power spectra.\n",
      "\n",
      "WARNING: Lower-bound peak width limit is < or ~= the frequency resolution: 1.00 <= 1.00\n",
      "\tLower bounds below frequency-resolution have no effect (effective lower bound is the frequency resolution).\n",
      "\tToo low a limit may lead to overfitting noise as small bandwidth peaks.\n",
      "\tWe recommend a lower bound of approximately 2x the frequency resolution.\n",
      "\n",
      "---Collating Results for sub-091 ------------------------------\n",
      "\n",
      "-----------------------------------------------------------------------------------------------\n",
      "Subject: sub-092\n",
      "---Get EEG Raw Data - FIF -----------------------------------------\n",
      "---Filtering & Referencing------------------------------------------\n"
     ]
    },
    {
     "name": "stderr",
     "output_type": "stream",
     "text": [
      "/var/folders/wd/rhzj_w8570g_y66t6j6mh4zw0000gn/T/ipykernel_97543/988434826.py:46: RuntimeWarning: The data contains 'boundary' events, indicating data discontinuities. Be cautious of filtering and epoching around these events.\n",
      "  eeg_dataset_raw = mne.io.read_raw_eeglab(eeg_lab_file_path, preload=True, verbose=flag_verbose)\n"
     ]
    },
    {
     "name": "stdout",
     "output_type": "stream",
     "text": [
      "---Artefact Removal - ICA ------------------------------------------\n"
     ]
    },
    {
     "name": "stderr",
     "output_type": "stream",
     "text": [
      "/var/folders/wd/rhzj_w8570g_y66t6j6mh4zw0000gn/T/ipykernel_97543/1509335156.py:43: UserWarning: High component rejection: 85.00% marked as non-brain.\n",
      "  warnings.warn(f\"High component rejection: {100 * ICA_rejection_level:.2f}% marked as non-brain.\", UserWarning)\n"
     ]
    },
    {
     "name": "stdout",
     "output_type": "stream",
     "text": [
      "---Power Spectra----------------------------------------------------\n",
      "Effective window size : 1.000 (s)\n",
      "---EEG Spectral Parameterisation------------------------------------\n",
      "Fitting model across 61 power spectra.\n",
      "\n",
      "WARNING: Lower-bound peak width limit is < or ~= the frequency resolution: 1.00 <= 1.00\n",
      "\tLower bounds below frequency-resolution have no effect (effective lower bound is the frequency resolution).\n",
      "\tToo low a limit may lead to overfitting noise as small bandwidth peaks.\n",
      "\tWe recommend a lower bound of approximately 2x the frequency resolution.\n",
      "\n",
      "---Collating Results for sub-092 ------------------------------\n",
      "\n",
      "-----------------------------------------------------------------------------------------------\n",
      "Subject: sub-093\n",
      "---Get EEG Raw Data - FIF -----------------------------------------\n"
     ]
    },
    {
     "name": "stderr",
     "output_type": "stream",
     "text": [
      "/var/folders/wd/rhzj_w8570g_y66t6j6mh4zw0000gn/T/ipykernel_97543/988434826.py:46: RuntimeWarning: The data contains 'boundary' events, indicating data discontinuities. Be cautious of filtering and epoching around these events.\n",
      "  eeg_dataset_raw = mne.io.read_raw_eeglab(eeg_lab_file_path, preload=True, verbose=flag_verbose)\n"
     ]
    },
    {
     "name": "stdout",
     "output_type": "stream",
     "text": [
      "---Filtering & Referencing------------------------------------------\n",
      "---Artefact Removal - ICA ------------------------------------------\n"
     ]
    },
    {
     "name": "stderr",
     "output_type": "stream",
     "text": [
      "/var/folders/wd/rhzj_w8570g_y66t6j6mh4zw0000gn/T/ipykernel_97543/1509335156.py:43: UserWarning: High component rejection: 91.67% marked as non-brain.\n",
      "  warnings.warn(f\"High component rejection: {100 * ICA_rejection_level:.2f}% marked as non-brain.\", UserWarning)\n"
     ]
    },
    {
     "name": "stdout",
     "output_type": "stream",
     "text": [
      "---Power Spectra----------------------------------------------------\n",
      "Effective window size : 1.000 (s)\n",
      "---EEG Spectral Parameterisation------------------------------------\n",
      "Fitting model across 61 power spectra.\n",
      "\n",
      "WARNING: Lower-bound peak width limit is < or ~= the frequency resolution: 1.00 <= 1.00\n",
      "\tLower bounds below frequency-resolution have no effect (effective lower bound is the frequency resolution).\n",
      "\tToo low a limit may lead to overfitting noise as small bandwidth peaks.\n",
      "\tWe recommend a lower bound of approximately 2x the frequency resolution.\n",
      "\n",
      "---Collating Results for sub-093 ------------------------------\n",
      "\n",
      "-----------------------------------------------------------------------------------------------\n",
      "Subject: sub-094\n",
      "---Get EEG Raw Data - FIF -----------------------------------------\n",
      "---Filtering & Referencing------------------------------------------\n"
     ]
    },
    {
     "name": "stderr",
     "output_type": "stream",
     "text": [
      "/var/folders/wd/rhzj_w8570g_y66t6j6mh4zw0000gn/T/ipykernel_97543/988434826.py:46: RuntimeWarning: The data contains 'boundary' events, indicating data discontinuities. Be cautious of filtering and epoching around these events.\n",
      "  eeg_dataset_raw = mne.io.read_raw_eeglab(eeg_lab_file_path, preload=True, verbose=flag_verbose)\n"
     ]
    },
    {
     "name": "stdout",
     "output_type": "stream",
     "text": [
      "---Artefact Removal - ICA ------------------------------------------\n",
      "---Power Spectra----------------------------------------------------\n",
      "Effective window size : 1.000 (s)\n",
      "---EEG Spectral Parameterisation------------------------------------\n",
      "Fitting model across 61 power spectra.\n",
      "\n",
      "WARNING: Lower-bound peak width limit is < or ~= the frequency resolution: 1.00 <= 1.00\n",
      "\tLower bounds below frequency-resolution have no effect (effective lower bound is the frequency resolution).\n",
      "\tToo low a limit may lead to overfitting noise as small bandwidth peaks.\n",
      "\tWe recommend a lower bound of approximately 2x the frequency resolution.\n",
      "\n",
      "---Collating Results for sub-094 ------------------------------\n",
      "\n",
      "-----------------------------------------------------------------------------------------------\n",
      "Subject: sub-095\n",
      "---Get EEG Raw Data - FIF -----------------------------------------\n",
      "---Filtering & Referencing------------------------------------------\n"
     ]
    },
    {
     "name": "stderr",
     "output_type": "stream",
     "text": [
      "/var/folders/wd/rhzj_w8570g_y66t6j6mh4zw0000gn/T/ipykernel_97543/988434826.py:46: RuntimeWarning: The data contains 'boundary' events, indicating data discontinuities. Be cautious of filtering and epoching around these events.\n",
      "  eeg_dataset_raw = mne.io.read_raw_eeglab(eeg_lab_file_path, preload=True, verbose=flag_verbose)\n"
     ]
    },
    {
     "name": "stdout",
     "output_type": "stream",
     "text": [
      "---Artefact Removal - ICA ------------------------------------------\n"
     ]
    },
    {
     "name": "stderr",
     "output_type": "stream",
     "text": [
      "/var/folders/wd/rhzj_w8570g_y66t6j6mh4zw0000gn/T/ipykernel_97543/1509335156.py:43: UserWarning: High component rejection: 90.00% marked as non-brain.\n",
      "  warnings.warn(f\"High component rejection: {100 * ICA_rejection_level:.2f}% marked as non-brain.\", UserWarning)\n"
     ]
    },
    {
     "name": "stdout",
     "output_type": "stream",
     "text": [
      "---Power Spectra----------------------------------------------------\n",
      "Effective window size : 1.000 (s)\n",
      "---EEG Spectral Parameterisation------------------------------------\n",
      "Fitting model across 61 power spectra.\n",
      "\n",
      "WARNING: Lower-bound peak width limit is < or ~= the frequency resolution: 1.00 <= 1.00\n",
      "\tLower bounds below frequency-resolution have no effect (effective lower bound is the frequency resolution).\n",
      "\tToo low a limit may lead to overfitting noise as small bandwidth peaks.\n",
      "\tWe recommend a lower bound of approximately 2x the frequency resolution.\n",
      "\n",
      "---Collating Results for sub-095 ------------------------------\n",
      "\n",
      "-----------------------------------------------------------------------------------------------\n",
      "Subject: sub-096\n",
      "---Get EEG Raw Data - FIF -----------------------------------------\n",
      "---Filtering & Referencing------------------------------------------\n"
     ]
    },
    {
     "name": "stderr",
     "output_type": "stream",
     "text": [
      "/var/folders/wd/rhzj_w8570g_y66t6j6mh4zw0000gn/T/ipykernel_97543/988434826.py:46: RuntimeWarning: The data contains 'boundary' events, indicating data discontinuities. Be cautious of filtering and epoching around these events.\n",
      "  eeg_dataset_raw = mne.io.read_raw_eeglab(eeg_lab_file_path, preload=True, verbose=flag_verbose)\n"
     ]
    },
    {
     "name": "stdout",
     "output_type": "stream",
     "text": [
      "---Artefact Removal - ICA ------------------------------------------\n",
      "---Power Spectra----------------------------------------------------\n",
      "Effective window size : 1.000 (s)\n",
      "---EEG Spectral Parameterisation------------------------------------\n",
      "Fitting model across 61 power spectra.\n",
      "\n",
      "WARNING: Lower-bound peak width limit is < or ~= the frequency resolution: 1.00 <= 1.00\n",
      "\tLower bounds below frequency-resolution have no effect (effective lower bound is the frequency resolution).\n",
      "\tToo low a limit may lead to overfitting noise as small bandwidth peaks.\n",
      "\tWe recommend a lower bound of approximately 2x the frequency resolution.\n",
      "\n",
      "---Collating Results for sub-096 ------------------------------\n",
      "\n",
      "-----------------------------------------------------------------------------------------------\n",
      "Subject: sub-097\n",
      "---Get EEG Raw Data - FIF -----------------------------------------\n",
      "---Filtering & Referencing------------------------------------------\n"
     ]
    },
    {
     "name": "stderr",
     "output_type": "stream",
     "text": [
      "/var/folders/wd/rhzj_w8570g_y66t6j6mh4zw0000gn/T/ipykernel_97543/988434826.py:46: RuntimeWarning: The data contains 'boundary' events, indicating data discontinuities. Be cautious of filtering and epoching around these events.\n",
      "  eeg_dataset_raw = mne.io.read_raw_eeglab(eeg_lab_file_path, preload=True, verbose=flag_verbose)\n"
     ]
    },
    {
     "name": "stdout",
     "output_type": "stream",
     "text": [
      "---Artefact Removal - ICA ------------------------------------------\n",
      "Dropped 21 epochs: 19, 20, 22, 23, 32, 38, 39, 41, 42, 43, 45, 46, 54, 65, 71, 72, 76, 78, 80, 99, 133\n",
      "---Power Spectra----------------------------------------------------\n",
      "Effective window size : 1.000 (s)\n",
      "---EEG Spectral Parameterisation------------------------------------\n",
      "Fitting model across 61 power spectra.\n",
      "\n",
      "WARNING: Lower-bound peak width limit is < or ~= the frequency resolution: 1.00 <= 1.00\n",
      "\tLower bounds below frequency-resolution have no effect (effective lower bound is the frequency resolution).\n",
      "\tToo low a limit may lead to overfitting noise as small bandwidth peaks.\n",
      "\tWe recommend a lower bound of approximately 2x the frequency resolution.\n",
      "\n",
      "---Collating Results for sub-097 ------------------------------\n",
      "\n",
      "-----------------------------------------------------------------------------------------------\n",
      "Subject: sub-098\n",
      "---Get EEG Raw Data - FIF -----------------------------------------\n",
      "---Filtering & Referencing------------------------------------------\n"
     ]
    },
    {
     "name": "stderr",
     "output_type": "stream",
     "text": [
      "/var/folders/wd/rhzj_w8570g_y66t6j6mh4zw0000gn/T/ipykernel_97543/988434826.py:46: RuntimeWarning: The data contains 'boundary' events, indicating data discontinuities. Be cautious of filtering and epoching around these events.\n",
      "  eeg_dataset_raw = mne.io.read_raw_eeglab(eeg_lab_file_path, preload=True, verbose=flag_verbose)\n"
     ]
    },
    {
     "name": "stdout",
     "output_type": "stream",
     "text": [
      "---Artefact Removal - ICA ------------------------------------------\n"
     ]
    },
    {
     "name": "stderr",
     "output_type": "stream",
     "text": [
      "/var/folders/wd/rhzj_w8570g_y66t6j6mh4zw0000gn/T/ipykernel_97543/1509335156.py:43: UserWarning: High component rejection: 81.67% marked as non-brain.\n",
      "  warnings.warn(f\"High component rejection: {100 * ICA_rejection_level:.2f}% marked as non-brain.\", UserWarning)\n"
     ]
    },
    {
     "name": "stdout",
     "output_type": "stream",
     "text": [
      "---Power Spectra----------------------------------------------------\n",
      "Effective window size : 1.000 (s)\n",
      "---EEG Spectral Parameterisation------------------------------------\n",
      "Fitting model across 61 power spectra.\n",
      "\n",
      "WARNING: Lower-bound peak width limit is < or ~= the frequency resolution: 1.00 <= 1.00\n",
      "\tLower bounds below frequency-resolution have no effect (effective lower bound is the frequency resolution).\n",
      "\tToo low a limit may lead to overfitting noise as small bandwidth peaks.\n",
      "\tWe recommend a lower bound of approximately 2x the frequency resolution.\n",
      "\n",
      "---Collating Results for sub-098 ------------------------------\n",
      "\n",
      "-----------------------------------------------------------------------------------------------\n",
      "Subject: sub-099\n",
      "---Get EEG Raw Data - FIF -----------------------------------------\n",
      "---Filtering & Referencing------------------------------------------\n"
     ]
    },
    {
     "name": "stderr",
     "output_type": "stream",
     "text": [
      "/var/folders/wd/rhzj_w8570g_y66t6j6mh4zw0000gn/T/ipykernel_97543/988434826.py:46: RuntimeWarning: The data contains 'boundary' events, indicating data discontinuities. Be cautious of filtering and epoching around these events.\n",
      "  eeg_dataset_raw = mne.io.read_raw_eeglab(eeg_lab_file_path, preload=True, verbose=flag_verbose)\n"
     ]
    },
    {
     "name": "stdout",
     "output_type": "stream",
     "text": [
      "---Artefact Removal - ICA ------------------------------------------\n"
     ]
    },
    {
     "name": "stderr",
     "output_type": "stream",
     "text": [
      "/var/folders/wd/rhzj_w8570g_y66t6j6mh4zw0000gn/T/ipykernel_97543/1509335156.py:43: UserWarning: High component rejection: 80.00% marked as non-brain.\n",
      "  warnings.warn(f\"High component rejection: {100 * ICA_rejection_level:.2f}% marked as non-brain.\", UserWarning)\n"
     ]
    },
    {
     "name": "stdout",
     "output_type": "stream",
     "text": [
      "---Power Spectra----------------------------------------------------\n",
      "Effective window size : 1.000 (s)\n",
      "---EEG Spectral Parameterisation------------------------------------\n",
      "Fitting model across 61 power spectra.\n",
      "\n",
      "WARNING: Lower-bound peak width limit is < or ~= the frequency resolution: 1.00 <= 1.00\n",
      "\tLower bounds below frequency-resolution have no effect (effective lower bound is the frequency resolution).\n",
      "\tToo low a limit may lead to overfitting noise as small bandwidth peaks.\n",
      "\tWe recommend a lower bound of approximately 2x the frequency resolution.\n",
      "\n",
      "---Collating Results for sub-099 ------------------------------\n",
      "\n",
      "-----------------------------------------------------------------------------------------------\n",
      "Subject: sub-100\n",
      "---Get EEG Raw Data - FIF -----------------------------------------\n"
     ]
    },
    {
     "name": "stderr",
     "output_type": "stream",
     "text": [
      "/var/folders/wd/rhzj_w8570g_y66t6j6mh4zw0000gn/T/ipykernel_97543/988434826.py:46: RuntimeWarning: The data contains 'boundary' events, indicating data discontinuities. Be cautious of filtering and epoching around these events.\n",
      "  eeg_dataset_raw = mne.io.read_raw_eeglab(eeg_lab_file_path, preload=True, verbose=flag_verbose)\n"
     ]
    },
    {
     "name": "stdout",
     "output_type": "stream",
     "text": [
      "---Filtering & Referencing------------------------------------------\n",
      "---Artefact Removal - ICA ------------------------------------------\n",
      "---Power Spectra----------------------------------------------------\n",
      "Effective window size : 1.000 (s)\n",
      "---EEG Spectral Parameterisation------------------------------------\n",
      "Fitting model across 61 power spectra.\n",
      "\n",
      "WARNING: Lower-bound peak width limit is < or ~= the frequency resolution: 1.00 <= 1.00\n",
      "\tLower bounds below frequency-resolution have no effect (effective lower bound is the frequency resolution).\n",
      "\tToo low a limit may lead to overfitting noise as small bandwidth peaks.\n",
      "\tWe recommend a lower bound of approximately 2x the frequency resolution.\n",
      "\n",
      "---Collating Results for sub-100 ------------------------------\n",
      "\n",
      "-----------------------------------------------------------------------------------------------\n",
      "Subject: sub-101\n",
      "---Get EEG Raw Data - FIF -----------------------------------------\n",
      "---Filtering & Referencing------------------------------------------\n"
     ]
    },
    {
     "name": "stderr",
     "output_type": "stream",
     "text": [
      "/var/folders/wd/rhzj_w8570g_y66t6j6mh4zw0000gn/T/ipykernel_97543/988434826.py:46: RuntimeWarning: The data contains 'boundary' events, indicating data discontinuities. Be cautious of filtering and epoching around these events.\n",
      "  eeg_dataset_raw = mne.io.read_raw_eeglab(eeg_lab_file_path, preload=True, verbose=flag_verbose)\n"
     ]
    },
    {
     "name": "stdout",
     "output_type": "stream",
     "text": [
      "---Artefact Removal - ICA ------------------------------------------\n"
     ]
    },
    {
     "name": "stderr",
     "output_type": "stream",
     "text": [
      "/var/folders/wd/rhzj_w8570g_y66t6j6mh4zw0000gn/T/ipykernel_97543/1509335156.py:43: UserWarning: High component rejection: 80.65% marked as non-brain.\n",
      "  warnings.warn(f\"High component rejection: {100 * ICA_rejection_level:.2f}% marked as non-brain.\", UserWarning)\n"
     ]
    },
    {
     "name": "stdout",
     "output_type": "stream",
     "text": [
      "---Power Spectra----------------------------------------------------\n",
      "Effective window size : 1.000 (s)\n",
      "---EEG Spectral Parameterisation------------------------------------\n",
      "Fitting model across 63 power spectra.\n",
      "\n",
      "WARNING: Lower-bound peak width limit is < or ~= the frequency resolution: 1.00 <= 1.00\n",
      "\tLower bounds below frequency-resolution have no effect (effective lower bound is the frequency resolution).\n",
      "\tToo low a limit may lead to overfitting noise as small bandwidth peaks.\n",
      "\tWe recommend a lower bound of approximately 2x the frequency resolution.\n",
      "\n",
      "---Collating Results for sub-101 ------------------------------\n",
      "\n",
      "-----------------------------------------------------------------------------------------------\n",
      "Subject: sub-102\n",
      "---Get EEG Raw Data - FIF -----------------------------------------\n",
      "---Filtering & Referencing------------------------------------------\n"
     ]
    },
    {
     "name": "stderr",
     "output_type": "stream",
     "text": [
      "/var/folders/wd/rhzj_w8570g_y66t6j6mh4zw0000gn/T/ipykernel_97543/988434826.py:46: RuntimeWarning: The data contains 'boundary' events, indicating data discontinuities. Be cautious of filtering and epoching around these events.\n",
      "  eeg_dataset_raw = mne.io.read_raw_eeglab(eeg_lab_file_path, preload=True, verbose=flag_verbose)\n"
     ]
    },
    {
     "name": "stdout",
     "output_type": "stream",
     "text": [
      "---Artefact Removal - ICA ------------------------------------------\n",
      "---Power Spectra----------------------------------------------------\n",
      "Effective window size : 1.000 (s)\n",
      "---EEG Spectral Parameterisation------------------------------------\n",
      "Fitting model across 63 power spectra.\n",
      "\n",
      "WARNING: Lower-bound peak width limit is < or ~= the frequency resolution: 1.00 <= 1.00\n",
      "\tLower bounds below frequency-resolution have no effect (effective lower bound is the frequency resolution).\n",
      "\tToo low a limit may lead to overfitting noise as small bandwidth peaks.\n",
      "\tWe recommend a lower bound of approximately 2x the frequency resolution.\n",
      "\n",
      "---Collating Results for sub-102 ------------------------------\n",
      "\n",
      "-----------------------------------------------------------------------------------------------\n",
      "Subject: sub-103\n",
      "---Get EEG Raw Data - FIF -----------------------------------------\n",
      "---Filtering & Referencing------------------------------------------\n"
     ]
    },
    {
     "name": "stderr",
     "output_type": "stream",
     "text": [
      "/var/folders/wd/rhzj_w8570g_y66t6j6mh4zw0000gn/T/ipykernel_97543/988434826.py:46: RuntimeWarning: The data contains 'boundary' events, indicating data discontinuities. Be cautious of filtering and epoching around these events.\n",
      "  eeg_dataset_raw = mne.io.read_raw_eeglab(eeg_lab_file_path, preload=True, verbose=flag_verbose)\n"
     ]
    },
    {
     "name": "stdout",
     "output_type": "stream",
     "text": [
      "---Artefact Removal - ICA ------------------------------------------\n"
     ]
    },
    {
     "name": "stderr",
     "output_type": "stream",
     "text": [
      "/var/folders/wd/rhzj_w8570g_y66t6j6mh4zw0000gn/T/ipykernel_97543/1509335156.py:43: UserWarning: High component rejection: 90.00% marked as non-brain.\n",
      "  warnings.warn(f\"High component rejection: {100 * ICA_rejection_level:.2f}% marked as non-brain.\", UserWarning)\n"
     ]
    },
    {
     "name": "stdout",
     "output_type": "stream",
     "text": [
      "---Power Spectra----------------------------------------------------\n",
      "Effective window size : 1.000 (s)\n",
      "---EEG Spectral Parameterisation------------------------------------\n",
      "Fitting model across 61 power spectra.\n",
      "\n",
      "WARNING: Lower-bound peak width limit is < or ~= the frequency resolution: 1.00 <= 1.00\n",
      "\tLower bounds below frequency-resolution have no effect (effective lower bound is the frequency resolution).\n",
      "\tToo low a limit may lead to overfitting noise as small bandwidth peaks.\n",
      "\tWe recommend a lower bound of approximately 2x the frequency resolution.\n",
      "\n",
      "---Collating Results for sub-103 ------------------------------\n",
      "\n",
      "-----------------------------------------------------------------------------------------------\n",
      "Subject: sub-104\n",
      "---Get EEG Raw Data - FIF -----------------------------------------\n",
      "---Filtering & Referencing------------------------------------------\n"
     ]
    },
    {
     "name": "stderr",
     "output_type": "stream",
     "text": [
      "/var/folders/wd/rhzj_w8570g_y66t6j6mh4zw0000gn/T/ipykernel_97543/988434826.py:46: RuntimeWarning: The data contains 'boundary' events, indicating data discontinuities. Be cautious of filtering and epoching around these events.\n",
      "  eeg_dataset_raw = mne.io.read_raw_eeglab(eeg_lab_file_path, preload=True, verbose=flag_verbose)\n"
     ]
    },
    {
     "name": "stdout",
     "output_type": "stream",
     "text": [
      "---Artefact Removal - ICA ------------------------------------------\n",
      "---Power Spectra----------------------------------------------------\n",
      "Effective window size : 1.000 (s)\n",
      "---EEG Spectral Parameterisation------------------------------------\n",
      "Fitting model across 61 power spectra.\n",
      "\n",
      "WARNING: Lower-bound peak width limit is < or ~= the frequency resolution: 1.00 <= 1.00\n",
      "\tLower bounds below frequency-resolution have no effect (effective lower bound is the frequency resolution).\n",
      "\tToo low a limit may lead to overfitting noise as small bandwidth peaks.\n",
      "\tWe recommend a lower bound of approximately 2x the frequency resolution.\n",
      "\n",
      "---Collating Results for sub-104 ------------------------------\n",
      "\n",
      "-----------------------------------------------------------------------------------------------\n",
      "Subject: sub-105\n",
      "---Get EEG Raw Data - FIF -----------------------------------------\n",
      "---Filtering & Referencing------------------------------------------\n"
     ]
    },
    {
     "name": "stderr",
     "output_type": "stream",
     "text": [
      "/var/folders/wd/rhzj_w8570g_y66t6j6mh4zw0000gn/T/ipykernel_97543/988434826.py:46: RuntimeWarning: The data contains 'boundary' events, indicating data discontinuities. Be cautious of filtering and epoching around these events.\n",
      "  eeg_dataset_raw = mne.io.read_raw_eeglab(eeg_lab_file_path, preload=True, verbose=flag_verbose)\n"
     ]
    },
    {
     "name": "stdout",
     "output_type": "stream",
     "text": [
      "---Artefact Removal - ICA ------------------------------------------\n"
     ]
    },
    {
     "name": "stderr",
     "output_type": "stream",
     "text": [
      "/var/folders/wd/rhzj_w8570g_y66t6j6mh4zw0000gn/T/ipykernel_97543/1509335156.py:43: UserWarning: High component rejection: 95.00% marked as non-brain.\n",
      "  warnings.warn(f\"High component rejection: {100 * ICA_rejection_level:.2f}% marked as non-brain.\", UserWarning)\n"
     ]
    },
    {
     "name": "stdout",
     "output_type": "stream",
     "text": [
      "---Power Spectra----------------------------------------------------\n",
      "Effective window size : 1.000 (s)\n",
      "---EEG Spectral Parameterisation------------------------------------\n",
      "Fitting model across 61 power spectra.\n",
      "\n",
      "WARNING: Lower-bound peak width limit is < or ~= the frequency resolution: 1.00 <= 1.00\n",
      "\tLower bounds below frequency-resolution have no effect (effective lower bound is the frequency resolution).\n",
      "\tToo low a limit may lead to overfitting noise as small bandwidth peaks.\n",
      "\tWe recommend a lower bound of approximately 2x the frequency resolution.\n",
      "\n",
      "---Collating Results for sub-105 ------------------------------\n",
      "\n",
      "-----------------------------------------------------------------------------------------------\n",
      "Subject: sub-106\n",
      "---Get EEG Raw Data - FIF -----------------------------------------\n",
      "---Filtering & Referencing------------------------------------------\n"
     ]
    },
    {
     "name": "stderr",
     "output_type": "stream",
     "text": [
      "/var/folders/wd/rhzj_w8570g_y66t6j6mh4zw0000gn/T/ipykernel_97543/988434826.py:46: RuntimeWarning: The data contains 'boundary' events, indicating data discontinuities. Be cautious of filtering and epoching around these events.\n",
      "  eeg_dataset_raw = mne.io.read_raw_eeglab(eeg_lab_file_path, preload=True, verbose=flag_verbose)\n"
     ]
    },
    {
     "name": "stdout",
     "output_type": "stream",
     "text": [
      "---Artefact Removal - ICA ------------------------------------------\n",
      "---Power Spectra----------------------------------------------------\n",
      "Effective window size : 1.000 (s)\n",
      "---EEG Spectral Parameterisation------------------------------------\n",
      "Fitting model across 61 power spectra.\n",
      "\n",
      "WARNING: Lower-bound peak width limit is < or ~= the frequency resolution: 1.00 <= 1.00\n",
      "\tLower bounds below frequency-resolution have no effect (effective lower bound is the frequency resolution).\n",
      "\tToo low a limit may lead to overfitting noise as small bandwidth peaks.\n",
      "\tWe recommend a lower bound of approximately 2x the frequency resolution.\n",
      "\n",
      "---Collating Results for sub-106 ------------------------------\n",
      "\n",
      "-----------------------------------------------------------------------------------------------\n",
      "Subject: sub-107\n",
      "---Get EEG Raw Data - FIF -----------------------------------------\n"
     ]
    },
    {
     "name": "stderr",
     "output_type": "stream",
     "text": [
      "/var/folders/wd/rhzj_w8570g_y66t6j6mh4zw0000gn/T/ipykernel_97543/988434826.py:46: RuntimeWarning: The data contains 'boundary' events, indicating data discontinuities. Be cautious of filtering and epoching around these events.\n",
      "  eeg_dataset_raw = mne.io.read_raw_eeglab(eeg_lab_file_path, preload=True, verbose=flag_verbose)\n"
     ]
    },
    {
     "name": "stdout",
     "output_type": "stream",
     "text": [
      "---Filtering & Referencing------------------------------------------\n",
      "---Artefact Removal - ICA ------------------------------------------\n",
      "---Power Spectra----------------------------------------------------\n",
      "Effective window size : 1.000 (s)\n",
      "---EEG Spectral Parameterisation------------------------------------\n",
      "Fitting model across 61 power spectra.\n",
      "\n",
      "WARNING: Lower-bound peak width limit is < or ~= the frequency resolution: 1.00 <= 1.00\n",
      "\tLower bounds below frequency-resolution have no effect (effective lower bound is the frequency resolution).\n",
      "\tToo low a limit may lead to overfitting noise as small bandwidth peaks.\n",
      "\tWe recommend a lower bound of approximately 2x the frequency resolution.\n",
      "\n",
      "---Collating Results for sub-107 ------------------------------\n",
      "\n",
      "-----------------------------------------------------------------------------------------------\n",
      "Subject: sub-108\n",
      "---Get EEG Raw Data - FIF -----------------------------------------\n"
     ]
    },
    {
     "name": "stderr",
     "output_type": "stream",
     "text": [
      "/var/folders/wd/rhzj_w8570g_y66t6j6mh4zw0000gn/T/ipykernel_97543/988434826.py:46: RuntimeWarning: The data contains 'boundary' events, indicating data discontinuities. Be cautious of filtering and epoching around these events.\n",
      "  eeg_dataset_raw = mne.io.read_raw_eeglab(eeg_lab_file_path, preload=True, verbose=flag_verbose)\n"
     ]
    },
    {
     "name": "stdout",
     "output_type": "stream",
     "text": [
      "---Filtering & Referencing------------------------------------------\n",
      "---Artefact Removal - ICA ------------------------------------------\n"
     ]
    },
    {
     "name": "stderr",
     "output_type": "stream",
     "text": [
      "/var/folders/wd/rhzj_w8570g_y66t6j6mh4zw0000gn/T/ipykernel_97543/1509335156.py:43: UserWarning: High component rejection: 81.67% marked as non-brain.\n",
      "  warnings.warn(f\"High component rejection: {100 * ICA_rejection_level:.2f}% marked as non-brain.\", UserWarning)\n"
     ]
    },
    {
     "name": "stdout",
     "output_type": "stream",
     "text": [
      "---Power Spectra----------------------------------------------------\n",
      "Effective window size : 1.000 (s)\n",
      "---EEG Spectral Parameterisation------------------------------------\n",
      "Fitting model across 61 power spectra.\n",
      "\n",
      "WARNING: Lower-bound peak width limit is < or ~= the frequency resolution: 1.00 <= 1.00\n",
      "\tLower bounds below frequency-resolution have no effect (effective lower bound is the frequency resolution).\n",
      "\tToo low a limit may lead to overfitting noise as small bandwidth peaks.\n",
      "\tWe recommend a lower bound of approximately 2x the frequency resolution.\n",
      "\n",
      "---Collating Results for sub-108 ------------------------------\n",
      "\n",
      "-----------------------------------------------------------------------------------------------\n",
      "Subject: sub-109\n",
      "---Get EEG Raw Data - FIF -----------------------------------------\n"
     ]
    },
    {
     "name": "stderr",
     "output_type": "stream",
     "text": [
      "/var/folders/wd/rhzj_w8570g_y66t6j6mh4zw0000gn/T/ipykernel_97543/988434826.py:46: RuntimeWarning: The data contains 'boundary' events, indicating data discontinuities. Be cautious of filtering and epoching around these events.\n",
      "  eeg_dataset_raw = mne.io.read_raw_eeglab(eeg_lab_file_path, preload=True, verbose=flag_verbose)\n"
     ]
    },
    {
     "name": "stdout",
     "output_type": "stream",
     "text": [
      "---Filtering & Referencing------------------------------------------\n",
      "---Artefact Removal - ICA ------------------------------------------\n",
      "---Power Spectra----------------------------------------------------\n",
      "Effective window size : 1.000 (s)\n",
      "---EEG Spectral Parameterisation------------------------------------\n",
      "Fitting model across 61 power spectra.\n",
      "\n",
      "WARNING: Lower-bound peak width limit is < or ~= the frequency resolution: 1.00 <= 1.00\n",
      "\tLower bounds below frequency-resolution have no effect (effective lower bound is the frequency resolution).\n",
      "\tToo low a limit may lead to overfitting noise as small bandwidth peaks.\n",
      "\tWe recommend a lower bound of approximately 2x the frequency resolution.\n",
      "\n",
      "---Collating Results for sub-109 ------------------------------\n",
      "\n",
      "-----------------------------------------------------------------------------------------------\n",
      "Subject: sub-110\n",
      "---Get EEG Raw Data - FIF -----------------------------------------\n"
     ]
    },
    {
     "name": "stderr",
     "output_type": "stream",
     "text": [
      "/var/folders/wd/rhzj_w8570g_y66t6j6mh4zw0000gn/T/ipykernel_97543/988434826.py:46: RuntimeWarning: The data contains 'boundary' events, indicating data discontinuities. Be cautious of filtering and epoching around these events.\n",
      "  eeg_dataset_raw = mne.io.read_raw_eeglab(eeg_lab_file_path, preload=True, verbose=flag_verbose)\n"
     ]
    },
    {
     "name": "stdout",
     "output_type": "stream",
     "text": [
      "---Filtering & Referencing------------------------------------------\n",
      "---Artefact Removal - ICA ------------------------------------------\n",
      "---Power Spectra----------------------------------------------------\n",
      "Effective window size : 1.000 (s)\n",
      "---EEG Spectral Parameterisation------------------------------------\n",
      "Fitting model across 61 power spectra.\n",
      "\n",
      "WARNING: Lower-bound peak width limit is < or ~= the frequency resolution: 1.00 <= 1.00\n",
      "\tLower bounds below frequency-resolution have no effect (effective lower bound is the frequency resolution).\n",
      "\tToo low a limit may lead to overfitting noise as small bandwidth peaks.\n",
      "\tWe recommend a lower bound of approximately 2x the frequency resolution.\n",
      "\n",
      "---Collating Results for sub-110 ------------------------------\n",
      "\n",
      "-----------------------------------------------------------------------------------------------\n",
      "Subject: sub-111\n",
      "---Get EEG Raw Data - FIF -----------------------------------------\n",
      "---Filtering & Referencing------------------------------------------\n"
     ]
    },
    {
     "name": "stderr",
     "output_type": "stream",
     "text": [
      "/var/folders/wd/rhzj_w8570g_y66t6j6mh4zw0000gn/T/ipykernel_97543/988434826.py:46: RuntimeWarning: The data contains 'boundary' events, indicating data discontinuities. Be cautious of filtering and epoching around these events.\n",
      "  eeg_dataset_raw = mne.io.read_raw_eeglab(eeg_lab_file_path, preload=True, verbose=flag_verbose)\n"
     ]
    },
    {
     "name": "stdout",
     "output_type": "stream",
     "text": [
      "---Artefact Removal - ICA ------------------------------------------\n"
     ]
    },
    {
     "name": "stderr",
     "output_type": "stream",
     "text": [
      "/var/folders/wd/rhzj_w8570g_y66t6j6mh4zw0000gn/T/ipykernel_97543/1509335156.py:43: UserWarning: High component rejection: 96.67% marked as non-brain.\n",
      "  warnings.warn(f\"High component rejection: {100 * ICA_rejection_level:.2f}% marked as non-brain.\", UserWarning)\n"
     ]
    },
    {
     "name": "stdout",
     "output_type": "stream",
     "text": [
      "Dropped 18 epochs: 1, 3, 5, 71, 134, 135, 136, 184, 185, 198, 200, 203, 250, 291, 299, 304, 314, 320\n",
      "---Power Spectra----------------------------------------------------\n",
      "Effective window size : 1.000 (s)\n",
      "---EEG Spectral Parameterisation------------------------------------\n",
      "Fitting model across 61 power spectra.\n",
      "\n",
      "WARNING: Lower-bound peak width limit is < or ~= the frequency resolution: 1.00 <= 1.00\n",
      "\tLower bounds below frequency-resolution have no effect (effective lower bound is the frequency resolution).\n",
      "\tToo low a limit may lead to overfitting noise as small bandwidth peaks.\n",
      "\tWe recommend a lower bound of approximately 2x the frequency resolution.\n",
      "\n",
      "---Collating Results for sub-111 ------------------------------\n",
      "\n",
      "-----------------------------------------------------------------------------------------------\n",
      "Subject: sub-112\n",
      "---Get EEG Raw Data - FIF -----------------------------------------\n"
     ]
    },
    {
     "name": "stderr",
     "output_type": "stream",
     "text": [
      "/var/folders/wd/rhzj_w8570g_y66t6j6mh4zw0000gn/T/ipykernel_97543/988434826.py:46: RuntimeWarning: The data contains 'boundary' events, indicating data discontinuities. Be cautious of filtering and epoching around these events.\n",
      "  eeg_dataset_raw = mne.io.read_raw_eeglab(eeg_lab_file_path, preload=True, verbose=flag_verbose)\n"
     ]
    },
    {
     "name": "stdout",
     "output_type": "stream",
     "text": [
      "---Filtering & Referencing------------------------------------------\n",
      "---Artefact Removal - ICA ------------------------------------------\n"
     ]
    },
    {
     "name": "stderr",
     "output_type": "stream",
     "text": [
      "/var/folders/wd/rhzj_w8570g_y66t6j6mh4zw0000gn/T/ipykernel_97543/1509335156.py:43: UserWarning: High component rejection: 81.67% marked as non-brain.\n",
      "  warnings.warn(f\"High component rejection: {100 * ICA_rejection_level:.2f}% marked as non-brain.\", UserWarning)\n"
     ]
    },
    {
     "name": "stdout",
     "output_type": "stream",
     "text": [
      "Dropped 1 epoch: 45\n",
      "---Power Spectra----------------------------------------------------\n",
      "Effective window size : 1.000 (s)\n",
      "---EEG Spectral Parameterisation------------------------------------\n",
      "Fitting model across 61 power spectra.\n",
      "\n",
      "WARNING: Lower-bound peak width limit is < or ~= the frequency resolution: 1.00 <= 1.00\n",
      "\tLower bounds below frequency-resolution have no effect (effective lower bound is the frequency resolution).\n",
      "\tToo low a limit may lead to overfitting noise as small bandwidth peaks.\n",
      "\tWe recommend a lower bound of approximately 2x the frequency resolution.\n",
      "\n",
      "---Collating Results for sub-112 ------------------------------\n",
      "\n",
      "-----------------------------------------------------------------------------------------------\n",
      "Subject: sub-113\n",
      "---Get EEG Raw Data - FIF -----------------------------------------\n"
     ]
    },
    {
     "name": "stderr",
     "output_type": "stream",
     "text": [
      "/var/folders/wd/rhzj_w8570g_y66t6j6mh4zw0000gn/T/ipykernel_97543/988434826.py:46: RuntimeWarning: The data contains 'boundary' events, indicating data discontinuities. Be cautious of filtering and epoching around these events.\n",
      "  eeg_dataset_raw = mne.io.read_raw_eeglab(eeg_lab_file_path, preload=True, verbose=flag_verbose)\n"
     ]
    },
    {
     "name": "stdout",
     "output_type": "stream",
     "text": [
      "---Filtering & Referencing------------------------------------------\n",
      "---Artefact Removal - ICA ------------------------------------------\n",
      "Dropped 15 epochs: 24, 71, 72, 80, 81, 86, 87, 89, 90, 91, 92, 93, 96, 97, 119\n",
      "---Power Spectra----------------------------------------------------\n",
      "Effective window size : 1.000 (s)\n",
      "---EEG Spectral Parameterisation------------------------------------\n",
      "Fitting model across 61 power spectra.\n",
      "\n",
      "WARNING: Lower-bound peak width limit is < or ~= the frequency resolution: 1.00 <= 1.00\n",
      "\tLower bounds below frequency-resolution have no effect (effective lower bound is the frequency resolution).\n",
      "\tToo low a limit may lead to overfitting noise as small bandwidth peaks.\n",
      "\tWe recommend a lower bound of approximately 2x the frequency resolution.\n",
      "\n",
      "---Collating Results for sub-113 ------------------------------\n",
      "\n",
      "-----------------------------------------------------------------------------------------------\n",
      "Subject: sub-114\n",
      "---Get EEG Raw Data - FIF -----------------------------------------\n",
      "---Filtering & Referencing------------------------------------------\n"
     ]
    },
    {
     "name": "stderr",
     "output_type": "stream",
     "text": [
      "/var/folders/wd/rhzj_w8570g_y66t6j6mh4zw0000gn/T/ipykernel_97543/988434826.py:46: RuntimeWarning: The data contains 'boundary' events, indicating data discontinuities. Be cautious of filtering and epoching around these events.\n",
      "  eeg_dataset_raw = mne.io.read_raw_eeglab(eeg_lab_file_path, preload=True, verbose=flag_verbose)\n"
     ]
    },
    {
     "name": "stdout",
     "output_type": "stream",
     "text": [
      "---Artefact Removal - ICA ------------------------------------------\n",
      "---Power Spectra----------------------------------------------------\n",
      "Effective window size : 1.000 (s)\n",
      "---EEG Spectral Parameterisation------------------------------------\n",
      "Fitting model across 61 power spectra.\n",
      "\n",
      "WARNING: Lower-bound peak width limit is < or ~= the frequency resolution: 1.00 <= 1.00\n",
      "\tLower bounds below frequency-resolution have no effect (effective lower bound is the frequency resolution).\n",
      "\tToo low a limit may lead to overfitting noise as small bandwidth peaks.\n",
      "\tWe recommend a lower bound of approximately 2x the frequency resolution.\n",
      "\n",
      "---Collating Results for sub-114 ------------------------------\n",
      "\n",
      "-----------------------------------------------------------------------------------------------\n",
      "Subject: sub-115\n",
      "---Get EEG Raw Data - FIF -----------------------------------------\n",
      "---Filtering & Referencing------------------------------------------\n"
     ]
    },
    {
     "name": "stderr",
     "output_type": "stream",
     "text": [
      "/var/folders/wd/rhzj_w8570g_y66t6j6mh4zw0000gn/T/ipykernel_97543/988434826.py:46: RuntimeWarning: The data contains 'boundary' events, indicating data discontinuities. Be cautious of filtering and epoching around these events.\n",
      "  eeg_dataset_raw = mne.io.read_raw_eeglab(eeg_lab_file_path, preload=True, verbose=flag_verbose)\n"
     ]
    },
    {
     "name": "stdout",
     "output_type": "stream",
     "text": [
      "---Artefact Removal - ICA ------------------------------------------\n",
      "---Power Spectra----------------------------------------------------\n",
      "Effective window size : 1.000 (s)\n",
      "---EEG Spectral Parameterisation------------------------------------\n",
      "Fitting model across 61 power spectra.\n",
      "\n",
      "WARNING: Lower-bound peak width limit is < or ~= the frequency resolution: 1.00 <= 1.00\n",
      "\tLower bounds below frequency-resolution have no effect (effective lower bound is the frequency resolution).\n",
      "\tToo low a limit may lead to overfitting noise as small bandwidth peaks.\n",
      "\tWe recommend a lower bound of approximately 2x the frequency resolution.\n",
      "\n",
      "---Collating Results for sub-115 ------------------------------\n",
      "\n",
      "-----------------------------------------------------------------------------------------------\n",
      "Subject: sub-116\n",
      "---Get EEG Raw Data - FIF -----------------------------------------\n"
     ]
    },
    {
     "name": "stderr",
     "output_type": "stream",
     "text": [
      "/var/folders/wd/rhzj_w8570g_y66t6j6mh4zw0000gn/T/ipykernel_97543/988434826.py:46: RuntimeWarning: The data contains 'boundary' events, indicating data discontinuities. Be cautious of filtering and epoching around these events.\n",
      "  eeg_dataset_raw = mne.io.read_raw_eeglab(eeg_lab_file_path, preload=True, verbose=flag_verbose)\n"
     ]
    },
    {
     "name": "stdout",
     "output_type": "stream",
     "text": [
      "---Filtering & Referencing------------------------------------------\n",
      "---Artefact Removal - ICA ------------------------------------------\n"
     ]
    },
    {
     "name": "stderr",
     "output_type": "stream",
     "text": [
      "/var/folders/wd/rhzj_w8570g_y66t6j6mh4zw0000gn/T/ipykernel_97543/1509335156.py:43: UserWarning: High component rejection: 88.33% marked as non-brain.\n",
      "  warnings.warn(f\"High component rejection: {100 * ICA_rejection_level:.2f}% marked as non-brain.\", UserWarning)\n"
     ]
    },
    {
     "name": "stdout",
     "output_type": "stream",
     "text": [
      "---Power Spectra----------------------------------------------------\n",
      "Effective window size : 1.000 (s)\n",
      "---EEG Spectral Parameterisation------------------------------------\n",
      "Fitting model across 61 power spectra.\n",
      "\n",
      "WARNING: Lower-bound peak width limit is < or ~= the frequency resolution: 1.00 <= 1.00\n",
      "\tLower bounds below frequency-resolution have no effect (effective lower bound is the frequency resolution).\n",
      "\tToo low a limit may lead to overfitting noise as small bandwidth peaks.\n",
      "\tWe recommend a lower bound of approximately 2x the frequency resolution.\n",
      "\n",
      "---Collating Results for sub-116 ------------------------------\n",
      "\n",
      "-----------------------------------------------------------------------------------------------\n",
      "Subject: sub-117\n",
      "---Get EEG Raw Data - FIF -----------------------------------------\n"
     ]
    },
    {
     "name": "stderr",
     "output_type": "stream",
     "text": [
      "/var/folders/wd/rhzj_w8570g_y66t6j6mh4zw0000gn/T/ipykernel_97543/988434826.py:46: RuntimeWarning: The data contains 'boundary' events, indicating data discontinuities. Be cautious of filtering and epoching around these events.\n",
      "  eeg_dataset_raw = mne.io.read_raw_eeglab(eeg_lab_file_path, preload=True, verbose=flag_verbose)\n"
     ]
    },
    {
     "name": "stdout",
     "output_type": "stream",
     "text": [
      "---Filtering & Referencing------------------------------------------\n",
      "---Artefact Removal - ICA ------------------------------------------\n"
     ]
    },
    {
     "name": "stderr",
     "output_type": "stream",
     "text": [
      "/var/folders/wd/rhzj_w8570g_y66t6j6mh4zw0000gn/T/ipykernel_97543/1509335156.py:43: UserWarning: High component rejection: 88.33% marked as non-brain.\n",
      "  warnings.warn(f\"High component rejection: {100 * ICA_rejection_level:.2f}% marked as non-brain.\", UserWarning)\n"
     ]
    },
    {
     "name": "stdout",
     "output_type": "stream",
     "text": [
      "---Power Spectra----------------------------------------------------\n",
      "Effective window size : 1.000 (s)\n",
      "---EEG Spectral Parameterisation------------------------------------\n",
      "Fitting model across 61 power spectra.\n",
      "\n",
      "WARNING: Lower-bound peak width limit is < or ~= the frequency resolution: 1.00 <= 1.00\n",
      "\tLower bounds below frequency-resolution have no effect (effective lower bound is the frequency resolution).\n",
      "\tToo low a limit may lead to overfitting noise as small bandwidth peaks.\n",
      "\tWe recommend a lower bound of approximately 2x the frequency resolution.\n",
      "\n",
      "---Collating Results for sub-117 ------------------------------\n",
      "\n",
      "-----------------------------------------------------------------------------------------------\n",
      "Subject: sub-118\n",
      "---Get EEG Raw Data - FIF -----------------------------------------\n",
      "---Filtering & Referencing------------------------------------------\n"
     ]
    },
    {
     "name": "stderr",
     "output_type": "stream",
     "text": [
      "/var/folders/wd/rhzj_w8570g_y66t6j6mh4zw0000gn/T/ipykernel_97543/988434826.py:46: RuntimeWarning: The data contains 'boundary' events, indicating data discontinuities. Be cautious of filtering and epoching around these events.\n",
      "  eeg_dataset_raw = mne.io.read_raw_eeglab(eeg_lab_file_path, preload=True, verbose=flag_verbose)\n"
     ]
    },
    {
     "name": "stdout",
     "output_type": "stream",
     "text": [
      "---Artefact Removal - ICA ------------------------------------------\n"
     ]
    },
    {
     "name": "stderr",
     "output_type": "stream",
     "text": [
      "/var/folders/wd/rhzj_w8570g_y66t6j6mh4zw0000gn/T/ipykernel_97543/1509335156.py:43: UserWarning: High component rejection: 81.67% marked as non-brain.\n",
      "  warnings.warn(f\"High component rejection: {100 * ICA_rejection_level:.2f}% marked as non-brain.\", UserWarning)\n"
     ]
    },
    {
     "name": "stdout",
     "output_type": "stream",
     "text": [
      "---Power Spectra----------------------------------------------------\n",
      "Effective window size : 1.000 (s)\n",
      "---EEG Spectral Parameterisation------------------------------------\n",
      "Fitting model across 61 power spectra.\n",
      "\n",
      "WARNING: Lower-bound peak width limit is < or ~= the frequency resolution: 1.00 <= 1.00\n",
      "\tLower bounds below frequency-resolution have no effect (effective lower bound is the frequency resolution).\n",
      "\tToo low a limit may lead to overfitting noise as small bandwidth peaks.\n",
      "\tWe recommend a lower bound of approximately 2x the frequency resolution.\n",
      "\n",
      "---Collating Results for sub-118 ------------------------------\n",
      "\n",
      "-----------------------------------------------------------------------------------------------\n",
      "Subject: sub-119\n",
      "---Get EEG Raw Data - FIF -----------------------------------------\n",
      "---Filtering & Referencing------------------------------------------\n"
     ]
    },
    {
     "name": "stderr",
     "output_type": "stream",
     "text": [
      "/var/folders/wd/rhzj_w8570g_y66t6j6mh4zw0000gn/T/ipykernel_97543/988434826.py:46: RuntimeWarning: The data contains 'boundary' events, indicating data discontinuities. Be cautious of filtering and epoching around these events.\n",
      "  eeg_dataset_raw = mne.io.read_raw_eeglab(eeg_lab_file_path, preload=True, verbose=flag_verbose)\n"
     ]
    },
    {
     "name": "stdout",
     "output_type": "stream",
     "text": [
      "---Artefact Removal - ICA ------------------------------------------\n",
      "---Power Spectra----------------------------------------------------\n",
      "Effective window size : 1.000 (s)\n",
      "---EEG Spectral Parameterisation------------------------------------\n",
      "Fitting model across 61 power spectra.\n",
      "\n",
      "WARNING: Lower-bound peak width limit is < or ~= the frequency resolution: 1.00 <= 1.00\n",
      "\tLower bounds below frequency-resolution have no effect (effective lower bound is the frequency resolution).\n",
      "\tToo low a limit may lead to overfitting noise as small bandwidth peaks.\n",
      "\tWe recommend a lower bound of approximately 2x the frequency resolution.\n",
      "\n",
      "---Collating Results for sub-119 ------------------------------\n",
      "\n",
      "-----------------------------------------------------------------------------------------------\n",
      "Subject: sub-120\n",
      "---Get EEG Raw Data - FIF -----------------------------------------\n",
      "---Filtering & Referencing------------------------------------------\n"
     ]
    },
    {
     "name": "stderr",
     "output_type": "stream",
     "text": [
      "/var/folders/wd/rhzj_w8570g_y66t6j6mh4zw0000gn/T/ipykernel_97543/988434826.py:46: RuntimeWarning: The data contains 'boundary' events, indicating data discontinuities. Be cautious of filtering and epoching around these events.\n",
      "  eeg_dataset_raw = mne.io.read_raw_eeglab(eeg_lab_file_path, preload=True, verbose=flag_verbose)\n"
     ]
    },
    {
     "name": "stdout",
     "output_type": "stream",
     "text": [
      "---Artefact Removal - ICA ------------------------------------------\n"
     ]
    },
    {
     "name": "stderr",
     "output_type": "stream",
     "text": [
      "/var/folders/wd/rhzj_w8570g_y66t6j6mh4zw0000gn/T/ipykernel_97543/1509335156.py:43: UserWarning: High component rejection: 81.67% marked as non-brain.\n",
      "  warnings.warn(f\"High component rejection: {100 * ICA_rejection_level:.2f}% marked as non-brain.\", UserWarning)\n"
     ]
    },
    {
     "name": "stdout",
     "output_type": "stream",
     "text": [
      "---Power Spectra----------------------------------------------------\n",
      "Effective window size : 1.000 (s)\n",
      "---EEG Spectral Parameterisation------------------------------------\n",
      "Fitting model across 61 power spectra.\n",
      "\n",
      "WARNING: Lower-bound peak width limit is < or ~= the frequency resolution: 1.00 <= 1.00\n",
      "\tLower bounds below frequency-resolution have no effect (effective lower bound is the frequency resolution).\n",
      "\tToo low a limit may lead to overfitting noise as small bandwidth peaks.\n",
      "\tWe recommend a lower bound of approximately 2x the frequency resolution.\n",
      "\n",
      "---Collating Results for sub-120 ------------------------------\n",
      "\n",
      "-----------------------------------------------------------------------------------------------\n",
      "Subject: sub-121\n",
      "---Get EEG Raw Data - FIF -----------------------------------------\n",
      "---Filtering & Referencing------------------------------------------\n"
     ]
    },
    {
     "name": "stderr",
     "output_type": "stream",
     "text": [
      "/var/folders/wd/rhzj_w8570g_y66t6j6mh4zw0000gn/T/ipykernel_97543/988434826.py:46: RuntimeWarning: The data contains 'boundary' events, indicating data discontinuities. Be cautious of filtering and epoching around these events.\n",
      "  eeg_dataset_raw = mne.io.read_raw_eeglab(eeg_lab_file_path, preload=True, verbose=flag_verbose)\n"
     ]
    },
    {
     "name": "stdout",
     "output_type": "stream",
     "text": [
      "---Artefact Removal - ICA ------------------------------------------\n"
     ]
    },
    {
     "name": "stderr",
     "output_type": "stream",
     "text": [
      "/var/folders/wd/rhzj_w8570g_y66t6j6mh4zw0000gn/T/ipykernel_97543/1509335156.py:43: UserWarning: High component rejection: 98.33% marked as non-brain.\n",
      "  warnings.warn(f\"High component rejection: {100 * ICA_rejection_level:.2f}% marked as non-brain.\", UserWarning)\n"
     ]
    },
    {
     "name": "stdout",
     "output_type": "stream",
     "text": [
      "---Power Spectra----------------------------------------------------\n",
      "Effective window size : 1.000 (s)\n",
      "---EEG Spectral Parameterisation------------------------------------\n",
      "Fitting model across 61 power spectra.\n",
      "\n",
      "WARNING: Lower-bound peak width limit is < or ~= the frequency resolution: 1.00 <= 1.00\n",
      "\tLower bounds below frequency-resolution have no effect (effective lower bound is the frequency resolution).\n",
      "\tToo low a limit may lead to overfitting noise as small bandwidth peaks.\n",
      "\tWe recommend a lower bound of approximately 2x the frequency resolution.\n",
      "\n",
      "---Collating Results for sub-121 ------------------------------\n"
     ]
    },
    {
     "name": "stderr",
     "output_type": "stream",
     "text": [
      "/var/folders/wd/rhzj_w8570g_y66t6j6mh4zw0000gn/T/ipykernel_97543/3423391515.py:47: UserWarning: SpecParam R2 mean 0.62 & std 0.05\n",
      "  warnings.warn(f'SpecParam R2 mean {mean_r2:.2f} & std {std_r2:.2f}', UserWarning)\n",
      "/var/folders/wd/rhzj_w8570g_y66t6j6mh4zw0000gn/T/ipykernel_97543/988434826.py:46: RuntimeWarning: The data contains 'boundary' events, indicating data discontinuities. Be cautious of filtering and epoching around these events.\n",
      "  eeg_dataset_raw = mne.io.read_raw_eeglab(eeg_lab_file_path, preload=True, verbose=flag_verbose)\n"
     ]
    },
    {
     "name": "stdout",
     "output_type": "stream",
     "text": [
      "\n",
      "-----------------------------------------------------------------------------------------------\n",
      "Subject: sub-122\n",
      "---Get EEG Raw Data - FIF -----------------------------------------\n",
      "---Filtering & Referencing------------------------------------------\n",
      "---Artefact Removal - ICA ------------------------------------------\n"
     ]
    },
    {
     "name": "stderr",
     "output_type": "stream",
     "text": [
      "/var/folders/wd/rhzj_w8570g_y66t6j6mh4zw0000gn/T/ipykernel_97543/1509335156.py:43: UserWarning: High component rejection: 95.00% marked as non-brain.\n",
      "  warnings.warn(f\"High component rejection: {100 * ICA_rejection_level:.2f}% marked as non-brain.\", UserWarning)\n"
     ]
    },
    {
     "name": "stdout",
     "output_type": "stream",
     "text": [
      "---Power Spectra----------------------------------------------------\n",
      "Effective window size : 1.000 (s)\n",
      "---EEG Spectral Parameterisation------------------------------------\n",
      "Fitting model across 61 power spectra.\n",
      "\n",
      "WARNING: Lower-bound peak width limit is < or ~= the frequency resolution: 1.00 <= 1.00\n",
      "\tLower bounds below frequency-resolution have no effect (effective lower bound is the frequency resolution).\n",
      "\tToo low a limit may lead to overfitting noise as small bandwidth peaks.\n",
      "\tWe recommend a lower bound of approximately 2x the frequency resolution.\n",
      "\n",
      "---Collating Results for sub-122 ------------------------------\n",
      "\n",
      "-----------------------------------------------------------------------------------------------\n",
      "Subject: sub-123\n",
      "---Get EEG Raw Data - FIF -----------------------------------------\n",
      "---Filtering & Referencing------------------------------------------\n"
     ]
    },
    {
     "name": "stderr",
     "output_type": "stream",
     "text": [
      "/var/folders/wd/rhzj_w8570g_y66t6j6mh4zw0000gn/T/ipykernel_97543/988434826.py:46: RuntimeWarning: The data contains 'boundary' events, indicating data discontinuities. Be cautious of filtering and epoching around these events.\n",
      "  eeg_dataset_raw = mne.io.read_raw_eeglab(eeg_lab_file_path, preload=True, verbose=flag_verbose)\n"
     ]
    },
    {
     "name": "stdout",
     "output_type": "stream",
     "text": [
      "---Artefact Removal - ICA ------------------------------------------\n"
     ]
    },
    {
     "name": "stderr",
     "output_type": "stream",
     "text": [
      "/var/folders/wd/rhzj_w8570g_y66t6j6mh4zw0000gn/T/ipykernel_97543/1509335156.py:43: UserWarning: High component rejection: 96.67% marked as non-brain.\n",
      "  warnings.warn(f\"High component rejection: {100 * ICA_rejection_level:.2f}% marked as non-brain.\", UserWarning)\n"
     ]
    },
    {
     "name": "stdout",
     "output_type": "stream",
     "text": [
      "---Power Spectra----------------------------------------------------\n",
      "Effective window size : 1.000 (s)\n",
      "---EEG Spectral Parameterisation------------------------------------\n",
      "Fitting model across 61 power spectra.\n",
      "\n",
      "WARNING: Lower-bound peak width limit is < or ~= the frequency resolution: 1.00 <= 1.00\n",
      "\tLower bounds below frequency-resolution have no effect (effective lower bound is the frequency resolution).\n",
      "\tToo low a limit may lead to overfitting noise as small bandwidth peaks.\n",
      "\tWe recommend a lower bound of approximately 2x the frequency resolution.\n",
      "\n",
      "---Collating Results for sub-123 ------------------------------\n",
      "\n",
      "-----------------------------------------------------------------------------------------------\n",
      "Subject: sub-124\n",
      "---Get EEG Raw Data - FIF -----------------------------------------\n",
      "---Filtering & Referencing------------------------------------------\n"
     ]
    },
    {
     "name": "stderr",
     "output_type": "stream",
     "text": [
      "/var/folders/wd/rhzj_w8570g_y66t6j6mh4zw0000gn/T/ipykernel_97543/988434826.py:46: RuntimeWarning: The data contains 'boundary' events, indicating data discontinuities. Be cautious of filtering and epoching around these events.\n",
      "  eeg_dataset_raw = mne.io.read_raw_eeglab(eeg_lab_file_path, preload=True, verbose=flag_verbose)\n"
     ]
    },
    {
     "name": "stdout",
     "output_type": "stream",
     "text": [
      "---Artefact Removal - ICA ------------------------------------------\n"
     ]
    },
    {
     "name": "stderr",
     "output_type": "stream",
     "text": [
      "/var/folders/wd/rhzj_w8570g_y66t6j6mh4zw0000gn/T/ipykernel_97543/1509335156.py:43: UserWarning: High component rejection: 91.67% marked as non-brain.\n",
      "  warnings.warn(f\"High component rejection: {100 * ICA_rejection_level:.2f}% marked as non-brain.\", UserWarning)\n"
     ]
    },
    {
     "name": "stdout",
     "output_type": "stream",
     "text": [
      "---Power Spectra----------------------------------------------------\n",
      "Effective window size : 1.000 (s)\n",
      "---EEG Spectral Parameterisation------------------------------------\n",
      "Fitting model across 61 power spectra.\n",
      "\n",
      "WARNING: Lower-bound peak width limit is < or ~= the frequency resolution: 1.00 <= 1.00\n",
      "\tLower bounds below frequency-resolution have no effect (effective lower bound is the frequency resolution).\n",
      "\tToo low a limit may lead to overfitting noise as small bandwidth peaks.\n",
      "\tWe recommend a lower bound of approximately 2x the frequency resolution.\n",
      "\n",
      "---Collating Results for sub-124 ------------------------------\n",
      "\n",
      "-----------------------------------------------------------------------------------------------\n",
      "Subject: sub-125\n",
      "---Get EEG Raw Data - FIF -----------------------------------------\n",
      "---Filtering & Referencing------------------------------------------\n"
     ]
    },
    {
     "name": "stderr",
     "output_type": "stream",
     "text": [
      "/var/folders/wd/rhzj_w8570g_y66t6j6mh4zw0000gn/T/ipykernel_97543/988434826.py:46: RuntimeWarning: The data contains 'boundary' events, indicating data discontinuities. Be cautious of filtering and epoching around these events.\n",
      "  eeg_dataset_raw = mne.io.read_raw_eeglab(eeg_lab_file_path, preload=True, verbose=flag_verbose)\n"
     ]
    },
    {
     "name": "stdout",
     "output_type": "stream",
     "text": [
      "---Artefact Removal - ICA ------------------------------------------\n"
     ]
    },
    {
     "name": "stderr",
     "output_type": "stream",
     "text": [
      "/var/folders/wd/rhzj_w8570g_y66t6j6mh4zw0000gn/T/ipykernel_97543/1509335156.py:43: UserWarning: High component rejection: 93.33% marked as non-brain.\n",
      "  warnings.warn(f\"High component rejection: {100 * ICA_rejection_level:.2f}% marked as non-brain.\", UserWarning)\n"
     ]
    },
    {
     "name": "stdout",
     "output_type": "stream",
     "text": [
      "---Power Spectra----------------------------------------------------\n",
      "Effective window size : 1.000 (s)\n",
      "---EEG Spectral Parameterisation------------------------------------\n",
      "Fitting model across 61 power spectra.\n",
      "\n",
      "WARNING: Lower-bound peak width limit is < or ~= the frequency resolution: 1.00 <= 1.00\n",
      "\tLower bounds below frequency-resolution have no effect (effective lower bound is the frequency resolution).\n",
      "\tToo low a limit may lead to overfitting noise as small bandwidth peaks.\n",
      "\tWe recommend a lower bound of approximately 2x the frequency resolution.\n",
      "\n"
     ]
    },
    {
     "name": "stderr",
     "output_type": "stream",
     "text": [
      "/var/folders/wd/rhzj_w8570g_y66t6j6mh4zw0000gn/T/ipykernel_97543/3423391515.py:47: UserWarning: SpecParam R2 mean 0.86 & std 0.07\n",
      "  warnings.warn(f'SpecParam R2 mean {mean_r2:.2f} & std {std_r2:.2f}', UserWarning)\n",
      "/var/folders/wd/rhzj_w8570g_y66t6j6mh4zw0000gn/T/ipykernel_97543/988434826.py:46: RuntimeWarning: The data contains 'boundary' events, indicating data discontinuities. Be cautious of filtering and epoching around these events.\n",
      "  eeg_dataset_raw = mne.io.read_raw_eeglab(eeg_lab_file_path, preload=True, verbose=flag_verbose)\n"
     ]
    },
    {
     "name": "stdout",
     "output_type": "stream",
     "text": [
      "---Collating Results for sub-125 ------------------------------\n",
      "\n",
      "-----------------------------------------------------------------------------------------------\n",
      "Subject: sub-126\n",
      "---Get EEG Raw Data - FIF -----------------------------------------\n",
      "---Filtering & Referencing------------------------------------------\n",
      "---Artefact Removal - ICA ------------------------------------------\n"
     ]
    },
    {
     "name": "stderr",
     "output_type": "stream",
     "text": [
      "/var/folders/wd/rhzj_w8570g_y66t6j6mh4zw0000gn/T/ipykernel_97543/1509335156.py:43: UserWarning: High component rejection: 83.33% marked as non-brain.\n",
      "  warnings.warn(f\"High component rejection: {100 * ICA_rejection_level:.2f}% marked as non-brain.\", UserWarning)\n"
     ]
    },
    {
     "name": "stdout",
     "output_type": "stream",
     "text": [
      "---Power Spectra----------------------------------------------------\n",
      "Effective window size : 1.000 (s)\n",
      "---EEG Spectral Parameterisation------------------------------------\n",
      "Fitting model across 61 power spectra.\n",
      "\n",
      "WARNING: Lower-bound peak width limit is < or ~= the frequency resolution: 1.00 <= 1.00\n",
      "\tLower bounds below frequency-resolution have no effect (effective lower bound is the frequency resolution).\n",
      "\tToo low a limit may lead to overfitting noise as small bandwidth peaks.\n",
      "\tWe recommend a lower bound of approximately 2x the frequency resolution.\n",
      "\n",
      "---Collating Results for sub-126 ------------------------------\n",
      "\n",
      "-----------------------------------------------------------------------------------------------\n",
      "Subject: sub-127\n",
      "---Get EEG Raw Data - FIF -----------------------------------------\n",
      "---Filtering & Referencing------------------------------------------\n"
     ]
    },
    {
     "name": "stderr",
     "output_type": "stream",
     "text": [
      "/var/folders/wd/rhzj_w8570g_y66t6j6mh4zw0000gn/T/ipykernel_97543/988434826.py:46: RuntimeWarning: The data contains 'boundary' events, indicating data discontinuities. Be cautious of filtering and epoching around these events.\n",
      "  eeg_dataset_raw = mne.io.read_raw_eeglab(eeg_lab_file_path, preload=True, verbose=flag_verbose)\n"
     ]
    },
    {
     "name": "stdout",
     "output_type": "stream",
     "text": [
      "---Artefact Removal - ICA ------------------------------------------\n"
     ]
    },
    {
     "name": "stderr",
     "output_type": "stream",
     "text": [
      "/var/folders/wd/rhzj_w8570g_y66t6j6mh4zw0000gn/T/ipykernel_97543/1509335156.py:43: UserWarning: High component rejection: 91.67% marked as non-brain.\n",
      "  warnings.warn(f\"High component rejection: {100 * ICA_rejection_level:.2f}% marked as non-brain.\", UserWarning)\n"
     ]
    },
    {
     "name": "stdout",
     "output_type": "stream",
     "text": [
      "---Power Spectra----------------------------------------------------\n",
      "Effective window size : 1.000 (s)\n",
      "---EEG Spectral Parameterisation------------------------------------\n",
      "Fitting model across 61 power spectra.\n",
      "\n",
      "WARNING: Lower-bound peak width limit is < or ~= the frequency resolution: 1.00 <= 1.00\n",
      "\tLower bounds below frequency-resolution have no effect (effective lower bound is the frequency resolution).\n",
      "\tToo low a limit may lead to overfitting noise as small bandwidth peaks.\n",
      "\tWe recommend a lower bound of approximately 2x the frequency resolution.\n",
      "\n",
      "---Collating Results for sub-127 ------------------------------\n",
      "\n",
      "-----------------------------------------------------------------------------------------------\n",
      "Subject: sub-128\n",
      "---Get EEG Raw Data - FIF -----------------------------------------\n",
      "---Filtering & Referencing------------------------------------------\n"
     ]
    },
    {
     "name": "stderr",
     "output_type": "stream",
     "text": [
      "/var/folders/wd/rhzj_w8570g_y66t6j6mh4zw0000gn/T/ipykernel_97543/988434826.py:46: RuntimeWarning: The data contains 'boundary' events, indicating data discontinuities. Be cautious of filtering and epoching around these events.\n",
      "  eeg_dataset_raw = mne.io.read_raw_eeglab(eeg_lab_file_path, preload=True, verbose=flag_verbose)\n"
     ]
    },
    {
     "name": "stdout",
     "output_type": "stream",
     "text": [
      "---Artefact Removal - ICA ------------------------------------------\n",
      "---Power Spectra----------------------------------------------------\n",
      "Effective window size : 1.000 (s)\n",
      "---EEG Spectral Parameterisation------------------------------------\n",
      "Fitting model across 61 power spectra.\n",
      "\n",
      "WARNING: Lower-bound peak width limit is < or ~= the frequency resolution: 1.00 <= 1.00\n",
      "\tLower bounds below frequency-resolution have no effect (effective lower bound is the frequency resolution).\n",
      "\tToo low a limit may lead to overfitting noise as small bandwidth peaks.\n",
      "\tWe recommend a lower bound of approximately 2x the frequency resolution.\n",
      "\n",
      "---Collating Results for sub-128 ------------------------------\n",
      "\n",
      "-----------------------------------------------------------------------------------------------\n",
      "Subject: sub-129\n",
      "---Get EEG Raw Data - FIF -----------------------------------------\n",
      "---Filtering & Referencing------------------------------------------\n"
     ]
    },
    {
     "name": "stderr",
     "output_type": "stream",
     "text": [
      "/var/folders/wd/rhzj_w8570g_y66t6j6mh4zw0000gn/T/ipykernel_97543/988434826.py:46: RuntimeWarning: The data contains 'boundary' events, indicating data discontinuities. Be cautious of filtering and epoching around these events.\n",
      "  eeg_dataset_raw = mne.io.read_raw_eeglab(eeg_lab_file_path, preload=True, verbose=flag_verbose)\n"
     ]
    },
    {
     "name": "stdout",
     "output_type": "stream",
     "text": [
      "---Artefact Removal - ICA ------------------------------------------\n"
     ]
    },
    {
     "name": "stderr",
     "output_type": "stream",
     "text": [
      "/var/folders/wd/rhzj_w8570g_y66t6j6mh4zw0000gn/T/ipykernel_97543/1509335156.py:43: UserWarning: High component rejection: 93.33% marked as non-brain.\n",
      "  warnings.warn(f\"High component rejection: {100 * ICA_rejection_level:.2f}% marked as non-brain.\", UserWarning)\n"
     ]
    },
    {
     "name": "stdout",
     "output_type": "stream",
     "text": [
      "---Power Spectra----------------------------------------------------\n",
      "Effective window size : 1.000 (s)\n",
      "---EEG Spectral Parameterisation------------------------------------\n",
      "Fitting model across 61 power spectra.\n",
      "\n",
      "WARNING: Lower-bound peak width limit is < or ~= the frequency resolution: 1.00 <= 1.00\n",
      "\tLower bounds below frequency-resolution have no effect (effective lower bound is the frequency resolution).\n",
      "\tToo low a limit may lead to overfitting noise as small bandwidth peaks.\n",
      "\tWe recommend a lower bound of approximately 2x the frequency resolution.\n",
      "\n",
      "---Collating Results for sub-129 ------------------------------\n",
      "\n",
      "-----------------------------------------------------------------------------------------------\n",
      "Subject: sub-130\n",
      "---Get EEG Raw Data - FIF -----------------------------------------\n",
      "---Filtering & Referencing------------------------------------------\n"
     ]
    },
    {
     "name": "stderr",
     "output_type": "stream",
     "text": [
      "/var/folders/wd/rhzj_w8570g_y66t6j6mh4zw0000gn/T/ipykernel_97543/988434826.py:46: RuntimeWarning: The data contains 'boundary' events, indicating data discontinuities. Be cautious of filtering and epoching around these events.\n",
      "  eeg_dataset_raw = mne.io.read_raw_eeglab(eeg_lab_file_path, preload=True, verbose=flag_verbose)\n"
     ]
    },
    {
     "name": "stdout",
     "output_type": "stream",
     "text": [
      "---Artefact Removal - ICA ------------------------------------------\n"
     ]
    },
    {
     "name": "stderr",
     "output_type": "stream",
     "text": [
      "/var/folders/wd/rhzj_w8570g_y66t6j6mh4zw0000gn/T/ipykernel_97543/1509335156.py:43: UserWarning: High component rejection: 96.67% marked as non-brain.\n",
      "  warnings.warn(f\"High component rejection: {100 * ICA_rejection_level:.2f}% marked as non-brain.\", UserWarning)\n"
     ]
    },
    {
     "name": "stdout",
     "output_type": "stream",
     "text": [
      "---Power Spectra----------------------------------------------------\n",
      "Effective window size : 1.000 (s)\n",
      "---EEG Spectral Parameterisation------------------------------------\n",
      "Fitting model across 61 power spectra.\n",
      "\n",
      "WARNING: Lower-bound peak width limit is < or ~= the frequency resolution: 1.00 <= 1.00\n",
      "\tLower bounds below frequency-resolution have no effect (effective lower bound is the frequency resolution).\n",
      "\tToo low a limit may lead to overfitting noise as small bandwidth peaks.\n",
      "\tWe recommend a lower bound of approximately 2x the frequency resolution.\n",
      "\n",
      "---Collating Results for sub-130 ------------------------------\n",
      "\n",
      "-----------------------------------------------------------------------------------------------\n",
      "Subject: sub-131\n",
      "---Get EEG Raw Data - FIF -----------------------------------------\n",
      "---Filtering & Referencing------------------------------------------\n"
     ]
    },
    {
     "name": "stderr",
     "output_type": "stream",
     "text": [
      "/var/folders/wd/rhzj_w8570g_y66t6j6mh4zw0000gn/T/ipykernel_97543/988434826.py:46: RuntimeWarning: The data contains 'boundary' events, indicating data discontinuities. Be cautious of filtering and epoching around these events.\n",
      "  eeg_dataset_raw = mne.io.read_raw_eeglab(eeg_lab_file_path, preload=True, verbose=flag_verbose)\n"
     ]
    },
    {
     "name": "stdout",
     "output_type": "stream",
     "text": [
      "---Artefact Removal - ICA ------------------------------------------\n"
     ]
    },
    {
     "name": "stderr",
     "output_type": "stream",
     "text": [
      "/var/folders/wd/rhzj_w8570g_y66t6j6mh4zw0000gn/T/ipykernel_97543/1509335156.py:43: UserWarning: High component rejection: 86.67% marked as non-brain.\n",
      "  warnings.warn(f\"High component rejection: {100 * ICA_rejection_level:.2f}% marked as non-brain.\", UserWarning)\n"
     ]
    },
    {
     "name": "stdout",
     "output_type": "stream",
     "text": [
      "---Power Spectra----------------------------------------------------\n",
      "Effective window size : 1.000 (s)\n",
      "---EEG Spectral Parameterisation------------------------------------\n",
      "Fitting model across 61 power spectra.\n",
      "\n",
      "WARNING: Lower-bound peak width limit is < or ~= the frequency resolution: 1.00 <= 1.00\n",
      "\tLower bounds below frequency-resolution have no effect (effective lower bound is the frequency resolution).\n",
      "\tToo low a limit may lead to overfitting noise as small bandwidth peaks.\n",
      "\tWe recommend a lower bound of approximately 2x the frequency resolution.\n",
      "\n",
      "---Collating Results for sub-131 ------------------------------\n",
      "\n",
      "-----------------------------------------------------------------------------------------------\n",
      "Subject: sub-132\n",
      "---Get EEG Raw Data - FIF -----------------------------------------\n",
      "---Filtering & Referencing------------------------------------------\n"
     ]
    },
    {
     "name": "stderr",
     "output_type": "stream",
     "text": [
      "/var/folders/wd/rhzj_w8570g_y66t6j6mh4zw0000gn/T/ipykernel_97543/988434826.py:46: RuntimeWarning: The data contains 'boundary' events, indicating data discontinuities. Be cautious of filtering and epoching around these events.\n",
      "  eeg_dataset_raw = mne.io.read_raw_eeglab(eeg_lab_file_path, preload=True, verbose=flag_verbose)\n"
     ]
    },
    {
     "name": "stdout",
     "output_type": "stream",
     "text": [
      "---Artefact Removal - ICA ------------------------------------------\n",
      "Dropped 4 epochs: 107, 131, 148, 149\n",
      "---Power Spectra----------------------------------------------------\n",
      "Effective window size : 1.000 (s)\n",
      "---EEG Spectral Parameterisation------------------------------------\n",
      "Fitting model across 61 power spectra.\n",
      "\n",
      "WARNING: Lower-bound peak width limit is < or ~= the frequency resolution: 1.00 <= 1.00\n",
      "\tLower bounds below frequency-resolution have no effect (effective lower bound is the frequency resolution).\n",
      "\tToo low a limit may lead to overfitting noise as small bandwidth peaks.\n",
      "\tWe recommend a lower bound of approximately 2x the frequency resolution.\n",
      "\n",
      "---Collating Results for sub-132 ------------------------------\n",
      "\n",
      "-----------------------------------------------------------------------------------------------\n",
      "Subject: sub-133\n",
      "---Get EEG Raw Data - FIF -----------------------------------------\n",
      "---Filtering & Referencing------------------------------------------\n"
     ]
    },
    {
     "name": "stderr",
     "output_type": "stream",
     "text": [
      "/var/folders/wd/rhzj_w8570g_y66t6j6mh4zw0000gn/T/ipykernel_97543/988434826.py:46: RuntimeWarning: The data contains 'boundary' events, indicating data discontinuities. Be cautious of filtering and epoching around these events.\n",
      "  eeg_dataset_raw = mne.io.read_raw_eeglab(eeg_lab_file_path, preload=True, verbose=flag_verbose)\n"
     ]
    },
    {
     "name": "stdout",
     "output_type": "stream",
     "text": [
      "---Artefact Removal - ICA ------------------------------------------\n"
     ]
    },
    {
     "name": "stderr",
     "output_type": "stream",
     "text": [
      "/var/folders/wd/rhzj_w8570g_y66t6j6mh4zw0000gn/T/ipykernel_97543/1509335156.py:43: UserWarning: High component rejection: 81.67% marked as non-brain.\n",
      "  warnings.warn(f\"High component rejection: {100 * ICA_rejection_level:.2f}% marked as non-brain.\", UserWarning)\n"
     ]
    },
    {
     "name": "stdout",
     "output_type": "stream",
     "text": [
      "---Power Spectra----------------------------------------------------\n",
      "Effective window size : 1.000 (s)\n",
      "---EEG Spectral Parameterisation------------------------------------\n",
      "Fitting model across 61 power spectra.\n",
      "\n",
      "WARNING: Lower-bound peak width limit is < or ~= the frequency resolution: 1.00 <= 1.00\n",
      "\tLower bounds below frequency-resolution have no effect (effective lower bound is the frequency resolution).\n",
      "\tToo low a limit may lead to overfitting noise as small bandwidth peaks.\n",
      "\tWe recommend a lower bound of approximately 2x the frequency resolution.\n",
      "\n",
      "---Collating Results for sub-133 ------------------------------\n",
      "\n",
      "-----------------------------------------------------------------------------------------------\n",
      "Subject: sub-134\n",
      "---Get EEG Raw Data - FIF -----------------------------------------\n",
      "---Filtering & Referencing------------------------------------------\n"
     ]
    },
    {
     "name": "stderr",
     "output_type": "stream",
     "text": [
      "/var/folders/wd/rhzj_w8570g_y66t6j6mh4zw0000gn/T/ipykernel_97543/988434826.py:46: RuntimeWarning: The data contains 'boundary' events, indicating data discontinuities. Be cautious of filtering and epoching around these events.\n",
      "  eeg_dataset_raw = mne.io.read_raw_eeglab(eeg_lab_file_path, preload=True, verbose=flag_verbose)\n"
     ]
    },
    {
     "name": "stdout",
     "output_type": "stream",
     "text": [
      "---Artefact Removal - ICA ------------------------------------------\n"
     ]
    },
    {
     "name": "stderr",
     "output_type": "stream",
     "text": [
      "/var/folders/wd/rhzj_w8570g_y66t6j6mh4zw0000gn/T/ipykernel_97543/1509335156.py:43: UserWarning: High component rejection: 81.67% marked as non-brain.\n",
      "  warnings.warn(f\"High component rejection: {100 * ICA_rejection_level:.2f}% marked as non-brain.\", UserWarning)\n"
     ]
    },
    {
     "name": "stdout",
     "output_type": "stream",
     "text": [
      "Dropped 8 epochs: 24, 90, 100, 101, 102, 107, 118, 119\n",
      "---Power Spectra----------------------------------------------------\n",
      "Effective window size : 1.000 (s)\n",
      "---EEG Spectral Parameterisation------------------------------------\n",
      "Fitting model across 61 power spectra.\n",
      "\n",
      "WARNING: Lower-bound peak width limit is < or ~= the frequency resolution: 1.00 <= 1.00\n",
      "\tLower bounds below frequency-resolution have no effect (effective lower bound is the frequency resolution).\n",
      "\tToo low a limit may lead to overfitting noise as small bandwidth peaks.\n",
      "\tWe recommend a lower bound of approximately 2x the frequency resolution.\n",
      "\n",
      "---Collating Results for sub-134 ------------------------------\n",
      "\n",
      "-----------------------------------------------------------------------------------------------\n",
      "Subject: sub-135\n",
      "---Get EEG Raw Data - FIF -----------------------------------------\n",
      "---Filtering & Referencing------------------------------------------\n"
     ]
    },
    {
     "name": "stderr",
     "output_type": "stream",
     "text": [
      "/var/folders/wd/rhzj_w8570g_y66t6j6mh4zw0000gn/T/ipykernel_97543/988434826.py:46: RuntimeWarning: The data contains 'boundary' events, indicating data discontinuities. Be cautious of filtering and epoching around these events.\n",
      "  eeg_dataset_raw = mne.io.read_raw_eeglab(eeg_lab_file_path, preload=True, verbose=flag_verbose)\n"
     ]
    },
    {
     "name": "stdout",
     "output_type": "stream",
     "text": [
      "---Artefact Removal - ICA ------------------------------------------\n",
      "---Power Spectra----------------------------------------------------\n",
      "Effective window size : 1.000 (s)\n",
      "---EEG Spectral Parameterisation------------------------------------\n",
      "Fitting model across 61 power spectra.\n",
      "\n",
      "WARNING: Lower-bound peak width limit is < or ~= the frequency resolution: 1.00 <= 1.00\n",
      "\tLower bounds below frequency-resolution have no effect (effective lower bound is the frequency resolution).\n",
      "\tToo low a limit may lead to overfitting noise as small bandwidth peaks.\n",
      "\tWe recommend a lower bound of approximately 2x the frequency resolution.\n",
      "\n",
      "---Collating Results for sub-135 ------------------------------\n",
      "\n",
      "-----------------------------------------------------------------------------------------------\n",
      "Subject: sub-136\n",
      "---Get EEG Raw Data - FIF -----------------------------------------\n",
      "---Filtering & Referencing------------------------------------------\n"
     ]
    },
    {
     "name": "stderr",
     "output_type": "stream",
     "text": [
      "/var/folders/wd/rhzj_w8570g_y66t6j6mh4zw0000gn/T/ipykernel_97543/988434826.py:46: RuntimeWarning: The data contains 'boundary' events, indicating data discontinuities. Be cautious of filtering and epoching around these events.\n",
      "  eeg_dataset_raw = mne.io.read_raw_eeglab(eeg_lab_file_path, preload=True, verbose=flag_verbose)\n"
     ]
    },
    {
     "name": "stdout",
     "output_type": "stream",
     "text": [
      "---Artefact Removal - ICA ------------------------------------------\n",
      "---Power Spectra----------------------------------------------------\n",
      "Effective window size : 1.000 (s)\n",
      "---EEG Spectral Parameterisation------------------------------------\n",
      "Fitting model across 61 power spectra.\n",
      "\n",
      "WARNING: Lower-bound peak width limit is < or ~= the frequency resolution: 1.00 <= 1.00\n",
      "\tLower bounds below frequency-resolution have no effect (effective lower bound is the frequency resolution).\n",
      "\tToo low a limit may lead to overfitting noise as small bandwidth peaks.\n",
      "\tWe recommend a lower bound of approximately 2x the frequency resolution.\n",
      "\n",
      "---Collating Results for sub-136 ------------------------------\n",
      "\n",
      "-----------------------------------------------------------------------------------------------\n",
      "Subject: sub-137\n",
      "---Get EEG Raw Data - FIF -----------------------------------------\n"
     ]
    },
    {
     "name": "stderr",
     "output_type": "stream",
     "text": [
      "/var/folders/wd/rhzj_w8570g_y66t6j6mh4zw0000gn/T/ipykernel_97543/988434826.py:46: RuntimeWarning: The data contains 'boundary' events, indicating data discontinuities. Be cautious of filtering and epoching around these events.\n",
      "  eeg_dataset_raw = mne.io.read_raw_eeglab(eeg_lab_file_path, preload=True, verbose=flag_verbose)\n"
     ]
    },
    {
     "name": "stdout",
     "output_type": "stream",
     "text": [
      "---Filtering & Referencing------------------------------------------\n",
      "---Artefact Removal - ICA ------------------------------------------\n",
      "---Power Spectra----------------------------------------------------\n",
      "Effective window size : 1.000 (s)\n",
      "---EEG Spectral Parameterisation------------------------------------\n",
      "Fitting model across 61 power spectra.\n",
      "\n",
      "WARNING: Lower-bound peak width limit is < or ~= the frequency resolution: 1.00 <= 1.00\n",
      "\tLower bounds below frequency-resolution have no effect (effective lower bound is the frequency resolution).\n",
      "\tToo low a limit may lead to overfitting noise as small bandwidth peaks.\n",
      "\tWe recommend a lower bound of approximately 2x the frequency resolution.\n",
      "\n",
      "---Collating Results for sub-137 ------------------------------\n",
      "\n",
      "-----------------------------------------------------------------------------------------------\n",
      "Subject: sub-138\n",
      "---Get EEG Raw Data - FIF -----------------------------------------\n",
      "---Filtering & Referencing------------------------------------------\n"
     ]
    },
    {
     "name": "stderr",
     "output_type": "stream",
     "text": [
      "/var/folders/wd/rhzj_w8570g_y66t6j6mh4zw0000gn/T/ipykernel_97543/988434826.py:46: RuntimeWarning: The data contains 'boundary' events, indicating data discontinuities. Be cautious of filtering and epoching around these events.\n",
      "  eeg_dataset_raw = mne.io.read_raw_eeglab(eeg_lab_file_path, preload=True, verbose=flag_verbose)\n"
     ]
    },
    {
     "name": "stdout",
     "output_type": "stream",
     "text": [
      "---Artefact Removal - ICA ------------------------------------------\n",
      "---Power Spectra----------------------------------------------------\n",
      "Effective window size : 1.000 (s)\n",
      "---EEG Spectral Parameterisation------------------------------------\n",
      "Fitting model across 61 power spectra.\n",
      "\n",
      "WARNING: Lower-bound peak width limit is < or ~= the frequency resolution: 1.00 <= 1.00\n",
      "\tLower bounds below frequency-resolution have no effect (effective lower bound is the frequency resolution).\n",
      "\tToo low a limit may lead to overfitting noise as small bandwidth peaks.\n",
      "\tWe recommend a lower bound of approximately 2x the frequency resolution.\n",
      "\n",
      "---Collating Results for sub-138 ------------------------------\n",
      "\n",
      "-----------------------------------------------------------------------------------------------\n",
      "Subject: sub-139\n",
      "---Get EEG Raw Data - FIF -----------------------------------------\n",
      "---Filtering & Referencing------------------------------------------\n"
     ]
    },
    {
     "name": "stderr",
     "output_type": "stream",
     "text": [
      "/var/folders/wd/rhzj_w8570g_y66t6j6mh4zw0000gn/T/ipykernel_97543/988434826.py:46: RuntimeWarning: The data contains 'boundary' events, indicating data discontinuities. Be cautious of filtering and epoching around these events.\n",
      "  eeg_dataset_raw = mne.io.read_raw_eeglab(eeg_lab_file_path, preload=True, verbose=flag_verbose)\n"
     ]
    },
    {
     "name": "stdout",
     "output_type": "stream",
     "text": [
      "---Artefact Removal - ICA ------------------------------------------\n"
     ]
    },
    {
     "name": "stderr",
     "output_type": "stream",
     "text": [
      "/var/folders/wd/rhzj_w8570g_y66t6j6mh4zw0000gn/T/ipykernel_97543/1509335156.py:43: UserWarning: High component rejection: 91.67% marked as non-brain.\n",
      "  warnings.warn(f\"High component rejection: {100 * ICA_rejection_level:.2f}% marked as non-brain.\", UserWarning)\n"
     ]
    },
    {
     "name": "stdout",
     "output_type": "stream",
     "text": [
      "---Power Spectra----------------------------------------------------\n",
      "Effective window size : 1.000 (s)\n",
      "---EEG Spectral Parameterisation------------------------------------\n",
      "Fitting model across 61 power spectra.\n",
      "\n",
      "WARNING: Lower-bound peak width limit is < or ~= the frequency resolution: 1.00 <= 1.00\n",
      "\tLower bounds below frequency-resolution have no effect (effective lower bound is the frequency resolution).\n",
      "\tToo low a limit may lead to overfitting noise as small bandwidth peaks.\n",
      "\tWe recommend a lower bound of approximately 2x the frequency resolution.\n",
      "\n",
      "---Collating Results for sub-139 ------------------------------\n",
      "\n",
      "-----------------------------------------------------------------------------------------------\n",
      "Subject: sub-140\n",
      "---Get EEG Raw Data - FIF -----------------------------------------\n",
      "---Filtering & Referencing------------------------------------------\n"
     ]
    },
    {
     "name": "stderr",
     "output_type": "stream",
     "text": [
      "/var/folders/wd/rhzj_w8570g_y66t6j6mh4zw0000gn/T/ipykernel_97543/988434826.py:46: RuntimeWarning: The data contains 'boundary' events, indicating data discontinuities. Be cautious of filtering and epoching around these events.\n",
      "  eeg_dataset_raw = mne.io.read_raw_eeglab(eeg_lab_file_path, preload=True, verbose=flag_verbose)\n"
     ]
    },
    {
     "name": "stdout",
     "output_type": "stream",
     "text": [
      "---Artefact Removal - ICA ------------------------------------------\n"
     ]
    },
    {
     "name": "stderr",
     "output_type": "stream",
     "text": [
      "/var/folders/wd/rhzj_w8570g_y66t6j6mh4zw0000gn/T/ipykernel_97543/1509335156.py:43: UserWarning: High component rejection: 98.33% marked as non-brain.\n",
      "  warnings.warn(f\"High component rejection: {100 * ICA_rejection_level:.2f}% marked as non-brain.\", UserWarning)\n"
     ]
    },
    {
     "name": "stdout",
     "output_type": "stream",
     "text": [
      "---Power Spectra----------------------------------------------------\n",
      "Effective window size : 1.000 (s)\n",
      "---EEG Spectral Parameterisation------------------------------------\n",
      "Fitting model across 61 power spectra.\n",
      "\n",
      "WARNING: Lower-bound peak width limit is < or ~= the frequency resolution: 1.00 <= 1.00\n",
      "\tLower bounds below frequency-resolution have no effect (effective lower bound is the frequency resolution).\n",
      "\tToo low a limit may lead to overfitting noise as small bandwidth peaks.\n",
      "\tWe recommend a lower bound of approximately 2x the frequency resolution.\n",
      "\n",
      "---Collating Results for sub-140 ------------------------------\n",
      "\n",
      "-----------------------------------------------------------------------------------------------\n",
      "Subject: sub-141\n",
      "---Get EEG Raw Data - FIF -----------------------------------------\n",
      "---Filtering & Referencing------------------------------------------\n"
     ]
    },
    {
     "name": "stderr",
     "output_type": "stream",
     "text": [
      "/var/folders/wd/rhzj_w8570g_y66t6j6mh4zw0000gn/T/ipykernel_97543/988434826.py:46: RuntimeWarning: The data contains 'boundary' events, indicating data discontinuities. Be cautious of filtering and epoching around these events.\n",
      "  eeg_dataset_raw = mne.io.read_raw_eeglab(eeg_lab_file_path, preload=True, verbose=flag_verbose)\n"
     ]
    },
    {
     "name": "stdout",
     "output_type": "stream",
     "text": [
      "---Artefact Removal - ICA ------------------------------------------\n",
      "---Power Spectra----------------------------------------------------\n",
      "Effective window size : 1.000 (s)\n",
      "---EEG Spectral Parameterisation------------------------------------\n",
      "Fitting model across 61 power spectra.\n",
      "\n",
      "WARNING: Lower-bound peak width limit is < or ~= the frequency resolution: 1.00 <= 1.00\n",
      "\tLower bounds below frequency-resolution have no effect (effective lower bound is the frequency resolution).\n",
      "\tToo low a limit may lead to overfitting noise as small bandwidth peaks.\n",
      "\tWe recommend a lower bound of approximately 2x the frequency resolution.\n",
      "\n",
      "---Collating Results for sub-141 ------------------------------\n",
      "\n",
      "-----------------------------------------------------------------------------------------------\n",
      "Subject: sub-142\n",
      "---Get EEG Raw Data - FIF -----------------------------------------\n",
      "---Filtering & Referencing------------------------------------------\n"
     ]
    },
    {
     "name": "stderr",
     "output_type": "stream",
     "text": [
      "/var/folders/wd/rhzj_w8570g_y66t6j6mh4zw0000gn/T/ipykernel_97543/988434826.py:46: RuntimeWarning: The data contains 'boundary' events, indicating data discontinuities. Be cautious of filtering and epoching around these events.\n",
      "  eeg_dataset_raw = mne.io.read_raw_eeglab(eeg_lab_file_path, preload=True, verbose=flag_verbose)\n"
     ]
    },
    {
     "name": "stdout",
     "output_type": "stream",
     "text": [
      "---Artefact Removal - ICA ------------------------------------------\n"
     ]
    },
    {
     "name": "stderr",
     "output_type": "stream",
     "text": [
      "/var/folders/wd/rhzj_w8570g_y66t6j6mh4zw0000gn/T/ipykernel_97543/1509335156.py:43: UserWarning: High component rejection: 88.33% marked as non-brain.\n",
      "  warnings.warn(f\"High component rejection: {100 * ICA_rejection_level:.2f}% marked as non-brain.\", UserWarning)\n"
     ]
    },
    {
     "name": "stdout",
     "output_type": "stream",
     "text": [
      "---Power Spectra----------------------------------------------------\n",
      "Effective window size : 1.000 (s)\n",
      "---EEG Spectral Parameterisation------------------------------------\n",
      "Fitting model across 61 power spectra.\n",
      "\n",
      "WARNING: Lower-bound peak width limit is < or ~= the frequency resolution: 1.00 <= 1.00\n",
      "\tLower bounds below frequency-resolution have no effect (effective lower bound is the frequency resolution).\n",
      "\tToo low a limit may lead to overfitting noise as small bandwidth peaks.\n",
      "\tWe recommend a lower bound of approximately 2x the frequency resolution.\n",
      "\n",
      "---Collating Results for sub-142 ------------------------------\n",
      "\n",
      "-----------------------------------------------------------------------------------------------\n",
      "Subject: sub-143\n",
      "---Get EEG Raw Data - FIF -----------------------------------------\n",
      "---Filtering & Referencing------------------------------------------\n"
     ]
    },
    {
     "name": "stderr",
     "output_type": "stream",
     "text": [
      "/var/folders/wd/rhzj_w8570g_y66t6j6mh4zw0000gn/T/ipykernel_97543/988434826.py:46: RuntimeWarning: The data contains 'boundary' events, indicating data discontinuities. Be cautious of filtering and epoching around these events.\n",
      "  eeg_dataset_raw = mne.io.read_raw_eeglab(eeg_lab_file_path, preload=True, verbose=flag_verbose)\n"
     ]
    },
    {
     "name": "stdout",
     "output_type": "stream",
     "text": [
      "---Artefact Removal - ICA ------------------------------------------\n",
      "---Power Spectra----------------------------------------------------\n",
      "Effective window size : 1.000 (s)\n",
      "---EEG Spectral Parameterisation------------------------------------\n",
      "Fitting model across 61 power spectra.\n",
      "\n",
      "WARNING: Lower-bound peak width limit is < or ~= the frequency resolution: 1.00 <= 1.00\n",
      "\tLower bounds below frequency-resolution have no effect (effective lower bound is the frequency resolution).\n",
      "\tToo low a limit may lead to overfitting noise as small bandwidth peaks.\n",
      "\tWe recommend a lower bound of approximately 2x the frequency resolution.\n",
      "\n",
      "---Collating Results for sub-143 ------------------------------\n",
      "\n",
      "-----------------------------------------------------------------------------------------------\n",
      "Subject: sub-144\n",
      "---Get EEG Raw Data - FIF -----------------------------------------\n",
      "---Filtering & Referencing------------------------------------------\n"
     ]
    },
    {
     "name": "stderr",
     "output_type": "stream",
     "text": [
      "/var/folders/wd/rhzj_w8570g_y66t6j6mh4zw0000gn/T/ipykernel_97543/988434826.py:46: RuntimeWarning: The data contains 'boundary' events, indicating data discontinuities. Be cautious of filtering and epoching around these events.\n",
      "  eeg_dataset_raw = mne.io.read_raw_eeglab(eeg_lab_file_path, preload=True, verbose=flag_verbose)\n"
     ]
    },
    {
     "name": "stdout",
     "output_type": "stream",
     "text": [
      "---Artefact Removal - ICA ------------------------------------------\n"
     ]
    },
    {
     "name": "stderr",
     "output_type": "stream",
     "text": [
      "/var/folders/wd/rhzj_w8570g_y66t6j6mh4zw0000gn/T/ipykernel_97543/1509335156.py:43: UserWarning: High component rejection: 85.00% marked as non-brain.\n",
      "  warnings.warn(f\"High component rejection: {100 * ICA_rejection_level:.2f}% marked as non-brain.\", UserWarning)\n"
     ]
    },
    {
     "name": "stdout",
     "output_type": "stream",
     "text": [
      "Dropped 11 epochs: 26, 33, 46, 51, 52, 72, 74, 75, 87, 105, 106\n",
      "---Power Spectra----------------------------------------------------\n",
      "Effective window size : 1.000 (s)\n",
      "---EEG Spectral Parameterisation------------------------------------\n",
      "Fitting model across 61 power spectra.\n",
      "\n",
      "WARNING: Lower-bound peak width limit is < or ~= the frequency resolution: 1.00 <= 1.00\n",
      "\tLower bounds below frequency-resolution have no effect (effective lower bound is the frequency resolution).\n",
      "\tToo low a limit may lead to overfitting noise as small bandwidth peaks.\n",
      "\tWe recommend a lower bound of approximately 2x the frequency resolution.\n",
      "\n",
      "---Collating Results for sub-144 ------------------------------\n",
      "\n",
      "-----------------------------------------------------------------------------------------------\n",
      "Subject: sub-145\n",
      "---Get EEG Raw Data - FIF -----------------------------------------\n",
      "---Filtering & Referencing------------------------------------------\n"
     ]
    },
    {
     "name": "stderr",
     "output_type": "stream",
     "text": [
      "/var/folders/wd/rhzj_w8570g_y66t6j6mh4zw0000gn/T/ipykernel_97543/988434826.py:46: RuntimeWarning: The data contains 'boundary' events, indicating data discontinuities. Be cautious of filtering and epoching around these events.\n",
      "  eeg_dataset_raw = mne.io.read_raw_eeglab(eeg_lab_file_path, preload=True, verbose=flag_verbose)\n"
     ]
    },
    {
     "name": "stdout",
     "output_type": "stream",
     "text": [
      "---Artefact Removal - ICA ------------------------------------------\n"
     ]
    },
    {
     "name": "stderr",
     "output_type": "stream",
     "text": [
      "/var/folders/wd/rhzj_w8570g_y66t6j6mh4zw0000gn/T/ipykernel_97543/1509335156.py:43: UserWarning: High component rejection: 93.33% marked as non-brain.\n",
      "  warnings.warn(f\"High component rejection: {100 * ICA_rejection_level:.2f}% marked as non-brain.\", UserWarning)\n"
     ]
    },
    {
     "name": "stdout",
     "output_type": "stream",
     "text": [
      "---Power Spectra----------------------------------------------------\n",
      "Effective window size : 1.000 (s)\n",
      "---EEG Spectral Parameterisation------------------------------------\n",
      "Fitting model across 61 power spectra.\n",
      "\n",
      "WARNING: Lower-bound peak width limit is < or ~= the frequency resolution: 1.00 <= 1.00\n",
      "\tLower bounds below frequency-resolution have no effect (effective lower bound is the frequency resolution).\n",
      "\tToo low a limit may lead to overfitting noise as small bandwidth peaks.\n",
      "\tWe recommend a lower bound of approximately 2x the frequency resolution.\n",
      "\n",
      "---Collating Results for sub-145 ------------------------------\n",
      "\n",
      "-----------------------------------------------------------------------------------------------\n",
      "Subject: sub-146\n",
      "---Get EEG Raw Data - FIF -----------------------------------------\n",
      "---Filtering & Referencing------------------------------------------\n"
     ]
    },
    {
     "name": "stderr",
     "output_type": "stream",
     "text": [
      "/var/folders/wd/rhzj_w8570g_y66t6j6mh4zw0000gn/T/ipykernel_97543/988434826.py:46: RuntimeWarning: The data contains 'boundary' events, indicating data discontinuities. Be cautious of filtering and epoching around these events.\n",
      "  eeg_dataset_raw = mne.io.read_raw_eeglab(eeg_lab_file_path, preload=True, verbose=flag_verbose)\n"
     ]
    },
    {
     "name": "stdout",
     "output_type": "stream",
     "text": [
      "---Artefact Removal - ICA ------------------------------------------\n"
     ]
    },
    {
     "name": "stderr",
     "output_type": "stream",
     "text": [
      "/var/folders/wd/rhzj_w8570g_y66t6j6mh4zw0000gn/T/ipykernel_97543/1509335156.py:43: UserWarning: High component rejection: 93.33% marked as non-brain.\n",
      "  warnings.warn(f\"High component rejection: {100 * ICA_rejection_level:.2f}% marked as non-brain.\", UserWarning)\n"
     ]
    },
    {
     "name": "stdout",
     "output_type": "stream",
     "text": [
      "---Power Spectra----------------------------------------------------\n",
      "Effective window size : 1.000 (s)\n",
      "---EEG Spectral Parameterisation------------------------------------\n",
      "Fitting model across 61 power spectra.\n",
      "\n",
      "WARNING: Lower-bound peak width limit is < or ~= the frequency resolution: 1.00 <= 1.00\n",
      "\tLower bounds below frequency-resolution have no effect (effective lower bound is the frequency resolution).\n",
      "\tToo low a limit may lead to overfitting noise as small bandwidth peaks.\n",
      "\tWe recommend a lower bound of approximately 2x the frequency resolution.\n",
      "\n",
      "---Collating Results for sub-146 ------------------------------\n",
      "\n",
      "-----------------------------------------------------------------------------------------------\n",
      "Subject: sub-147\n",
      "---Get EEG Raw Data - FIF -----------------------------------------\n"
     ]
    },
    {
     "name": "stderr",
     "output_type": "stream",
     "text": [
      "/var/folders/wd/rhzj_w8570g_y66t6j6mh4zw0000gn/T/ipykernel_97543/988434826.py:46: RuntimeWarning: The data contains 'boundary' events, indicating data discontinuities. Be cautious of filtering and epoching around these events.\n",
      "  eeg_dataset_raw = mne.io.read_raw_eeglab(eeg_lab_file_path, preload=True, verbose=flag_verbose)\n"
     ]
    },
    {
     "name": "stdout",
     "output_type": "stream",
     "text": [
      "---Filtering & Referencing------------------------------------------\n",
      "---Artefact Removal - ICA ------------------------------------------\n",
      "---Power Spectra----------------------------------------------------\n",
      "Effective window size : 1.000 (s)\n",
      "---EEG Spectral Parameterisation------------------------------------\n",
      "Fitting model across 61 power spectra.\n",
      "\n",
      "WARNING: Lower-bound peak width limit is < or ~= the frequency resolution: 1.00 <= 1.00\n",
      "\tLower bounds below frequency-resolution have no effect (effective lower bound is the frequency resolution).\n",
      "\tToo low a limit may lead to overfitting noise as small bandwidth peaks.\n",
      "\tWe recommend a lower bound of approximately 2x the frequency resolution.\n",
      "\n",
      "---Collating Results for sub-147 ------------------------------\n",
      "\n",
      "-----------------------------------------------------------------------------------------------\n",
      "Subject: sub-148\n",
      "---Get EEG Raw Data - FIF -----------------------------------------\n",
      "---Filtering & Referencing------------------------------------------\n"
     ]
    },
    {
     "name": "stderr",
     "output_type": "stream",
     "text": [
      "/var/folders/wd/rhzj_w8570g_y66t6j6mh4zw0000gn/T/ipykernel_97543/988434826.py:46: RuntimeWarning: The data contains 'boundary' events, indicating data discontinuities. Be cautious of filtering and epoching around these events.\n",
      "  eeg_dataset_raw = mne.io.read_raw_eeglab(eeg_lab_file_path, preload=True, verbose=flag_verbose)\n"
     ]
    },
    {
     "name": "stdout",
     "output_type": "stream",
     "text": [
      "---Artefact Removal - ICA ------------------------------------------\n",
      "---Power Spectra----------------------------------------------------\n",
      "Effective window size : 1.000 (s)\n",
      "---EEG Spectral Parameterisation------------------------------------\n",
      "Fitting model across 61 power spectra.\n",
      "\n",
      "WARNING: Lower-bound peak width limit is < or ~= the frequency resolution: 1.00 <= 1.00\n",
      "\tLower bounds below frequency-resolution have no effect (effective lower bound is the frequency resolution).\n",
      "\tToo low a limit may lead to overfitting noise as small bandwidth peaks.\n",
      "\tWe recommend a lower bound of approximately 2x the frequency resolution.\n",
      "\n",
      "---Collating Results for sub-148 ------------------------------\n",
      "\n",
      "-----------------------------------------------------------------------------------------------\n",
      "Subject: sub-149\n",
      "---Get EEG Raw Data - FIF -----------------------------------------\n",
      "---Filtering & Referencing------------------------------------------\n"
     ]
    },
    {
     "name": "stderr",
     "output_type": "stream",
     "text": [
      "/var/folders/wd/rhzj_w8570g_y66t6j6mh4zw0000gn/T/ipykernel_97543/988434826.py:46: RuntimeWarning: The data contains 'boundary' events, indicating data discontinuities. Be cautious of filtering and epoching around these events.\n",
      "  eeg_dataset_raw = mne.io.read_raw_eeglab(eeg_lab_file_path, preload=True, verbose=flag_verbose)\n"
     ]
    },
    {
     "name": "stdout",
     "output_type": "stream",
     "text": [
      "---Artefact Removal - ICA ------------------------------------------\n"
     ]
    },
    {
     "name": "stderr",
     "output_type": "stream",
     "text": [
      "/var/folders/wd/rhzj_w8570g_y66t6j6mh4zw0000gn/T/ipykernel_97543/1509335156.py:43: UserWarning: High component rejection: 93.33% marked as non-brain.\n",
      "  warnings.warn(f\"High component rejection: {100 * ICA_rejection_level:.2f}% marked as non-brain.\", UserWarning)\n"
     ]
    },
    {
     "name": "stdout",
     "output_type": "stream",
     "text": [
      "---Power Spectra----------------------------------------------------\n",
      "Effective window size : 1.000 (s)\n",
      "---EEG Spectral Parameterisation------------------------------------\n",
      "Fitting model across 61 power spectra.\n",
      "\n",
      "WARNING: Lower-bound peak width limit is < or ~= the frequency resolution: 1.00 <= 1.00\n",
      "\tLower bounds below frequency-resolution have no effect (effective lower bound is the frequency resolution).\n",
      "\tToo low a limit may lead to overfitting noise as small bandwidth peaks.\n",
      "\tWe recommend a lower bound of approximately 2x the frequency resolution.\n",
      "\n",
      "---Collating Results for sub-149 ------------------------------\n"
     ]
    }
   ],
   "source": [
    "# Execute all the EEG processing steps for each subject\n",
    "#\n",
    "\n",
    "summary = f'EEG Processing for: {study_name} {dataset_ref}. Run: {run_name}'\n",
    "summary = summary + f'\\n- Preprocessing Params: {preprocess_params}'\n",
    "summary = summary + f'\\n- Artefact Removal Params: {artefact_params}'\n",
    "summary = summary + f'\\n- PSD Params: {psd_params}'\n",
    "summary = summary + f'\\n- Specparam Params: {specparam_params}'\n",
    "print(summary)\n",
    "\n",
    "# Initialize AutoReject\n",
    "# TODO: Which initiailisation to use?\n",
    "ar_model = AutoReject(cv=3, n_interpolate=[1, 4, 8, 16], consensus=[0.5, 1], random_state=313, n_jobs=-1,\n",
    "                thresh_method='bayesian_optimization', verbose=VERBOSE)\n",
    "# ar_model = AutoReject(n_interpolate=[1, 2, 4], random_state=42, n_jobs=-1, verbose=VERBOSE)\n",
    "\n",
    "# Loop through all subjects in the study\n",
    "for idx, subject in study_subjects_df.iterrows():\n",
    "\n",
    "    # Just sample a subset of subjects when in test mode\n",
    "    # NB: For subject samples, keep a copy of EEG raw and processed files, eg to inspect\n",
    "    if test_mode and idx not in test_subjects:\n",
    "        continue\n",
    "\n",
    "    subject_id = subject['subject_id']\n",
    "    print('\\n-----------------------------------------------------------------------------------------------')\n",
    "    print(f'Subject: {subject_id}')\n",
    "\n",
    "    # 1. EEG Raw Dataset Load\n",
    "    #\n",
    "    print('---Get EEG Raw Data - FIF -----------------------------------------')\n",
    "    EEG_raw_files = get_EEG_raw(dataset_path, subject_id)\n",
    "    # TODO: How to handle multiple session EEG raw files?\n",
    "    temp_EEG_raw = EEG_raw_files[0]\n",
    "    if test_mode:\n",
    "        save_EEG_for_subject(temp_EEG_raw, eeg_processing_run_path, subject_id, tag='source')\n",
    "\n",
    "    if VERBOSE:\n",
    "        print(f\"Description: {temp_EEG_raw.info['description']} on {temp_EEG_raw.info['meas_date']}\")\n",
    "        print(temp_EEG_raw)\n",
    "        print(temp_EEG_raw.info)\n",
    "        print_with_pdf('Raw EEG Signal', results_pdf)\n",
    "        plot_EEG_TD(temp_EEG_raw, test_channels, pdf_file=results_pdf)\n",
    "\n",
    "    # 2. EEG Filtering & Referencing\n",
    "    #\n",
    "    print('---Filtering & Referencing------------------------------------------')\n",
    "    temp_EEG_filtered = perform_EEG_filtering(preprocess_params, temp_EEG_raw)\n",
    "    if test_mode:\n",
    "        save_EEG_for_subject(temp_EEG_filtered, eeg_processing_run_path, subject_id, tag='filtered')\n",
    "\n",
    "    if VERBOSE:\n",
    "        # TODO: Any need to summarise or retain results?\n",
    "        print_with_pdf('Filtered EEG Signal', results_pdf)\n",
    "        plot_EEG_TD(temp_EEG_filtered, test_channels, pdf_file=results_pdf)\n",
    "    \n",
    "    # 3. Artefact Removal with ICA\n",
    "    #\n",
    "    print('---Artefact Removal - ICA ------------------------------------------')\n",
    "    artefact_results, temp_EEG_cleaned = perform_artefact_removal(artefact_params, temp_EEG_filtered)\n",
    "    # TODO: Save rejections levels for later use and subject exclusion\n",
    "    if test_mode:\n",
    "        save_EEG_for_subject(temp_EEG_cleaned, eeg_processing_run_path, subject_id, tag='cleaned', epoched=True)\n",
    "\n",
    "    if VERBOSE:\n",
    "        # TODO: Any need to summarise or retain results?\n",
    "        # TODO: Correct plot for Epoched data\n",
    "        # plot_EEG_TD(temp_EEG_cleaned, test_channels, pdf_file=results_pdf)\n",
    "        print(f'Temp .... {temp_EEG_cleaned}, \\n{artefact_results}')\n",
    "\n",
    "    # 4. Power Spectra\n",
    "    #\n",
    "    print('---Power Spectra----------------------------------------------------')\n",
    "    temp_spectra = get_spectra(psd_params, temp_EEG_cleaned)\n",
    "    if test_mode:\n",
    "        psd_save_path = os.path.join(eeg_processing_run_path, f'{subject_id}_psd.npy')\n",
    "        np.save(psd_save_path, temp_spectra.get_data())\n",
    "    \n",
    "    if VERBOSE:\n",
    "        # print(f'Using parameters: {psd_params}')\n",
    "        print(temp_spectra)\n",
    "        print(temp_spectra.info)\n",
    "        plot_EEG_PSD(temp_spectra, test_channels[0])\n",
    "        # plot_EEG_PSD(temp_spectra, test_channels[1])\n",
    "\n",
    "    # 5. Spectral Parameterisation\n",
    "    #\n",
    "    print('---EEG Spectral Parameterisation------------------------------------')\n",
    "    group_summary, specparam_df, fg = perform_SpecParam(specparam_params, temp_spectra)\n",
    "    if test_mode:\n",
    "        fg.save_report(f'{subject_id}_specparam', eeg_processing_run_path)\n",
    "    \n",
    "    if VERBOSE:\n",
    "        print(f'Executed Settings: {fg.get_settings()}')\n",
    " \n",
    "        # Overall group results\n",
    "        print(f'Group Summary: {group_summary}')\n",
    "        fg.print_results()\n",
    "        fg.plot()\n",
    "        plt.show()\n",
    "\n",
    "        # Plot the test channels\n",
    "        channel_idx = temp_spectra.ch_names.index(test_channels[0])\n",
    "        plot_SpecParam(fg, channel_idx, test_channels[0])\n",
    "\n",
    "    # Results Superset add to the overall study results dataframe\n",
    "    print(f'---Collating Results for {subject_id} ------------------------------')\n",
    "    subject_results_df = subject_results_combine(subject, artefact_results, group_summary, specparam_df)\n",
    "    eeg_results_superset_df = pd.concat([eeg_results_superset_df, subject_results_df], ignore_index=True)\n",
    "\n",
    "    # TODO: Combine subject results eg total averaged, by region etc .... ??\n",
    "\n",
    "# Save results\n",
    "eeg_results_superset_df.to_pickle(eeg_processing_run_path + '/eeg_results_superset_df.pkl', compression='zip')\n",
    "\n",
    "results_pdf.close()\n"
   ]
  },
  {
   "cell_type": "markdown",
   "id": "35b86b5d",
   "metadata": {},
   "source": [
    "# Inspections"
   ]
  },
  {
   "cell_type": "code",
   "execution_count": 18,
   "id": "8ba5dc0e",
   "metadata": {},
   "outputs": [],
   "source": [
    "# filtered = get_spectra(psd_params, temp_EEG_filtered)\n",
    "# cleaned = get_spectra(psd_params, temp_EEG_cleaned)\n",
    "\n",
    "# plot_EEG_PSD(filtered, 'C4')\n",
    "# plot_EEG_PSD(cleaned, 'C4')"
   ]
  }
 ],
 "metadata": {
  "kernelspec": {
   "display_name": "eeg_ml_pipeline_v2",
   "language": "python",
   "name": "python3"
  },
  "language_info": {
   "codemirror_mode": {
    "name": "ipython",
    "version": 3
   },
   "file_extension": ".py",
   "mimetype": "text/x-python",
   "name": "python",
   "nbconvert_exporter": "python",
   "pygments_lexer": "ipython3",
   "version": "3.11.13"
  }
 },
 "nbformat": 4,
 "nbformat_minor": 5
}
