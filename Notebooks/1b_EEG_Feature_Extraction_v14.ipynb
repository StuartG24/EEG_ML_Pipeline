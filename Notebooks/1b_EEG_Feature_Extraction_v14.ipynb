{
 "cells": [
  {
   "cell_type": "markdown",
   "id": "e3feed9f",
   "metadata": {},
   "source": [
    "# 1b. EEG Feature Extraction\n",
    "\n",
    "- 1b EEG Feature Extraction [Jump To](#run-1b-eeg-feature-extraction)\n"
   ]
  },
  {
   "cell_type": "markdown",
   "id": "bb601b02",
   "metadata": {},
   "source": [
    "## Some Ref Links\n",
    "\n",
    "- The Brain Imaging Data Structure (BIDS): https://bids.neuroimaging.io\n",
    "- MNE-Python: https://mne.tools/stable/index.html\n",
    "- SpecParam: https://specparam-tools.github.io and https://github.com/fooof-tools\n",
    "\n",
    "## Dependencies\n",
    "\n",
    "General dependencies:\n",
    "- python = 3.11.13\n",
    "- numpy = 2.0.2\n",
    "- scipy = 1.15.3\n",
    "- pandas = 2.2.3\n",
    "- matplotlib = 3.10.3\n",
    "\n",
    "ML dependencies:\n",
    "- scikit-learn = 1.6.1\n",
    "\n",
    "EEG specific dependencies:\n",
    "- mne = 1.9.0\n",
    "- mne-icalabel = 0.7.0\n",
    "- autoreject = 0.4.3\n",
    "- specparam = 2.0.0rc3"
   ]
  },
  {
   "cell_type": "markdown",
   "id": "daa4a22a",
   "metadata": {},
   "source": [
    "# Imports & Functions"
   ]
  },
  {
   "cell_type": "markdown",
   "id": "8b829ad5",
   "metadata": {},
   "source": [
    "## Imports"
   ]
  },
  {
   "cell_type": "code",
   "execution_count": 1,
   "id": "4d9e7de5",
   "metadata": {},
   "outputs": [],
   "source": [
    "# General imports\n",
    "import os\n",
    "import sys\n",
    "import gc\n",
    "import warnings\n",
    "\n",
    "from datetime import datetime\n",
    "from pprint import pprint\n",
    "import time\n",
    "import pickle\n",
    "import random\n",
    "from collections import Counter\n",
    "\n",
    "# Custom Functions\n",
    "sys.path.append(os.path.abspath('../Notebooks/Utilities')) \n",
    "import cust_utilities as utils\n",
    "\n",
    "# Maths, Pandas etc\n",
    "import math\n",
    "import numpy as np\n",
    "import pandas as pd\n",
    "import scipy as sci\n",
    "\n",
    "# Plots\n",
    "import matplotlib.pyplot as plt\n",
    "plt.style.use('ggplot')\n",
    "from matplotlib.backends.backend_pdf import PdfPages\n",
    "\n",
    "# MNE-Python\n",
    "import mne\n",
    "from mne.channels import combine_channels\n",
    "# from mne.preprocessing import ICA\n",
    "# from mne_icalabel import label_components\n",
    "# from autoreject import AutoReject\n",
    "# from autoreject import get_rejection_threshold\n",
    "\n",
    "# SpecParam\n",
    "from specparam import SpectralGroupModel\n",
    "from specparam.plts.spectra import plot_spectra\n",
    "# from specparam import __version__ as specparam_version\n",
    "# print('Current SpecParam version:', specparam_version)\n"
   ]
  },
  {
   "cell_type": "markdown",
   "id": "94dd84db",
   "metadata": {},
   "source": [
    "## EEG Functions"
   ]
  },
  {
   "cell_type": "code",
   "execution_count": 2,
   "id": "42f34a89",
   "metadata": {},
   "outputs": [],
   "source": [
    "# Setup Montage, Channels & Regions\n",
    "#\n",
    "\n",
    "def channels_setup(eeg_raw):\n",
    "\n",
    "    flag_verbose = (True if 'VERBOSE' in globals() and VERBOSE else False)\n",
    "    if 'MONTAGE' not in globals():\n",
    "        raise Exception(\"MONTAGE variable not found in globals.\")\n",
    "    if 'BRAIN_REGIONS' not in globals():\n",
    "        raise Exception(\"BRAIN_REGIONS variable not found in globals.\")\n",
    "    \n",
    "    # Create a channel group with a dict for each region and: channel names, channel indices\n",
    "    channel_groups = {}\n",
    "    used_channels = eeg_raw.ch_names\n",
    "    for region, channels in BRAIN_REGIONS.items():\n",
    "        region_channels = [ch for ch in channels if ch in used_channels]\n",
    "        if region_channels:  # Only include if channels exist\n",
    "            # Get channel indices\n",
    "            channel_indices = [used_channels.index(ch) for ch in region_channels]\n",
    "            channel_groups[region] = {\n",
    "                'channels': region_channels,\n",
    "                'indices': channel_indices\n",
    "        }\n",
    "    \n",
    "    if flag_verbose: \n",
    "        # Comparison with Raw EEG and Reference Used\n",
    "        std_1020_montage = mne.channels.make_standard_montage(MONTAGE)\n",
    "        montage_channels_set = set(std_1020_montage.ch_names)\n",
    "        subject_channels_set = set(eeg_raw.ch_names)\n",
    "        regions_channels_set = set([ch for chans in BRAIN_REGIONS.values() for ch in chans])\n",
    "\n",
    "        print(f'Missing montage - subject: {montage_channels_set - subject_channels_set}')\n",
    "        print(f'Missing subject - montage {subject_channels_set - montage_channels_set}')\n",
    "        print(f'Missing regions - subject {regions_channels_set - subject_channels_set}')\n",
    "        print(f'Missing subject - regions {subject_channels_set - regions_channels_set}')\n",
    "\n",
    "        # Plot the positions and regions\n",
    "        ch_groups_list = []\n",
    "        region_names = []\n",
    "        for region, info in channel_groups.items():\n",
    "            ch_groups_list.append(info['indices'])\n",
    "            region_names.append(region)\n",
    "        \n",
    "        fig = mne.viz.plot_sensors(eeg_raw.info, show_names=True, ch_groups=ch_groups_list, show=False, pointsize=65)\n",
    "        plt.title('Channels with Brain Regions')\n",
    "        plt.show()\n",
    "\n",
    "    return channel_groups\n"
   ]
  },
  {
   "cell_type": "code",
   "execution_count": 3,
   "id": "12e3abf2",
   "metadata": {},
   "outputs": [],
   "source": [
    "# Plot EEG Time Series & Save to PDF\n",
    "#\n",
    "\n",
    "def plot_EEG_TD(eeg_FIF, channels, time_range_s=[], pdf_file = None):\n",
    "    \n",
    "    \"\"\"\n",
    "    EEG Time Domain Plot.\n",
    "\n",
    "    Parameters\n",
    "    ----------\n",
    "    eeg_FIF : FIF\n",
    "    channels : [str] eg ['P5', 'Pz']\n",
    "    time_range_s : [nn,nn]\n",
    "    \"\"\"\n",
    "\n",
    "    # Channels Limit\n",
    "    max_plots = 5\n",
    "    if len(channels) > max_plots:\n",
    "        channels = channels[:max_plots]\n",
    "\n",
    "    # Time Range\n",
    "    sfreq = eeg_FIF.info['sfreq']\n",
    "    if time_range_s:\n",
    "        start = int(time_range_s[0] * sfreq)\n",
    "        stop = int(time_range_s[1] * sfreq)\n",
    "    else:\n",
    "        start = 0\n",
    "        stop = None\n",
    "\n",
    "    # Get signal and times for the elected channel(s)\n",
    "    # Handle Epoched data\n",
    "    if eeg_FIF.__class__.__name__.startswith('Raw'):\n",
    "        signal, times = eeg_FIF.get_data(picks=channels, \n",
    "                                        start=start, stop=stop,\n",
    "                                        return_times=True)\n",
    "    else:\n",
    "        # warnings.warn(\"Epoched data detected: plotting may not be accurate for all types.\", UserWarning)\n",
    "        # return\n",
    "        signal = eeg_FIF.get_data(picks=channels)  # shape: (n_epochs, n_channels, n_times)\n",
    "        signal = signal.mean(axis=0)  # shape: (n_channels, n_times)\n",
    "        times = eeg_FIF.times  # shape: (n_times,)\n",
    "\n",
    "    # plot and copy to pdf\n",
    "    plt.figure(figsize=(12, 8))\n",
    "    for i, ch_name in enumerate(channels):\n",
    "        plt.plot(times, signal[i] * 1e6, label=ch_name, alpha=0.7, linewidth=0.6)\n",
    "    plt.title('EEG Time Series - Channels: ' + ', '.join(channels))\n",
    "    plt.xlabel('Time (s)')\n",
    "    plt.ylabel('Amplitude (µV)')\n",
    "    plt.legend()\n",
    "    plt.tight_layout()\n",
    "    if pdf_file:\n",
    "        pdf_file.savefig()\n",
    "    plt.show()"
   ]
  },
  {
   "cell_type": "code",
   "execution_count": 4,
   "id": "f1e1cbcf",
   "metadata": {},
   "outputs": [],
   "source": [
    "# Plot EEG Frequency Domain / PSD\n",
    "#\n",
    "\n",
    "def plot_EEG_PSDs(psds, selection_list=[]):\n",
    "    \"\"\"\n",
    "    EEG Frequency Domain / PSD Plot.\n",
    "\n",
    "    Parameters\n",
    "    ----------\n",
    "    psds : mne.Spectrum\n",
    "    channels : [str] list of channel names, eg ['P5']\n",
    "    \"\"\"\n",
    "\n",
    "    freqs = psds.freqs\n",
    "    powers = psds.get_data(return_freqs=False)\n",
    "\n",
    "    # Average power across all epochs for each channel\n",
    "    if powers.ndim == 3:  # shape: (n_epochs, n_channels, n_freqs)\n",
    "        powers = powers.mean(axis=0)  # shape: (n_channels, n_freqs)\n",
    "\n",
    "    # print('Quick PSD')\n",
    "    # spectra.plot()\n",
    "    # plt.show()\n",
    "\n",
    "    # Get selected subset of PSDs\n",
    "    if selection_list:\n",
    "        indices = [psds.ch_names.index(ch) for ch in selection_list if ch in psds.ch_names]\n",
    "        powers = powers[indices]\n",
    "        channel_names = [psds.ch_names[i] for i in indices]\n",
    "    else:\n",
    "        channel_names = psds.ch_names\n",
    "\n",
    "    # Log/lin and log/log plot for all channels\n",
    "    fig, axes = plt.subplots(nrows=1, ncols=2, figsize=(18,6))\n",
    "    fig.suptitle(f'PSDs', fontsize=20)\n",
    "\n",
    "    axes[0].set_title(\"Log-Lin\")\n",
    "    for idx, ch in enumerate(channel_names):\n",
    "        axes[0].semilogy(freqs, powers[idx], alpha=0.5, label=ch if idx < 10 else None)\n",
    "    axes[0].set_xlabel(\"Frequency (Hz)\")\n",
    "    axes[0].set_ylabel(\"Power ($V^2/Hz$)\")\n",
    "    axes[0].legend(loc='upper right', fontsize='small', ncol=2)\n",
    "\n",
    "    axes[1].set_title(\"Log-Log\")\n",
    "    for idx, ch in enumerate(channel_names):\n",
    "        axes[1].loglog(freqs, powers[idx], alpha=0.5, label=ch if idx < 10 else None)\n",
    "    axes[1].set_xlabel(\"Frequency (Hz)\")\n",
    "    axes[1].set_ylabel(\"\")\n",
    "    axes[1].legend(loc='upper right', fontsize='small', ncol=2)\n",
    "\n",
    "    plt.tight_layout()\n",
    "    plt.show()\n"
   ]
  },
  {
   "cell_type": "markdown",
   "id": "ae4921be",
   "metadata": {},
   "source": [
    "## SpecParam Functions"
   ]
  },
  {
   "cell_type": "code",
   "execution_count": 5,
   "id": "9b483b1c",
   "metadata": {},
   "outputs": [],
   "source": [
    "# Spectral Parameterisation by group\n",
    "#\n",
    "\n",
    "def get_specparam(eeg_raw, channel_groups={}):\n",
    "    \"\"\"\n",
    "    Perform Spectral Parameterisation on EEG time signal\n",
    "\n",
    "    Parameters\n",
    "    ----------\n",
    "    eeg_raw : fif raw eeg continuous or epoched\n",
    "    group_list : list of brain regions or all channels\n",
    "\n",
    "    Returns\n",
    "    -------\n",
    "    group_summary : pd series of group fit summary\n",
    "    specparam_df : df of SpecParam results for each channel or region\n",
    "    \"\"\"\n",
    "\n",
    "    flag_verbose = (True if 'VERBOSE' in globals() and VERBOSE else False)\n",
    "\n",
    "    # Combine channels if regions\n",
    "    if channel_groups:\n",
    "        region_channel_indices = {region: info['indices'] for region, info in channel_groups.items()}\n",
    "        eeg_temp = combine_channels(eeg_raw, region_channel_indices, method='mean')\n",
    "        test_channel_names = list(channel_groups.keys())\n",
    "    else:\n",
    "        eeg_temp = eeg_raw\n",
    "        test_channel_names = TEST_CHANNELS\n",
    "\n",
    "    # NB: PSD defaults to Welch for continuous, Multitaper for epoched data, here will typically force to Welch\n",
    "    psds = eeg_temp.compute_psd(method=psd_params['method'],\n",
    "                                fmin=psd_params['fmin'], fmax=psd_params['fmax'],\n",
    "                                exclude=psd_params['exclude'])\n",
    "\n",
    "    # Get powers and frequency\n",
    "    freqs = psds.freqs\n",
    "    powers = psds.get_data(return_freqs=False)\n",
    "\n",
    "    # Ensure lower bound limit is > 2 * sampling frequency\n",
    "    # TODO: This overides eg to 2 after the very first check, should be same for all subjects though\n",
    "    lower, upper = specparam_params['peak_width_limits']    \n",
    "    freq_res = freqs[1] - freqs[0]\n",
    "    # print(f'Before {lower} with res {freq_res}')\n",
    "    if lower <= freq_res:\n",
    "        warnings.warn(f'Lower peak_width {lower} <= frequency res {freq_res}. Adjusted to {2 * freq_res}', UserWarning)\n",
    "        specparam_params['peak_width_limits'][0] = 2 * freq_res\n",
    "    # print(f\"After {specparam_params['peak_width_limits'][0]} with res {freq_res}\")\n",
    "\n",
    "    # If Epoched then average powers\n",
    "    # TODO: Does averaging lose information?\n",
    "    if powers.ndim == 3:  # shape: (n_epochs, n_channels, n_freqs)\n",
    "        powers = np.mean(powers, axis=0)  # shape: (n_channels, n_freqs)\n",
    "\n",
    "    # Initialise SpecParam Group Model & fit it\n",
    "    progress_flag = 'tqdm.notebook' if flag_verbose else None\n",
    "    fg = SpectralGroupModel(peak_width_limits=specparam_params['peak_width_limits'], \n",
    "                                max_n_peaks=specparam_params['max_n_peaks'], \n",
    "                                min_peak_height=specparam_params['min_peak_height'],\n",
    "                                peak_threshold=specparam_params['peak_threshold'],\n",
    "                                aperiodic_mode=specparam_params['aperiodic_mode'])\n",
    "    fg.fit(freqs, powers, specparam_params['fit_window'], progress=progress_flag, n_jobs=-1)\n",
    "\n",
    "    # Inspect the group fit\n",
    "    group_summary = inspect_spm_group(fg, \n",
    "                                      error_threshold=specparam_params['fit_error_threshold'], \n",
    "                                      r2_threshold=specparam_params['fit_r2_threshold'])\n",
    "    if group_summary['SPM_fit_quality_warning']:\n",
    "        warnings.warn(f'SpecParam Fit Issues', UserWarning)\n",
    "\n",
    "    # Amend the SpecParm results with the region or channel name\n",
    "    specparam_df = fg.to_df(specparam_params['max_n_peaks'])\n",
    "    if channel_groups:\n",
    "        specparam_df.insert(0, 'region', eeg_temp.ch_names)\n",
    "        specparam_df.insert(1, 'channel', [np.nan] * len(specparam_df))\n",
    "    else:\n",
    "        specparam_df.insert(0, 'region', [np.nan] * len(specparam_df))\n",
    "        specparam_df.insert(1, 'channel', eeg_temp.ch_names)\n",
    "    # specparam_df.insert(0, 'channel', eeg_temp.ch_names)\n",
    "\n",
    "    # Output for test sample\n",
    "    if flag_verbose:\n",
    "        # PSDs - All\n",
    "        print(psds)\n",
    "        print(psds.info)\n",
    "        plot_EEG_PSDs(psds)\n",
    "        # PSDS - Test Channels\n",
    "        if not channel_groups:\n",
    "            plot_EEG_PSDs(psds, test_channel_names)\n",
    "        \n",
    "        # Overall SpecParam group results\n",
    "        print(f'Group Summary: \\n{group_summary}')\n",
    "        fg.print_results()\n",
    "        fg.plot()\n",
    "        plt.show()\n",
    "\n",
    "        # Summary Comparison of Selected Channels or Regions\n",
    "        plot_spm_comparisons(psds, fg, test_channel_names)\n",
    "\n",
    "        # Plot flagged channels in detail\n",
    "        for channel_idx in group_summary['flagged_channels']:\n",
    "            channel_name = psds.ch_names[channel_idx]\n",
    "            fm = fg.get_model(ind=channel_idx, regenerate=True)\n",
    "            plot_spm_fit(fm, channel_name)\n",
    "\n",
    "        # Plot test channels in detail\n",
    "        for channel_name in test_channel_names:\n",
    "            channel_idx = psds.ch_names.index(channel_name)\n",
    "            fm = fg.get_model(ind=channel_idx, regenerate=True)\n",
    "            plot_spm_fit(fm, channel_name)\n",
    "\n",
    "    return group_summary, specparam_df\n"
   ]
  },
  {
   "cell_type": "code",
   "execution_count": 6,
   "id": "b39b5df4",
   "metadata": {},
   "outputs": [],
   "source": [
    "# Inspect the quality of a SpecParam Group fit\n",
    "#\n",
    "\n",
    "def inspect_spm_group(fg, error_threshold = 0.05, r2_threshold = 0.1):\n",
    "\n",
    "    fit_warning = False\n",
    "    flagged_channels = []\n",
    "\n",
    "    # Check Null Fits\n",
    "    if fg.n_null_ > 0:\n",
    "        fit_warning = True\n",
    "\n",
    "    # Check the Mean Error & R^2\n",
    "    error_mean = np.mean(fg.get_params('error'))\n",
    "    r_squared_mean = np.mean(fg.get_params('r_squared'))\n",
    "    if (error_mean > error_threshold) or (r_squared_mean < r2_threshold):\n",
    "        fit_warning = True\n",
    "\n",
    "    # TODO: Is this check too time consuming!?\n",
    "    # Capture the worst channels\n",
    "    flagged_channels = [ind for ind, res in enumerate(fg) if res.error > error_threshold]\n",
    "    if len(flagged_channels) > 0:\n",
    "        fit_warning = True\n",
    "    \n",
    "    group_summary = pd.Series({\n",
    "        'SPM_fit_quality_warning': fit_warning,\n",
    "        'spectra_count': len(fg),\n",
    "        'null_fits': fg.n_null_,\n",
    "        'error_mean': error_mean,\n",
    "        'r2_mean': r_squared_mean,\n",
    "        'flagged_channels': flagged_channels,\n",
    "        'peaks_count_max': np.max(fg.n_peaks_),\n",
    "        'peaks_count_mean': np.mean(fg.n_peaks_)\n",
    "        })\n",
    "    \n",
    "    return group_summary\n"
   ]
  },
  {
   "cell_type": "code",
   "execution_count": 7,
   "id": "2bffb8bc",
   "metadata": {},
   "outputs": [],
   "source": [
    "# Plot a SpecParam Model fit in Detail\n",
    "#\n",
    "\n",
    "def plot_spm_fit(fm, channel_name):\n",
    "\n",
    "    print(f'SpecParam for Channel: {channel_name}')\n",
    "    fm.print_results()\n",
    "\n",
    "    # Three Plots\n",
    "    fig, axes = plt.subplots(nrows=1, ncols=3, figsize=(18, 6))\n",
    "\n",
    "    fig.suptitle(f'SpecParam Fit for Channel: {channel_name}', fontsize=20)\n",
    "    axes[0].set_title('Log/Lin Fit')\n",
    "    fm.plot(plot_peaks='shade', peak_kwargs={'color' : 'green'}, ax=axes[0])\n",
    "\n",
    "    freqs = fm.freqs\n",
    "    flattened_data = fm.get_model(component='peak', space='log')\n",
    "    axes[1].set_title('Flattened - Offset Removed')\n",
    "    axes[1].plot(freqs, flattened_data)\n",
    "\n",
    "    axes[2].set_title('Log/Log Fit')\n",
    "    fm.plot(plot_peaks='shade', peak_kwargs={'color' : 'green'}, plt_log=True, ax=axes[2])\n",
    "    plt.show()\n",
    "    "
   ]
  },
  {
   "cell_type": "code",
   "execution_count": 8,
   "id": "3447cbbb",
   "metadata": {},
   "outputs": [],
   "source": [
    "# Plot SpecParam Results - Comparison of selected Channels or Regions\n",
    "#\n",
    "\n",
    "def plot_spm_comparisons(psds, fg, selection_list):\n",
    "\n",
    "    # Establish plot size\n",
    "    if len(selection_list) > 9:\n",
    "        warnings.warn(\"Too many plots requested; only the first 9 will be shown.\", UserWarning)\n",
    "        selection_list = selection_list[:9]\n",
    "\n",
    "    n_cols = 3\n",
    "    n_rows = int(np.ceil(len(selection_list) / n_cols))\n",
    "    fig, axes = plt.subplots(nrows=n_rows, ncols=n_cols, figsize=(6 * n_cols, 6 * n_rows))\n",
    "    fig.suptitle(f'SpecParam Fits Comparisons - Log/Lin', fontsize=20)\n",
    "    axes = axes.flatten() if isinstance(axes, np.ndarray) else [axes]\n",
    "\n",
    "    # For each selection element, a group or a channel\n",
    "    for i, selection_name in enumerate(selection_list):\n",
    "        chn_idx = psds.ch_names.index(selection_name)\n",
    "        chn_name = selection_name\n",
    "\n",
    "        axes[i].set_title(f'{selection_name.capitalize()}')\n",
    "        fm = fg.get_model(ind=chn_idx, regenerate=True)\n",
    "        fm.plot(plot_peaks='shade', peak_kwargs={'color' : 'green'}, ax=axes[i])\n",
    "\n",
    "    # Hide any unused subplots\n",
    "    for j in range(len(selection_list), len(axes)):\n",
    "        axes[j].axis('off')\n",
    "\n",
    "    plt.tight_layout()\n",
    "    plt.show()"
   ]
  },
  {
   "cell_type": "markdown",
   "id": "107f3da3",
   "metadata": {},
   "source": [
    "## Results Set Creation"
   ]
  },
  {
   "cell_type": "code",
   "execution_count": 9,
   "id": "47e15262",
   "metadata": {},
   "outputs": [],
   "source": [
    "# Generate a flattened combined subjects df and features df\n",
    "# So one row per subject with several hundred features\n",
    "\n",
    "def combine_subjects_features(subjects_df, features_df):\n",
    "    non_feature_cols = ['subject_id', 'region', 'channel']\n",
    "\n",
    "    subjects_features = []\n",
    "    subjects = subjects_df['subject_id'].unique()\n",
    "    if 'study_name' in subjects_df.columns:\n",
    "        subjects_df = subjects_df.drop(columns=['study_name'])\n",
    "\n",
    "    for subj_id in subjects:\n",
    "        subj_meta_dict = subjects_df.loc[subjects_df['subject_id'] == subj_id].iloc[0].to_dict()\n",
    "        subj_features_df = features_df[features_df['subject_id'] == subj_id]\n",
    "        if subj_features_df.empty:\n",
    "            continue\n",
    "\n",
    "        # Subject ID & Meta data\n",
    "        row_dict = {'subject_id': subj_id}\n",
    "        row_dict.update(subj_meta_dict)\n",
    "\n",
    "        # Flattened Region & Channel data\n",
    "        for _, next_row in subj_features_df.iterrows():\n",
    "            region = next_row['region']\n",
    "            channel = next_row['channel']\n",
    "            prefix = f'region_{region}_' if pd.notna(region) else f'channel_{channel}_'\n",
    "            for col in next_row.index:\n",
    "                if col in non_feature_cols:\n",
    "                    continue\n",
    "                row_dict[f'{prefix}{col}'] = next_row[col]\n",
    "\n",
    "        subjects_features.append(row_dict)\n",
    "    \n",
    "    combined_df = pd.DataFrame(subjects_features)\n",
    "    return combined_df\n"
   ]
  },
  {
   "cell_type": "markdown",
   "id": "9ecc3194",
   "metadata": {},
   "source": [
    "# Run: 1b EEG Feature Extraction"
   ]
  },
  {
   "cell_type": "code",
   "execution_count": 10,
   "id": "da8be98a",
   "metadata": {},
   "outputs": [],
   "source": [
    "# Run Details & Parameters\n",
    "#\n",
    "\n",
    "#---- Run Parameters --------------------------------\n",
    "# Study Details\n",
    "study_name = 'IOWA_Rest'\n",
    "\n",
    "# Run Name, Data Source & Test Mode\n",
    "run_description = 'full_run'\n",
    "data_source = '1a_EEG_Preprocessing_Run_20250724_full_ica'\n",
    "test_mode = False\n",
    "\n",
    "# Preprocessing Parameters\n",
    "psd_params = {'method': 'welch', #welch or multitaper (often used for epoched data)\n",
    "              'fmin': 1, 'fmax': 100,       \n",
    "              'exclude': []  # Includes all, even bad channels\n",
    "              }\n",
    "specparam_params = {'peak_width_limits': [1, 12],\n",
    "                    'max_n_peaks': 6,\n",
    "                    'min_peak_height': 0.1,\n",
    "                    'peak_threshold': 2.0,\n",
    "                    'aperiodic_mode': 'fixed',\n",
    "                    'fit_window' : [2, 40],\n",
    "                    'fit_error_threshold': 0.1,\n",
    "                    'fit_r2_threshold': 0.9\n",
    "                     }\n",
    "\n",
    "# Montage & Regions\n",
    "# Standard brain region groupings based on 10-20 system, with the 10-10 extension\n",
    "\n",
    "MONTAGE = 'standard_1020'\n",
    "\n",
    "BRAIN_REGIONS = {\n",
    "    'frontal': ['Fp1', 'Fp2', 'Fpz', 'AF3', 'AF4', 'AF7', 'AF8', 'AFz',\n",
    "                'F1', 'F2', 'F3', 'F4', 'F5', 'F6', 'F7', 'F8', 'Fz'],\n",
    "    'central': ['FC1', 'FC2', 'FC3', 'FC4', 'FC5', 'FC6', 'FCz',\n",
    "                'FT10', 'FT8', 'FT7', 'FT9',\n",
    "                'C1', 'C2', 'C5', 'C6', 'C2', \n",
    "                'CP3','CP4','CPz',\n",
    "                'C3', 'Cz', 'C4', 'CP5', 'CP1', 'CP2', 'CP6', \n",
    "                'T7', 'T8', 'C5', 'C6', 'TP7', 'TP8', 'TP9', 'TP10'],\n",
    "    'posterior': ['O1', 'Oz', 'O2', 'PO9', 'PO7', 'PO3', 'POz', 'PO4', 'PO8', 'PO10',\n",
    "                  'P1','P2','P3','P4', 'P5','P6','P7','P8','Pz']\n",
    "    }\n",
    "#----------------------------------------------------\n",
    "\n",
    "# Get existing study details, if exists\n",
    "study_folder_path = utils.get_folder_path('Study_' + study_name)\n",
    "study_info = pd.read_pickle(study_folder_path + '/study_inf.pkl', compression='zip')\n",
    "study_subjects_df = pd.read_pickle(study_folder_path + '/study_subjects_df.pkl', compression='zip')\n",
    "\n",
    "# EEG Preprocessed data\n",
    "eeg_preprocessed_data_path = utils.get_folder_path(study_info['eeg_processing_results_path'] + '/' + data_source + '/Cleaned_files' )\n",
    "\n",
    "# Setup the processing run and results folder & save params\n",
    "current_date = datetime.now().strftime('%Y%m%d')\n",
    "run_name = f'1b_EEG_Features_Results_Run_{current_date}_{run_description}'\n",
    "run_results_path = utils.extend_folder_path(study_info['eeg_processing_results_path'], run_name, exists_ok=False)\n",
    "\n",
    "run_details = pd.Series({\n",
    "    'study_name': study_name,\n",
    "    'run_name': run_name,\n",
    "    'eeg_preprocessed_data': data_source,\n",
    "    'psd_params': psd_params,\n",
    "    'specparam_params': specparam_params,\n",
    "})\n",
    "run_details.to_pickle(run_results_path + '/run_details.pkl', compression='zip')\n",
    "\n",
    "# Set progress messages, testing\n",
    "if test_mode:\n",
    "    VERBOSE = True\n",
    "    TEST_SUBJECTS = [0,5,101]\n",
    "    TEST_CHANNELS = ['F5', 'C3', 'P3', 'F6', 'C6', 'P6']\n",
    "else:\n",
    "    VERBOSE = False\n",
    "    TEST_SUBJECTS = []\n",
    "    TEST_CHANNELS = []\n",
    "    \n",
    "del current_date, study_name, run_description, study_folder_path\n"
   ]
  },
  {
   "cell_type": "code",
   "execution_count": 11,
   "id": "72ae0bc9",
   "metadata": {},
   "outputs": [
    {
     "name": "stdout",
     "output_type": "stream",
     "text": [
      "EEG Feature Extraction\n",
      "- Study: IOWA_Rest ds004584-1.0.0\n",
      "- Run: 1b_EEG_Features_Results_Run_20250801_full_run\n",
      "- EEG Preprocessed Data Source: 1a_EEG_Preprocessing_Run_20250724_full_ica\n",
      "- PSD Params: {'method': 'welch', 'fmin': 1, 'fmax': 100, 'exclude': []}\n",
      "- SpecParam Params: {'peak_width_limits': [1, 12], 'max_n_peaks': 6, 'min_peak_height': 0.1, 'peak_threshold': 2.0, 'aperiodic_mode': 'fixed', 'fit_window': [2, 40], 'fit_error_threshold': 0.1, 'fit_r2_threshold': 0.9}\n",
      "\n",
      "-----------------------------------------------------------------------------------------------\n",
      "Subject: sub-001\n",
      "---Get EEG Preprocessed Data - FIF ----------------------------------\n",
      "---EEG Spectral Parameterisation------------------------------------\n",
      "Not setting metadata\n",
      "281 matching events found\n",
      "No baseline correction applied\n",
      "0 projection items activated\n",
      "Effective window size : 1.000 (s)\n",
      "Fitting model across 3 power spectra.\n"
     ]
    },
    {
     "name": "stderr",
     "output_type": "stream",
     "text": [
      "/var/folders/_3/08zshp4n3z1_glk6l5vgyqz40000gn/T/ipykernel_65336/3824075881.py:45: UserWarning: Lower peak_width 1 <= frequency res 1.0. Adjusted to 2.0\n",
      "  warnings.warn(f'Lower peak_width {lower} <= frequency res {freq_res}. Adjusted to {2 * freq_res}', UserWarning)\n"
     ]
    },
    {
     "name": "stdout",
     "output_type": "stream",
     "text": [
      "Effective window size : 1.000 (s)\n",
      "Fitting model across 63 power spectra.\n",
      "\n",
      "-----------------------------------------------------------------------------------------------\n",
      "Subject: sub-002\n",
      "---Get EEG Preprocessed Data - FIF ----------------------------------\n",
      "---EEG Spectral Parameterisation------------------------------------\n",
      "Not setting metadata\n",
      "326 matching events found\n",
      "No baseline correction applied\n",
      "0 projection items activated\n",
      "Effective window size : 1.000 (s)\n",
      "Fitting model across 3 power spectra.\n"
     ]
    },
    {
     "name": "stderr",
     "output_type": "stream",
     "text": [
      "/var/folders/_3/08zshp4n3z1_glk6l5vgyqz40000gn/T/ipykernel_65336/3824075881.py:68: UserWarning: SpecParam Fit Issues\n",
      "  warnings.warn(f'SpecParam Fit Issues', UserWarning)\n"
     ]
    },
    {
     "name": "stdout",
     "output_type": "stream",
     "text": [
      "Effective window size : 1.000 (s)\n",
      "Fitting model across 63 power spectra.\n",
      "\n",
      "-----------------------------------------------------------------------------------------------\n",
      "Subject: sub-003\n",
      "---Get EEG Preprocessed Data - FIF ----------------------------------\n",
      "---EEG Spectral Parameterisation------------------------------------\n",
      "Not setting metadata\n",
      "243 matching events found\n",
      "No baseline correction applied\n",
      "0 projection items activated\n",
      "Effective window size : 1.000 (s)\n",
      "Fitting model across 3 power spectra.\n"
     ]
    },
    {
     "name": "stderr",
     "output_type": "stream",
     "text": [
      "/var/folders/_3/08zshp4n3z1_glk6l5vgyqz40000gn/T/ipykernel_65336/3824075881.py:68: UserWarning: SpecParam Fit Issues\n",
      "  warnings.warn(f'SpecParam Fit Issues', UserWarning)\n"
     ]
    },
    {
     "name": "stdout",
     "output_type": "stream",
     "text": [
      "Effective window size : 1.000 (s)\n"
     ]
    },
    {
     "name": "stderr",
     "output_type": "stream",
     "text": [
      "/var/folders/_3/08zshp4n3z1_glk6l5vgyqz40000gn/T/ipykernel_65336/3824075881.py:68: UserWarning: SpecParam Fit Issues\n",
      "  warnings.warn(f'SpecParam Fit Issues', UserWarning)\n"
     ]
    },
    {
     "name": "stdout",
     "output_type": "stream",
     "text": [
      "Fitting model across 63 power spectra.\n",
      "\n",
      "-----------------------------------------------------------------------------------------------\n",
      "Subject: sub-004\n",
      "---Get EEG Preprocessed Data - FIF ----------------------------------\n",
      "---EEG Spectral Parameterisation------------------------------------\n",
      "Not setting metadata\n",
      "242 matching events found\n",
      "No baseline correction applied\n",
      "0 projection items activated\n",
      "Effective window size : 1.000 (s)\n",
      "Fitting model across 3 power spectra.\n"
     ]
    },
    {
     "name": "stderr",
     "output_type": "stream",
     "text": [
      "/var/folders/_3/08zshp4n3z1_glk6l5vgyqz40000gn/T/ipykernel_65336/3824075881.py:68: UserWarning: SpecParam Fit Issues\n",
      "  warnings.warn(f'SpecParam Fit Issues', UserWarning)\n"
     ]
    },
    {
     "name": "stdout",
     "output_type": "stream",
     "text": [
      "Effective window size : 1.000 (s)\n",
      "Fitting model across 63 power spectra.\n",
      "\n",
      "-----------------------------------------------------------------------------------------------\n",
      "Subject: sub-005\n",
      "---Get EEG Preprocessed Data - FIF ----------------------------------\n",
      "---EEG Spectral Parameterisation------------------------------------\n",
      "Not setting metadata\n",
      "240 matching events found\n",
      "No baseline correction applied\n",
      "0 projection items activated\n",
      "Effective window size : 1.000 (s)\n",
      "Fitting model across 3 power spectra.\n"
     ]
    },
    {
     "name": "stderr",
     "output_type": "stream",
     "text": [
      "/var/folders/_3/08zshp4n3z1_glk6l5vgyqz40000gn/T/ipykernel_65336/3824075881.py:68: UserWarning: SpecParam Fit Issues\n",
      "  warnings.warn(f'SpecParam Fit Issues', UserWarning)\n"
     ]
    },
    {
     "name": "stdout",
     "output_type": "stream",
     "text": [
      "Effective window size : 1.000 (s)\n"
     ]
    },
    {
     "name": "stderr",
     "output_type": "stream",
     "text": [
      "/var/folders/_3/08zshp4n3z1_glk6l5vgyqz40000gn/T/ipykernel_65336/3824075881.py:68: UserWarning: SpecParam Fit Issues\n",
      "  warnings.warn(f'SpecParam Fit Issues', UserWarning)\n"
     ]
    },
    {
     "name": "stdout",
     "output_type": "stream",
     "text": [
      "Fitting model across 63 power spectra.\n",
      "\n",
      "-----------------------------------------------------------------------------------------------\n",
      "Subject: sub-006\n",
      "---Get EEG Preprocessed Data - FIF ----------------------------------\n",
      "---EEG Spectral Parameterisation------------------------------------\n",
      "Not setting metadata\n",
      "252 matching events found\n",
      "No baseline correction applied\n",
      "0 projection items activated\n",
      "Effective window size : 1.000 (s)\n",
      "Fitting model across 3 power spectra.\n"
     ]
    },
    {
     "name": "stderr",
     "output_type": "stream",
     "text": [
      "/var/folders/_3/08zshp4n3z1_glk6l5vgyqz40000gn/T/ipykernel_65336/3824075881.py:68: UserWarning: SpecParam Fit Issues\n",
      "  warnings.warn(f'SpecParam Fit Issues', UserWarning)\n"
     ]
    },
    {
     "name": "stdout",
     "output_type": "stream",
     "text": [
      "Effective window size : 1.000 (s)\n",
      "Fitting model across 63 power spectra.\n",
      "\n",
      "-----------------------------------------------------------------------------------------------\n",
      "Subject: sub-007\n",
      "---Get EEG Preprocessed Data - FIF ----------------------------------\n",
      "---EEG Spectral Parameterisation------------------------------------\n",
      "Not setting metadata\n",
      "239 matching events found\n",
      "No baseline correction applied\n",
      "0 projection items activated\n",
      "Effective window size : 1.000 (s)\n",
      "Fitting model across 3 power spectra.\n"
     ]
    },
    {
     "name": "stderr",
     "output_type": "stream",
     "text": [
      "/var/folders/_3/08zshp4n3z1_glk6l5vgyqz40000gn/T/ipykernel_65336/3824075881.py:68: UserWarning: SpecParam Fit Issues\n",
      "  warnings.warn(f'SpecParam Fit Issues', UserWarning)\n"
     ]
    },
    {
     "name": "stdout",
     "output_type": "stream",
     "text": [
      "Effective window size : 1.000 (s)\n",
      "Fitting model across 63 power spectra.\n",
      "\n",
      "-----------------------------------------------------------------------------------------------\n",
      "Subject: sub-008\n",
      "---Get EEG Preprocessed Data - FIF ----------------------------------\n",
      "---EEG Spectral Parameterisation------------------------------------\n",
      "Not setting metadata\n",
      "234 matching events found\n",
      "No baseline correction applied\n",
      "0 projection items activated\n",
      "Effective window size : 1.000 (s)\n",
      "Fitting model across 3 power spectra.\n"
     ]
    },
    {
     "name": "stderr",
     "output_type": "stream",
     "text": [
      "/var/folders/_3/08zshp4n3z1_glk6l5vgyqz40000gn/T/ipykernel_65336/3824075881.py:68: UserWarning: SpecParam Fit Issues\n",
      "  warnings.warn(f'SpecParam Fit Issues', UserWarning)\n"
     ]
    },
    {
     "name": "stdout",
     "output_type": "stream",
     "text": [
      "Effective window size : 1.000 (s)\n",
      "Fitting model across 63 power spectra.\n",
      "\n",
      "-----------------------------------------------------------------------------------------------\n",
      "Subject: sub-009\n",
      "---Get EEG Preprocessed Data - FIF ----------------------------------\n",
      "---EEG Spectral Parameterisation------------------------------------\n",
      "Not setting metadata\n",
      "248 matching events found\n",
      "No baseline correction applied\n",
      "0 projection items activated\n",
      "Effective window size : 1.000 (s)\n",
      "Fitting model across 3 power spectra.\n"
     ]
    },
    {
     "name": "stderr",
     "output_type": "stream",
     "text": [
      "/var/folders/_3/08zshp4n3z1_glk6l5vgyqz40000gn/T/ipykernel_65336/3824075881.py:68: UserWarning: SpecParam Fit Issues\n",
      "  warnings.warn(f'SpecParam Fit Issues', UserWarning)\n"
     ]
    },
    {
     "name": "stdout",
     "output_type": "stream",
     "text": [
      "Effective window size : 1.000 (s)\n",
      "Fitting model across 61 power spectra.\n",
      "\n",
      "-----------------------------------------------------------------------------------------------\n",
      "Subject: sub-010\n",
      "---Get EEG Preprocessed Data - FIF ----------------------------------\n",
      "---EEG Spectral Parameterisation------------------------------------\n",
      "Not setting metadata\n",
      "331 matching events found\n",
      "No baseline correction applied\n",
      "0 projection items activated\n",
      "Effective window size : 1.000 (s)\n",
      "Fitting model across 3 power spectra.\n",
      "Effective window size : 1.000 (s)\n",
      "Fitting model across 61 power spectra.\n",
      "\n",
      "-----------------------------------------------------------------------------------------------\n",
      "Subject: sub-011\n",
      "---Get EEG Preprocessed Data - FIF ----------------------------------\n",
      "---EEG Spectral Parameterisation------------------------------------\n",
      "Not setting metadata\n",
      "156 matching events found\n",
      "No baseline correction applied\n",
      "0 projection items activated\n",
      "Effective window size : 1.000 (s)\n",
      "Fitting model across 3 power spectra.\n"
     ]
    },
    {
     "name": "stderr",
     "output_type": "stream",
     "text": [
      "/var/folders/_3/08zshp4n3z1_glk6l5vgyqz40000gn/T/ipykernel_65336/3824075881.py:68: UserWarning: SpecParam Fit Issues\n",
      "  warnings.warn(f'SpecParam Fit Issues', UserWarning)\n"
     ]
    },
    {
     "name": "stdout",
     "output_type": "stream",
     "text": [
      "Effective window size : 1.000 (s)\n",
      "Fitting model across 61 power spectra.\n",
      "\n",
      "-----------------------------------------------------------------------------------------------\n",
      "Subject: sub-012\n",
      "---Get EEG Preprocessed Data - FIF ----------------------------------\n",
      "---EEG Spectral Parameterisation------------------------------------\n",
      "Not setting metadata\n",
      "120 matching events found\n",
      "No baseline correction applied\n",
      "0 projection items activated\n",
      "Effective window size : 1.000 (s)\n",
      "Fitting model across 3 power spectra.\n"
     ]
    },
    {
     "name": "stderr",
     "output_type": "stream",
     "text": [
      "/var/folders/_3/08zshp4n3z1_glk6l5vgyqz40000gn/T/ipykernel_65336/3824075881.py:68: UserWarning: SpecParam Fit Issues\n",
      "  warnings.warn(f'SpecParam Fit Issues', UserWarning)\n"
     ]
    },
    {
     "name": "stdout",
     "output_type": "stream",
     "text": [
      "Effective window size : 1.000 (s)\n",
      "Fitting model across 61 power spectra.\n",
      "\n",
      "-----------------------------------------------------------------------------------------------\n",
      "Subject: sub-013\n",
      "---Get EEG Preprocessed Data - FIF ----------------------------------\n",
      "---EEG Spectral Parameterisation------------------------------------\n",
      "Not setting metadata\n",
      "123 matching events found\n",
      "No baseline correction applied\n",
      "0 projection items activated\n",
      "Effective window size : 1.000 (s)\n",
      "Fitting model across 3 power spectra.\n",
      "Effective window size : 1.000 (s)\n",
      "Fitting model across 61 power spectra.\n",
      "\n",
      "-----------------------------------------------------------------------------------------------\n",
      "Subject: sub-014\n",
      "---Get EEG Preprocessed Data - FIF ----------------------------------\n",
      "---EEG Spectral Parameterisation------------------------------------\n",
      "Not setting metadata\n",
      "125 matching events found\n",
      "No baseline correction applied\n",
      "0 projection items activated\n",
      "Effective window size : 1.000 (s)\n",
      "Fitting model across 3 power spectra.\n"
     ]
    },
    {
     "name": "stderr",
     "output_type": "stream",
     "text": [
      "/var/folders/_3/08zshp4n3z1_glk6l5vgyqz40000gn/T/ipykernel_65336/3824075881.py:68: UserWarning: SpecParam Fit Issues\n",
      "  warnings.warn(f'SpecParam Fit Issues', UserWarning)\n"
     ]
    },
    {
     "name": "stdout",
     "output_type": "stream",
     "text": [
      "Effective window size : 1.000 (s)\n",
      "Fitting model across 61 power spectra.\n",
      "\n",
      "-----------------------------------------------------------------------------------------------\n",
      "Subject: sub-015\n",
      "---Get EEG Preprocessed Data - FIF ----------------------------------\n",
      "---EEG Spectral Parameterisation------------------------------------\n",
      "Not setting metadata\n",
      "120 matching events found\n",
      "No baseline correction applied\n",
      "0 projection items activated\n",
      "Effective window size : 1.000 (s)\n",
      "Fitting model across 3 power spectra.\n"
     ]
    },
    {
     "name": "stderr",
     "output_type": "stream",
     "text": [
      "/var/folders/_3/08zshp4n3z1_glk6l5vgyqz40000gn/T/ipykernel_65336/3824075881.py:68: UserWarning: SpecParam Fit Issues\n",
      "  warnings.warn(f'SpecParam Fit Issues', UserWarning)\n"
     ]
    },
    {
     "name": "stdout",
     "output_type": "stream",
     "text": [
      "Effective window size : 1.000 (s)\n",
      "Fitting model across 61 power spectra.\n",
      "\n",
      "-----------------------------------------------------------------------------------------------\n",
      "Subject: sub-016\n",
      "---Get EEG Preprocessed Data - FIF ----------------------------------\n",
      "---EEG Spectral Parameterisation------------------------------------\n",
      "Not setting metadata\n",
      "120 matching events found\n",
      "No baseline correction applied\n",
      "0 projection items activated\n",
      "Effective window size : 1.000 (s)\n",
      "Fitting model across 3 power spectra.\n",
      "Effective window size : 1.000 (s)\n",
      "Fitting model across 61 power spectra.\n",
      "\n",
      "-----------------------------------------------------------------------------------------------\n",
      "Subject: sub-017\n",
      "---Get EEG Preprocessed Data - FIF ----------------------------------\n",
      "---EEG Spectral Parameterisation------------------------------------\n",
      "Not setting metadata\n",
      "185 matching events found\n",
      "No baseline correction applied\n",
      "0 projection items activated\n",
      "Effective window size : 1.000 (s)\n",
      "Fitting model across 3 power spectra.\n"
     ]
    },
    {
     "name": "stderr",
     "output_type": "stream",
     "text": [
      "/var/folders/_3/08zshp4n3z1_glk6l5vgyqz40000gn/T/ipykernel_65336/3824075881.py:68: UserWarning: SpecParam Fit Issues\n",
      "  warnings.warn(f'SpecParam Fit Issues', UserWarning)\n"
     ]
    },
    {
     "name": "stdout",
     "output_type": "stream",
     "text": [
      "Effective window size : 1.000 (s)\n",
      "Fitting model across 61 power spectra.\n",
      "\n",
      "-----------------------------------------------------------------------------------------------\n",
      "Subject: sub-018\n",
      "---Get EEG Preprocessed Data - FIF ----------------------------------\n",
      "---EEG Spectral Parameterisation------------------------------------\n",
      "Not setting metadata\n",
      "151 matching events found\n",
      "No baseline correction applied\n",
      "0 projection items activated\n",
      "Effective window size : 1.000 (s)\n",
      "Fitting model across 3 power spectra.\n"
     ]
    },
    {
     "name": "stderr",
     "output_type": "stream",
     "text": [
      "/var/folders/_3/08zshp4n3z1_glk6l5vgyqz40000gn/T/ipykernel_65336/3824075881.py:68: UserWarning: SpecParam Fit Issues\n",
      "  warnings.warn(f'SpecParam Fit Issues', UserWarning)\n"
     ]
    },
    {
     "name": "stdout",
     "output_type": "stream",
     "text": [
      "Effective window size : 1.000 (s)\n"
     ]
    },
    {
     "name": "stderr",
     "output_type": "stream",
     "text": [
      "/var/folders/_3/08zshp4n3z1_glk6l5vgyqz40000gn/T/ipykernel_65336/3824075881.py:68: UserWarning: SpecParam Fit Issues\n",
      "  warnings.warn(f'SpecParam Fit Issues', UserWarning)\n"
     ]
    },
    {
     "name": "stdout",
     "output_type": "stream",
     "text": [
      "Fitting model across 61 power spectra.\n",
      "\n",
      "-----------------------------------------------------------------------------------------------\n",
      "Subject: sub-019\n",
      "---Get EEG Preprocessed Data - FIF ----------------------------------\n",
      "---EEG Spectral Parameterisation------------------------------------\n",
      "Not setting metadata\n",
      "186 matching events found\n",
      "No baseline correction applied\n",
      "0 projection items activated\n",
      "Effective window size : 1.000 (s)\n",
      "Fitting model across 3 power spectra.\n"
     ]
    },
    {
     "name": "stderr",
     "output_type": "stream",
     "text": [
      "/var/folders/_3/08zshp4n3z1_glk6l5vgyqz40000gn/T/ipykernel_65336/3824075881.py:68: UserWarning: SpecParam Fit Issues\n",
      "  warnings.warn(f'SpecParam Fit Issues', UserWarning)\n"
     ]
    },
    {
     "name": "stdout",
     "output_type": "stream",
     "text": [
      "Effective window size : 1.000 (s)\n",
      "Fitting model across 61 power spectra.\n",
      "\n",
      "-----------------------------------------------------------------------------------------------\n",
      "Subject: sub-020\n",
      "---Get EEG Preprocessed Data - FIF ----------------------------------\n",
      "---EEG Spectral Parameterisation------------------------------------\n",
      "Not setting metadata\n",
      "174 matching events found\n",
      "No baseline correction applied\n",
      "0 projection items activated\n",
      "Effective window size : 1.000 (s)\n",
      "Fitting model across 3 power spectra.\n",
      "Effective window size : 1.000 (s)\n",
      "Fitting model across 61 power spectra.\n",
      "\n",
      "-----------------------------------------------------------------------------------------------\n",
      "Subject: sub-021\n",
      "---Get EEG Preprocessed Data - FIF ----------------------------------\n",
      "---EEG Spectral Parameterisation------------------------------------\n",
      "Not setting metadata\n",
      "159 matching events found\n",
      "No baseline correction applied\n",
      "0 projection items activated\n",
      "Effective window size : 1.000 (s)\n",
      "Fitting model across 3 power spectra.\n"
     ]
    },
    {
     "name": "stderr",
     "output_type": "stream",
     "text": [
      "/var/folders/_3/08zshp4n3z1_glk6l5vgyqz40000gn/T/ipykernel_65336/3824075881.py:68: UserWarning: SpecParam Fit Issues\n",
      "  warnings.warn(f'SpecParam Fit Issues', UserWarning)\n"
     ]
    },
    {
     "name": "stdout",
     "output_type": "stream",
     "text": [
      "Effective window size : 1.000 (s)\n",
      "Fitting model across 61 power spectra.\n",
      "\n",
      "-----------------------------------------------------------------------------------------------\n",
      "Subject: sub-022\n",
      "---Get EEG Preprocessed Data - FIF ----------------------------------\n",
      "---EEG Spectral Parameterisation------------------------------------\n",
      "Not setting metadata\n",
      "153 matching events found\n",
      "No baseline correction applied\n",
      "0 projection items activated\n",
      "Effective window size : 1.000 (s)\n",
      "Fitting model across 3 power spectra.\n",
      "Effective window size : 1.000 (s)\n",
      "Fitting model across 61 power spectra.\n",
      "\n",
      "-----------------------------------------------------------------------------------------------\n",
      "Subject: sub-023\n",
      "---Get EEG Preprocessed Data - FIF ----------------------------------\n",
      "---EEG Spectral Parameterisation------------------------------------\n",
      "Not setting metadata\n",
      "169 matching events found\n",
      "No baseline correction applied\n",
      "0 projection items activated\n",
      "Effective window size : 1.000 (s)\n",
      "Fitting model across 3 power spectra.\n",
      "Effective window size : 1.000 (s)\n"
     ]
    },
    {
     "name": "stderr",
     "output_type": "stream",
     "text": [
      "/var/folders/_3/08zshp4n3z1_glk6l5vgyqz40000gn/T/ipykernel_65336/3824075881.py:68: UserWarning: SpecParam Fit Issues\n",
      "  warnings.warn(f'SpecParam Fit Issues', UserWarning)\n"
     ]
    },
    {
     "name": "stdout",
     "output_type": "stream",
     "text": [
      "Fitting model across 61 power spectra.\n",
      "\n",
      "-----------------------------------------------------------------------------------------------\n",
      "Subject: sub-024\n",
      "---Get EEG Preprocessed Data - FIF ----------------------------------\n",
      "---EEG Spectral Parameterisation------------------------------------\n",
      "Not setting metadata\n",
      "151 matching events found\n",
      "No baseline correction applied\n",
      "0 projection items activated\n",
      "Effective window size : 1.000 (s)\n",
      "Fitting model across 3 power spectra.\n"
     ]
    },
    {
     "name": "stderr",
     "output_type": "stream",
     "text": [
      "/var/folders/_3/08zshp4n3z1_glk6l5vgyqz40000gn/T/ipykernel_65336/3824075881.py:68: UserWarning: SpecParam Fit Issues\n",
      "  warnings.warn(f'SpecParam Fit Issues', UserWarning)\n"
     ]
    },
    {
     "name": "stdout",
     "output_type": "stream",
     "text": [
      "Effective window size : 1.000 (s)\n",
      "Fitting model across 61 power spectra.\n",
      "\n",
      "-----------------------------------------------------------------------------------------------\n",
      "Subject: sub-025\n",
      "---Get EEG Preprocessed Data - FIF ----------------------------------\n",
      "---EEG Spectral Parameterisation------------------------------------\n",
      "Not setting metadata\n",
      "156 matching events found\n",
      "No baseline correction applied\n",
      "0 projection items activated\n",
      "Effective window size : 1.000 (s)\n",
      "Fitting model across 3 power spectra.\n",
      "Effective window size : 1.000 (s)\n",
      "Fitting model across 61 power spectra.\n",
      "\n",
      "-----------------------------------------------------------------------------------------------\n",
      "Subject: sub-026\n",
      "---Get EEG Preprocessed Data - FIF ----------------------------------\n",
      "---EEG Spectral Parameterisation------------------------------------\n",
      "Not setting metadata\n",
      "136 matching events found\n",
      "No baseline correction applied\n",
      "0 projection items activated\n",
      "Effective window size : 1.000 (s)\n",
      "Fitting model across 3 power spectra.\n"
     ]
    },
    {
     "name": "stderr",
     "output_type": "stream",
     "text": [
      "/var/folders/_3/08zshp4n3z1_glk6l5vgyqz40000gn/T/ipykernel_65336/3824075881.py:68: UserWarning: SpecParam Fit Issues\n",
      "  warnings.warn(f'SpecParam Fit Issues', UserWarning)\n"
     ]
    },
    {
     "name": "stdout",
     "output_type": "stream",
     "text": [
      "Effective window size : 1.000 (s)\n",
      "Fitting model across 61 power spectra.\n",
      "\n",
      "-----------------------------------------------------------------------------------------------\n",
      "Subject: sub-027\n",
      "---Get EEG Preprocessed Data - FIF ----------------------------------\n",
      "---EEG Spectral Parameterisation------------------------------------\n",
      "Not setting metadata\n",
      "117 matching events found\n",
      "No baseline correction applied\n",
      "0 projection items activated\n",
      "Effective window size : 1.000 (s)\n",
      "Fitting model across 3 power spectra.\n"
     ]
    },
    {
     "name": "stderr",
     "output_type": "stream",
     "text": [
      "/var/folders/_3/08zshp4n3z1_glk6l5vgyqz40000gn/T/ipykernel_65336/3824075881.py:68: UserWarning: SpecParam Fit Issues\n",
      "  warnings.warn(f'SpecParam Fit Issues', UserWarning)\n"
     ]
    },
    {
     "name": "stdout",
     "output_type": "stream",
     "text": [
      "Effective window size : 1.000 (s)\n",
      "Fitting model across 61 power spectra.\n",
      "\n",
      "-----------------------------------------------------------------------------------------------\n",
      "Subject: sub-028\n",
      "---Get EEG Preprocessed Data - FIF ----------------------------------\n",
      "---EEG Spectral Parameterisation------------------------------------\n",
      "Not setting metadata\n",
      "135 matching events found\n",
      "No baseline correction applied\n",
      "0 projection items activated\n",
      "Effective window size : 1.000 (s)\n",
      "Fitting model across 3 power spectra.\n"
     ]
    },
    {
     "name": "stderr",
     "output_type": "stream",
     "text": [
      "/var/folders/_3/08zshp4n3z1_glk6l5vgyqz40000gn/T/ipykernel_65336/3824075881.py:68: UserWarning: SpecParam Fit Issues\n",
      "  warnings.warn(f'SpecParam Fit Issues', UserWarning)\n"
     ]
    },
    {
     "name": "stdout",
     "output_type": "stream",
     "text": [
      "Effective window size : 1.000 (s)\n",
      "Fitting model across 61 power spectra.\n",
      "\n",
      "-----------------------------------------------------------------------------------------------\n",
      "Subject: sub-029\n",
      "---Get EEG Preprocessed Data - FIF ----------------------------------\n",
      "---EEG Spectral Parameterisation------------------------------------\n",
      "Not setting metadata\n",
      "201 matching events found\n",
      "No baseline correction applied\n",
      "0 projection items activated\n",
      "Effective window size : 1.000 (s)\n",
      "Fitting model across 3 power spectra.\n",
      "Effective window size : 1.000 (s)\n",
      "Fitting model across 61 power spectra.\n",
      "\n",
      "-----------------------------------------------------------------------------------------------\n",
      "Subject: sub-030\n",
      "---Get EEG Preprocessed Data - FIF ----------------------------------\n",
      "---EEG Spectral Parameterisation------------------------------------\n",
      "Not setting metadata\n",
      "169 matching events found\n",
      "No baseline correction applied\n",
      "0 projection items activated\n",
      "Effective window size : 1.000 (s)\n",
      "Fitting model across 3 power spectra.\n"
     ]
    },
    {
     "name": "stderr",
     "output_type": "stream",
     "text": [
      "/var/folders/_3/08zshp4n3z1_glk6l5vgyqz40000gn/T/ipykernel_65336/3824075881.py:68: UserWarning: SpecParam Fit Issues\n",
      "  warnings.warn(f'SpecParam Fit Issues', UserWarning)\n"
     ]
    },
    {
     "name": "stdout",
     "output_type": "stream",
     "text": [
      "Effective window size : 1.000 (s)\n",
      "Fitting model across 61 power spectra.\n",
      "\n",
      "-----------------------------------------------------------------------------------------------\n",
      "Subject: sub-031\n",
      "---Get EEG Preprocessed Data - FIF ----------------------------------\n",
      "---EEG Spectral Parameterisation------------------------------------\n",
      "Not setting metadata\n",
      "181 matching events found\n",
      "No baseline correction applied\n",
      "0 projection items activated\n",
      "Effective window size : 1.000 (s)\n",
      "Fitting model across 3 power spectra.\n",
      "Effective window size : 1.000 (s)\n",
      "Fitting model across 61 power spectra.\n",
      "\n",
      "-----------------------------------------------------------------------------------------------\n",
      "Subject: sub-032\n",
      "---Get EEG Preprocessed Data - FIF ----------------------------------\n",
      "---EEG Spectral Parameterisation------------------------------------\n",
      "Not setting metadata\n",
      "144 matching events found\n",
      "No baseline correction applied\n",
      "0 projection items activated\n",
      "Effective window size : 1.000 (s)\n",
      "Fitting model across 3 power spectra.\n",
      "Effective window size : 1.000 (s)\n",
      "Fitting model across 61 power spectra.\n",
      "\n",
      "-----------------------------------------------------------------------------------------------\n",
      "Subject: sub-033\n",
      "---Get EEG Preprocessed Data - FIF ----------------------------------\n",
      "---EEG Spectral Parameterisation------------------------------------\n",
      "Not setting metadata\n",
      "119 matching events found\n",
      "No baseline correction applied\n",
      "0 projection items activated\n",
      "Effective window size : 1.000 (s)\n",
      "Fitting model across 3 power spectra.\n",
      "Effective window size : 1.000 (s)\n",
      "Fitting model across 61 power spectra.\n",
      "\n",
      "-----------------------------------------------------------------------------------------------\n",
      "Subject: sub-034\n",
      "---Get EEG Preprocessed Data - FIF ----------------------------------\n",
      "---EEG Spectral Parameterisation------------------------------------\n",
      "Not setting metadata\n",
      "173 matching events found\n",
      "No baseline correction applied\n",
      "0 projection items activated\n",
      "Effective window size : 1.000 (s)\n",
      "Fitting model across 3 power spectra.\n"
     ]
    },
    {
     "name": "stderr",
     "output_type": "stream",
     "text": [
      "/var/folders/_3/08zshp4n3z1_glk6l5vgyqz40000gn/T/ipykernel_65336/3824075881.py:68: UserWarning: SpecParam Fit Issues\n",
      "  warnings.warn(f'SpecParam Fit Issues', UserWarning)\n"
     ]
    },
    {
     "name": "stdout",
     "output_type": "stream",
     "text": [
      "Effective window size : 1.000 (s)\n",
      "Fitting model across 61 power spectra.\n",
      "\n",
      "-----------------------------------------------------------------------------------------------\n",
      "Subject: sub-035\n",
      "---Get EEG Preprocessed Data - FIF ----------------------------------\n",
      "---EEG Spectral Parameterisation------------------------------------\n",
      "Not setting metadata\n",
      "200 matching events found\n",
      "No baseline correction applied\n",
      "0 projection items activated\n",
      "Effective window size : 1.000 (s)\n",
      "Fitting model across 3 power spectra.\n",
      "Effective window size : 1.000 (s)\n",
      "Fitting model across 61 power spectra.\n",
      "\n",
      "-----------------------------------------------------------------------------------------------\n",
      "Subject: sub-036\n",
      "---Get EEG Preprocessed Data - FIF ----------------------------------\n",
      "---EEG Spectral Parameterisation------------------------------------\n",
      "Not setting metadata\n",
      "121 matching events found\n",
      "No baseline correction applied\n",
      "0 projection items activated\n",
      "Effective window size : 1.000 (s)\n",
      "Fitting model across 3 power spectra.\n",
      "Effective window size : 1.000 (s)\n",
      "Fitting model across 61 power spectra.\n",
      "\n",
      "-----------------------------------------------------------------------------------------------\n",
      "Subject: sub-037\n",
      "---Get EEG Preprocessed Data - FIF ----------------------------------\n",
      "---EEG Spectral Parameterisation------------------------------------\n",
      "Not setting metadata\n",
      "124 matching events found\n",
      "No baseline correction applied\n",
      "0 projection items activated\n",
      "Effective window size : 1.000 (s)\n",
      "Fitting model across 3 power spectra.\n",
      "Effective window size : 1.000 (s)\n",
      "Fitting model across 61 power spectra.\n",
      "\n",
      "-----------------------------------------------------------------------------------------------\n",
      "Subject: sub-038\n",
      "---Get EEG Preprocessed Data - FIF ----------------------------------\n",
      "---EEG Spectral Parameterisation------------------------------------\n",
      "Not setting metadata\n",
      "107 matching events found\n",
      "No baseline correction applied\n",
      "0 projection items activated\n",
      "Effective window size : 1.000 (s)\n",
      "Fitting model across 3 power spectra.\n"
     ]
    },
    {
     "name": "stderr",
     "output_type": "stream",
     "text": [
      "/var/folders/_3/08zshp4n3z1_glk6l5vgyqz40000gn/T/ipykernel_65336/3824075881.py:68: UserWarning: SpecParam Fit Issues\n",
      "  warnings.warn(f'SpecParam Fit Issues', UserWarning)\n"
     ]
    },
    {
     "name": "stdout",
     "output_type": "stream",
     "text": [
      "Effective window size : 1.000 (s)\n",
      "Fitting model across 61 power spectra.\n",
      "\n",
      "-----------------------------------------------------------------------------------------------\n",
      "Subject: sub-039\n",
      "---Get EEG Preprocessed Data - FIF ----------------------------------\n",
      "---EEG Spectral Parameterisation------------------------------------\n",
      "Not setting metadata\n",
      "133 matching events found\n",
      "No baseline correction applied\n",
      "0 projection items activated\n",
      "Effective window size : 1.000 (s)\n",
      "Fitting model across 3 power spectra.\n",
      "Effective window size : 1.000 (s)\n",
      "Fitting model across 61 power spectra.\n",
      "\n",
      "-----------------------------------------------------------------------------------------------\n",
      "Subject: sub-040\n",
      "---Get EEG Preprocessed Data - FIF ----------------------------------\n",
      "---EEG Spectral Parameterisation------------------------------------\n",
      "Not setting metadata\n",
      "45 matching events found\n",
      "No baseline correction applied\n",
      "0 projection items activated\n",
      "Effective window size : 1.000 (s)\n",
      "Fitting model across 3 power spectra.\n",
      "Effective window size : 1.000 (s)\n",
      "Fitting model across 61 power spectra.\n",
      "\n",
      "-----------------------------------------------------------------------------------------------\n",
      "Subject: sub-041\n",
      "---Get EEG Preprocessed Data - FIF ----------------------------------\n",
      "---EEG Spectral Parameterisation------------------------------------\n",
      "Not setting metadata\n",
      "150 matching events found\n",
      "No baseline correction applied\n",
      "0 projection items activated\n",
      "Effective window size : 1.000 (s)\n",
      "Fitting model across 3 power spectra.\n",
      "Effective window size : 1.000 (s)\n",
      "Fitting model across 61 power spectra.\n",
      "\n",
      "-----------------------------------------------------------------------------------------------\n",
      "Subject: sub-042\n",
      "---Get EEG Preprocessed Data - FIF ----------------------------------\n",
      "---EEG Spectral Parameterisation------------------------------------\n",
      "Not setting metadata\n",
      "146 matching events found\n",
      "No baseline correction applied\n",
      "0 projection items activated\n",
      "Effective window size : 1.000 (s)\n",
      "Fitting model across 3 power spectra.\n",
      "Effective window size : 1.000 (s)\n",
      "Fitting model across 61 power spectra.\n",
      "\n",
      "-----------------------------------------------------------------------------------------------\n",
      "Subject: sub-043\n",
      "---Get EEG Preprocessed Data - FIF ----------------------------------\n",
      "---EEG Spectral Parameterisation------------------------------------\n",
      "Not setting metadata\n",
      "127 matching events found\n",
      "No baseline correction applied\n",
      "0 projection items activated\n",
      "Effective window size : 1.000 (s)\n",
      "Fitting model across 3 power spectra.\n",
      "Effective window size : 1.000 (s)\n",
      "Fitting model across 61 power spectra.\n",
      "\n",
      "-----------------------------------------------------------------------------------------------\n",
      "Subject: sub-044\n",
      "---Get EEG Preprocessed Data - FIF ----------------------------------\n",
      "---EEG Spectral Parameterisation------------------------------------\n",
      "Not setting metadata\n",
      "135 matching events found\n",
      "No baseline correction applied\n",
      "0 projection items activated\n",
      "Effective window size : 1.000 (s)\n",
      "Fitting model across 3 power spectra.\n",
      "Effective window size : 1.000 (s)\n",
      "Fitting model across 61 power spectra.\n",
      "\n",
      "-----------------------------------------------------------------------------------------------\n",
      "Subject: sub-045\n",
      "---Get EEG Preprocessed Data - FIF ----------------------------------\n",
      "---EEG Spectral Parameterisation------------------------------------\n",
      "Not setting metadata\n",
      "58 matching events found\n",
      "No baseline correction applied\n",
      "0 projection items activated\n",
      "Effective window size : 1.000 (s)\n",
      "Fitting model across 3 power spectra.\n"
     ]
    },
    {
     "name": "stderr",
     "output_type": "stream",
     "text": [
      "/var/folders/_3/08zshp4n3z1_glk6l5vgyqz40000gn/T/ipykernel_65336/3824075881.py:68: UserWarning: SpecParam Fit Issues\n",
      "  warnings.warn(f'SpecParam Fit Issues', UserWarning)\n"
     ]
    },
    {
     "name": "stdout",
     "output_type": "stream",
     "text": [
      "Effective window size : 1.000 (s)\n",
      "Fitting model across 61 power spectra.\n"
     ]
    },
    {
     "name": "stderr",
     "output_type": "stream",
     "text": [
      "/var/folders/_3/08zshp4n3z1_glk6l5vgyqz40000gn/T/ipykernel_65336/3824075881.py:68: UserWarning: SpecParam Fit Issues\n",
      "  warnings.warn(f'SpecParam Fit Issues', UserWarning)\n"
     ]
    },
    {
     "name": "stdout",
     "output_type": "stream",
     "text": [
      "\n",
      "-----------------------------------------------------------------------------------------------\n",
      "Subject: sub-046\n",
      "---Get EEG Preprocessed Data - FIF ----------------------------------\n",
      "---EEG Spectral Parameterisation------------------------------------\n",
      "Not setting metadata\n",
      "117 matching events found\n",
      "No baseline correction applied\n",
      "0 projection items activated\n",
      "Effective window size : 1.000 (s)\n",
      "Fitting model across 3 power spectra.\n"
     ]
    },
    {
     "name": "stderr",
     "output_type": "stream",
     "text": [
      "/var/folders/_3/08zshp4n3z1_glk6l5vgyqz40000gn/T/ipykernel_65336/3824075881.py:68: UserWarning: SpecParam Fit Issues\n",
      "  warnings.warn(f'SpecParam Fit Issues', UserWarning)\n"
     ]
    },
    {
     "name": "stdout",
     "output_type": "stream",
     "text": [
      "Effective window size : 1.000 (s)\n",
      "Fitting model across 61 power spectra.\n",
      "\n",
      "-----------------------------------------------------------------------------------------------\n",
      "Subject: sub-047\n",
      "---Get EEG Preprocessed Data - FIF ----------------------------------\n",
      "---EEG Spectral Parameterisation------------------------------------\n",
      "Not setting metadata\n",
      "126 matching events found\n",
      "No baseline correction applied\n",
      "0 projection items activated\n",
      "Effective window size : 1.000 (s)\n",
      "Fitting model across 3 power spectra.\n",
      "Effective window size : 1.000 (s)\n"
     ]
    },
    {
     "name": "stderr",
     "output_type": "stream",
     "text": [
      "/var/folders/_3/08zshp4n3z1_glk6l5vgyqz40000gn/T/ipykernel_65336/3824075881.py:68: UserWarning: SpecParam Fit Issues\n",
      "  warnings.warn(f'SpecParam Fit Issues', UserWarning)\n"
     ]
    },
    {
     "name": "stdout",
     "output_type": "stream",
     "text": [
      "Fitting model across 61 power spectra.\n",
      "\n",
      "-----------------------------------------------------------------------------------------------\n",
      "Subject: sub-048\n",
      "---Get EEG Preprocessed Data - FIF ----------------------------------\n",
      "---EEG Spectral Parameterisation------------------------------------\n",
      "Not setting metadata\n",
      "191 matching events found\n",
      "No baseline correction applied\n",
      "0 projection items activated\n",
      "Effective window size : 1.000 (s)\n",
      "Fitting model across 3 power spectra.\n"
     ]
    },
    {
     "name": "stderr",
     "output_type": "stream",
     "text": [
      "/var/folders/_3/08zshp4n3z1_glk6l5vgyqz40000gn/T/ipykernel_65336/3824075881.py:68: UserWarning: SpecParam Fit Issues\n",
      "  warnings.warn(f'SpecParam Fit Issues', UserWarning)\n"
     ]
    },
    {
     "name": "stdout",
     "output_type": "stream",
     "text": [
      "Effective window size : 1.000 (s)\n"
     ]
    },
    {
     "name": "stderr",
     "output_type": "stream",
     "text": [
      "/var/folders/_3/08zshp4n3z1_glk6l5vgyqz40000gn/T/ipykernel_65336/3824075881.py:68: UserWarning: SpecParam Fit Issues\n",
      "  warnings.warn(f'SpecParam Fit Issues', UserWarning)\n"
     ]
    },
    {
     "name": "stdout",
     "output_type": "stream",
     "text": [
      "Fitting model across 61 power spectra.\n",
      "\n",
      "-----------------------------------------------------------------------------------------------\n",
      "Subject: sub-049\n",
      "---Get EEG Preprocessed Data - FIF ----------------------------------\n",
      "---EEG Spectral Parameterisation------------------------------------\n",
      "Not setting metadata\n",
      "121 matching events found\n",
      "No baseline correction applied\n",
      "0 projection items activated\n",
      "Effective window size : 1.000 (s)\n",
      "Fitting model across 3 power spectra.\n"
     ]
    },
    {
     "name": "stderr",
     "output_type": "stream",
     "text": [
      "/var/folders/_3/08zshp4n3z1_glk6l5vgyqz40000gn/T/ipykernel_65336/3824075881.py:68: UserWarning: SpecParam Fit Issues\n",
      "  warnings.warn(f'SpecParam Fit Issues', UserWarning)\n"
     ]
    },
    {
     "name": "stdout",
     "output_type": "stream",
     "text": [
      "Effective window size : 1.000 (s)\n"
     ]
    },
    {
     "name": "stderr",
     "output_type": "stream",
     "text": [
      "/var/folders/_3/08zshp4n3z1_glk6l5vgyqz40000gn/T/ipykernel_65336/3824075881.py:68: UserWarning: SpecParam Fit Issues\n",
      "  warnings.warn(f'SpecParam Fit Issues', UserWarning)\n"
     ]
    },
    {
     "name": "stdout",
     "output_type": "stream",
     "text": [
      "Fitting model across 61 power spectra.\n",
      "\n",
      "-----------------------------------------------------------------------------------------------\n",
      "Subject: sub-050\n",
      "---Get EEG Preprocessed Data - FIF ----------------------------------\n",
      "---EEG Spectral Parameterisation------------------------------------\n",
      "Not setting metadata\n",
      "124 matching events found\n",
      "No baseline correction applied\n",
      "0 projection items activated\n",
      "Effective window size : 1.000 (s)\n",
      "Fitting model across 3 power spectra.\n"
     ]
    },
    {
     "name": "stderr",
     "output_type": "stream",
     "text": [
      "/var/folders/_3/08zshp4n3z1_glk6l5vgyqz40000gn/T/ipykernel_65336/3824075881.py:68: UserWarning: SpecParam Fit Issues\n",
      "  warnings.warn(f'SpecParam Fit Issues', UserWarning)\n"
     ]
    },
    {
     "name": "stdout",
     "output_type": "stream",
     "text": [
      "Effective window size : 1.000 (s)\n",
      "Fitting model across 61 power spectra.\n",
      "\n",
      "-----------------------------------------------------------------------------------------------\n",
      "Subject: sub-051\n",
      "---Get EEG Preprocessed Data - FIF ----------------------------------\n",
      "---EEG Spectral Parameterisation------------------------------------\n",
      "Not setting metadata\n",
      "94 matching events found\n",
      "No baseline correction applied\n",
      "0 projection items activated\n",
      "Effective window size : 1.000 (s)\n",
      "Fitting model across 3 power spectra.\n",
      "Effective window size : 1.000 (s)\n"
     ]
    },
    {
     "name": "stderr",
     "output_type": "stream",
     "text": [
      "/var/folders/_3/08zshp4n3z1_glk6l5vgyqz40000gn/T/ipykernel_65336/3824075881.py:68: UserWarning: SpecParam Fit Issues\n",
      "  warnings.warn(f'SpecParam Fit Issues', UserWarning)\n"
     ]
    },
    {
     "name": "stdout",
     "output_type": "stream",
     "text": [
      "Fitting model across 61 power spectra.\n",
      "\n",
      "-----------------------------------------------------------------------------------------------\n",
      "Subject: sub-052\n",
      "---Get EEG Preprocessed Data - FIF ----------------------------------\n",
      "---EEG Spectral Parameterisation------------------------------------\n",
      "Not setting metadata\n",
      "130 matching events found\n",
      "No baseline correction applied\n",
      "0 projection items activated\n",
      "Effective window size : 1.000 (s)\n",
      "Fitting model across 3 power spectra.\n"
     ]
    },
    {
     "name": "stderr",
     "output_type": "stream",
     "text": [
      "/var/folders/_3/08zshp4n3z1_glk6l5vgyqz40000gn/T/ipykernel_65336/3824075881.py:68: UserWarning: SpecParam Fit Issues\n",
      "  warnings.warn(f'SpecParam Fit Issues', UserWarning)\n"
     ]
    },
    {
     "name": "stdout",
     "output_type": "stream",
     "text": [
      "Effective window size : 1.000 (s)\n",
      "Fitting model across 61 power spectra.\n",
      "\n",
      "-----------------------------------------------------------------------------------------------\n",
      "Subject: sub-053\n",
      "---Get EEG Preprocessed Data - FIF ----------------------------------\n",
      "---EEG Spectral Parameterisation------------------------------------\n",
      "Not setting metadata\n",
      "120 matching events found\n",
      "No baseline correction applied\n",
      "0 projection items activated\n",
      "Effective window size : 1.000 (s)\n",
      "Fitting model across 3 power spectra.\n",
      "Effective window size : 1.000 (s)\n"
     ]
    },
    {
     "name": "stderr",
     "output_type": "stream",
     "text": [
      "/var/folders/_3/08zshp4n3z1_glk6l5vgyqz40000gn/T/ipykernel_65336/3824075881.py:68: UserWarning: SpecParam Fit Issues\n",
      "  warnings.warn(f'SpecParam Fit Issues', UserWarning)\n"
     ]
    },
    {
     "name": "stdout",
     "output_type": "stream",
     "text": [
      "Fitting model across 61 power spectra.\n",
      "\n",
      "-----------------------------------------------------------------------------------------------\n",
      "Subject: sub-054\n",
      "---Get EEG Preprocessed Data - FIF ----------------------------------\n",
      "---EEG Spectral Parameterisation------------------------------------\n",
      "Not setting metadata\n",
      "125 matching events found\n",
      "No baseline correction applied\n",
      "0 projection items activated\n",
      "Effective window size : 1.000 (s)\n",
      "Fitting model across 3 power spectra.\n"
     ]
    },
    {
     "name": "stderr",
     "output_type": "stream",
     "text": [
      "/var/folders/_3/08zshp4n3z1_glk6l5vgyqz40000gn/T/ipykernel_65336/3824075881.py:68: UserWarning: SpecParam Fit Issues\n",
      "  warnings.warn(f'SpecParam Fit Issues', UserWarning)\n"
     ]
    },
    {
     "name": "stdout",
     "output_type": "stream",
     "text": [
      "Effective window size : 1.000 (s)\n",
      "Fitting model across 61 power spectra.\n",
      "\n",
      "-----------------------------------------------------------------------------------------------\n",
      "Subject: sub-055\n",
      "---Get EEG Preprocessed Data - FIF ----------------------------------\n",
      "---EEG Spectral Parameterisation------------------------------------\n",
      "Not setting metadata\n",
      "124 matching events found\n",
      "No baseline correction applied\n",
      "0 projection items activated\n",
      "Effective window size : 1.000 (s)\n",
      "Fitting model across 3 power spectra.\n",
      "Effective window size : 1.000 (s)\n",
      "Fitting model across 61 power spectra.\n",
      "\n",
      "-----------------------------------------------------------------------------------------------\n",
      "Subject: sub-056\n",
      "---Get EEG Preprocessed Data - FIF ----------------------------------\n",
      "---EEG Spectral Parameterisation------------------------------------\n",
      "Not setting metadata\n",
      "138 matching events found\n",
      "No baseline correction applied\n",
      "0 projection items activated\n",
      "Effective window size : 1.000 (s)\n",
      "Fitting model across 3 power spectra.\n",
      "Effective window size : 1.000 (s)\n",
      "Fitting model across 61 power spectra.\n",
      "\n",
      "-----------------------------------------------------------------------------------------------\n",
      "Subject: sub-057\n",
      "---Get EEG Preprocessed Data - FIF ----------------------------------\n",
      "---EEG Spectral Parameterisation------------------------------------\n",
      "Not setting metadata\n",
      "119 matching events found\n",
      "No baseline correction applied\n",
      "0 projection items activated\n",
      "Effective window size : 1.000 (s)\n",
      "Fitting model across 3 power spectra.\n",
      "Effective window size : 1.000 (s)\n",
      "Fitting model across 61 power spectra.\n",
      "\n",
      "-----------------------------------------------------------------------------------------------\n",
      "Subject: sub-058\n",
      "---Get EEG Preprocessed Data - FIF ----------------------------------\n",
      "---EEG Spectral Parameterisation------------------------------------\n",
      "Not setting metadata\n",
      "125 matching events found\n",
      "No baseline correction applied\n",
      "0 projection items activated\n",
      "Effective window size : 1.000 (s)\n",
      "Fitting model across 3 power spectra.\n",
      "Effective window size : 1.000 (s)\n"
     ]
    },
    {
     "name": "stderr",
     "output_type": "stream",
     "text": [
      "/var/folders/_3/08zshp4n3z1_glk6l5vgyqz40000gn/T/ipykernel_65336/3824075881.py:68: UserWarning: SpecParam Fit Issues\n",
      "  warnings.warn(f'SpecParam Fit Issues', UserWarning)\n"
     ]
    },
    {
     "name": "stdout",
     "output_type": "stream",
     "text": [
      "Fitting model across 61 power spectra.\n",
      "\n",
      "-----------------------------------------------------------------------------------------------\n",
      "Subject: sub-059\n",
      "---Get EEG Preprocessed Data - FIF ----------------------------------\n",
      "---EEG Spectral Parameterisation------------------------------------\n",
      "Not setting metadata\n",
      "133 matching events found\n",
      "No baseline correction applied\n",
      "0 projection items activated\n",
      "Effective window size : 1.000 (s)\n",
      "Fitting model across 3 power spectra.\n",
      "Effective window size : 1.000 (s)\n",
      "Fitting model across 61 power spectra.\n",
      "\n",
      "-----------------------------------------------------------------------------------------------\n",
      "Subject: sub-060\n",
      "---Get EEG Preprocessed Data - FIF ----------------------------------\n",
      "---EEG Spectral Parameterisation------------------------------------\n",
      "Not setting metadata\n",
      "146 matching events found\n",
      "No baseline correction applied\n",
      "0 projection items activated\n",
      "Effective window size : 1.000 (s)\n",
      "Fitting model across 3 power spectra.\n",
      "Effective window size : 1.000 (s)\n",
      "Fitting model across 61 power spectra.\n",
      "\n",
      "-----------------------------------------------------------------------------------------------\n",
      "Subject: sub-061\n",
      "---Get EEG Preprocessed Data - FIF ----------------------------------\n",
      "---EEG Spectral Parameterisation------------------------------------\n",
      "Not setting metadata\n",
      "125 matching events found\n",
      "No baseline correction applied\n",
      "0 projection items activated\n",
      "Effective window size : 1.000 (s)\n",
      "Fitting model across 3 power spectra.\n",
      "Effective window size : 1.000 (s)\n",
      "Fitting model across 61 power spectra.\n",
      "\n",
      "-----------------------------------------------------------------------------------------------\n",
      "Subject: sub-062\n",
      "---Get EEG Preprocessed Data - FIF ----------------------------------\n",
      "---EEG Spectral Parameterisation------------------------------------\n",
      "Not setting metadata\n",
      "125 matching events found\n",
      "No baseline correction applied\n",
      "0 projection items activated\n",
      "Effective window size : 1.000 (s)\n",
      "Fitting model across 3 power spectra.\n",
      "Effective window size : 1.000 (s)\n",
      "Fitting model across 61 power spectra.\n",
      "\n",
      "-----------------------------------------------------------------------------------------------\n",
      "Subject: sub-063\n",
      "---Get EEG Preprocessed Data - FIF ----------------------------------\n",
      "---EEG Spectral Parameterisation------------------------------------\n",
      "Not setting metadata\n",
      "150 matching events found\n",
      "No baseline correction applied\n",
      "0 projection items activated\n",
      "Effective window size : 1.000 (s)\n",
      "Fitting model across 3 power spectra.\n",
      "Effective window size : 1.000 (s)\n",
      "Fitting model across 61 power spectra.\n",
      "\n",
      "-----------------------------------------------------------------------------------------------\n",
      "Subject: sub-064\n",
      "---Get EEG Preprocessed Data - FIF ----------------------------------\n",
      "---EEG Spectral Parameterisation------------------------------------\n",
      "Not setting metadata\n",
      "152 matching events found\n",
      "No baseline correction applied\n",
      "0 projection items activated\n",
      "Effective window size : 1.000 (s)\n",
      "Fitting model across 3 power spectra.\n"
     ]
    },
    {
     "name": "stderr",
     "output_type": "stream",
     "text": [
      "/var/folders/_3/08zshp4n3z1_glk6l5vgyqz40000gn/T/ipykernel_65336/3824075881.py:68: UserWarning: SpecParam Fit Issues\n",
      "  warnings.warn(f'SpecParam Fit Issues', UserWarning)\n"
     ]
    },
    {
     "name": "stdout",
     "output_type": "stream",
     "text": [
      "Effective window size : 1.000 (s)\n",
      "Fitting model across 61 power spectra.\n",
      "\n",
      "-----------------------------------------------------------------------------------------------\n",
      "Subject: sub-065\n",
      "---Get EEG Preprocessed Data - FIF ----------------------------------\n",
      "---EEG Spectral Parameterisation------------------------------------\n",
      "Not setting metadata\n",
      "99 matching events found\n",
      "No baseline correction applied\n",
      "0 projection items activated\n",
      "Effective window size : 1.000 (s)\n",
      "Fitting model across 3 power spectra.\n"
     ]
    },
    {
     "name": "stderr",
     "output_type": "stream",
     "text": [
      "/var/folders/_3/08zshp4n3z1_glk6l5vgyqz40000gn/T/ipykernel_65336/3824075881.py:68: UserWarning: SpecParam Fit Issues\n",
      "  warnings.warn(f'SpecParam Fit Issues', UserWarning)\n"
     ]
    },
    {
     "name": "stdout",
     "output_type": "stream",
     "text": [
      "Effective window size : 1.000 (s)\n",
      "Fitting model across 61 power spectra.\n",
      "\n",
      "-----------------------------------------------------------------------------------------------\n",
      "Subject: sub-066\n",
      "---Get EEG Preprocessed Data - FIF ----------------------------------\n",
      "---EEG Spectral Parameterisation------------------------------------\n",
      "Not setting metadata\n",
      "83 matching events found\n",
      "No baseline correction applied\n",
      "0 projection items activated\n",
      "Effective window size : 1.000 (s)\n",
      "Fitting model across 3 power spectra.\n",
      "Effective window size : 1.000 (s)\n"
     ]
    },
    {
     "name": "stderr",
     "output_type": "stream",
     "text": [
      "/var/folders/_3/08zshp4n3z1_glk6l5vgyqz40000gn/T/ipykernel_65336/3824075881.py:68: UserWarning: SpecParam Fit Issues\n",
      "  warnings.warn(f'SpecParam Fit Issues', UserWarning)\n"
     ]
    },
    {
     "name": "stdout",
     "output_type": "stream",
     "text": [
      "Fitting model across 61 power spectra.\n",
      "\n",
      "-----------------------------------------------------------------------------------------------\n",
      "Subject: sub-067\n",
      "---Get EEG Preprocessed Data - FIF ----------------------------------\n",
      "---EEG Spectral Parameterisation------------------------------------\n",
      "Not setting metadata\n",
      "128 matching events found\n",
      "No baseline correction applied\n",
      "0 projection items activated\n",
      "Effective window size : 1.000 (s)\n",
      "Fitting model across 3 power spectra.\n"
     ]
    },
    {
     "name": "stderr",
     "output_type": "stream",
     "text": [
      "/var/folders/_3/08zshp4n3z1_glk6l5vgyqz40000gn/T/ipykernel_65336/3824075881.py:68: UserWarning: SpecParam Fit Issues\n",
      "  warnings.warn(f'SpecParam Fit Issues', UserWarning)\n"
     ]
    },
    {
     "name": "stdout",
     "output_type": "stream",
     "text": [
      "Effective window size : 1.000 (s)\n",
      "Fitting model across 61 power spectra.\n",
      "\n",
      "-----------------------------------------------------------------------------------------------\n",
      "Subject: sub-068\n",
      "---Get EEG Preprocessed Data - FIF ----------------------------------\n",
      "---EEG Spectral Parameterisation------------------------------------\n",
      "Not setting metadata\n",
      "69 matching events found\n",
      "No baseline correction applied\n",
      "0 projection items activated\n",
      "Effective window size : 1.000 (s)\n",
      "Fitting model across 3 power spectra.\n",
      "Effective window size : 1.000 (s)\n",
      "Fitting model across 61 power spectra.\n",
      "\n",
      "-----------------------------------------------------------------------------------------------\n",
      "Subject: sub-069\n",
      "---Get EEG Preprocessed Data - FIF ----------------------------------\n",
      "---EEG Spectral Parameterisation------------------------------------\n",
      "Not setting metadata\n",
      "119 matching events found\n",
      "No baseline correction applied\n",
      "0 projection items activated\n",
      "Effective window size : 1.000 (s)\n",
      "Fitting model across 3 power spectra.\n",
      "Effective window size : 1.000 (s)\n"
     ]
    },
    {
     "name": "stderr",
     "output_type": "stream",
     "text": [
      "/var/folders/_3/08zshp4n3z1_glk6l5vgyqz40000gn/T/ipykernel_65336/3824075881.py:68: UserWarning: SpecParam Fit Issues\n",
      "  warnings.warn(f'SpecParam Fit Issues', UserWarning)\n"
     ]
    },
    {
     "name": "stdout",
     "output_type": "stream",
     "text": [
      "Fitting model across 61 power spectra.\n",
      "\n",
      "-----------------------------------------------------------------------------------------------\n",
      "Subject: sub-070\n",
      "---Get EEG Preprocessed Data - FIF ----------------------------------\n",
      "---EEG Spectral Parameterisation------------------------------------\n",
      "Not setting metadata\n",
      "121 matching events found\n",
      "No baseline correction applied\n",
      "0 projection items activated\n",
      "Effective window size : 1.000 (s)\n",
      "Fitting model across 3 power spectra.\n"
     ]
    },
    {
     "name": "stderr",
     "output_type": "stream",
     "text": [
      "/var/folders/_3/08zshp4n3z1_glk6l5vgyqz40000gn/T/ipykernel_65336/3824075881.py:68: UserWarning: SpecParam Fit Issues\n",
      "  warnings.warn(f'SpecParam Fit Issues', UserWarning)\n"
     ]
    },
    {
     "name": "stdout",
     "output_type": "stream",
     "text": [
      "Effective window size : 1.000 (s)\n",
      "Fitting model across 61 power spectra.\n",
      "\n",
      "-----------------------------------------------------------------------------------------------\n",
      "Subject: sub-071\n",
      "---Get EEG Preprocessed Data - FIF ----------------------------------\n",
      "---EEG Spectral Parameterisation------------------------------------\n",
      "Not setting metadata\n",
      "134 matching events found\n",
      "No baseline correction applied\n",
      "0 projection items activated\n",
      "Effective window size : 1.000 (s)\n",
      "Fitting model across 3 power spectra.\n",
      "Effective window size : 1.000 (s)\n",
      "Fitting model across 61 power spectra.\n",
      "\n",
      "-----------------------------------------------------------------------------------------------\n",
      "Subject: sub-072\n",
      "---Get EEG Preprocessed Data - FIF ----------------------------------\n",
      "---EEG Spectral Parameterisation------------------------------------\n",
      "Not setting metadata\n",
      "146 matching events found\n",
      "No baseline correction applied\n",
      "0 projection items activated\n",
      "Effective window size : 1.000 (s)\n",
      "Fitting model across 3 power spectra.\n"
     ]
    },
    {
     "name": "stderr",
     "output_type": "stream",
     "text": [
      "/var/folders/_3/08zshp4n3z1_glk6l5vgyqz40000gn/T/ipykernel_65336/3824075881.py:68: UserWarning: SpecParam Fit Issues\n",
      "  warnings.warn(f'SpecParam Fit Issues', UserWarning)\n"
     ]
    },
    {
     "name": "stdout",
     "output_type": "stream",
     "text": [
      "Effective window size : 1.000 (s)\n",
      "Fitting model across 61 power spectra.\n",
      "\n",
      "-----------------------------------------------------------------------------------------------\n",
      "Subject: sub-073\n",
      "---Get EEG Preprocessed Data - FIF ----------------------------------\n",
      "---EEG Spectral Parameterisation------------------------------------\n",
      "Not setting metadata\n",
      "133 matching events found\n",
      "No baseline correction applied\n",
      "0 projection items activated\n",
      "Effective window size : 1.000 (s)\n",
      "Fitting model across 3 power spectra.\n"
     ]
    },
    {
     "name": "stderr",
     "output_type": "stream",
     "text": [
      "/var/folders/_3/08zshp4n3z1_glk6l5vgyqz40000gn/T/ipykernel_65336/3824075881.py:68: UserWarning: SpecParam Fit Issues\n",
      "  warnings.warn(f'SpecParam Fit Issues', UserWarning)\n"
     ]
    },
    {
     "name": "stdout",
     "output_type": "stream",
     "text": [
      "Effective window size : 1.000 (s)\n",
      "Fitting model across 61 power spectra.\n",
      "\n",
      "-----------------------------------------------------------------------------------------------\n",
      "Subject: sub-074\n",
      "---Get EEG Preprocessed Data - FIF ----------------------------------\n",
      "---EEG Spectral Parameterisation------------------------------------\n",
      "Not setting metadata\n",
      "121 matching events found\n",
      "No baseline correction applied\n",
      "0 projection items activated\n",
      "Effective window size : 1.000 (s)\n",
      "Fitting model across 3 power spectra.\n",
      "Effective window size : 1.000 (s)\n"
     ]
    },
    {
     "name": "stderr",
     "output_type": "stream",
     "text": [
      "/var/folders/_3/08zshp4n3z1_glk6l5vgyqz40000gn/T/ipykernel_65336/3824075881.py:68: UserWarning: SpecParam Fit Issues\n",
      "  warnings.warn(f'SpecParam Fit Issues', UserWarning)\n"
     ]
    },
    {
     "name": "stdout",
     "output_type": "stream",
     "text": [
      "Fitting model across 61 power spectra.\n",
      "\n",
      "-----------------------------------------------------------------------------------------------\n",
      "Subject: sub-075\n",
      "---Get EEG Preprocessed Data - FIF ----------------------------------\n",
      "---EEG Spectral Parameterisation------------------------------------\n",
      "Not setting metadata\n",
      "123 matching events found\n",
      "No baseline correction applied\n",
      "0 projection items activated\n",
      "Effective window size : 1.000 (s)\n",
      "Fitting model across 3 power spectra.\n"
     ]
    },
    {
     "name": "stderr",
     "output_type": "stream",
     "text": [
      "/var/folders/_3/08zshp4n3z1_glk6l5vgyqz40000gn/T/ipykernel_65336/3824075881.py:68: UserWarning: SpecParam Fit Issues\n",
      "  warnings.warn(f'SpecParam Fit Issues', UserWarning)\n"
     ]
    },
    {
     "name": "stdout",
     "output_type": "stream",
     "text": [
      "Effective window size : 1.000 (s)\n"
     ]
    },
    {
     "name": "stderr",
     "output_type": "stream",
     "text": [
      "/var/folders/_3/08zshp4n3z1_glk6l5vgyqz40000gn/T/ipykernel_65336/3824075881.py:68: UserWarning: SpecParam Fit Issues\n",
      "  warnings.warn(f'SpecParam Fit Issues', UserWarning)\n"
     ]
    },
    {
     "name": "stdout",
     "output_type": "stream",
     "text": [
      "Fitting model across 61 power spectra.\n",
      "\n",
      "-----------------------------------------------------------------------------------------------\n",
      "Subject: sub-076\n",
      "---Get EEG Preprocessed Data - FIF ----------------------------------\n",
      "---EEG Spectral Parameterisation------------------------------------\n",
      "Not setting metadata\n",
      "125 matching events found\n",
      "No baseline correction applied\n",
      "0 projection items activated\n",
      "Effective window size : 1.000 (s)\n",
      "Fitting model across 3 power spectra.\n",
      "Effective window size : 1.000 (s)\n",
      "Fitting model across 61 power spectra.\n",
      "\n",
      "-----------------------------------------------------------------------------------------------\n",
      "Subject: sub-077\n",
      "---Get EEG Preprocessed Data - FIF ----------------------------------\n",
      "---EEG Spectral Parameterisation------------------------------------\n",
      "Not setting metadata\n",
      "128 matching events found\n",
      "No baseline correction applied\n",
      "0 projection items activated\n",
      "Effective window size : 1.000 (s)\n",
      "Fitting model across 3 power spectra.\n"
     ]
    },
    {
     "name": "stderr",
     "output_type": "stream",
     "text": [
      "/var/folders/_3/08zshp4n3z1_glk6l5vgyqz40000gn/T/ipykernel_65336/3824075881.py:68: UserWarning: SpecParam Fit Issues\n",
      "  warnings.warn(f'SpecParam Fit Issues', UserWarning)\n"
     ]
    },
    {
     "name": "stdout",
     "output_type": "stream",
     "text": [
      "Effective window size : 1.000 (s)\n",
      "Fitting model across 61 power spectra.\n",
      "\n",
      "-----------------------------------------------------------------------------------------------\n",
      "Subject: sub-078\n",
      "---Get EEG Preprocessed Data - FIF ----------------------------------\n",
      "---EEG Spectral Parameterisation------------------------------------\n",
      "Not setting metadata\n",
      "141 matching events found\n",
      "No baseline correction applied\n",
      "0 projection items activated\n",
      "Effective window size : 1.000 (s)\n",
      "Fitting model across 3 power spectra.\n",
      "Effective window size : 1.000 (s)\n",
      "Fitting model across 61 power spectra.\n",
      "\n",
      "-----------------------------------------------------------------------------------------------\n",
      "Subject: sub-079\n",
      "---Get EEG Preprocessed Data - FIF ----------------------------------\n",
      "---EEG Spectral Parameterisation------------------------------------\n",
      "Not setting metadata\n",
      "155 matching events found\n",
      "No baseline correction applied\n",
      "0 projection items activated\n",
      "Effective window size : 1.000 (s)\n",
      "Fitting model across 3 power spectra.\n"
     ]
    },
    {
     "name": "stderr",
     "output_type": "stream",
     "text": [
      "/var/folders/_3/08zshp4n3z1_glk6l5vgyqz40000gn/T/ipykernel_65336/3824075881.py:68: UserWarning: SpecParam Fit Issues\n",
      "  warnings.warn(f'SpecParam Fit Issues', UserWarning)\n"
     ]
    },
    {
     "name": "stdout",
     "output_type": "stream",
     "text": [
      "Effective window size : 1.000 (s)\n",
      "Fitting model across 61 power spectra.\n",
      "\n",
      "-----------------------------------------------------------------------------------------------\n",
      "Subject: sub-080\n",
      "---Get EEG Preprocessed Data - FIF ----------------------------------\n",
      "---EEG Spectral Parameterisation------------------------------------\n",
      "Not setting metadata\n",
      "147 matching events found\n",
      "No baseline correction applied\n",
      "0 projection items activated\n",
      "Effective window size : 1.000 (s)\n",
      "Fitting model across 3 power spectra.\n"
     ]
    },
    {
     "name": "stderr",
     "output_type": "stream",
     "text": [
      "/var/folders/_3/08zshp4n3z1_glk6l5vgyqz40000gn/T/ipykernel_65336/3824075881.py:68: UserWarning: SpecParam Fit Issues\n",
      "  warnings.warn(f'SpecParam Fit Issues', UserWarning)\n"
     ]
    },
    {
     "name": "stdout",
     "output_type": "stream",
     "text": [
      "Effective window size : 1.000 (s)\n",
      "Fitting model across 61 power spectra.\n",
      "\n",
      "-----------------------------------------------------------------------------------------------\n",
      "Subject: sub-081\n",
      "---Get EEG Preprocessed Data - FIF ----------------------------------\n",
      "---EEG Spectral Parameterisation------------------------------------\n",
      "Not setting metadata\n",
      "131 matching events found\n",
      "No baseline correction applied\n",
      "0 projection items activated\n",
      "Effective window size : 1.000 (s)\n",
      "Fitting model across 3 power spectra.\n",
      "Effective window size : 1.000 (s)\n",
      "Fitting model across 61 power spectra.\n",
      "\n",
      "-----------------------------------------------------------------------------------------------\n",
      "Subject: sub-082\n",
      "---Get EEG Preprocessed Data - FIF ----------------------------------\n",
      "---EEG Spectral Parameterisation------------------------------------\n",
      "Not setting metadata\n",
      "159 matching events found\n",
      "No baseline correction applied\n",
      "0 projection items activated\n",
      "Effective window size : 1.000 (s)\n",
      "Fitting model across 3 power spectra.\n"
     ]
    },
    {
     "name": "stderr",
     "output_type": "stream",
     "text": [
      "/var/folders/_3/08zshp4n3z1_glk6l5vgyqz40000gn/T/ipykernel_65336/3824075881.py:68: UserWarning: SpecParam Fit Issues\n",
      "  warnings.warn(f'SpecParam Fit Issues', UserWarning)\n"
     ]
    },
    {
     "name": "stdout",
     "output_type": "stream",
     "text": [
      "Effective window size : 1.000 (s)\n"
     ]
    },
    {
     "name": "stderr",
     "output_type": "stream",
     "text": [
      "/var/folders/_3/08zshp4n3z1_glk6l5vgyqz40000gn/T/ipykernel_65336/3824075881.py:68: UserWarning: SpecParam Fit Issues\n",
      "  warnings.warn(f'SpecParam Fit Issues', UserWarning)\n"
     ]
    },
    {
     "name": "stdout",
     "output_type": "stream",
     "text": [
      "Fitting model across 61 power spectra.\n",
      "\n",
      "-----------------------------------------------------------------------------------------------\n",
      "Subject: sub-083\n",
      "---Get EEG Preprocessed Data - FIF ----------------------------------\n",
      "---EEG Spectral Parameterisation------------------------------------\n",
      "Not setting metadata\n",
      "183 matching events found\n",
      "No baseline correction applied\n",
      "0 projection items activated\n",
      "Effective window size : 1.000 (s)\n",
      "Fitting model across 3 power spectra.\n"
     ]
    },
    {
     "name": "stderr",
     "output_type": "stream",
     "text": [
      "/var/folders/_3/08zshp4n3z1_glk6l5vgyqz40000gn/T/ipykernel_65336/3824075881.py:68: UserWarning: SpecParam Fit Issues\n",
      "  warnings.warn(f'SpecParam Fit Issues', UserWarning)\n"
     ]
    },
    {
     "name": "stdout",
     "output_type": "stream",
     "text": [
      "Effective window size : 1.000 (s)\n"
     ]
    },
    {
     "name": "stderr",
     "output_type": "stream",
     "text": [
      "/var/folders/_3/08zshp4n3z1_glk6l5vgyqz40000gn/T/ipykernel_65336/3824075881.py:68: UserWarning: SpecParam Fit Issues\n",
      "  warnings.warn(f'SpecParam Fit Issues', UserWarning)\n"
     ]
    },
    {
     "name": "stdout",
     "output_type": "stream",
     "text": [
      "Fitting model across 61 power spectra.\n",
      "\n",
      "-----------------------------------------------------------------------------------------------\n",
      "Subject: sub-084\n",
      "---Get EEG Preprocessed Data - FIF ----------------------------------\n",
      "---EEG Spectral Parameterisation------------------------------------\n",
      "Not setting metadata\n",
      "110 matching events found\n",
      "No baseline correction applied\n",
      "0 projection items activated\n",
      "Effective window size : 1.000 (s)\n",
      "Fitting model across 3 power spectra.\n"
     ]
    },
    {
     "name": "stderr",
     "output_type": "stream",
     "text": [
      "/var/folders/_3/08zshp4n3z1_glk6l5vgyqz40000gn/T/ipykernel_65336/3824075881.py:68: UserWarning: SpecParam Fit Issues\n",
      "  warnings.warn(f'SpecParam Fit Issues', UserWarning)\n"
     ]
    },
    {
     "name": "stdout",
     "output_type": "stream",
     "text": [
      "Effective window size : 1.000 (s)\n",
      "Fitting model across 61 power spectra.\n",
      "\n",
      "-----------------------------------------------------------------------------------------------\n",
      "Subject: sub-085\n",
      "---Get EEG Preprocessed Data - FIF ----------------------------------\n",
      "---EEG Spectral Parameterisation------------------------------------\n",
      "Not setting metadata\n",
      "127 matching events found\n",
      "No baseline correction applied\n",
      "0 projection items activated\n",
      "Effective window size : 1.000 (s)\n",
      "Fitting model across 3 power spectra.\n"
     ]
    },
    {
     "name": "stderr",
     "output_type": "stream",
     "text": [
      "/var/folders/_3/08zshp4n3z1_glk6l5vgyqz40000gn/T/ipykernel_65336/3824075881.py:68: UserWarning: SpecParam Fit Issues\n",
      "  warnings.warn(f'SpecParam Fit Issues', UserWarning)\n"
     ]
    },
    {
     "name": "stdout",
     "output_type": "stream",
     "text": [
      "Effective window size : 1.000 (s)\n",
      "Fitting model across 61 power spectra.\n",
      "\n",
      "-----------------------------------------------------------------------------------------------\n",
      "Subject: sub-086\n",
      "---Get EEG Preprocessed Data - FIF ----------------------------------\n",
      "---EEG Spectral Parameterisation------------------------------------\n",
      "Not setting metadata\n",
      "155 matching events found\n",
      "No baseline correction applied\n",
      "0 projection items activated\n",
      "Effective window size : 1.000 (s)\n",
      "Fitting model across 3 power spectra.\n",
      "Effective window size : 1.000 (s)\n",
      "Fitting model across 61 power spectra.\n",
      "\n",
      "-----------------------------------------------------------------------------------------------\n",
      "Subject: sub-087\n",
      "---Get EEG Preprocessed Data - FIF ----------------------------------\n",
      "---EEG Spectral Parameterisation------------------------------------\n",
      "Not setting metadata\n",
      "101 matching events found\n",
      "No baseline correction applied\n",
      "0 projection items activated\n",
      "Effective window size : 1.000 (s)\n",
      "Fitting model across 3 power spectra.\n",
      "Effective window size : 1.000 (s)\n"
     ]
    },
    {
     "name": "stderr",
     "output_type": "stream",
     "text": [
      "/var/folders/_3/08zshp4n3z1_glk6l5vgyqz40000gn/T/ipykernel_65336/3824075881.py:68: UserWarning: SpecParam Fit Issues\n",
      "  warnings.warn(f'SpecParam Fit Issues', UserWarning)\n"
     ]
    },
    {
     "name": "stdout",
     "output_type": "stream",
     "text": [
      "Fitting model across 61 power spectra.\n",
      "\n",
      "-----------------------------------------------------------------------------------------------\n",
      "Subject: sub-088\n",
      "---Get EEG Preprocessed Data - FIF ----------------------------------\n",
      "---EEG Spectral Parameterisation------------------------------------\n",
      "Not setting metadata\n",
      "121 matching events found\n",
      "No baseline correction applied\n",
      "0 projection items activated\n",
      "Effective window size : 1.000 (s)\n",
      "Fitting model across 3 power spectra.\n"
     ]
    },
    {
     "name": "stderr",
     "output_type": "stream",
     "text": [
      "/var/folders/_3/08zshp4n3z1_glk6l5vgyqz40000gn/T/ipykernel_65336/3824075881.py:68: UserWarning: SpecParam Fit Issues\n",
      "  warnings.warn(f'SpecParam Fit Issues', UserWarning)\n"
     ]
    },
    {
     "name": "stdout",
     "output_type": "stream",
     "text": [
      "Effective window size : 1.000 (s)\n",
      "Fitting model across 61 power spectra.\n",
      "\n",
      "-----------------------------------------------------------------------------------------------\n",
      "Subject: sub-089\n",
      "---Get EEG Preprocessed Data - FIF ----------------------------------\n",
      "---EEG Spectral Parameterisation------------------------------------\n",
      "Not setting metadata\n",
      "130 matching events found\n",
      "No baseline correction applied\n",
      "0 projection items activated\n",
      "Effective window size : 1.000 (s)\n",
      "Fitting model across 3 power spectra.\n"
     ]
    },
    {
     "name": "stderr",
     "output_type": "stream",
     "text": [
      "/var/folders/_3/08zshp4n3z1_glk6l5vgyqz40000gn/T/ipykernel_65336/3824075881.py:68: UserWarning: SpecParam Fit Issues\n",
      "  warnings.warn(f'SpecParam Fit Issues', UserWarning)\n"
     ]
    },
    {
     "name": "stdout",
     "output_type": "stream",
     "text": [
      "Effective window size : 1.000 (s)\n",
      "Fitting model across 61 power spectra.\n",
      "\n",
      "-----------------------------------------------------------------------------------------------\n",
      "Subject: sub-090\n",
      "---Get EEG Preprocessed Data - FIF ----------------------------------\n",
      "---EEG Spectral Parameterisation------------------------------------\n",
      "Not setting metadata\n",
      "137 matching events found\n",
      "No baseline correction applied\n",
      "0 projection items activated\n",
      "Effective window size : 1.000 (s)\n",
      "Fitting model across 3 power spectra.\n"
     ]
    },
    {
     "name": "stderr",
     "output_type": "stream",
     "text": [
      "/var/folders/_3/08zshp4n3z1_glk6l5vgyqz40000gn/T/ipykernel_65336/3824075881.py:68: UserWarning: SpecParam Fit Issues\n",
      "  warnings.warn(f'SpecParam Fit Issues', UserWarning)\n"
     ]
    },
    {
     "name": "stdout",
     "output_type": "stream",
     "text": [
      "Effective window size : 1.000 (s)\n",
      "Fitting model across 61 power spectra.\n",
      "\n",
      "-----------------------------------------------------------------------------------------------\n",
      "Subject: sub-091\n",
      "---Get EEG Preprocessed Data - FIF ----------------------------------\n",
      "---EEG Spectral Parameterisation------------------------------------\n",
      "Not setting metadata\n",
      "121 matching events found\n",
      "No baseline correction applied\n",
      "0 projection items activated\n",
      "Effective window size : 1.000 (s)\n",
      "Fitting model across 3 power spectra.\n"
     ]
    },
    {
     "name": "stderr",
     "output_type": "stream",
     "text": [
      "/var/folders/_3/08zshp4n3z1_glk6l5vgyqz40000gn/T/ipykernel_65336/3824075881.py:68: UserWarning: SpecParam Fit Issues\n",
      "  warnings.warn(f'SpecParam Fit Issues', UserWarning)\n"
     ]
    },
    {
     "name": "stdout",
     "output_type": "stream",
     "text": [
      "Effective window size : 1.000 (s)\n",
      "Fitting model across 61 power spectra.\n",
      "\n",
      "-----------------------------------------------------------------------------------------------\n",
      "Subject: sub-092\n",
      "---Get EEG Preprocessed Data - FIF ----------------------------------\n",
      "---EEG Spectral Parameterisation------------------------------------\n",
      "Not setting metadata\n",
      "116 matching events found\n",
      "No baseline correction applied\n",
      "0 projection items activated\n",
      "Effective window size : 1.000 (s)\n",
      "Fitting model across 3 power spectra.\n",
      "Effective window size : 1.000 (s)\n",
      "Fitting model across 61 power spectra.\n",
      "\n",
      "-----------------------------------------------------------------------------------------------\n",
      "Subject: sub-093\n",
      "---Get EEG Preprocessed Data - FIF ----------------------------------\n",
      "---EEG Spectral Parameterisation------------------------------------\n",
      "Not setting metadata\n",
      "113 matching events found\n",
      "No baseline correction applied\n",
      "0 projection items activated\n",
      "Effective window size : 1.000 (s)\n",
      "Fitting model across 3 power spectra.\n",
      "Effective window size : 1.000 (s)\n",
      "Fitting model across 61 power spectra.\n",
      "\n",
      "-----------------------------------------------------------------------------------------------\n",
      "Subject: sub-094\n",
      "---Get EEG Preprocessed Data - FIF ----------------------------------\n",
      "---EEG Spectral Parameterisation------------------------------------\n",
      "Not setting metadata\n",
      "143 matching events found\n",
      "No baseline correction applied\n",
      "0 projection items activated\n",
      "Effective window size : 1.000 (s)\n",
      "Fitting model across 3 power spectra.\n"
     ]
    },
    {
     "name": "stderr",
     "output_type": "stream",
     "text": [
      "/var/folders/_3/08zshp4n3z1_glk6l5vgyqz40000gn/T/ipykernel_65336/3824075881.py:68: UserWarning: SpecParam Fit Issues\n",
      "  warnings.warn(f'SpecParam Fit Issues', UserWarning)\n"
     ]
    },
    {
     "name": "stdout",
     "output_type": "stream",
     "text": [
      "Effective window size : 1.000 (s)\n",
      "Fitting model across 61 power spectra.\n",
      "\n",
      "-----------------------------------------------------------------------------------------------\n",
      "Subject: sub-095\n",
      "---Get EEG Preprocessed Data - FIF ----------------------------------\n",
      "---EEG Spectral Parameterisation------------------------------------\n",
      "Not setting metadata\n",
      "99 matching events found\n",
      "No baseline correction applied\n",
      "0 projection items activated\n",
      "Effective window size : 1.000 (s)\n",
      "Fitting model across 3 power spectra.\n",
      "Effective window size : 1.000 (s)\n"
     ]
    },
    {
     "name": "stderr",
     "output_type": "stream",
     "text": [
      "/var/folders/_3/08zshp4n3z1_glk6l5vgyqz40000gn/T/ipykernel_65336/3824075881.py:68: UserWarning: SpecParam Fit Issues\n",
      "  warnings.warn(f'SpecParam Fit Issues', UserWarning)\n"
     ]
    },
    {
     "name": "stdout",
     "output_type": "stream",
     "text": [
      "Fitting model across 61 power spectra.\n",
      "\n",
      "-----------------------------------------------------------------------------------------------\n",
      "Subject: sub-096\n",
      "---Get EEG Preprocessed Data - FIF ----------------------------------\n",
      "---EEG Spectral Parameterisation------------------------------------\n",
      "Not setting metadata\n",
      "130 matching events found\n",
      "No baseline correction applied\n",
      "0 projection items activated\n",
      "Effective window size : 1.000 (s)\n",
      "Fitting model across 3 power spectra.\n"
     ]
    },
    {
     "name": "stderr",
     "output_type": "stream",
     "text": [
      "/var/folders/_3/08zshp4n3z1_glk6l5vgyqz40000gn/T/ipykernel_65336/3824075881.py:68: UserWarning: SpecParam Fit Issues\n",
      "  warnings.warn(f'SpecParam Fit Issues', UserWarning)\n"
     ]
    },
    {
     "name": "stdout",
     "output_type": "stream",
     "text": [
      "Effective window size : 1.000 (s)\n",
      "Fitting model across 61 power spectra.\n",
      "\n",
      "-----------------------------------------------------------------------------------------------\n",
      "Subject: sub-097\n",
      "---Get EEG Preprocessed Data - FIF ----------------------------------\n",
      "---EEG Spectral Parameterisation------------------------------------\n",
      "Not setting metadata\n",
      "128 matching events found\n",
      "No baseline correction applied\n",
      "0 projection items activated\n",
      "Effective window size : 1.000 (s)\n",
      "Fitting model across 3 power spectra.\n"
     ]
    },
    {
     "name": "stderr",
     "output_type": "stream",
     "text": [
      "/var/folders/_3/08zshp4n3z1_glk6l5vgyqz40000gn/T/ipykernel_65336/3824075881.py:68: UserWarning: SpecParam Fit Issues\n",
      "  warnings.warn(f'SpecParam Fit Issues', UserWarning)\n"
     ]
    },
    {
     "name": "stdout",
     "output_type": "stream",
     "text": [
      "Effective window size : 1.000 (s)\n",
      "Fitting model across 61 power spectra.\n",
      "\n",
      "-----------------------------------------------------------------------------------------------\n",
      "Subject: sub-098\n",
      "---Get EEG Preprocessed Data - FIF ----------------------------------\n",
      "---EEG Spectral Parameterisation------------------------------------\n",
      "Not setting metadata\n",
      "122 matching events found\n",
      "No baseline correction applied\n",
      "0 projection items activated\n",
      "Effective window size : 1.000 (s)\n",
      "Fitting model across 3 power spectra.\n",
      "Effective window size : 1.000 (s)\n",
      "Fitting model across 61 power spectra.\n",
      "\n",
      "-----------------------------------------------------------------------------------------------\n",
      "Subject: sub-099\n",
      "---Get EEG Preprocessed Data - FIF ----------------------------------\n",
      "---EEG Spectral Parameterisation------------------------------------\n",
      "Not setting metadata\n",
      "115 matching events found\n",
      "No baseline correction applied\n",
      "0 projection items activated\n",
      "Effective window size : 1.000 (s)\n",
      "Fitting model across 3 power spectra.\n",
      "Effective window size : 1.000 (s)\n",
      "Fitting model across 61 power spectra.\n",
      "\n",
      "-----------------------------------------------------------------------------------------------\n",
      "Subject: sub-100\n",
      "---Get EEG Preprocessed Data - FIF ----------------------------------\n",
      "---EEG Spectral Parameterisation------------------------------------\n",
      "Not setting metadata\n",
      "139 matching events found\n",
      "No baseline correction applied\n",
      "0 projection items activated\n",
      "Effective window size : 1.000 (s)\n",
      "Fitting model across 3 power spectra.\n",
      "Effective window size : 1.000 (s)\n",
      "Fitting model across 61 power spectra.\n",
      "\n",
      "-----------------------------------------------------------------------------------------------\n",
      "Subject: sub-101\n",
      "---Get EEG Preprocessed Data - FIF ----------------------------------\n",
      "---EEG Spectral Parameterisation------------------------------------\n",
      "Not setting metadata\n",
      "259 matching events found\n",
      "No baseline correction applied\n",
      "0 projection items activated\n",
      "Effective window size : 1.000 (s)\n",
      "Fitting model across 3 power spectra.\n"
     ]
    },
    {
     "name": "stderr",
     "output_type": "stream",
     "text": [
      "/var/folders/_3/08zshp4n3z1_glk6l5vgyqz40000gn/T/ipykernel_65336/3824075881.py:68: UserWarning: SpecParam Fit Issues\n",
      "  warnings.warn(f'SpecParam Fit Issues', UserWarning)\n"
     ]
    },
    {
     "name": "stdout",
     "output_type": "stream",
     "text": [
      "Effective window size : 1.000 (s)\n",
      "Fitting model across 63 power spectra.\n",
      "\n",
      "-----------------------------------------------------------------------------------------------\n",
      "Subject: sub-102\n",
      "---Get EEG Preprocessed Data - FIF ----------------------------------\n",
      "---EEG Spectral Parameterisation------------------------------------\n",
      "Not setting metadata\n",
      "189 matching events found\n",
      "No baseline correction applied\n",
      "0 projection items activated\n",
      "Effective window size : 1.000 (s)\n",
      "Fitting model across 3 power spectra.\n",
      "Effective window size : 1.000 (s)\n",
      "Fitting model across 63 power spectra.\n",
      "\n",
      "-----------------------------------------------------------------------------------------------\n",
      "Subject: sub-103\n",
      "---Get EEG Preprocessed Data - FIF ----------------------------------\n",
      "---EEG Spectral Parameterisation------------------------------------\n",
      "Not setting metadata\n",
      "189 matching events found\n",
      "No baseline correction applied\n",
      "0 projection items activated\n",
      "Effective window size : 1.000 (s)\n",
      "Fitting model across 3 power spectra.\n",
      "Effective window size : 1.000 (s)\n",
      "Fitting model across 61 power spectra.\n",
      "\n",
      "-----------------------------------------------------------------------------------------------\n",
      "Subject: sub-104\n",
      "---Get EEG Preprocessed Data - FIF ----------------------------------\n",
      "---EEG Spectral Parameterisation------------------------------------\n",
      "Not setting metadata\n",
      "191 matching events found\n",
      "No baseline correction applied\n",
      "0 projection items activated\n",
      "Effective window size : 1.000 (s)\n",
      "Fitting model across 3 power spectra.\n"
     ]
    },
    {
     "name": "stderr",
     "output_type": "stream",
     "text": [
      "/var/folders/_3/08zshp4n3z1_glk6l5vgyqz40000gn/T/ipykernel_65336/3824075881.py:68: UserWarning: SpecParam Fit Issues\n",
      "  warnings.warn(f'SpecParam Fit Issues', UserWarning)\n"
     ]
    },
    {
     "name": "stdout",
     "output_type": "stream",
     "text": [
      "Effective window size : 1.000 (s)\n",
      "Fitting model across 61 power spectra.\n",
      "\n",
      "-----------------------------------------------------------------------------------------------\n",
      "Subject: sub-105\n",
      "---Get EEG Preprocessed Data - FIF ----------------------------------\n",
      "---EEG Spectral Parameterisation------------------------------------\n",
      "Not setting metadata\n",
      "188 matching events found\n",
      "No baseline correction applied\n",
      "0 projection items activated\n",
      "Effective window size : 1.000 (s)\n",
      "Fitting model across 3 power spectra.\n",
      "Effective window size : 1.000 (s)\n"
     ]
    },
    {
     "name": "stderr",
     "output_type": "stream",
     "text": [
      "/var/folders/_3/08zshp4n3z1_glk6l5vgyqz40000gn/T/ipykernel_65336/3824075881.py:68: UserWarning: SpecParam Fit Issues\n",
      "  warnings.warn(f'SpecParam Fit Issues', UserWarning)\n"
     ]
    },
    {
     "name": "stdout",
     "output_type": "stream",
     "text": [
      "Fitting model across 61 power spectra.\n",
      "\n",
      "-----------------------------------------------------------------------------------------------\n",
      "Subject: sub-106\n",
      "---Get EEG Preprocessed Data - FIF ----------------------------------\n",
      "---EEG Spectral Parameterisation------------------------------------\n",
      "Not setting metadata\n",
      "207 matching events found\n",
      "No baseline correction applied\n",
      "0 projection items activated\n",
      "Effective window size : 1.000 (s)\n",
      "Fitting model across 3 power spectra.\n"
     ]
    },
    {
     "name": "stderr",
     "output_type": "stream",
     "text": [
      "/var/folders/_3/08zshp4n3z1_glk6l5vgyqz40000gn/T/ipykernel_65336/3824075881.py:68: UserWarning: SpecParam Fit Issues\n",
      "  warnings.warn(f'SpecParam Fit Issues', UserWarning)\n"
     ]
    },
    {
     "name": "stdout",
     "output_type": "stream",
     "text": [
      "Effective window size : 1.000 (s)\n",
      "Fitting model across 61 power spectra.\n",
      "\n",
      "-----------------------------------------------------------------------------------------------\n",
      "Subject: sub-107\n",
      "---Get EEG Preprocessed Data - FIF ----------------------------------\n",
      "---EEG Spectral Parameterisation------------------------------------\n",
      "Not setting metadata\n",
      "212 matching events found\n",
      "No baseline correction applied\n",
      "0 projection items activated\n",
      "Effective window size : 1.000 (s)\n",
      "Fitting model across 3 power spectra.\n",
      "Effective window size : 1.000 (s)\n",
      "Fitting model across 61 power spectra.\n",
      "\n",
      "-----------------------------------------------------------------------------------------------\n",
      "Subject: sub-108\n",
      "---Get EEG Preprocessed Data - FIF ----------------------------------\n",
      "---EEG Spectral Parameterisation------------------------------------\n",
      "Not setting metadata\n",
      "210 matching events found\n",
      "No baseline correction applied\n",
      "0 projection items activated\n",
      "Effective window size : 1.000 (s)\n",
      "Fitting model across 3 power spectra.\n",
      "Effective window size : 1.000 (s)\n",
      "Fitting model across 61 power spectra.\n",
      "\n",
      "-----------------------------------------------------------------------------------------------\n",
      "Subject: sub-109\n",
      "---Get EEG Preprocessed Data - FIF ----------------------------------\n",
      "---EEG Spectral Parameterisation------------------------------------\n",
      "Not setting metadata\n",
      "236 matching events found\n",
      "No baseline correction applied\n",
      "0 projection items activated\n",
      "Effective window size : 1.000 (s)\n",
      "Fitting model across 3 power spectra.\n",
      "Effective window size : 1.000 (s)\n",
      "Fitting model across 61 power spectra.\n",
      "\n",
      "-----------------------------------------------------------------------------------------------\n",
      "Subject: sub-110\n",
      "---Get EEG Preprocessed Data - FIF ----------------------------------\n",
      "---EEG Spectral Parameterisation------------------------------------\n",
      "Not setting metadata\n",
      "214 matching events found\n",
      "No baseline correction applied\n",
      "0 projection items activated\n",
      "Effective window size : 1.000 (s)\n",
      "Fitting model across 3 power spectra.\n"
     ]
    },
    {
     "name": "stderr",
     "output_type": "stream",
     "text": [
      "/var/folders/_3/08zshp4n3z1_glk6l5vgyqz40000gn/T/ipykernel_65336/3824075881.py:68: UserWarning: SpecParam Fit Issues\n",
      "  warnings.warn(f'SpecParam Fit Issues', UserWarning)\n"
     ]
    },
    {
     "name": "stdout",
     "output_type": "stream",
     "text": [
      "Effective window size : 1.000 (s)\n"
     ]
    },
    {
     "name": "stderr",
     "output_type": "stream",
     "text": [
      "/var/folders/_3/08zshp4n3z1_glk6l5vgyqz40000gn/T/ipykernel_65336/3824075881.py:68: UserWarning: SpecParam Fit Issues\n",
      "  warnings.warn(f'SpecParam Fit Issues', UserWarning)\n"
     ]
    },
    {
     "name": "stdout",
     "output_type": "stream",
     "text": [
      "Fitting model across 61 power spectra.\n",
      "\n",
      "-----------------------------------------------------------------------------------------------\n",
      "Subject: sub-111\n",
      "---Get EEG Preprocessed Data - FIF ----------------------------------\n",
      "---EEG Spectral Parameterisation------------------------------------\n",
      "Not setting metadata\n",
      "264 matching events found\n",
      "No baseline correction applied\n",
      "0 projection items activated\n",
      "Effective window size : 1.000 (s)\n",
      "Fitting model across 3 power spectra.\n",
      "Effective window size : 1.000 (s)\n"
     ]
    },
    {
     "name": "stderr",
     "output_type": "stream",
     "text": [
      "/var/folders/_3/08zshp4n3z1_glk6l5vgyqz40000gn/T/ipykernel_65336/3824075881.py:68: UserWarning: SpecParam Fit Issues\n",
      "  warnings.warn(f'SpecParam Fit Issues', UserWarning)\n"
     ]
    },
    {
     "name": "stdout",
     "output_type": "stream",
     "text": [
      "Fitting model across 61 power spectra.\n",
      "\n",
      "-----------------------------------------------------------------------------------------------\n",
      "Subject: sub-112\n",
      "---Get EEG Preprocessed Data - FIF ----------------------------------\n",
      "---EEG Spectral Parameterisation------------------------------------\n",
      "Not setting metadata\n",
      "118 matching events found\n",
      "No baseline correction applied\n",
      "0 projection items activated\n",
      "Effective window size : 1.000 (s)\n",
      "Fitting model across 3 power spectra.\n"
     ]
    },
    {
     "name": "stderr",
     "output_type": "stream",
     "text": [
      "/var/folders/_3/08zshp4n3z1_glk6l5vgyqz40000gn/T/ipykernel_65336/3824075881.py:68: UserWarning: SpecParam Fit Issues\n",
      "  warnings.warn(f'SpecParam Fit Issues', UserWarning)\n"
     ]
    },
    {
     "name": "stdout",
     "output_type": "stream",
     "text": [
      "Effective window size : 1.000 (s)\n",
      "Fitting model across 61 power spectra.\n",
      "\n",
      "-----------------------------------------------------------------------------------------------\n",
      "Subject: sub-113\n",
      "---Get EEG Preprocessed Data - FIF ----------------------------------\n",
      "---EEG Spectral Parameterisation------------------------------------\n",
      "Not setting metadata\n",
      "115 matching events found\n",
      "No baseline correction applied\n",
      "0 projection items activated\n",
      "Effective window size : 1.000 (s)\n",
      "Fitting model across 3 power spectra.\n",
      "Effective window size : 1.000 (s)\n"
     ]
    },
    {
     "name": "stderr",
     "output_type": "stream",
     "text": [
      "/var/folders/_3/08zshp4n3z1_glk6l5vgyqz40000gn/T/ipykernel_65336/3824075881.py:68: UserWarning: SpecParam Fit Issues\n",
      "  warnings.warn(f'SpecParam Fit Issues', UserWarning)\n"
     ]
    },
    {
     "name": "stdout",
     "output_type": "stream",
     "text": [
      "Fitting model across 61 power spectra.\n",
      "\n",
      "-----------------------------------------------------------------------------------------------\n",
      "Subject: sub-114\n",
      "---Get EEG Preprocessed Data - FIF ----------------------------------\n",
      "---EEG Spectral Parameterisation------------------------------------\n",
      "Not setting metadata\n",
      "113 matching events found\n",
      "No baseline correction applied\n",
      "0 projection items activated\n",
      "Effective window size : 1.000 (s)\n",
      "Fitting model across 3 power spectra.\n"
     ]
    },
    {
     "name": "stderr",
     "output_type": "stream",
     "text": [
      "/var/folders/_3/08zshp4n3z1_glk6l5vgyqz40000gn/T/ipykernel_65336/3824075881.py:68: UserWarning: SpecParam Fit Issues\n",
      "  warnings.warn(f'SpecParam Fit Issues', UserWarning)\n"
     ]
    },
    {
     "name": "stdout",
     "output_type": "stream",
     "text": [
      "Effective window size : 1.000 (s)\n",
      "Fitting model across 61 power spectra.\n",
      "\n",
      "-----------------------------------------------------------------------------------------------\n",
      "Subject: sub-115\n",
      "---Get EEG Preprocessed Data - FIF ----------------------------------\n",
      "---EEG Spectral Parameterisation------------------------------------\n",
      "Not setting metadata\n",
      "98 matching events found\n",
      "No baseline correction applied\n",
      "0 projection items activated\n",
      "Effective window size : 1.000 (s)\n",
      "Fitting model across 3 power spectra.\n",
      "Effective window size : 1.000 (s)\n",
      "Fitting model across 61 power spectra.\n",
      "\n",
      "-----------------------------------------------------------------------------------------------\n",
      "Subject: sub-116\n",
      "---Get EEG Preprocessed Data - FIF ----------------------------------\n",
      "---EEG Spectral Parameterisation------------------------------------\n",
      "Not setting metadata\n",
      "105 matching events found\n",
      "No baseline correction applied\n",
      "0 projection items activated\n",
      "Effective window size : 1.000 (s)\n",
      "Fitting model across 3 power spectra.\n"
     ]
    },
    {
     "name": "stderr",
     "output_type": "stream",
     "text": [
      "/var/folders/_3/08zshp4n3z1_glk6l5vgyqz40000gn/T/ipykernel_65336/3824075881.py:68: UserWarning: SpecParam Fit Issues\n",
      "  warnings.warn(f'SpecParam Fit Issues', UserWarning)\n"
     ]
    },
    {
     "name": "stdout",
     "output_type": "stream",
     "text": [
      "Effective window size : 1.000 (s)\n",
      "Fitting model across 61 power spectra.\n",
      "\n",
      "-----------------------------------------------------------------------------------------------\n",
      "Subject: sub-117\n",
      "---Get EEG Preprocessed Data - FIF ----------------------------------\n",
      "---EEG Spectral Parameterisation------------------------------------\n",
      "Not setting metadata\n",
      "145 matching events found\n",
      "No baseline correction applied\n",
      "0 projection items activated\n",
      "Effective window size : 1.000 (s)\n",
      "Fitting model across 3 power spectra.\n",
      "Effective window size : 1.000 (s)\n",
      "Fitting model across 61 power spectra.\n",
      "\n",
      "-----------------------------------------------------------------------------------------------\n",
      "Subject: sub-118\n",
      "---Get EEG Preprocessed Data - FIF ----------------------------------\n",
      "---EEG Spectral Parameterisation------------------------------------\n",
      "Not setting metadata\n",
      "165 matching events found\n",
      "No baseline correction applied\n",
      "0 projection items activated\n",
      "Effective window size : 1.000 (s)\n",
      "Fitting model across 3 power spectra.\n",
      "Effective window size : 1.000 (s)\n"
     ]
    },
    {
     "name": "stderr",
     "output_type": "stream",
     "text": [
      "/var/folders/_3/08zshp4n3z1_glk6l5vgyqz40000gn/T/ipykernel_65336/3824075881.py:68: UserWarning: SpecParam Fit Issues\n",
      "  warnings.warn(f'SpecParam Fit Issues', UserWarning)\n"
     ]
    },
    {
     "name": "stdout",
     "output_type": "stream",
     "text": [
      "Fitting model across 61 power spectra.\n",
      "\n",
      "-----------------------------------------------------------------------------------------------\n",
      "Subject: sub-119\n",
      "---Get EEG Preprocessed Data - FIF ----------------------------------\n",
      "---EEG Spectral Parameterisation------------------------------------\n",
      "Not setting metadata\n",
      "192 matching events found\n",
      "No baseline correction applied\n",
      "0 projection items activated\n",
      "Effective window size : 1.000 (s)\n",
      "Fitting model across 3 power spectra.\n"
     ]
    },
    {
     "name": "stderr",
     "output_type": "stream",
     "text": [
      "/var/folders/_3/08zshp4n3z1_glk6l5vgyqz40000gn/T/ipykernel_65336/3824075881.py:68: UserWarning: SpecParam Fit Issues\n",
      "  warnings.warn(f'SpecParam Fit Issues', UserWarning)\n"
     ]
    },
    {
     "name": "stdout",
     "output_type": "stream",
     "text": [
      "Effective window size : 1.000 (s)\n",
      "Fitting model across 61 power spectra.\n",
      "\n",
      "-----------------------------------------------------------------------------------------------\n",
      "Subject: sub-120\n",
      "---Get EEG Preprocessed Data - FIF ----------------------------------\n",
      "---EEG Spectral Parameterisation------------------------------------\n",
      "Not setting metadata\n",
      "154 matching events found\n",
      "No baseline correction applied\n",
      "0 projection items activated\n",
      "Effective window size : 1.000 (s)\n",
      "Fitting model across 3 power spectra.\n",
      "Effective window size : 1.000 (s)\n",
      "Fitting model across 61 power spectra.\n",
      "\n",
      "-----------------------------------------------------------------------------------------------\n",
      "Subject: sub-121\n",
      "---Get EEG Preprocessed Data - FIF ----------------------------------\n",
      "---EEG Spectral Parameterisation------------------------------------\n",
      "Not setting metadata\n",
      "138 matching events found\n",
      "No baseline correction applied\n",
      "0 projection items activated\n",
      "Effective window size : 1.000 (s)\n",
      "Fitting model across 3 power spectra.\n",
      "Effective window size : 1.000 (s)\n"
     ]
    },
    {
     "name": "stderr",
     "output_type": "stream",
     "text": [
      "/var/folders/_3/08zshp4n3z1_glk6l5vgyqz40000gn/T/ipykernel_65336/3824075881.py:68: UserWarning: SpecParam Fit Issues\n",
      "  warnings.warn(f'SpecParam Fit Issues', UserWarning)\n"
     ]
    },
    {
     "name": "stdout",
     "output_type": "stream",
     "text": [
      "Fitting model across 61 power spectra.\n",
      "\n",
      "-----------------------------------------------------------------------------------------------\n",
      "Subject: sub-122\n",
      "---Get EEG Preprocessed Data - FIF ----------------------------------\n",
      "---EEG Spectral Parameterisation------------------------------------\n",
      "Not setting metadata\n",
      "116 matching events found\n",
      "No baseline correction applied\n",
      "0 projection items activated\n",
      "Effective window size : 1.000 (s)\n",
      "Fitting model across 3 power spectra.\n"
     ]
    },
    {
     "name": "stderr",
     "output_type": "stream",
     "text": [
      "/var/folders/_3/08zshp4n3z1_glk6l5vgyqz40000gn/T/ipykernel_65336/3824075881.py:68: UserWarning: SpecParam Fit Issues\n",
      "  warnings.warn(f'SpecParam Fit Issues', UserWarning)\n"
     ]
    },
    {
     "name": "stdout",
     "output_type": "stream",
     "text": [
      "Effective window size : 1.000 (s)\n",
      "Fitting model across 61 power spectra.\n",
      "\n",
      "-----------------------------------------------------------------------------------------------\n",
      "Subject: sub-123\n",
      "---Get EEG Preprocessed Data - FIF ----------------------------------\n",
      "---EEG Spectral Parameterisation------------------------------------\n",
      "Not setting metadata\n",
      "157 matching events found\n",
      "No baseline correction applied\n",
      "0 projection items activated\n",
      "Effective window size : 1.000 (s)\n",
      "Fitting model across 3 power spectra.\n"
     ]
    },
    {
     "name": "stderr",
     "output_type": "stream",
     "text": [
      "/var/folders/_3/08zshp4n3z1_glk6l5vgyqz40000gn/T/ipykernel_65336/3824075881.py:68: UserWarning: SpecParam Fit Issues\n",
      "  warnings.warn(f'SpecParam Fit Issues', UserWarning)\n"
     ]
    },
    {
     "name": "stdout",
     "output_type": "stream",
     "text": [
      "Effective window size : 1.000 (s)\n",
      "Fitting model across 61 power spectra.\n",
      "\n",
      "-----------------------------------------------------------------------------------------------\n",
      "Subject: sub-124\n",
      "---Get EEG Preprocessed Data - FIF ----------------------------------\n",
      "---EEG Spectral Parameterisation------------------------------------\n",
      "Not setting metadata\n",
      "165 matching events found\n",
      "No baseline correction applied\n",
      "0 projection items activated\n",
      "Effective window size : 1.000 (s)\n",
      "Fitting model across 3 power spectra.\n",
      "Effective window size : 1.000 (s)\n",
      "Fitting model across 61 power spectra.\n",
      "\n",
      "-----------------------------------------------------------------------------------------------\n",
      "Subject: sub-125\n",
      "---Get EEG Preprocessed Data - FIF ----------------------------------\n",
      "---EEG Spectral Parameterisation------------------------------------\n",
      "Not setting metadata\n",
      "151 matching events found\n",
      "No baseline correction applied\n",
      "0 projection items activated\n",
      "Effective window size : 1.000 (s)\n",
      "Fitting model across 3 power spectra.\n",
      "Effective window size : 1.000 (s)\n",
      "Fitting model across 61 power spectra.\n",
      "\n",
      "-----------------------------------------------------------------------------------------------\n",
      "Subject: sub-126\n",
      "---Get EEG Preprocessed Data - FIF ----------------------------------\n",
      "---EEG Spectral Parameterisation------------------------------------\n",
      "Not setting metadata\n",
      "164 matching events found\n",
      "No baseline correction applied\n",
      "0 projection items activated\n",
      "Effective window size : 1.000 (s)\n",
      "Fitting model across 3 power spectra.\n",
      "Effective window size : 1.000 (s)\n"
     ]
    },
    {
     "name": "stderr",
     "output_type": "stream",
     "text": [
      "/var/folders/_3/08zshp4n3z1_glk6l5vgyqz40000gn/T/ipykernel_65336/3824075881.py:68: UserWarning: SpecParam Fit Issues\n",
      "  warnings.warn(f'SpecParam Fit Issues', UserWarning)\n"
     ]
    },
    {
     "name": "stdout",
     "output_type": "stream",
     "text": [
      "Fitting model across 61 power spectra.\n",
      "\n",
      "-----------------------------------------------------------------------------------------------\n",
      "Subject: sub-127\n",
      "---Get EEG Preprocessed Data - FIF ----------------------------------\n",
      "---EEG Spectral Parameterisation------------------------------------\n",
      "Not setting metadata\n",
      "158 matching events found\n",
      "No baseline correction applied\n",
      "0 projection items activated\n",
      "Effective window size : 1.000 (s)\n",
      "Fitting model across 3 power spectra.\n"
     ]
    },
    {
     "name": "stderr",
     "output_type": "stream",
     "text": [
      "/var/folders/_3/08zshp4n3z1_glk6l5vgyqz40000gn/T/ipykernel_65336/3824075881.py:68: UserWarning: SpecParam Fit Issues\n",
      "  warnings.warn(f'SpecParam Fit Issues', UserWarning)\n"
     ]
    },
    {
     "name": "stdout",
     "output_type": "stream",
     "text": [
      "Effective window size : 1.000 (s)\n",
      "Fitting model across 61 power spectra.\n",
      "\n",
      "-----------------------------------------------------------------------------------------------\n",
      "Subject: sub-128\n",
      "---Get EEG Preprocessed Data - FIF ----------------------------------\n",
      "---EEG Spectral Parameterisation------------------------------------\n",
      "Not setting metadata\n",
      "162 matching events found\n",
      "No baseline correction applied\n",
      "0 projection items activated\n",
      "Effective window size : 1.000 (s)\n",
      "Fitting model across 3 power spectra.\n",
      "Effective window size : 1.000 (s)\n",
      "Fitting model across 61 power spectra.\n",
      "\n",
      "-----------------------------------------------------------------------------------------------\n",
      "Subject: sub-129\n",
      "---Get EEG Preprocessed Data - FIF ----------------------------------\n",
      "---EEG Spectral Parameterisation------------------------------------\n",
      "Not setting metadata\n",
      "122 matching events found\n",
      "No baseline correction applied\n",
      "0 projection items activated\n",
      "Effective window size : 1.000 (s)\n",
      "Fitting model across 3 power spectra.\n"
     ]
    },
    {
     "name": "stderr",
     "output_type": "stream",
     "text": [
      "/var/folders/_3/08zshp4n3z1_glk6l5vgyqz40000gn/T/ipykernel_65336/3824075881.py:68: UserWarning: SpecParam Fit Issues\n",
      "  warnings.warn(f'SpecParam Fit Issues', UserWarning)\n"
     ]
    },
    {
     "name": "stdout",
     "output_type": "stream",
     "text": [
      "Effective window size : 1.000 (s)\n",
      "Fitting model across 61 power spectra.\n",
      "\n",
      "-----------------------------------------------------------------------------------------------\n",
      "Subject: sub-130\n",
      "---Get EEG Preprocessed Data - FIF ----------------------------------\n",
      "---EEG Spectral Parameterisation------------------------------------\n",
      "Not setting metadata\n",
      "173 matching events found\n",
      "No baseline correction applied\n",
      "0 projection items activated\n",
      "Effective window size : 1.000 (s)\n",
      "Fitting model across 3 power spectra.\n",
      "Effective window size : 1.000 (s)\n",
      "Fitting model across 61 power spectra.\n",
      "\n",
      "-----------------------------------------------------------------------------------------------\n",
      "Subject: sub-131\n",
      "---Get EEG Preprocessed Data - FIF ----------------------------------\n",
      "---EEG Spectral Parameterisation------------------------------------\n",
      "Not setting metadata\n",
      "187 matching events found\n",
      "No baseline correction applied\n",
      "0 projection items activated\n",
      "Effective window size : 1.000 (s)\n",
      "Fitting model across 3 power spectra.\n",
      "Effective window size : 1.000 (s)\n",
      "Fitting model across 61 power spectra.\n",
      "\n",
      "-----------------------------------------------------------------------------------------------\n",
      "Subject: sub-132\n",
      "---Get EEG Preprocessed Data - FIF ----------------------------------\n",
      "---EEG Spectral Parameterisation------------------------------------\n",
      "Not setting metadata\n",
      "176 matching events found\n",
      "No baseline correction applied\n",
      "0 projection items activated\n",
      "Effective window size : 1.000 (s)\n",
      "Fitting model across 3 power spectra.\n"
     ]
    },
    {
     "name": "stderr",
     "output_type": "stream",
     "text": [
      "/var/folders/_3/08zshp4n3z1_glk6l5vgyqz40000gn/T/ipykernel_65336/3824075881.py:68: UserWarning: SpecParam Fit Issues\n",
      "  warnings.warn(f'SpecParam Fit Issues', UserWarning)\n"
     ]
    },
    {
     "name": "stdout",
     "output_type": "stream",
     "text": [
      "Effective window size : 1.000 (s)\n",
      "Fitting model across 61 power spectra.\n",
      "\n",
      "-----------------------------------------------------------------------------------------------\n",
      "Subject: sub-133\n",
      "---Get EEG Preprocessed Data - FIF ----------------------------------\n",
      "---EEG Spectral Parameterisation------------------------------------\n",
      "Not setting metadata\n",
      "142 matching events found\n",
      "No baseline correction applied\n",
      "0 projection items activated\n",
      "Effective window size : 1.000 (s)\n",
      "Fitting model across 3 power spectra.\n"
     ]
    },
    {
     "name": "stderr",
     "output_type": "stream",
     "text": [
      "/var/folders/_3/08zshp4n3z1_glk6l5vgyqz40000gn/T/ipykernel_65336/3824075881.py:68: UserWarning: SpecParam Fit Issues\n",
      "  warnings.warn(f'SpecParam Fit Issues', UserWarning)\n"
     ]
    },
    {
     "name": "stdout",
     "output_type": "stream",
     "text": [
      "Effective window size : 1.000 (s)\n",
      "Fitting model across 61 power spectra.\n",
      "\n",
      "-----------------------------------------------------------------------------------------------\n",
      "Subject: sub-134\n",
      "---Get EEG Preprocessed Data - FIF ----------------------------------\n",
      "---EEG Spectral Parameterisation------------------------------------\n",
      "Not setting metadata\n",
      "134 matching events found\n",
      "No baseline correction applied\n",
      "0 projection items activated\n",
      "Effective window size : 1.000 (s)\n",
      "Fitting model across 3 power spectra.\n",
      "Effective window size : 1.000 (s)\n",
      "Fitting model across 61 power spectra.\n",
      "\n",
      "-----------------------------------------------------------------------------------------------\n",
      "Subject: sub-135\n",
      "---Get EEG Preprocessed Data - FIF ----------------------------------\n",
      "---EEG Spectral Parameterisation------------------------------------\n",
      "Not setting metadata\n",
      "134 matching events found\n",
      "No baseline correction applied\n",
      "0 projection items activated\n",
      "Effective window size : 1.000 (s)\n",
      "Fitting model across 3 power spectra.\n",
      "Effective window size : 1.000 (s)\n"
     ]
    },
    {
     "name": "stderr",
     "output_type": "stream",
     "text": [
      "/var/folders/_3/08zshp4n3z1_glk6l5vgyqz40000gn/T/ipykernel_65336/3824075881.py:68: UserWarning: SpecParam Fit Issues\n",
      "  warnings.warn(f'SpecParam Fit Issues', UserWarning)\n"
     ]
    },
    {
     "name": "stdout",
     "output_type": "stream",
     "text": [
      "Fitting model across 61 power spectra.\n",
      "\n",
      "-----------------------------------------------------------------------------------------------\n",
      "Subject: sub-136\n",
      "---Get EEG Preprocessed Data - FIF ----------------------------------\n",
      "---EEG Spectral Parameterisation------------------------------------\n",
      "Not setting metadata\n",
      "145 matching events found\n",
      "No baseline correction applied\n",
      "0 projection items activated\n",
      "Effective window size : 1.000 (s)\n",
      "Fitting model across 3 power spectra.\n"
     ]
    },
    {
     "name": "stderr",
     "output_type": "stream",
     "text": [
      "/var/folders/_3/08zshp4n3z1_glk6l5vgyqz40000gn/T/ipykernel_65336/3824075881.py:68: UserWarning: SpecParam Fit Issues\n",
      "  warnings.warn(f'SpecParam Fit Issues', UserWarning)\n"
     ]
    },
    {
     "name": "stdout",
     "output_type": "stream",
     "text": [
      "Effective window size : 1.000 (s)\n",
      "Fitting model across 61 power spectra.\n",
      "\n",
      "-----------------------------------------------------------------------------------------------\n",
      "Subject: sub-137\n",
      "---Get EEG Preprocessed Data - FIF ----------------------------------\n",
      "---EEG Spectral Parameterisation------------------------------------\n",
      "Not setting metadata\n",
      "125 matching events found\n",
      "No baseline correction applied\n",
      "0 projection items activated\n",
      "Effective window size : 1.000 (s)\n",
      "Fitting model across 3 power spectra.\n",
      "Effective window size : 1.000 (s)\n",
      "Fitting model across 61 power spectra.\n",
      "\n",
      "-----------------------------------------------------------------------------------------------\n",
      "Subject: sub-138\n",
      "---Get EEG Preprocessed Data - FIF ----------------------------------\n",
      "---EEG Spectral Parameterisation------------------------------------\n",
      "Not setting metadata\n",
      "134 matching events found\n",
      "No baseline correction applied\n",
      "0 projection items activated\n",
      "Effective window size : 1.000 (s)\n",
      "Fitting model across 3 power spectra.\n"
     ]
    },
    {
     "name": "stderr",
     "output_type": "stream",
     "text": [
      "/var/folders/_3/08zshp4n3z1_glk6l5vgyqz40000gn/T/ipykernel_65336/3824075881.py:68: UserWarning: SpecParam Fit Issues\n",
      "  warnings.warn(f'SpecParam Fit Issues', UserWarning)\n"
     ]
    },
    {
     "name": "stdout",
     "output_type": "stream",
     "text": [
      "Effective window size : 1.000 (s)\n",
      "Fitting model across 61 power spectra.\n",
      "\n",
      "-----------------------------------------------------------------------------------------------\n",
      "Subject: sub-139\n",
      "---Get EEG Preprocessed Data - FIF ----------------------------------\n",
      "---EEG Spectral Parameterisation------------------------------------\n",
      "Not setting metadata\n",
      "164 matching events found\n",
      "No baseline correction applied\n",
      "0 projection items activated\n",
      "Effective window size : 1.000 (s)\n",
      "Fitting model across 3 power spectra.\n",
      "Effective window size : 1.000 (s)\n",
      "Fitting model across 61 power spectra.\n",
      "\n",
      "-----------------------------------------------------------------------------------------------\n",
      "Subject: sub-140\n",
      "---Get EEG Preprocessed Data - FIF ----------------------------------\n",
      "---EEG Spectral Parameterisation------------------------------------\n",
      "Not setting metadata\n",
      "123 matching events found\n",
      "No baseline correction applied\n",
      "0 projection items activated\n",
      "Effective window size : 1.000 (s)\n",
      "Fitting model across 3 power spectra.\n",
      "Effective window size : 1.000 (s)\n",
      "Fitting model across 61 power spectra.\n",
      "\n",
      "-----------------------------------------------------------------------------------------------\n",
      "Subject: sub-141\n",
      "---Get EEG Preprocessed Data - FIF ----------------------------------\n",
      "---EEG Spectral Parameterisation------------------------------------\n",
      "Not setting metadata\n",
      "125 matching events found\n",
      "No baseline correction applied\n",
      "0 projection items activated\n",
      "Effective window size : 1.000 (s)\n",
      "Fitting model across 3 power spectra.\n",
      "Effective window size : 1.000 (s)\n",
      "Fitting model across 61 power spectra.\n",
      "\n",
      "-----------------------------------------------------------------------------------------------\n",
      "Subject: sub-142\n",
      "---Get EEG Preprocessed Data - FIF ----------------------------------\n",
      "---EEG Spectral Parameterisation------------------------------------\n",
      "Not setting metadata\n",
      "121 matching events found\n",
      "No baseline correction applied\n",
      "0 projection items activated\n",
      "Effective window size : 1.000 (s)\n",
      "Fitting model across 3 power spectra.\n",
      "Effective window size : 1.000 (s)\n",
      "Fitting model across 61 power spectra.\n",
      "\n",
      "-----------------------------------------------------------------------------------------------\n",
      "Subject: sub-143\n",
      "---Get EEG Preprocessed Data - FIF ----------------------------------\n",
      "---EEG Spectral Parameterisation------------------------------------\n",
      "Not setting metadata\n",
      "113 matching events found\n",
      "No baseline correction applied\n",
      "0 projection items activated\n",
      "Effective window size : 1.000 (s)\n",
      "Fitting model across 3 power spectra.\n",
      "Effective window size : 1.000 (s)\n"
     ]
    },
    {
     "name": "stderr",
     "output_type": "stream",
     "text": [
      "/var/folders/_3/08zshp4n3z1_glk6l5vgyqz40000gn/T/ipykernel_65336/3824075881.py:68: UserWarning: SpecParam Fit Issues\n",
      "  warnings.warn(f'SpecParam Fit Issues', UserWarning)\n"
     ]
    },
    {
     "name": "stdout",
     "output_type": "stream",
     "text": [
      "Fitting model across 61 power spectra.\n",
      "\n",
      "-----------------------------------------------------------------------------------------------\n",
      "Subject: sub-144\n",
      "---Get EEG Preprocessed Data - FIF ----------------------------------\n",
      "---EEG Spectral Parameterisation------------------------------------\n",
      "Not setting metadata\n",
      "119 matching events found\n",
      "No baseline correction applied\n",
      "0 projection items activated\n",
      "Effective window size : 1.000 (s)\n",
      "Fitting model across 3 power spectra.\n",
      "Effective window size : 1.000 (s)\n",
      "Fitting model across 61 power spectra.\n",
      "\n",
      "-----------------------------------------------------------------------------------------------\n",
      "Subject: sub-145\n",
      "---Get EEG Preprocessed Data - FIF ----------------------------------\n",
      "---EEG Spectral Parameterisation------------------------------------\n",
      "Not setting metadata\n",
      "181 matching events found\n",
      "No baseline correction applied\n",
      "0 projection items activated\n",
      "Effective window size : 1.000 (s)\n",
      "Fitting model across 3 power spectra.\n",
      "Effective window size : 1.000 (s)\n",
      "Fitting model across 61 power spectra.\n",
      "\n",
      "-----------------------------------------------------------------------------------------------\n",
      "Subject: sub-146\n",
      "---Get EEG Preprocessed Data - FIF ----------------------------------\n",
      "---EEG Spectral Parameterisation------------------------------------\n",
      "Not setting metadata\n",
      "147 matching events found\n",
      "No baseline correction applied\n",
      "0 projection items activated\n",
      "Effective window size : 1.000 (s)\n",
      "Fitting model across 3 power spectra.\n",
      "Effective window size : 1.000 (s)\n"
     ]
    },
    {
     "name": "stderr",
     "output_type": "stream",
     "text": [
      "/var/folders/_3/08zshp4n3z1_glk6l5vgyqz40000gn/T/ipykernel_65336/3824075881.py:68: UserWarning: SpecParam Fit Issues\n",
      "  warnings.warn(f'SpecParam Fit Issues', UserWarning)\n"
     ]
    },
    {
     "name": "stdout",
     "output_type": "stream",
     "text": [
      "Fitting model across 61 power spectra.\n",
      "\n",
      "-----------------------------------------------------------------------------------------------\n",
      "Subject: sub-147\n",
      "---Get EEG Preprocessed Data - FIF ----------------------------------\n",
      "---EEG Spectral Parameterisation------------------------------------\n",
      "Not setting metadata\n",
      "118 matching events found\n",
      "No baseline correction applied\n",
      "0 projection items activated\n",
      "Effective window size : 1.000 (s)\n",
      "Fitting model across 3 power spectra.\n"
     ]
    },
    {
     "name": "stderr",
     "output_type": "stream",
     "text": [
      "/var/folders/_3/08zshp4n3z1_glk6l5vgyqz40000gn/T/ipykernel_65336/3824075881.py:68: UserWarning: SpecParam Fit Issues\n",
      "  warnings.warn(f'SpecParam Fit Issues', UserWarning)\n"
     ]
    },
    {
     "name": "stdout",
     "output_type": "stream",
     "text": [
      "Effective window size : 1.000 (s)\n",
      "Fitting model across 61 power spectra.\n",
      "\n",
      "-----------------------------------------------------------------------------------------------\n",
      "Subject: sub-148\n",
      "---Get EEG Preprocessed Data - FIF ----------------------------------\n",
      "---EEG Spectral Parameterisation------------------------------------\n",
      "Not setting metadata\n",
      "158 matching events found\n",
      "No baseline correction applied\n",
      "0 projection items activated\n",
      "Effective window size : 1.000 (s)\n",
      "Fitting model across 3 power spectra.\n",
      "Effective window size : 1.000 (s)\n",
      "Fitting model across 61 power spectra.\n",
      "\n",
      "-----------------------------------------------------------------------------------------------\n",
      "Subject: sub-149\n",
      "---Get EEG Preprocessed Data - FIF ----------------------------------\n",
      "---EEG Spectral Parameterisation------------------------------------\n",
      "Not setting metadata\n",
      "76 matching events found\n",
      "No baseline correction applied\n",
      "0 projection items activated\n",
      "Effective window size : 1.000 (s)\n",
      "Fitting model across 3 power spectra.\n",
      "Effective window size : 1.000 (s)\n",
      "Fitting model across 61 power spectra.\n",
      "Combined Flattened Features DataFrame\n",
      "(149, 1478)\n"
     ]
    },
    {
     "data": {
      "text/html": [
       "<div>\n",
       "<style scoped>\n",
       "    .dataframe tbody tr th:only-of-type {\n",
       "        vertical-align: middle;\n",
       "    }\n",
       "\n",
       "    .dataframe tbody tr th {\n",
       "        vertical-align: top;\n",
       "    }\n",
       "\n",
       "    .dataframe thead th {\n",
       "        text-align: right;\n",
       "    }\n",
       "</style>\n",
       "<table border=\"1\" class=\"dataframe\">\n",
       "  <thead>\n",
       "    <tr style=\"text-align: right;\">\n",
       "      <th></th>\n",
       "      <th>subject_id</th>\n",
       "      <th>pd</th>\n",
       "      <th>age</th>\n",
       "      <th>gender</th>\n",
       "      <th>region_frontal_offset</th>\n",
       "      <th>region_frontal_exponent</th>\n",
       "      <th>region_frontal_cf_0</th>\n",
       "      <th>region_frontal_pw_0</th>\n",
       "      <th>region_frontal_bw_0</th>\n",
       "      <th>region_frontal_cf_1</th>\n",
       "      <th>...</th>\n",
       "      <th>channel_Iz_pw_3</th>\n",
       "      <th>channel_Iz_bw_3</th>\n",
       "      <th>channel_Iz_cf_4</th>\n",
       "      <th>channel_Iz_pw_4</th>\n",
       "      <th>channel_Iz_bw_4</th>\n",
       "      <th>channel_Iz_cf_5</th>\n",
       "      <th>channel_Iz_pw_5</th>\n",
       "      <th>channel_Iz_bw_5</th>\n",
       "      <th>channel_Iz_error</th>\n",
       "      <th>channel_Iz_r_squared</th>\n",
       "    </tr>\n",
       "  </thead>\n",
       "  <tbody>\n",
       "    <tr>\n",
       "      <th>0</th>\n",
       "      <td>sub-001</td>\n",
       "      <td>1</td>\n",
       "      <td>80</td>\n",
       "      <td>M</td>\n",
       "      <td>-12.147619</td>\n",
       "      <td>0.481923</td>\n",
       "      <td>7.124575</td>\n",
       "      <td>0.382933</td>\n",
       "      <td>3.661685</td>\n",
       "      <td>25.565920</td>\n",
       "      <td>...</td>\n",
       "      <td>NaN</td>\n",
       "      <td>NaN</td>\n",
       "      <td>NaN</td>\n",
       "      <td>NaN</td>\n",
       "      <td>NaN</td>\n",
       "      <td>NaN</td>\n",
       "      <td>NaN</td>\n",
       "      <td>NaN</td>\n",
       "      <td>NaN</td>\n",
       "      <td>NaN</td>\n",
       "    </tr>\n",
       "    <tr>\n",
       "      <th>1</th>\n",
       "      <td>sub-002</td>\n",
       "      <td>1</td>\n",
       "      <td>81</td>\n",
       "      <td>M</td>\n",
       "      <td>-10.770975</td>\n",
       "      <td>1.462089</td>\n",
       "      <td>6.318833</td>\n",
       "      <td>0.594900</td>\n",
       "      <td>2.065198</td>\n",
       "      <td>16.200240</td>\n",
       "      <td>...</td>\n",
       "      <td>NaN</td>\n",
       "      <td>NaN</td>\n",
       "      <td>NaN</td>\n",
       "      <td>NaN</td>\n",
       "      <td>NaN</td>\n",
       "      <td>NaN</td>\n",
       "      <td>NaN</td>\n",
       "      <td>NaN</td>\n",
       "      <td>NaN</td>\n",
       "      <td>NaN</td>\n",
       "    </tr>\n",
       "    <tr>\n",
       "      <th>2</th>\n",
       "      <td>sub-003</td>\n",
       "      <td>1</td>\n",
       "      <td>68</td>\n",
       "      <td>F</td>\n",
       "      <td>-11.282055</td>\n",
       "      <td>1.181536</td>\n",
       "      <td>11.545416</td>\n",
       "      <td>0.942409</td>\n",
       "      <td>12.000000</td>\n",
       "      <td>NaN</td>\n",
       "      <td>...</td>\n",
       "      <td>NaN</td>\n",
       "      <td>NaN</td>\n",
       "      <td>NaN</td>\n",
       "      <td>NaN</td>\n",
       "      <td>NaN</td>\n",
       "      <td>NaN</td>\n",
       "      <td>NaN</td>\n",
       "      <td>NaN</td>\n",
       "      <td>NaN</td>\n",
       "      <td>NaN</td>\n",
       "    </tr>\n",
       "    <tr>\n",
       "      <th>3</th>\n",
       "      <td>sub-004</td>\n",
       "      <td>1</td>\n",
       "      <td>80</td>\n",
       "      <td>M</td>\n",
       "      <td>-11.485494</td>\n",
       "      <td>1.369393</td>\n",
       "      <td>6.137473</td>\n",
       "      <td>0.844282</td>\n",
       "      <td>4.052694</td>\n",
       "      <td>NaN</td>\n",
       "      <td>...</td>\n",
       "      <td>NaN</td>\n",
       "      <td>NaN</td>\n",
       "      <td>NaN</td>\n",
       "      <td>NaN</td>\n",
       "      <td>NaN</td>\n",
       "      <td>NaN</td>\n",
       "      <td>NaN</td>\n",
       "      <td>NaN</td>\n",
       "      <td>NaN</td>\n",
       "      <td>NaN</td>\n",
       "    </tr>\n",
       "    <tr>\n",
       "      <th>4</th>\n",
       "      <td>sub-005</td>\n",
       "      <td>1</td>\n",
       "      <td>56</td>\n",
       "      <td>M</td>\n",
       "      <td>-12.037372</td>\n",
       "      <td>0.511769</td>\n",
       "      <td>6.566139</td>\n",
       "      <td>0.435743</td>\n",
       "      <td>2.000000</td>\n",
       "      <td>13.261402</td>\n",
       "      <td>...</td>\n",
       "      <td>NaN</td>\n",
       "      <td>NaN</td>\n",
       "      <td>NaN</td>\n",
       "      <td>NaN</td>\n",
       "      <td>NaN</td>\n",
       "      <td>NaN</td>\n",
       "      <td>NaN</td>\n",
       "      <td>NaN</td>\n",
       "      <td>NaN</td>\n",
       "      <td>NaN</td>\n",
       "    </tr>\n",
       "  </tbody>\n",
       "</table>\n",
       "<p>5 rows × 1478 columns</p>\n",
       "</div>"
      ],
      "text/plain": [
       "  subject_id  pd  age gender  region_frontal_offset  region_frontal_exponent  \\\n",
       "0    sub-001   1   80      M             -12.147619                 0.481923   \n",
       "1    sub-002   1   81      M             -10.770975                 1.462089   \n",
       "2    sub-003   1   68      F             -11.282055                 1.181536   \n",
       "3    sub-004   1   80      M             -11.485494                 1.369393   \n",
       "4    sub-005   1   56      M             -12.037372                 0.511769   \n",
       "\n",
       "   region_frontal_cf_0  region_frontal_pw_0  region_frontal_bw_0  \\\n",
       "0             7.124575             0.382933             3.661685   \n",
       "1             6.318833             0.594900             2.065198   \n",
       "2            11.545416             0.942409            12.000000   \n",
       "3             6.137473             0.844282             4.052694   \n",
       "4             6.566139             0.435743             2.000000   \n",
       "\n",
       "   region_frontal_cf_1  ...  channel_Iz_pw_3  channel_Iz_bw_3  \\\n",
       "0            25.565920  ...              NaN              NaN   \n",
       "1            16.200240  ...              NaN              NaN   \n",
       "2                  NaN  ...              NaN              NaN   \n",
       "3                  NaN  ...              NaN              NaN   \n",
       "4            13.261402  ...              NaN              NaN   \n",
       "\n",
       "   channel_Iz_cf_4  channel_Iz_pw_4  channel_Iz_bw_4  channel_Iz_cf_5  \\\n",
       "0              NaN              NaN              NaN              NaN   \n",
       "1              NaN              NaN              NaN              NaN   \n",
       "2              NaN              NaN              NaN              NaN   \n",
       "3              NaN              NaN              NaN              NaN   \n",
       "4              NaN              NaN              NaN              NaN   \n",
       "\n",
       "   channel_Iz_pw_5  channel_Iz_bw_5  channel_Iz_error  channel_Iz_r_squared  \n",
       "0              NaN              NaN               NaN                   NaN  \n",
       "1              NaN              NaN               NaN                   NaN  \n",
       "2              NaN              NaN               NaN                   NaN  \n",
       "3              NaN              NaN               NaN                   NaN  \n",
       "4              NaN              NaN               NaN                   NaN  \n",
       "\n",
       "[5 rows x 1478 columns]"
      ]
     },
     "metadata": {},
     "output_type": "display_data"
    }
   ],
   "source": [
    "# Run all the steps for EEG feature extraction\n",
    "#\n",
    "\n",
    "# Start Trace\n",
    "summary = f'EEG Feature Extraction'\n",
    "summary = summary + f\"\\n- Study: {study_info['study_name']} {study_info['dataset_ref']}\"\n",
    "summary = summary + f\"\\n- Run: {run_details['run_name']}\"\n",
    "summary = summary + f\"\\n- EEG Preprocessed Data Source: {run_details['eeg_preprocessed_data']}\"\n",
    "summary = summary + f\"\\n- PSD Params: {psd_params}\"\n",
    "summary = summary + f\"\\n- SpecParam Params: {specparam_params}\"\n",
    "print(summary)\n",
    "\n",
    "all_subjects_results = pd.DataFrame()\n",
    "all_subjects_summaries = pd.DataFrame()\n",
    "\n",
    "# Loop through all selected subjects in the study\n",
    "for idx, subject in study_subjects_df.iterrows():\n",
    "\n",
    "    # Just sample a subset of subjects when in test mode\n",
    "    if test_mode and idx not in TEST_SUBJECTS:\n",
    "        continue\n",
    "\n",
    "    subject_id = subject['subject_id']\n",
    "    print('\\n-----------------------------------------------------------------------------------------------')\n",
    "    print(f'Subject: {subject_id}')\n",
    "\n",
    "    # EEG Preprocessed Data Load\n",
    "    #\n",
    "    print('---Get EEG Preprocessed Data - FIF ----------------------------------')\n",
    "    source_file_path = utils.get_file_path(eeg_preprocessed_data_path, f\"{subject['subject_id']}_preprocessed_epo.fif\")\n",
    "    eeg_preprocessed_epoch = mne.read_epochs(source_file_path, preload=True, verbose=VERBOSE)\n",
    "    preprocessing_results = pd.read_pickle(eeg_preprocessed_data_path + f'/{subject_id}_preprocessing_results.pkl', compression='zip')\n",
    "\n",
    "    if VERBOSE:\n",
    "        print(f\"Description: {eeg_preprocessed_epoch.info['description']} on {eeg_preprocessed_epoch.info['meas_date']}\")\n",
    "        print(eeg_preprocessed_epoch)\n",
    "        print(eeg_preprocessed_epoch.info)\n",
    "        # plot_EEG_TD(EEG_preprocessed, test_channels) .. just the first epoch\n",
    "    \n",
    "    # SpecParam for Regions and all Individual Channels\n",
    "    #\n",
    "    print('---EEG Spectral Parameterisation------------------------------------')\n",
    "\n",
    "    # For regions\n",
    "    channel_groups = channels_setup(eeg_preprocessed_epoch)\n",
    "    spm_regs_summary, spm_results_df = get_specparam(eeg_preprocessed_epoch, channel_groups)\n",
    "    spm_results_df.insert(0, 'subject_id', subject_id)\n",
    "    all_subjects_results = pd.concat([all_subjects_results, spm_results_df], ignore_index=True)\n",
    "\n",
    "    # For all individual channels\n",
    "    spm_chns_summary, spm_results_df = get_specparam(eeg_preprocessed_epoch)\n",
    "    spm_results_df.insert(0, 'subject_id', subject_id)\n",
    "    all_subjects_results = pd.concat([all_subjects_results, spm_results_df], ignore_index=True)\n",
    "\n",
    "    # Collate Subject summaries\n",
    "    spm_regs_summary = spm_regs_summary.add_prefix('reg_')\n",
    "    spm_chns_summary = spm_chns_summary.add_prefix('chn_')\n",
    "    subject_summary = pd.concat([pd.Series({'subject_id': subject_id}), preprocessing_results, \n",
    "                                 spm_regs_summary, spm_chns_summary])\n",
    "    all_subjects_summaries = pd.concat(\n",
    "        [all_subjects_summaries, subject_summary.to_frame().T],\n",
    "        ignore_index=True\n",
    "    )\n",
    "\n",
    "# Create a flattened subject and features df\n",
    "eeg_features_flattened_df = combine_subjects_features(study_subjects_df, all_subjects_results)\n",
    "print('Combined Flattened Features DataFrame')\n",
    "print(eeg_features_flattened_df.shape)\n",
    "display(eeg_features_flattened_df.head())\n",
    "\n",
    "# Save all the results (need to convert dtypes for summaries)\n",
    "all_subjects_results.to_pickle(run_results_path + '/eeg_features_superset_df.pkl', compression='zip') \n",
    "eeg_features_flattened_df.to_pickle(run_results_path + '/eeg_features_flattened_df.pkl', compression='zip') \n",
    "\n",
    "all_subjects_summaries = all_subjects_summaries.convert_dtypes()\n",
    "all_subjects_summaries.to_pickle(run_results_path + '/eeg_processing_results_df.pkl', compression='zip') \n"
   ]
  }
 ],
 "metadata": {
  "kernelspec": {
   "display_name": "eeg_ml_pipeline_v2_20250722",
   "language": "python",
   "name": "python3"
  },
  "language_info": {
   "codemirror_mode": {
    "name": "ipython",
    "version": 3
   },
   "file_extension": ".py",
   "mimetype": "text/x-python",
   "name": "python",
   "nbconvert_exporter": "python",
   "pygments_lexer": "ipython3",
   "version": "3.11.13"
  }
 },
 "nbformat": 4,
 "nbformat_minor": 5
}
