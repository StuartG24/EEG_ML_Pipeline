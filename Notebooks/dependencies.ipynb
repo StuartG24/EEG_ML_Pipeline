{
 "cells": [
  {
   "cell_type": "markdown",
   "id": "b8414e09",
   "metadata": {},
   "source": [
    "# Key Dependencies List\n",
    "\n"
   ]
  },
  {
   "cell_type": "code",
   "execution_count": 1,
   "id": "a2ad15e2",
   "metadata": {},
   "outputs": [],
   "source": [
    "# Full Conda Environment List\n",
    "! conda env export > conda_dependencies.yaml"
   ]
  },
  {
   "cell_type": "raw",
   "id": "42f88912",
   "metadata": {
    "vscode": {
     "languageId": "raw"
    }
   },
   "source": [
    "# Key Requirements\n",
    "\n",
    "name: eeg_diss_v1\n",
    "\n",
    "channels:\n",
    "  - conda-forge\n",
    "  - defaults\n",
    "\n",
    "General dependencies:\n",
    "- python = 3.11.12\n",
    "- numpy = 2.0.2\n",
    "- scipy = 1.15.3\n",
    "- pandas = 2.2.3\n",
    "- matplotlib = 3.10.3\n",
    "- scikit-learn = 1.6.1\n",
    "\n",
    "EEG specific dependencies:\n",
    "- mne = 1.9.0\n",
    "- mne-bids-pipeline = 1.9.0\n",
    "- neurodisp = 2.3.0\n",
    "- fooof = 1.1.1\n"
   ]
  }
 ],
 "metadata": {
  "kernelspec": {
   "display_name": "eeg_diss_v1",
   "language": "python",
   "name": "python3"
  },
  "language_info": {
   "codemirror_mode": {
    "name": "ipython",
    "version": 3
   },
   "file_extension": ".py",
   "mimetype": "text/x-python",
   "name": "python",
   "nbconvert_exporter": "python",
   "pygments_lexer": "ipython3",
   "version": "3.11.12"
  }
 },
 "nbformat": 4,
 "nbformat_minor": 5
}
