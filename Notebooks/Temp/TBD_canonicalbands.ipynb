{
 "cells": [
  {
   "cell_type": "markdown",
   "id": "123675ff",
   "metadata": {},
   "source": [
    "# Possible canonical band handling and saving?"
   ]
  },
  {
   "cell_type": "code",
   "execution_count": null,
   "id": "c21c072b",
   "metadata": {},
   "outputs": [],
   "source": [
    "canonical = {'delta':[2,4],\n",
    "             'theta':[4,8],\n",
    "             'alpha':[8,13],\n",
    "             'beta' :[13,30],\n",
    "             'gamma':[30,40]}\n",
    "# Assign peaks\n",
    "band_features = {}\n",
    "for label, (lo,hi) in canonical.items():\n",
    "    peaks = [p for p in fm.peak_params_ if lo <= p[0] < hi]\n",
    "    if peaks:\n",
    "        cf, pw, bw = peaks[0]          # take highest-power peak\n",
    "        band_features.update({f'{label}_cf':cf,\n",
    "                              f'{label}_pw':pw,\n",
    "                              f'{label}_bw':bw})\n",
    "    else:\n",
    "        band_features.update({f'{label}_cf':None,\n",
    "                              f'{label}_pw':0,\n",
    "                              f'{label}_bw':0})\n"
   ]
  }
 ],
 "metadata": {
  "language_info": {
   "name": "python"
  }
 },
 "nbformat": 4,
 "nbformat_minor": 5
}
