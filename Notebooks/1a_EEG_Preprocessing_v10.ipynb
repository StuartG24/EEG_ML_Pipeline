{
 "cells": [
  {
   "cell_type": "markdown",
   "id": "e3feed9f",
   "metadata": {},
   "source": [
    "# 1a. EEG Dataset Preprocessing\n",
    "\n",
    "- 1a EEG Dataset Load & Preprocessing [Jump To](#run-1a-eeg-dataset-load--preprocessing)\n"
   ]
  },
  {
   "cell_type": "markdown",
   "id": "bb601b02",
   "metadata": {},
   "source": [
    "## Ref Links\n",
    "\n",
    "- The Brain Imaging Data Structure (BIDS): https://bids.neuroimaging.io\n",
    "- MNE-Python: https://mne.tools/stable/index.html\n",
    "- SpecParam: https://specparam-tools.github.io and https://github.com/fooof-tools\n",
    "\n",
    "## Dependencies\n",
    "\n",
    "General dependencies:\n",
    "- python = 3.11.13\n",
    "- numpy = 2.0.2\n",
    "- scipy = 1.15.3\n",
    "- pandas = 2.2.3\n",
    "- matplotlib = 3.10.3\n",
    "\n",
    "ML dependencies:\n",
    "- scikit-learn = 1.6.1\n",
    "\n",
    "EEG specific dependencies:\n",
    "- mne = 1.9.0\n",
    "- mne-icalabel = 0.7.0\n",
    "- autoreject = 0.4.3\n",
    "- specparam = 2.0.0rc3"
   ]
  },
  {
   "cell_type": "markdown",
   "id": "daa4a22a",
   "metadata": {},
   "source": [
    "# Imports & Functions"
   ]
  },
  {
   "cell_type": "markdown",
   "id": "c1431e4b",
   "metadata": {},
   "source": [
    "## Imports"
   ]
  },
  {
   "cell_type": "code",
   "execution_count": 1,
   "id": "4d9e7de5",
   "metadata": {},
   "outputs": [],
   "source": [
    "# General imports\n",
    "import os\n",
    "import sys\n",
    "import gc\n",
    "import warnings\n",
    "\n",
    "from datetime import datetime\n",
    "from pprint import pprint\n",
    "import time\n",
    "import pickle\n",
    "import random\n",
    "from collections import Counter\n",
    "\n",
    "# Custom Functions\n",
    "sys.path.append(os.path.abspath('../Notebooks/Utilities')) \n",
    "import cust_utilities as utils\n",
    "\n",
    "# Maths, Pandas etc\n",
    "import math\n",
    "import numpy as np\n",
    "import pandas as pd\n",
    "import scipy as sci\n",
    "\n",
    "# Plots\n",
    "import matplotlib.pyplot as plt\n",
    "plt.style.use('ggplot')\n",
    "from matplotlib.backends.backend_pdf import PdfPages\n",
    "\n",
    "# MNE-Python\n",
    "import mne\n",
    "from mne.preprocessing import ICA\n",
    "from mne_icalabel import label_components\n",
    "from autoreject import AutoReject\n",
    "from autoreject import get_rejection_threshold\n",
    "\n",
    "# SpecParam\n",
    "from specparam import SpectralGroupModel\n",
    "from specparam.plts.spectra import plot_spectra\n",
    "# from specparam import __version__ as specparam_version\n",
    "# print('Current SpecParam version:', specparam_version)\n"
   ]
  },
  {
   "cell_type": "markdown",
   "id": "eae2b26c",
   "metadata": {},
   "source": [
    "## Raw EEG Load, Display, Save"
   ]
  },
  {
   "cell_type": "code",
   "execution_count": null,
   "id": "4cc6dbe5",
   "metadata": {},
   "outputs": [],
   "source": [
    "# # Function to get the raw EEG signal data\n",
    "# #\n",
    "\n",
    "# def get_EEG_raw(dataset_path, subject_id):\n",
    "#     \"\"\"\n",
    "#     Get raw EEG data.\n",
    "\n",
    "#     Parameters\n",
    "#     ----------\n",
    "#     dataset_path : str\n",
    "#     subject_id : str\n",
    "\n",
    "#     Returns\n",
    "#     -------\n",
    "#     EEG_raw : FIF\n",
    "#     \"\"\"\n",
    "\n",
    "#     flag_verbose = (True if 'VERBOSE' in globals() and VERBOSE else False)\n",
    "\n",
    "#     # BIDS File Structure\n",
    "#     # dataset_root = \n",
    "#     # dataset_name = \n",
    "#     subject = subject_id\n",
    "#     session = ''\n",
    "#     task = 'Rest'\n",
    "#     datatype='eeg'\n",
    "\n",
    "#     # Cater for none or multiple sessions, eg 'ses-01', 'ses-02'\n",
    "#     temp_path = os.path.join(dataset_path, subject)\n",
    "#     subfolders = [f for f in os.listdir(temp_path) if os.path.isdir(os.path.join(temp_path, f))]\n",
    "#     if 'eeg' in subfolders:\n",
    "#         session = ''\n",
    "#     elif any(f.startswith('ses-') for f in subfolders):\n",
    "#         session = sorted([f for f in subfolders if f.startswith('ses-')])\n",
    "#     else:\n",
    "#         raise FileNotFoundError(f\"No 'eeg' or session folder found in {temp_path}\")\n",
    "    \n",
    "#     # Cater for 0 or multiple sessions\n",
    "#     # print(f'Test Found: {session}')\n",
    "#     sessions_eeg_raw = []\n",
    "#     if session == '':\n",
    "#         temp_path = os.path.join(dataset_path, subject, datatype)\n",
    "#         temp_file_name = subject + '_task-' + task + '_' + datatype + '.set'\n",
    "#         eeg_lab_file_path = utils.get_file_path(temp_path, temp_file_name)\n",
    "#         try:\n",
    "#             with warnings.catch_warnings(record=True) as w:\n",
    "#                 warnings.simplefilter(\"always\")\n",
    "#                 eeg_dataset_raw = mne.io.read_raw_eeglab(eeg_lab_file_path, preload=True, verbose=flag_verbose)\n",
    "#                 sessions_eeg_raw.append(eeg_dataset_raw)\n",
    "#                 for warn in w:\n",
    "#                     print(f\"Warning loading EEG data for subject {subject}: {warn.message}\")\n",
    "#                     if eeg_dataset_raw.annotations is not None:\n",
    "#                         print('Removing Annotations')\n",
    "#                         boundary_idx = []\n",
    "#                         for i, desc in enumerate(eeg_dataset_raw.annotations.description):\n",
    "#                             if 'boundary' in desc.lower():\n",
    "#                                 boundary_idx.append(i)\n",
    "#                         if boundary_idx:\n",
    "#                             eeg_dataset_raw.annotations.delete(boundary_idx)\n",
    "#         except Exception as e:\n",
    "#             raise ValueError(f\"Failed to load EEG data for subject {subject}: {e}\")\n",
    "#     else:\n",
    "#         for next_session in session:\n",
    "#             temp_path = os.path.join(dataset_path, subject, next_session, datatype)\n",
    "#             temp_file_name = subject + '_' + next_session + '_task-' + task + '_' + datatype + '.set'\n",
    "#             eeg_lab_file_path = utils.get_file_path(temp_path, temp_file_name)\n",
    "#             # print(f'Test session path: {eeg_lab_file_path}')\n",
    "#             try:\n",
    "#                 eeg_dataset_raw = mne.io.read_raw_eeglab(eeg_lab_file_path, preload=True, verbose=flag_verbose)\n",
    "#                 sessions_eeg_raw.append(eeg_dataset_raw)\n",
    "#             except Exception as e:\n",
    "#                 raise ValueError(f\"Failed to load EEG data for subject {subject}: {e}\")\n",
    "    \n",
    "#     return sessions_eeg_raw"
   ]
  },
  {
   "cell_type": "code",
   "execution_count": 3,
   "id": "42282a05",
   "metadata": {},
   "outputs": [],
   "source": [
    "# Function to plot EEG Time Series & Save to PDF\n",
    "#\n",
    "\n",
    "def plot_EEG_TD(eeg_FIF, channels, time_range_s=[], pdf_file = None):\n",
    "    \n",
    "    \"\"\"\n",
    "    EEG Time Domain Plot.\n",
    "\n",
    "    Parameters\n",
    "    ----------\n",
    "    eeg_FIF : FIF\n",
    "    channels : [str] eg ['P5', 'Pz']\n",
    "    time_range_s : [nn,nn]\n",
    "    \"\"\"\n",
    "\n",
    "    # Channels Limit\n",
    "    max_plots = 5\n",
    "    if len(channels) > max_plots:\n",
    "        channels = channels[:max_plots]\n",
    "\n",
    "    # Time Range\n",
    "    sfreq = eeg_FIF.info['sfreq']\n",
    "    if time_range_s:\n",
    "        start = int(time_range_s[0] * sfreq)\n",
    "        stop = int(time_range_s[1] * sfreq)\n",
    "    else:\n",
    "        start = 0\n",
    "        stop = None\n",
    "\n",
    "    # Get signal and times for the elected channel(s)\n",
    "    # Handle Epoched data\n",
    "    if eeg_FIF.__class__.__name__.startswith('Raw'):\n",
    "        signal, times = eeg_FIF.get_data(picks=channels, \n",
    "                                        start=start, stop=stop,\n",
    "                                        return_times=True)\n",
    "    else:\n",
    "        # warnings.warn(\"Epoched data detected: plotting may not be accurate for all types.\", UserWarning)\n",
    "        # return\n",
    "        signal, times = eeg_FIF.get_data(picks=channels)\n",
    "        signal = signal.mean(axis=0)\n",
    "        times = eeg_FIF.times\n",
    "\n",
    "    # plot and copy to pdf\n",
    "    plt.figure(figsize=(12, 8))\n",
    "    for i, ch_name in enumerate(channels):\n",
    "        plt.plot(times, signal[i] * 1e6, label=ch_name, alpha=0.7, linewidth=0.6)\n",
    "    plt.title('EEG Time Series - Channels: ' + ', '.join(channels))\n",
    "    plt.xlabel('Time (s)')\n",
    "    plt.ylabel('Amplitude (µV)')\n",
    "    plt.legend()\n",
    "    plt.tight_layout()\n",
    "    if pdf_file:\n",
    "        pdf_file.savefig()\n",
    "    plt.show()"
   ]
  },
  {
   "cell_type": "code",
   "execution_count": null,
   "id": "aefd7688",
   "metadata": {},
   "outputs": [],
   "source": [
    "# Function to save EEG data for a given subject\n",
    "#\n",
    "\n",
    "def save_EEG_for_subject(eeg_data, folder_path, subject_name, tag, epoched=False, format='fif', verbose=False):\n",
    "\n",
    "    if epoched:\n",
    "        subject_results_file = os.path.join(folder_path, f'{subject_name}_{tag}_epo.{format}')\n",
    "    else:\n",
    "        subject_results_file = os.path.join(folder_path, f'{subject_name}_{tag}_raw.{format}')\n",
    "\n",
    "    if format == 'fif':\n",
    "        eeg_data.save(subject_results_file, overwrite=False, verbose=verbose)\n",
    "    elif format == 'set':\n",
    "        mne.export.export_raw(subject_results_file, eeg_data, fmt='eeglab', overwrite=False, verbose=verbose)\n",
    "    else:\n",
    "        raise ValueError(f\"Unsupported format: {format}\")\n"
   ]
  },
  {
   "cell_type": "markdown",
   "id": "5a20d3cf",
   "metadata": {},
   "source": [
    "## EEG Filtering"
   ]
  },
  {
   "cell_type": "code",
   "execution_count": 5,
   "id": "e531ae4b",
   "metadata": {},
   "outputs": [],
   "source": [
    "# Function to filter the raw EEG signal data\n",
    "#\n",
    "\n",
    "def perform_EEG_filtering(params, EEG_raw):\n",
    "    \"\"\"\n",
    "    Preprocessing of the EEG raw data\n",
    "\n",
    "    Parameters\n",
    "    ----------\n",
    "    params : dic\n",
    "    EEG_raw : raw\n",
    "\n",
    "    Returns\n",
    "    -------\n",
    "    EEG_clean : clean\n",
    "    \"\"\"\n",
    "\n",
    "    flag_verbose = (True if 'VERBOSE' in globals() and VERBOSE else False)\n",
    "\n",
    "    EEG_filtered = EEG_raw.copy()\n",
    "\n",
    "    # -----------------------------------------------------------------------\n",
    "    # Bandpass filtering\n",
    "    #\n",
    "    EEG_filtered = EEG_filtered.filter(picks='eeg', \n",
    "                                       l_freq=params['band_pass_lf'], \n",
    "                                       h_freq=params['band_pass_hf'], \n",
    "                                       method=params['band_pass_method'], \n",
    "                                       phase='zero', \n",
    "                                       verbose=flag_verbose)\n",
    "\n",
    "    # -----------------------------------------------------------------------\n",
    "    # Montage Set\n",
    "    # Attempt to use standard-1020 channels, but remove any channels not in it\n",
    "    #\n",
    "    std_1020_montage = mne.channels.make_standard_montage(\"standard_1020\")\n",
    "    \n",
    "    # Identify missing channels & drop them\n",
    "    raw_set = set(EEG_raw.ch_names)\n",
    "    montage_set = set(std_1020_montage.ch_names)\n",
    "    missing_in_raw = montage_set - raw_set\n",
    "    missing_in_montage = raw_set - montage_set  \n",
    "    EEG_filtered.drop_channels(missing_in_montage)\n",
    "\n",
    "    # Set to standard montage and plot\n",
    "    EEG_filtered.set_montage(std_1020_montage)\n",
    "\n",
    "    # -----------------------------------------------------------------------\n",
    "    # Remove linear trends from each channel signal & average\n",
    "    #\n",
    "    if params['linear_detrend'] != 'none':\n",
    "        EEG_filtered.apply_function(sci.signal.detrend, n_jobs=-1, \n",
    "                                    channel_wise=True, \n",
    "                                    type=params['linear_detrend'], \n",
    "                                    verbose=flag_verbose)\n",
    "\n",
    "    # Execute average referencing\n",
    "    EEG_filtered.set_eeg_reference(ref_channels=params['channel_referencing'], verbose=flag_verbose)\n",
    "\n",
    "    if flag_verbose:\n",
    "        # std_1020_montage.plot()\n",
    "        print(f\"Channels in montage but not in EEG_raw: {sorted(missing_in_raw)}\")\n",
    "        print(f\"Channels in EEG_raw but not in montage: {sorted(missing_in_montage)}\")\n",
    "        print(f\"Number of channels before: {len(EEG_raw.ch_names)} and after montage set: {len(EEG_filtered.ch_names)}\")\n",
    "        # fig = EEG_filtered.plot_sensors(show_names=True)\n",
    "        # plt.show()\n",
    "\n",
    "    return EEG_filtered\n"
   ]
  },
  {
   "cell_type": "markdown",
   "id": "9341c4d4",
   "metadata": {},
   "source": [
    "## Artefact Removal Functions"
   ]
  },
  {
   "cell_type": "code",
   "execution_count": 6,
   "id": "525d33aa",
   "metadata": {},
   "outputs": [],
   "source": [
    "# Function to perform artifact removal using ICA etc\n",
    "#\n",
    "\n",
    "def perform_artefact_removal(params, EEG_raw):\n",
    "    \"\"\"\n",
    "    Artefact removal on the EEG raw data, using ICA\n",
    "\n",
    "    Parameters\n",
    "    ----------\n",
    "    params : dic\n",
    "    EEG_raw : raw\n",
    "\n",
    "    Returns\n",
    "    -------\n",
    "    results : pd series\n",
    "    epochs_ar : fif\n",
    "    \"\"\"\n",
    "\n",
    "    flag_verbose = (True if 'VERBOSE' in globals() and VERBOSE else False)\n",
    "\n",
    "    EEG_cleaned = EEG_raw.copy()\n",
    "    quality_warning = False\n",
    "\n",
    "    # -----------------------------------------------------------------------\n",
    "    # Determine ICA components, label & identify for exclusion\n",
    "    #\n",
    "\n",
    "    # ICA & filter\n",
    "    ica = ICA(n_components=len(EEG_cleaned.ch_names) - 1, \n",
    "              max_iter=\"auto\", \n",
    "              method=params['ica_method'], \n",
    "              random_state=42, \n",
    "              fit_params=dict(extended=True))\n",
    "    ica.fit(EEG_cleaned, verbose=flag_verbose)\n",
    " \n",
    "    ica_labels = label_components(EEG_cleaned, ica, method='iclabel')\n",
    "    labels = ica_labels[\"labels\"]\n",
    "    brain_components = [i for i, label in enumerate(labels) if label == \"brain\"]\n",
    "    other_components = [i for i, label in enumerate(labels) if label != \"brain\"]\n",
    "    filtered_ica = ica.apply(EEG_cleaned.copy(), exclude=np.unique(other_components), verbose=flag_verbose)\n",
    "\n",
    "    # Flag 'quality'\n",
    "    ICA_rejection_level = len(other_components)/ica.n_components_\n",
    "    if ICA_rejection_level >= params['ICA_rejection_threshold']:\n",
    "        warnings.warn(f\"High component rejection: {100 * ICA_rejection_level:.2f}% marked as non-brain.\", UserWarning)\n",
    "        quality_warning = True\n",
    "\n",
    "    if flag_verbose:\n",
    "        print('ICs Breakdown')\n",
    "        print(f'Original Channels: {len(EEG_cleaned.ch_names)}. ICs: {ica.n_components_}')\n",
    "        print(f'Brain Components: {len(brain_components)}, {100 * len(brain_components)/ica.n_components_:.2f}%')\n",
    "        print(f'Other Components: {len(other_components)}, {100 * len(other_components)/ica.n_components_:.2f}%')\n",
    "        print(f'List of Brain components: {brain_components}')\n",
    "\n",
    "        # Details for non-brain ICs\n",
    "        non_brain_labels = [label for label in labels if label != \"brain\"]\n",
    "        label_counts = Counter(non_brain_labels)\n",
    "        print(\"Non-brain IC counts:\")\n",
    "        for comp_type, count in label_counts.items():\n",
    "            print(f\"- {comp_type}: {count}\")\n",
    "\n",
    "        # Show the explained variance for top 5 components\n",
    "        for component_idx in range(min(5, ica.n_components_)):\n",
    "            component_variance = ica.get_explained_variance_ratio(EEG_cleaned, components=component_idx)\n",
    "            print(f\"Component {component_idx} contribution:\", end=' ')\n",
    "            for ch_type, variance in component_variance.items():\n",
    "                print(f\"  {ch_type}: {100 * variance:.2f}%\")\n",
    "\n",
    "        # ica.plot_overlay(EEG_cleaned, exclude=[0], picks=\"eeg\")\n",
    "\n",
    "    # -----------------------------------------------------------------------\n",
    "    # Epoching & identify epochs for rejection\n",
    "    #\n",
    "\n",
    "    # Group the EEG signal into epochs and apply linear detrending\n",
    "    epochs = mne.make_fixed_length_epochs(filtered_ica, duration=1, overlap=0, preload=True, verbose=flag_verbose)\n",
    "    epochs.apply_function(sci.signal.detrend, type='linear', verbose=flag_verbose)\n",
    "\n",
    "    # Use autoreject to identify unusual large amplitudes in each epoch, drop these\n",
    "    reject_criteria = get_rejection_threshold(epochs, verbose=flag_verbose)\n",
    "    epochs.drop_bad(reject=reject_criteria, verbose=False)\n",
    "\n",
    "    # Instantiate AutoReject and clean individual segments\n",
    "    epochs_ar, reject_log = ar_model.fit_transform(epochs, return_log=True)\n",
    "    epochs_ar.pick(['eeg'])\n",
    "    n_epochs_rejected = np.sum(reject_log.bad_epochs)\n",
    "    epochs_rejection_level = n_epochs_rejected / len(epochs)\n",
    "    \n",
    "    if flag_verbose:\n",
    "        print(f'Epochs rejected: {n_epochs_rejected} out of {len(epochs)}, {100 * epochs_rejection_level:.2f}%')\n",
    "        # TODO: Are these plots really of much use?\n",
    "        # Epochs plot rejection patterns\n",
    "        reject_log.plot('horizontal')\n",
    "        # Before and After\n",
    "        epochs.average().plot() \n",
    "        epochs_ar.average().plot() \n",
    "\n",
    "        print('EEG Post Artifact Removal')\n",
    "        print(epochs_ar)\n",
    "\n",
    "    # -----------------------------------------------------------------------\n",
    "    # Collate results\n",
    "    #\n",
    "    results = pd.Series({\n",
    "        'EEG_preprocessing_quality_warning': quality_warning,\n",
    "        'channel_count': len(EEG_raw.ch_names),\n",
    "        'ICA_components_count': ica.n_components_,\n",
    "        'ICA_rejection_level': ICA_rejection_level,\n",
    "        'epochs_count': len(epochs),\n",
    "        'epoch_rejection_level': epochs_rejection_level\n",
    "        })\n",
    "    \n",
    "    return results, epochs_ar\n"
   ]
  },
  {
   "cell_type": "markdown",
   "id": "9ecc3194",
   "metadata": {},
   "source": [
    "# Run: 1a EEG Dataset Load & Preprocessing"
   ]
  },
  {
   "cell_type": "code",
   "execution_count": null,
   "id": "da8be98a",
   "metadata": {},
   "outputs": [],
   "source": [
    "# Run Details & Parameters\n",
    "#\n",
    "\n",
    "#---- Run Parameters --------------------------------\n",
    "# Study Details\n",
    "study_name = 'IOWA_Rest'\n",
    "\n",
    "# Run Name & Test Mode\n",
    "run_description = 'sample_test'\n",
    "data_source = 'datasets'\n",
    "test_mode = True\n",
    "\n",
    "# Preprocessing Parameters\n",
    "preprocess_params = {'band_pass_lf': 1, 'band_pass_hf': 100, \n",
    "                     'band_pass_method': 'iir', 'phase': 'zero',\n",
    "                     'linear_detrend': 'linear',  # linear, none\n",
    "                     'channel_referencing': 'average' \n",
    "                     }\n",
    "artefact_params = {'ica_method': 'infomax', # infomax, none\n",
    "                   'ICA_rejection_threshold': 0.8\n",
    "                    }\n",
    "#----------------------------------------------------\n",
    "\n",
    "# Get existing study details, if exists\n",
    "study_folder_path = utils.get_folder_path('Study_' + study_name)\n",
    "study_info = pd.read_pickle(study_folder_path + '/study_inf.pkl', compression='zip')\n",
    "study_subjects_df = pd.read_pickle(study_folder_path + '/study_subjects_df.pkl', compression='zip')\n",
    "\n",
    "# Setup the processing run and results folder & save params\n",
    "current_date = datetime.now().strftime('%Y%m%d')\n",
    "run_name = f'1a_EEG_Preprocessing_Results_{current_date}_{run_description}'\n",
    "run_results_path = utils.extend_folder_path(study_info['eeg_processing_results_path'], run_name, exists_ok=False)\n",
    "\n",
    "run_details = pd.Series({\n",
    "    'run_name': run_name,\n",
    "    'study_name': study_name,\n",
    "    'data_source': study_info['dataset_path'],\n",
    "    'preprocess_params': preprocess_params,\n",
    "    'artefact_params': artefact_params,\n",
    "})\n",
    "run_details.to_pickle(run_results_path + '/run_details.pkl', compression='zip')\n",
    "\n",
    "# Set progress messages, testing\n",
    "if test_mode:\n",
    "    VERBOSE = True\n",
    "    test_subjects = [0,5,101]\n",
    "    test_channels = ['F4', 'C5', 'Cz', 'P6']\n",
    "else:\n",
    "    VERBOSE = False\n",
    "    test_subjects = []\n",
    "    test_channels = []\n",
    "    \n",
    "del current_date, study_name, run_description, study_folder_path\n"
   ]
  },
  {
   "cell_type": "code",
   "execution_count": null,
   "id": "c7a56a27",
   "metadata": {},
   "outputs": [
    {
     "name": "stdout",
     "output_type": "stream",
     "text": [
      "EEG Preprocessing\n",
      "- Study: IOWA_Rest ds004584-1.0.0\n",
      "- Run: 1a_EEG_Preprocessing_Results_20250702_full_run\n",
      "- Data Source: /Users/stuartgow/GitHub/EEG_ML_Pipeline/Data/EEG_Datasets_Source_exgithub/ds004584-1.0.0 \n",
      "- Preprocessing Params: {'band_pass_lf': 1, 'band_pass_hf': 100, 'band_pass_method': 'iir', 'phase': 'zero', 'linear_detrend': 'linear', 'channel_referencing': 'average'}\n",
      "- Artefact Removal Params: {'ica_method': 'infomax', 'ICA_rejection_threshold': 0.8}\n",
      "\n",
      "-----------------------------------------------------------------------------------------------\n",
      "Subject: sub-001\n",
      "---Get EEG Raw Data - FIF -----------------------------------------\n",
      "Warning loading EEG data for subject sub-001: The data contains 'boundary' events, indicating data discontinuities. Be cautious of filtering and epoching around these events.\n",
      "Removing Annotations\n",
      "---Filtering & Referencing------------------------------------------\n",
      "---Artefact Removal - ICA ------------------------------------------\n"
     ]
    },
    {
     "name": "stderr",
     "output_type": "stream",
     "text": [
      "/var/folders/wd/rhzj_w8570g_y66t6j6mh4zw0000gn/T/ipykernel_84788/3464947669.py:45: UserWarning: High component rejection: 93.55% marked as non-brain.\n",
      "  warnings.warn(f\"High component rejection: {100 * ICA_rejection_level:.2f}% marked as non-brain.\", UserWarning)\n"
     ]
    },
    {
     "name": "stdout",
     "output_type": "stream",
     "text": [
      "Dropped 9 epochs: 37, 80, 104, 140, 141, 142, 178, 179, 218\n",
      "\n",
      "-----------------------------------------------------------------------------------------------\n",
      "Subject: sub-002\n",
      "---Get EEG Raw Data - FIF -----------------------------------------\n",
      "Warning loading EEG data for subject sub-002: The data contains 'boundary' events, indicating data discontinuities. Be cautious of filtering and epoching around these events.\n",
      "Removing Annotations\n",
      "---Filtering & Referencing------------------------------------------\n",
      "---Artefact Removal - ICA ------------------------------------------\n",
      "\n",
      "-----------------------------------------------------------------------------------------------\n",
      "Subject: sub-003\n",
      "---Get EEG Raw Data - FIF -----------------------------------------\n",
      "Warning loading EEG data for subject sub-003: The data contains 'boundary' events, indicating data discontinuities. Be cautious of filtering and epoching around these events.\n",
      "Removing Annotations\n",
      "---Filtering & Referencing------------------------------------------\n",
      "---Artefact Removal - ICA ------------------------------------------\n",
      "\n",
      "-----------------------------------------------------------------------------------------------\n",
      "Subject: sub-004\n",
      "---Get EEG Raw Data - FIF -----------------------------------------\n",
      "Warning loading EEG data for subject sub-004: The data contains 'boundary' events, indicating data discontinuities. Be cautious of filtering and epoching around these events.\n",
      "Removing Annotations\n",
      "---Filtering & Referencing------------------------------------------\n",
      "---Artefact Removal - ICA ------------------------------------------\n",
      "\n",
      "-----------------------------------------------------------------------------------------------\n",
      "Subject: sub-005\n",
      "---Get EEG Raw Data - FIF -----------------------------------------\n",
      "Warning loading EEG data for subject sub-005: The data contains 'boundary' events, indicating data discontinuities. Be cautious of filtering and epoching around these events.\n",
      "Removing Annotations\n",
      "---Filtering & Referencing------------------------------------------\n",
      "---Artefact Removal - ICA ------------------------------------------\n"
     ]
    },
    {
     "name": "stderr",
     "output_type": "stream",
     "text": [
      "/var/folders/wd/rhzj_w8570g_y66t6j6mh4zw0000gn/T/ipykernel_84788/3464947669.py:45: UserWarning: High component rejection: 80.65% marked as non-brain.\n",
      "  warnings.warn(f\"High component rejection: {100 * ICA_rejection_level:.2f}% marked as non-brain.\", UserWarning)\n"
     ]
    },
    {
     "name": "stdout",
     "output_type": "stream",
     "text": [
      "\n",
      "-----------------------------------------------------------------------------------------------\n",
      "Subject: sub-006\n",
      "---Get EEG Raw Data - FIF -----------------------------------------\n",
      "Warning loading EEG data for subject sub-006: The data contains 'boundary' events, indicating data discontinuities. Be cautious of filtering and epoching around these events.\n",
      "Removing Annotations\n",
      "---Filtering & Referencing------------------------------------------\n",
      "---Artefact Removal - ICA ------------------------------------------\n",
      "\n",
      "-----------------------------------------------------------------------------------------------\n",
      "Subject: sub-007\n",
      "---Get EEG Raw Data - FIF -----------------------------------------\n",
      "Warning loading EEG data for subject sub-007: The data contains 'boundary' events, indicating data discontinuities. Be cautious of filtering and epoching around these events.\n",
      "Removing Annotations\n",
      "---Filtering & Referencing------------------------------------------\n",
      "---Artefact Removal - ICA ------------------------------------------\n",
      "\n",
      "-----------------------------------------------------------------------------------------------\n",
      "Subject: sub-008\n",
      "---Get EEG Raw Data - FIF -----------------------------------------\n",
      "Warning loading EEG data for subject sub-008: The data contains 'boundary' events, indicating data discontinuities. Be cautious of filtering and epoching around these events.\n",
      "Removing Annotations\n",
      "---Filtering & Referencing------------------------------------------\n",
      "---Artefact Removal - ICA ------------------------------------------\n"
     ]
    },
    {
     "name": "stderr",
     "output_type": "stream",
     "text": [
      "/var/folders/wd/rhzj_w8570g_y66t6j6mh4zw0000gn/T/ipykernel_84788/3464947669.py:45: UserWarning: High component rejection: 80.65% marked as non-brain.\n",
      "  warnings.warn(f\"High component rejection: {100 * ICA_rejection_level:.2f}% marked as non-brain.\", UserWarning)\n"
     ]
    },
    {
     "name": "stdout",
     "output_type": "stream",
     "text": [
      "\n",
      "-----------------------------------------------------------------------------------------------\n",
      "Subject: sub-009\n",
      "---Get EEG Raw Data - FIF -----------------------------------------\n",
      "Warning loading EEG data for subject sub-009: The data contains 'boundary' events, indicating data discontinuities. Be cautious of filtering and epoching around these events.\n",
      "Removing Annotations\n",
      "---Filtering & Referencing------------------------------------------\n",
      "---Artefact Removal - ICA ------------------------------------------\n"
     ]
    },
    {
     "name": "stderr",
     "output_type": "stream",
     "text": [
      "/var/folders/wd/rhzj_w8570g_y66t6j6mh4zw0000gn/T/ipykernel_84788/3464947669.py:45: UserWarning: High component rejection: 83.33% marked as non-brain.\n",
      "  warnings.warn(f\"High component rejection: {100 * ICA_rejection_level:.2f}% marked as non-brain.\", UserWarning)\n"
     ]
    },
    {
     "name": "stdout",
     "output_type": "stream",
     "text": [
      "\n",
      "-----------------------------------------------------------------------------------------------\n",
      "Subject: sub-010\n",
      "---Get EEG Raw Data - FIF -----------------------------------------\n",
      "Warning loading EEG data for subject sub-010: The data contains 'boundary' events, indicating data discontinuities. Be cautious of filtering and epoching around these events.\n",
      "Removing Annotations\n",
      "---Filtering & Referencing------------------------------------------\n",
      "---Artefact Removal - ICA ------------------------------------------\n",
      "Dropped 5 epochs: 134, 291, 292, 306, 309\n",
      "\n",
      "-----------------------------------------------------------------------------------------------\n",
      "Subject: sub-011\n",
      "---Get EEG Raw Data - FIF -----------------------------------------\n",
      "Warning loading EEG data for subject sub-011: The data contains 'boundary' events, indicating data discontinuities. Be cautious of filtering and epoching around these events.\n",
      "Removing Annotations\n",
      "---Filtering & Referencing------------------------------------------\n",
      "---Artefact Removal - ICA ------------------------------------------\n",
      "\n",
      "-----------------------------------------------------------------------------------------------\n",
      "Subject: sub-012\n",
      "---Get EEG Raw Data - FIF -----------------------------------------\n",
      "Warning loading EEG data for subject sub-012: The data contains 'boundary' events, indicating data discontinuities. Be cautious of filtering and epoching around these events.\n",
      "Removing Annotations\n",
      "---Filtering & Referencing------------------------------------------\n",
      "---Artefact Removal - ICA ------------------------------------------\n",
      "\n",
      "-----------------------------------------------------------------------------------------------\n",
      "Subject: sub-013\n",
      "---Get EEG Raw Data - FIF -----------------------------------------\n",
      "Warning loading EEG data for subject sub-013: The data contains 'boundary' events, indicating data discontinuities. Be cautious of filtering and epoching around these events.\n",
      "Removing Annotations\n",
      "---Filtering & Referencing------------------------------------------\n",
      "---Artefact Removal - ICA ------------------------------------------\n",
      "\n",
      "-----------------------------------------------------------------------------------------------\n",
      "Subject: sub-014\n",
      "---Get EEG Raw Data - FIF -----------------------------------------\n",
      "Warning loading EEG data for subject sub-014: The data contains 'boundary' events, indicating data discontinuities. Be cautious of filtering and epoching around these events.\n",
      "Removing Annotations\n",
      "---Filtering & Referencing------------------------------------------\n",
      "---Artefact Removal - ICA ------------------------------------------\n"
     ]
    },
    {
     "name": "stderr",
     "output_type": "stream",
     "text": [
      "/var/folders/wd/rhzj_w8570g_y66t6j6mh4zw0000gn/T/ipykernel_84788/3464947669.py:45: UserWarning: High component rejection: 83.33% marked as non-brain.\n",
      "  warnings.warn(f\"High component rejection: {100 * ICA_rejection_level:.2f}% marked as non-brain.\", UserWarning)\n"
     ]
    },
    {
     "name": "stdout",
     "output_type": "stream",
     "text": [
      "\n",
      "-----------------------------------------------------------------------------------------------\n",
      "Subject: sub-015\n",
      "---Get EEG Raw Data - FIF -----------------------------------------\n",
      "Warning loading EEG data for subject sub-015: The data contains 'boundary' events, indicating data discontinuities. Be cautious of filtering and epoching around these events.\n",
      "Removing Annotations\n",
      "---Filtering & Referencing------------------------------------------\n",
      "---Artefact Removal - ICA ------------------------------------------\n"
     ]
    },
    {
     "name": "stderr",
     "output_type": "stream",
     "text": [
      "/var/folders/wd/rhzj_w8570g_y66t6j6mh4zw0000gn/T/ipykernel_84788/3464947669.py:45: UserWarning: High component rejection: 85.00% marked as non-brain.\n",
      "  warnings.warn(f\"High component rejection: {100 * ICA_rejection_level:.2f}% marked as non-brain.\", UserWarning)\n"
     ]
    },
    {
     "name": "stdout",
     "output_type": "stream",
     "text": [
      "Dropped 3 epochs: 19, 42, 94\n",
      "\n",
      "-----------------------------------------------------------------------------------------------\n",
      "Subject: sub-016\n",
      "---Get EEG Raw Data - FIF -----------------------------------------\n",
      "Warning loading EEG data for subject sub-016: The data contains 'boundary' events, indicating data discontinuities. Be cautious of filtering and epoching around these events.\n",
      "Removing Annotations\n",
      "---Filtering & Referencing------------------------------------------\n",
      "---Artefact Removal - ICA ------------------------------------------\n",
      "Dropped 7 epochs: 11, 42, 52, 57, 90, 91, 105\n",
      "\n",
      "-----------------------------------------------------------------------------------------------\n",
      "Subject: sub-017\n",
      "---Get EEG Raw Data - FIF -----------------------------------------\n",
      "Warning loading EEG data for subject sub-017: The data contains 'boundary' events, indicating data discontinuities. Be cautious of filtering and epoching around these events.\n",
      "Removing Annotations\n",
      "---Filtering & Referencing------------------------------------------\n",
      "---Artefact Removal - ICA ------------------------------------------\n",
      "\n",
      "-----------------------------------------------------------------------------------------------\n",
      "Subject: sub-018\n",
      "---Get EEG Raw Data - FIF -----------------------------------------\n",
      "Warning loading EEG data for subject sub-018: The data contains 'boundary' events, indicating data discontinuities. Be cautious of filtering and epoching around these events.\n",
      "Removing Annotations\n",
      "---Filtering & Referencing------------------------------------------\n",
      "---Artefact Removal - ICA ------------------------------------------\n"
     ]
    },
    {
     "name": "stderr",
     "output_type": "stream",
     "text": [
      "/var/folders/wd/rhzj_w8570g_y66t6j6mh4zw0000gn/T/ipykernel_84788/3464947669.py:45: UserWarning: High component rejection: 90.00% marked as non-brain.\n",
      "  warnings.warn(f\"High component rejection: {100 * ICA_rejection_level:.2f}% marked as non-brain.\", UserWarning)\n"
     ]
    },
    {
     "name": "stdout",
     "output_type": "stream",
     "text": [
      "Dropped 2 epochs: 0, 102\n",
      "\n",
      "-----------------------------------------------------------------------------------------------\n",
      "Subject: sub-019\n",
      "---Get EEG Raw Data - FIF -----------------------------------------\n",
      "Warning loading EEG data for subject sub-019: The data contains 'boundary' events, indicating data discontinuities. Be cautious of filtering and epoching around these events.\n",
      "Removing Annotations\n",
      "---Filtering & Referencing------------------------------------------\n",
      "---Artefact Removal - ICA ------------------------------------------\n",
      "\n",
      "-----------------------------------------------------------------------------------------------\n",
      "Subject: sub-020\n",
      "---Get EEG Raw Data - FIF -----------------------------------------\n",
      "Warning loading EEG data for subject sub-020: The data contains 'boundary' events, indicating data discontinuities. Be cautious of filtering and epoching around these events.\n",
      "Removing Annotations\n",
      "---Filtering & Referencing------------------------------------------\n",
      "---Artefact Removal - ICA ------------------------------------------\n",
      "\n",
      "-----------------------------------------------------------------------------------------------\n",
      "Subject: sub-021\n",
      "---Get EEG Raw Data - FIF -----------------------------------------\n",
      "Warning loading EEG data for subject sub-021: The data contains 'boundary' events, indicating data discontinuities. Be cautious of filtering and epoching around these events.\n",
      "Removing Annotations\n",
      "---Filtering & Referencing------------------------------------------\n",
      "---Artefact Removal - ICA ------------------------------------------\n"
     ]
    },
    {
     "name": "stderr",
     "output_type": "stream",
     "text": [
      "/var/folders/wd/rhzj_w8570g_y66t6j6mh4zw0000gn/T/ipykernel_84788/3464947669.py:45: UserWarning: High component rejection: 91.67% marked as non-brain.\n",
      "  warnings.warn(f\"High component rejection: {100 * ICA_rejection_level:.2f}% marked as non-brain.\", UserWarning)\n"
     ]
    },
    {
     "name": "stdout",
     "output_type": "stream",
     "text": [
      "\n",
      "-----------------------------------------------------------------------------------------------\n",
      "Subject: sub-022\n",
      "---Get EEG Raw Data - FIF -----------------------------------------\n",
      "Warning loading EEG data for subject sub-022: The data contains 'boundary' events, indicating data discontinuities. Be cautious of filtering and epoching around these events.\n",
      "Removing Annotations\n",
      "---Filtering & Referencing------------------------------------------\n",
      "---Artefact Removal - ICA ------------------------------------------\n"
     ]
    },
    {
     "name": "stderr",
     "output_type": "stream",
     "text": [
      "/var/folders/wd/rhzj_w8570g_y66t6j6mh4zw0000gn/T/ipykernel_84788/3464947669.py:45: UserWarning: High component rejection: 86.67% marked as non-brain.\n",
      "  warnings.warn(f\"High component rejection: {100 * ICA_rejection_level:.2f}% marked as non-brain.\", UserWarning)\n"
     ]
    },
    {
     "name": "stdout",
     "output_type": "stream",
     "text": [
      "\n",
      "-----------------------------------------------------------------------------------------------\n",
      "Subject: sub-023\n",
      "---Get EEG Raw Data - FIF -----------------------------------------\n",
      "Warning loading EEG data for subject sub-023: The data contains 'boundary' events, indicating data discontinuities. Be cautious of filtering and epoching around these events.\n",
      "Removing Annotations\n",
      "---Filtering & Referencing------------------------------------------\n",
      "---Artefact Removal - ICA ------------------------------------------\n"
     ]
    },
    {
     "name": "stderr",
     "output_type": "stream",
     "text": [
      "/var/folders/wd/rhzj_w8570g_y66t6j6mh4zw0000gn/T/ipykernel_84788/3464947669.py:45: UserWarning: High component rejection: 96.67% marked as non-brain.\n",
      "  warnings.warn(f\"High component rejection: {100 * ICA_rejection_level:.2f}% marked as non-brain.\", UserWarning)\n"
     ]
    },
    {
     "name": "stdout",
     "output_type": "stream",
     "text": [
      "Dropped 2 epochs: 143, 144\n",
      "\n",
      "-----------------------------------------------------------------------------------------------\n",
      "Subject: sub-024\n",
      "---Get EEG Raw Data - FIF -----------------------------------------\n",
      "Warning loading EEG data for subject sub-024: The data contains 'boundary' events, indicating data discontinuities. Be cautious of filtering and epoching around these events.\n",
      "Removing Annotations\n",
      "---Filtering & Referencing------------------------------------------\n",
      "---Artefact Removal - ICA ------------------------------------------\n",
      "\n",
      "-----------------------------------------------------------------------------------------------\n",
      "Subject: sub-025\n",
      "---Get EEG Raw Data - FIF -----------------------------------------\n",
      "Warning loading EEG data for subject sub-025: The data contains 'boundary' events, indicating data discontinuities. Be cautious of filtering and epoching around these events.\n",
      "Removing Annotations\n",
      "---Filtering & Referencing------------------------------------------\n",
      "---Artefact Removal - ICA ------------------------------------------\n",
      "\n",
      "-----------------------------------------------------------------------------------------------\n",
      "Subject: sub-026\n",
      "---Get EEG Raw Data - FIF -----------------------------------------\n",
      "Warning loading EEG data for subject sub-026: The data contains 'boundary' events, indicating data discontinuities. Be cautious of filtering and epoching around these events.\n",
      "Removing Annotations\n",
      "---Filtering & Referencing------------------------------------------\n",
      "---Artefact Removal - ICA ------------------------------------------\n",
      "\n",
      "-----------------------------------------------------------------------------------------------\n",
      "Subject: sub-027\n",
      "---Get EEG Raw Data - FIF -----------------------------------------\n",
      "Warning loading EEG data for subject sub-027: The data contains 'boundary' events, indicating data discontinuities. Be cautious of filtering and epoching around these events.\n",
      "Removing Annotations\n",
      "---Filtering & Referencing------------------------------------------\n",
      "---Artefact Removal - ICA ------------------------------------------\n"
     ]
    },
    {
     "name": "stderr",
     "output_type": "stream",
     "text": [
      "/var/folders/wd/rhzj_w8570g_y66t6j6mh4zw0000gn/T/ipykernel_84788/3464947669.py:45: UserWarning: High component rejection: 80.00% marked as non-brain.\n",
      "  warnings.warn(f\"High component rejection: {100 * ICA_rejection_level:.2f}% marked as non-brain.\", UserWarning)\n"
     ]
    },
    {
     "name": "stdout",
     "output_type": "stream",
     "text": [
      "Dropped 1 epoch: 40\n",
      "\n",
      "-----------------------------------------------------------------------------------------------\n",
      "Subject: sub-028\n",
      "---Get EEG Raw Data - FIF -----------------------------------------\n",
      "Warning loading EEG data for subject sub-028: The data contains 'boundary' events, indicating data discontinuities. Be cautious of filtering and epoching around these events.\n",
      "Removing Annotations\n",
      "---Filtering & Referencing------------------------------------------\n",
      "---Artefact Removal - ICA ------------------------------------------\n"
     ]
    },
    {
     "name": "stderr",
     "output_type": "stream",
     "text": [
      "/var/folders/wd/rhzj_w8570g_y66t6j6mh4zw0000gn/T/ipykernel_84788/3464947669.py:45: UserWarning: High component rejection: 85.00% marked as non-brain.\n",
      "  warnings.warn(f\"High component rejection: {100 * ICA_rejection_level:.2f}% marked as non-brain.\", UserWarning)\n"
     ]
    },
    {
     "name": "stdout",
     "output_type": "stream",
     "text": [
      "Dropped 6 epochs: 26, 27, 66, 75, 79, 96\n",
      "\n",
      "-----------------------------------------------------------------------------------------------\n",
      "Subject: sub-029\n",
      "---Get EEG Raw Data - FIF -----------------------------------------\n",
      "Warning loading EEG data for subject sub-029: The data contains 'boundary' events, indicating data discontinuities. Be cautious of filtering and epoching around these events.\n",
      "Removing Annotations\n",
      "---Filtering & Referencing------------------------------------------\n",
      "---Artefact Removal - ICA ------------------------------------------\n",
      "Dropped 9 epochs: 65, 119, 125, 129, 132, 158, 184, 185, 186\n",
      "\n",
      "-----------------------------------------------------------------------------------------------\n",
      "Subject: sub-030\n",
      "---Get EEG Raw Data - FIF -----------------------------------------\n",
      "Warning loading EEG data for subject sub-030: The data contains 'boundary' events, indicating data discontinuities. Be cautious of filtering and epoching around these events.\n",
      "Removing Annotations\n",
      "---Filtering & Referencing------------------------------------------\n",
      "---Artefact Removal - ICA ------------------------------------------\n",
      "Dropped 7 epochs: 65, 93, 94, 95, 122, 146, 147\n",
      "\n",
      "-----------------------------------------------------------------------------------------------\n",
      "Subject: sub-031\n",
      "---Get EEG Raw Data - FIF -----------------------------------------\n",
      "Warning loading EEG data for subject sub-031: The data contains 'boundary' events, indicating data discontinuities. Be cautious of filtering and epoching around these events.\n",
      "Removing Annotations\n",
      "---Filtering & Referencing------------------------------------------\n",
      "---Artefact Removal - ICA ------------------------------------------\n",
      "\n",
      "-----------------------------------------------------------------------------------------------\n",
      "Subject: sub-032\n",
      "---Get EEG Raw Data - FIF -----------------------------------------\n",
      "Warning loading EEG data for subject sub-032: The data contains 'boundary' events, indicating data discontinuities. Be cautious of filtering and epoching around these events.\n",
      "Removing Annotations\n",
      "---Filtering & Referencing------------------------------------------\n",
      "---Artefact Removal - ICA ------------------------------------------\n",
      "Dropped 7 epochs: 22, 115, 116, 117, 126, 127, 128\n",
      "\n",
      "-----------------------------------------------------------------------------------------------\n",
      "Subject: sub-033\n",
      "---Get EEG Raw Data - FIF -----------------------------------------\n",
      "Warning loading EEG data for subject sub-033: The data contains 'boundary' events, indicating data discontinuities. Be cautious of filtering and epoching around these events.\n",
      "Removing Annotations\n",
      "---Filtering & Referencing------------------------------------------\n",
      "---Artefact Removal - ICA ------------------------------------------\n",
      "\n",
      "-----------------------------------------------------------------------------------------------\n",
      "Subject: sub-034\n",
      "---Get EEG Raw Data - FIF -----------------------------------------\n",
      "Warning loading EEG data for subject sub-034: The data contains 'boundary' events, indicating data discontinuities. Be cautious of filtering and epoching around these events.\n",
      "Removing Annotations\n",
      "---Filtering & Referencing------------------------------------------\n",
      "---Artefact Removal - ICA ------------------------------------------\n"
     ]
    },
    {
     "name": "stderr",
     "output_type": "stream",
     "text": [
      "/var/folders/wd/rhzj_w8570g_y66t6j6mh4zw0000gn/T/ipykernel_84788/3464947669.py:45: UserWarning: High component rejection: 91.67% marked as non-brain.\n",
      "  warnings.warn(f\"High component rejection: {100 * ICA_rejection_level:.2f}% marked as non-brain.\", UserWarning)\n"
     ]
    },
    {
     "name": "stdout",
     "output_type": "stream",
     "text": [
      "Dropped 1 epoch: 153\n",
      "\n",
      "-----------------------------------------------------------------------------------------------\n",
      "Subject: sub-035\n",
      "---Get EEG Raw Data - FIF -----------------------------------------\n",
      "Warning loading EEG data for subject sub-035: The data contains 'boundary' events, indicating data discontinuities. Be cautious of filtering and epoching around these events.\n",
      "Removing Annotations\n",
      "---Filtering & Referencing------------------------------------------\n",
      "---Artefact Removal - ICA ------------------------------------------\n",
      "Dropped 4 epochs: 18, 86, 133, 164\n",
      "\n",
      "-----------------------------------------------------------------------------------------------\n",
      "Subject: sub-036\n",
      "---Get EEG Raw Data - FIF -----------------------------------------\n",
      "Warning loading EEG data for subject sub-036: The data contains 'boundary' events, indicating data discontinuities. Be cautious of filtering and epoching around these events.\n",
      "Removing Annotations\n",
      "---Filtering & Referencing------------------------------------------\n",
      "---Artefact Removal - ICA ------------------------------------------\n",
      "\n",
      "-----------------------------------------------------------------------------------------------\n",
      "Subject: sub-037\n",
      "---Get EEG Raw Data - FIF -----------------------------------------\n",
      "Warning loading EEG data for subject sub-037: The data contains 'boundary' events, indicating data discontinuities. Be cautious of filtering and epoching around these events.\n",
      "Removing Annotations\n",
      "---Filtering & Referencing------------------------------------------\n",
      "---Artefact Removal - ICA ------------------------------------------\n",
      "\n",
      "-----------------------------------------------------------------------------------------------\n",
      "Subject: sub-038\n",
      "---Get EEG Raw Data - FIF -----------------------------------------\n",
      "Warning loading EEG data for subject sub-038: The data contains 'boundary' events, indicating data discontinuities. Be cautious of filtering and epoching around these events.\n",
      "Removing Annotations\n",
      "---Filtering & Referencing------------------------------------------\n",
      "---Artefact Removal - ICA ------------------------------------------\n",
      "\n",
      "-----------------------------------------------------------------------------------------------\n",
      "Subject: sub-039\n",
      "---Get EEG Raw Data - FIF -----------------------------------------\n",
      "Warning loading EEG data for subject sub-039: The data contains 'boundary' events, indicating data discontinuities. Be cautious of filtering and epoching around these events.\n",
      "Removing Annotations\n",
      "---Filtering & Referencing------------------------------------------\n",
      "---Artefact Removal - ICA ------------------------------------------\n",
      "Dropped 19 epochs: 99, 100, 101, 102, 103, 104, 105, 106, 107, 108, 109, 110, 111, 112, 113, 115, 116, 117, 119\n",
      "\n",
      "-----------------------------------------------------------------------------------------------\n",
      "Subject: sub-040\n",
      "---Get EEG Raw Data - FIF -----------------------------------------\n",
      "Warning loading EEG data for subject sub-040: The data contains 'boundary' events, indicating data discontinuities. Be cautious of filtering and epoching around these events.\n",
      "Removing Annotations\n",
      "---Filtering & Referencing------------------------------------------\n",
      "---Artefact Removal - ICA ------------------------------------------\n"
     ]
    },
    {
     "name": "stderr",
     "output_type": "stream",
     "text": [
      "/var/folders/wd/rhzj_w8570g_y66t6j6mh4zw0000gn/T/ipykernel_84788/3464947669.py:34: RuntimeWarning: Using n_components=60 (resulting in n_components_=60) may lead to an unstable mixing matrix estimation because the ratio between the largest (60) and smallest (2.6e-07) variances is too large (> 1e6); consider setting n_components=0.999999 or an integer <= 16\n",
      "  ica.fit(EEG_cleaned, verbose=flag_verbose)\n",
      "/var/folders/wd/rhzj_w8570g_y66t6j6mh4zw0000gn/T/ipykernel_84788/3464947669.py:45: UserWarning: High component rejection: 83.33% marked as non-brain.\n",
      "  warnings.warn(f\"High component rejection: {100 * ICA_rejection_level:.2f}% marked as non-brain.\", UserWarning)\n"
     ]
    },
    {
     "name": "stdout",
     "output_type": "stream",
     "text": [
      "\n",
      "-----------------------------------------------------------------------------------------------\n",
      "Subject: sub-041\n",
      "---Get EEG Raw Data - FIF -----------------------------------------\n",
      "Warning loading EEG data for subject sub-041: The data contains 'boundary' events, indicating data discontinuities. Be cautious of filtering and epoching around these events.\n",
      "Removing Annotations\n",
      "---Filtering & Referencing------------------------------------------\n",
      "---Artefact Removal - ICA ------------------------------------------\n"
     ]
    },
    {
     "name": "stderr",
     "output_type": "stream",
     "text": [
      "/var/folders/wd/rhzj_w8570g_y66t6j6mh4zw0000gn/T/ipykernel_84788/3464947669.py:45: UserWarning: High component rejection: 83.33% marked as non-brain.\n",
      "  warnings.warn(f\"High component rejection: {100 * ICA_rejection_level:.2f}% marked as non-brain.\", UserWarning)\n"
     ]
    },
    {
     "name": "stdout",
     "output_type": "stream",
     "text": [
      "Dropped 4 epochs: 75, 78, 93, 148\n",
      "\n",
      "-----------------------------------------------------------------------------------------------\n",
      "Subject: sub-042\n",
      "---Get EEG Raw Data - FIF -----------------------------------------\n",
      "Warning loading EEG data for subject sub-042: The data contains 'boundary' events, indicating data discontinuities. Be cautious of filtering and epoching around these events.\n",
      "Removing Annotations\n",
      "---Filtering & Referencing------------------------------------------\n",
      "---Artefact Removal - ICA ------------------------------------------\n",
      "\n",
      "-----------------------------------------------------------------------------------------------\n",
      "Subject: sub-043\n",
      "---Get EEG Raw Data - FIF -----------------------------------------\n",
      "Warning loading EEG data for subject sub-043: The data contains 'boundary' events, indicating data discontinuities. Be cautious of filtering and epoching around these events.\n",
      "Removing Annotations\n",
      "---Filtering & Referencing------------------------------------------\n",
      "---Artefact Removal - ICA ------------------------------------------\n"
     ]
    },
    {
     "name": "stderr",
     "output_type": "stream",
     "text": [
      "/var/folders/wd/rhzj_w8570g_y66t6j6mh4zw0000gn/T/ipykernel_84788/3464947669.py:45: UserWarning: High component rejection: 93.33% marked as non-brain.\n",
      "  warnings.warn(f\"High component rejection: {100 * ICA_rejection_level:.2f}% marked as non-brain.\", UserWarning)\n"
     ]
    },
    {
     "name": "stdout",
     "output_type": "stream",
     "text": [
      "\n",
      "-----------------------------------------------------------------------------------------------\n",
      "Subject: sub-044\n",
      "---Get EEG Raw Data - FIF -----------------------------------------\n",
      "Warning loading EEG data for subject sub-044: The data contains 'boundary' events, indicating data discontinuities. Be cautious of filtering and epoching around these events.\n",
      "Removing Annotations\n",
      "---Filtering & Referencing------------------------------------------\n",
      "---Artefact Removal - ICA ------------------------------------------\n",
      "\n",
      "-----------------------------------------------------------------------------------------------\n",
      "Subject: sub-045\n",
      "---Get EEG Raw Data - FIF -----------------------------------------\n",
      "Warning loading EEG data for subject sub-045: The data contains 'boundary' events, indicating data discontinuities. Be cautious of filtering and epoching around these events.\n",
      "Removing Annotations\n",
      "---Filtering & Referencing------------------------------------------\n",
      "---Artefact Removal - ICA ------------------------------------------\n",
      "Dropped 1 epoch: 114\n",
      "\n",
      "-----------------------------------------------------------------------------------------------\n",
      "Subject: sub-046\n",
      "---Get EEG Raw Data - FIF -----------------------------------------\n",
      "Warning loading EEG data for subject sub-046: The data contains 'boundary' events, indicating data discontinuities. Be cautious of filtering and epoching around these events.\n",
      "Removing Annotations\n",
      "---Filtering & Referencing------------------------------------------\n",
      "---Artefact Removal - ICA ------------------------------------------\n"
     ]
    },
    {
     "name": "stderr",
     "output_type": "stream",
     "text": [
      "/var/folders/wd/rhzj_w8570g_y66t6j6mh4zw0000gn/T/ipykernel_84788/3464947669.py:45: UserWarning: High component rejection: 81.67% marked as non-brain.\n",
      "  warnings.warn(f\"High component rejection: {100 * ICA_rejection_level:.2f}% marked as non-brain.\", UserWarning)\n"
     ]
    },
    {
     "name": "stdout",
     "output_type": "stream",
     "text": [
      "\n",
      "-----------------------------------------------------------------------------------------------\n",
      "Subject: sub-047\n",
      "---Get EEG Raw Data - FIF -----------------------------------------\n",
      "Warning loading EEG data for subject sub-047: The data contains 'boundary' events, indicating data discontinuities. Be cautious of filtering and epoching around these events.\n",
      "Removing Annotations\n",
      "---Filtering & Referencing------------------------------------------\n",
      "---Artefact Removal - ICA ------------------------------------------\n"
     ]
    },
    {
     "name": "stderr",
     "output_type": "stream",
     "text": [
      "/var/folders/wd/rhzj_w8570g_y66t6j6mh4zw0000gn/T/ipykernel_84788/3464947669.py:45: UserWarning: High component rejection: 88.33% marked as non-brain.\n",
      "  warnings.warn(f\"High component rejection: {100 * ICA_rejection_level:.2f}% marked as non-brain.\", UserWarning)\n"
     ]
    },
    {
     "name": "stdout",
     "output_type": "stream",
     "text": [
      "\n",
      "-----------------------------------------------------------------------------------------------\n",
      "Subject: sub-048\n",
      "---Get EEG Raw Data - FIF -----------------------------------------\n",
      "Warning loading EEG data for subject sub-048: The data contains 'boundary' events, indicating data discontinuities. Be cautious of filtering and epoching around these events.\n",
      "Removing Annotations\n",
      "---Filtering & Referencing------------------------------------------\n",
      "---Artefact Removal - ICA ------------------------------------------\n"
     ]
    },
    {
     "name": "stderr",
     "output_type": "stream",
     "text": [
      "/var/folders/wd/rhzj_w8570g_y66t6j6mh4zw0000gn/T/ipykernel_84788/3464947669.py:45: UserWarning: High component rejection: 90.00% marked as non-brain.\n",
      "  warnings.warn(f\"High component rejection: {100 * ICA_rejection_level:.2f}% marked as non-brain.\", UserWarning)\n"
     ]
    },
    {
     "name": "stdout",
     "output_type": "stream",
     "text": [
      "\n",
      "-----------------------------------------------------------------------------------------------\n",
      "Subject: sub-049\n",
      "---Get EEG Raw Data - FIF -----------------------------------------\n",
      "Warning loading EEG data for subject sub-049: The data contains 'boundary' events, indicating data discontinuities. Be cautious of filtering and epoching around these events.\n",
      "Removing Annotations\n",
      "---Filtering & Referencing------------------------------------------\n",
      "---Artefact Removal - ICA ------------------------------------------\n",
      "\n",
      "-----------------------------------------------------------------------------------------------\n",
      "Subject: sub-050\n",
      "---Get EEG Raw Data - FIF -----------------------------------------\n",
      "Warning loading EEG data for subject sub-050: The data contains 'boundary' events, indicating data discontinuities. Be cautious of filtering and epoching around these events.\n",
      "Removing Annotations\n",
      "---Filtering & Referencing------------------------------------------\n",
      "---Artefact Removal - ICA ------------------------------------------\n"
     ]
    },
    {
     "name": "stderr",
     "output_type": "stream",
     "text": [
      "/var/folders/wd/rhzj_w8570g_y66t6j6mh4zw0000gn/T/ipykernel_84788/3464947669.py:45: UserWarning: High component rejection: 83.33% marked as non-brain.\n",
      "  warnings.warn(f\"High component rejection: {100 * ICA_rejection_level:.2f}% marked as non-brain.\", UserWarning)\n"
     ]
    },
    {
     "name": "stdout",
     "output_type": "stream",
     "text": [
      "\n",
      "-----------------------------------------------------------------------------------------------\n",
      "Subject: sub-051\n",
      "---Get EEG Raw Data - FIF -----------------------------------------\n",
      "Warning loading EEG data for subject sub-051: The data contains 'boundary' events, indicating data discontinuities. Be cautious of filtering and epoching around these events.\n",
      "Removing Annotations\n",
      "---Filtering & Referencing------------------------------------------\n",
      "---Artefact Removal - ICA ------------------------------------------\n"
     ]
    },
    {
     "name": "stderr",
     "output_type": "stream",
     "text": [
      "/var/folders/wd/rhzj_w8570g_y66t6j6mh4zw0000gn/T/ipykernel_84788/3464947669.py:45: UserWarning: High component rejection: 93.33% marked as non-brain.\n",
      "  warnings.warn(f\"High component rejection: {100 * ICA_rejection_level:.2f}% marked as non-brain.\", UserWarning)\n"
     ]
    },
    {
     "name": "stdout",
     "output_type": "stream",
     "text": [
      "\n",
      "-----------------------------------------------------------------------------------------------\n",
      "Subject: sub-052\n",
      "---Get EEG Raw Data - FIF -----------------------------------------\n",
      "Warning loading EEG data for subject sub-052: The data contains 'boundary' events, indicating data discontinuities. Be cautious of filtering and epoching around these events.\n",
      "Removing Annotations\n",
      "---Filtering & Referencing------------------------------------------\n",
      "---Artefact Removal - ICA ------------------------------------------\n"
     ]
    },
    {
     "name": "stderr",
     "output_type": "stream",
     "text": [
      "/var/folders/wd/rhzj_w8570g_y66t6j6mh4zw0000gn/T/ipykernel_84788/3464947669.py:45: UserWarning: High component rejection: 90.00% marked as non-brain.\n",
      "  warnings.warn(f\"High component rejection: {100 * ICA_rejection_level:.2f}% marked as non-brain.\", UserWarning)\n"
     ]
    },
    {
     "name": "stdout",
     "output_type": "stream",
     "text": [
      "\n",
      "-----------------------------------------------------------------------------------------------\n",
      "Subject: sub-053\n",
      "---Get EEG Raw Data - FIF -----------------------------------------\n",
      "Warning loading EEG data for subject sub-053: The data contains 'boundary' events, indicating data discontinuities. Be cautious of filtering and epoching around these events.\n",
      "Removing Annotations\n",
      "---Filtering & Referencing------------------------------------------\n",
      "---Artefact Removal - ICA ------------------------------------------\n"
     ]
    },
    {
     "name": "stderr",
     "output_type": "stream",
     "text": [
      "/var/folders/wd/rhzj_w8570g_y66t6j6mh4zw0000gn/T/ipykernel_84788/3464947669.py:45: UserWarning: High component rejection: 85.00% marked as non-brain.\n",
      "  warnings.warn(f\"High component rejection: {100 * ICA_rejection_level:.2f}% marked as non-brain.\", UserWarning)\n"
     ]
    },
    {
     "name": "stdout",
     "output_type": "stream",
     "text": [
      "\n",
      "-----------------------------------------------------------------------------------------------\n",
      "Subject: sub-054\n",
      "---Get EEG Raw Data - FIF -----------------------------------------\n",
      "Warning loading EEG data for subject sub-054: The data contains 'boundary' events, indicating data discontinuities. Be cautious of filtering and epoching around these events.\n",
      "Removing Annotations\n",
      "---Filtering & Referencing------------------------------------------\n",
      "---Artefact Removal - ICA ------------------------------------------\n",
      "\n",
      "-----------------------------------------------------------------------------------------------\n",
      "Subject: sub-055\n",
      "---Get EEG Raw Data - FIF -----------------------------------------\n",
      "Warning loading EEG data for subject sub-055: The data contains 'boundary' events, indicating data discontinuities. Be cautious of filtering and epoching around these events.\n",
      "Removing Annotations\n",
      "---Filtering & Referencing------------------------------------------\n",
      "---Artefact Removal - ICA ------------------------------------------\n"
     ]
    },
    {
     "name": "stderr",
     "output_type": "stream",
     "text": [
      "/var/folders/wd/rhzj_w8570g_y66t6j6mh4zw0000gn/T/ipykernel_84788/3464947669.py:45: UserWarning: High component rejection: 88.33% marked as non-brain.\n",
      "  warnings.warn(f\"High component rejection: {100 * ICA_rejection_level:.2f}% marked as non-brain.\", UserWarning)\n"
     ]
    },
    {
     "name": "stdout",
     "output_type": "stream",
     "text": [
      "\n",
      "-----------------------------------------------------------------------------------------------\n",
      "Subject: sub-056\n",
      "---Get EEG Raw Data - FIF -----------------------------------------\n",
      "Warning loading EEG data for subject sub-056: The data contains 'boundary' events, indicating data discontinuities. Be cautious of filtering and epoching around these events.\n",
      "Removing Annotations\n",
      "---Filtering & Referencing------------------------------------------\n",
      "---Artefact Removal - ICA ------------------------------------------\n",
      "\n",
      "-----------------------------------------------------------------------------------------------\n",
      "Subject: sub-057\n",
      "---Get EEG Raw Data - FIF -----------------------------------------\n",
      "Warning loading EEG data for subject sub-057: The data contains 'boundary' events, indicating data discontinuities. Be cautious of filtering and epoching around these events.\n",
      "Removing Annotations\n",
      "---Filtering & Referencing------------------------------------------\n",
      "---Artefact Removal - ICA ------------------------------------------\n"
     ]
    },
    {
     "name": "stderr",
     "output_type": "stream",
     "text": [
      "/var/folders/wd/rhzj_w8570g_y66t6j6mh4zw0000gn/T/ipykernel_84788/3464947669.py:45: UserWarning: High component rejection: 91.67% marked as non-brain.\n",
      "  warnings.warn(f\"High component rejection: {100 * ICA_rejection_level:.2f}% marked as non-brain.\", UserWarning)\n"
     ]
    },
    {
     "name": "stdout",
     "output_type": "stream",
     "text": [
      "Dropped 1 epoch: 55\n",
      "\n",
      "-----------------------------------------------------------------------------------------------\n",
      "Subject: sub-058\n",
      "---Get EEG Raw Data - FIF -----------------------------------------\n",
      "Warning loading EEG data for subject sub-058: The data contains 'boundary' events, indicating data discontinuities. Be cautious of filtering and epoching around these events.\n",
      "Removing Annotations\n",
      "---Filtering & Referencing------------------------------------------\n",
      "---Artefact Removal - ICA ------------------------------------------\n"
     ]
    },
    {
     "name": "stderr",
     "output_type": "stream",
     "text": [
      "/var/folders/wd/rhzj_w8570g_y66t6j6mh4zw0000gn/T/ipykernel_84788/3464947669.py:45: UserWarning: High component rejection: 83.33% marked as non-brain.\n",
      "  warnings.warn(f\"High component rejection: {100 * ICA_rejection_level:.2f}% marked as non-brain.\", UserWarning)\n"
     ]
    },
    {
     "name": "stdout",
     "output_type": "stream",
     "text": [
      "\n",
      "-----------------------------------------------------------------------------------------------\n",
      "Subject: sub-059\n",
      "---Get EEG Raw Data - FIF -----------------------------------------\n",
      "Warning loading EEG data for subject sub-059: The data contains 'boundary' events, indicating data discontinuities. Be cautious of filtering and epoching around these events.\n",
      "Removing Annotations\n",
      "---Filtering & Referencing------------------------------------------\n",
      "---Artefact Removal - ICA ------------------------------------------\n"
     ]
    },
    {
     "name": "stderr",
     "output_type": "stream",
     "text": [
      "/var/folders/wd/rhzj_w8570g_y66t6j6mh4zw0000gn/T/ipykernel_84788/3464947669.py:45: UserWarning: High component rejection: 90.00% marked as non-brain.\n",
      "  warnings.warn(f\"High component rejection: {100 * ICA_rejection_level:.2f}% marked as non-brain.\", UserWarning)\n"
     ]
    },
    {
     "name": "stdout",
     "output_type": "stream",
     "text": [
      "Dropped 8 epochs: 5, 6, 7, 8, 9, 11, 105, 120\n",
      "\n",
      "-----------------------------------------------------------------------------------------------\n",
      "Subject: sub-060\n",
      "---Get EEG Raw Data - FIF -----------------------------------------\n",
      "Warning loading EEG data for subject sub-060: The data contains 'boundary' events, indicating data discontinuities. Be cautious of filtering and epoching around these events.\n",
      "Removing Annotations\n",
      "---Filtering & Referencing------------------------------------------\n",
      "---Artefact Removal - ICA ------------------------------------------\n"
     ]
    },
    {
     "name": "stderr",
     "output_type": "stream",
     "text": [
      "/var/folders/wd/rhzj_w8570g_y66t6j6mh4zw0000gn/T/ipykernel_84788/3464947669.py:45: UserWarning: High component rejection: 80.00% marked as non-brain.\n",
      "  warnings.warn(f\"High component rejection: {100 * ICA_rejection_level:.2f}% marked as non-brain.\", UserWarning)\n"
     ]
    },
    {
     "name": "stdout",
     "output_type": "stream",
     "text": [
      "\n",
      "-----------------------------------------------------------------------------------------------\n",
      "Subject: sub-061\n",
      "---Get EEG Raw Data - FIF -----------------------------------------\n",
      "Warning loading EEG data for subject sub-061: The data contains 'boundary' events, indicating data discontinuities. Be cautious of filtering and epoching around these events.\n",
      "Removing Annotations\n",
      "---Filtering & Referencing------------------------------------------\n",
      "---Artefact Removal - ICA ------------------------------------------\n"
     ]
    },
    {
     "name": "stderr",
     "output_type": "stream",
     "text": [
      "/var/folders/wd/rhzj_w8570g_y66t6j6mh4zw0000gn/T/ipykernel_84788/3464947669.py:45: UserWarning: High component rejection: 83.33% marked as non-brain.\n",
      "  warnings.warn(f\"High component rejection: {100 * ICA_rejection_level:.2f}% marked as non-brain.\", UserWarning)\n"
     ]
    },
    {
     "name": "stdout",
     "output_type": "stream",
     "text": [
      "\n",
      "-----------------------------------------------------------------------------------------------\n",
      "Subject: sub-062\n",
      "---Get EEG Raw Data - FIF -----------------------------------------\n",
      "Warning loading EEG data for subject sub-062: The data contains 'boundary' events, indicating data discontinuities. Be cautious of filtering and epoching around these events.\n",
      "Removing Annotations\n",
      "---Filtering & Referencing------------------------------------------\n",
      "---Artefact Removal - ICA ------------------------------------------\n",
      "Dropped 5 epochs: 62, 74, 93, 123, 124\n",
      "\n",
      "-----------------------------------------------------------------------------------------------\n",
      "Subject: sub-063\n",
      "---Get EEG Raw Data - FIF -----------------------------------------\n",
      "Warning loading EEG data for subject sub-063: The data contains 'boundary' events, indicating data discontinuities. Be cautious of filtering and epoching around these events.\n",
      "Removing Annotations\n",
      "---Filtering & Referencing------------------------------------------\n",
      "---Artefact Removal - ICA ------------------------------------------\n",
      "Dropped 9 epochs: 6, 28, 33, 40, 82, 83, 120, 129, 132\n",
      "\n",
      "-----------------------------------------------------------------------------------------------\n",
      "Subject: sub-064\n",
      "---Get EEG Raw Data - FIF -----------------------------------------\n",
      "Warning loading EEG data for subject sub-064: The data contains 'boundary' events, indicating data discontinuities. Be cautious of filtering and epoching around these events.\n",
      "Removing Annotations\n",
      "---Filtering & Referencing------------------------------------------\n",
      "---Artefact Removal - ICA ------------------------------------------\n"
     ]
    },
    {
     "name": "stderr",
     "output_type": "stream",
     "text": [
      "/var/folders/wd/rhzj_w8570g_y66t6j6mh4zw0000gn/T/ipykernel_84788/3464947669.py:45: UserWarning: High component rejection: 80.00% marked as non-brain.\n",
      "  warnings.warn(f\"High component rejection: {100 * ICA_rejection_level:.2f}% marked as non-brain.\", UserWarning)\n"
     ]
    },
    {
     "name": "stdout",
     "output_type": "stream",
     "text": [
      "\n",
      "-----------------------------------------------------------------------------------------------\n",
      "Subject: sub-065\n",
      "---Get EEG Raw Data - FIF -----------------------------------------\n",
      "Warning loading EEG data for subject sub-065: The data contains 'boundary' events, indicating data discontinuities. Be cautious of filtering and epoching around these events.\n",
      "Removing Annotations\n",
      "---Filtering & Referencing------------------------------------------\n",
      "---Artefact Removal - ICA ------------------------------------------\n",
      "\n",
      "-----------------------------------------------------------------------------------------------\n",
      "Subject: sub-066\n",
      "---Get EEG Raw Data - FIF -----------------------------------------\n",
      "Warning loading EEG data for subject sub-066: The data contains 'boundary' events, indicating data discontinuities. Be cautious of filtering and epoching around these events.\n",
      "Removing Annotations\n",
      "---Filtering & Referencing------------------------------------------\n",
      "---Artefact Removal - ICA ------------------------------------------\n"
     ]
    },
    {
     "name": "stderr",
     "output_type": "stream",
     "text": [
      "/var/folders/wd/rhzj_w8570g_y66t6j6mh4zw0000gn/T/ipykernel_84788/3464947669.py:45: UserWarning: High component rejection: 80.00% marked as non-brain.\n",
      "  warnings.warn(f\"High component rejection: {100 * ICA_rejection_level:.2f}% marked as non-brain.\", UserWarning)\n"
     ]
    },
    {
     "name": "stdout",
     "output_type": "stream",
     "text": [
      "\n",
      "-----------------------------------------------------------------------------------------------\n",
      "Subject: sub-067\n",
      "---Get EEG Raw Data - FIF -----------------------------------------\n",
      "Warning loading EEG data for subject sub-067: The data contains 'boundary' events, indicating data discontinuities. Be cautious of filtering and epoching around these events.\n",
      "Removing Annotations\n",
      "---Filtering & Referencing------------------------------------------\n",
      "---Artefact Removal - ICA ------------------------------------------\n"
     ]
    },
    {
     "name": "stderr",
     "output_type": "stream",
     "text": [
      "/var/folders/wd/rhzj_w8570g_y66t6j6mh4zw0000gn/T/ipykernel_84788/3464947669.py:45: UserWarning: High component rejection: 96.67% marked as non-brain.\n",
      "  warnings.warn(f\"High component rejection: {100 * ICA_rejection_level:.2f}% marked as non-brain.\", UserWarning)\n"
     ]
    },
    {
     "name": "stdout",
     "output_type": "stream",
     "text": [
      "Dropped 1 epoch: 111\n",
      "\n",
      "-----------------------------------------------------------------------------------------------\n",
      "Subject: sub-068\n",
      "---Get EEG Raw Data - FIF -----------------------------------------\n",
      "Warning loading EEG data for subject sub-068: The data contains 'boundary' events, indicating data discontinuities. Be cautious of filtering and epoching around these events.\n",
      "Removing Annotations\n",
      "---Filtering & Referencing------------------------------------------\n",
      "---Artefact Removal - ICA ------------------------------------------\n"
     ]
    },
    {
     "name": "stderr",
     "output_type": "stream",
     "text": [
      "/var/folders/wd/rhzj_w8570g_y66t6j6mh4zw0000gn/T/ipykernel_84788/3464947669.py:45: UserWarning: High component rejection: 91.67% marked as non-brain.\n",
      "  warnings.warn(f\"High component rejection: {100 * ICA_rejection_level:.2f}% marked as non-brain.\", UserWarning)\n"
     ]
    },
    {
     "name": "stdout",
     "output_type": "stream",
     "text": [
      "\n",
      "-----------------------------------------------------------------------------------------------\n",
      "Subject: sub-069\n",
      "---Get EEG Raw Data - FIF -----------------------------------------\n",
      "Warning loading EEG data for subject sub-069: The data contains 'boundary' events, indicating data discontinuities. Be cautious of filtering and epoching around these events.\n",
      "Removing Annotations\n",
      "---Filtering & Referencing------------------------------------------\n",
      "---Artefact Removal - ICA ------------------------------------------\n",
      "Dropped 5 epochs: 11, 42, 50, 96, 116\n",
      "\n",
      "-----------------------------------------------------------------------------------------------\n",
      "Subject: sub-070\n",
      "---Get EEG Raw Data - FIF -----------------------------------------\n",
      "Warning loading EEG data for subject sub-070: The data contains 'boundary' events, indicating data discontinuities. Be cautious of filtering and epoching around these events.\n",
      "Removing Annotations\n",
      "---Filtering & Referencing------------------------------------------\n",
      "---Artefact Removal - ICA ------------------------------------------\n"
     ]
    },
    {
     "name": "stderr",
     "output_type": "stream",
     "text": [
      "/var/folders/wd/rhzj_w8570g_y66t6j6mh4zw0000gn/T/ipykernel_84788/3464947669.py:45: UserWarning: High component rejection: 81.67% marked as non-brain.\n",
      "  warnings.warn(f\"High component rejection: {100 * ICA_rejection_level:.2f}% marked as non-brain.\", UserWarning)\n"
     ]
    },
    {
     "name": "stdout",
     "output_type": "stream",
     "text": [
      "\n",
      "-----------------------------------------------------------------------------------------------\n",
      "Subject: sub-071\n",
      "---Get EEG Raw Data - FIF -----------------------------------------\n",
      "Warning loading EEG data for subject sub-071: The data contains 'boundary' events, indicating data discontinuities. Be cautious of filtering and epoching around these events.\n",
      "Removing Annotations\n",
      "---Filtering & Referencing------------------------------------------\n",
      "---Artefact Removal - ICA ------------------------------------------\n"
     ]
    },
    {
     "name": "stderr",
     "output_type": "stream",
     "text": [
      "/var/folders/wd/rhzj_w8570g_y66t6j6mh4zw0000gn/T/ipykernel_84788/3464947669.py:45: UserWarning: High component rejection: 88.33% marked as non-brain.\n",
      "  warnings.warn(f\"High component rejection: {100 * ICA_rejection_level:.2f}% marked as non-brain.\", UserWarning)\n"
     ]
    },
    {
     "name": "stdout",
     "output_type": "stream",
     "text": [
      "\n",
      "-----------------------------------------------------------------------------------------------\n",
      "Subject: sub-072\n",
      "---Get EEG Raw Data - FIF -----------------------------------------\n",
      "Warning loading EEG data for subject sub-072: The data contains 'boundary' events, indicating data discontinuities. Be cautious of filtering and epoching around these events.\n",
      "Removing Annotations\n",
      "---Filtering & Referencing------------------------------------------\n",
      "---Artefact Removal - ICA ------------------------------------------\n",
      "\n",
      "-----------------------------------------------------------------------------------------------\n",
      "Subject: sub-073\n",
      "---Get EEG Raw Data - FIF -----------------------------------------\n",
      "Warning loading EEG data for subject sub-073: The data contains 'boundary' events, indicating data discontinuities. Be cautious of filtering and epoching around these events.\n",
      "Removing Annotations\n",
      "---Filtering & Referencing------------------------------------------\n",
      "---Artefact Removal - ICA ------------------------------------------\n",
      "\n",
      "-----------------------------------------------------------------------------------------------\n",
      "Subject: sub-074\n",
      "---Get EEG Raw Data - FIF -----------------------------------------\n",
      "Warning loading EEG data for subject sub-074: The data contains 'boundary' events, indicating data discontinuities. Be cautious of filtering and epoching around these events.\n",
      "Removing Annotations\n",
      "---Filtering & Referencing------------------------------------------\n",
      "---Artefact Removal - ICA ------------------------------------------\n",
      "\n",
      "-----------------------------------------------------------------------------------------------\n",
      "Subject: sub-075\n",
      "---Get EEG Raw Data - FIF -----------------------------------------\n",
      "Warning loading EEG data for subject sub-075: The data contains 'boundary' events, indicating data discontinuities. Be cautious of filtering and epoching around these events.\n",
      "Removing Annotations\n",
      "---Filtering & Referencing------------------------------------------\n",
      "---Artefact Removal - ICA ------------------------------------------\n"
     ]
    },
    {
     "name": "stderr",
     "output_type": "stream",
     "text": [
      "/var/folders/wd/rhzj_w8570g_y66t6j6mh4zw0000gn/T/ipykernel_84788/3464947669.py:45: UserWarning: High component rejection: 93.33% marked as non-brain.\n",
      "  warnings.warn(f\"High component rejection: {100 * ICA_rejection_level:.2f}% marked as non-brain.\", UserWarning)\n"
     ]
    },
    {
     "name": "stdout",
     "output_type": "stream",
     "text": [
      "\n",
      "-----------------------------------------------------------------------------------------------\n",
      "Subject: sub-076\n",
      "---Get EEG Raw Data - FIF -----------------------------------------\n",
      "Warning loading EEG data for subject sub-076: The data contains 'boundary' events, indicating data discontinuities. Be cautious of filtering and epoching around these events.\n",
      "Removing Annotations\n",
      "---Filtering & Referencing------------------------------------------\n",
      "---Artefact Removal - ICA ------------------------------------------\n"
     ]
    },
    {
     "name": "stderr",
     "output_type": "stream",
     "text": [
      "/var/folders/wd/rhzj_w8570g_y66t6j6mh4zw0000gn/T/ipykernel_84788/3464947669.py:45: UserWarning: High component rejection: 95.00% marked as non-brain.\n",
      "  warnings.warn(f\"High component rejection: {100 * ICA_rejection_level:.2f}% marked as non-brain.\", UserWarning)\n"
     ]
    },
    {
     "name": "stdout",
     "output_type": "stream",
     "text": [
      "Dropped 4 epochs: 48, 74, 117, 125\n",
      "\n",
      "-----------------------------------------------------------------------------------------------\n",
      "Subject: sub-077\n",
      "---Get EEG Raw Data - FIF -----------------------------------------\n",
      "Warning loading EEG data for subject sub-077: The data contains 'boundary' events, indicating data discontinuities. Be cautious of filtering and epoching around these events.\n",
      "Removing Annotations\n",
      "---Filtering & Referencing------------------------------------------\n",
      "---Artefact Removal - ICA ------------------------------------------\n",
      "Dropped 2 epochs: 13, 158\n",
      "\n",
      "-----------------------------------------------------------------------------------------------\n",
      "Subject: sub-078\n",
      "---Get EEG Raw Data - FIF -----------------------------------------\n",
      "Warning loading EEG data for subject sub-078: The data contains 'boundary' events, indicating data discontinuities. Be cautious of filtering and epoching around these events.\n",
      "Removing Annotations\n",
      "---Filtering & Referencing------------------------------------------\n",
      "---Artefact Removal - ICA ------------------------------------------\n",
      "\n",
      "-----------------------------------------------------------------------------------------------\n",
      "Subject: sub-079\n",
      "---Get EEG Raw Data - FIF -----------------------------------------\n",
      "Warning loading EEG data for subject sub-079: The data contains 'boundary' events, indicating data discontinuities. Be cautious of filtering and epoching around these events.\n",
      "Removing Annotations\n",
      "---Filtering & Referencing------------------------------------------\n",
      "---Artefact Removal - ICA ------------------------------------------\n",
      "\n",
      "-----------------------------------------------------------------------------------------------\n",
      "Subject: sub-080\n",
      "---Get EEG Raw Data - FIF -----------------------------------------\n",
      "Warning loading EEG data for subject sub-080: The data contains 'boundary' events, indicating data discontinuities. Be cautious of filtering and epoching around these events.\n",
      "Removing Annotations\n",
      "---Filtering & Referencing------------------------------------------\n",
      "---Artefact Removal - ICA ------------------------------------------\n"
     ]
    },
    {
     "name": "stderr",
     "output_type": "stream",
     "text": [
      "/var/folders/wd/rhzj_w8570g_y66t6j6mh4zw0000gn/T/ipykernel_84788/3464947669.py:45: UserWarning: High component rejection: 88.33% marked as non-brain.\n",
      "  warnings.warn(f\"High component rejection: {100 * ICA_rejection_level:.2f}% marked as non-brain.\", UserWarning)\n"
     ]
    },
    {
     "name": "stdout",
     "output_type": "stream",
     "text": [
      "Dropped 5 epochs: 25, 26, 27, 97, 98\n",
      "\n",
      "-----------------------------------------------------------------------------------------------\n",
      "Subject: sub-081\n",
      "---Get EEG Raw Data - FIF -----------------------------------------\n",
      "Warning loading EEG data for subject sub-081: The data contains 'boundary' events, indicating data discontinuities. Be cautious of filtering and epoching around these events.\n",
      "Removing Annotations\n",
      "---Filtering & Referencing------------------------------------------\n",
      "---Artefact Removal - ICA ------------------------------------------\n",
      "Dropped 1 epoch: 54\n",
      "\n",
      "-----------------------------------------------------------------------------------------------\n",
      "Subject: sub-082\n",
      "---Get EEG Raw Data - FIF -----------------------------------------\n",
      "Warning loading EEG data for subject sub-082: The data contains 'boundary' events, indicating data discontinuities. Be cautious of filtering and epoching around these events.\n",
      "Removing Annotations\n",
      "---Filtering & Referencing------------------------------------------\n",
      "---Artefact Removal - ICA ------------------------------------------\n",
      "Dropped 1 epoch: 33\n",
      "\n",
      "-----------------------------------------------------------------------------------------------\n",
      "Subject: sub-083\n",
      "---Get EEG Raw Data - FIF -----------------------------------------\n",
      "Warning loading EEG data for subject sub-083: The data contains 'boundary' events, indicating data discontinuities. Be cautious of filtering and epoching around these events.\n",
      "Removing Annotations\n",
      "---Filtering & Referencing------------------------------------------\n",
      "---Artefact Removal - ICA ------------------------------------------\n",
      "\n",
      "-----------------------------------------------------------------------------------------------\n",
      "Subject: sub-084\n",
      "---Get EEG Raw Data - FIF -----------------------------------------\n",
      "Warning loading EEG data for subject sub-084: The data contains 'boundary' events, indicating data discontinuities. Be cautious of filtering and epoching around these events.\n",
      "Removing Annotations\n",
      "---Filtering & Referencing------------------------------------------\n",
      "---Artefact Removal - ICA ------------------------------------------\n"
     ]
    },
    {
     "name": "stderr",
     "output_type": "stream",
     "text": [
      "/var/folders/wd/rhzj_w8570g_y66t6j6mh4zw0000gn/T/ipykernel_84788/3464947669.py:45: UserWarning: High component rejection: 88.33% marked as non-brain.\n",
      "  warnings.warn(f\"High component rejection: {100 * ICA_rejection_level:.2f}% marked as non-brain.\", UserWarning)\n"
     ]
    },
    {
     "name": "stdout",
     "output_type": "stream",
     "text": [
      "\n",
      "-----------------------------------------------------------------------------------------------\n",
      "Subject: sub-085\n",
      "---Get EEG Raw Data - FIF -----------------------------------------\n",
      "Warning loading EEG data for subject sub-085: The data contains 'boundary' events, indicating data discontinuities. Be cautious of filtering and epoching around these events.\n",
      "Removing Annotations\n",
      "---Filtering & Referencing------------------------------------------\n",
      "---Artefact Removal - ICA ------------------------------------------\n"
     ]
    },
    {
     "name": "stderr",
     "output_type": "stream",
     "text": [
      "/var/folders/wd/rhzj_w8570g_y66t6j6mh4zw0000gn/T/ipykernel_84788/3464947669.py:45: UserWarning: High component rejection: 91.67% marked as non-brain.\n",
      "  warnings.warn(f\"High component rejection: {100 * ICA_rejection_level:.2f}% marked as non-brain.\", UserWarning)\n"
     ]
    },
    {
     "name": "stdout",
     "output_type": "stream",
     "text": [
      "\n",
      "-----------------------------------------------------------------------------------------------\n",
      "Subject: sub-086\n",
      "---Get EEG Raw Data - FIF -----------------------------------------\n",
      "Warning loading EEG data for subject sub-086: The data contains 'boundary' events, indicating data discontinuities. Be cautious of filtering and epoching around these events.\n",
      "Removing Annotations\n",
      "---Filtering & Referencing------------------------------------------\n",
      "---Artefact Removal - ICA ------------------------------------------\n"
     ]
    },
    {
     "name": "stderr",
     "output_type": "stream",
     "text": [
      "/var/folders/wd/rhzj_w8570g_y66t6j6mh4zw0000gn/T/ipykernel_84788/3464947669.py:45: UserWarning: High component rejection: 80.00% marked as non-brain.\n",
      "  warnings.warn(f\"High component rejection: {100 * ICA_rejection_level:.2f}% marked as non-brain.\", UserWarning)\n"
     ]
    },
    {
     "name": "stdout",
     "output_type": "stream",
     "text": [
      "\n",
      "-----------------------------------------------------------------------------------------------\n",
      "Subject: sub-087\n",
      "---Get EEG Raw Data - FIF -----------------------------------------\n",
      "Warning loading EEG data for subject sub-087: The data contains 'boundary' events, indicating data discontinuities. Be cautious of filtering and epoching around these events.\n",
      "Removing Annotations\n",
      "---Filtering & Referencing------------------------------------------\n",
      "---Artefact Removal - ICA ------------------------------------------\n"
     ]
    },
    {
     "name": "stderr",
     "output_type": "stream",
     "text": [
      "/var/folders/wd/rhzj_w8570g_y66t6j6mh4zw0000gn/T/ipykernel_84788/3464947669.py:45: UserWarning: High component rejection: 95.00% marked as non-brain.\n",
      "  warnings.warn(f\"High component rejection: {100 * ICA_rejection_level:.2f}% marked as non-brain.\", UserWarning)\n"
     ]
    },
    {
     "name": "stdout",
     "output_type": "stream",
     "text": [
      "Dropped 2 epochs: 66, 105\n",
      "\n",
      "-----------------------------------------------------------------------------------------------\n",
      "Subject: sub-088\n",
      "---Get EEG Raw Data - FIF -----------------------------------------\n",
      "Warning loading EEG data for subject sub-088: The data contains 'boundary' events, indicating data discontinuities. Be cautious of filtering and epoching around these events.\n",
      "Removing Annotations\n",
      "---Filtering & Referencing------------------------------------------\n",
      "---Artefact Removal - ICA ------------------------------------------\n",
      "\n",
      "-----------------------------------------------------------------------------------------------\n",
      "Subject: sub-089\n",
      "---Get EEG Raw Data - FIF -----------------------------------------\n",
      "Warning loading EEG data for subject sub-089: The data contains 'boundary' events, indicating data discontinuities. Be cautious of filtering and epoching around these events.\n",
      "Removing Annotations\n",
      "---Filtering & Referencing------------------------------------------\n",
      "---Artefact Removal - ICA ------------------------------------------\n"
     ]
    },
    {
     "name": "stderr",
     "output_type": "stream",
     "text": [
      "/var/folders/wd/rhzj_w8570g_y66t6j6mh4zw0000gn/T/ipykernel_84788/3464947669.py:45: UserWarning: High component rejection: 90.00% marked as non-brain.\n",
      "  warnings.warn(f\"High component rejection: {100 * ICA_rejection_level:.2f}% marked as non-brain.\", UserWarning)\n"
     ]
    },
    {
     "name": "stdout",
     "output_type": "stream",
     "text": [
      "\n",
      "-----------------------------------------------------------------------------------------------\n",
      "Subject: sub-090\n",
      "---Get EEG Raw Data - FIF -----------------------------------------\n",
      "Warning loading EEG data for subject sub-090: The data contains 'boundary' events, indicating data discontinuities. Be cautious of filtering and epoching around these events.\n",
      "Removing Annotations\n",
      "---Filtering & Referencing------------------------------------------\n",
      "---Artefact Removal - ICA ------------------------------------------\n"
     ]
    },
    {
     "name": "stderr",
     "output_type": "stream",
     "text": [
      "/var/folders/wd/rhzj_w8570g_y66t6j6mh4zw0000gn/T/ipykernel_84788/3464947669.py:45: UserWarning: High component rejection: 80.00% marked as non-brain.\n",
      "  warnings.warn(f\"High component rejection: {100 * ICA_rejection_level:.2f}% marked as non-brain.\", UserWarning)\n"
     ]
    },
    {
     "name": "stdout",
     "output_type": "stream",
     "text": [
      "\n",
      "-----------------------------------------------------------------------------------------------\n",
      "Subject: sub-091\n",
      "---Get EEG Raw Data - FIF -----------------------------------------\n",
      "Warning loading EEG data for subject sub-091: The data contains 'boundary' events, indicating data discontinuities. Be cautious of filtering and epoching around these events.\n",
      "Removing Annotations\n",
      "---Filtering & Referencing------------------------------------------\n",
      "---Artefact Removal - ICA ------------------------------------------\n",
      "Dropped 2 epochs: 2, 102\n",
      "\n",
      "-----------------------------------------------------------------------------------------------\n",
      "Subject: sub-092\n",
      "---Get EEG Raw Data - FIF -----------------------------------------\n",
      "Warning loading EEG data for subject sub-092: The data contains 'boundary' events, indicating data discontinuities. Be cautious of filtering and epoching around these events.\n",
      "Removing Annotations\n",
      "---Filtering & Referencing------------------------------------------\n",
      "---Artefact Removal - ICA ------------------------------------------\n"
     ]
    },
    {
     "name": "stderr",
     "output_type": "stream",
     "text": [
      "/var/folders/wd/rhzj_w8570g_y66t6j6mh4zw0000gn/T/ipykernel_84788/3464947669.py:45: UserWarning: High component rejection: 85.00% marked as non-brain.\n",
      "  warnings.warn(f\"High component rejection: {100 * ICA_rejection_level:.2f}% marked as non-brain.\", UserWarning)\n"
     ]
    },
    {
     "name": "stdout",
     "output_type": "stream",
     "text": [
      "\n",
      "-----------------------------------------------------------------------------------------------\n",
      "Subject: sub-093\n",
      "---Get EEG Raw Data - FIF -----------------------------------------\n",
      "Warning loading EEG data for subject sub-093: The data contains 'boundary' events, indicating data discontinuities. Be cautious of filtering and epoching around these events.\n",
      "Removing Annotations\n",
      "---Filtering & Referencing------------------------------------------\n",
      "---Artefact Removal - ICA ------------------------------------------\n"
     ]
    },
    {
     "name": "stderr",
     "output_type": "stream",
     "text": [
      "/var/folders/wd/rhzj_w8570g_y66t6j6mh4zw0000gn/T/ipykernel_84788/3464947669.py:45: UserWarning: High component rejection: 91.67% marked as non-brain.\n",
      "  warnings.warn(f\"High component rejection: {100 * ICA_rejection_level:.2f}% marked as non-brain.\", UserWarning)\n"
     ]
    },
    {
     "name": "stdout",
     "output_type": "stream",
     "text": [
      "\n",
      "-----------------------------------------------------------------------------------------------\n",
      "Subject: sub-094\n",
      "---Get EEG Raw Data - FIF -----------------------------------------\n",
      "Warning loading EEG data for subject sub-094: The data contains 'boundary' events, indicating data discontinuities. Be cautious of filtering and epoching around these events.\n",
      "Removing Annotations\n",
      "---Filtering & Referencing------------------------------------------\n",
      "---Artefact Removal - ICA ------------------------------------------\n",
      "\n",
      "-----------------------------------------------------------------------------------------------\n",
      "Subject: sub-095\n",
      "---Get EEG Raw Data - FIF -----------------------------------------\n",
      "Warning loading EEG data for subject sub-095: The data contains 'boundary' events, indicating data discontinuities. Be cautious of filtering and epoching around these events.\n",
      "Removing Annotations\n",
      "---Filtering & Referencing------------------------------------------\n",
      "---Artefact Removal - ICA ------------------------------------------\n"
     ]
    },
    {
     "name": "stderr",
     "output_type": "stream",
     "text": [
      "/var/folders/wd/rhzj_w8570g_y66t6j6mh4zw0000gn/T/ipykernel_84788/3464947669.py:45: UserWarning: High component rejection: 90.00% marked as non-brain.\n",
      "  warnings.warn(f\"High component rejection: {100 * ICA_rejection_level:.2f}% marked as non-brain.\", UserWarning)\n"
     ]
    },
    {
     "name": "stdout",
     "output_type": "stream",
     "text": [
      "\n",
      "-----------------------------------------------------------------------------------------------\n",
      "Subject: sub-096\n",
      "---Get EEG Raw Data - FIF -----------------------------------------\n",
      "Warning loading EEG data for subject sub-096: The data contains 'boundary' events, indicating data discontinuities. Be cautious of filtering and epoching around these events.\n",
      "Removing Annotations\n",
      "---Filtering & Referencing------------------------------------------\n",
      "---Artefact Removal - ICA ------------------------------------------\n",
      "\n",
      "-----------------------------------------------------------------------------------------------\n",
      "Subject: sub-097\n",
      "---Get EEG Raw Data - FIF -----------------------------------------\n",
      "Warning loading EEG data for subject sub-097: The data contains 'boundary' events, indicating data discontinuities. Be cautious of filtering and epoching around these events.\n",
      "Removing Annotations\n",
      "---Filtering & Referencing------------------------------------------\n",
      "---Artefact Removal - ICA ------------------------------------------\n",
      "Dropped 34 epochs: 5, 7, 18, 19, 20, 22, 23, 32, 37, 38, 39, 40, 41, 42, 43, 45, 46, 54, 55, 60, 65, 66, 67, 71, 72, 76, 78, 80, 99, 127, 128, 130, 131, 133\n",
      "\n",
      "-----------------------------------------------------------------------------------------------\n",
      "Subject: sub-098\n",
      "---Get EEG Raw Data - FIF -----------------------------------------\n",
      "Warning loading EEG data for subject sub-098: The data contains 'boundary' events, indicating data discontinuities. Be cautious of filtering and epoching around these events.\n",
      "Removing Annotations\n",
      "---Filtering & Referencing------------------------------------------\n",
      "---Artefact Removal - ICA ------------------------------------------\n"
     ]
    },
    {
     "name": "stderr",
     "output_type": "stream",
     "text": [
      "/var/folders/wd/rhzj_w8570g_y66t6j6mh4zw0000gn/T/ipykernel_84788/3464947669.py:45: UserWarning: High component rejection: 81.67% marked as non-brain.\n",
      "  warnings.warn(f\"High component rejection: {100 * ICA_rejection_level:.2f}% marked as non-brain.\", UserWarning)\n"
     ]
    },
    {
     "name": "stdout",
     "output_type": "stream",
     "text": [
      "\n",
      "-----------------------------------------------------------------------------------------------\n",
      "Subject: sub-099\n",
      "---Get EEG Raw Data - FIF -----------------------------------------\n",
      "Warning loading EEG data for subject sub-099: The data contains 'boundary' events, indicating data discontinuities. Be cautious of filtering and epoching around these events.\n",
      "Removing Annotations\n",
      "---Filtering & Referencing------------------------------------------\n",
      "---Artefact Removal - ICA ------------------------------------------\n"
     ]
    },
    {
     "name": "stderr",
     "output_type": "stream",
     "text": [
      "/var/folders/wd/rhzj_w8570g_y66t6j6mh4zw0000gn/T/ipykernel_84788/3464947669.py:45: UserWarning: High component rejection: 80.00% marked as non-brain.\n",
      "  warnings.warn(f\"High component rejection: {100 * ICA_rejection_level:.2f}% marked as non-brain.\", UserWarning)\n"
     ]
    },
    {
     "name": "stdout",
     "output_type": "stream",
     "text": [
      "Dropped 9 epochs: 20, 22, 23, 63, 64, 78, 79, 95, 120\n",
      "\n",
      "-----------------------------------------------------------------------------------------------\n",
      "Subject: sub-100\n",
      "---Get EEG Raw Data - FIF -----------------------------------------\n",
      "Warning loading EEG data for subject sub-100: The data contains 'boundary' events, indicating data discontinuities. Be cautious of filtering and epoching around these events.\n",
      "Removing Annotations\n",
      "---Filtering & Referencing------------------------------------------\n",
      "---Artefact Removal - ICA ------------------------------------------\n",
      "\n",
      "-----------------------------------------------------------------------------------------------\n",
      "Subject: sub-101\n",
      "---Get EEG Raw Data - FIF -----------------------------------------\n",
      "Warning loading EEG data for subject sub-101: The data contains 'boundary' events, indicating data discontinuities. Be cautious of filtering and epoching around these events.\n",
      "Removing Annotations\n",
      "---Filtering & Referencing------------------------------------------\n",
      "---Artefact Removal - ICA ------------------------------------------\n"
     ]
    },
    {
     "name": "stderr",
     "output_type": "stream",
     "text": [
      "/var/folders/wd/rhzj_w8570g_y66t6j6mh4zw0000gn/T/ipykernel_84788/3464947669.py:45: UserWarning: High component rejection: 80.65% marked as non-brain.\n",
      "  warnings.warn(f\"High component rejection: {100 * ICA_rejection_level:.2f}% marked as non-brain.\", UserWarning)\n"
     ]
    },
    {
     "name": "stdout",
     "output_type": "stream",
     "text": [
      "\n",
      "-----------------------------------------------------------------------------------------------\n",
      "Subject: sub-102\n",
      "---Get EEG Raw Data - FIF -----------------------------------------\n",
      "Warning loading EEG data for subject sub-102: The data contains 'boundary' events, indicating data discontinuities. Be cautious of filtering and epoching around these events.\n",
      "Removing Annotations\n",
      "---Filtering & Referencing------------------------------------------\n",
      "---Artefact Removal - ICA ------------------------------------------\n",
      "\n",
      "-----------------------------------------------------------------------------------------------\n",
      "Subject: sub-103\n",
      "---Get EEG Raw Data - FIF -----------------------------------------\n",
      "Warning loading EEG data for subject sub-103: The data contains 'boundary' events, indicating data discontinuities. Be cautious of filtering and epoching around these events.\n",
      "Removing Annotations\n",
      "---Filtering & Referencing------------------------------------------\n",
      "---Artefact Removal - ICA ------------------------------------------\n"
     ]
    },
    {
     "name": "stderr",
     "output_type": "stream",
     "text": [
      "/var/folders/wd/rhzj_w8570g_y66t6j6mh4zw0000gn/T/ipykernel_84788/3464947669.py:45: UserWarning: High component rejection: 90.00% marked as non-brain.\n",
      "  warnings.warn(f\"High component rejection: {100 * ICA_rejection_level:.2f}% marked as non-brain.\", UserWarning)\n"
     ]
    },
    {
     "name": "stdout",
     "output_type": "stream",
     "text": [
      "Dropped 1 epoch: 51\n",
      "\n",
      "-----------------------------------------------------------------------------------------------\n",
      "Subject: sub-104\n",
      "---Get EEG Raw Data - FIF -----------------------------------------\n",
      "Warning loading EEG data for subject sub-104: The data contains 'boundary' events, indicating data discontinuities. Be cautious of filtering and epoching around these events.\n",
      "Removing Annotations\n",
      "---Filtering & Referencing------------------------------------------\n",
      "---Artefact Removal - ICA ------------------------------------------\n",
      "Dropped 2 epochs: 114, 201\n",
      "\n",
      "-----------------------------------------------------------------------------------------------\n",
      "Subject: sub-105\n",
      "---Get EEG Raw Data - FIF -----------------------------------------\n",
      "Warning loading EEG data for subject sub-105: The data contains 'boundary' events, indicating data discontinuities. Be cautious of filtering and epoching around these events.\n",
      "Removing Annotations\n",
      "---Filtering & Referencing------------------------------------------\n",
      "---Artefact Removal - ICA ------------------------------------------\n"
     ]
    },
    {
     "name": "stderr",
     "output_type": "stream",
     "text": [
      "/var/folders/wd/rhzj_w8570g_y66t6j6mh4zw0000gn/T/ipykernel_84788/3464947669.py:45: UserWarning: High component rejection: 95.00% marked as non-brain.\n",
      "  warnings.warn(f\"High component rejection: {100 * ICA_rejection_level:.2f}% marked as non-brain.\", UserWarning)\n"
     ]
    },
    {
     "name": "stdout",
     "output_type": "stream",
     "text": [
      "\n",
      "-----------------------------------------------------------------------------------------------\n",
      "Subject: sub-106\n",
      "---Get EEG Raw Data - FIF -----------------------------------------\n",
      "Warning loading EEG data for subject sub-106: The data contains 'boundary' events, indicating data discontinuities. Be cautious of filtering and epoching around these events.\n",
      "Removing Annotations\n",
      "---Filtering & Referencing------------------------------------------\n",
      "---Artefact Removal - ICA ------------------------------------------\n",
      "\n",
      "-----------------------------------------------------------------------------------------------\n",
      "Subject: sub-107\n",
      "---Get EEG Raw Data - FIF -----------------------------------------\n",
      "Warning loading EEG data for subject sub-107: The data contains 'boundary' events, indicating data discontinuities. Be cautious of filtering and epoching around these events.\n",
      "Removing Annotations\n",
      "---Filtering & Referencing------------------------------------------\n",
      "---Artefact Removal - ICA ------------------------------------------\n",
      "\n",
      "-----------------------------------------------------------------------------------------------\n",
      "Subject: sub-108\n",
      "---Get EEG Raw Data - FIF -----------------------------------------\n",
      "Warning loading EEG data for subject sub-108: The data contains 'boundary' events, indicating data discontinuities. Be cautious of filtering and epoching around these events.\n",
      "Removing Annotations\n",
      "---Filtering & Referencing------------------------------------------\n",
      "---Artefact Removal - ICA ------------------------------------------\n"
     ]
    },
    {
     "name": "stderr",
     "output_type": "stream",
     "text": [
      "/var/folders/wd/rhzj_w8570g_y66t6j6mh4zw0000gn/T/ipykernel_84788/3464947669.py:45: UserWarning: High component rejection: 81.67% marked as non-brain.\n",
      "  warnings.warn(f\"High component rejection: {100 * ICA_rejection_level:.2f}% marked as non-brain.\", UserWarning)\n"
     ]
    },
    {
     "name": "stdout",
     "output_type": "stream",
     "text": [
      "\n",
      "-----------------------------------------------------------------------------------------------\n",
      "Subject: sub-109\n",
      "---Get EEG Raw Data - FIF -----------------------------------------\n",
      "Warning loading EEG data for subject sub-109: The data contains 'boundary' events, indicating data discontinuities. Be cautious of filtering and epoching around these events.\n",
      "Removing Annotations\n",
      "---Filtering & Referencing------------------------------------------\n",
      "---Artefact Removal - ICA ------------------------------------------\n",
      "\n",
      "-----------------------------------------------------------------------------------------------\n",
      "Subject: sub-110\n",
      "---Get EEG Raw Data - FIF -----------------------------------------\n",
      "Warning loading EEG data for subject sub-110: The data contains 'boundary' events, indicating data discontinuities. Be cautious of filtering and epoching around these events.\n",
      "Removing Annotations\n",
      "---Filtering & Referencing------------------------------------------\n",
      "---Artefact Removal - ICA ------------------------------------------\n",
      "\n",
      "-----------------------------------------------------------------------------------------------\n",
      "Subject: sub-111\n",
      "---Get EEG Raw Data - FIF -----------------------------------------\n",
      "Warning loading EEG data for subject sub-111: The data contains 'boundary' events, indicating data discontinuities. Be cautious of filtering and epoching around these events.\n",
      "Removing Annotations\n",
      "---Filtering & Referencing------------------------------------------\n",
      "---Artefact Removal - ICA ------------------------------------------\n"
     ]
    },
    {
     "name": "stderr",
     "output_type": "stream",
     "text": [
      "/var/folders/wd/rhzj_w8570g_y66t6j6mh4zw0000gn/T/ipykernel_84788/3464947669.py:45: UserWarning: High component rejection: 96.67% marked as non-brain.\n",
      "  warnings.warn(f\"High component rejection: {100 * ICA_rejection_level:.2f}% marked as non-brain.\", UserWarning)\n"
     ]
    },
    {
     "name": "stdout",
     "output_type": "stream",
     "text": [
      "Dropped 12 epochs: 1, 3, 5, 134, 135, 136, 184, 185, 203, 291, 314, 320\n",
      "\n",
      "-----------------------------------------------------------------------------------------------\n",
      "Subject: sub-112\n",
      "---Get EEG Raw Data - FIF -----------------------------------------\n",
      "Warning loading EEG data for subject sub-112: The data contains 'boundary' events, indicating data discontinuities. Be cautious of filtering and epoching around these events.\n",
      "Removing Annotations\n",
      "---Filtering & Referencing------------------------------------------\n",
      "---Artefact Removal - ICA ------------------------------------------\n"
     ]
    },
    {
     "name": "stderr",
     "output_type": "stream",
     "text": [
      "/var/folders/wd/rhzj_w8570g_y66t6j6mh4zw0000gn/T/ipykernel_84788/3464947669.py:45: UserWarning: High component rejection: 81.67% marked as non-brain.\n",
      "  warnings.warn(f\"High component rejection: {100 * ICA_rejection_level:.2f}% marked as non-brain.\", UserWarning)\n"
     ]
    },
    {
     "name": "stdout",
     "output_type": "stream",
     "text": [
      "Dropped 5 epochs: 45, 82, 83, 99, 100\n",
      "\n",
      "-----------------------------------------------------------------------------------------------\n",
      "Subject: sub-113\n",
      "---Get EEG Raw Data - FIF -----------------------------------------\n",
      "Warning loading EEG data for subject sub-113: The data contains 'boundary' events, indicating data discontinuities. Be cautious of filtering and epoching around these events.\n",
      "Removing Annotations\n",
      "---Filtering & Referencing------------------------------------------\n",
      "---Artefact Removal - ICA ------------------------------------------\n",
      "Dropped 10 epochs: 24, 81, 87, 89, 90, 91, 93, 96, 97, 119\n",
      "\n",
      "-----------------------------------------------------------------------------------------------\n",
      "Subject: sub-114\n",
      "---Get EEG Raw Data - FIF -----------------------------------------\n",
      "Warning loading EEG data for subject sub-114: The data contains 'boundary' events, indicating data discontinuities. Be cautious of filtering and epoching around these events.\n",
      "Removing Annotations\n",
      "---Filtering & Referencing------------------------------------------\n",
      "---Artefact Removal - ICA ------------------------------------------\n",
      "\n",
      "-----------------------------------------------------------------------------------------------\n",
      "Subject: sub-115\n",
      "---Get EEG Raw Data - FIF -----------------------------------------\n",
      "Warning loading EEG data for subject sub-115: The data contains 'boundary' events, indicating data discontinuities. Be cautious of filtering and epoching around these events.\n",
      "Removing Annotations\n",
      "---Filtering & Referencing------------------------------------------\n",
      "---Artefact Removal - ICA ------------------------------------------\n",
      "\n",
      "-----------------------------------------------------------------------------------------------\n",
      "Subject: sub-116\n",
      "---Get EEG Raw Data - FIF -----------------------------------------\n",
      "Warning loading EEG data for subject sub-116: The data contains 'boundary' events, indicating data discontinuities. Be cautious of filtering and epoching around these events.\n",
      "Removing Annotations\n",
      "---Filtering & Referencing------------------------------------------\n",
      "---Artefact Removal - ICA ------------------------------------------\n"
     ]
    },
    {
     "name": "stderr",
     "output_type": "stream",
     "text": [
      "/var/folders/wd/rhzj_w8570g_y66t6j6mh4zw0000gn/T/ipykernel_84788/3464947669.py:45: UserWarning: High component rejection: 88.33% marked as non-brain.\n",
      "  warnings.warn(f\"High component rejection: {100 * ICA_rejection_level:.2f}% marked as non-brain.\", UserWarning)\n"
     ]
    },
    {
     "name": "stdout",
     "output_type": "stream",
     "text": [
      "\n",
      "-----------------------------------------------------------------------------------------------\n",
      "Subject: sub-117\n",
      "---Get EEG Raw Data - FIF -----------------------------------------\n",
      "Warning loading EEG data for subject sub-117: The data contains 'boundary' events, indicating data discontinuities. Be cautious of filtering and epoching around these events.\n",
      "Removing Annotations\n",
      "---Filtering & Referencing------------------------------------------\n",
      "---Artefact Removal - ICA ------------------------------------------\n"
     ]
    },
    {
     "name": "stderr",
     "output_type": "stream",
     "text": [
      "/var/folders/wd/rhzj_w8570g_y66t6j6mh4zw0000gn/T/ipykernel_84788/3464947669.py:45: UserWarning: High component rejection: 88.33% marked as non-brain.\n",
      "  warnings.warn(f\"High component rejection: {100 * ICA_rejection_level:.2f}% marked as non-brain.\", UserWarning)\n"
     ]
    },
    {
     "name": "stdout",
     "output_type": "stream",
     "text": [
      "\n",
      "-----------------------------------------------------------------------------------------------\n",
      "Subject: sub-118\n",
      "---Get EEG Raw Data - FIF -----------------------------------------\n",
      "Warning loading EEG data for subject sub-118: The data contains 'boundary' events, indicating data discontinuities. Be cautious of filtering and epoching around these events.\n",
      "Removing Annotations\n",
      "---Filtering & Referencing------------------------------------------\n",
      "---Artefact Removal - ICA ------------------------------------------\n"
     ]
    },
    {
     "name": "stderr",
     "output_type": "stream",
     "text": [
      "/var/folders/wd/rhzj_w8570g_y66t6j6mh4zw0000gn/T/ipykernel_84788/3464947669.py:45: UserWarning: High component rejection: 81.67% marked as non-brain.\n",
      "  warnings.warn(f\"High component rejection: {100 * ICA_rejection_level:.2f}% marked as non-brain.\", UserWarning)\n"
     ]
    },
    {
     "name": "stdout",
     "output_type": "stream",
     "text": [
      "Dropped 1 epoch: 179\n",
      "\n",
      "-----------------------------------------------------------------------------------------------\n",
      "Subject: sub-119\n",
      "---Get EEG Raw Data - FIF -----------------------------------------\n",
      "Warning loading EEG data for subject sub-119: The data contains 'boundary' events, indicating data discontinuities. Be cautious of filtering and epoching around these events.\n",
      "Removing Annotations\n",
      "---Filtering & Referencing------------------------------------------\n",
      "---Artefact Removal - ICA ------------------------------------------\n",
      "\n",
      "-----------------------------------------------------------------------------------------------\n",
      "Subject: sub-120\n",
      "---Get EEG Raw Data - FIF -----------------------------------------\n",
      "Warning loading EEG data for subject sub-120: The data contains 'boundary' events, indicating data discontinuities. Be cautious of filtering and epoching around these events.\n",
      "Removing Annotations\n",
      "---Filtering & Referencing------------------------------------------\n",
      "---Artefact Removal - ICA ------------------------------------------\n"
     ]
    },
    {
     "name": "stderr",
     "output_type": "stream",
     "text": [
      "/var/folders/wd/rhzj_w8570g_y66t6j6mh4zw0000gn/T/ipykernel_84788/3464947669.py:45: UserWarning: High component rejection: 81.67% marked as non-brain.\n",
      "  warnings.warn(f\"High component rejection: {100 * ICA_rejection_level:.2f}% marked as non-brain.\", UserWarning)\n"
     ]
    },
    {
     "name": "stdout",
     "output_type": "stream",
     "text": [
      "\n",
      "-----------------------------------------------------------------------------------------------\n",
      "Subject: sub-121\n",
      "---Get EEG Raw Data - FIF -----------------------------------------\n",
      "Warning loading EEG data for subject sub-121: The data contains 'boundary' events, indicating data discontinuities. Be cautious of filtering and epoching around these events.\n",
      "Removing Annotations\n",
      "---Filtering & Referencing------------------------------------------\n",
      "---Artefact Removal - ICA ------------------------------------------\n"
     ]
    },
    {
     "name": "stderr",
     "output_type": "stream",
     "text": [
      "/var/folders/wd/rhzj_w8570g_y66t6j6mh4zw0000gn/T/ipykernel_84788/3464947669.py:45: UserWarning: High component rejection: 98.33% marked as non-brain.\n",
      "  warnings.warn(f\"High component rejection: {100 * ICA_rejection_level:.2f}% marked as non-brain.\", UserWarning)\n"
     ]
    },
    {
     "name": "stdout",
     "output_type": "stream",
     "text": [
      "\n",
      "-----------------------------------------------------------------------------------------------\n",
      "Subject: sub-122\n",
      "---Get EEG Raw Data - FIF -----------------------------------------\n",
      "Warning loading EEG data for subject sub-122: The data contains 'boundary' events, indicating data discontinuities. Be cautious of filtering and epoching around these events.\n",
      "Removing Annotations\n",
      "---Filtering & Referencing------------------------------------------\n",
      "---Artefact Removal - ICA ------------------------------------------\n"
     ]
    },
    {
     "name": "stderr",
     "output_type": "stream",
     "text": [
      "/var/folders/wd/rhzj_w8570g_y66t6j6mh4zw0000gn/T/ipykernel_84788/3464947669.py:45: UserWarning: High component rejection: 95.00% marked as non-brain.\n",
      "  warnings.warn(f\"High component rejection: {100 * ICA_rejection_level:.2f}% marked as non-brain.\", UserWarning)\n"
     ]
    },
    {
     "name": "stdout",
     "output_type": "stream",
     "text": [
      "Dropped 1 epoch: 113\n",
      "\n",
      "-----------------------------------------------------------------------------------------------\n",
      "Subject: sub-123\n",
      "---Get EEG Raw Data - FIF -----------------------------------------\n",
      "Warning loading EEG data for subject sub-123: The data contains 'boundary' events, indicating data discontinuities. Be cautious of filtering and epoching around these events.\n",
      "Removing Annotations\n",
      "---Filtering & Referencing------------------------------------------\n",
      "---Artefact Removal - ICA ------------------------------------------\n"
     ]
    },
    {
     "name": "stderr",
     "output_type": "stream",
     "text": [
      "/var/folders/wd/rhzj_w8570g_y66t6j6mh4zw0000gn/T/ipykernel_84788/3464947669.py:45: UserWarning: High component rejection: 96.67% marked as non-brain.\n",
      "  warnings.warn(f\"High component rejection: {100 * ICA_rejection_level:.2f}% marked as non-brain.\", UserWarning)\n"
     ]
    },
    {
     "name": "stdout",
     "output_type": "stream",
     "text": [
      "Dropped 1 epoch: 150\n",
      "\n",
      "-----------------------------------------------------------------------------------------------\n",
      "Subject: sub-124\n",
      "---Get EEG Raw Data - FIF -----------------------------------------\n",
      "Warning loading EEG data for subject sub-124: The data contains 'boundary' events, indicating data discontinuities. Be cautious of filtering and epoching around these events.\n",
      "Removing Annotations\n",
      "---Filtering & Referencing------------------------------------------\n",
      "---Artefact Removal - ICA ------------------------------------------\n"
     ]
    },
    {
     "name": "stderr",
     "output_type": "stream",
     "text": [
      "/var/folders/wd/rhzj_w8570g_y66t6j6mh4zw0000gn/T/ipykernel_84788/3464947669.py:45: UserWarning: High component rejection: 91.67% marked as non-brain.\n",
      "  warnings.warn(f\"High component rejection: {100 * ICA_rejection_level:.2f}% marked as non-brain.\", UserWarning)\n"
     ]
    },
    {
     "name": "stdout",
     "output_type": "stream",
     "text": [
      "\n",
      "-----------------------------------------------------------------------------------------------\n",
      "Subject: sub-125\n",
      "---Get EEG Raw Data - FIF -----------------------------------------\n",
      "Warning loading EEG data for subject sub-125: The data contains 'boundary' events, indicating data discontinuities. Be cautious of filtering and epoching around these events.\n",
      "Removing Annotations\n",
      "---Filtering & Referencing------------------------------------------\n",
      "---Artefact Removal - ICA ------------------------------------------\n"
     ]
    },
    {
     "name": "stderr",
     "output_type": "stream",
     "text": [
      "/var/folders/wd/rhzj_w8570g_y66t6j6mh4zw0000gn/T/ipykernel_84788/3464947669.py:45: UserWarning: High component rejection: 93.33% marked as non-brain.\n",
      "  warnings.warn(f\"High component rejection: {100 * ICA_rejection_level:.2f}% marked as non-brain.\", UserWarning)\n"
     ]
    },
    {
     "name": "stdout",
     "output_type": "stream",
     "text": [
      "\n",
      "-----------------------------------------------------------------------------------------------\n",
      "Subject: sub-126\n",
      "---Get EEG Raw Data - FIF -----------------------------------------\n",
      "Warning loading EEG data for subject sub-126: The data contains 'boundary' events, indicating data discontinuities. Be cautious of filtering and epoching around these events.\n",
      "Removing Annotations\n",
      "---Filtering & Referencing------------------------------------------\n",
      "---Artefact Removal - ICA ------------------------------------------\n"
     ]
    },
    {
     "name": "stderr",
     "output_type": "stream",
     "text": [
      "/var/folders/wd/rhzj_w8570g_y66t6j6mh4zw0000gn/T/ipykernel_84788/3464947669.py:45: UserWarning: High component rejection: 83.33% marked as non-brain.\n",
      "  warnings.warn(f\"High component rejection: {100 * ICA_rejection_level:.2f}% marked as non-brain.\", UserWarning)\n"
     ]
    },
    {
     "name": "stdout",
     "output_type": "stream",
     "text": [
      "Dropped 6 epochs: 35, 36, 37, 154, 155, 157\n",
      "\n",
      "-----------------------------------------------------------------------------------------------\n",
      "Subject: sub-127\n",
      "---Get EEG Raw Data - FIF -----------------------------------------\n",
      "Warning loading EEG data for subject sub-127: The data contains 'boundary' events, indicating data discontinuities. Be cautious of filtering and epoching around these events.\n",
      "Removing Annotations\n",
      "---Filtering & Referencing------------------------------------------\n",
      "---Artefact Removal - ICA ------------------------------------------\n"
     ]
    },
    {
     "name": "stderr",
     "output_type": "stream",
     "text": [
      "/var/folders/wd/rhzj_w8570g_y66t6j6mh4zw0000gn/T/ipykernel_84788/3464947669.py:45: UserWarning: High component rejection: 91.67% marked as non-brain.\n",
      "  warnings.warn(f\"High component rejection: {100 * ICA_rejection_level:.2f}% marked as non-brain.\", UserWarning)\n"
     ]
    },
    {
     "name": "stdout",
     "output_type": "stream",
     "text": [
      "\n",
      "-----------------------------------------------------------------------------------------------\n",
      "Subject: sub-128\n",
      "---Get EEG Raw Data - FIF -----------------------------------------\n",
      "Warning loading EEG data for subject sub-128: The data contains 'boundary' events, indicating data discontinuities. Be cautious of filtering and epoching around these events.\n",
      "Removing Annotations\n",
      "---Filtering & Referencing------------------------------------------\n",
      "---Artefact Removal - ICA ------------------------------------------\n",
      "\n",
      "-----------------------------------------------------------------------------------------------\n",
      "Subject: sub-129\n",
      "---Get EEG Raw Data - FIF -----------------------------------------\n",
      "Warning loading EEG data for subject sub-129: The data contains 'boundary' events, indicating data discontinuities. Be cautious of filtering and epoching around these events.\n",
      "Removing Annotations\n",
      "---Filtering & Referencing------------------------------------------\n",
      "---Artefact Removal - ICA ------------------------------------------\n"
     ]
    },
    {
     "name": "stderr",
     "output_type": "stream",
     "text": [
      "/var/folders/wd/rhzj_w8570g_y66t6j6mh4zw0000gn/T/ipykernel_84788/3464947669.py:45: UserWarning: High component rejection: 93.33% marked as non-brain.\n",
      "  warnings.warn(f\"High component rejection: {100 * ICA_rejection_level:.2f}% marked as non-brain.\", UserWarning)\n"
     ]
    },
    {
     "name": "stdout",
     "output_type": "stream",
     "text": [
      "\n",
      "-----------------------------------------------------------------------------------------------\n",
      "Subject: sub-130\n",
      "---Get EEG Raw Data - FIF -----------------------------------------\n",
      "Warning loading EEG data for subject sub-130: The data contains 'boundary' events, indicating data discontinuities. Be cautious of filtering and epoching around these events.\n",
      "Removing Annotations\n",
      "---Filtering & Referencing------------------------------------------\n",
      "---Artefact Removal - ICA ------------------------------------------\n"
     ]
    },
    {
     "name": "stderr",
     "output_type": "stream",
     "text": [
      "/var/folders/wd/rhzj_w8570g_y66t6j6mh4zw0000gn/T/ipykernel_84788/3464947669.py:45: UserWarning: High component rejection: 96.67% marked as non-brain.\n",
      "  warnings.warn(f\"High component rejection: {100 * ICA_rejection_level:.2f}% marked as non-brain.\", UserWarning)\n"
     ]
    },
    {
     "name": "stdout",
     "output_type": "stream",
     "text": [
      "\n",
      "-----------------------------------------------------------------------------------------------\n",
      "Subject: sub-131\n",
      "---Get EEG Raw Data - FIF -----------------------------------------\n",
      "Warning loading EEG data for subject sub-131: The data contains 'boundary' events, indicating data discontinuities. Be cautious of filtering and epoching around these events.\n",
      "Removing Annotations\n",
      "---Filtering & Referencing------------------------------------------\n",
      "---Artefact Removal - ICA ------------------------------------------\n"
     ]
    },
    {
     "name": "stderr",
     "output_type": "stream",
     "text": [
      "/var/folders/wd/rhzj_w8570g_y66t6j6mh4zw0000gn/T/ipykernel_84788/3464947669.py:45: UserWarning: High component rejection: 86.67% marked as non-brain.\n",
      "  warnings.warn(f\"High component rejection: {100 * ICA_rejection_level:.2f}% marked as non-brain.\", UserWarning)\n"
     ]
    },
    {
     "name": "stdout",
     "output_type": "stream",
     "text": [
      "\n",
      "-----------------------------------------------------------------------------------------------\n",
      "Subject: sub-132\n",
      "---Get EEG Raw Data - FIF -----------------------------------------\n",
      "Warning loading EEG data for subject sub-132: The data contains 'boundary' events, indicating data discontinuities. Be cautious of filtering and epoching around these events.\n",
      "Removing Annotations\n",
      "---Filtering & Referencing------------------------------------------\n",
      "---Artefact Removal - ICA ------------------------------------------\n",
      "Dropped 2 epochs: 131, 149\n",
      "\n",
      "-----------------------------------------------------------------------------------------------\n",
      "Subject: sub-133\n",
      "---Get EEG Raw Data - FIF -----------------------------------------\n",
      "Warning loading EEG data for subject sub-133: The data contains 'boundary' events, indicating data discontinuities. Be cautious of filtering and epoching around these events.\n",
      "Removing Annotations\n",
      "---Filtering & Referencing------------------------------------------\n",
      "---Artefact Removal - ICA ------------------------------------------\n"
     ]
    },
    {
     "name": "stderr",
     "output_type": "stream",
     "text": [
      "/var/folders/wd/rhzj_w8570g_y66t6j6mh4zw0000gn/T/ipykernel_84788/3464947669.py:45: UserWarning: High component rejection: 81.67% marked as non-brain.\n",
      "  warnings.warn(f\"High component rejection: {100 * ICA_rejection_level:.2f}% marked as non-brain.\", UserWarning)\n"
     ]
    },
    {
     "name": "stdout",
     "output_type": "stream",
     "text": [
      "\n",
      "-----------------------------------------------------------------------------------------------\n",
      "Subject: sub-134\n",
      "---Get EEG Raw Data - FIF -----------------------------------------\n",
      "Warning loading EEG data for subject sub-134: The data contains 'boundary' events, indicating data discontinuities. Be cautious of filtering and epoching around these events.\n",
      "Removing Annotations\n",
      "---Filtering & Referencing------------------------------------------\n",
      "---Artefact Removal - ICA ------------------------------------------\n"
     ]
    },
    {
     "name": "stderr",
     "output_type": "stream",
     "text": [
      "/var/folders/wd/rhzj_w8570g_y66t6j6mh4zw0000gn/T/ipykernel_84788/3464947669.py:45: UserWarning: High component rejection: 81.67% marked as non-brain.\n",
      "  warnings.warn(f\"High component rejection: {100 * ICA_rejection_level:.2f}% marked as non-brain.\", UserWarning)\n"
     ]
    },
    {
     "name": "stdout",
     "output_type": "stream",
     "text": [
      "Dropped 8 epochs: 24, 90, 100, 101, 102, 107, 118, 119\n",
      "\n",
      "-----------------------------------------------------------------------------------------------\n",
      "Subject: sub-135\n",
      "---Get EEG Raw Data - FIF -----------------------------------------\n",
      "Warning loading EEG data for subject sub-135: The data contains 'boundary' events, indicating data discontinuities. Be cautious of filtering and epoching around these events.\n",
      "Removing Annotations\n",
      "---Filtering & Referencing------------------------------------------\n",
      "---Artefact Removal - ICA ------------------------------------------\n",
      "\n",
      "-----------------------------------------------------------------------------------------------\n",
      "Subject: sub-136\n",
      "---Get EEG Raw Data - FIF -----------------------------------------\n",
      "Warning loading EEG data for subject sub-136: The data contains 'boundary' events, indicating data discontinuities. Be cautious of filtering and epoching around these events.\n",
      "Removing Annotations\n",
      "---Filtering & Referencing------------------------------------------\n",
      "---Artefact Removal - ICA ------------------------------------------\n",
      "\n",
      "-----------------------------------------------------------------------------------------------\n",
      "Subject: sub-137\n",
      "---Get EEG Raw Data - FIF -----------------------------------------\n",
      "Warning loading EEG data for subject sub-137: The data contains 'boundary' events, indicating data discontinuities. Be cautious of filtering and epoching around these events.\n",
      "Removing Annotations\n",
      "---Filtering & Referencing------------------------------------------\n",
      "---Artefact Removal - ICA ------------------------------------------\n",
      "Dropped 3 epochs: 67, 72, 90\n",
      "\n",
      "-----------------------------------------------------------------------------------------------\n",
      "Subject: sub-138\n",
      "---Get EEG Raw Data - FIF -----------------------------------------\n",
      "Warning loading EEG data for subject sub-138: The data contains 'boundary' events, indicating data discontinuities. Be cautious of filtering and epoching around these events.\n",
      "Removing Annotations\n",
      "---Filtering & Referencing------------------------------------------\n",
      "---Artefact Removal - ICA ------------------------------------------\n",
      "\n",
      "-----------------------------------------------------------------------------------------------\n",
      "Subject: sub-139\n",
      "---Get EEG Raw Data - FIF -----------------------------------------\n",
      "Warning loading EEG data for subject sub-139: The data contains 'boundary' events, indicating data discontinuities. Be cautious of filtering and epoching around these events.\n",
      "Removing Annotations\n",
      "---Filtering & Referencing------------------------------------------\n",
      "---Artefact Removal - ICA ------------------------------------------\n"
     ]
    },
    {
     "name": "stderr",
     "output_type": "stream",
     "text": [
      "/var/folders/wd/rhzj_w8570g_y66t6j6mh4zw0000gn/T/ipykernel_84788/3464947669.py:45: UserWarning: High component rejection: 91.67% marked as non-brain.\n",
      "  warnings.warn(f\"High component rejection: {100 * ICA_rejection_level:.2f}% marked as non-brain.\", UserWarning)\n"
     ]
    },
    {
     "name": "stdout",
     "output_type": "stream",
     "text": [
      "\n",
      "-----------------------------------------------------------------------------------------------\n",
      "Subject: sub-140\n",
      "---Get EEG Raw Data - FIF -----------------------------------------\n",
      "Warning loading EEG data for subject sub-140: The data contains 'boundary' events, indicating data discontinuities. Be cautious of filtering and epoching around these events.\n",
      "Removing Annotations\n",
      "---Filtering & Referencing------------------------------------------\n",
      "---Artefact Removal - ICA ------------------------------------------\n"
     ]
    },
    {
     "name": "stderr",
     "output_type": "stream",
     "text": [
      "/var/folders/wd/rhzj_w8570g_y66t6j6mh4zw0000gn/T/ipykernel_84788/3464947669.py:45: UserWarning: High component rejection: 98.33% marked as non-brain.\n",
      "  warnings.warn(f\"High component rejection: {100 * ICA_rejection_level:.2f}% marked as non-brain.\", UserWarning)\n"
     ]
    },
    {
     "name": "stdout",
     "output_type": "stream",
     "text": [
      "\n",
      "-----------------------------------------------------------------------------------------------\n",
      "Subject: sub-141\n",
      "---Get EEG Raw Data - FIF -----------------------------------------\n",
      "Warning loading EEG data for subject sub-141: The data contains 'boundary' events, indicating data discontinuities. Be cautious of filtering and epoching around these events.\n",
      "Removing Annotations\n",
      "---Filtering & Referencing------------------------------------------\n",
      "---Artefact Removal - ICA ------------------------------------------\n",
      "Dropped 1 epoch: 112\n",
      "\n",
      "-----------------------------------------------------------------------------------------------\n",
      "Subject: sub-142\n",
      "---Get EEG Raw Data - FIF -----------------------------------------\n",
      "Warning loading EEG data for subject sub-142: The data contains 'boundary' events, indicating data discontinuities. Be cautious of filtering and epoching around these events.\n",
      "Removing Annotations\n",
      "---Filtering & Referencing------------------------------------------\n",
      "---Artefact Removal - ICA ------------------------------------------\n"
     ]
    },
    {
     "name": "stderr",
     "output_type": "stream",
     "text": [
      "/var/folders/wd/rhzj_w8570g_y66t6j6mh4zw0000gn/T/ipykernel_84788/3464947669.py:45: UserWarning: High component rejection: 88.33% marked as non-brain.\n",
      "  warnings.warn(f\"High component rejection: {100 * ICA_rejection_level:.2f}% marked as non-brain.\", UserWarning)\n"
     ]
    },
    {
     "name": "stdout",
     "output_type": "stream",
     "text": [
      "\n",
      "-----------------------------------------------------------------------------------------------\n",
      "Subject: sub-143\n",
      "---Get EEG Raw Data - FIF -----------------------------------------\n",
      "Warning loading EEG data for subject sub-143: The data contains 'boundary' events, indicating data discontinuities. Be cautious of filtering and epoching around these events.\n",
      "Removing Annotations\n",
      "---Filtering & Referencing------------------------------------------\n",
      "---Artefact Removal - ICA ------------------------------------------\n",
      "\n",
      "-----------------------------------------------------------------------------------------------\n",
      "Subject: sub-144\n",
      "---Get EEG Raw Data - FIF -----------------------------------------\n",
      "Warning loading EEG data for subject sub-144: The data contains 'boundary' events, indicating data discontinuities. Be cautious of filtering and epoching around these events.\n",
      "Removing Annotations\n",
      "---Filtering & Referencing------------------------------------------\n",
      "---Artefact Removal - ICA ------------------------------------------\n"
     ]
    },
    {
     "name": "stderr",
     "output_type": "stream",
     "text": [
      "/var/folders/wd/rhzj_w8570g_y66t6j6mh4zw0000gn/T/ipykernel_84788/3464947669.py:45: UserWarning: High component rejection: 85.00% marked as non-brain.\n",
      "  warnings.warn(f\"High component rejection: {100 * ICA_rejection_level:.2f}% marked as non-brain.\", UserWarning)\n"
     ]
    },
    {
     "name": "stdout",
     "output_type": "stream",
     "text": [
      "\n",
      "-----------------------------------------------------------------------------------------------\n",
      "Subject: sub-145\n",
      "---Get EEG Raw Data - FIF -----------------------------------------\n",
      "Warning loading EEG data for subject sub-145: The data contains 'boundary' events, indicating data discontinuities. Be cautious of filtering and epoching around these events.\n",
      "Removing Annotations\n",
      "---Filtering & Referencing------------------------------------------\n",
      "---Artefact Removal - ICA ------------------------------------------\n"
     ]
    },
    {
     "name": "stderr",
     "output_type": "stream",
     "text": [
      "/var/folders/wd/rhzj_w8570g_y66t6j6mh4zw0000gn/T/ipykernel_84788/3464947669.py:45: UserWarning: High component rejection: 93.33% marked as non-brain.\n",
      "  warnings.warn(f\"High component rejection: {100 * ICA_rejection_level:.2f}% marked as non-brain.\", UserWarning)\n"
     ]
    },
    {
     "name": "stdout",
     "output_type": "stream",
     "text": [
      "\n",
      "-----------------------------------------------------------------------------------------------\n",
      "Subject: sub-146\n",
      "---Get EEG Raw Data - FIF -----------------------------------------\n",
      "Warning loading EEG data for subject sub-146: The data contains 'boundary' events, indicating data discontinuities. Be cautious of filtering and epoching around these events.\n",
      "Removing Annotations\n",
      "---Filtering & Referencing------------------------------------------\n",
      "---Artefact Removal - ICA ------------------------------------------\n"
     ]
    },
    {
     "name": "stderr",
     "output_type": "stream",
     "text": [
      "/var/folders/wd/rhzj_w8570g_y66t6j6mh4zw0000gn/T/ipykernel_84788/3464947669.py:45: UserWarning: High component rejection: 93.33% marked as non-brain.\n",
      "  warnings.warn(f\"High component rejection: {100 * ICA_rejection_level:.2f}% marked as non-brain.\", UserWarning)\n"
     ]
    },
    {
     "name": "stdout",
     "output_type": "stream",
     "text": [
      "\n",
      "-----------------------------------------------------------------------------------------------\n",
      "Subject: sub-147\n",
      "---Get EEG Raw Data - FIF -----------------------------------------\n",
      "Warning loading EEG data for subject sub-147: The data contains 'boundary' events, indicating data discontinuities. Be cautious of filtering and epoching around these events.\n",
      "Removing Annotations\n",
      "---Filtering & Referencing------------------------------------------\n",
      "---Artefact Removal - ICA ------------------------------------------\n",
      "\n",
      "-----------------------------------------------------------------------------------------------\n",
      "Subject: sub-148\n",
      "---Get EEG Raw Data - FIF -----------------------------------------\n",
      "Warning loading EEG data for subject sub-148: The data contains 'boundary' events, indicating data discontinuities. Be cautious of filtering and epoching around these events.\n",
      "Removing Annotations\n",
      "---Filtering & Referencing------------------------------------------\n",
      "---Artefact Removal - ICA ------------------------------------------\n",
      "\n",
      "-----------------------------------------------------------------------------------------------\n",
      "Subject: sub-149\n",
      "---Get EEG Raw Data - FIF -----------------------------------------\n",
      "Warning loading EEG data for subject sub-149: The data contains 'boundary' events, indicating data discontinuities. Be cautious of filtering and epoching around these events.\n",
      "Removing Annotations\n",
      "---Filtering & Referencing------------------------------------------\n",
      "---Artefact Removal - ICA ------------------------------------------\n"
     ]
    },
    {
     "name": "stderr",
     "output_type": "stream",
     "text": [
      "/var/folders/wd/rhzj_w8570g_y66t6j6mh4zw0000gn/T/ipykernel_84788/3464947669.py:45: UserWarning: High component rejection: 93.33% marked as non-brain.\n",
      "  warnings.warn(f\"High component rejection: {100 * ICA_rejection_level:.2f}% marked as non-brain.\", UserWarning)\n"
     ]
    }
   ],
   "source": [
    "# Run all the steps for EEG preprocessing\n",
    "#\n",
    "\n",
    "# Start Trace\n",
    "summary = f'EEG Preprocessing'\n",
    "summary = summary + f\"\\n- Study: {study_info['study_name']} {study_info['dataset_ref']}\"\n",
    "summary = summary + f\"\\n- Run: {run_details['run_name']}\"\n",
    "summary = summary + f\"\\n- Data Source: {run_details['data_source']} \"\n",
    "summary = summary + f\"\\n- Preprocessing Params: {preprocess_params}\"\n",
    "summary = summary + f\"\\n- Artefact Removal Params: {artefact_params}\"\n",
    "print(summary)\n",
    "\n",
    "# Initialize AutoReject\n",
    "# TODO: Which initiailisation to use?\n",
    "ar_model = AutoReject(cv=3, n_interpolate=[1, 4, 8, 16], \n",
    "                      consensus=[0.5, 1], \n",
    "                      thresh_method='bayesian_optimization',\n",
    "                      random_state=42, n_jobs=-1, verbose=VERBOSE)\n",
    "# ar_model = AutoReject(n_interpolate=[1, 2, 4], random_state=42, n_jobs=-1, verbose=VERBOSE)\n",
    "\n",
    "# Loop through all selected subjects in the study\n",
    "for idx, subject in study_subjects_df.iterrows():\n",
    "\n",
    "    # Just sample a subset of subjects when in test mode\n",
    "    if test_mode and idx not in test_subjects:\n",
    "        continue\n",
    "\n",
    "    subject_id = subject['subject_id']\n",
    "    print('\\n-----------------------------------------------------------------------------------------------')\n",
    "    print(f'Subject: {subject_id}')\n",
    "\n",
    "    # # 1. EEG Raw Dataset Load\n",
    "    # #\n",
    "    # print('---Get EEG Raw Data - FIF -----------------------------------------')\n",
    "    # EEG_raw_files = get_EEG_raw(study_info['dataset_path'], subject_id)\n",
    "    # # TODO: How to handle multiple session EEG raw files?\n",
    "    # EEG_raw = EEG_raw_files[0]\n",
    "\n",
    "    # save_folder_path = utils.extend_folder_path(run_results_path, 'EEG_1_raw_files')\n",
    "    # save_EEG_for_subject(EEG_raw, save_folder_path, subject_id, tag='source')\n",
    "\n",
    "    # if VERBOSE:\n",
    "    #     print(f\"Description: {EEG_raw.info['description']} on {EEG_raw.info['meas_date']}\")\n",
    "    #     print(EEG_raw)\n",
    "    #     print(EEG_raw.info)\n",
    "    #     plot_EEG_TD(EEG_raw, test_channels)\n",
    "    \n",
    "    # 2. EEG Filtering & Referencing\n",
    "    #\n",
    "    print('---Filtering & Referencing------------------------------------------')\n",
    "    EEG_filtered = perform_EEG_filtering(preprocess_params, EEG_raw)\n",
    "\n",
    "    save_folder_path = utils.extend_folder_path(run_results_path, 'EEG_2_cleaned_files')\n",
    "    save_EEG_for_subject(EEG_filtered, save_folder_path, subject_id, tag='filtered')\n",
    "\n",
    "    if VERBOSE:\n",
    "        plot_EEG_TD(EEG_filtered, test_channels)\n",
    "\n",
    "    # 3. Artefact Removal with ICA etc\n",
    "    #\n",
    "    print('---Artefact Removal - ICA ------------------------------------------')\n",
    "    artefact_results, EEG_cleaned = perform_artefact_removal(artefact_params, EEG_filtered)\n",
    "\n",
    "    save_folder_path = utils.extend_folder_path(run_results_path, 'EEG_2_cleaned_files')\n",
    "    save_EEG_for_subject(EEG_cleaned, save_folder_path, subject_id, tag='preprocessed', epoched=True)\n",
    "    artefact_results.to_pickle(save_folder_path + f'/{subject_id}_preprocessing_results.pkl', compression='zip')\n",
    "\n",
    "    if VERBOSE:\n",
    "        # plot_EEG_TD(EEG_cleaned, test_channels)\n",
    "        print(f'Temp .... {EEG_cleaned}, \\n{artefact_results}')\n",
    "\n"
   ]
  }
 ],
 "metadata": {
  "kernelspec": {
   "display_name": "eeg_ml_pipeline_v2",
   "language": "python",
   "name": "python3"
  },
  "language_info": {
   "codemirror_mode": {
    "name": "ipython",
    "version": 3
   },
   "file_extension": ".py",
   "mimetype": "text/x-python",
   "name": "python",
   "nbconvert_exporter": "python",
   "pygments_lexer": "ipython3",
   "version": "3.11.13"
  }
 },
 "nbformat": 4,
 "nbformat_minor": 5
}
